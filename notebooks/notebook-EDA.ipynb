{
 "cells": [
  {
   "cell_type": "code",
   "execution_count": 15,
   "metadata": {},
   "outputs": [],
   "source": [
    "import os\n",
    "\n",
    "import numpy as np # linear algebra\n",
    "import pandas as pd # data processing, CSV file I/O (e.g. pd.read_csv)\n",
    "import matplotlib.pyplot as plt\n",
    "import seaborn as sns"
   ]
  },
  {
   "cell_type": "markdown",
   "metadata": {},
   "source": [
    "# Exploración de los tiempos de erupción"
   ]
  },
  {
   "cell_type": "code",
   "execution_count": 16,
   "metadata": {},
   "outputs": [
    {
     "data": {
      "text/html": [
       "<div>\n",
       "<style scoped>\n",
       "    .dataframe tbody tr th:only-of-type {\n",
       "        vertical-align: middle;\n",
       "    }\n",
       "\n",
       "    .dataframe tbody tr th {\n",
       "        vertical-align: top;\n",
       "    }\n",
       "\n",
       "    .dataframe thead th {\n",
       "        text-align: right;\n",
       "    }\n",
       "</style>\n",
       "<table border=\"1\" class=\"dataframe\">\n",
       "  <thead>\n",
       "    <tr style=\"text-align: right;\">\n",
       "      <th></th>\n",
       "      <th>segment_id</th>\n",
       "      <th>time_to_eruption</th>\n",
       "    </tr>\n",
       "  </thead>\n",
       "  <tbody>\n",
       "    <tr>\n",
       "      <th>0</th>\n",
       "      <td>1136037770</td>\n",
       "      <td>12262005</td>\n",
       "    </tr>\n",
       "    <tr>\n",
       "      <th>1</th>\n",
       "      <td>1969647810</td>\n",
       "      <td>32739612</td>\n",
       "    </tr>\n",
       "    <tr>\n",
       "      <th>2</th>\n",
       "      <td>1895879680</td>\n",
       "      <td>14965999</td>\n",
       "    </tr>\n",
       "    <tr>\n",
       "      <th>3</th>\n",
       "      <td>2068207140</td>\n",
       "      <td>26469720</td>\n",
       "    </tr>\n",
       "    <tr>\n",
       "      <th>4</th>\n",
       "      <td>192955606</td>\n",
       "      <td>31072429</td>\n",
       "    </tr>\n",
       "    <tr>\n",
       "      <th>...</th>\n",
       "      <td>...</td>\n",
       "      <td>...</td>\n",
       "    </tr>\n",
       "    <tr>\n",
       "      <th>4426</th>\n",
       "      <td>873340274</td>\n",
       "      <td>15695097</td>\n",
       "    </tr>\n",
       "    <tr>\n",
       "      <th>4427</th>\n",
       "      <td>1297437712</td>\n",
       "      <td>35659379</td>\n",
       "    </tr>\n",
       "    <tr>\n",
       "      <th>4428</th>\n",
       "      <td>694853998</td>\n",
       "      <td>31206935</td>\n",
       "    </tr>\n",
       "    <tr>\n",
       "      <th>4429</th>\n",
       "      <td>1886987043</td>\n",
       "      <td>9598270</td>\n",
       "    </tr>\n",
       "    <tr>\n",
       "      <th>4430</th>\n",
       "      <td>1100632800</td>\n",
       "      <td>20128938</td>\n",
       "    </tr>\n",
       "  </tbody>\n",
       "</table>\n",
       "<p>4431 rows × 2 columns</p>\n",
       "</div>"
      ],
      "text/plain": [
       "      segment_id  time_to_eruption\n",
       "0     1136037770          12262005\n",
       "1     1969647810          32739612\n",
       "2     1895879680          14965999\n",
       "3     2068207140          26469720\n",
       "4      192955606          31072429\n",
       "...          ...               ...\n",
       "4426   873340274          15695097\n",
       "4427  1297437712          35659379\n",
       "4428   694853998          31206935\n",
       "4429  1886987043           9598270\n",
       "4430  1100632800          20128938\n",
       "\n",
       "[4431 rows x 2 columns]"
      ]
     },
     "execution_count": 16,
     "metadata": {},
     "output_type": "execute_result"
    }
   ],
   "source": [
    "target_csv = pd.read_csv(\"train.csv\")\n",
    "target_csv"
   ]
  },
  {
   "cell_type": "code",
   "execution_count": 17,
   "metadata": {},
   "outputs": [
    {
     "data": {
      "text/html": [
       "<div>\n",
       "<style scoped>\n",
       "    .dataframe tbody tr th:only-of-type {\n",
       "        vertical-align: middle;\n",
       "    }\n",
       "\n",
       "    .dataframe tbody tr th {\n",
       "        vertical-align: top;\n",
       "    }\n",
       "\n",
       "    .dataframe thead th {\n",
       "        text-align: right;\n",
       "    }\n",
       "</style>\n",
       "<table border=\"1\" class=\"dataframe\">\n",
       "  <thead>\n",
       "    <tr style=\"text-align: right;\">\n",
       "      <th></th>\n",
       "      <th>segment_id</th>\n",
       "      <th>time_to_eruption</th>\n",
       "    </tr>\n",
       "  </thead>\n",
       "  <tbody>\n",
       "    <tr>\n",
       "      <th>count</th>\n",
       "      <td>4.431000e+03</td>\n",
       "      <td>4.431000e+03</td>\n",
       "    </tr>\n",
       "    <tr>\n",
       "      <th>mean</th>\n",
       "      <td>1.074694e+09</td>\n",
       "      <td>2.284891e+07</td>\n",
       "    </tr>\n",
       "    <tr>\n",
       "      <th>std</th>\n",
       "      <td>6.161966e+08</td>\n",
       "      <td>1.348439e+07</td>\n",
       "    </tr>\n",
       "    <tr>\n",
       "      <th>min</th>\n",
       "      <td>5.131810e+05</td>\n",
       "      <td>6.250000e+03</td>\n",
       "    </tr>\n",
       "    <tr>\n",
       "      <th>25%</th>\n",
       "      <td>5.527934e+08</td>\n",
       "      <td>1.127016e+07</td>\n",
       "    </tr>\n",
       "    <tr>\n",
       "      <th>50%</th>\n",
       "      <td>1.066153e+09</td>\n",
       "      <td>2.246559e+07</td>\n",
       "    </tr>\n",
       "    <tr>\n",
       "      <th>75%</th>\n",
       "      <td>1.606350e+09</td>\n",
       "      <td>3.434356e+07</td>\n",
       "    </tr>\n",
       "    <tr>\n",
       "      <th>max</th>\n",
       "      <td>2.146939e+09</td>\n",
       "      <td>4.904609e+07</td>\n",
       "    </tr>\n",
       "  </tbody>\n",
       "</table>\n",
       "</div>"
      ],
      "text/plain": [
       "         segment_id  time_to_eruption\n",
       "count  4.431000e+03      4.431000e+03\n",
       "mean   1.074694e+09      2.284891e+07\n",
       "std    6.161966e+08      1.348439e+07\n",
       "min    5.131810e+05      6.250000e+03\n",
       "25%    5.527934e+08      1.127016e+07\n",
       "50%    1.066153e+09      2.246559e+07\n",
       "75%    1.606350e+09      3.434356e+07\n",
       "max    2.146939e+09      4.904609e+07"
      ]
     },
     "execution_count": 17,
     "metadata": {},
     "output_type": "execute_result"
    }
   ],
   "source": [
    "target_csv.describe()"
   ]
  },
  {
   "cell_type": "code",
   "execution_count": 18,
   "metadata": {},
   "outputs": [
    {
     "data": {
      "text/plain": [
       "<AxesSubplot:xlabel='time_to_eruption', ylabel='Count'>"
      ]
     },
     "execution_count": 18,
     "metadata": {},
     "output_type": "execute_result"
    },
    {
     "data": {
      "image/png": "[encoded data removed]",
      "text/plain": [
       "<Figure size 1152x648 with 1 Axes>"
      ]
     },
     "metadata": {
      "needs_background": "light"
     },
     "output_type": "display_data"
    }
   ],
   "source": [
    "fig, ax = plt.subplots(figsize=(16,9))\n",
    "sns.histplot(data=target_csv, x=\"time_to_eruption\", bins=75, kde=True, ax=ax)"
   ]
  },
  {
   "cell_type": "markdown",
   "metadata": {},
   "source": [
    "Podemos ver de las gráficas anteriores que la distribución de los tiempos de erupción es simétrica pero no tiene forma de campana. Incluso se podría pensar que pareciera uniforme excepto por el límite superior que desciende."
   ]
  },
  {
   "cell_type": "markdown",
   "metadata": {},
   "source": [
    "# Exploración del sensado"
   ]
  },
  {
   "cell_type": "code",
   "execution_count": 19,
   "metadata": {},
   "outputs": [
    {
     "data": {
      "text/plain": [
       "4431"
      ]
     },
     "execution_count": 19,
     "metadata": {},
     "output_type": "execute_result"
    }
   ],
   "source": [
    "train_dir_path = \"train\"\n",
    "train_filenames = os.listdir(train_dir_path)\n",
    "len(train_filenames)"
   ]
  },
  {
   "cell_type": "markdown",
   "metadata": {},
   "source": [
    "## Estadísticas por archivo"
   ]
  },
  {
   "cell_type": "code",
   "execution_count": 96,
   "metadata": {},
   "outputs": [],
   "source": [
    "def get_stats_per_df(df):\n",
    "    aggs = df.agg([\"count\", np.nanmean, np.nanstd, np.nanmin, np.nanmax])\n",
    "    aggs = aggs.stack()\n",
    "    aggs.index = aggs.index.map(lambda t:f\"{t[1]}_{t[0]}\")\n",
    "    return aggs"
   ]
  },
  {
   "cell_type": "code",
   "execution_count": null,
   "metadata": {},
   "outputs": [],
   "source": [
    "%%time\n",
    "stats_per_file = []\n",
    "for i,filename in enumerate(train_filenames,1):\n",
    "    df = pd.read_csv(os.path.join(train_dir_path, filename), dtype=\"Int16\")\n",
    "    temporal_stats = get_stats_per_df(df)\n",
    "    stats_per_file.append(temporal_stats)\n",
    "    if i%50 == 0:\n",
    "        print(i)"
   ]
  },
  {
   "cell_type": "code",
   "execution_count": 98,
   "metadata": {},
   "outputs": [],
   "source": [
    "df_stats_per_file = pd.DataFrame(stats_per_file, index=target_csv.segment_id)\n",
    "df_stats_per_file.to_csv(\"csvs/stats_per_file2.csv\")"
   ]
  },
  {
   "cell_type": "markdown",
   "metadata": {},
   "source": [
    "## Estadísticas en total\n",
    "* número de elementos\n",
    "* La suma de los elementos\n",
    "* La suma de los elementos elevados al cuadrado\n",
    "* El mínimo\n",
    "* El máximo"
   ]
  },
  {
   "cell_type": "code",
   "execution_count": 59,
   "metadata": {},
   "outputs": [],
   "source": [
    "def get_stats_vec(data):\n",
    "    data_notnans = data[~np.isnan(data)]\n",
    "    stats = [len, np.sum, lambda x:np.sum(x**2),\n",
    "             lambda x:np.min(x) if len(x) else np.inf,\n",
    "             lambda x:np.max(x) if len(x) else -np.inf]\n",
    "    vec = [stat(data_notnans) for stat in stats]\n",
    "    vec = np.array(vec)\n",
    "    return vec"
   ]
  },
  {
   "cell_type": "code",
   "execution_count": 60,
   "metadata": {},
   "outputs": [],
   "source": [
    "def get_stats_vecs(df):\n",
    "    vecs = [get_stats_vec(df[column]) for column in df.columns]\n",
    "    matrix = np.vstack(vecs)\n",
    "    return matrix"
   ]
  },
  {
   "cell_type": "code",
   "execution_count": 61,
   "metadata": {},
   "outputs": [
    {
     "name": "stdout",
     "output_type": "stream",
     "text": [
      "CPU times: user 4min 19s, sys: 36.6 s, total: 4min 56s\n",
      "Wall time: 4min 14s\n"
     ]
    }
   ],
   "source": [
    "%%time\n",
    "stats = np.zeros(shape=(10,5))\n",
    "stats[:,3] = np.inf\n",
    "stats[:,4] = -np.inf\n",
    "for filenames in train_filenames:\n",
    "    df = pd.read_csv( os.path.join(train_dir_path, filename) )\n",
    "    current_stats = get_stats_vecs(df)\n",
    "    stats[:,:3] += current_stats[:,:3]\n",
    "    stats[:,3] = np.minimum(stats[:,3], current_stats[:,3])\n",
    "    stats[:,4] = np.maximum(stats[:,4], current_stats[:,4])"
   ]
  },
  {
   "cell_type": "code",
   "execution_count": 62,
   "metadata": {},
   "outputs": [],
   "source": [
    "def get_stats_df(matrix):\n",
    "    sensors = [f\"sensor_{i+1}\" for i in range(10)]\n",
    "    stats_names = [\"count\", \"mean\", \"std\", \"min\", \"max\"]\n",
    "    \n",
    "    nrows, ncols = matrix.shape\n",
    "    \n",
    "    stats_vecs = []\n",
    "    for row in range(nrows): # for every sensor\n",
    "        count = matrix[row,0]\n",
    "        total_sum = matrix[row,1]\n",
    "        mean = total_sum/count\n",
    "        total_squared_sum = matrix[row,2]\n",
    "        std = np.sqrt( (total_squared_sum - count*mean**2)/(count-1) )\n",
    "        minimum = matrix[row,3]\n",
    "        maximum = matrix[row,4]\n",
    "        stats = [count, mean, std, minimum, maximum]\n",
    "        stats_vecs.append(np.array(stats))\n",
    "        \n",
    "    new_matrix = np.vstack(stats_vecs)\n",
    "    \n",
    "    stats_df = pd.DataFrame(new_matrix, columns=stats_names, index=sensors)\n",
    "    \n",
    "    return stats_df"
   ]
  },
  {
   "cell_type": "code",
   "execution_count": 63,
   "metadata": {},
   "outputs": [
    {
     "data": {
      "text/html": [
       "<div>\n",
       "<style scoped>\n",
       "    .dataframe tbody tr th:only-of-type {\n",
       "        vertical-align: middle;\n",
       "    }\n",
       "\n",
       "    .dataframe tbody tr th {\n",
       "        vertical-align: top;\n",
       "    }\n",
       "\n",
       "    .dataframe thead th {\n",
       "        text-align: right;\n",
       "    }\n",
       "</style>\n",
       "<table border=\"1\" class=\"dataframe\">\n",
       "  <thead>\n",
       "    <tr style=\"text-align: right;\">\n",
       "      <th></th>\n",
       "      <th>count</th>\n",
       "      <th>mean</th>\n",
       "      <th>std</th>\n",
       "      <th>min</th>\n",
       "      <th>max</th>\n",
       "    </tr>\n",
       "  </thead>\n",
       "  <tbody>\n",
       "    <tr>\n",
       "      <th>sensor_1</th>\n",
       "      <td>265864431.0</td>\n",
       "      <td>0.025250</td>\n",
       "      <td>203.303099</td>\n",
       "      <td>-1171.0</td>\n",
       "      <td>1278.0</td>\n",
       "    </tr>\n",
       "    <tr>\n",
       "      <th>sensor_2</th>\n",
       "      <td>265864431.0</td>\n",
       "      <td>-0.431776</td>\n",
       "      <td>418.222197</td>\n",
       "      <td>-4759.0</td>\n",
       "      <td>4118.0</td>\n",
       "    </tr>\n",
       "    <tr>\n",
       "      <th>sensor_3</th>\n",
       "      <td>265864431.0</td>\n",
       "      <td>0.233829</td>\n",
       "      <td>178.179004</td>\n",
       "      <td>-1288.0</td>\n",
       "      <td>1212.0</td>\n",
       "    </tr>\n",
       "    <tr>\n",
       "      <th>sensor_4</th>\n",
       "      <td>265864431.0</td>\n",
       "      <td>0.281562</td>\n",
       "      <td>200.602547</td>\n",
       "      <td>-1280.0</td>\n",
       "      <td>1532.0</td>\n",
       "    </tr>\n",
       "    <tr>\n",
       "      <th>sensor_5</th>\n",
       "      <td>265864431.0</td>\n",
       "      <td>-0.000650</td>\n",
       "      <td>161.583577</td>\n",
       "      <td>-1225.0</td>\n",
       "      <td>1370.0</td>\n",
       "    </tr>\n",
       "    <tr>\n",
       "      <th>sensor_6</th>\n",
       "      <td>265864431.0</td>\n",
       "      <td>0.044916</td>\n",
       "      <td>299.005016</td>\n",
       "      <td>-3226.0</td>\n",
       "      <td>2575.0</td>\n",
       "    </tr>\n",
       "    <tr>\n",
       "      <th>sensor_7</th>\n",
       "      <td>265864431.0</td>\n",
       "      <td>4.590190</td>\n",
       "      <td>204.956910</td>\n",
       "      <td>-986.0</td>\n",
       "      <td>983.0</td>\n",
       "    </tr>\n",
       "    <tr>\n",
       "      <th>sensor_8</th>\n",
       "      <td>265864431.0</td>\n",
       "      <td>-2.975500</td>\n",
       "      <td>247.542130</td>\n",
       "      <td>-934.0</td>\n",
       "      <td>1060.0</td>\n",
       "    </tr>\n",
       "    <tr>\n",
       "      <th>sensor_9</th>\n",
       "      <td>265864431.0</td>\n",
       "      <td>2.170547</td>\n",
       "      <td>196.562165</td>\n",
       "      <td>-1210.0</td>\n",
       "      <td>1316.0</td>\n",
       "    </tr>\n",
       "    <tr>\n",
       "      <th>sensor_10</th>\n",
       "      <td>265864431.0</td>\n",
       "      <td>-120.953801</td>\n",
       "      <td>937.478541</td>\n",
       "      <td>-3743.0</td>\n",
       "      <td>3229.0</td>\n",
       "    </tr>\n",
       "  </tbody>\n",
       "</table>\n",
       "</div>"
      ],
      "text/plain": [
       "                 count        mean         std     min     max\n",
       "sensor_1   265864431.0    0.025250  203.303099 -1171.0  1278.0\n",
       "sensor_2   265864431.0   -0.431776  418.222197 -4759.0  4118.0\n",
       "sensor_3   265864431.0    0.233829  178.179004 -1288.0  1212.0\n",
       "sensor_4   265864431.0    0.281562  200.602547 -1280.0  1532.0\n",
       "sensor_5   265864431.0   -0.000650  161.583577 -1225.0  1370.0\n",
       "sensor_6   265864431.0    0.044916  299.005016 -3226.0  2575.0\n",
       "sensor_7   265864431.0    4.590190  204.956910  -986.0   983.0\n",
       "sensor_8   265864431.0   -2.975500  247.542130  -934.0  1060.0\n",
       "sensor_9   265864431.0    2.170547  196.562165 -1210.0  1316.0\n",
       "sensor_10  265864431.0 -120.953801  937.478541 -3743.0  3229.0"
      ]
     },
     "execution_count": 63,
     "metadata": {},
     "output_type": "execute_result"
    }
   ],
   "source": [
    "whole_stats = get_stats_df(stats)\n",
    "whole_stats"
   ]
  },
  {
   "cell_type": "code",
   "execution_count": 64,
   "metadata": {},
   "outputs": [],
   "source": [
    "whole_stats.to_csv(\"csvs/whole_stats.csv\",index=False)"
   ]
  },
  {
   "cell_type": "markdown",
   "metadata": {},
   "source": [
    "----------"
   ]
  },
  {
   "cell_type": "code",
   "execution_count": null,
   "metadata": {},
   "outputs": [],
   "source": [
    "data = pd.read_csv(\"\")"
   ]
  }
 ],
 "metadata": {
  "kernelspec": {
   "display_name": "Python 3",
   "language": "python",
   "name": "python3"
  },
  "language_info": {
   "codemirror_mode": {
    "name": "ipython",
    "version": 3
   },
   "file_extension": ".py",
   "mimetype": "text/x-python",
   "name": "python",
   "nbconvert_exporter": "python",
   "pygments_lexer": "ipython3",
   "version": "3.8.5"
  }
 },
 "nbformat": 4,
 "nbformat_minor": 4
}
