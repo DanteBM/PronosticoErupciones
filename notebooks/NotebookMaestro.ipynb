{
 "cells": [
  {
   "cell_type": "markdown",
   "metadata": {},
   "source": [
    "# Pronóstico de erupciones volcánicas\n",
    "- Alvarado Morán Óscar\n",
    "- Bermúdez Marbán Dante"
   ]
  },
  {
   "cell_type": "code",
   "execution_count": 1,
   "metadata": {},
   "outputs": [],
   "source": [
    "from threading import Thread      # Para el chistecito del paralelismo\n",
    "import numpy as np                # Numpy nunca puede faltar\n",
    "import pandas as pd               # El siempre confiable Pandas\n",
    "import matplotlib.pyplot as plt   # Esta @%&$# ya no la vamos a usar, espero\n",
    "from os import listdir, path      # Para leer/escribir archivos del sistema\n",
    "import seaborn as sns             # Algo de visualización bonita\n",
    "\n",
    "import librosa                    # Se usa para análisis de canciones pero hay una cosa que nos viene bien de aquí\n",
    "\n",
    "# Para una visualización de verdad\n",
    "from plotly.subplots import make_subplots\n",
    "import plotly.graph_objects as go\n",
    "\n",
    "#!conda install -c conda-forge lightgbm -y\n",
    "import lightgbm as lgb            # Para el modelo LGBM\n",
    "\n",
    "import sklearn\n",
    "from sklearn.model_selection import train_test_split\n",
    "from sklearn.metrics import mean_absolute_error\n",
    "\n",
    "import librosa\n",
    "from scipy.signal import find_peaks, find_peaks_cwt, peak_prominences, periodogram, stft, peak_widths"
   ]
  },
  {
   "cell_type": "markdown",
   "metadata": {},
   "source": [
    "## Análisis exploratorio de datos"
   ]
  },
  {
   "cell_type": "code",
   "execution_count": 2,
   "metadata": {},
   "outputs": [
    {
     "data": {
      "text/html": [
       "<div>\n",
       "<style scoped>\n",
       "    .dataframe tbody tr th:only-of-type {\n",
       "        vertical-align: middle;\n",
       "    }\n",
       "\n",
       "    .dataframe tbody tr th {\n",
       "        vertical-align: top;\n",
       "    }\n",
       "\n",
       "    .dataframe thead th {\n",
       "        text-align: right;\n",
       "    }\n",
       "</style>\n",
       "<table border=\"1\" class=\"dataframe\">\n",
       "  <thead>\n",
       "    <tr style=\"text-align: right;\">\n",
       "      <th></th>\n",
       "      <th>sensor_1</th>\n",
       "      <th>sensor_2</th>\n",
       "      <th>sensor_3</th>\n",
       "      <th>sensor_4</th>\n",
       "      <th>sensor_5</th>\n",
       "      <th>sensor_6</th>\n",
       "      <th>sensor_7</th>\n",
       "      <th>sensor_8</th>\n",
       "      <th>sensor_9</th>\n",
       "      <th>sensor_10</th>\n",
       "    </tr>\n",
       "  </thead>\n",
       "  <tbody>\n",
       "    <tr>\n",
       "      <th>count</th>\n",
       "      <td>60001.000000</td>\n",
       "      <td>60001.000000</td>\n",
       "      <td>0</td>\n",
       "      <td>60001.000000</td>\n",
       "      <td>60001.000000</td>\n",
       "      <td>60001.000000</td>\n",
       "      <td>60001.00000</td>\n",
       "      <td>60001.000000</td>\n",
       "      <td>0</td>\n",
       "      <td>60001.000000</td>\n",
       "    </tr>\n",
       "    <tr>\n",
       "      <th>mean</th>\n",
       "      <td>7.593423</td>\n",
       "      <td>2.545708</td>\n",
       "      <td>&lt;NA&gt;</td>\n",
       "      <td>0.661839</td>\n",
       "      <td>-0.458976</td>\n",
       "      <td>1.431776</td>\n",
       "      <td>1.21018</td>\n",
       "      <td>3.117231</td>\n",
       "      <td>&lt;NA&gt;</td>\n",
       "      <td>-7.668739</td>\n",
       "    </tr>\n",
       "    <tr>\n",
       "      <th>std</th>\n",
       "      <td>387.653854</td>\n",
       "      <td>553.938047</td>\n",
       "      <td>&lt;NA&gt;</td>\n",
       "      <td>319.048016</td>\n",
       "      <td>170.261498</td>\n",
       "      <td>1016.208891</td>\n",
       "      <td>396.16904</td>\n",
       "      <td>594.306992</td>\n",
       "      <td>&lt;NA&gt;</td>\n",
       "      <td>669.995033</td>\n",
       "    </tr>\n",
       "    <tr>\n",
       "      <th>min</th>\n",
       "      <td>-3448.000000</td>\n",
       "      <td>-7088.000000</td>\n",
       "      <td>&lt;NA&gt;</td>\n",
       "      <td>-3628.000000</td>\n",
       "      <td>-1452.000000</td>\n",
       "      <td>-3690.000000</td>\n",
       "      <td>-2132.00000</td>\n",
       "      <td>-2444.000000</td>\n",
       "      <td>&lt;NA&gt;</td>\n",
       "      <td>-4662.000000</td>\n",
       "    </tr>\n",
       "    <tr>\n",
       "      <th>25%</th>\n",
       "      <td>-210.000000</td>\n",
       "      <td>-229.000000</td>\n",
       "      <td>&lt;NA&gt;</td>\n",
       "      <td>-186.000000</td>\n",
       "      <td>-92.000000</td>\n",
       "      <td>-678.000000</td>\n",
       "      <td>-236.00000</td>\n",
       "      <td>-400.000000</td>\n",
       "      <td>&lt;NA&gt;</td>\n",
       "      <td>-358.000000</td>\n",
       "    </tr>\n",
       "    <tr>\n",
       "      <th>50%</th>\n",
       "      <td>0.000000</td>\n",
       "      <td>0.000000</td>\n",
       "      <td>&lt;NA&gt;</td>\n",
       "      <td>0.000000</td>\n",
       "      <td>0.000000</td>\n",
       "      <td>0.000000</td>\n",
       "      <td>0.00000</td>\n",
       "      <td>0.000000</td>\n",
       "      <td>&lt;NA&gt;</td>\n",
       "      <td>0.000000</td>\n",
       "    </tr>\n",
       "    <tr>\n",
       "      <th>75%</th>\n",
       "      <td>213.000000</td>\n",
       "      <td>232.000000</td>\n",
       "      <td>&lt;NA&gt;</td>\n",
       "      <td>181.000000</td>\n",
       "      <td>93.000000</td>\n",
       "      <td>684.000000</td>\n",
       "      <td>243.00000</td>\n",
       "      <td>413.000000</td>\n",
       "      <td>&lt;NA&gt;</td>\n",
       "      <td>356.000000</td>\n",
       "    </tr>\n",
       "    <tr>\n",
       "      <th>max</th>\n",
       "      <td>3478.000000</td>\n",
       "      <td>9804.000000</td>\n",
       "      <td>&lt;NA&gt;</td>\n",
       "      <td>3141.000000</td>\n",
       "      <td>1457.000000</td>\n",
       "      <td>4240.000000</td>\n",
       "      <td>1843.00000</td>\n",
       "      <td>2243.000000</td>\n",
       "      <td>&lt;NA&gt;</td>\n",
       "      <td>3951.000000</td>\n",
       "    </tr>\n",
       "  </tbody>\n",
       "</table>\n",
       "</div>"
      ],
      "text/plain": [
       "           sensor_1      sensor_2 sensor_3      sensor_4      sensor_5  \\\n",
       "count  60001.000000  60001.000000        0  60001.000000  60001.000000   \n",
       "mean       7.593423      2.545708     <NA>      0.661839     -0.458976   \n",
       "std      387.653854    553.938047     <NA>    319.048016    170.261498   \n",
       "min    -3448.000000  -7088.000000     <NA>  -3628.000000  -1452.000000   \n",
       "25%     -210.000000   -229.000000     <NA>   -186.000000    -92.000000   \n",
       "50%        0.000000      0.000000     <NA>      0.000000      0.000000   \n",
       "75%      213.000000    232.000000     <NA>    181.000000     93.000000   \n",
       "max     3478.000000   9804.000000     <NA>   3141.000000   1457.000000   \n",
       "\n",
       "           sensor_6     sensor_7      sensor_8 sensor_9     sensor_10  \n",
       "count  60001.000000  60001.00000  60001.000000        0  60001.000000  \n",
       "mean       1.431776      1.21018      3.117231     <NA>     -7.668739  \n",
       "std     1016.208891    396.16904    594.306992     <NA>    669.995033  \n",
       "min    -3690.000000  -2132.00000  -2444.000000     <NA>  -4662.000000  \n",
       "25%     -678.000000   -236.00000   -400.000000     <NA>   -358.000000  \n",
       "50%        0.000000      0.00000      0.000000     <NA>      0.000000  \n",
       "75%      684.000000    243.00000    413.000000     <NA>    356.000000  \n",
       "max     4240.000000   1843.00000   2243.000000     <NA>   3951.000000  "
      ]
     },
     "execution_count": 2,
     "metadata": {},
     "output_type": "execute_result"
    }
   ],
   "source": [
    "# Explorando un conjunto de datos de los 4,431 que se tienen para entrenamiento. \n",
    "train_dir = \"/home/oscar/Escritorio/predict-volcanic-eruptions-ingv-oe/train\" # Oscar\n",
    "train_filenames = listdir(train_dir)\n",
    "train_filename = train_filenames[0]\n",
    "data = pd.read_csv(path.join(train_dir,train_filename), dtype=\"Int16\")\n",
    "data.describe()"
   ]
  },
  {
   "cell_type": "markdown",
   "metadata": {},
   "source": [
    "Según distintos archivos, hay ciertos que no tienen valores registrados (NaNs) o cosas raras como puros ceros. Sería importante ver como está dicha situación para todos los datos"
   ]
  },
  {
   "cell_type": "code",
   "execution_count": null,
   "metadata": {},
   "outputs": [],
   "source": [
    "def check_prank(data):\n",
    "    \"\"\"Function to check if some columns contain only nans or some constant\"\"\"\n",
    "    nrows, _ = data.shape\n",
    "    only_nans = [data[sensor].isna().sum() for sensor in data.columns]\n",
    "    only_constants = [data[sensor].std() == 0 for sensor in data.columns]\n",
    "    \n",
    "    return only_nans, only_constants"
   ]
  },
  {
   "cell_type": "code",
   "execution_count": null,
   "metadata": {},
   "outputs": [],
   "source": [
    "def yield_partition(data, npartitions):\n",
    "    n_elements = len(data)\n",
    "    n = n_elements//npartitions\n",
    "    \n",
    "    for k in range(npartitions):\n",
    "        i = k*n\n",
    "        j = (k+1)*n\n",
    "        if k != npartitions - 1:\n",
    "            yield data[i:j]\n",
    "        else:\n",
    "            yield data[i:]  # Last one"
   ]
  },
  {
   "cell_type": "code",
   "execution_count": null,
   "metadata": {},
   "outputs": [],
   "source": [
    "def parallelize(nthreads):\n",
    "    def decorator(original_function):\n",
    "        def parallelized_function(dir_path, filenames, verbose=True):\n",
    "            parallel_ans = []\n",
    "            threads = []\n",
    "            counter = 1\n",
    "    \n",
    "            # Partir los datos\n",
    "            for partition in yield_partition(filenames, nthreads):\n",
    "                thread = Thread(target=original_function, args=(dir_path, partition, verbose, parallel_ans))\n",
    "                threads.append(thread)\n",
    "                print(\"Starting\",counter)\n",
    "                thread.start()\n",
    "                counter += 1 \n",
    "            \n",
    "            for thread in threads:\n",
    "                thread.join()\n",
    "            \n",
    "            list_nans = [df_nan for df_nan, df_constant in parallel_ans]\n",
    "            list_constants = [df_constant for df_nan, df_constant in parallel_ans]\n",
    "            concatenation_nans = pd.concat(list_nans)\n",
    "            concatenation_constants = pd.concat(list_constants)\n",
    "            return concatenation_nans, concatenation_constants\n",
    "        \n",
    "        return parallelized_function\n",
    "    \n",
    "    return decorator"
   ]
  },
  {
   "cell_type": "code",
   "execution_count": null,
   "metadata": {},
   "outputs": [],
   "source": [
    "@parallelize(8)\n",
    "def check_pranks(dir_path, filenames, verbose=True, parallel_ans = None):\n",
    "    nans = []\n",
    "    constants = []\n",
    "    for i,filename in enumerate(filenames,1):\n",
    "        df = pd.read_csv(path.join(dir_path,filename), dtype=\"Int16\")\n",
    "        only_nans, only_constants = check_prank(df)\n",
    "        nans.append(only_nans)\n",
    "        constants.append(only_constants)\n",
    "        if verbose and i%10 == 0:\n",
    "            print(i)\n",
    "    \n",
    "    df_nans = pd.DataFrame(nans, columns=df.columns)\n",
    "    df_constants = pd.DataFrame(constants, columns=df.columns)\n",
    "    \n",
    "    if parallel_ans != None:\n",
    "        parallel_ans.append( (df_nans, df_constants) )\n",
    "    else:\n",
    "        return df_nans, df_constants"
   ]
  },
  {
   "cell_type": "markdown",
   "metadata": {},
   "source": [
    "- Datos de entrenamiento"
   ]
  },
  {
   "cell_type": "code",
   "execution_count": 5,
   "metadata": {},
   "outputs": [
    {
     "data": {
      "text/plain": [
       "sensor_1      1545802\n",
       "sensor_2     50569629\n",
       "sensor_3     26499171\n",
       "sensor_4         6210\n",
       "sensor_5     49241506\n",
       "sensor_6        88904\n",
       "sensor_7      2546627\n",
       "sensor_8     26465572\n",
       "sensor_9     10520113\n",
       "sensor_10     1895973\n",
       "dtype: int64"
      ]
     },
     "execution_count": 5,
     "metadata": {},
     "output_type": "execute_result"
    }
   ],
   "source": [
    "df_train_nans = pd.read_csv(\"../csvs/df_train_nans.csv\")\n",
    "df_train_nans.sum(axis=0)"
   ]
  },
  {
   "cell_type": "code",
   "execution_count": 7,
   "metadata": {},
   "outputs": [
    {
     "data": {
      "text/plain": [
       "sensor_1     0\n",
       "sensor_2     0\n",
       "sensor_3     0\n",
       "sensor_4     0\n",
       "sensor_5     0\n",
       "sensor_6     0\n",
       "sensor_7     0\n",
       "sensor_8     0\n",
       "sensor_9     0\n",
       "sensor_10    0\n",
       "dtype: int64"
      ]
     },
     "execution_count": 7,
     "metadata": {},
     "output_type": "execute_result"
    }
   ],
   "source": [
    "df_train_constants = pd.read_csv(\"../csvs/df_train_constants.csv\")\n",
    "df_train_constants.sum(axis=0)"
   ]
  },
  {
   "cell_type": "markdown",
   "metadata": {},
   "source": [
    "- Datos de prueba"
   ]
  },
  {
   "cell_type": "code",
   "execution_count": 8,
   "metadata": {},
   "outputs": [
    {
     "data": {
      "text/plain": [
       "sensor_1     23328531\n",
       "sensor_2     75807628\n",
       "sensor_3     26593834\n",
       "sensor_4        13406\n",
       "sensor_5     92651510\n",
       "sensor_6        57658\n",
       "sensor_7      2713162\n",
       "sensor_8     17653700\n",
       "sensor_9     51208744\n",
       "sensor_10    46050548\n",
       "dtype: int64"
      ]
     },
     "execution_count": 8,
     "metadata": {},
     "output_type": "execute_result"
    }
   ],
   "source": [
    "df_test_nans = pd.read_csv(\"../csvs/df_test_nans.csv\")\n",
    "df_test_nans.sum(axis=0)"
   ]
  },
  {
   "cell_type": "code",
   "execution_count": 9,
   "metadata": {},
   "outputs": [
    {
     "data": {
      "text/plain": [
       "sensor_1       0\n",
       "sensor_2       0\n",
       "sensor_3       0\n",
       "sensor_4       0\n",
       "sensor_5       0\n",
       "sensor_6       0\n",
       "sensor_7       0\n",
       "sensor_8       0\n",
       "sensor_9       0\n",
       "sensor_10    815\n",
       "dtype: int64"
      ]
     },
     "execution_count": 9,
     "metadata": {},
     "output_type": "execute_result"
    }
   ],
   "source": [
    "df_test_constants = pd.read_csv(\"../csvs/df_test_constants.csv\")\n",
    "df_test_constants.sum(axis=0)"
   ]
  },
  {
   "cell_type": "markdown",
   "metadata": {},
   "source": [
    "### Estandarizando datos\n",
    "Esto nos ayudará a centrar los datos y normalizarlos de cierta manera. "
   ]
  },
  {
   "cell_type": "code",
   "execution_count": null,
   "metadata": {},
   "outputs": [],
   "source": [
    "def estandarizar(df):\n",
    "    aggs = df.agg([np.nanmean, np.nanstd]).astype(\"float16\")\n",
    "    standarized_df = (df - aggs.loc[\"nanmean\",:])/ aggs.loc[\"nanstd\",:]\n",
    "    return standarized_df"
   ]
  },
  {
   "cell_type": "code",
   "execution_count": null,
   "metadata": {},
   "outputs": [],
   "source": [
    "# Esto ya está hecho, tarda como 47 minutos\n",
    "path_originales = \"/home/oscar/Escritorio/predict-volcanic-eruptions-ingv-oe\"\n",
    "path_copias = \"/home/oscar/Escritorio/estandarizados\"\n",
    "for carpeta in [\"train\", \"test\"]:\n",
    "    camino = path.join(path_originales, carpeta)\n",
    "    print(f\"Comienzo con {carpeta}\")\n",
    "    for file in listdir(camino):\n",
    "        lectura = path.join(camino, file)\n",
    "        escritura = path.join(path.join(path_copias, carpeta), file)\n",
    "        df = pd.read_csv(lectura)\n",
    "        s_df = estandarizar(df).astype(\"Float16\")\n",
    "        s_df.to_csv(escritura, index = False)"
   ]
  },
  {
   "cell_type": "code",
   "execution_count": 11,
   "metadata": {},
   "outputs": [
    {
     "data": {
      "text/html": [
       "<div>\n",
       "<style scoped>\n",
       "    .dataframe tbody tr th:only-of-type {\n",
       "        vertical-align: middle;\n",
       "    }\n",
       "\n",
       "    .dataframe tbody tr th {\n",
       "        vertical-align: top;\n",
       "    }\n",
       "\n",
       "    .dataframe thead th {\n",
       "        text-align: right;\n",
       "    }\n",
       "</style>\n",
       "<table border=\"1\" class=\"dataframe\">\n",
       "  <thead>\n",
       "    <tr style=\"text-align: right;\">\n",
       "      <th></th>\n",
       "      <th>segment_id</th>\n",
       "      <th>time_to_eruption</th>\n",
       "    </tr>\n",
       "  </thead>\n",
       "  <tbody>\n",
       "    <tr>\n",
       "      <th>0</th>\n",
       "      <td>1136037770</td>\n",
       "      <td>12262005</td>\n",
       "    </tr>\n",
       "    <tr>\n",
       "      <th>1</th>\n",
       "      <td>1969647810</td>\n",
       "      <td>32739612</td>\n",
       "    </tr>\n",
       "    <tr>\n",
       "      <th>2</th>\n",
       "      <td>1895879680</td>\n",
       "      <td>14965999</td>\n",
       "    </tr>\n",
       "    <tr>\n",
       "      <th>3</th>\n",
       "      <td>2068207140</td>\n",
       "      <td>26469720</td>\n",
       "    </tr>\n",
       "    <tr>\n",
       "      <th>4</th>\n",
       "      <td>192955606</td>\n",
       "      <td>31072429</td>\n",
       "    </tr>\n",
       "  </tbody>\n",
       "</table>\n",
       "</div>"
      ],
      "text/plain": [
       "   segment_id  time_to_eruption\n",
       "0  1136037770          12262005\n",
       "1  1969647810          32739612\n",
       "2  1895879680          14965999\n",
       "3  2068207140          26469720\n",
       "4   192955606          31072429"
      ]
     },
     "execution_count": 11,
     "metadata": {},
     "output_type": "execute_result"
    }
   ],
   "source": [
    "target_csv = pd.read_csv(\"../csvs/train.csv\")\n",
    "target_csv.head()"
   ]
  },
  {
   "cell_type": "code",
   "execution_count": 12,
   "metadata": {},
   "outputs": [
    {
     "data": {
      "text/html": [
       "<div>\n",
       "<style scoped>\n",
       "    .dataframe tbody tr th:only-of-type {\n",
       "        vertical-align: middle;\n",
       "    }\n",
       "\n",
       "    .dataframe tbody tr th {\n",
       "        vertical-align: top;\n",
       "    }\n",
       "\n",
       "    .dataframe thead th {\n",
       "        text-align: right;\n",
       "    }\n",
       "</style>\n",
       "<table border=\"1\" class=\"dataframe\">\n",
       "  <thead>\n",
       "    <tr style=\"text-align: right;\">\n",
       "      <th></th>\n",
       "      <th>segment_id</th>\n",
       "      <th>time_to_eruption</th>\n",
       "    </tr>\n",
       "  </thead>\n",
       "  <tbody>\n",
       "    <tr>\n",
       "      <th>count</th>\n",
       "      <td>4.431000e+03</td>\n",
       "      <td>4.431000e+03</td>\n",
       "    </tr>\n",
       "    <tr>\n",
       "      <th>mean</th>\n",
       "      <td>1.074694e+09</td>\n",
       "      <td>2.284891e+07</td>\n",
       "    </tr>\n",
       "    <tr>\n",
       "      <th>std</th>\n",
       "      <td>6.161966e+08</td>\n",
       "      <td>1.348439e+07</td>\n",
       "    </tr>\n",
       "    <tr>\n",
       "      <th>min</th>\n",
       "      <td>5.131810e+05</td>\n",
       "      <td>6.250000e+03</td>\n",
       "    </tr>\n",
       "    <tr>\n",
       "      <th>25%</th>\n",
       "      <td>5.527934e+08</td>\n",
       "      <td>1.127016e+07</td>\n",
       "    </tr>\n",
       "    <tr>\n",
       "      <th>50%</th>\n",
       "      <td>1.066153e+09</td>\n",
       "      <td>2.246559e+07</td>\n",
       "    </tr>\n",
       "    <tr>\n",
       "      <th>75%</th>\n",
       "      <td>1.606350e+09</td>\n",
       "      <td>3.434356e+07</td>\n",
       "    </tr>\n",
       "    <tr>\n",
       "      <th>max</th>\n",
       "      <td>2.146939e+09</td>\n",
       "      <td>4.904609e+07</td>\n",
       "    </tr>\n",
       "  </tbody>\n",
       "</table>\n",
       "</div>"
      ],
      "text/plain": [
       "         segment_id  time_to_eruption\n",
       "count  4.431000e+03      4.431000e+03\n",
       "mean   1.074694e+09      2.284891e+07\n",
       "std    6.161966e+08      1.348439e+07\n",
       "min    5.131810e+05      6.250000e+03\n",
       "25%    5.527934e+08      1.127016e+07\n",
       "50%    1.066153e+09      2.246559e+07\n",
       "75%    1.606350e+09      3.434356e+07\n",
       "max    2.146939e+09      4.904609e+07"
      ]
     },
     "execution_count": 12,
     "metadata": {},
     "output_type": "execute_result"
    }
   ],
   "source": [
    "target_csv.describe()"
   ]
  },
  {
   "cell_type": "code",
   "execution_count": 14,
   "metadata": {},
   "outputs": [
    {
     "data": {
      "text/plain": [
       "[None, None, None, None]"
      ]
     },
     "execution_count": 14,
     "metadata": {},
     "output_type": "execute_result"
    },
    {
     "data": {
      "image/png": "[encoded data removed]",
      "text/plain": [
       "<Figure size 1152x648 with 1 Axes>"
      ]
     },
     "metadata": {
      "needs_background": "light"
     },
     "output_type": "display_data"
    }
   ],
   "source": [
    "fig, ax = plt.subplots(figsize=(16,9))\n",
    "sns.histplot(data=target_csv, x=\"time_to_eruption\", bins=75, kde=True, ax=ax)\n",
    "[ax.spines[i].set_visible(False) for i in ax.spines.keys() if i != \"buttom\"]"
   ]
  },
  {
   "cell_type": "markdown",
   "metadata": {},
   "source": [
    "Podemos ver de las gráficas anteriores que la distribución de los tiempos de erupción es simétrica pero no tiene forma de campana. Incluso se podría pensar que pareciera uniforme excepto por el límite superior que desciende.\n"
   ]
  },
  {
   "cell_type": "markdown",
   "metadata": {},
   "source": [
    "#### Exploración del sensado"
   ]
  },
  {
   "cell_type": "code",
   "execution_count": 15,
   "metadata": {},
   "outputs": [
    {
     "data": {
      "text/plain": [
       "4431"
      ]
     },
     "execution_count": 15,
     "metadata": {},
     "output_type": "execute_result"
    }
   ],
   "source": [
    "train_filenames = os.listdir(train_dir)\n",
    "len(train_filenames)"
   ]
  },
  {
   "cell_type": "code",
   "execution_count": 16,
   "metadata": {},
   "outputs": [],
   "source": [
    "# Todo esto que sigue también ya se hizo\n",
    "def get_stats_per_df(df):\n",
    "    aggs = df.agg([\"count\", np.nanmean, np.nanstd, np.nanmin, np.nanmax])\n",
    "    aggs = aggs.stack()\n",
    "    aggs.index = aggs.index.map(lambda t:f\"{t[1]}_{t[0]}\")\n",
    "    return aggs"
   ]
  },
  {
   "cell_type": "code",
   "execution_count": null,
   "metadata": {},
   "outputs": [],
   "source": [
    "# Todo esto que sigue también ya se hizo, toma su tiempo\n",
    "%%time\n",
    "stats_per_file = []\n",
    "for i,filename in enumerate(train_filenames,1):\n",
    "    df = pd.read_csv(os.path.join(train_dir_path, filename), dtype=\"Int16\")\n",
    "    temporal_stats = get_stats_per_df(df)\n",
    "    stats_per_file.append(temporal_stats)\n",
    "    if i%50 == 0:\n",
    "        print(i)"
   ]
  },
  {
   "cell_type": "markdown",
   "metadata": {},
   "source": [
    "Vemos las estadísticas por archivo `.csv`"
   ]
  },
  {
   "cell_type": "code",
   "execution_count": 17,
   "metadata": {},
   "outputs": [
    {
     "data": {
      "text/html": [
       "<div>\n",
       "<style scoped>\n",
       "    .dataframe tbody tr th:only-of-type {\n",
       "        vertical-align: middle;\n",
       "    }\n",
       "\n",
       "    .dataframe tbody tr th {\n",
       "        vertical-align: top;\n",
       "    }\n",
       "\n",
       "    .dataframe thead th {\n",
       "        text-align: right;\n",
       "    }\n",
       "</style>\n",
       "<table border=\"1\" class=\"dataframe\">\n",
       "  <thead>\n",
       "    <tr style=\"text-align: right;\">\n",
       "      <th></th>\n",
       "      <th>segment_id</th>\n",
       "      <th>sensor_1_count</th>\n",
       "      <th>sensor_2_count</th>\n",
       "      <th>sensor_3_count</th>\n",
       "      <th>sensor_4_count</th>\n",
       "      <th>sensor_5_count</th>\n",
       "      <th>sensor_6_count</th>\n",
       "      <th>sensor_7_count</th>\n",
       "      <th>sensor_8_count</th>\n",
       "      <th>sensor_9_count</th>\n",
       "      <th>...</th>\n",
       "      <th>sensor_9_nanmax</th>\n",
       "      <th>sensor_10_nanmax</th>\n",
       "      <th>sensor_8_nanmean</th>\n",
       "      <th>sensor_8_nanstd</th>\n",
       "      <th>sensor_8_nanmin</th>\n",
       "      <th>sensor_8_nanmax</th>\n",
       "      <th>sensor_2_nanmean</th>\n",
       "      <th>sensor_2_nanstd</th>\n",
       "      <th>sensor_2_nanmin</th>\n",
       "      <th>sensor_2_nanmax</th>\n",
       "    </tr>\n",
       "  </thead>\n",
       "  <tbody>\n",
       "    <tr>\n",
       "      <th>0</th>\n",
       "      <td>1136037770</td>\n",
       "      <td>60001.0</td>\n",
       "      <td>0.0</td>\n",
       "      <td>60001.0</td>\n",
       "      <td>60001.0</td>\n",
       "      <td>60001.0</td>\n",
       "      <td>60001.0</td>\n",
       "      <td>60001.0</td>\n",
       "      <td>0.0</td>\n",
       "      <td>60001.0</td>\n",
       "      <td>...</td>\n",
       "      <td>3884.0</td>\n",
       "      <td>4912.0</td>\n",
       "      <td>NaN</td>\n",
       "      <td>NaN</td>\n",
       "      <td>NaN</td>\n",
       "      <td>NaN</td>\n",
       "      <td>NaN</td>\n",
       "      <td>NaN</td>\n",
       "      <td>NaN</td>\n",
       "      <td>NaN</td>\n",
       "    </tr>\n",
       "    <tr>\n",
       "      <th>1</th>\n",
       "      <td>1969647810</td>\n",
       "      <td>60001.0</td>\n",
       "      <td>0.0</td>\n",
       "      <td>60001.0</td>\n",
       "      <td>60001.0</td>\n",
       "      <td>2072.0</td>\n",
       "      <td>60001.0</td>\n",
       "      <td>0.0</td>\n",
       "      <td>60001.0</td>\n",
       "      <td>55407.0</td>\n",
       "      <td>...</td>\n",
       "      <td>1373.0</td>\n",
       "      <td>4026.0</td>\n",
       "      <td>2.562674</td>\n",
       "      <td>759.108629</td>\n",
       "      <td>-4284.0</td>\n",
       "      <td>6339.0</td>\n",
       "      <td>NaN</td>\n",
       "      <td>NaN</td>\n",
       "      <td>NaN</td>\n",
       "      <td>NaN</td>\n",
       "    </tr>\n",
       "    <tr>\n",
       "      <th>2</th>\n",
       "      <td>1895879680</td>\n",
       "      <td>60001.0</td>\n",
       "      <td>0.0</td>\n",
       "      <td>60001.0</td>\n",
       "      <td>60001.0</td>\n",
       "      <td>60001.0</td>\n",
       "      <td>60001.0</td>\n",
       "      <td>60001.0</td>\n",
       "      <td>0.0</td>\n",
       "      <td>60001.0</td>\n",
       "      <td>...</td>\n",
       "      <td>2182.0</td>\n",
       "      <td>4374.0</td>\n",
       "      <td>NaN</td>\n",
       "      <td>NaN</td>\n",
       "      <td>NaN</td>\n",
       "      <td>NaN</td>\n",
       "      <td>NaN</td>\n",
       "      <td>NaN</td>\n",
       "      <td>NaN</td>\n",
       "      <td>NaN</td>\n",
       "    </tr>\n",
       "    <tr>\n",
       "      <th>3</th>\n",
       "      <td>2068207140</td>\n",
       "      <td>60001.0</td>\n",
       "      <td>0.0</td>\n",
       "      <td>60001.0</td>\n",
       "      <td>60001.0</td>\n",
       "      <td>60001.0</td>\n",
       "      <td>60001.0</td>\n",
       "      <td>60001.0</td>\n",
       "      <td>0.0</td>\n",
       "      <td>60001.0</td>\n",
       "      <td>...</td>\n",
       "      <td>2605.0</td>\n",
       "      <td>3692.0</td>\n",
       "      <td>NaN</td>\n",
       "      <td>NaN</td>\n",
       "      <td>NaN</td>\n",
       "      <td>NaN</td>\n",
       "      <td>NaN</td>\n",
       "      <td>NaN</td>\n",
       "      <td>NaN</td>\n",
       "      <td>NaN</td>\n",
       "    </tr>\n",
       "    <tr>\n",
       "      <th>4</th>\n",
       "      <td>192955606</td>\n",
       "      <td>60001.0</td>\n",
       "      <td>60001.0</td>\n",
       "      <td>60001.0</td>\n",
       "      <td>60001.0</td>\n",
       "      <td>60001.0</td>\n",
       "      <td>60001.0</td>\n",
       "      <td>60001.0</td>\n",
       "      <td>60001.0</td>\n",
       "      <td>60001.0</td>\n",
       "      <td>...</td>\n",
       "      <td>1246.0</td>\n",
       "      <td>2288.0</td>\n",
       "      <td>0.743654</td>\n",
       "      <td>157.809455</td>\n",
       "      <td>-731.0</td>\n",
       "      <td>740.0</td>\n",
       "      <td>-1.041783</td>\n",
       "      <td>394.16549</td>\n",
       "      <td>-5766.0</td>\n",
       "      <td>5967.0</td>\n",
       "    </tr>\n",
       "  </tbody>\n",
       "</table>\n",
       "<p>5 rows × 51 columns</p>\n",
       "</div>"
      ],
      "text/plain": [
       "   segment_id  sensor_1_count  sensor_2_count  sensor_3_count  sensor_4_count  \\\n",
       "0  1136037770         60001.0             0.0         60001.0         60001.0   \n",
       "1  1969647810         60001.0             0.0         60001.0         60001.0   \n",
       "2  1895879680         60001.0             0.0         60001.0         60001.0   \n",
       "3  2068207140         60001.0             0.0         60001.0         60001.0   \n",
       "4   192955606         60001.0         60001.0         60001.0         60001.0   \n",
       "\n",
       "   sensor_5_count  sensor_6_count  sensor_7_count  sensor_8_count  \\\n",
       "0         60001.0         60001.0         60001.0             0.0   \n",
       "1          2072.0         60001.0             0.0         60001.0   \n",
       "2         60001.0         60001.0         60001.0             0.0   \n",
       "3         60001.0         60001.0         60001.0             0.0   \n",
       "4         60001.0         60001.0         60001.0         60001.0   \n",
       "\n",
       "   sensor_9_count  ...  sensor_9_nanmax  sensor_10_nanmax  sensor_8_nanmean  \\\n",
       "0         60001.0  ...           3884.0            4912.0               NaN   \n",
       "1         55407.0  ...           1373.0            4026.0          2.562674   \n",
       "2         60001.0  ...           2182.0            4374.0               NaN   \n",
       "3         60001.0  ...           2605.0            3692.0               NaN   \n",
       "4         60001.0  ...           1246.0            2288.0          0.743654   \n",
       "\n",
       "   sensor_8_nanstd  sensor_8_nanmin  sensor_8_nanmax  sensor_2_nanmean  \\\n",
       "0              NaN              NaN              NaN               NaN   \n",
       "1       759.108629          -4284.0           6339.0               NaN   \n",
       "2              NaN              NaN              NaN               NaN   \n",
       "3              NaN              NaN              NaN               NaN   \n",
       "4       157.809455           -731.0            740.0         -1.041783   \n",
       "\n",
       "   sensor_2_nanstd  sensor_2_nanmin  sensor_2_nanmax  \n",
       "0              NaN              NaN              NaN  \n",
       "1              NaN              NaN              NaN  \n",
       "2              NaN              NaN              NaN  \n",
       "3              NaN              NaN              NaN  \n",
       "4        394.16549          -5766.0           5967.0  \n",
       "\n",
       "[5 rows x 51 columns]"
      ]
     },
     "execution_count": 17,
     "metadata": {},
     "output_type": "execute_result"
    }
   ],
   "source": [
    "df_stats_per_file = pd.read_csv(\"../csvs/stats_per_file2.csv\")\n",
    "df_stats_per_file.head()"
   ]
  },
  {
   "cell_type": "code",
   "execution_count": null,
   "metadata": {},
   "outputs": [],
   "source": [
    "def get_stats_vec(data):\n",
    "    data_notnans = data[~np.isnan(data)]\n",
    "    stats = [len, np.sum, lambda x:np.sum(x**2),\n",
    "             lambda x:np.min(x) if len(x) else np.inf,\n",
    "             lambda x:np.max(x) if len(x) else -np.inf]\n",
    "    vec = [stat(data_notnans) for stat in stats]\n",
    "    vec = np.array(vec)\n",
    "    return vec"
   ]
  },
  {
   "cell_type": "code",
   "execution_count": null,
   "metadata": {},
   "outputs": [],
   "source": [
    "def get_stats_vecs(df):\n",
    "    vecs = [get_stats_vec(df[column]) for column in df.columns]\n",
    "    matrix = np.vstack(vecs)\n",
    "    return matrix"
   ]
  },
  {
   "cell_type": "code",
   "execution_count": null,
   "metadata": {},
   "outputs": [],
   "source": [
    "# Ya se hizo, toma tiempo. \n",
    "%%time\n",
    "stats = np.zeros(shape=(10,5))\n",
    "stats[:,3] = np.inf\n",
    "stats[:,4] = -np.inf\n",
    "for filenames in train_filenames:\n",
    "    df = pd.read_csv( os.path.join(train_dir_path, filename) )\n",
    "    current_stats = get_stats_vecs(df)\n",
    "    stats[:,:3] += current_stats[:,:3]\n",
    "    stats[:,3] = np.minimum(stats[:,3], current_stats[:,3])\n",
    "    stats[:,4] = np.maximum(stats[:,4], current_stats[:,4])"
   ]
  },
  {
   "cell_type": "code",
   "execution_count": null,
   "metadata": {},
   "outputs": [],
   "source": [
    "def get_stats_df(matrix):\n",
    "    sensors = [f\"sensor_{i+1}\" for i in range(10)]\n",
    "    stats_names = [\"count\", \"mean\", \"std\", \"min\", \"max\"]\n",
    "    \n",
    "    nrows, ncols = matrix.shape\n",
    "    \n",
    "    stats_vecs = []\n",
    "    for row in range(nrows): # for every sensor\n",
    "        count = matrix[row,0]\n",
    "        total_sum = matrix[row,1]\n",
    "        mean = total_sum/count\n",
    "        total_squared_sum = matrix[row,2]\n",
    "        std = np.sqrt( (total_squared_sum - count*mean**2)/(count-1) )\n",
    "        minimum = matrix[row,3]\n",
    "        maximum = matrix[row,4]\n",
    "        stats = [count, mean, std, minimum, maximum]\n",
    "        stats_vecs.append(np.array(stats))\n",
    "        \n",
    "    new_matrix = np.vstack(stats_vecs)\n",
    "    \n",
    "    stats_df = pd.DataFrame(new_matrix, columns=stats_names, index=sensors)\n",
    "    \n",
    "    return stats_df"
   ]
  },
  {
   "cell_type": "code",
   "execution_count": null,
   "metadata": {},
   "outputs": [],
   "source": [
    "# Ya se hizo y se tienen los datos guardados\n",
    "whole_stats = get_stats_df(stats)\n",
    "whole_stats"
   ]
  },
  {
   "cell_type": "markdown",
   "metadata": {},
   "source": [
    "Ahora vienen los datos generales para cada sensor, se toman en cuenta TODOS los archivos `.csv`"
   ]
  },
  {
   "cell_type": "code",
   "execution_count": 19,
   "metadata": {},
   "outputs": [
    {
     "data": {
      "text/html": [
       "<div>\n",
       "<style scoped>\n",
       "    .dataframe tbody tr th:only-of-type {\n",
       "        vertical-align: middle;\n",
       "    }\n",
       "\n",
       "    .dataframe tbody tr th {\n",
       "        vertical-align: top;\n",
       "    }\n",
       "\n",
       "    .dataframe thead th {\n",
       "        text-align: right;\n",
       "    }\n",
       "</style>\n",
       "<table border=\"1\" class=\"dataframe\">\n",
       "  <thead>\n",
       "    <tr style=\"text-align: right;\">\n",
       "      <th></th>\n",
       "      <th>count</th>\n",
       "      <th>mean</th>\n",
       "      <th>std</th>\n",
       "      <th>min</th>\n",
       "      <th>max</th>\n",
       "    </tr>\n",
       "  </thead>\n",
       "  <tbody>\n",
       "    <tr>\n",
       "      <th>0</th>\n",
       "      <td>265864431.0</td>\n",
       "      <td>0.025250</td>\n",
       "      <td>203.303099</td>\n",
       "      <td>-1171.0</td>\n",
       "      <td>1278.0</td>\n",
       "    </tr>\n",
       "    <tr>\n",
       "      <th>1</th>\n",
       "      <td>265864431.0</td>\n",
       "      <td>-0.431776</td>\n",
       "      <td>418.222197</td>\n",
       "      <td>-4759.0</td>\n",
       "      <td>4118.0</td>\n",
       "    </tr>\n",
       "    <tr>\n",
       "      <th>2</th>\n",
       "      <td>265864431.0</td>\n",
       "      <td>0.233829</td>\n",
       "      <td>178.179004</td>\n",
       "      <td>-1288.0</td>\n",
       "      <td>1212.0</td>\n",
       "    </tr>\n",
       "    <tr>\n",
       "      <th>3</th>\n",
       "      <td>265864431.0</td>\n",
       "      <td>0.281562</td>\n",
       "      <td>200.602547</td>\n",
       "      <td>-1280.0</td>\n",
       "      <td>1532.0</td>\n",
       "    </tr>\n",
       "    <tr>\n",
       "      <th>4</th>\n",
       "      <td>265864431.0</td>\n",
       "      <td>-0.000650</td>\n",
       "      <td>161.583577</td>\n",
       "      <td>-1225.0</td>\n",
       "      <td>1370.0</td>\n",
       "    </tr>\n",
       "    <tr>\n",
       "      <th>5</th>\n",
       "      <td>265864431.0</td>\n",
       "      <td>0.044916</td>\n",
       "      <td>299.005016</td>\n",
       "      <td>-3226.0</td>\n",
       "      <td>2575.0</td>\n",
       "    </tr>\n",
       "    <tr>\n",
       "      <th>6</th>\n",
       "      <td>265864431.0</td>\n",
       "      <td>4.590190</td>\n",
       "      <td>204.956910</td>\n",
       "      <td>-986.0</td>\n",
       "      <td>983.0</td>\n",
       "    </tr>\n",
       "    <tr>\n",
       "      <th>7</th>\n",
       "      <td>265864431.0</td>\n",
       "      <td>-2.975500</td>\n",
       "      <td>247.542130</td>\n",
       "      <td>-934.0</td>\n",
       "      <td>1060.0</td>\n",
       "    </tr>\n",
       "    <tr>\n",
       "      <th>8</th>\n",
       "      <td>265864431.0</td>\n",
       "      <td>2.170547</td>\n",
       "      <td>196.562165</td>\n",
       "      <td>-1210.0</td>\n",
       "      <td>1316.0</td>\n",
       "    </tr>\n",
       "    <tr>\n",
       "      <th>9</th>\n",
       "      <td>265864431.0</td>\n",
       "      <td>-120.953801</td>\n",
       "      <td>937.478541</td>\n",
       "      <td>-3743.0</td>\n",
       "      <td>3229.0</td>\n",
       "    </tr>\n",
       "  </tbody>\n",
       "</table>\n",
       "</div>"
      ],
      "text/plain": [
       "         count        mean         std     min     max\n",
       "0  265864431.0    0.025250  203.303099 -1171.0  1278.0\n",
       "1  265864431.0   -0.431776  418.222197 -4759.0  4118.0\n",
       "2  265864431.0    0.233829  178.179004 -1288.0  1212.0\n",
       "3  265864431.0    0.281562  200.602547 -1280.0  1532.0\n",
       "4  265864431.0   -0.000650  161.583577 -1225.0  1370.0\n",
       "5  265864431.0    0.044916  299.005016 -3226.0  2575.0\n",
       "6  265864431.0    4.590190  204.956910  -986.0   983.0\n",
       "7  265864431.0   -2.975500  247.542130  -934.0  1060.0\n",
       "8  265864431.0    2.170547  196.562165 -1210.0  1316.0\n",
       "9  265864431.0 -120.953801  937.478541 -3743.0  3229.0"
      ]
     },
     "execution_count": 19,
     "metadata": {},
     "output_type": "execute_result"
    }
   ],
   "source": [
    "whole_stats = pd.read_csv(\"../csvs/whole_stats.csv\")\n",
    "whole_stats"
   ]
  },
  {
   "cell_type": "markdown",
   "metadata": {},
   "source": [
    "## Análisis Visual de los Datos"
   ]
  },
  {
   "cell_type": "code",
   "execution_count": null,
   "metadata": {},
   "outputs": [],
   "source": [
    "path_archivos = \"/home/oscar/Escritorio/predict-volcanic-eruptions-ingv-oe/\"\n",
    "train_dir = path.join(path_archivos,\"train\")\n",
    "train_filenames = listdir(train_dir)\n",
    "muestra = pd.read_csv(path.join(train_dir, train_filenames[2]), dtype = \"Int16\")\n",
    "muestra.head()"
   ]
  },
  {
   "cell_type": "code",
   "execution_count": 15,
   "metadata": {},
   "outputs": [],
   "source": [
    "def graficar_amp_ply(df):\n",
    "    validos = ~df.isna().all()\n",
    "    validos = list(validos[validos].index)\n",
    "    fig = make_subplots(rows = len(validos), cols=1, y_title = \"Amplitudes\", x_title = \"Tiempo [cs]\")\n",
    "    for idx, sensor in enumerate(validos):\n",
    "        datos = df.loc[:, sensor]\n",
    "        fig.append_trace(go.Scatter(x = list(range(df.shape[0])), y = datos, \n",
    "                                    mode = \"lines\", name = f\"{sensor}\"), \n",
    "                                     row = idx+1, col = 1)\n",
    "\n",
    "    fig.update_layout(height = 1000, width = 900, title_text = \"Diagramas de amplitudes\", title_font_size = 30)\n",
    "    fig.show()"
   ]
  },
  {
   "cell_type": "code",
   "execution_count": null,
   "metadata": {},
   "outputs": [],
   "source": [
    "graficar_amp_ply(muestra)"
   ]
  },
  {
   "cell_type": "code",
   "execution_count": null,
   "metadata": {},
   "outputs": [],
   "source": [
    "muestra.head()"
   ]
  },
  {
   "cell_type": "code",
   "execution_count": null,
   "metadata": {},
   "outputs": [],
   "source": [
    "train_path = path.join(path_archivos, \"train.csv\")\n",
    "datos_train = pd.read_csv(train_path)\n",
    "datos_train"
   ]
  },
  {
   "cell_type": "code",
   "execution_count": null,
   "metadata": {},
   "outputs": [],
   "source": [
    "datos_train[datos_train.time_to_eruption.duplicated()]"
   ]
  },
  {
   "cell_type": "code",
   "execution_count": null,
   "metadata": {},
   "outputs": [],
   "source": [
    "datos_train[datos_train.time_to_eruption == datos_train.time_to_eruption[1777]]"
   ]
  },
  {
   "cell_type": "code",
   "execution_count": null,
   "metadata": {},
   "outputs": [],
   "source": [
    "igual1 = pd.read_csv(path.join(train_dir, \"549832738.csv\"))\n",
    "graficar_amp_ply(igual1)"
   ]
  },
  {
   "cell_type": "code",
   "execution_count": null,
   "metadata": {},
   "outputs": [],
   "source": [
    "igual2 = pd.read_csv(path.join(train_dir, \"1049892705.csv\"))\n",
    "graficar_amp_ply(igual2)"
   ]
  },
  {
   "cell_type": "code",
   "execution_count": null,
   "metadata": {},
   "outputs": [],
   "source": [
    "datos_ordenados = datos_train.iloc[datos_train.time_to_eruption.sort_values().index]\n",
    "datos_ordenados.index = range(len(datos_ordenados))\n",
    "datos_ordenados"
   ]
  },
  {
   "cell_type": "code",
   "execution_count": null,
   "metadata": {},
   "outputs": [],
   "source": [
    "def graf(n):\n",
    "    graficar_amp_ply(pd.read_csv(path.join(path_archivos, f\"train/{datos_ordenados.iloc[n,0]}.csv\")))"
   ]
  },
  {
   "cell_type": "code",
   "execution_count": null,
   "metadata": {},
   "outputs": [],
   "source": [
    "graf(0)"
   ]
  },
  {
   "cell_type": "code",
   "execution_count": null,
   "metadata": {},
   "outputs": [],
   "source": [
    "graf(-1)"
   ]
  },
  {
   "cell_type": "markdown",
   "metadata": {},
   "source": [
    "## Análisis de señales\n",
    "\n",
    "¿Cuáles serán las características que utilizaremos?\n",
    "\n",
    "Librosa\n",
    "- [x] zero_crossings\n",
    "---\n",
    "Peak finding\n",
    "- [x] find_peaks (max)\n",
    "- [ ] find_peaks_cwt\n",
    "- [x] peak_prominences\n",
    "---\n",
    "Spectral analysis\n",
    "- [x] periodogram\n",
    "- [ ] csd\n",
    "- [ ] coherence\n",
    "- [ ] stft"
   ]
  },
  {
   "cell_type": "code",
   "execution_count": 45,
   "metadata": {},
   "outputs": [],
   "source": [
    "def get_chars(df, nombre):\n",
    "    cars = [int(nombre[:-4])]\n",
    "    # zeros_crossings\n",
    "    cars.extend(librosa.zero_crossings(df.values, axis = 0).sum(axis = 0))\n",
    "    # find_peaks\n",
    "    cars.extend(df.apply(find_peaks, axis = 0).iloc[0,:].apply(len).values)\n",
    "    # peak_widths_max\n",
    "    λ0 = lambda x: np.max(peak_widths(x, find_peaks(x)[0])[0]) if len(find_peaks(x)[0]) != 0 else 0\n",
    "    cars.extend(df.apply(λ0).values)\n",
    "    # peak_widths_mean\n",
    "    λ01 = lambda x: np.mean(peak_widths(x, find_peaks(x)[0])[0]) if len(find_peaks(x)[0]) != 0 else 0\n",
    "    cars.extend(df.apply(λ01).values)\n",
    "    # peak_prominences_max\n",
    "    λ1 = lambda x: np.max(peak_prominences(x, find_peaks(x)[0])[0]) if len(find_peaks(x)[0]) != 0 else 0\n",
    "    cars.extend(df.apply(λ1).values)\n",
    "    # peak_prominences_mean\n",
    "    λ11 = lambda x: np.mean(peak_prominences(x, find_peaks(x)[0])[0]) if len(find_peaks(x)[0]) != 0 else 0\n",
    "    cars.extend(df.apply(λ11).values)\n",
    "    # periodogram_max\n",
    "    λ2 = lambda x: np.max(periodogram(x, 100)[1]) if ~x.isna().all() else 0\n",
    "    cars.extend(np.sqrt(df.apply(λ2).values)) # Es un estimado del RMS\n",
    "    # periodogram_mean\n",
    "    λ3 = lambda x: np.mean(periodogram(x, 100)[1]) if ~x.isna().all() else 0\n",
    "    cars.extend(df.apply(λ3).values)\n",
    "    return cars"
   ]
  },
  {
   "cell_type": "markdown",
   "metadata": {},
   "source": [
    "## Implementando LGBM"
   ]
  },
  {
   "cell_type": "code",
   "execution_count": 2,
   "metadata": {},
   "outputs": [],
   "source": [
    "# Búsqueda de hiperparámetros\n",
    "def random_search(X_train, y_train, X_test, y_test, its = 50):\n",
    "    #Set the minimum error arbitrarily large\n",
    "    minimo = float(\"inf\") \n",
    "    pp = {}\n",
    "    count = 0 #Used for keeping track of the iteration number\n",
    "    maes = []\n",
    "    pars = []\n",
    "    #How many runs to perform using randomly selected hyperparameters\n",
    "    iterations = its\n",
    "    for i in range(iterations):\n",
    "        print('iteration number', count)\n",
    "        count += 1 #increment count\n",
    "        params = {} #initialize parameters\n",
    "        try:\n",
    "            d_train = lgb.Dataset(X_train, label = y_train) #Load in data\n",
    "            params['learning_rate'] = np.random.uniform(0, 1)\n",
    "            params['boosting_type'] = np.random.choice(['gbdt', 'dart', 'goss'])\n",
    "            params['objective'] = 'regression'\n",
    "            params['metric'] = 'mae'\n",
    "            params['sub_feature'] = np.random.uniform(0, 1)\n",
    "            params['num_leaves'] = np.random.randint(20, 300)\n",
    "            params['min_data'] = np.random.randint(10, 100)\n",
    "            params['max_depth'] = np.random.randint(5, 200)\n",
    "            iterations = np.random.randint(10, 10000)\n",
    "            clf = lgb.train(params, d_train, iterations)\n",
    "            y_pred = clf.predict(X_test) #Create predictions on test set\n",
    "            mae = mean_absolute_error(y_pred,y_test)    \n",
    "            print('MAE:', mae)\n",
    "            print(params, iterations) #Train using selected parameters\n",
    "            maes.append(mae)\n",
    "            pars.append(params)\n",
    "            if mae < minimo:\n",
    "                minimo = mae\n",
    "                pp = params\n",
    "        except: #in case something goes wrong\n",
    "            print('failed with')\n",
    "            print(params)\n",
    "    return maes, pars, minimo, pp"
   ]
  },
  {
   "cell_type": "markdown",
   "metadata": {},
   "source": [
    "### Mejores hiperparámetros encontrados: \n",
    "\n",
    "MAE: 2547251.821188033\n",
    "\n",
    "- 'learning_rate': 0.14124527912898743\n",
    "- 'boosting_type': 'dart'\n",
    "- 'objective': 'regression'\n",
    "- 'metric': 'mae'\n",
    "- 'sub_feature': 0.5486980094996131\n",
    "- 'num_leaves': 43\n",
    "- 'min_data': 23\n",
    "- 'max_depth': 68"
   ]
  },
  {
   "cell_type": "code",
   "execution_count": 47,
   "metadata": {},
   "outputs": [
    {
     "name": "stdout",
     "output_type": "stream",
     "text": [
      "CPU times: user 13min 38s, sys: 3.76 s, total: 13min 42s\n",
      "Wall time: 13min 50s\n"
     ]
    }
   ],
   "source": [
    "%%time\n",
    "# Creando los vectores de características\n",
    "path_test = \"/home/oscar/Escritorio/estandarizados/test\"\n",
    "todos = []\n",
    "i = 0\n",
    "for archivo in listdir(path_test):\n",
    "    camino = path.join(path_test, archivo)\n",
    "    df = pd.read_csv(camino)\n",
    "    try:\n",
    "        chars = get_chars(df, archivo)\n",
    "        todos.append(chars)\n",
    "    except:\n",
    "        print(archivo)\n",
    "    #print(i)\n",
    "    i += 1\n",
    "    \n",
    "caracteristicas = \"zcr peaks peak_wmax peak_wmean peak_promax peak_promean period_max period_mean\". split()\n",
    "cols = [\"segment_id\"] + [f\"sensor_{idx}_{car}\" for car in caracteristicas for idx in range(1,11)]\n",
    "df_todos = pd.DataFrame(todos, columns = cols)\n",
    "df_todos.to_csv(\"../csvs/stats_per_file_signal_test.csv\", index = False)"
   ]
  },
  {
   "cell_type": "code",
   "execution_count": 7,
   "metadata": {},
   "outputs": [],
   "source": [
    "# Entrenamiento\n",
    "datos = pd.read_csv(\"../csvs/stats_per_file_signal_train_normal.csv\")\n",
    "train = pd.read_csv(\"/home/oscar/Escritorio/predict-volcanic-eruptions-ingv-oe/train.csv\")\n",
    "datos_time = datos.join(train.set_index(\"segment_id\"), on = \"segment_id\")\n",
    "\n",
    "X = datos_time.iloc[:,1:-1].values\n",
    "y = datos_time.iloc[:,-1].values\n",
    "# Creemos que es importante separar los datos y no contemplar todo el conjunto porque estamos \n",
    "# sobreajustando el modelo (no funcionó)\n",
    "X_train, X_test, y_train, y_test = train_test_split(X, y, test_size = 0.25, random_state = 0)\n",
    "\n",
    "params = {}\n",
    "d_train = lgb.Dataset(X, label = y)\n",
    "params['learning_rate'] = 0.020881591516791632\n",
    "params['boosting_type'] = 'gbdt'\n",
    "params['objective'] = 'regression'\n",
    "params['metric'] = 'mae'\n",
    "params['sub_feature'] =  0.570967691065\n",
    "params['num_leaves'] = 244\n",
    "params['min_data'] = 12\n",
    "params['max_depth'] = 93\n",
    "params['verbose'] = -1\n",
    "iterations = 798\n",
    "clf = lgb.train(params, d_train, iterations)"
   ]
  },
  {
   "cell_type": "code",
   "execution_count": 8,
   "metadata": {},
   "outputs": [],
   "source": [
    "# Prueba\n",
    "X_test = pd.read_csv(\"../csvs/stats_per_file_signal_test_normal.csv\").values[:, 1:]\n",
    "y_pred = clf.predict(X_test) #Create predictions on test set\n",
    "\n",
    "ss = pd.read_csv(\"../csvs/stats_per_file_signal_test_normal.csv\").iloc[:, :2]\n",
    "ss.iloc[:, 1] = y_pred\n",
    "ss.rename(columns = {\"sensor_1_zcr\":\"time_to_eruption\"}, inplace = True)\n",
    "ss.to_csv(\"../csvs/submission6.csv\", index = False)"
   ]
  },
  {
   "cell_type": "markdown",
   "metadata": {},
   "source": [
    "## Checando nuestro modelo con validación cruzada"
   ]
  },
  {
   "cell_type": "code",
   "execution_count": null,
   "metadata": {},
   "outputs": [],
   "source": []
  }
 ],
 "metadata": {
  "@webio": {
   "lastCommId": null,
   "lastKernelId": null
  },
  "kernelspec": {
   "display_name": "Python 3",
   "language": "python",
   "name": "python3"
  },
  "language_info": {
   "codemirror_mode": {
    "name": "ipython",
    "version": 3
   },
   "file_extension": ".py",
   "mimetype": "text/x-python",
   "name": "python",
   "nbconvert_exporter": "python",
   "pygments_lexer": "ipython3",
   "version": "3.8.5"
  }
 },
 "nbformat": 4,
 "nbformat_minor": 4
}
