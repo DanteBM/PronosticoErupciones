{
 "cells": [
  {
   "cell_type": "markdown",
   "metadata": {},
   "source": [
    "# Pronóstico de erupciones volcánicas\n",
    "- Alvarado Morán Óscar\n",
    "- Bermúdez Marbán Dante"
   ]
  },
  {
   "cell_type": "code",
   "execution_count": 1,
   "metadata": {},
   "outputs": [],
   "source": [
    "from threading import Thread      # For parallelism\n",
    "import numpy as np                # For numeric operations\n",
    "import pandas as pd               # For data analysis\n",
    "from os import listdir, path      # For system manage\n",
    "import matplotlib.pyplot as plt   # To use seaborn more specific.\n",
    "import seaborn as sns             # To visualizate some plots.\n",
    "\n",
    "#!conda install -c conda-forge librosa -y\n",
    "import librosa                    # Wave analysis\n",
    "\n",
    "# For an interactive visualization\n",
    "from plotly.subplots import make_subplots\n",
    "import plotly.graph_objects as go\n",
    "\n",
    "#!conda install -c conda-forge lightgbm -y\n",
    "import lightgbm as lgb            # For LGBM model\n",
    "\n",
    "# To split datasets and get the mean absolute error.\n",
    "from sklearn.model_selection import train_test_split\n",
    "from sklearn.metrics import mean_absolute_error\n",
    "\n",
    "# To obtain some signal characteristics\n",
    "from scipy.signal import find_peaks, peak_prominences, periodogram, peak_widths\n",
    "\n",
    "from scipy.interpolate import UnivariateSpline\n",
    "\n",
    "import statsmodels as sm\n",
    "from statsmodels.tsa.ar_model import AutoReg, ar_select_order\n",
    "from statsmodels.tsa.holtwinters import ExponentialSmoothing, SimpleExpSmoothing\n",
    "from statsmodels.tsa import stattools\n",
    "\n",
    "from time import time"
   ]
  },
  {
   "cell_type": "markdown",
   "metadata": {},
   "source": [
    "## Análisis exploratorio de datos"
   ]
  },
  {
   "cell_type": "code",
   "execution_count": 3,
   "metadata": {},
   "outputs": [
    {
     "name": "stdout",
     "output_type": "stream",
     "text": [
      "1083379708.csv\n"
     ]
    },
    {
     "data": {
      "text/html": [
       "<div>\n",
       "<style scoped>\n",
       "    .dataframe tbody tr th:only-of-type {\n",
       "        vertical-align: middle;\n",
       "    }\n",
       "\n",
       "    .dataframe tbody tr th {\n",
       "        vertical-align: top;\n",
       "    }\n",
       "\n",
       "    .dataframe thead th {\n",
       "        text-align: right;\n",
       "    }\n",
       "</style>\n",
       "<table border=\"1\" class=\"dataframe\">\n",
       "  <thead>\n",
       "    <tr style=\"text-align: right;\">\n",
       "      <th></th>\n",
       "      <th>sensor_1</th>\n",
       "      <th>sensor_2</th>\n",
       "      <th>sensor_3</th>\n",
       "      <th>sensor_4</th>\n",
       "      <th>sensor_5</th>\n",
       "      <th>sensor_6</th>\n",
       "      <th>sensor_7</th>\n",
       "      <th>sensor_8</th>\n",
       "      <th>sensor_9</th>\n",
       "      <th>sensor_10</th>\n",
       "    </tr>\n",
       "  </thead>\n",
       "  <tbody>\n",
       "    <tr>\n",
       "      <th>0</th>\n",
       "      <td>-122</td>\n",
       "      <td>&lt;NA&gt;</td>\n",
       "      <td>21</td>\n",
       "      <td>224</td>\n",
       "      <td>-19</td>\n",
       "      <td>130</td>\n",
       "      <td>-32</td>\n",
       "      <td>&lt;NA&gt;</td>\n",
       "      <td>-53</td>\n",
       "      <td>434</td>\n",
       "    </tr>\n",
       "    <tr>\n",
       "      <th>1</th>\n",
       "      <td>-118</td>\n",
       "      <td>&lt;NA&gt;</td>\n",
       "      <td>-13</td>\n",
       "      <td>131</td>\n",
       "      <td>-80</td>\n",
       "      <td>167</td>\n",
       "      <td>-41</td>\n",
       "      <td>&lt;NA&gt;</td>\n",
       "      <td>-54</td>\n",
       "      <td>712</td>\n",
       "    </tr>\n",
       "    <tr>\n",
       "      <th>2</th>\n",
       "      <td>-113</td>\n",
       "      <td>&lt;NA&gt;</td>\n",
       "      <td>-49</td>\n",
       "      <td>8</td>\n",
       "      <td>-165</td>\n",
       "      <td>138</td>\n",
       "      <td>-35</td>\n",
       "      <td>&lt;NA&gt;</td>\n",
       "      <td>-53</td>\n",
       "      <td>911</td>\n",
       "    </tr>\n",
       "    <tr>\n",
       "      <th>3</th>\n",
       "      <td>-101</td>\n",
       "      <td>&lt;NA&gt;</td>\n",
       "      <td>-90</td>\n",
       "      <td>-116</td>\n",
       "      <td>-271</td>\n",
       "      <td>84</td>\n",
       "      <td>-38</td>\n",
       "      <td>&lt;NA&gt;</td>\n",
       "      <td>-37</td>\n",
       "      <td>1022</td>\n",
       "    </tr>\n",
       "    <tr>\n",
       "      <th>4</th>\n",
       "      <td>-84</td>\n",
       "      <td>&lt;NA&gt;</td>\n",
       "      <td>-129</td>\n",
       "      <td>-245</td>\n",
       "      <td>-382</td>\n",
       "      <td>113</td>\n",
       "      <td>-49</td>\n",
       "      <td>&lt;NA&gt;</td>\n",
       "      <td>-31</td>\n",
       "      <td>1064</td>\n",
       "    </tr>\n",
       "  </tbody>\n",
       "</table>\n",
       "</div>"
      ],
      "text/plain": [
       "   sensor_1  sensor_2  sensor_3  sensor_4  sensor_5  sensor_6  sensor_7  \\\n",
       "0      -122      <NA>        21       224       -19       130       -32   \n",
       "1      -118      <NA>       -13       131       -80       167       -41   \n",
       "2      -113      <NA>       -49         8      -165       138       -35   \n",
       "3      -101      <NA>       -90      -116      -271        84       -38   \n",
       "4       -84      <NA>      -129      -245      -382       113       -49   \n",
       "\n",
       "   sensor_8  sensor_9  sensor_10  \n",
       "0      <NA>       -53        434  \n",
       "1      <NA>       -54        712  \n",
       "2      <NA>       -53        911  \n",
       "3      <NA>       -37       1022  \n",
       "4      <NA>       -31       1064  "
      ]
     },
     "execution_count": 3,
     "metadata": {},
     "output_type": "execute_result"
    }
   ],
   "source": [
    "# Exploring a dataset from the 4,431 files of training.\n",
    "train_dir = \"/home/oscar/Documentos/LCD/Volcanes/predict-volcanic-eruptions-ingv-oe/train\" # Oscar\n",
    "train_filenames = listdir(train_dir)\n",
    "# Just a file\n",
    "train_filename = train_filenames[0]\n",
    "print(train_filename)\n",
    "data = pd.read_csv(path.join(train_dir,train_filename), dtype=\"Int16\")\n",
    "data.head()"
   ]
  },
  {
   "cell_type": "markdown",
   "metadata": {},
   "source": [
    "Mostramos algunas estadísticas importantes de un archivo de todo el conjunto de datos."
   ]
  },
  {
   "cell_type": "code",
   "execution_count": 4,
   "metadata": {},
   "outputs": [
    {
     "data": {
      "text/html": [
       "<div>\n",
       "<style scoped>\n",
       "    .dataframe tbody tr th:only-of-type {\n",
       "        vertical-align: middle;\n",
       "    }\n",
       "\n",
       "    .dataframe tbody tr th {\n",
       "        vertical-align: top;\n",
       "    }\n",
       "\n",
       "    .dataframe thead th {\n",
       "        text-align: right;\n",
       "    }\n",
       "</style>\n",
       "<table border=\"1\" class=\"dataframe\">\n",
       "  <thead>\n",
       "    <tr style=\"text-align: right;\">\n",
       "      <th></th>\n",
       "      <th>sensor_1</th>\n",
       "      <th>sensor_2</th>\n",
       "      <th>sensor_3</th>\n",
       "      <th>sensor_4</th>\n",
       "      <th>sensor_5</th>\n",
       "      <th>sensor_6</th>\n",
       "      <th>sensor_7</th>\n",
       "      <th>sensor_8</th>\n",
       "      <th>sensor_9</th>\n",
       "      <th>sensor_10</th>\n",
       "    </tr>\n",
       "  </thead>\n",
       "  <tbody>\n",
       "    <tr>\n",
       "      <th>count</th>\n",
       "      <td>60001.000000</td>\n",
       "      <td>0</td>\n",
       "      <td>60001.000000</td>\n",
       "      <td>60001.000000</td>\n",
       "      <td>60001.000000</td>\n",
       "      <td>60001.000000</td>\n",
       "      <td>60001.000000</td>\n",
       "      <td>0</td>\n",
       "      <td>60001.000000</td>\n",
       "      <td>60001.000000</td>\n",
       "    </tr>\n",
       "    <tr>\n",
       "      <th>mean</th>\n",
       "      <td>0.797320</td>\n",
       "      <td>&lt;NA&gt;</td>\n",
       "      <td>0.190997</td>\n",
       "      <td>-3.525641</td>\n",
       "      <td>-0.757687</td>\n",
       "      <td>-4.323245</td>\n",
       "      <td>1.383010</td>\n",
       "      <td>&lt;NA&gt;</td>\n",
       "      <td>0.508075</td>\n",
       "      <td>-0.474809</td>\n",
       "    </tr>\n",
       "    <tr>\n",
       "      <th>std</th>\n",
       "      <td>312.750805</td>\n",
       "      <td>&lt;NA&gt;</td>\n",
       "      <td>269.668139</td>\n",
       "      <td>329.800720</td>\n",
       "      <td>221.876101</td>\n",
       "      <td>200.083887</td>\n",
       "      <td>254.389676</td>\n",
       "      <td>&lt;NA&gt;</td>\n",
       "      <td>330.120142</td>\n",
       "      <td>666.593175</td>\n",
       "    </tr>\n",
       "    <tr>\n",
       "      <th>min</th>\n",
       "      <td>-1970.000000</td>\n",
       "      <td>&lt;NA&gt;</td>\n",
       "      <td>-2293.000000</td>\n",
       "      <td>-2435.000000</td>\n",
       "      <td>-2252.000000</td>\n",
       "      <td>-791.000000</td>\n",
       "      <td>-1385.000000</td>\n",
       "      <td>&lt;NA&gt;</td>\n",
       "      <td>-1813.000000</td>\n",
       "      <td>-4151.000000</td>\n",
       "    </tr>\n",
       "    <tr>\n",
       "      <th>25%</th>\n",
       "      <td>-181.000000</td>\n",
       "      <td>&lt;NA&gt;</td>\n",
       "      <td>-146.000000</td>\n",
       "      <td>-186.000000</td>\n",
       "      <td>-130.000000</td>\n",
       "      <td>-133.000000</td>\n",
       "      <td>-146.000000</td>\n",
       "      <td>&lt;NA&gt;</td>\n",
       "      <td>-187.000000</td>\n",
       "      <td>-403.000000</td>\n",
       "    </tr>\n",
       "    <tr>\n",
       "      <th>50%</th>\n",
       "      <td>0.000000</td>\n",
       "      <td>&lt;NA&gt;</td>\n",
       "      <td>0.000000</td>\n",
       "      <td>0.000000</td>\n",
       "      <td>0.000000</td>\n",
       "      <td>0.000000</td>\n",
       "      <td>0.000000</td>\n",
       "      <td>&lt;NA&gt;</td>\n",
       "      <td>0.000000</td>\n",
       "      <td>0.000000</td>\n",
       "    </tr>\n",
       "    <tr>\n",
       "      <th>75%</th>\n",
       "      <td>181.000000</td>\n",
       "      <td>&lt;NA&gt;</td>\n",
       "      <td>144.000000</td>\n",
       "      <td>176.000000</td>\n",
       "      <td>130.000000</td>\n",
       "      <td>126.000000</td>\n",
       "      <td>151.000000</td>\n",
       "      <td>&lt;NA&gt;</td>\n",
       "      <td>184.000000</td>\n",
       "      <td>406.000000</td>\n",
       "    </tr>\n",
       "    <tr>\n",
       "      <th>max</th>\n",
       "      <td>2023.000000</td>\n",
       "      <td>&lt;NA&gt;</td>\n",
       "      <td>1971.000000</td>\n",
       "      <td>3124.000000</td>\n",
       "      <td>1741.000000</td>\n",
       "      <td>892.000000</td>\n",
       "      <td>1542.000000</td>\n",
       "      <td>&lt;NA&gt;</td>\n",
       "      <td>2267.000000</td>\n",
       "      <td>4049.000000</td>\n",
       "    </tr>\n",
       "  </tbody>\n",
       "</table>\n",
       "</div>"
      ],
      "text/plain": [
       "           sensor_1 sensor_2      sensor_3      sensor_4      sensor_5  \\\n",
       "count  60001.000000        0  60001.000000  60001.000000  60001.000000   \n",
       "mean       0.797320     <NA>      0.190997     -3.525641     -0.757687   \n",
       "std      312.750805     <NA>    269.668139    329.800720    221.876101   \n",
       "min    -1970.000000     <NA>  -2293.000000  -2435.000000  -2252.000000   \n",
       "25%     -181.000000     <NA>   -146.000000   -186.000000   -130.000000   \n",
       "50%        0.000000     <NA>      0.000000      0.000000      0.000000   \n",
       "75%      181.000000     <NA>    144.000000    176.000000    130.000000   \n",
       "max     2023.000000     <NA>   1971.000000   3124.000000   1741.000000   \n",
       "\n",
       "           sensor_6      sensor_7 sensor_8      sensor_9     sensor_10  \n",
       "count  60001.000000  60001.000000        0  60001.000000  60001.000000  \n",
       "mean      -4.323245      1.383010     <NA>      0.508075     -0.474809  \n",
       "std      200.083887    254.389676     <NA>    330.120142    666.593175  \n",
       "min     -791.000000  -1385.000000     <NA>  -1813.000000  -4151.000000  \n",
       "25%     -133.000000   -146.000000     <NA>   -187.000000   -403.000000  \n",
       "50%        0.000000      0.000000     <NA>      0.000000      0.000000  \n",
       "75%      126.000000    151.000000     <NA>    184.000000    406.000000  \n",
       "max      892.000000   1542.000000     <NA>   2267.000000   4049.000000  "
      ]
     },
     "execution_count": 4,
     "metadata": {},
     "output_type": "execute_result"
    }
   ],
   "source": [
    "data.describe()"
   ]
  },
  {
   "cell_type": "markdown",
   "metadata": {},
   "source": [
    "### Etiquetas de los datos"
   ]
  },
  {
   "cell_type": "code",
   "execution_count": 2,
   "metadata": {},
   "outputs": [
    {
     "data": {
      "text/html": [
       "<div>\n",
       "<style scoped>\n",
       "    .dataframe tbody tr th:only-of-type {\n",
       "        vertical-align: middle;\n",
       "    }\n",
       "\n",
       "    .dataframe tbody tr th {\n",
       "        vertical-align: top;\n",
       "    }\n",
       "\n",
       "    .dataframe thead th {\n",
       "        text-align: right;\n",
       "    }\n",
       "</style>\n",
       "<table border=\"1\" class=\"dataframe\">\n",
       "  <thead>\n",
       "    <tr style=\"text-align: right;\">\n",
       "      <th></th>\n",
       "      <th>segment_id</th>\n",
       "      <th>time_to_eruption</th>\n",
       "    </tr>\n",
       "  </thead>\n",
       "  <tbody>\n",
       "    <tr>\n",
       "      <th>0</th>\n",
       "      <td>1136037770</td>\n",
       "      <td>12262005</td>\n",
       "    </tr>\n",
       "    <tr>\n",
       "      <th>1</th>\n",
       "      <td>1969647810</td>\n",
       "      <td>32739612</td>\n",
       "    </tr>\n",
       "    <tr>\n",
       "      <th>2</th>\n",
       "      <td>1895879680</td>\n",
       "      <td>14965999</td>\n",
       "    </tr>\n",
       "    <tr>\n",
       "      <th>3</th>\n",
       "      <td>2068207140</td>\n",
       "      <td>26469720</td>\n",
       "    </tr>\n",
       "    <tr>\n",
       "      <th>4</th>\n",
       "      <td>192955606</td>\n",
       "      <td>31072429</td>\n",
       "    </tr>\n",
       "  </tbody>\n",
       "</table>\n",
       "</div>"
      ],
      "text/plain": [
       "   segment_id  time_to_eruption\n",
       "0  1136037770          12262005\n",
       "1  1969647810          32739612\n",
       "2  1895879680          14965999\n",
       "3  2068207140          26469720\n",
       "4   192955606          31072429"
      ]
     },
     "execution_count": 2,
     "metadata": {},
     "output_type": "execute_result"
    }
   ],
   "source": [
    "# File with the name of all the other files and its label, in this case is the time to eruption.\n",
    "\n",
    "target_path = \"../csvs/train.csv\"\n",
    "target_csv = pd.read_csv(target_path)\n",
    "target_csv.head()"
   ]
  },
  {
   "cell_type": "markdown",
   "metadata": {},
   "source": [
    "Mostramos las mismas estadísticas para el noombre de los archivos y las etiquetas."
   ]
  },
  {
   "cell_type": "code",
   "execution_count": 3,
   "metadata": {},
   "outputs": [
    {
     "data": {
      "text/html": [
       "<div>\n",
       "<style scoped>\n",
       "    .dataframe tbody tr th:only-of-type {\n",
       "        vertical-align: middle;\n",
       "    }\n",
       "\n",
       "    .dataframe tbody tr th {\n",
       "        vertical-align: top;\n",
       "    }\n",
       "\n",
       "    .dataframe thead th {\n",
       "        text-align: right;\n",
       "    }\n",
       "</style>\n",
       "<table border=\"1\" class=\"dataframe\">\n",
       "  <thead>\n",
       "    <tr style=\"text-align: right;\">\n",
       "      <th></th>\n",
       "      <th>segment_id</th>\n",
       "      <th>time_to_eruption</th>\n",
       "    </tr>\n",
       "  </thead>\n",
       "  <tbody>\n",
       "    <tr>\n",
       "      <th>count</th>\n",
       "      <td>4.431000e+03</td>\n",
       "      <td>4.431000e+03</td>\n",
       "    </tr>\n",
       "    <tr>\n",
       "      <th>mean</th>\n",
       "      <td>1.074694e+09</td>\n",
       "      <td>2.284891e+07</td>\n",
       "    </tr>\n",
       "    <tr>\n",
       "      <th>std</th>\n",
       "      <td>6.161966e+08</td>\n",
       "      <td>1.348439e+07</td>\n",
       "    </tr>\n",
       "    <tr>\n",
       "      <th>min</th>\n",
       "      <td>5.131810e+05</td>\n",
       "      <td>6.250000e+03</td>\n",
       "    </tr>\n",
       "    <tr>\n",
       "      <th>25%</th>\n",
       "      <td>5.527934e+08</td>\n",
       "      <td>1.127016e+07</td>\n",
       "    </tr>\n",
       "    <tr>\n",
       "      <th>50%</th>\n",
       "      <td>1.066153e+09</td>\n",
       "      <td>2.246559e+07</td>\n",
       "    </tr>\n",
       "    <tr>\n",
       "      <th>75%</th>\n",
       "      <td>1.606350e+09</td>\n",
       "      <td>3.434356e+07</td>\n",
       "    </tr>\n",
       "    <tr>\n",
       "      <th>max</th>\n",
       "      <td>2.146939e+09</td>\n",
       "      <td>4.904609e+07</td>\n",
       "    </tr>\n",
       "  </tbody>\n",
       "</table>\n",
       "</div>"
      ],
      "text/plain": [
       "         segment_id  time_to_eruption\n",
       "count  4.431000e+03      4.431000e+03\n",
       "mean   1.074694e+09      2.284891e+07\n",
       "std    6.161966e+08      1.348439e+07\n",
       "min    5.131810e+05      6.250000e+03\n",
       "25%    5.527934e+08      1.127016e+07\n",
       "50%    1.066153e+09      2.246559e+07\n",
       "75%    1.606350e+09      3.434356e+07\n",
       "max    2.146939e+09      4.904609e+07"
      ]
     },
     "execution_count": 3,
     "metadata": {},
     "output_type": "execute_result"
    }
   ],
   "source": [
    "# Some important statistical characteristics of the last file. \n",
    "target_csv.describe()"
   ]
  },
  {
   "cell_type": "markdown",
   "metadata": {},
   "source": [
    "Mostramos a continuación la distribución de los datos del _tiempo para la erupción_."
   ]
  },
  {
   "cell_type": "code",
   "execution_count": 4,
   "metadata": {},
   "outputs": [
    {
     "data": {
      "image/png": "[encoded data removed]",
      "text/plain": [
       "<Figure size 1152x648 with 1 Axes>"
      ]
     },
     "metadata": {
      "needs_background": "light"
     },
     "output_type": "display_data"
    }
   ],
   "source": [
    "fig, ax = plt.subplots(figsize=(16,9))\n",
    "sns.histplot(data=target_csv, x=\"time_to_eruption\", bins=75, kde=True)\n",
    "[ax.spines[i].set_visible(False) for i in ax.spines.keys() if i != \"buttom\"]; # To delete de spines"
   ]
  },
  {
   "cell_type": "markdown",
   "metadata": {},
   "source": [
    "Se podría pensar que pareciera uniforme excepto por el límite superior (hasta la derecha) que desciende abruptamente. Significa que hay menos archivos con tiempos de erupción pequeños. "
   ]
  },
  {
   "cell_type": "code",
   "execution_count": 5,
   "metadata": {},
   "outputs": [],
   "source": [
    "def check_prank(data):\n",
    "    \"\"\"\n",
    "    Function to check the number on NaNs in the file's columns or if the column is a constant.\n",
    "    \n",
    "    Parameters\n",
    "        data: pd.Dataframe \n",
    "        Dataframe to analyse.\n",
    "        \n",
    "    Returns\n",
    "        only_nans: list \n",
    "        List of integers with the NaNs by column.\n",
    "        \n",
    "        only_constants: list \n",
    "        Boolean list saying if the column is a constant or not. \n",
    "    \"\"\"\n",
    "    nrows, _ = data.shape\n",
    "    only_nans = [data[sensor].isna().sum() for sensor in data.columns]\n",
    "    only_constants = [data[sensor].std() == 0 for sensor in data.columns]\n",
    "    \n",
    "    return only_nans, only_constants"
   ]
  },
  {
   "cell_type": "code",
   "execution_count": 6,
   "metadata": {},
   "outputs": [],
   "source": [
    "def yield_partition(data, npartitions):\n",
    "    \"\"\"\n",
    "    Generator to do the partition over the data in the number of npartitions that could be possible.\n",
    "    \n",
    "    Parameters\n",
    "        data: np.array \n",
    "        Numpy array to be partitionated.\n",
    "        \n",
    "        npartitions: int \n",
    "        Int of threads to be used.\n",
    "        \n",
    "    yields\n",
    "        slice of data\n",
    "    \"\"\"\n",
    "    n_elements = len(data)\n",
    "    n = n_elements//npartitions\n",
    "    \n",
    "    for k in range(npartitions):\n",
    "        i = k*n\n",
    "        j = (k+1)*n\n",
    "        if k != npartitions - 1:\n",
    "            yield data[i:j]\n",
    "        else:\n",
    "            yield data[i:]  # Last one"
   ]
  },
  {
   "cell_type": "code",
   "execution_count": 7,
   "metadata": {},
   "outputs": [],
   "source": [
    "def parallelize(nthreads):\n",
    "    \"\"\"\n",
    "    Decorator to parallelise operations over data\n",
    "    \n",
    "    Parameters\n",
    "        nthreads: int \n",
    "        Number of threads to be used.\n",
    "        \n",
    "    Returns\n",
    "        decorator\n",
    "    \"\"\"\n",
    "    def decorator(original_function):\n",
    "        def parallelized_function(dir_path, filenames, verbose=True):\n",
    "            parallel_ans = []\n",
    "            threads = []\n",
    "            counter = 1\n",
    "    \n",
    "            # Separate the data\n",
    "            for partition in yield_partition(filenames, nthreads):\n",
    "                thread = Thread(target=original_function, args=(dir_path, partition, verbose, parallel_ans))\n",
    "                threads.append(thread)\n",
    "                print(\"Starting\",counter)\n",
    "                thread.start()\n",
    "                counter += 1 \n",
    "            \n",
    "            for thread in threads:\n",
    "                thread.join()\n",
    "            \n",
    "            list_nans = [df_nan for df_nan, df_constant in parallel_ans]\n",
    "            list_constants = [df_constant for df_nan, df_constant in parallel_ans]\n",
    "            concatenation_nans = pd.concat(list_nans)\n",
    "            concatenation_constants = pd.concat(list_constants)\n",
    "            return concatenation_nans, concatenation_constants\n",
    "        \n",
    "        return parallelized_function\n",
    "    \n",
    "    return decorator"
   ]
  },
  {
   "cell_type": "code",
   "execution_count": 8,
   "metadata": {},
   "outputs": [],
   "source": [
    "@parallelize(8)\n",
    "def check_pranks(dir_path, filenames, verbose=True, parallel_ans = None):\n",
    "    \"\"\"\n",
    "    Function to check the number of NaNs in a column or if all the column are a constant.\n",
    "    \n",
    "    Parameters\n",
    "        dir_path: string \n",
    "        Path in system where we have the training files.\n",
    "        \n",
    "        filenames: list\n",
    "        List of training filenames.\n",
    "        \n",
    "    Returns\n",
    "        df_nans: pd.Dataframe \n",
    "        Dataframe with the NaNs by columns of all the files.\n",
    "        \n",
    "        df_constants: pd.Dataframe \n",
    "        Dataframe with True or False saying if the columns is or not a constant.\n",
    "    \"\"\"\n",
    "    nans = []\n",
    "    constants = []\n",
    "    for i,filename in enumerate(filenames,1):\n",
    "        df = pd.read_csv(path.join(dir_path,filename), dtype=\"Int16\")\n",
    "        only_nans, only_constants = check_prank(df)\n",
    "        nans.append(only_nans)\n",
    "        constants.append(only_constants)\n",
    "        if verbose and i%10 == 0:\n",
    "            print(i)\n",
    "    \n",
    "    df_nans = pd.DataFrame(nans, columns=df.columns)\n",
    "    df_constants = pd.DataFrame(constants, columns=df.columns)\n",
    "    \n",
    "    if parallel_ans != None:\n",
    "        parallel_ans.append( (df_nans, df_constants) )\n",
    "    else:\n",
    "        return df_nans, df_constants"
   ]
  },
  {
   "cell_type": "markdown",
   "metadata": {},
   "source": [
    "- Datos de entrenamiento"
   ]
  },
  {
   "cell_type": "code",
   "execution_count": 9,
   "metadata": {},
   "outputs": [
    {
     "data": {
      "text/plain": [
       "sensor_1      1545802\n",
       "sensor_2     50569629\n",
       "sensor_3     26499171\n",
       "sensor_4         6210\n",
       "sensor_5     49241506\n",
       "sensor_6        88904\n",
       "sensor_7      2546627\n",
       "sensor_8     26465572\n",
       "sensor_9     10520113\n",
       "sensor_10     1895973\n",
       "dtype: int64"
      ]
     },
     "execution_count": 9,
     "metadata": {},
     "output_type": "execute_result"
    }
   ],
   "source": [
    "# Cheking the NaNs file after creating it using training data.\n",
    "df_train_nans = pd.read_csv(\"../csvs/df_train_nans.csv\")\n",
    "df_train_nans.sum(axis=0)"
   ]
  },
  {
   "cell_type": "code",
   "execution_count": 10,
   "metadata": {},
   "outputs": [
    {
     "data": {
      "text/plain": [
       "sensor_1     0\n",
       "sensor_2     0\n",
       "sensor_3     0\n",
       "sensor_4     0\n",
       "sensor_5     0\n",
       "sensor_6     0\n",
       "sensor_7     0\n",
       "sensor_8     0\n",
       "sensor_9     0\n",
       "sensor_10    0\n",
       "dtype: int64"
      ]
     },
     "execution_count": 10,
     "metadata": {},
     "output_type": "execute_result"
    }
   ],
   "source": [
    "# Cheking the Constants file after creating it using training data.. \n",
    "df_train_constants = pd.read_csv(\"../csvs/df_train_constants.csv\")\n",
    "df_train_constants.sum(axis=0)"
   ]
  },
  {
   "cell_type": "markdown",
   "metadata": {},
   "source": [
    "- Datos de prueba"
   ]
  },
  {
   "cell_type": "code",
   "execution_count": 11,
   "metadata": {},
   "outputs": [
    {
     "data": {
      "text/plain": [
       "sensor_1     23328531\n",
       "sensor_2     75807628\n",
       "sensor_3     26593834\n",
       "sensor_4        13406\n",
       "sensor_5     92651510\n",
       "sensor_6        57658\n",
       "sensor_7      2713162\n",
       "sensor_8     17653700\n",
       "sensor_9     51208744\n",
       "sensor_10    46050548\n",
       "dtype: int64"
      ]
     },
     "execution_count": 11,
     "metadata": {},
     "output_type": "execute_result"
    }
   ],
   "source": [
    "# Cheking the NaNs file after creating it using testing data.\n",
    "df_test_nans = pd.read_csv(\"../csvs/df_test_nans.csv\")\n",
    "df_test_nans.sum(axis=0)"
   ]
  },
  {
   "cell_type": "code",
   "execution_count": 12,
   "metadata": {},
   "outputs": [
    {
     "data": {
      "text/plain": [
       "sensor_1       0\n",
       "sensor_2       0\n",
       "sensor_3       0\n",
       "sensor_4       0\n",
       "sensor_5       0\n",
       "sensor_6       0\n",
       "sensor_7       0\n",
       "sensor_8       0\n",
       "sensor_9       0\n",
       "sensor_10    815\n",
       "dtype: int64"
      ]
     },
     "execution_count": 12,
     "metadata": {},
     "output_type": "execute_result"
    }
   ],
   "source": [
    "# Cheking the Constants file after creating it using testing data.. \n",
    "df_test_constants = pd.read_csv(\"../csvs/df_test_constants.csv\")\n",
    "df_test_constants.sum(axis=0)"
   ]
  },
  {
   "cell_type": "markdown",
   "metadata": {},
   "source": [
    "### Estandarizando datos\n",
    "Esto nos ayudará a centrar los datos."
   ]
  },
  {
   "cell_type": "code",
   "execution_count": 13,
   "metadata": {},
   "outputs": [],
   "source": [
    "# To standardize the data\n",
    "def standardize(df):\n",
    "    \"\"\"\n",
    "    Function to standardize the signals.\n",
    "    \n",
    "    Parameters\n",
    "        df: pd.Dataframe \n",
    "        Dataframe to standardize by column.\n",
    "        \n",
    "    Returns\n",
    "        standardize_df: pd.Dataframe \n",
    "        Dataframe standardized.\n",
    "    \"\"\"\n",
    "    aggs = df.agg([np.nanmean, np.nanstd]).astype(\"float16\")\n",
    "    standardized_df = (df - aggs.loc[\"nanmean\",:])/ aggs.loc[\"nanstd\",:]\n",
    "    return standardized_df"
   ]
  },
  {
   "cell_type": "code",
   "execution_count": null,
   "metadata": {},
   "outputs": [],
   "source": [
    "# We don't have to re-run this code, we already did it. \n",
    "path_originals = \"/home/oscar/Escritorio/predict-volcanic-eruptions-ingv-oe\"\n",
    "path_copies = \"/home/oscar/Escritorio/estandarizados\"\n",
    "for directory in [\"train\", \"test\"]:\n",
    "    paths = path.join(path_originals, directory)\n",
    "    print(f\"Comienzo con {directory}\")\n",
    "    for file in listdir(paths):\n",
    "        reading = path.join(paths, file)\n",
    "        writing = path.join(path_copies, directory, file)\n",
    "        df = pd.read_csv(reading)\n",
    "        s_df = standardize(df).astype(\"Float16\")\n",
    "        s_df.to_csv(writing, index = False)"
   ]
  },
  {
   "cell_type": "markdown",
   "metadata": {},
   "source": [
    "### Exploración del sensado"
   ]
  },
  {
   "cell_type": "code",
   "execution_count": 15,
   "metadata": {},
   "outputs": [
    {
     "data": {
      "text/plain": [
       "4432"
      ]
     },
     "execution_count": 15,
     "metadata": {},
     "output_type": "execute_result"
    }
   ],
   "source": [
    "# How many training files do we have\n",
    "train_dir = \"../train\"\n",
    "train_filenames = listdir(train_dir)\n",
    "len(train_filenames)"
   ]
  },
  {
   "cell_type": "code",
   "execution_count": 16,
   "metadata": {},
   "outputs": [],
   "source": [
    "# To get stats per file.\n",
    "def get_stats_per_df(df):\n",
    "    \"\"\"\n",
    "    Function to get some aggregation functions of each files.\n",
    "    \n",
    "    Parameters\n",
    "        df: pd.Dataframe\n",
    "        Dataframe to analyse and get the aggregation functions.\n",
    "        \n",
    "    Returns\n",
    "        aggs: list \n",
    "        List of the auggmentation functions' results.\n",
    "    \"\"\"\n",
    "    aggs = df.agg([\"count\", np.nanmean, np.nanstd, np.nanmin, np.nanmax])\n",
    "    aggs = aggs.stack()\n",
    "    aggs.index = aggs.index.map(lambda t:f\"{t[1]}_{t[0]}\")\n",
    "    return aggs"
   ]
  },
  {
   "cell_type": "code",
   "execution_count": null,
   "metadata": {},
   "outputs": [],
   "source": [
    "# Do not run again\n",
    "%%time\n",
    "stats_per_file = []\n",
    "for i,filename in enumerate(train_filenames,1):\n",
    "    df = pd.read_csv(os.path.join(train_dir_path, filename), dtype=\"Int16\")\n",
    "    temporal_stats = get_stats_per_df(df)\n",
    "    stats_per_file.append(temporal_stats)\n",
    "    if i%50 == 0:\n",
    "        print(i)"
   ]
  },
  {
   "cell_type": "markdown",
   "metadata": {},
   "source": [
    "Vemos las estadísticas por archivo `.csv`"
   ]
  },
  {
   "cell_type": "code",
   "execution_count": 17,
   "metadata": {},
   "outputs": [
    {
     "data": {
      "text/html": [
       "<div>\n",
       "<style scoped>\n",
       "    .dataframe tbody tr th:only-of-type {\n",
       "        vertical-align: middle;\n",
       "    }\n",
       "\n",
       "    .dataframe tbody tr th {\n",
       "        vertical-align: top;\n",
       "    }\n",
       "\n",
       "    .dataframe thead th {\n",
       "        text-align: right;\n",
       "    }\n",
       "</style>\n",
       "<table border=\"1\" class=\"dataframe\">\n",
       "  <thead>\n",
       "    <tr style=\"text-align: right;\">\n",
       "      <th></th>\n",
       "      <th>segment_id</th>\n",
       "      <th>sensor_1_count</th>\n",
       "      <th>sensor_2_count</th>\n",
       "      <th>sensor_3_count</th>\n",
       "      <th>sensor_4_count</th>\n",
       "      <th>sensor_5_count</th>\n",
       "      <th>sensor_6_count</th>\n",
       "      <th>sensor_7_count</th>\n",
       "      <th>sensor_8_count</th>\n",
       "      <th>sensor_9_count</th>\n",
       "      <th>...</th>\n",
       "      <th>sensor_9_nanmax</th>\n",
       "      <th>sensor_10_nanmax</th>\n",
       "      <th>sensor_8_nanmean</th>\n",
       "      <th>sensor_8_nanstd</th>\n",
       "      <th>sensor_8_nanmin</th>\n",
       "      <th>sensor_8_nanmax</th>\n",
       "      <th>sensor_2_nanmean</th>\n",
       "      <th>sensor_2_nanstd</th>\n",
       "      <th>sensor_2_nanmin</th>\n",
       "      <th>sensor_2_nanmax</th>\n",
       "    </tr>\n",
       "  </thead>\n",
       "  <tbody>\n",
       "    <tr>\n",
       "      <th>0</th>\n",
       "      <td>1136037770</td>\n",
       "      <td>60001.0</td>\n",
       "      <td>0.0</td>\n",
       "      <td>60001.0</td>\n",
       "      <td>60001.0</td>\n",
       "      <td>60001.0</td>\n",
       "      <td>60001.0</td>\n",
       "      <td>60001.0</td>\n",
       "      <td>0.0</td>\n",
       "      <td>60001.0</td>\n",
       "      <td>...</td>\n",
       "      <td>3884.0</td>\n",
       "      <td>4912.0</td>\n",
       "      <td>NaN</td>\n",
       "      <td>NaN</td>\n",
       "      <td>NaN</td>\n",
       "      <td>NaN</td>\n",
       "      <td>NaN</td>\n",
       "      <td>NaN</td>\n",
       "      <td>NaN</td>\n",
       "      <td>NaN</td>\n",
       "    </tr>\n",
       "    <tr>\n",
       "      <th>1</th>\n",
       "      <td>1969647810</td>\n",
       "      <td>60001.0</td>\n",
       "      <td>0.0</td>\n",
       "      <td>60001.0</td>\n",
       "      <td>60001.0</td>\n",
       "      <td>2072.0</td>\n",
       "      <td>60001.0</td>\n",
       "      <td>0.0</td>\n",
       "      <td>60001.0</td>\n",
       "      <td>55407.0</td>\n",
       "      <td>...</td>\n",
       "      <td>1373.0</td>\n",
       "      <td>4026.0</td>\n",
       "      <td>2.562674</td>\n",
       "      <td>759.108629</td>\n",
       "      <td>-4284.0</td>\n",
       "      <td>6339.0</td>\n",
       "      <td>NaN</td>\n",
       "      <td>NaN</td>\n",
       "      <td>NaN</td>\n",
       "      <td>NaN</td>\n",
       "    </tr>\n",
       "    <tr>\n",
       "      <th>2</th>\n",
       "      <td>1895879680</td>\n",
       "      <td>60001.0</td>\n",
       "      <td>0.0</td>\n",
       "      <td>60001.0</td>\n",
       "      <td>60001.0</td>\n",
       "      <td>60001.0</td>\n",
       "      <td>60001.0</td>\n",
       "      <td>60001.0</td>\n",
       "      <td>0.0</td>\n",
       "      <td>60001.0</td>\n",
       "      <td>...</td>\n",
       "      <td>2182.0</td>\n",
       "      <td>4374.0</td>\n",
       "      <td>NaN</td>\n",
       "      <td>NaN</td>\n",
       "      <td>NaN</td>\n",
       "      <td>NaN</td>\n",
       "      <td>NaN</td>\n",
       "      <td>NaN</td>\n",
       "      <td>NaN</td>\n",
       "      <td>NaN</td>\n",
       "    </tr>\n",
       "    <tr>\n",
       "      <th>3</th>\n",
       "      <td>2068207140</td>\n",
       "      <td>60001.0</td>\n",
       "      <td>0.0</td>\n",
       "      <td>60001.0</td>\n",
       "      <td>60001.0</td>\n",
       "      <td>60001.0</td>\n",
       "      <td>60001.0</td>\n",
       "      <td>60001.0</td>\n",
       "      <td>0.0</td>\n",
       "      <td>60001.0</td>\n",
       "      <td>...</td>\n",
       "      <td>2605.0</td>\n",
       "      <td>3692.0</td>\n",
       "      <td>NaN</td>\n",
       "      <td>NaN</td>\n",
       "      <td>NaN</td>\n",
       "      <td>NaN</td>\n",
       "      <td>NaN</td>\n",
       "      <td>NaN</td>\n",
       "      <td>NaN</td>\n",
       "      <td>NaN</td>\n",
       "    </tr>\n",
       "    <tr>\n",
       "      <th>4</th>\n",
       "      <td>192955606</td>\n",
       "      <td>60001.0</td>\n",
       "      <td>60001.0</td>\n",
       "      <td>60001.0</td>\n",
       "      <td>60001.0</td>\n",
       "      <td>60001.0</td>\n",
       "      <td>60001.0</td>\n",
       "      <td>60001.0</td>\n",
       "      <td>60001.0</td>\n",
       "      <td>60001.0</td>\n",
       "      <td>...</td>\n",
       "      <td>1246.0</td>\n",
       "      <td>2288.0</td>\n",
       "      <td>0.743654</td>\n",
       "      <td>157.809455</td>\n",
       "      <td>-731.0</td>\n",
       "      <td>740.0</td>\n",
       "      <td>-1.041783</td>\n",
       "      <td>394.16549</td>\n",
       "      <td>-5766.0</td>\n",
       "      <td>5967.0</td>\n",
       "    </tr>\n",
       "  </tbody>\n",
       "</table>\n",
       "<p>5 rows × 51 columns</p>\n",
       "</div>"
      ],
      "text/plain": [
       "   segment_id  sensor_1_count  sensor_2_count  sensor_3_count  sensor_4_count  \\\n",
       "0  1136037770         60001.0             0.0         60001.0         60001.0   \n",
       "1  1969647810         60001.0             0.0         60001.0         60001.0   \n",
       "2  1895879680         60001.0             0.0         60001.0         60001.0   \n",
       "3  2068207140         60001.0             0.0         60001.0         60001.0   \n",
       "4   192955606         60001.0         60001.0         60001.0         60001.0   \n",
       "\n",
       "   sensor_5_count  sensor_6_count  sensor_7_count  sensor_8_count  \\\n",
       "0         60001.0         60001.0         60001.0             0.0   \n",
       "1          2072.0         60001.0             0.0         60001.0   \n",
       "2         60001.0         60001.0         60001.0             0.0   \n",
       "3         60001.0         60001.0         60001.0             0.0   \n",
       "4         60001.0         60001.0         60001.0         60001.0   \n",
       "\n",
       "   sensor_9_count  ...  sensor_9_nanmax  sensor_10_nanmax  sensor_8_nanmean  \\\n",
       "0         60001.0  ...           3884.0            4912.0               NaN   \n",
       "1         55407.0  ...           1373.0            4026.0          2.562674   \n",
       "2         60001.0  ...           2182.0            4374.0               NaN   \n",
       "3         60001.0  ...           2605.0            3692.0               NaN   \n",
       "4         60001.0  ...           1246.0            2288.0          0.743654   \n",
       "\n",
       "   sensor_8_nanstd  sensor_8_nanmin  sensor_8_nanmax  sensor_2_nanmean  \\\n",
       "0              NaN              NaN              NaN               NaN   \n",
       "1       759.108629          -4284.0           6339.0               NaN   \n",
       "2              NaN              NaN              NaN               NaN   \n",
       "3              NaN              NaN              NaN               NaN   \n",
       "4       157.809455           -731.0            740.0         -1.041783   \n",
       "\n",
       "   sensor_2_nanstd  sensor_2_nanmin  sensor_2_nanmax  \n",
       "0              NaN              NaN              NaN  \n",
       "1              NaN              NaN              NaN  \n",
       "2              NaN              NaN              NaN  \n",
       "3              NaN              NaN              NaN  \n",
       "4        394.16549          -5766.0           5967.0  \n",
       "\n",
       "[5 rows x 51 columns]"
      ]
     },
     "execution_count": 17,
     "metadata": {},
     "output_type": "execute_result"
    }
   ],
   "source": [
    "# Reading the data that we wrote.\n",
    "df_stats_per_file = pd.read_csv(\"../csvs/stats_per_file2.csv\")\n",
    "df_stats_per_file.head()"
   ]
  },
  {
   "cell_type": "code",
   "execution_count": 18,
   "metadata": {},
   "outputs": [],
   "source": [
    "def get_stats_vec(data):\n",
    "    \"\"\"\n",
    "    Function to apply functions saved in a list, is faster. We apply this functions: counts, sum, sum²(), min,\n",
    "    max.\n",
    "    \n",
    "    Parameters\n",
    "        data: np.array \n",
    "        The signal of one sensor.\n",
    "    \n",
    "    Returns\n",
    "        vec: np.array\n",
    "        Array that contains the stats.\n",
    "    \"\"\"\n",
    "    data_notnans = data[~np.isnan(data)]\n",
    "    stats = [len, np.sum, lambda x:np.sum(x**2),\n",
    "             lambda x:np.min(x) if len(x) else np.inf,\n",
    "             lambda x:np.max(x) if len(x) else -np.inf]\n",
    "    vec = [stat(data_notnans) for stat in stats]\n",
    "    vec = np.array(vec)\n",
    "    return vec"
   ]
  },
  {
   "cell_type": "code",
   "execution_count": 19,
   "metadata": {},
   "outputs": [],
   "source": [
    "def get_stats_vecs(df):\n",
    "    \"\"\"\n",
    "    Function to get stats by vector per file.\n",
    "    \n",
    "    Parameters\n",
    "        df: pd.Dataframe\n",
    "        Dataframe to be used to get stats by sensor (column).\n",
    "    Returns\n",
    "        matrix: np.matrix \n",
    "        Matrix that contains stats per file per column.\n",
    "    \"\"\"\n",
    "    vecs = [get_stats_vec(df[column]) for column in df.columns]\n",
    "    matrix = np.vstack(vecs)\n",
    "    return matrix"
   ]
  },
  {
   "cell_type": "code",
   "execution_count": null,
   "metadata": {},
   "outputs": [],
   "source": [
    "# Do not run again, already runed.\n",
    "# To get stats by all the files joined, we obtain the max of maxs, the min of mins.\n",
    "%%time\n",
    "stats = np.zeros(shape=(10,5))\n",
    "stats[:,3] = np.inf\n",
    "stats[:,4] = -np.inf\n",
    "for filenames in train_filenames:\n",
    "    df = pd.read_csv( os.path.join(train_dir_path, filename) )\n",
    "    current_stats = get_stats_vecs(df)\n",
    "    stats[:,:3] += current_stats[:,:3]\n",
    "    stats[:,3] = np.minimum(stats[:,3], current_stats[:,3])\n",
    "    stats[:,4] = np.maximum(stats[:,4], current_stats[:,4])"
   ]
  },
  {
   "cell_type": "code",
   "execution_count": 20,
   "metadata": {},
   "outputs": [],
   "source": [
    "def get_stats_df(matrix):\n",
    "    \"\"\"\n",
    "    Function to get a dataframe with the stats merging all the files.\n",
    "    \n",
    "    Parameters\n",
    "        matrix: np.matrix \n",
    "        Matrix with the stats merged.\n",
    "        \n",
    "    Returns\n",
    "        stats_df: pd.Dataframe\n",
    "        Dataframe with the final stats merging all the data.\n",
    "    \"\"\"\n",
    "    sensors = [f\"sensor_{i+1}\" for i in range(10)]\n",
    "    stats_names = [\"count\", \"mean\", \"std\", \"min\", \"max\"]\n",
    "    \n",
    "    nrows, ncols = matrix.shape\n",
    "    \n",
    "    stats_vecs = []\n",
    "    for row in range(nrows): # for every sensor\n",
    "        count = matrix[row,0]\n",
    "        total_sum = matrix[row,1]\n",
    "        mean = total_sum/count\n",
    "        total_squared_sum = matrix[row,2]\n",
    "        std = np.sqrt( (total_squared_sum - count*mean**2)/(count-1) )\n",
    "        minimum = matrix[row,3]\n",
    "        maximum = matrix[row,4]\n",
    "        stats = [count, mean, std, minimum, maximum]\n",
    "        stats_vecs.append(np.array(stats))\n",
    "        \n",
    "    new_matrix = np.vstack(stats_vecs)\n",
    "    \n",
    "    stats_df = pd.DataFrame(new_matrix, columns=stats_names, index=sensors)\n",
    "    \n",
    "    return stats_df"
   ]
  },
  {
   "cell_type": "code",
   "execution_count": null,
   "metadata": {},
   "outputs": [],
   "source": [
    "# We already did this, do not run again.\n",
    "whole_stats = get_stats_df(stats)\n",
    "whole_stats"
   ]
  },
  {
   "cell_type": "markdown",
   "metadata": {},
   "source": [
    "Ahora vienen los datos generales para cada sensor, se toman en cuenta TODOS los archivos `.csv`"
   ]
  },
  {
   "cell_type": "code",
   "execution_count": 21,
   "metadata": {},
   "outputs": [
    {
     "data": {
      "text/html": [
       "<div>\n",
       "<style scoped>\n",
       "    .dataframe tbody tr th:only-of-type {\n",
       "        vertical-align: middle;\n",
       "    }\n",
       "\n",
       "    .dataframe tbody tr th {\n",
       "        vertical-align: top;\n",
       "    }\n",
       "\n",
       "    .dataframe thead th {\n",
       "        text-align: right;\n",
       "    }\n",
       "</style>\n",
       "<table border=\"1\" class=\"dataframe\">\n",
       "  <thead>\n",
       "    <tr style=\"text-align: right;\">\n",
       "      <th></th>\n",
       "      <th>Unnamed: 0</th>\n",
       "      <th>count</th>\n",
       "      <th>mean</th>\n",
       "      <th>std</th>\n",
       "      <th>min</th>\n",
       "      <th>max</th>\n",
       "    </tr>\n",
       "  </thead>\n",
       "  <tbody>\n",
       "    <tr>\n",
       "      <th>0</th>\n",
       "      <td>sensor_1</td>\n",
       "      <td>265864431.0</td>\n",
       "      <td>0.025250</td>\n",
       "      <td>203.303099</td>\n",
       "      <td>-1171.0</td>\n",
       "      <td>1278.0</td>\n",
       "    </tr>\n",
       "    <tr>\n",
       "      <th>1</th>\n",
       "      <td>sensor_2</td>\n",
       "      <td>265864431.0</td>\n",
       "      <td>-0.431776</td>\n",
       "      <td>418.222197</td>\n",
       "      <td>-4759.0</td>\n",
       "      <td>4118.0</td>\n",
       "    </tr>\n",
       "    <tr>\n",
       "      <th>2</th>\n",
       "      <td>sensor_3</td>\n",
       "      <td>265864431.0</td>\n",
       "      <td>0.233829</td>\n",
       "      <td>178.179004</td>\n",
       "      <td>-1288.0</td>\n",
       "      <td>1212.0</td>\n",
       "    </tr>\n",
       "    <tr>\n",
       "      <th>3</th>\n",
       "      <td>sensor_4</td>\n",
       "      <td>265864431.0</td>\n",
       "      <td>0.281562</td>\n",
       "      <td>200.602547</td>\n",
       "      <td>-1280.0</td>\n",
       "      <td>1532.0</td>\n",
       "    </tr>\n",
       "    <tr>\n",
       "      <th>4</th>\n",
       "      <td>sensor_5</td>\n",
       "      <td>265864431.0</td>\n",
       "      <td>-0.000650</td>\n",
       "      <td>161.583577</td>\n",
       "      <td>-1225.0</td>\n",
       "      <td>1370.0</td>\n",
       "    </tr>\n",
       "    <tr>\n",
       "      <th>5</th>\n",
       "      <td>sensor_6</td>\n",
       "      <td>265864431.0</td>\n",
       "      <td>0.044916</td>\n",
       "      <td>299.005016</td>\n",
       "      <td>-3226.0</td>\n",
       "      <td>2575.0</td>\n",
       "    </tr>\n",
       "    <tr>\n",
       "      <th>6</th>\n",
       "      <td>sensor_7</td>\n",
       "      <td>265864431.0</td>\n",
       "      <td>4.590190</td>\n",
       "      <td>204.956910</td>\n",
       "      <td>-986.0</td>\n",
       "      <td>983.0</td>\n",
       "    </tr>\n",
       "    <tr>\n",
       "      <th>7</th>\n",
       "      <td>sensor_8</td>\n",
       "      <td>265864431.0</td>\n",
       "      <td>-2.975500</td>\n",
       "      <td>247.542130</td>\n",
       "      <td>-934.0</td>\n",
       "      <td>1060.0</td>\n",
       "    </tr>\n",
       "    <tr>\n",
       "      <th>8</th>\n",
       "      <td>sensor_9</td>\n",
       "      <td>265864431.0</td>\n",
       "      <td>2.170547</td>\n",
       "      <td>196.562165</td>\n",
       "      <td>-1210.0</td>\n",
       "      <td>1316.0</td>\n",
       "    </tr>\n",
       "    <tr>\n",
       "      <th>9</th>\n",
       "      <td>sensor_10</td>\n",
       "      <td>265864431.0</td>\n",
       "      <td>-120.953801</td>\n",
       "      <td>937.478541</td>\n",
       "      <td>-3743.0</td>\n",
       "      <td>3229.0</td>\n",
       "    </tr>\n",
       "  </tbody>\n",
       "</table>\n",
       "</div>"
      ],
      "text/plain": [
       "  Unnamed: 0        count        mean         std     min     max\n",
       "0   sensor_1  265864431.0    0.025250  203.303099 -1171.0  1278.0\n",
       "1   sensor_2  265864431.0   -0.431776  418.222197 -4759.0  4118.0\n",
       "2   sensor_3  265864431.0    0.233829  178.179004 -1288.0  1212.0\n",
       "3   sensor_4  265864431.0    0.281562  200.602547 -1280.0  1532.0\n",
       "4   sensor_5  265864431.0   -0.000650  161.583577 -1225.0  1370.0\n",
       "5   sensor_6  265864431.0    0.044916  299.005016 -3226.0  2575.0\n",
       "6   sensor_7  265864431.0    4.590190  204.956910  -986.0   983.0\n",
       "7   sensor_8  265864431.0   -2.975500  247.542130  -934.0  1060.0\n",
       "8   sensor_9  265864431.0    2.170547  196.562165 -1210.0  1316.0\n",
       "9  sensor_10  265864431.0 -120.953801  937.478541 -3743.0  3229.0"
      ]
     },
     "execution_count": 21,
     "metadata": {},
     "output_type": "execute_result"
    }
   ],
   "source": [
    "# Reading the whole stats file.\n",
    "whole_stats = pd.read_csv(\"../csvs/whole_stats.csv\")\n",
    "whole_stats"
   ]
  },
  {
   "cell_type": "markdown",
   "metadata": {},
   "source": [
    "## Análisis Visual de los Datos"
   ]
  },
  {
   "cell_type": "markdown",
   "metadata": {},
   "source": [
    "Haremos una visualización de los datos para entenderlos un poco mejor."
   ]
  },
  {
   "cell_type": "code",
   "execution_count": 16,
   "metadata": {},
   "outputs": [
    {
     "data": {
      "text/html": [
       "<div>\n",
       "<style scoped>\n",
       "    .dataframe tbody tr th:only-of-type {\n",
       "        vertical-align: middle;\n",
       "    }\n",
       "\n",
       "    .dataframe tbody tr th {\n",
       "        vertical-align: top;\n",
       "    }\n",
       "\n",
       "    .dataframe thead th {\n",
       "        text-align: right;\n",
       "    }\n",
       "</style>\n",
       "<table border=\"1\" class=\"dataframe\">\n",
       "  <thead>\n",
       "    <tr style=\"text-align: right;\">\n",
       "      <th></th>\n",
       "      <th>sensor_1</th>\n",
       "      <th>sensor_2</th>\n",
       "      <th>sensor_3</th>\n",
       "      <th>sensor_4</th>\n",
       "      <th>sensor_5</th>\n",
       "      <th>sensor_6</th>\n",
       "      <th>sensor_7</th>\n",
       "      <th>sensor_8</th>\n",
       "      <th>sensor_9</th>\n",
       "      <th>sensor_10</th>\n",
       "    </tr>\n",
       "  </thead>\n",
       "  <tbody>\n",
       "    <tr>\n",
       "      <th>0</th>\n",
       "      <td>-65</td>\n",
       "      <td>259</td>\n",
       "      <td>127</td>\n",
       "      <td>235</td>\n",
       "      <td>-151</td>\n",
       "      <td>112</td>\n",
       "      <td>-120</td>\n",
       "      <td>-199</td>\n",
       "      <td>-183</td>\n",
       "      <td>-303</td>\n",
       "    </tr>\n",
       "    <tr>\n",
       "      <th>1</th>\n",
       "      <td>-99</td>\n",
       "      <td>218</td>\n",
       "      <td>152</td>\n",
       "      <td>230</td>\n",
       "      <td>-101</td>\n",
       "      <td>62</td>\n",
       "      <td>-81</td>\n",
       "      <td>-157</td>\n",
       "      <td>-157</td>\n",
       "      <td>-332</td>\n",
       "    </tr>\n",
       "    <tr>\n",
       "      <th>2</th>\n",
       "      <td>-92</td>\n",
       "      <td>191</td>\n",
       "      <td>140</td>\n",
       "      <td>199</td>\n",
       "      <td>-2</td>\n",
       "      <td>62</td>\n",
       "      <td>48</td>\n",
       "      <td>-186</td>\n",
       "      <td>-126</td>\n",
       "      <td>-344</td>\n",
       "    </tr>\n",
       "    <tr>\n",
       "      <th>3</th>\n",
       "      <td>-51</td>\n",
       "      <td>191</td>\n",
       "      <td>211</td>\n",
       "      <td>190</td>\n",
       "      <td>113</td>\n",
       "      <td>131</td>\n",
       "      <td>120</td>\n",
       "      <td>149</td>\n",
       "      <td>-121</td>\n",
       "      <td>-328</td>\n",
       "    </tr>\n",
       "    <tr>\n",
       "      <th>4</th>\n",
       "      <td>16</td>\n",
       "      <td>191</td>\n",
       "      <td>143</td>\n",
       "      <td>165</td>\n",
       "      <td>200</td>\n",
       "      <td>179</td>\n",
       "      <td>23</td>\n",
       "      <td>-103</td>\n",
       "      <td>-117</td>\n",
       "      <td>-253</td>\n",
       "    </tr>\n",
       "  </tbody>\n",
       "</table>\n",
       "</div>"
      ],
      "text/plain": [
       "   sensor_1  sensor_2  sensor_3  sensor_4  sensor_5  sensor_6  sensor_7  \\\n",
       "0       -65       259       127       235      -151       112      -120   \n",
       "1       -99       218       152       230      -101        62       -81   \n",
       "2       -92       191       140       199        -2        62        48   \n",
       "3       -51       191       211       190       113       131       120   \n",
       "4        16       191       143       165       200       179        23   \n",
       "\n",
       "   sensor_8  sensor_9  sensor_10  \n",
       "0      -199      -183       -303  \n",
       "1      -157      -157       -332  \n",
       "2      -186      -126       -344  \n",
       "3       149      -121       -328  \n",
       "4      -103      -117       -253  "
      ]
     },
     "execution_count": 16,
     "metadata": {},
     "output_type": "execute_result"
    }
   ],
   "source": [
    "path_files = \"/home/oscar/Documentos/LCD/Volcanes/predict-volcanic-eruptions-ingv-oe/\"\n",
    "train_dir = path.join(path_files, \"train\")\n",
    "train_filenames = listdir(train_dir)\n",
    "sample = pd.read_csv(path.join(train_dir, train_filenames[2]), dtype = \"Int16\")\n",
    "sample.head()"
   ]
  },
  {
   "cell_type": "code",
   "execution_count": 19,
   "metadata": {},
   "outputs": [],
   "source": [
    "def plot_amp_ply(df):\n",
    "    \"\"\"Graph sensor data\n",
    "    Parameters:\n",
    "        df: pd.DataFrame\n",
    "        Dataframe with 10 columns, corresponding to data from sensors\n",
    "    \"\"\"\n",
    "    valids = ~df.isna().all()\n",
    "    valids = list(valids[valids].index)\n",
    "    fig = make_subplots(rows = len(valids), cols=1, y_title = \"Amplitudes\", x_title = \"Tiempo [cs]\")\n",
    "    for idx, sensor in enumerate(valids):\n",
    "        data = df.loc[:, sensor]\n",
    "        fig.append_trace(go.Scatter(x = list(range(df.shape[0])), y = data, \n",
    "                                    mode = \"lines\", name = f\"{sensor}\"), \n",
    "                                     row = idx+1, col = 1)\n",
    "\n",
    "    fig.update_layout(height = 1000, width = 950, title_text = \"Diagramas de amplitudes\", title_font_size = 30)\n",
    "    fig.show()"
   ]
  },
  {
   "cell_type": "code",
   "execution_count": null,
   "metadata": {
    "scrolled": true
   },
   "outputs": [],
   "source": [
    "# Plotting a random sample\n",
    "plot_amp_ply(sample)"
   ]
  },
  {
   "cell_type": "code",
   "execution_count": 21,
   "metadata": {},
   "outputs": [
    {
     "data": {
      "text/html": [
       "<div>\n",
       "<style scoped>\n",
       "    .dataframe tbody tr th:only-of-type {\n",
       "        vertical-align: middle;\n",
       "    }\n",
       "\n",
       "    .dataframe tbody tr th {\n",
       "        vertical-align: top;\n",
       "    }\n",
       "\n",
       "    .dataframe thead th {\n",
       "        text-align: right;\n",
       "    }\n",
       "</style>\n",
       "<table border=\"1\" class=\"dataframe\">\n",
       "  <thead>\n",
       "    <tr style=\"text-align: right;\">\n",
       "      <th></th>\n",
       "      <th>sensor_1</th>\n",
       "      <th>sensor_2</th>\n",
       "      <th>sensor_3</th>\n",
       "      <th>sensor_4</th>\n",
       "      <th>sensor_5</th>\n",
       "      <th>sensor_6</th>\n",
       "      <th>sensor_7</th>\n",
       "      <th>sensor_8</th>\n",
       "      <th>sensor_9</th>\n",
       "      <th>sensor_10</th>\n",
       "    </tr>\n",
       "  </thead>\n",
       "  <tbody>\n",
       "    <tr>\n",
       "      <th>0</th>\n",
       "      <td>-65</td>\n",
       "      <td>259</td>\n",
       "      <td>127</td>\n",
       "      <td>235</td>\n",
       "      <td>-151</td>\n",
       "      <td>112</td>\n",
       "      <td>-120</td>\n",
       "      <td>-199</td>\n",
       "      <td>-183</td>\n",
       "      <td>-303</td>\n",
       "    </tr>\n",
       "    <tr>\n",
       "      <th>1</th>\n",
       "      <td>-99</td>\n",
       "      <td>218</td>\n",
       "      <td>152</td>\n",
       "      <td>230</td>\n",
       "      <td>-101</td>\n",
       "      <td>62</td>\n",
       "      <td>-81</td>\n",
       "      <td>-157</td>\n",
       "      <td>-157</td>\n",
       "      <td>-332</td>\n",
       "    </tr>\n",
       "    <tr>\n",
       "      <th>2</th>\n",
       "      <td>-92</td>\n",
       "      <td>191</td>\n",
       "      <td>140</td>\n",
       "      <td>199</td>\n",
       "      <td>-2</td>\n",
       "      <td>62</td>\n",
       "      <td>48</td>\n",
       "      <td>-186</td>\n",
       "      <td>-126</td>\n",
       "      <td>-344</td>\n",
       "    </tr>\n",
       "    <tr>\n",
       "      <th>3</th>\n",
       "      <td>-51</td>\n",
       "      <td>191</td>\n",
       "      <td>211</td>\n",
       "      <td>190</td>\n",
       "      <td>113</td>\n",
       "      <td>131</td>\n",
       "      <td>120</td>\n",
       "      <td>149</td>\n",
       "      <td>-121</td>\n",
       "      <td>-328</td>\n",
       "    </tr>\n",
       "    <tr>\n",
       "      <th>4</th>\n",
       "      <td>16</td>\n",
       "      <td>191</td>\n",
       "      <td>143</td>\n",
       "      <td>165</td>\n",
       "      <td>200</td>\n",
       "      <td>179</td>\n",
       "      <td>23</td>\n",
       "      <td>-103</td>\n",
       "      <td>-117</td>\n",
       "      <td>-253</td>\n",
       "    </tr>\n",
       "  </tbody>\n",
       "</table>\n",
       "</div>"
      ],
      "text/plain": [
       "   sensor_1  sensor_2  sensor_3  sensor_4  sensor_5  sensor_6  sensor_7  \\\n",
       "0       -65       259       127       235      -151       112      -120   \n",
       "1       -99       218       152       230      -101        62       -81   \n",
       "2       -92       191       140       199        -2        62        48   \n",
       "3       -51       191       211       190       113       131       120   \n",
       "4        16       191       143       165       200       179        23   \n",
       "\n",
       "   sensor_8  sensor_9  sensor_10  \n",
       "0      -199      -183       -303  \n",
       "1      -157      -157       -332  \n",
       "2      -186      -126       -344  \n",
       "3       149      -121       -328  \n",
       "4      -103      -117       -253  "
      ]
     },
     "execution_count": 21,
     "metadata": {},
     "output_type": "execute_result"
    }
   ],
   "source": [
    "# Showing the real values\n",
    "sample.head()"
   ]
  },
  {
   "cell_type": "code",
   "execution_count": 24,
   "metadata": {},
   "outputs": [
    {
     "data": {
      "text/html": [
       "<div>\n",
       "<style scoped>\n",
       "    .dataframe tbody tr th:only-of-type {\n",
       "        vertical-align: middle;\n",
       "    }\n",
       "\n",
       "    .dataframe tbody tr th {\n",
       "        vertical-align: top;\n",
       "    }\n",
       "\n",
       "    .dataframe thead th {\n",
       "        text-align: right;\n",
       "    }\n",
       "</style>\n",
       "<table border=\"1\" class=\"dataframe\">\n",
       "  <thead>\n",
       "    <tr style=\"text-align: right;\">\n",
       "      <th></th>\n",
       "      <th>segment_id</th>\n",
       "      <th>time_to_eruption</th>\n",
       "    </tr>\n",
       "  </thead>\n",
       "  <tbody>\n",
       "    <tr>\n",
       "      <th>0</th>\n",
       "      <td>1136037770</td>\n",
       "      <td>12262005</td>\n",
       "    </tr>\n",
       "    <tr>\n",
       "      <th>1</th>\n",
       "      <td>1969647810</td>\n",
       "      <td>32739612</td>\n",
       "    </tr>\n",
       "    <tr>\n",
       "      <th>2</th>\n",
       "      <td>1895879680</td>\n",
       "      <td>14965999</td>\n",
       "    </tr>\n",
       "    <tr>\n",
       "      <th>3</th>\n",
       "      <td>2068207140</td>\n",
       "      <td>26469720</td>\n",
       "    </tr>\n",
       "    <tr>\n",
       "      <th>4</th>\n",
       "      <td>192955606</td>\n",
       "      <td>31072429</td>\n",
       "    </tr>\n",
       "    <tr>\n",
       "      <th>...</th>\n",
       "      <td>...</td>\n",
       "      <td>...</td>\n",
       "    </tr>\n",
       "    <tr>\n",
       "      <th>4426</th>\n",
       "      <td>873340274</td>\n",
       "      <td>15695097</td>\n",
       "    </tr>\n",
       "    <tr>\n",
       "      <th>4427</th>\n",
       "      <td>1297437712</td>\n",
       "      <td>35659379</td>\n",
       "    </tr>\n",
       "    <tr>\n",
       "      <th>4428</th>\n",
       "      <td>694853998</td>\n",
       "      <td>31206935</td>\n",
       "    </tr>\n",
       "    <tr>\n",
       "      <th>4429</th>\n",
       "      <td>1886987043</td>\n",
       "      <td>9598270</td>\n",
       "    </tr>\n",
       "    <tr>\n",
       "      <th>4430</th>\n",
       "      <td>1100632800</td>\n",
       "      <td>20128938</td>\n",
       "    </tr>\n",
       "  </tbody>\n",
       "</table>\n",
       "<p>4431 rows × 2 columns</p>\n",
       "</div>"
      ],
      "text/plain": [
       "      segment_id  time_to_eruption\n",
       "0     1136037770          12262005\n",
       "1     1969647810          32739612\n",
       "2     1895879680          14965999\n",
       "3     2068207140          26469720\n",
       "4      192955606          31072429\n",
       "...          ...               ...\n",
       "4426   873340274          15695097\n",
       "4427  1297437712          35659379\n",
       "4428   694853998          31206935\n",
       "4429  1886987043           9598270\n",
       "4430  1100632800          20128938\n",
       "\n",
       "[4431 rows x 2 columns]"
      ]
     },
     "execution_count": 24,
     "metadata": {},
     "output_type": "execute_result"
    }
   ],
   "source": [
    "# We read the labels' file\n",
    "path_files = \"../csvs\"\n",
    "train_path = path.join(path_files, \"train.csv\")\n",
    "train_data = pd.read_csv(train_path)\n",
    "train_data"
   ]
  },
  {
   "cell_type": "markdown",
   "metadata": {},
   "source": [
    "Veremos si en el conjunto de datos hay alguno que tenga el mismo tiempo de erupción."
   ]
  },
  {
   "cell_type": "code",
   "execution_count": 25,
   "metadata": {},
   "outputs": [
    {
     "data": {
      "text/html": [
       "<div>\n",
       "<style scoped>\n",
       "    .dataframe tbody tr th:only-of-type {\n",
       "        vertical-align: middle;\n",
       "    }\n",
       "\n",
       "    .dataframe tbody tr th {\n",
       "        vertical-align: top;\n",
       "    }\n",
       "\n",
       "    .dataframe thead th {\n",
       "        text-align: right;\n",
       "    }\n",
       "</style>\n",
       "<table border=\"1\" class=\"dataframe\">\n",
       "  <thead>\n",
       "    <tr style=\"text-align: right;\">\n",
       "      <th></th>\n",
       "      <th>segment_id</th>\n",
       "      <th>time_to_eruption</th>\n",
       "    </tr>\n",
       "  </thead>\n",
       "  <tbody>\n",
       "    <tr>\n",
       "      <th>1777</th>\n",
       "      <td>1049892705</td>\n",
       "      <td>23385989</td>\n",
       "    </tr>\n",
       "  </tbody>\n",
       "</table>\n",
       "</div>"
      ],
      "text/plain": [
       "      segment_id  time_to_eruption\n",
       "1777  1049892705          23385989"
      ]
     },
     "execution_count": 25,
     "metadata": {},
     "output_type": "execute_result"
    }
   ],
   "source": [
    "# Checking if we have duplicates\n",
    "train_data[train_data.time_to_eruption.duplicated()]"
   ]
  },
  {
   "cell_type": "code",
   "execution_count": 27,
   "metadata": {},
   "outputs": [],
   "source": [
    "# Duplate #1\n",
    "same1 = pd.read_csv(path.join(train_dir, \"549832738.csv\"))\n",
    "plot_amp_ply(same1)"
   ]
  },
  {
   "cell_type": "code",
   "execution_count": null,
   "metadata": {},
   "outputs": [],
   "source": [
    "# Duplate #2\n",
    "same2 = pd.read_csv(path.join(train_dir, \"1049892705.csv\"))\n",
    "plot_amp_ply(same2)"
   ]
  },
  {
   "cell_type": "code",
   "execution_count": 28,
   "metadata": {},
   "outputs": [
    {
     "data": {
      "text/html": [
       "<div>\n",
       "<style scoped>\n",
       "    .dataframe tbody tr th:only-of-type {\n",
       "        vertical-align: middle;\n",
       "    }\n",
       "\n",
       "    .dataframe tbody tr th {\n",
       "        vertical-align: top;\n",
       "    }\n",
       "\n",
       "    .dataframe thead th {\n",
       "        text-align: right;\n",
       "    }\n",
       "</style>\n",
       "<table border=\"1\" class=\"dataframe\">\n",
       "  <thead>\n",
       "    <tr style=\"text-align: right;\">\n",
       "      <th></th>\n",
       "      <th>segment_id</th>\n",
       "      <th>time_to_eruption</th>\n",
       "    </tr>\n",
       "  </thead>\n",
       "  <tbody>\n",
       "    <tr>\n",
       "      <th>0</th>\n",
       "      <td>601524801</td>\n",
       "      <td>6250</td>\n",
       "    </tr>\n",
       "    <tr>\n",
       "      <th>1</th>\n",
       "      <td>1658693785</td>\n",
       "      <td>25730</td>\n",
       "    </tr>\n",
       "    <tr>\n",
       "      <th>2</th>\n",
       "      <td>1957235969</td>\n",
       "      <td>26929</td>\n",
       "    </tr>\n",
       "    <tr>\n",
       "      <th>3</th>\n",
       "      <td>442994108</td>\n",
       "      <td>28696</td>\n",
       "    </tr>\n",
       "    <tr>\n",
       "      <th>4</th>\n",
       "      <td>1626437563</td>\n",
       "      <td>40492</td>\n",
       "    </tr>\n",
       "    <tr>\n",
       "      <th>...</th>\n",
       "      <td>...</td>\n",
       "      <td>...</td>\n",
       "    </tr>\n",
       "    <tr>\n",
       "      <th>4426</th>\n",
       "      <td>1162128945</td>\n",
       "      <td>48387290</td>\n",
       "    </tr>\n",
       "    <tr>\n",
       "      <th>4427</th>\n",
       "      <td>1131527270</td>\n",
       "      <td>48522449</td>\n",
       "    </tr>\n",
       "    <tr>\n",
       "      <th>4428</th>\n",
       "      <td>356854390</td>\n",
       "      <td>48727004</td>\n",
       "    </tr>\n",
       "    <tr>\n",
       "      <th>4429</th>\n",
       "      <td>1552761888</td>\n",
       "      <td>48814294</td>\n",
       "    </tr>\n",
       "    <tr>\n",
       "      <th>4430</th>\n",
       "      <td>1923243961</td>\n",
       "      <td>49046087</td>\n",
       "    </tr>\n",
       "  </tbody>\n",
       "</table>\n",
       "<p>4431 rows × 2 columns</p>\n",
       "</div>"
      ],
      "text/plain": [
       "      segment_id  time_to_eruption\n",
       "0      601524801              6250\n",
       "1     1658693785             25730\n",
       "2     1957235969             26929\n",
       "3      442994108             28696\n",
       "4     1626437563             40492\n",
       "...          ...               ...\n",
       "4426  1162128945          48387290\n",
       "4427  1131527270          48522449\n",
       "4428   356854390          48727004\n",
       "4429  1552761888          48814294\n",
       "4430  1923243961          49046087\n",
       "\n",
       "[4431 rows x 2 columns]"
      ]
     },
     "execution_count": 28,
     "metadata": {},
     "output_type": "execute_result"
    }
   ],
   "source": [
    "# Sort labels' data by time to eruption.\n",
    "sorted_data = train_data.iloc[train_data.time_to_eruption.sort_values().index]\n",
    "sorted_data.index = range(len(sorted_data))\n",
    "sorted_data"
   ]
  },
  {
   "cell_type": "code",
   "execution_count": 28,
   "metadata": {},
   "outputs": [],
   "source": [
    "# To plot distincts plots more easy.\n",
    "def plot(n):\n",
    "    \"\"\"\n",
    "    Function to plot only setting the number of the filename\n",
    "     Parameters\n",
    "         n: int \n",
    "         Integer which is the number of the filename.\n",
    "    \"\"\"\n",
    "    plot_amp_ply(pd.read_csv(path.join(path_files, f\"train/{sorted_data.iloc[n,0]}.csv\")))"
   ]
  },
  {
   "cell_type": "code",
   "execution_count": null,
   "metadata": {},
   "outputs": [],
   "source": [
    "plot(0)"
   ]
  },
  {
   "cell_type": "code",
   "execution_count": null,
   "metadata": {},
   "outputs": [],
   "source": [
    "plot(-1)"
   ]
  },
  {
   "cell_type": "markdown",
   "metadata": {},
   "source": [
    "## Imputando datos"
   ]
  },
  {
   "cell_type": "code",
   "execution_count": 34,
   "metadata": {},
   "outputs": [
    {
     "data": {
      "text/html": [
       "<div>\n",
       "<style scoped>\n",
       "    .dataframe tbody tr th:only-of-type {\n",
       "        vertical-align: middle;\n",
       "    }\n",
       "\n",
       "    .dataframe tbody tr th {\n",
       "        vertical-align: top;\n",
       "    }\n",
       "\n",
       "    .dataframe thead th {\n",
       "        text-align: right;\n",
       "    }\n",
       "</style>\n",
       "<table border=\"1\" class=\"dataframe\">\n",
       "  <thead>\n",
       "    <tr style=\"text-align: right;\">\n",
       "      <th></th>\n",
       "      <th>count</th>\n",
       "      <th>mean</th>\n",
       "      <th>std</th>\n",
       "      <th>min</th>\n",
       "      <th>max</th>\n",
       "    </tr>\n",
       "  </thead>\n",
       "  <tbody>\n",
       "    <tr>\n",
       "      <th>sensor_1</th>\n",
       "      <td>265864431.0</td>\n",
       "      <td>0.025250</td>\n",
       "      <td>203.303099</td>\n",
       "      <td>-1171.0</td>\n",
       "      <td>1278.0</td>\n",
       "    </tr>\n",
       "    <tr>\n",
       "      <th>sensor_2</th>\n",
       "      <td>265864431.0</td>\n",
       "      <td>-0.431776</td>\n",
       "      <td>418.222197</td>\n",
       "      <td>-4759.0</td>\n",
       "      <td>4118.0</td>\n",
       "    </tr>\n",
       "    <tr>\n",
       "      <th>sensor_3</th>\n",
       "      <td>265864431.0</td>\n",
       "      <td>0.233829</td>\n",
       "      <td>178.179004</td>\n",
       "      <td>-1288.0</td>\n",
       "      <td>1212.0</td>\n",
       "    </tr>\n",
       "    <tr>\n",
       "      <th>sensor_4</th>\n",
       "      <td>265864431.0</td>\n",
       "      <td>0.281562</td>\n",
       "      <td>200.602547</td>\n",
       "      <td>-1280.0</td>\n",
       "      <td>1532.0</td>\n",
       "    </tr>\n",
       "    <tr>\n",
       "      <th>sensor_5</th>\n",
       "      <td>265864431.0</td>\n",
       "      <td>-0.000650</td>\n",
       "      <td>161.583577</td>\n",
       "      <td>-1225.0</td>\n",
       "      <td>1370.0</td>\n",
       "    </tr>\n",
       "    <tr>\n",
       "      <th>sensor_6</th>\n",
       "      <td>265864431.0</td>\n",
       "      <td>0.044916</td>\n",
       "      <td>299.005016</td>\n",
       "      <td>-3226.0</td>\n",
       "      <td>2575.0</td>\n",
       "    </tr>\n",
       "    <tr>\n",
       "      <th>sensor_7</th>\n",
       "      <td>265864431.0</td>\n",
       "      <td>4.590190</td>\n",
       "      <td>204.956910</td>\n",
       "      <td>-986.0</td>\n",
       "      <td>983.0</td>\n",
       "    </tr>\n",
       "    <tr>\n",
       "      <th>sensor_8</th>\n",
       "      <td>265864431.0</td>\n",
       "      <td>-2.975500</td>\n",
       "      <td>247.542130</td>\n",
       "      <td>-934.0</td>\n",
       "      <td>1060.0</td>\n",
       "    </tr>\n",
       "    <tr>\n",
       "      <th>sensor_9</th>\n",
       "      <td>265864431.0</td>\n",
       "      <td>2.170547</td>\n",
       "      <td>196.562165</td>\n",
       "      <td>-1210.0</td>\n",
       "      <td>1316.0</td>\n",
       "    </tr>\n",
       "    <tr>\n",
       "      <th>sensor_10</th>\n",
       "      <td>265864431.0</td>\n",
       "      <td>-120.953801</td>\n",
       "      <td>937.478541</td>\n",
       "      <td>-3743.0</td>\n",
       "      <td>3229.0</td>\n",
       "    </tr>\n",
       "  </tbody>\n",
       "</table>\n",
       "</div>"
      ],
      "text/plain": [
       "                 count        mean         std     min     max\n",
       "sensor_1   265864431.0    0.025250  203.303099 -1171.0  1278.0\n",
       "sensor_2   265864431.0   -0.431776  418.222197 -4759.0  4118.0\n",
       "sensor_3   265864431.0    0.233829  178.179004 -1288.0  1212.0\n",
       "sensor_4   265864431.0    0.281562  200.602547 -1280.0  1532.0\n",
       "sensor_5   265864431.0   -0.000650  161.583577 -1225.0  1370.0\n",
       "sensor_6   265864431.0    0.044916  299.005016 -3226.0  2575.0\n",
       "sensor_7   265864431.0    4.590190  204.956910  -986.0   983.0\n",
       "sensor_8   265864431.0   -2.975500  247.542130  -934.0  1060.0\n",
       "sensor_9   265864431.0    2.170547  196.562165 -1210.0  1316.0\n",
       "sensor_10  265864431.0 -120.953801  937.478541 -3743.0  3229.0"
      ]
     },
     "execution_count": 34,
     "metadata": {},
     "output_type": "execute_result"
    }
   ],
   "source": [
    "whole_stats = pd.read_csv(\"../csvs/whole_stats.csv\", index_col=0)\n",
    "#whole_stats.rename(lambda n:f\"sensor_{n+1}\", inplace=True)\n",
    "whole_stats"
   ]
  },
  {
   "cell_type": "markdown",
   "metadata": {},
   "source": [
    "### Análisis de series de tiempo"
   ]
  },
  {
   "cell_type": "markdown",
   "metadata": {},
   "source": [
    "#### Tendencia\n",
    "\n",
    "En este caso es cero, porque la media no cambia con el tiempo (o sea no va subiendo y/o bajando)"
   ]
  },
  {
   "cell_type": "markdown",
   "metadata": {},
   "source": [
    "#### Periodicidad\n",
    "\n",
    "Se puede encontrar con una gráfica de autocorrelación. Consiste en calcular la correlación respecto los datos y estos mismo pero desplazados una cierta cantidad de unidades en el tiempo. Correlaciones altas indican posibles periodos"
   ]
  },
  {
   "cell_type": "code",
   "execution_count": 40,
   "metadata": {},
   "outputs": [
    {
     "data": {
      "text/plain": [
       "<matplotlib.collections.PathCollection at 0x7f7ca4086350>"
      ]
     },
     "execution_count": 40,
     "metadata": {},
     "output_type": "execute_result"
    },
    {
     "data": {
      "image/png": "[encoded data removed]",
      "text/plain": [
       "<Figure size 432x288 with 1 Axes>"
      ]
     },
     "metadata": {
      "needs_background": "light"
     },
     "output_type": "display_data"
    }
   ],
   "source": [
    "path_sample = \"/home/oscar/Documentos/LCD/Volcanes/predict-volcanic-eruptions-ingv-oe/train\"\n",
    "filename_sample = listdir(path_sample)[3]\n",
    "sample = pd.read_csv(path.join(path_sample, filename_sample))\n",
    "autocorrelation = stattools.acf(sample.sensor_1, nlags=40, fft=False)\n",
    "\n",
    "plt.plot(autocorrelation)\n",
    "plt.scatter(np.arange(0,41), autocorrelation)"
   ]
  },
  {
   "cell_type": "code",
   "execution_count": 41,
   "metadata": {},
   "outputs": [
    {
     "data": {
      "text/plain": [
       "array(1)"
      ]
     },
     "execution_count": 41,
     "metadata": {},
     "output_type": "execute_result"
    }
   ],
   "source": [
    "higher_correlation = np.sort(autocorrelation)[-2]\n",
    "np.argwhere(autocorrelation == higher_correlation).squeeze()"
   ]
  },
  {
   "cell_type": "code",
   "execution_count": 42,
   "metadata": {},
   "outputs": [],
   "source": [
    "serie1 = sample.sensor_1\n",
    "train, test = serie1.iloc[:40000], serie1.iloc[40000:]"
   ]
  },
  {
   "cell_type": "code",
   "execution_count": 43,
   "metadata": {},
   "outputs": [
    {
     "name": "stderr",
     "output_type": "stream",
     "text": [
      "/home/oscar/anaconda3/envs/DM/lib/python3.7/site-packages/statsmodels/tsa/holtwinters/model.py:922: ConvergenceWarning:\n",
      "\n",
      "Optimization failed to converge. Check mle_retvals.\n",
      "\n"
     ]
    }
   ],
   "source": [
    "holtwinters = ExponentialSmoothing(train, trend=None, seasonal=\"add\", seasonal_periods=2, \n",
    "                                   initialization_method=\"estimated\").fit(optimized=True)"
   ]
  },
  {
   "cell_type": "code",
   "execution_count": 44,
   "metadata": {},
   "outputs": [],
   "source": [
    "pred = holtwinters.predict(start=test.index[0], end=test.index[-1])"
   ]
  },
  {
   "cell_type": "code",
   "execution_count": 45,
   "metadata": {},
   "outputs": [
    {
     "data": {
      "text/plain": [
       "<matplotlib.legend.Legend at 0x7f7ca4d5d710>"
      ]
     },
     "execution_count": 45,
     "metadata": {},
     "output_type": "execute_result"
    },
    {
     "data": {
      "image/png": "[encoded data removed]",
      "text/plain": [
       "<Figure size 432x288 with 1 Axes>"
      ]
     },
     "metadata": {
      "needs_background": "light"
     },
     "output_type": "display_data"
    }
   ],
   "source": [
    "plt.plot(train.index,train, label=\"train\")\n",
    "plt.plot(test.index,test,label=\"test\")\n",
    "plt.plot( pred, label=\"pred\")\n",
    "plt.legend()"
   ]
  },
  {
   "cell_type": "markdown",
   "metadata": {},
   "source": [
    "### Imputación de los valores faltantes\n",
    "\n",
    "La estrategia original, pero posiblemente la que no se usará\n",
    "\n",
    "* Si el sensor carece de **todos** los valores, rellenar con la media\n",
    "* De lo contrario\n",
    "    * Si hay valores nulos en los primeras observaciones, rellenar con la media\n",
    "    * Identificar índice del primer dato que no es nulo en la serie. Lo mismo para el último. Si hay nulos de por medio, rellenar con una **interpolación** por splines\n",
    "    * Para el resto de nulos, rellenarlos por media de un modelo de Holt - Winters"
   ]
  },
  {
   "cell_type": "code",
   "execution_count": null,
   "metadata": {},
   "outputs": [],
   "source": [
    "def impute_df(df, whole_stats):\n",
    "    \"\"\"Impute missing values from dataframe with time-series data\n",
    "    If the whole column is missing, the mean is used\n",
    "    If the first values of the series are missing, the mean is used as well\n",
    "    if there are nans between non-nans data, a spline is used to interpolate\n",
    "    If the last values of the series are missing, a holt-winters model is fitted and used to impute\n",
    "    \n",
    "    Parameters:\n",
    "        df: pd.DataFrame\n",
    "        The dataframe whose misising values will be imputed\n",
    "        \n",
    "        whole_stats: pd.DataFrame\n",
    "        Dataframe with stadistics of sensors with the name of the stadistics as the index\n",
    "        \n",
    "    returns:\n",
    "        df: pd.DataFrame\n",
    "        The dataframe with missing values imputed\n",
    "    \"\"\"\n",
    "    nrows, ncols = df.shape\n",
    "    nans_per_sensor = df.isna().sum(axis=0)\n",
    "    for sensor in df.columns:\n",
    "        n_nans = nans_per_sensor[sensor]\n",
    "        data = df[sensor].values\n",
    "        if n_nans == nrows or n_nans/n_rows < 0.5: \n",
    "            sensor_mean = whole_stats.loc[sensor,\"mean\"]\n",
    "            df[sensor].fillna(sensor_mean, inplace=True)\n",
    "        elif 0 < n_nans: # some values are missing\n",
    "            t0 = time()\n",
    "            not_nan_indexes = np.argwhere(~np.isnan(data)).squeeze()\n",
    "            first_not_nan_index = not_nan_indexes[0]\n",
    "            last_not_nan_index = not_nan_indexes[-1]\n",
    "            if first_not_nan_index != 0:  # imputing first values with mean\n",
    "                data[:first_not_nan_index] = whole_stats.loc[sensor,\"mean\"]\n",
    "            print(\"Imputed first part\", time() - t0)\n",
    "                \n",
    "            if not_nan_indexes[1:-1].size > 2:  # Imputing with interpolation\n",
    "                t0 = time()\n",
    "                nan_mask = np.isnan(data)\n",
    "                not_nan_indexes = np.argwhere(~nan_mask).squeeze()\n",
    "                #print(not_nan_indexes.shape)\n",
    "                #print(data[~nan_mask].shape)\n",
    "                xp = not_nan_indexes\n",
    "                yp = data[~nan_mask]\n",
    "                spline = UnivariateSpline(xp,yp, k=2)\n",
    "                x_interp = np.argwhere(nan_mask).squeeze()\n",
    "                y_interp = spline(x_interp)\n",
    "                data[nan_mask] = y_interp\n",
    "                print(\"interpolated\", time() - t0)\n",
    "            \n",
    "            if last_not_nan_index != nrows: # Imputing with holt-winters model\n",
    "                t0 = time()\n",
    "                nan_mask = np.isnan(data)\n",
    "                autocorrelation = stattools.acf(data[~nan_mask], nlags=40, fft=False)\n",
    "                higher_correlation = np.sort(autocorrelation)[-2]\n",
    "                period = np.argwhere(autocorrelation == higher_correlation).squeeze() + 1\n",
    "                holtwinters = ExponentialSmoothing(data[~nan_mask], trend=None, seasonal=\"add\", \n",
    "                                                   seasonal_periods=period, \n",
    "                                                   initialization_method=\"estimated\").fit(optimized=True)\n",
    "                #print(last_not_nan_index)\n",
    "                forecasting = holtwinters.predict(start=last_not_nan_index+1, end=nrows-1)\n",
    "                #print(forecasting.shape)\n",
    "                #print(nan_mask.sum())\n",
    "                data[last_not_nan_index+1:] = forecasting\n",
    "                print(\"forecasted\", time() - t0)\n",
    "\n",
    "        else: # There are no nans\n",
    "            pass\n",
    "        df[sensor] = data\n",
    "        \n",
    "    return df"
   ]
  },
  {
   "cell_type": "markdown",
   "metadata": {},
   "source": [
    "El problema estriba principalmente en que si la serie tiene pocos datos faltantes y estos se encuentren de por medio, se imputarán por interpolación, y encontrar los splines para la gran cantidad de puntos toma hasta 3 minutos por sensor."
   ]
  },
  {
   "cell_type": "markdown",
   "metadata": {},
   "source": [
    "---\n",
    "### Imputando datos (más rápido)\n",
    "\n",
    "La implementación pasada es mejor, pero hay algunos casos donde se tardaba bastante, haciendolo posiblemente no viable\n",
    "\n",
    "La implementación que se presenta es más sencilla, la estrategia para rellenar nulos es la siguiente:\n",
    "\n",
    "Primeramente se imputa con la media de `whole_stats.csv`.\n",
    "* Si el sensor carece de **todos** los valores, pues se rellena todo\n",
    "* De lo contrario, se llena algunos nulos de tal manera que se pueda dividir la serie en dos partes contiguas: no nulos y nulos (en ese orden). Los nulos restantes se estiman con un modelo de Holt - Winters."
   ]
  },
  {
   "cell_type": "code",
   "execution_count": 51,
   "metadata": {},
   "outputs": [],
   "source": [
    "def impute_df(df, whole_stats):\n",
    "    \"\"\"Impute missing values from dataframe with time-series data\n",
    "    The mean will be used as value to impute the df from the beginning\n",
    "    until it reaches the last non-nan data value, then, a holt-winters model\n",
    "    is fitted to impute the remaining values.\n",
    "    \n",
    "    Parameters:\n",
    "        df: pd.DataFrame\n",
    "        The dataframe whose misising values will be imputed\n",
    "        \n",
    "        whole_stats: pd.DataFrame\n",
    "        Dataframe with stadistics of sensors with the name of the stadistics as the index\n",
    "        \n",
    "    returns:\n",
    "        df: pd.DataFrame\n",
    "        The dataframe with missing values imputed\n",
    "    \"\"\"\n",
    "    nrows, ncols = df.shape\n",
    "    nans_per_sensor = df.isna().sum(axis=0)\n",
    "    for sensor in df.columns:\n",
    "        n_nans = nans_per_sensor[sensor]\n",
    "        if n_nans:\n",
    "            mean = whole_stats.loc[sensor,\"mean\"]\n",
    "            if n_nans == nrows:\n",
    "                df[sensor].fillna(mean, inplace=True)\n",
    "    \n",
    "            else:\n",
    "                data = df[sensor].values\n",
    "                nan_mask = np.isnan(data)\n",
    "                not_nan_indexes = np.argwhere(~nan_mask).squeeze()\n",
    "                first_not_nan_index = not_nan_indexes[0]\n",
    "                last_not_nan_index = not_nan_indexes[-1]\n",
    "                nans_batch1 = nan_mask.copy()\n",
    "                nans_batch1[last_not_nan_index+1:] = False\n",
    "                data[nans_batch1] = mean\n",
    "                \n",
    "                # holt winters\n",
    "                if last_not_nan_index != nrows-1:\n",
    "                    #print(first_not_nan_index,last_not_nan_index)\n",
    "                    autocorrelation = stattools.acf(data[:last_not_nan_index], nlags=40, fft=False)\n",
    "                    higher_correlation = np.sort(autocorrelation)[-2]\n",
    "                    period = np.argwhere(autocorrelation == higher_correlation).squeeze() + 1\n",
    "                    holtwinters = ExponentialSmoothing(data[:last_not_nan_index], trend=None, seasonal=\"add\", \n",
    "                                                       seasonal_periods=period, \n",
    "                                                       initialization_method=\"estimated\").fit(optimized=True)\n",
    "                    #print(last_not_nan_index)\n",
    "                    forecasting = holtwinters.predict(start=last_not_nan_index+1, end=nrows-1)\n",
    "                    #print(forecasting.shape)\n",
    "                    #print(nan_mask.sum())\n",
    "                    data[last_not_nan_index+1:] = forecasting\n",
    "    \n",
    "                df[sensor] = data\n",
    "        \n",
    "    return df"
   ]
  },
  {
   "cell_type": "code",
   "execution_count": 52,
   "metadata": {},
   "outputs": [
    {
     "name": "stdout",
     "output_type": "stream",
     "text": [
      "CPU times: user 5.33 ms, sys: 226 µs, total: 5.56 ms\n",
      "Wall time: 4.38 ms\n"
     ]
    }
   ],
   "source": [
    "%%time\n",
    "df2 = impute_df(sample, whole_stats)"
   ]
  },
  {
   "cell_type": "code",
   "execution_count": 54,
   "metadata": {
    "scrolled": true
   },
   "outputs": [
    {
     "name": "stderr",
     "output_type": "stream",
     "text": [
      "/home/oscar/anaconda3/envs/DM/lib/python3.7/site-packages/statsmodels/tsa/holtwinters/model.py:922: ConvergenceWarning:\n",
      "\n",
      "Optimization failed to converge. Check mle_retvals.\n",
      "\n",
      "/home/oscar/anaconda3/envs/DM/lib/python3.7/site-packages/statsmodels/tsa/holtwinters/model.py:922: ConvergenceWarning:\n",
      "\n",
      "Optimization failed to converge. Check mle_retvals.\n",
      "\n",
      "/home/oscar/anaconda3/envs/DM/lib/python3.7/site-packages/statsmodels/tsa/holtwinters/model.py:922: ConvergenceWarning:\n",
      "\n",
      "Optimization failed to converge. Check mle_retvals.\n",
      "\n",
      "/home/oscar/anaconda3/envs/DM/lib/python3.7/site-packages/statsmodels/tsa/holtwinters/model.py:922: ConvergenceWarning:\n",
      "\n",
      "Optimization failed to converge. Check mle_retvals.\n",
      "\n",
      "/home/oscar/anaconda3/envs/DM/lib/python3.7/site-packages/statsmodels/tsa/holtwinters/model.py:922: ConvergenceWarning:\n",
      "\n",
      "Optimization failed to converge. Check mle_retvals.\n",
      "\n"
     ]
    },
    {
     "name": "stdout",
     "output_type": "stream",
     "text": [
      "file 100\n"
     ]
    },
    {
     "name": "stderr",
     "output_type": "stream",
     "text": [
      "/home/oscar/anaconda3/envs/DM/lib/python3.7/site-packages/statsmodels/tsa/holtwinters/model.py:922: ConvergenceWarning:\n",
      "\n",
      "Optimization failed to converge. Check mle_retvals.\n",
      "\n",
      "/home/oscar/anaconda3/envs/DM/lib/python3.7/site-packages/statsmodels/tsa/holtwinters/model.py:922: ConvergenceWarning:\n",
      "\n",
      "Optimization failed to converge. Check mle_retvals.\n",
      "\n",
      "/home/oscar/anaconda3/envs/DM/lib/python3.7/site-packages/statsmodels/tsa/holtwinters/model.py:922: ConvergenceWarning:\n",
      "\n",
      "Optimization failed to converge. Check mle_retvals.\n",
      "\n",
      "/home/oscar/anaconda3/envs/DM/lib/python3.7/site-packages/statsmodels/tsa/holtwinters/model.py:922: ConvergenceWarning:\n",
      "\n",
      "Optimization failed to converge. Check mle_retvals.\n",
      "\n",
      "/home/oscar/anaconda3/envs/DM/lib/python3.7/site-packages/statsmodels/tsa/holtwinters/model.py:922: ConvergenceWarning:\n",
      "\n",
      "Optimization failed to converge. Check mle_retvals.\n",
      "\n"
     ]
    },
    {
     "name": "stdout",
     "output_type": "stream",
     "text": [
      "file 200\n"
     ]
    },
    {
     "name": "stderr",
     "output_type": "stream",
     "text": [
      "/home/oscar/anaconda3/envs/DM/lib/python3.7/site-packages/statsmodels/tsa/holtwinters/model.py:922: ConvergenceWarning:\n",
      "\n",
      "Optimization failed to converge. Check mle_retvals.\n",
      "\n",
      "/home/oscar/anaconda3/envs/DM/lib/python3.7/site-packages/statsmodels/tsa/holtwinters/model.py:922: ConvergenceWarning:\n",
      "\n",
      "Optimization failed to converge. Check mle_retvals.\n",
      "\n",
      "/home/oscar/anaconda3/envs/DM/lib/python3.7/site-packages/statsmodels/tsa/holtwinters/model.py:922: ConvergenceWarning:\n",
      "\n",
      "Optimization failed to converge. Check mle_retvals.\n",
      "\n"
     ]
    },
    {
     "name": "stdout",
     "output_type": "stream",
     "text": [
      "file 300\n"
     ]
    },
    {
     "name": "stderr",
     "output_type": "stream",
     "text": [
      "/home/oscar/anaconda3/envs/DM/lib/python3.7/site-packages/statsmodels/tsa/holtwinters/model.py:922: ConvergenceWarning:\n",
      "\n",
      "Optimization failed to converge. Check mle_retvals.\n",
      "\n",
      "/home/oscar/anaconda3/envs/DM/lib/python3.7/site-packages/statsmodels/tsa/holtwinters/model.py:922: ConvergenceWarning:\n",
      "\n",
      "Optimization failed to converge. Check mle_retvals.\n",
      "\n",
      "/home/oscar/anaconda3/envs/DM/lib/python3.7/site-packages/statsmodels/tsa/holtwinters/model.py:922: ConvergenceWarning:\n",
      "\n",
      "Optimization failed to converge. Check mle_retvals.\n",
      "\n"
     ]
    },
    {
     "name": "stdout",
     "output_type": "stream",
     "text": [
      "file 400\n"
     ]
    },
    {
     "name": "stderr",
     "output_type": "stream",
     "text": [
      "/home/oscar/anaconda3/envs/DM/lib/python3.7/site-packages/statsmodels/tsa/holtwinters/model.py:922: ConvergenceWarning:\n",
      "\n",
      "Optimization failed to converge. Check mle_retvals.\n",
      "\n",
      "/home/oscar/anaconda3/envs/DM/lib/python3.7/site-packages/statsmodels/tsa/holtwinters/model.py:922: ConvergenceWarning:\n",
      "\n",
      "Optimization failed to converge. Check mle_retvals.\n",
      "\n",
      "/home/oscar/anaconda3/envs/DM/lib/python3.7/site-packages/statsmodels/tsa/holtwinters/model.py:922: ConvergenceWarning:\n",
      "\n",
      "Optimization failed to converge. Check mle_retvals.\n",
      "\n"
     ]
    },
    {
     "name": "stdout",
     "output_type": "stream",
     "text": [
      "file 500\n"
     ]
    },
    {
     "name": "stderr",
     "output_type": "stream",
     "text": [
      "/home/oscar/anaconda3/envs/DM/lib/python3.7/site-packages/statsmodels/tsa/holtwinters/model.py:922: ConvergenceWarning:\n",
      "\n",
      "Optimization failed to converge. Check mle_retvals.\n",
      "\n",
      "/home/oscar/anaconda3/envs/DM/lib/python3.7/site-packages/statsmodels/tsa/holtwinters/model.py:922: ConvergenceWarning:\n",
      "\n",
      "Optimization failed to converge. Check mle_retvals.\n",
      "\n"
     ]
    },
    {
     "name": "stdout",
     "output_type": "stream",
     "text": [
      "file 600\n"
     ]
    },
    {
     "name": "stderr",
     "output_type": "stream",
     "text": [
      "/home/oscar/anaconda3/envs/DM/lib/python3.7/site-packages/statsmodels/tsa/holtwinters/model.py:922: ConvergenceWarning:\n",
      "\n",
      "Optimization failed to converge. Check mle_retvals.\n",
      "\n",
      "/home/oscar/anaconda3/envs/DM/lib/python3.7/site-packages/statsmodels/tsa/holtwinters/model.py:922: ConvergenceWarning:\n",
      "\n",
      "Optimization failed to converge. Check mle_retvals.\n",
      "\n",
      "/home/oscar/anaconda3/envs/DM/lib/python3.7/site-packages/statsmodels/tsa/holtwinters/model.py:922: ConvergenceWarning:\n",
      "\n",
      "Optimization failed to converge. Check mle_retvals.\n",
      "\n",
      "/home/oscar/anaconda3/envs/DM/lib/python3.7/site-packages/statsmodels/tsa/holtwinters/model.py:922: ConvergenceWarning:\n",
      "\n",
      "Optimization failed to converge. Check mle_retvals.\n",
      "\n"
     ]
    },
    {
     "name": "stdout",
     "output_type": "stream",
     "text": [
      "file 700\n"
     ]
    },
    {
     "name": "stderr",
     "output_type": "stream",
     "text": [
      "/home/oscar/anaconda3/envs/DM/lib/python3.7/site-packages/statsmodels/tsa/holtwinters/model.py:922: ConvergenceWarning:\n",
      "\n",
      "Optimization failed to converge. Check mle_retvals.\n",
      "\n",
      "/home/oscar/anaconda3/envs/DM/lib/python3.7/site-packages/statsmodels/tsa/holtwinters/model.py:922: ConvergenceWarning:\n",
      "\n",
      "Optimization failed to converge. Check mle_retvals.\n",
      "\n",
      "/home/oscar/anaconda3/envs/DM/lib/python3.7/site-packages/statsmodels/tsa/holtwinters/model.py:922: ConvergenceWarning:\n",
      "\n",
      "Optimization failed to converge. Check mle_retvals.\n",
      "\n"
     ]
    },
    {
     "name": "stdout",
     "output_type": "stream",
     "text": [
      "file 800\n"
     ]
    },
    {
     "name": "stderr",
     "output_type": "stream",
     "text": [
      "/home/oscar/anaconda3/envs/DM/lib/python3.7/site-packages/statsmodels/tsa/holtwinters/model.py:922: ConvergenceWarning:\n",
      "\n",
      "Optimization failed to converge. Check mle_retvals.\n",
      "\n"
     ]
    },
    {
     "name": "stdout",
     "output_type": "stream",
     "text": [
      "file 900\n"
     ]
    },
    {
     "name": "stderr",
     "output_type": "stream",
     "text": [
      "/home/oscar/anaconda3/envs/DM/lib/python3.7/site-packages/statsmodels/tsa/holtwinters/model.py:922: ConvergenceWarning:\n",
      "\n",
      "Optimization failed to converge. Check mle_retvals.\n",
      "\n"
     ]
    },
    {
     "name": "stdout",
     "output_type": "stream",
     "text": [
      "file 1000\n"
     ]
    },
    {
     "name": "stderr",
     "output_type": "stream",
     "text": [
      "/home/oscar/anaconda3/envs/DM/lib/python3.7/site-packages/statsmodels/tsa/holtwinters/model.py:922: ConvergenceWarning:\n",
      "\n",
      "Optimization failed to converge. Check mle_retvals.\n",
      "\n",
      "/home/oscar/anaconda3/envs/DM/lib/python3.7/site-packages/statsmodels/tsa/holtwinters/model.py:922: ConvergenceWarning:\n",
      "\n",
      "Optimization failed to converge. Check mle_retvals.\n",
      "\n",
      "/home/oscar/anaconda3/envs/DM/lib/python3.7/site-packages/statsmodels/tsa/holtwinters/model.py:922: ConvergenceWarning:\n",
      "\n",
      "Optimization failed to converge. Check mle_retvals.\n",
      "\n"
     ]
    },
    {
     "name": "stdout",
     "output_type": "stream",
     "text": [
      "file 1100\n"
     ]
    },
    {
     "name": "stderr",
     "output_type": "stream",
     "text": [
      "/home/oscar/anaconda3/envs/DM/lib/python3.7/site-packages/statsmodels/tsa/holtwinters/model.py:922: ConvergenceWarning:\n",
      "\n",
      "Optimization failed to converge. Check mle_retvals.\n",
      "\n"
     ]
    },
    {
     "name": "stdout",
     "output_type": "stream",
     "text": [
      "file 1200\n"
     ]
    },
    {
     "name": "stderr",
     "output_type": "stream",
     "text": [
      "/home/oscar/anaconda3/envs/DM/lib/python3.7/site-packages/statsmodels/tsa/holtwinters/model.py:922: ConvergenceWarning:\n",
      "\n",
      "Optimization failed to converge. Check mle_retvals.\n",
      "\n"
     ]
    },
    {
     "name": "stdout",
     "output_type": "stream",
     "text": [
      "file 1300\n"
     ]
    },
    {
     "name": "stderr",
     "output_type": "stream",
     "text": [
      "/home/oscar/anaconda3/envs/DM/lib/python3.7/site-packages/statsmodels/tsa/holtwinters/model.py:922: ConvergenceWarning:\n",
      "\n",
      "Optimization failed to converge. Check mle_retvals.\n",
      "\n",
      "/home/oscar/anaconda3/envs/DM/lib/python3.7/site-packages/statsmodels/tsa/holtwinters/model.py:922: ConvergenceWarning:\n",
      "\n",
      "Optimization failed to converge. Check mle_retvals.\n",
      "\n"
     ]
    },
    {
     "name": "stdout",
     "output_type": "stream",
     "text": [
      "file 1400\n"
     ]
    },
    {
     "name": "stderr",
     "output_type": "stream",
     "text": [
      "/home/oscar/anaconda3/envs/DM/lib/python3.7/site-packages/statsmodels/tsa/holtwinters/model.py:922: ConvergenceWarning:\n",
      "\n",
      "Optimization failed to converge. Check mle_retvals.\n",
      "\n",
      "/home/oscar/anaconda3/envs/DM/lib/python3.7/site-packages/statsmodels/tsa/holtwinters/model.py:922: ConvergenceWarning:\n",
      "\n",
      "Optimization failed to converge. Check mle_retvals.\n",
      "\n",
      "/home/oscar/anaconda3/envs/DM/lib/python3.7/site-packages/statsmodels/tsa/holtwinters/model.py:922: ConvergenceWarning:\n",
      "\n",
      "Optimization failed to converge. Check mle_retvals.\n",
      "\n",
      "/home/oscar/anaconda3/envs/DM/lib/python3.7/site-packages/statsmodels/tsa/holtwinters/model.py:922: ConvergenceWarning:\n",
      "\n",
      "Optimization failed to converge. Check mle_retvals.\n",
      "\n"
     ]
    },
    {
     "name": "stdout",
     "output_type": "stream",
     "text": [
      "file 1500\n"
     ]
    },
    {
     "name": "stderr",
     "output_type": "stream",
     "text": [
      "/home/oscar/anaconda3/envs/DM/lib/python3.7/site-packages/statsmodels/tsa/holtwinters/model.py:922: ConvergenceWarning:\n",
      "\n",
      "Optimization failed to converge. Check mle_retvals.\n",
      "\n",
      "/home/oscar/anaconda3/envs/DM/lib/python3.7/site-packages/statsmodels/tsa/holtwinters/model.py:922: ConvergenceWarning:\n",
      "\n",
      "Optimization failed to converge. Check mle_retvals.\n",
      "\n",
      "/home/oscar/anaconda3/envs/DM/lib/python3.7/site-packages/statsmodels/tsa/holtwinters/model.py:922: ConvergenceWarning:\n",
      "\n",
      "Optimization failed to converge. Check mle_retvals.\n",
      "\n"
     ]
    },
    {
     "name": "stdout",
     "output_type": "stream",
     "text": [
      "file 1600\n"
     ]
    },
    {
     "name": "stderr",
     "output_type": "stream",
     "text": [
      "/home/oscar/anaconda3/envs/DM/lib/python3.7/site-packages/statsmodels/tsa/holtwinters/model.py:922: ConvergenceWarning:\n",
      "\n",
      "Optimization failed to converge. Check mle_retvals.\n",
      "\n"
     ]
    },
    {
     "name": "stdout",
     "output_type": "stream",
     "text": [
      "file 1700\n"
     ]
    },
    {
     "name": "stderr",
     "output_type": "stream",
     "text": [
      "/home/oscar/anaconda3/envs/DM/lib/python3.7/site-packages/statsmodels/tsa/holtwinters/model.py:922: ConvergenceWarning:\n",
      "\n",
      "Optimization failed to converge. Check mle_retvals.\n",
      "\n",
      "/home/oscar/anaconda3/envs/DM/lib/python3.7/site-packages/statsmodels/tsa/holtwinters/model.py:922: ConvergenceWarning:\n",
      "\n",
      "Optimization failed to converge. Check mle_retvals.\n",
      "\n",
      "/home/oscar/anaconda3/envs/DM/lib/python3.7/site-packages/statsmodels/tsa/holtwinters/model.py:922: ConvergenceWarning:\n",
      "\n",
      "Optimization failed to converge. Check mle_retvals.\n",
      "\n",
      "/home/oscar/anaconda3/envs/DM/lib/python3.7/site-packages/statsmodels/tsa/holtwinters/model.py:922: ConvergenceWarning:\n",
      "\n",
      "Optimization failed to converge. Check mle_retvals.\n",
      "\n"
     ]
    },
    {
     "name": "stdout",
     "output_type": "stream",
     "text": [
      "file 1800\n"
     ]
    },
    {
     "name": "stderr",
     "output_type": "stream",
     "text": [
      "/home/oscar/anaconda3/envs/DM/lib/python3.7/site-packages/statsmodels/tsa/holtwinters/model.py:922: ConvergenceWarning:\n",
      "\n",
      "Optimization failed to converge. Check mle_retvals.\n",
      "\n"
     ]
    },
    {
     "name": "stdout",
     "output_type": "stream",
     "text": [
      "file 1900\n"
     ]
    },
    {
     "name": "stderr",
     "output_type": "stream",
     "text": [
      "/home/oscar/anaconda3/envs/DM/lib/python3.7/site-packages/statsmodels/tsa/holtwinters/model.py:922: ConvergenceWarning:\n",
      "\n",
      "Optimization failed to converge. Check mle_retvals.\n",
      "\n",
      "/home/oscar/anaconda3/envs/DM/lib/python3.7/site-packages/statsmodels/tsa/holtwinters/model.py:922: ConvergenceWarning:\n",
      "\n",
      "Optimization failed to converge. Check mle_retvals.\n",
      "\n",
      "/home/oscar/anaconda3/envs/DM/lib/python3.7/site-packages/statsmodels/tsa/holtwinters/model.py:922: ConvergenceWarning:\n",
      "\n",
      "Optimization failed to converge. Check mle_retvals.\n",
      "\n"
     ]
    },
    {
     "name": "stdout",
     "output_type": "stream",
     "text": [
      "file 2000\n"
     ]
    },
    {
     "name": "stderr",
     "output_type": "stream",
     "text": [
      "/home/oscar/anaconda3/envs/DM/lib/python3.7/site-packages/statsmodels/tsa/holtwinters/model.py:922: ConvergenceWarning:\n",
      "\n",
      "Optimization failed to converge. Check mle_retvals.\n",
      "\n",
      "/home/oscar/anaconda3/envs/DM/lib/python3.7/site-packages/statsmodels/tsa/holtwinters/model.py:922: ConvergenceWarning:\n",
      "\n",
      "Optimization failed to converge. Check mle_retvals.\n",
      "\n",
      "/home/oscar/anaconda3/envs/DM/lib/python3.7/site-packages/statsmodels/tsa/holtwinters/model.py:922: ConvergenceWarning:\n",
      "\n",
      "Optimization failed to converge. Check mle_retvals.\n",
      "\n",
      "/home/oscar/anaconda3/envs/DM/lib/python3.7/site-packages/statsmodels/tsa/holtwinters/model.py:922: ConvergenceWarning:\n",
      "\n",
      "Optimization failed to converge. Check mle_retvals.\n",
      "\n",
      "/home/oscar/anaconda3/envs/DM/lib/python3.7/site-packages/statsmodels/tsa/holtwinters/model.py:922: ConvergenceWarning:\n",
      "\n",
      "Optimization failed to converge. Check mle_retvals.\n",
      "\n"
     ]
    },
    {
     "name": "stdout",
     "output_type": "stream",
     "text": [
      "file 2100\n"
     ]
    },
    {
     "name": "stderr",
     "output_type": "stream",
     "text": [
      "/home/oscar/anaconda3/envs/DM/lib/python3.7/site-packages/statsmodels/tsa/holtwinters/model.py:922: ConvergenceWarning:\n",
      "\n",
      "Optimization failed to converge. Check mle_retvals.\n",
      "\n",
      "/home/oscar/anaconda3/envs/DM/lib/python3.7/site-packages/statsmodels/tsa/holtwinters/model.py:922: ConvergenceWarning:\n",
      "\n",
      "Optimization failed to converge. Check mle_retvals.\n",
      "\n"
     ]
    },
    {
     "name": "stdout",
     "output_type": "stream",
     "text": [
      "file 2200\n"
     ]
    },
    {
     "name": "stderr",
     "output_type": "stream",
     "text": [
      "/home/oscar/anaconda3/envs/DM/lib/python3.7/site-packages/statsmodels/tsa/holtwinters/model.py:922: ConvergenceWarning:\n",
      "\n",
      "Optimization failed to converge. Check mle_retvals.\n",
      "\n",
      "/home/oscar/anaconda3/envs/DM/lib/python3.7/site-packages/statsmodels/tsa/holtwinters/model.py:922: ConvergenceWarning:\n",
      "\n",
      "Optimization failed to converge. Check mle_retvals.\n",
      "\n"
     ]
    },
    {
     "name": "stdout",
     "output_type": "stream",
     "text": [
      "file 2300\n"
     ]
    },
    {
     "name": "stderr",
     "output_type": "stream",
     "text": [
      "/home/oscar/anaconda3/envs/DM/lib/python3.7/site-packages/statsmodels/tsa/holtwinters/model.py:922: ConvergenceWarning:\n",
      "\n",
      "Optimization failed to converge. Check mle_retvals.\n",
      "\n",
      "/home/oscar/anaconda3/envs/DM/lib/python3.7/site-packages/statsmodels/tsa/holtwinters/model.py:922: ConvergenceWarning:\n",
      "\n",
      "Optimization failed to converge. Check mle_retvals.\n",
      "\n",
      "/home/oscar/anaconda3/envs/DM/lib/python3.7/site-packages/statsmodels/tsa/holtwinters/model.py:922: ConvergenceWarning:\n",
      "\n",
      "Optimization failed to converge. Check mle_retvals.\n",
      "\n"
     ]
    },
    {
     "name": "stdout",
     "output_type": "stream",
     "text": [
      "file 2400\n"
     ]
    },
    {
     "name": "stderr",
     "output_type": "stream",
     "text": [
      "/home/oscar/anaconda3/envs/DM/lib/python3.7/site-packages/statsmodels/tsa/holtwinters/model.py:922: ConvergenceWarning:\n",
      "\n",
      "Optimization failed to converge. Check mle_retvals.\n",
      "\n",
      "/home/oscar/anaconda3/envs/DM/lib/python3.7/site-packages/statsmodels/tsa/holtwinters/model.py:922: ConvergenceWarning:\n",
      "\n",
      "Optimization failed to converge. Check mle_retvals.\n",
      "\n",
      "/home/oscar/anaconda3/envs/DM/lib/python3.7/site-packages/statsmodels/tsa/holtwinters/model.py:922: ConvergenceWarning:\n",
      "\n",
      "Optimization failed to converge. Check mle_retvals.\n",
      "\n",
      "/home/oscar/anaconda3/envs/DM/lib/python3.7/site-packages/statsmodels/tsa/holtwinters/model.py:922: ConvergenceWarning:\n",
      "\n",
      "Optimization failed to converge. Check mle_retvals.\n",
      "\n"
     ]
    },
    {
     "name": "stdout",
     "output_type": "stream",
     "text": [
      "file 2500\n"
     ]
    },
    {
     "name": "stderr",
     "output_type": "stream",
     "text": [
      "/home/oscar/anaconda3/envs/DM/lib/python3.7/site-packages/statsmodels/tsa/holtwinters/model.py:922: ConvergenceWarning:\n",
      "\n",
      "Optimization failed to converge. Check mle_retvals.\n",
      "\n",
      "/home/oscar/anaconda3/envs/DM/lib/python3.7/site-packages/statsmodels/tsa/holtwinters/model.py:922: ConvergenceWarning:\n",
      "\n",
      "Optimization failed to converge. Check mle_retvals.\n",
      "\n",
      "/home/oscar/anaconda3/envs/DM/lib/python3.7/site-packages/statsmodels/tsa/holtwinters/model.py:922: ConvergenceWarning:\n",
      "\n",
      "Optimization failed to converge. Check mle_retvals.\n",
      "\n",
      "/home/oscar/anaconda3/envs/DM/lib/python3.7/site-packages/statsmodels/tsa/holtwinters/model.py:922: ConvergenceWarning:\n",
      "\n",
      "Optimization failed to converge. Check mle_retvals.\n",
      "\n"
     ]
    },
    {
     "name": "stdout",
     "output_type": "stream",
     "text": [
      "file 2600\n"
     ]
    },
    {
     "name": "stderr",
     "output_type": "stream",
     "text": [
      "/home/oscar/anaconda3/envs/DM/lib/python3.7/site-packages/statsmodels/tsa/holtwinters/model.py:922: ConvergenceWarning:\n",
      "\n",
      "Optimization failed to converge. Check mle_retvals.\n",
      "\n",
      "/home/oscar/anaconda3/envs/DM/lib/python3.7/site-packages/statsmodels/tsa/holtwinters/model.py:922: ConvergenceWarning:\n",
      "\n",
      "Optimization failed to converge. Check mle_retvals.\n",
      "\n",
      "/home/oscar/anaconda3/envs/DM/lib/python3.7/site-packages/statsmodels/tsa/holtwinters/model.py:922: ConvergenceWarning:\n",
      "\n",
      "Optimization failed to converge. Check mle_retvals.\n",
      "\n",
      "/home/oscar/anaconda3/envs/DM/lib/python3.7/site-packages/statsmodels/tsa/holtwinters/model.py:922: ConvergenceWarning:\n",
      "\n",
      "Optimization failed to converge. Check mle_retvals.\n",
      "\n"
     ]
    },
    {
     "name": "stdout",
     "output_type": "stream",
     "text": [
      "file 2700\n"
     ]
    },
    {
     "name": "stderr",
     "output_type": "stream",
     "text": [
      "/home/oscar/anaconda3/envs/DM/lib/python3.7/site-packages/statsmodels/tsa/holtwinters/model.py:922: ConvergenceWarning:\n",
      "\n",
      "Optimization failed to converge. Check mle_retvals.\n",
      "\n",
      "/home/oscar/anaconda3/envs/DM/lib/python3.7/site-packages/statsmodels/tsa/holtwinters/model.py:922: ConvergenceWarning:\n",
      "\n",
      "Optimization failed to converge. Check mle_retvals.\n",
      "\n",
      "/home/oscar/anaconda3/envs/DM/lib/python3.7/site-packages/statsmodels/tsa/holtwinters/model.py:922: ConvergenceWarning:\n",
      "\n",
      "Optimization failed to converge. Check mle_retvals.\n",
      "\n",
      "/home/oscar/anaconda3/envs/DM/lib/python3.7/site-packages/statsmodels/tsa/holtwinters/model.py:922: ConvergenceWarning:\n",
      "\n",
      "Optimization failed to converge. Check mle_retvals.\n",
      "\n",
      "/home/oscar/anaconda3/envs/DM/lib/python3.7/site-packages/statsmodels/tsa/holtwinters/model.py:922: ConvergenceWarning:\n",
      "\n",
      "Optimization failed to converge. Check mle_retvals.\n",
      "\n"
     ]
    },
    {
     "name": "stdout",
     "output_type": "stream",
     "text": [
      "file 2800\n"
     ]
    },
    {
     "name": "stderr",
     "output_type": "stream",
     "text": [
      "/home/oscar/anaconda3/envs/DM/lib/python3.7/site-packages/statsmodels/tsa/holtwinters/model.py:922: ConvergenceWarning:\n",
      "\n",
      "Optimization failed to converge. Check mle_retvals.\n",
      "\n",
      "/home/oscar/anaconda3/envs/DM/lib/python3.7/site-packages/statsmodels/tsa/holtwinters/model.py:922: ConvergenceWarning:\n",
      "\n",
      "Optimization failed to converge. Check mle_retvals.\n",
      "\n",
      "/home/oscar/anaconda3/envs/DM/lib/python3.7/site-packages/statsmodels/tsa/holtwinters/model.py:922: ConvergenceWarning:\n",
      "\n",
      "Optimization failed to converge. Check mle_retvals.\n",
      "\n"
     ]
    },
    {
     "name": "stdout",
     "output_type": "stream",
     "text": [
      "file 2900\n"
     ]
    },
    {
     "name": "stderr",
     "output_type": "stream",
     "text": [
      "/home/oscar/anaconda3/envs/DM/lib/python3.7/site-packages/statsmodels/tsa/holtwinters/model.py:922: ConvergenceWarning:\n",
      "\n",
      "Optimization failed to converge. Check mle_retvals.\n",
      "\n",
      "/home/oscar/anaconda3/envs/DM/lib/python3.7/site-packages/statsmodels/tsa/holtwinters/model.py:922: ConvergenceWarning:\n",
      "\n",
      "Optimization failed to converge. Check mle_retvals.\n",
      "\n",
      "/home/oscar/anaconda3/envs/DM/lib/python3.7/site-packages/statsmodels/tsa/holtwinters/model.py:922: ConvergenceWarning:\n",
      "\n",
      "Optimization failed to converge. Check mle_retvals.\n",
      "\n"
     ]
    },
    {
     "name": "stdout",
     "output_type": "stream",
     "text": [
      "file 3000\n"
     ]
    },
    {
     "name": "stderr",
     "output_type": "stream",
     "text": [
      "/home/oscar/anaconda3/envs/DM/lib/python3.7/site-packages/statsmodels/tsa/holtwinters/model.py:922: ConvergenceWarning:\n",
      "\n",
      "Optimization failed to converge. Check mle_retvals.\n",
      "\n",
      "/home/oscar/anaconda3/envs/DM/lib/python3.7/site-packages/statsmodels/tsa/holtwinters/model.py:922: ConvergenceWarning:\n",
      "\n",
      "Optimization failed to converge. Check mle_retvals.\n",
      "\n",
      "/home/oscar/anaconda3/envs/DM/lib/python3.7/site-packages/statsmodels/tsa/holtwinters/model.py:922: ConvergenceWarning:\n",
      "\n",
      "Optimization failed to converge. Check mle_retvals.\n",
      "\n"
     ]
    },
    {
     "name": "stdout",
     "output_type": "stream",
     "text": [
      "file 3100\n"
     ]
    },
    {
     "name": "stderr",
     "output_type": "stream",
     "text": [
      "/home/oscar/anaconda3/envs/DM/lib/python3.7/site-packages/statsmodels/tsa/holtwinters/model.py:922: ConvergenceWarning:\n",
      "\n",
      "Optimization failed to converge. Check mle_retvals.\n",
      "\n",
      "/home/oscar/anaconda3/envs/DM/lib/python3.7/site-packages/statsmodels/tsa/holtwinters/model.py:922: ConvergenceWarning:\n",
      "\n",
      "Optimization failed to converge. Check mle_retvals.\n",
      "\n",
      "/home/oscar/anaconda3/envs/DM/lib/python3.7/site-packages/statsmodels/tsa/holtwinters/model.py:922: ConvergenceWarning:\n",
      "\n",
      "Optimization failed to converge. Check mle_retvals.\n",
      "\n",
      "/home/oscar/anaconda3/envs/DM/lib/python3.7/site-packages/statsmodels/tsa/holtwinters/model.py:922: ConvergenceWarning:\n",
      "\n",
      "Optimization failed to converge. Check mle_retvals.\n",
      "\n",
      "/home/oscar/anaconda3/envs/DM/lib/python3.7/site-packages/statsmodels/tsa/holtwinters/model.py:922: ConvergenceWarning:\n",
      "\n",
      "Optimization failed to converge. Check mle_retvals.\n",
      "\n",
      "/home/oscar/anaconda3/envs/DM/lib/python3.7/site-packages/statsmodels/tsa/holtwinters/model.py:922: ConvergenceWarning:\n",
      "\n",
      "Optimization failed to converge. Check mle_retvals.\n",
      "\n"
     ]
    },
    {
     "name": "stdout",
     "output_type": "stream",
     "text": [
      "file 3200\n"
     ]
    },
    {
     "name": "stderr",
     "output_type": "stream",
     "text": [
      "/home/oscar/anaconda3/envs/DM/lib/python3.7/site-packages/statsmodels/tsa/holtwinters/model.py:922: ConvergenceWarning:\n",
      "\n",
      "Optimization failed to converge. Check mle_retvals.\n",
      "\n",
      "/home/oscar/anaconda3/envs/DM/lib/python3.7/site-packages/statsmodels/tsa/holtwinters/model.py:922: ConvergenceWarning:\n",
      "\n",
      "Optimization failed to converge. Check mle_retvals.\n",
      "\n",
      "/home/oscar/anaconda3/envs/DM/lib/python3.7/site-packages/statsmodels/tsa/holtwinters/model.py:922: ConvergenceWarning:\n",
      "\n",
      "Optimization failed to converge. Check mle_retvals.\n",
      "\n"
     ]
    },
    {
     "name": "stdout",
     "output_type": "stream",
     "text": [
      "file 3300\n"
     ]
    },
    {
     "name": "stderr",
     "output_type": "stream",
     "text": [
      "/home/oscar/anaconda3/envs/DM/lib/python3.7/site-packages/statsmodels/tsa/holtwinters/model.py:922: ConvergenceWarning:\n",
      "\n",
      "Optimization failed to converge. Check mle_retvals.\n",
      "\n",
      "/home/oscar/anaconda3/envs/DM/lib/python3.7/site-packages/statsmodels/tsa/holtwinters/model.py:922: ConvergenceWarning:\n",
      "\n",
      "Optimization failed to converge. Check mle_retvals.\n",
      "\n",
      "/home/oscar/anaconda3/envs/DM/lib/python3.7/site-packages/statsmodels/tsa/holtwinters/model.py:922: ConvergenceWarning:\n",
      "\n",
      "Optimization failed to converge. Check mle_retvals.\n",
      "\n"
     ]
    },
    {
     "name": "stdout",
     "output_type": "stream",
     "text": [
      "file 3400\n"
     ]
    },
    {
     "name": "stderr",
     "output_type": "stream",
     "text": [
      "/home/oscar/anaconda3/envs/DM/lib/python3.7/site-packages/statsmodels/tsa/holtwinters/model.py:922: ConvergenceWarning:\n",
      "\n",
      "Optimization failed to converge. Check mle_retvals.\n",
      "\n",
      "/home/oscar/anaconda3/envs/DM/lib/python3.7/site-packages/statsmodels/tsa/holtwinters/model.py:922: ConvergenceWarning:\n",
      "\n",
      "Optimization failed to converge. Check mle_retvals.\n",
      "\n",
      "/home/oscar/anaconda3/envs/DM/lib/python3.7/site-packages/statsmodels/tsa/holtwinters/model.py:922: ConvergenceWarning:\n",
      "\n",
      "Optimization failed to converge. Check mle_retvals.\n",
      "\n"
     ]
    },
    {
     "name": "stdout",
     "output_type": "stream",
     "text": [
      "file 3500\n"
     ]
    },
    {
     "name": "stderr",
     "output_type": "stream",
     "text": [
      "/home/oscar/anaconda3/envs/DM/lib/python3.7/site-packages/statsmodels/tsa/holtwinters/model.py:922: ConvergenceWarning:\n",
      "\n",
      "Optimization failed to converge. Check mle_retvals.\n",
      "\n",
      "/home/oscar/anaconda3/envs/DM/lib/python3.7/site-packages/statsmodels/tsa/holtwinters/model.py:922: ConvergenceWarning:\n",
      "\n",
      "Optimization failed to converge. Check mle_retvals.\n",
      "\n"
     ]
    },
    {
     "name": "stdout",
     "output_type": "stream",
     "text": [
      "file 3600\n",
      "file 3700\n"
     ]
    },
    {
     "name": "stderr",
     "output_type": "stream",
     "text": [
      "/home/oscar/anaconda3/envs/DM/lib/python3.7/site-packages/statsmodels/tsa/holtwinters/model.py:922: ConvergenceWarning:\n",
      "\n",
      "Optimization failed to converge. Check mle_retvals.\n",
      "\n",
      "/home/oscar/anaconda3/envs/DM/lib/python3.7/site-packages/statsmodels/tsa/holtwinters/model.py:922: ConvergenceWarning:\n",
      "\n",
      "Optimization failed to converge. Check mle_retvals.\n",
      "\n",
      "/home/oscar/anaconda3/envs/DM/lib/python3.7/site-packages/statsmodels/tsa/holtwinters/model.py:922: ConvergenceWarning:\n",
      "\n",
      "Optimization failed to converge. Check mle_retvals.\n",
      "\n",
      "/home/oscar/anaconda3/envs/DM/lib/python3.7/site-packages/statsmodels/tsa/holtwinters/model.py:922: ConvergenceWarning:\n",
      "\n",
      "Optimization failed to converge. Check mle_retvals.\n",
      "\n",
      "/home/oscar/anaconda3/envs/DM/lib/python3.7/site-packages/statsmodels/tsa/holtwinters/model.py:922: ConvergenceWarning:\n",
      "\n",
      "Optimization failed to converge. Check mle_retvals.\n",
      "\n"
     ]
    },
    {
     "name": "stdout",
     "output_type": "stream",
     "text": [
      "file 3800\n"
     ]
    },
    {
     "name": "stderr",
     "output_type": "stream",
     "text": [
      "/home/oscar/anaconda3/envs/DM/lib/python3.7/site-packages/statsmodels/tsa/holtwinters/model.py:922: ConvergenceWarning:\n",
      "\n",
      "Optimization failed to converge. Check mle_retvals.\n",
      "\n"
     ]
    },
    {
     "name": "stdout",
     "output_type": "stream",
     "text": [
      "file 3900\n"
     ]
    },
    {
     "name": "stderr",
     "output_type": "stream",
     "text": [
      "/home/oscar/anaconda3/envs/DM/lib/python3.7/site-packages/statsmodels/tsa/holtwinters/model.py:922: ConvergenceWarning:\n",
      "\n",
      "Optimization failed to converge. Check mle_retvals.\n",
      "\n"
     ]
    },
    {
     "name": "stdout",
     "output_type": "stream",
     "text": [
      "file 4000\n"
     ]
    },
    {
     "name": "stderr",
     "output_type": "stream",
     "text": [
      "/home/oscar/anaconda3/envs/DM/lib/python3.7/site-packages/statsmodels/tsa/holtwinters/model.py:922: ConvergenceWarning:\n",
      "\n",
      "Optimization failed to converge. Check mle_retvals.\n",
      "\n",
      "/home/oscar/anaconda3/envs/DM/lib/python3.7/site-packages/statsmodels/tsa/holtwinters/model.py:922: ConvergenceWarning:\n",
      "\n",
      "Optimization failed to converge. Check mle_retvals.\n",
      "\n",
      "/home/oscar/anaconda3/envs/DM/lib/python3.7/site-packages/statsmodels/tsa/holtwinters/model.py:922: ConvergenceWarning:\n",
      "\n",
      "Optimization failed to converge. Check mle_retvals.\n",
      "\n"
     ]
    },
    {
     "name": "stdout",
     "output_type": "stream",
     "text": [
      "file 4100\n"
     ]
    },
    {
     "name": "stderr",
     "output_type": "stream",
     "text": [
      "/home/oscar/anaconda3/envs/DM/lib/python3.7/site-packages/statsmodels/tsa/holtwinters/model.py:922: ConvergenceWarning:\n",
      "\n",
      "Optimization failed to converge. Check mle_retvals.\n",
      "\n"
     ]
    },
    {
     "name": "stdout",
     "output_type": "stream",
     "text": [
      "file 4200\n"
     ]
    },
    {
     "name": "stderr",
     "output_type": "stream",
     "text": [
      "/home/oscar/anaconda3/envs/DM/lib/python3.7/site-packages/statsmodels/tsa/holtwinters/model.py:922: ConvergenceWarning:\n",
      "\n",
      "Optimization failed to converge. Check mle_retvals.\n",
      "\n",
      "/home/oscar/anaconda3/envs/DM/lib/python3.7/site-packages/statsmodels/tsa/holtwinters/model.py:922: ConvergenceWarning:\n",
      "\n",
      "Optimization failed to converge. Check mle_retvals.\n",
      "\n",
      "/home/oscar/anaconda3/envs/DM/lib/python3.7/site-packages/statsmodels/tsa/holtwinters/model.py:922: ConvergenceWarning:\n",
      "\n",
      "Optimization failed to converge. Check mle_retvals.\n",
      "\n"
     ]
    },
    {
     "name": "stdout",
     "output_type": "stream",
     "text": [
      "file 4300\n"
     ]
    },
    {
     "name": "stderr",
     "output_type": "stream",
     "text": [
      "/home/oscar/anaconda3/envs/DM/lib/python3.7/site-packages/statsmodels/tsa/holtwinters/model.py:922: ConvergenceWarning:\n",
      "\n",
      "Optimization failed to converge. Check mle_retvals.\n",
      "\n",
      "/home/oscar/anaconda3/envs/DM/lib/python3.7/site-packages/statsmodels/tsa/holtwinters/model.py:922: ConvergenceWarning:\n",
      "\n",
      "Optimization failed to converge. Check mle_retvals.\n",
      "\n",
      "/home/oscar/anaconda3/envs/DM/lib/python3.7/site-packages/statsmodels/tsa/holtwinters/model.py:922: ConvergenceWarning:\n",
      "\n",
      "Optimization failed to converge. Check mle_retvals.\n",
      "\n"
     ]
    },
    {
     "name": "stdout",
     "output_type": "stream",
     "text": [
      "file 4400\n"
     ]
    },
    {
     "name": "stderr",
     "output_type": "stream",
     "text": [
      "/home/oscar/anaconda3/envs/DM/lib/python3.7/site-packages/statsmodels/tsa/holtwinters/model.py:922: ConvergenceWarning:\n",
      "\n",
      "Optimization failed to converge. Check mle_retvals.\n",
      "\n",
      "/home/oscar/anaconda3/envs/DM/lib/python3.7/site-packages/statsmodels/tsa/holtwinters/model.py:922: ConvergenceWarning:\n",
      "\n",
      "Optimization failed to converge. Check mle_retvals.\n",
      "\n"
     ]
    },
    {
     "name": "stdout",
     "output_type": "stream",
     "text": [
      "CPU times: user 15min 33s, sys: 29min 50s, total: 45min 23s\n",
      "Wall time: 13min 19s\n"
     ]
    }
   ],
   "source": [
    "%%time\n",
    "train_filenames = listdir(path_sample)\n",
    "for i,filename in enumerate(train_filenames,1):\n",
    "    if i%100 == 0:\n",
    "        print(\"file\",i)\n",
    "    df = pd.read_csv(path.join(path_sample, filename))\n",
    "    df2 = impute_df(df, whole_stats)\n",
    "    assert not df2.isna().any().any()"
   ]
  },
  {
   "cell_type": "markdown",
   "metadata": {},
   "source": [
    "## Análisis de señales\n",
    "\n",
    "¿Cuáles serán las características que utilizaremos?\n",
    "\n",
    "Librosa\n",
    "- [x] zero_crossings\n",
    "---\n",
    "Peak finding\n",
    "- [x] find_peaks (max)\n",
    "- [ ] find_peaks_cwt\n",
    "- [x] peak_prominences\n",
    "---\n",
    "Spectral analysis\n",
    "- [x] periodogram\n",
    "- [ ] csd\n",
    "- [ ] coherence\n",
    "- [ ] stft"
   ]
  },
  {
   "cell_type": "code",
   "execution_count": 35,
   "metadata": {},
   "outputs": [],
   "source": [
    "def get_features(df, name):\n",
    "    \"\"\"Get features from sensor data\n",
    "    For each sensor, peaks, promenences and periodograms features are computed.\n",
    "        \n",
    "    Parameters:\n",
    "        df: pd.DataFrame\n",
    "        Dataframe with 10 columns, corresponding to data from sensors\n",
    "    Returns:\n",
    "        features: list\n",
    "        List with features.\n",
    "    \"\"\"\n",
    "    features = [int(name[:-4])]\n",
    "    # zeros_crossings\n",
    "    features.extend(librosa.zero_crossings(df.values, axis = 0).sum(axis = 0))\n",
    "    # find_peaks\n",
    "    features.extend(df.apply(find_peaks, axis = 0).iloc[0,:].apply(len).values)\n",
    "    # peak_widths_max\n",
    "    λ0 = lambda x: np.max(peak_widths(x, find_peaks(x)[0])[0]) if len(find_peaks(x)[0]) != 0 else 0\n",
    "    features.extend(df.apply(λ0).values)\n",
    "    # peak_widths_mean\n",
    "    λ01 = lambda x: np.mean(peak_widths(x, find_peaks(x)[0])[0]) if len(find_peaks(x)[0]) != 0 else 0\n",
    "    features.extend(df.apply(λ01).values)\n",
    "    # peak_prominences_max\n",
    "    λ1 = lambda x: np.max(peak_prominences(x, find_peaks(x)[0])[0]) if len(find_peaks(x)[0]) != 0 else 0\n",
    "    features.extend(df.apply(λ1).values)\n",
    "    # peak_prominences_mean\n",
    "    λ11 = lambda x: np.mean(peak_prominences(x, find_peaks(x)[0])[0]) if len(find_peaks(x)[0]) != 0 else 0\n",
    "    features.extend(df.apply(λ11).values)\n",
    "    # periodogram_max\n",
    "    λ2 = lambda x: np.max(periodogram(x[~x.isna()], 100)[1]) if ~x.isna().all() else 0\n",
    "    features.extend(np.sqrt(df.apply(λ2).values)) # Es un estimado del RMS\n",
    "    # periodogram_mean\n",
    "    λ3 = lambda x: np.mean(periodogram(x[~x.isna()], 100)[1]) if ~x.isna().all() else 0\n",
    "    features.extend(df.apply(λ3).values)\n",
    "                \n",
    "    return features"
   ]
  },
  {
   "cell_type": "markdown",
   "metadata": {},
   "source": [
    "Sacaremos los vectores de características para cada archivo de los archivos que querramos, ya sean de prueba, de entrenamiento, estandarizados, sin estandarizar, etc."
   ]
  },
  {
   "cell_type": "code",
   "execution_count": 47,
   "metadata": {},
   "outputs": [
    {
     "name": "stdout",
     "output_type": "stream",
     "text": [
      "CPU times: user 13min 38s, sys: 3.76 s, total: 13min 42s\n",
      "Wall time: 13min 50s\n"
     ]
    }
   ],
   "source": [
    "%%time\n",
    "# Setting the path of the data we want to get signal characteristics.\n",
    "path_test = \"/home/oscar/Escritorio/estandarizados/test\"\n",
    "todos = []\n",
    "i = 0\n",
    "for archivo in listdir(path_test):\n",
    "    camino = path.join(path_test, archivo)\n",
    "    df = pd.read_csv(camino)\n",
    "    try:\n",
    "        chars = get_chars(df, archivo)\n",
    "        todos.append(chars)\n",
    "    except:\n",
    "        print(archivo)\n",
    "    i += 1\n",
    "\n",
    "caracteristicas = \"zcr peaks peak_wmax peak_wmean peak_promax peak_promean period_max period_mean\". split()\n",
    "cols = [\"segment_id\"] + [f\"sensor_{idx}_{car}\" for car in caracteristicas for idx in range(1,11)]\n",
    "df_todos = pd.DataFrame(todos, columns = cols)\n",
    "# Getting a test DataFrame\n",
    "df_todos.to_csv(\"../csvs/stats_per_file_signal_test.csv\", index = False)"
   ]
  },
  {
   "cell_type": "code",
   "execution_count": 55,
   "metadata": {},
   "outputs": [
    {
     "data": {
      "text/html": [
       "<div>\n",
       "<style scoped>\n",
       "    .dataframe tbody tr th:only-of-type {\n",
       "        vertical-align: middle;\n",
       "    }\n",
       "\n",
       "    .dataframe tbody tr th {\n",
       "        vertical-align: top;\n",
       "    }\n",
       "\n",
       "    .dataframe thead th {\n",
       "        text-align: right;\n",
       "    }\n",
       "</style>\n",
       "<table border=\"1\" class=\"dataframe\">\n",
       "  <thead>\n",
       "    <tr style=\"text-align: right;\">\n",
       "      <th></th>\n",
       "      <th>segment_id</th>\n",
       "      <th>sensor_1_zcr</th>\n",
       "      <th>sensor_2_zcr</th>\n",
       "      <th>sensor_3_zcr</th>\n",
       "      <th>sensor_4_zcr</th>\n",
       "      <th>sensor_5_zcr</th>\n",
       "      <th>sensor_6_zcr</th>\n",
       "      <th>sensor_7_zcr</th>\n",
       "      <th>sensor_8_zcr</th>\n",
       "      <th>sensor_9_zcr</th>\n",
       "      <th>...</th>\n",
       "      <th>sensor_1_period_mean</th>\n",
       "      <th>sensor_2_period_mean</th>\n",
       "      <th>sensor_3_period_mean</th>\n",
       "      <th>sensor_4_period_mean</th>\n",
       "      <th>sensor_5_period_mean</th>\n",
       "      <th>sensor_6_period_mean</th>\n",
       "      <th>sensor_7_period_mean</th>\n",
       "      <th>sensor_8_period_mean</th>\n",
       "      <th>sensor_9_period_mean</th>\n",
       "      <th>sensor_10_period_mean</th>\n",
       "    </tr>\n",
       "  </thead>\n",
       "  <tbody>\n",
       "    <tr>\n",
       "      <th>0</th>\n",
       "      <td>167894616</td>\n",
       "      <td>7174</td>\n",
       "      <td>8877</td>\n",
       "      <td>2908</td>\n",
       "      <td>14111</td>\n",
       "      <td>279</td>\n",
       "      <td>1946</td>\n",
       "      <td>979</td>\n",
       "      <td>2997</td>\n",
       "      <td>15177</td>\n",
       "      <td>...</td>\n",
       "      <td>0.020003</td>\n",
       "      <td>0.020004</td>\n",
       "      <td>0.020013</td>\n",
       "      <td>0.019995</td>\n",
       "      <td>NaN</td>\n",
       "      <td>0.020003</td>\n",
       "      <td>0.019995</td>\n",
       "      <td>0.019996</td>\n",
       "      <td>0.020009</td>\n",
       "      <td>0.020004</td>\n",
       "    </tr>\n",
       "    <tr>\n",
       "      <th>1</th>\n",
       "      <td>557603051</td>\n",
       "      <td>2185</td>\n",
       "      <td>16265</td>\n",
       "      <td>4014</td>\n",
       "      <td>3368</td>\n",
       "      <td>10959</td>\n",
       "      <td>9917</td>\n",
       "      <td>7608</td>\n",
       "      <td>12736</td>\n",
       "      <td>2465</td>\n",
       "      <td>...</td>\n",
       "      <td>0.020000</td>\n",
       "      <td>0.019988</td>\n",
       "      <td>0.019997</td>\n",
       "      <td>0.019989</td>\n",
       "      <td>0.020005</td>\n",
       "      <td>0.019992</td>\n",
       "      <td>0.020001</td>\n",
       "      <td>0.019994</td>\n",
       "      <td>0.019997</td>\n",
       "      <td>0.020000</td>\n",
       "    </tr>\n",
       "    <tr>\n",
       "      <th>2</th>\n",
       "      <td>1264405485</td>\n",
       "      <td>11096</td>\n",
       "      <td>1</td>\n",
       "      <td>2490</td>\n",
       "      <td>4057</td>\n",
       "      <td>5946</td>\n",
       "      <td>2887</td>\n",
       "      <td>5306</td>\n",
       "      <td>11105</td>\n",
       "      <td>4429</td>\n",
       "      <td>...</td>\n",
       "      <td>0.020007</td>\n",
       "      <td>0.000000</td>\n",
       "      <td>0.020001</td>\n",
       "      <td>0.019990</td>\n",
       "      <td>0.020003</td>\n",
       "      <td>0.020013</td>\n",
       "      <td>0.019993</td>\n",
       "      <td>0.019995</td>\n",
       "      <td>0.020010</td>\n",
       "      <td>0.019985</td>\n",
       "    </tr>\n",
       "    <tr>\n",
       "      <th>3</th>\n",
       "      <td>1782053877</td>\n",
       "      <td>3663</td>\n",
       "      <td>21565</td>\n",
       "      <td>3757</td>\n",
       "      <td>2650</td>\n",
       "      <td>14367</td>\n",
       "      <td>7253</td>\n",
       "      <td>2283</td>\n",
       "      <td>12049</td>\n",
       "      <td>3115</td>\n",
       "      <td>...</td>\n",
       "      <td>0.020011</td>\n",
       "      <td>0.020000</td>\n",
       "      <td>0.019994</td>\n",
       "      <td>0.019996</td>\n",
       "      <td>0.019991</td>\n",
       "      <td>0.020012</td>\n",
       "      <td>0.019986</td>\n",
       "      <td>0.020011</td>\n",
       "      <td>0.020008</td>\n",
       "      <td>0.019996</td>\n",
       "    </tr>\n",
       "    <tr>\n",
       "      <th>4</th>\n",
       "      <td>1464708932</td>\n",
       "      <td>3500</td>\n",
       "      <td>1</td>\n",
       "      <td>1</td>\n",
       "      <td>4541</td>\n",
       "      <td>7327</td>\n",
       "      <td>8248</td>\n",
       "      <td>7242</td>\n",
       "      <td>9027</td>\n",
       "      <td>4060</td>\n",
       "      <td>...</td>\n",
       "      <td>0.020011</td>\n",
       "      <td>0.000000</td>\n",
       "      <td>0.000000</td>\n",
       "      <td>0.020006</td>\n",
       "      <td>0.019990</td>\n",
       "      <td>0.019993</td>\n",
       "      <td>0.020002</td>\n",
       "      <td>0.019999</td>\n",
       "      <td>0.019991</td>\n",
       "      <td>0.000000</td>\n",
       "    </tr>\n",
       "    <tr>\n",
       "      <th>...</th>\n",
       "      <td>...</td>\n",
       "      <td>...</td>\n",
       "      <td>...</td>\n",
       "      <td>...</td>\n",
       "      <td>...</td>\n",
       "      <td>...</td>\n",
       "      <td>...</td>\n",
       "      <td>...</td>\n",
       "      <td>...</td>\n",
       "      <td>...</td>\n",
       "      <td>...</td>\n",
       "      <td>...</td>\n",
       "      <td>...</td>\n",
       "      <td>...</td>\n",
       "      <td>...</td>\n",
       "      <td>...</td>\n",
       "      <td>...</td>\n",
       "      <td>...</td>\n",
       "      <td>...</td>\n",
       "      <td>...</td>\n",
       "      <td>...</td>\n",
       "    </tr>\n",
       "    <tr>\n",
       "      <th>4515</th>\n",
       "      <td>1697079567</td>\n",
       "      <td>2685</td>\n",
       "      <td>1</td>\n",
       "      <td>2859</td>\n",
       "      <td>4003</td>\n",
       "      <td>6241</td>\n",
       "      <td>8657</td>\n",
       "      <td>2649</td>\n",
       "      <td>7505</td>\n",
       "      <td>3721</td>\n",
       "      <td>...</td>\n",
       "      <td>0.019998</td>\n",
       "      <td>0.000000</td>\n",
       "      <td>0.020009</td>\n",
       "      <td>0.019998</td>\n",
       "      <td>0.019989</td>\n",
       "      <td>0.020003</td>\n",
       "      <td>0.019997</td>\n",
       "      <td>0.020012</td>\n",
       "      <td>0.019989</td>\n",
       "      <td>0.000000</td>\n",
       "    </tr>\n",
       "    <tr>\n",
       "      <th>4516</th>\n",
       "      <td>2016414965</td>\n",
       "      <td>2035</td>\n",
       "      <td>1</td>\n",
       "      <td>1</td>\n",
       "      <td>3127</td>\n",
       "      <td>4705</td>\n",
       "      <td>7143</td>\n",
       "      <td>1850</td>\n",
       "      <td>7912</td>\n",
       "      <td>2517</td>\n",
       "      <td>...</td>\n",
       "      <td>0.020001</td>\n",
       "      <td>0.000000</td>\n",
       "      <td>0.000000</td>\n",
       "      <td>0.020009</td>\n",
       "      <td>0.019987</td>\n",
       "      <td>0.019987</td>\n",
       "      <td>0.020007</td>\n",
       "      <td>0.020013</td>\n",
       "      <td>0.019996</td>\n",
       "      <td>0.000000</td>\n",
       "    </tr>\n",
       "    <tr>\n",
       "      <th>4517</th>\n",
       "      <td>135642091</td>\n",
       "      <td>3021</td>\n",
       "      <td>5648</td>\n",
       "      <td>3044</td>\n",
       "      <td>3547</td>\n",
       "      <td>1</td>\n",
       "      <td>42475</td>\n",
       "      <td>5425</td>\n",
       "      <td>7635</td>\n",
       "      <td>3362</td>\n",
       "      <td>...</td>\n",
       "      <td>0.020003</td>\n",
       "      <td>0.020006</td>\n",
       "      <td>0.020004</td>\n",
       "      <td>0.020014</td>\n",
       "      <td>0.000000</td>\n",
       "      <td>0.019996</td>\n",
       "      <td>0.019989</td>\n",
       "      <td>0.019990</td>\n",
       "      <td>NaN</td>\n",
       "      <td>0.020014</td>\n",
       "    </tr>\n",
       "    <tr>\n",
       "      <th>4518</th>\n",
       "      <td>1022920538</td>\n",
       "      <td>4156</td>\n",
       "      <td>7823</td>\n",
       "      <td>10260</td>\n",
       "      <td>3681</td>\n",
       "      <td>9367</td>\n",
       "      <td>9596</td>\n",
       "      <td>7082</td>\n",
       "      <td>7204</td>\n",
       "      <td>3748</td>\n",
       "      <td>...</td>\n",
       "      <td>0.019995</td>\n",
       "      <td>0.020015</td>\n",
       "      <td>0.019991</td>\n",
       "      <td>0.020008</td>\n",
       "      <td>0.020007</td>\n",
       "      <td>0.020005</td>\n",
       "      <td>0.020010</td>\n",
       "      <td>0.019984</td>\n",
       "      <td>NaN</td>\n",
       "      <td>0.020012</td>\n",
       "    </tr>\n",
       "    <tr>\n",
       "      <th>4519</th>\n",
       "      <td>1807322886</td>\n",
       "      <td>1</td>\n",
       "      <td>9465</td>\n",
       "      <td>5551</td>\n",
       "      <td>11306</td>\n",
       "      <td>1</td>\n",
       "      <td>18055</td>\n",
       "      <td>7869</td>\n",
       "      <td>10625</td>\n",
       "      <td>1</td>\n",
       "      <td>...</td>\n",
       "      <td>0.000000</td>\n",
       "      <td>0.020009</td>\n",
       "      <td>0.020011</td>\n",
       "      <td>0.020013</td>\n",
       "      <td>0.000000</td>\n",
       "      <td>0.020006</td>\n",
       "      <td>0.019982</td>\n",
       "      <td>0.019995</td>\n",
       "      <td>0.000000</td>\n",
       "      <td>0.000000</td>\n",
       "    </tr>\n",
       "  </tbody>\n",
       "</table>\n",
       "<p>4520 rows × 81 columns</p>\n",
       "</div>"
      ],
      "text/plain": [
       "      segment_id  sensor_1_zcr  sensor_2_zcr  sensor_3_zcr  sensor_4_zcr  \\\n",
       "0      167894616          7174          8877          2908         14111   \n",
       "1      557603051          2185         16265          4014          3368   \n",
       "2     1264405485         11096             1          2490          4057   \n",
       "3     1782053877          3663         21565          3757          2650   \n",
       "4     1464708932          3500             1             1          4541   \n",
       "...          ...           ...           ...           ...           ...   \n",
       "4515  1697079567          2685             1          2859          4003   \n",
       "4516  2016414965          2035             1             1          3127   \n",
       "4517   135642091          3021          5648          3044          3547   \n",
       "4518  1022920538          4156          7823         10260          3681   \n",
       "4519  1807322886             1          9465          5551         11306   \n",
       "\n",
       "      sensor_5_zcr  sensor_6_zcr  sensor_7_zcr  sensor_8_zcr  sensor_9_zcr  \\\n",
       "0              279          1946           979          2997         15177   \n",
       "1            10959          9917          7608         12736          2465   \n",
       "2             5946          2887          5306         11105          4429   \n",
       "3            14367          7253          2283         12049          3115   \n",
       "4             7327          8248          7242          9027          4060   \n",
       "...            ...           ...           ...           ...           ...   \n",
       "4515          6241          8657          2649          7505          3721   \n",
       "4516          4705          7143          1850          7912          2517   \n",
       "4517             1         42475          5425          7635          3362   \n",
       "4518          9367          9596          7082          7204          3748   \n",
       "4519             1         18055          7869         10625             1   \n",
       "\n",
       "      ...  sensor_1_period_mean  sensor_2_period_mean  sensor_3_period_mean  \\\n",
       "0     ...              0.020003              0.020004              0.020013   \n",
       "1     ...              0.020000              0.019988              0.019997   \n",
       "2     ...              0.020007              0.000000              0.020001   \n",
       "3     ...              0.020011              0.020000              0.019994   \n",
       "4     ...              0.020011              0.000000              0.000000   \n",
       "...   ...                   ...                   ...                   ...   \n",
       "4515  ...              0.019998              0.000000              0.020009   \n",
       "4516  ...              0.020001              0.000000              0.000000   \n",
       "4517  ...              0.020003              0.020006              0.020004   \n",
       "4518  ...              0.019995              0.020015              0.019991   \n",
       "4519  ...              0.000000              0.020009              0.020011   \n",
       "\n",
       "      sensor_4_period_mean  sensor_5_period_mean  sensor_6_period_mean  \\\n",
       "0                 0.019995                   NaN              0.020003   \n",
       "1                 0.019989              0.020005              0.019992   \n",
       "2                 0.019990              0.020003              0.020013   \n",
       "3                 0.019996              0.019991              0.020012   \n",
       "4                 0.020006              0.019990              0.019993   \n",
       "...                    ...                   ...                   ...   \n",
       "4515              0.019998              0.019989              0.020003   \n",
       "4516              0.020009              0.019987              0.019987   \n",
       "4517              0.020014              0.000000              0.019996   \n",
       "4518              0.020008              0.020007              0.020005   \n",
       "4519              0.020013              0.000000              0.020006   \n",
       "\n",
       "      sensor_7_period_mean  sensor_8_period_mean  sensor_9_period_mean  \\\n",
       "0                 0.019995              0.019996              0.020009   \n",
       "1                 0.020001              0.019994              0.019997   \n",
       "2                 0.019993              0.019995              0.020010   \n",
       "3                 0.019986              0.020011              0.020008   \n",
       "4                 0.020002              0.019999              0.019991   \n",
       "...                    ...                   ...                   ...   \n",
       "4515              0.019997              0.020012              0.019989   \n",
       "4516              0.020007              0.020013              0.019996   \n",
       "4517              0.019989              0.019990                   NaN   \n",
       "4518              0.020010              0.019984                   NaN   \n",
       "4519              0.019982              0.019995              0.000000   \n",
       "\n",
       "      sensor_10_period_mean  \n",
       "0                  0.020004  \n",
       "1                  0.020000  \n",
       "2                  0.019985  \n",
       "3                  0.019996  \n",
       "4                  0.000000  \n",
       "...                     ...  \n",
       "4515               0.000000  \n",
       "4516               0.000000  \n",
       "4517               0.020014  \n",
       "4518               0.020012  \n",
       "4519               0.000000  \n",
       "\n",
       "[4520 rows x 81 columns]"
      ]
     },
     "execution_count": 55,
     "metadata": {},
     "output_type": "execute_result"
    }
   ],
   "source": [
    "signal_features = pd.read_csv(\"../csvs/stats_per_file_signal_test.csv\")\n",
    "signal_features"
   ]
  },
  {
   "cell_type": "code",
   "execution_count": 90,
   "metadata": {},
   "outputs": [],
   "source": [
    "# train test split\n",
    "path_train2 = \"../csvs/stats_per_file_signal_train_estandarizados.csv\""
   ]
  },
  {
   "cell_type": "markdown",
   "metadata": {},
   "source": [
    "## Implementando LGBM"
   ]
  },
  {
   "cell_type": "code",
   "execution_count": 36,
   "metadata": {},
   "outputs": [],
   "source": [
    "def random_search_CV(X, y, its = 50, iters = 10000):\n",
    "    \"\"\"\n",
    "    Function to randomly search good hyperparameters in a LGbM model with CV and Early Stopping Rounds.\n",
    "    \n",
    "    Parameters\n",
    "        X: np.array\n",
    "        Array with all the train data\n",
    "        \n",
    "        y: np.array\n",
    "        Array with the train data labels.\n",
    "        \n",
    "        its: int\n",
    "        Number of models created.\n",
    "        \n",
    "        iters: int\n",
    "        Number of model iterations.\n",
    "        \n",
    "    Returns\n",
    "        means: list\n",
    "        List of the means of MAE obtained with CV.\n",
    "        \n",
    "        pars: list\n",
    "        Hyperparameters obtained by random search.\n",
    "        \n",
    "        best_is: list\n",
    "        Best iterations obtained wit early stopping rounds.\n",
    "        \n",
    "        minimum: float\n",
    "        The best of the means list.\n",
    "        \n",
    "        pp: dict\n",
    "        Dictionary with the best model hyperparameters.\n",
    "        \n",
    "        bi: int\n",
    "        Iterations obtained for the best model.\n",
    "    \"\"\"\n",
    "    # Set the minimum very large\n",
    "    minimum = float(\"inf\") \n",
    "    pp = {}\n",
    "    count = 0 # Used for keeping track of the iteration number\n",
    "    means = []\n",
    "    best_is = []\n",
    "    pars = []\n",
    "    while count < its:\n",
    "        print('iteration number', count)\n",
    "        params = {} #Initialize parameters\n",
    "        try:\n",
    "            params['boosting_type'] = 'gbdt'\n",
    "            params['learning_rate'] = np.random.uniform(0, 0.2) # Set this by see better results in plots.\n",
    "            params['objective'] = 'regression'\n",
    "            params['metric'] = 'mae'\n",
    "            params['sub_feature'] = np.random.uniform(0, 1)\n",
    "            params['num_leaves'] = np.random.randint(20, 300)\n",
    "            params['min_data'] = np.random.randint(1, 100)\n",
    "            params['max_depth'] = np.random.randint(5, 200) # 200\n",
    "            params['verbose'] = -1\n",
    "            print(params) # Train using selected parameters\n",
    "            dataset = lgb.Dataset(X, label = y)\n",
    "            cross_v = lgb.cv(params, dataset, num_boost_round = iters, nfold = 10, \n",
    "                             stratified = False, metrics = \"mae\", early_stopping_rounds = 20, shuffle = True)\n",
    "            best_i = len(cross_v['l1-mean'])\n",
    "            mean = cross_v['l1-mean'][-1]\n",
    "            print('MAE promedio:', mean)\n",
    "            print('Best_iteration:', best_i)\n",
    "            print(\"----\"*5)\n",
    "            means.append(mean)\n",
    "            pars.append(params)\n",
    "            best_is.append(best_i)\n",
    "            if mean < minimum:\n",
    "                minimum = mean\n",
    "                pp = params\n",
    "                bi = best_i\n",
    "            count += 1 # Increment count\n",
    "        except Exception as e: # In case something goes wrong\n",
    "            print('failed with---------------------\\n', e)\n",
    "            print(params)\n",
    "    return means, pars, best_is, minimum, pp, bi"
   ]
  },
  {
   "cell_type": "markdown",
   "metadata": {},
   "source": [
    "### Mejores hiperparámetros encontrados: \n",
    "\n",
    "MAE: 2547251.821188033\n",
    "\n",
    "- 'learning_rate': 0.14124527912898743\n",
    "- 'boosting_type': 'dart'\n",
    "- 'objective': 'regression'\n",
    "- 'metric': 'mae'\n",
    "- 'sub_feature': 0.5486980094996131\n",
    "- 'num_leaves': 43\n",
    "- 'min_data': 23\n",
    "- 'max_depth': 68"
   ]
  },
  {
   "cell_type": "markdown",
   "metadata": {},
   "source": [
    "#### Datos sin normalizar, con CV y ESB, sin nulos. \n",
    "Mejor promedio de MAE: 2182416.7432253817\n",
    "\n",
    "\n",
    "- 'boosting_type': 'gbdt'\n",
    "- 'learning_rate': 0.004798643531996683\n",
    "- 'objective': 'regression'\n",
    "- 'metric': 'mae'\n",
    "- 'sub_feature': 0.7299613135177175\n",
    "- 'num_leaves': 186\n",
    "- 'min_data': 8\n",
    "- 'max_depth': 112\n",
    "- 'verbose': -1}\n",
    "- **Iteraciones: 4193**\n",
    "\n",
    "#### Datos estandarizados, con CV, ESB y sin nulos. \n",
    "\n",
    "Mejor promedio de MAE: 2545143.1429405557\n",
    "\n",
    "\n",
    "- 'boosting_type': 'gbdt'\n",
    "- 'learning_rate': 0.022353320991779137\n",
    "- 'objective': 'regression'\n",
    "- 'metric': 'mae'\n",
    "- 'sub_feature': 0.46771515034992184\n",
    "- 'num_leaves': 149\n",
    "- 'min_data': 6\n",
    "- 'max_depth': 13\n",
    "- 'verbose': -1\n",
    "- **Iteraciones: 2181**\n",
    "\n",
    "#### Lo mismo que la anterior pero con los datos normalizados2.\n",
    "\n",
    "Mejor promedio de MAE: 2555633.4056502064\n",
    "\n",
    "\n",
    "- 'boosting_type': 'gbdt'\n",
    "- 'learning_rate': 0.0028739960379611687\n",
    "- 'objective': 'regression'\n",
    "- 'metric': 'mae'\n",
    "- 'sub_feature': 0.46403330479004534\n",
    "- 'num_leaves': 272\n",
    "- 'min_data': 13\n",
    "- 'max_depth': 125\n",
    "- 'verbose': -1\n",
    "- **Iteraciones: 4643**"
   ]
  },
  {
   "cell_type": "code",
   "execution_count": 39,
   "metadata": {},
   "outputs": [],
   "source": [
    "def train_and_get_predictions(lr, sf, nl, mind, maxd, iters, target_path, path_train, path_test, name):\n",
    "    \"\"\"\n",
    "    Function to training the LGBM model with the parameters we want.\n",
    "    \n",
    "    Parameters\n",
    "        lr: float\n",
    "        Learning rate of the model.\n",
    "        \n",
    "        sf: float\n",
    "        Sub features ofthe model.\n",
    "        \n",
    "        nl: int\n",
    "        Number of leaves.\n",
    "        \n",
    "        mind: int\n",
    "        Min data.\n",
    "        \n",
    "        maxd: int\n",
    "        Max deepth.\n",
    "        \n",
    "        iters: int\n",
    "        Iterations of the model.\n",
    "        \n",
    "        target_path: string\n",
    "        Path of the time_to_eruption data.\n",
    "        \n",
    "        path_train: string\n",
    "        Path of the train data.\n",
    "        \n",
    "        path_test: string\n",
    "        Path of the text data.\n",
    "        \n",
    "        name: string\n",
    "        Name to save .csv file with predictions to submit.\n",
    "    \"\"\"\n",
    "    # Training\n",
    "    data = pd.read_csv(path_train)\n",
    "    train = pd.read_csv(target_path)\n",
    "    data_time = data.join(train.set_index(\"segment_id\"), on = \"segment_id\")\n",
    "\n",
    "    X = data_time.iloc[:,1:-1].values\n",
    "    y = data_time.iloc[:,-1].values\n",
    "\n",
    "    params = {}\n",
    "    d_train = lgb.Dataset(X, label = y)\n",
    "    params['learning_rate'] = lr\n",
    "    params['boosting_type'] = 'gbdt'\n",
    "    params['objective'] = 'regression'\n",
    "    params['metric'] = 'mae'\n",
    "    params['sub_feature'] =  sf\n",
    "    params['num_leaves'] = nl\n",
    "    params['min_data'] = mind\n",
    "    params['max_depth'] = maxd\n",
    "    params['verbose'] = -1\n",
    "    iterations = iters\n",
    "    clf = lgb.train(params, d_train, iterations)\n",
    "    \n",
    "    # Test\n",
    "    X_test = pd.read_csv(path_test).values[:, 1:]\n",
    "    y_pred = clf.predict(X_test) #Create predictions on test set\n",
    "\n",
    "    ss = pd.read_csv(path_test).iloc[:, :2]\n",
    "    ss.iloc[:, 1] = y_pred\n",
    "    ss.rename(columns = {\"sensor_1_zcr\":\"time_to_eruption\"}, inplace = True)\n",
    "    ss.to_csv(f\"../csvs/{name}.csv\", index = False)"
   ]
  },
  {
   "cell_type": "code",
   "execution_count": null,
   "metadata": {},
   "outputs": [],
   "source": [
    "target_path = train_path"
   ]
  },
  {
   "cell_type": "code",
   "execution_count": 13,
   "metadata": {},
   "outputs": [
    {
     "data": {
      "text/plain": [
       "0"
      ]
     },
     "execution_count": 13,
     "metadata": {},
     "output_type": "execute_result"
    }
   ],
   "source": [
    "# Getting a prediction for the files without any change.\n",
    "path_train1 = \"../csvs/stats_per_file_signal_train_normal.csv\"\n",
    "path_test1 = \"../csvs/stats_per_file_signal_test_normal.csv\"\n",
    "lr1 = 0.004798643531996683\n",
    "sf1 = 0.7299613135177175\n",
    "nl1 = 186\n",
    "mind1 = 8\n",
    "maxd1 = 112\n",
    "iters1 = 4193\n",
    "name1 = \"submission_normal\"\n",
    "train_and_get_predictions(lr1, sf1, nl1, mind1, maxd1, iters1, target_path, path_train1, path_test1, name1)"
   ]
  },
  {
   "cell_type": "code",
   "execution_count": 41,
   "metadata": {},
   "outputs": [],
   "source": [
    "# Getting a prediction for the files with standardization\n",
    "path_train2 = \"../csvs/stats_per_file_signal_train_estandarizados.csv\"\n",
    "path_test2 = \"../csvs/stats_per_file_signal_test_estandarizados.csv\"\n",
    "lr2 = 0.022353320991779137\n",
    "sf2 = 0.46771515034992184\n",
    "nl2 = 149\n",
    "mind2 = 6\n",
    "maxd2 = 13\n",
    "iters2 = 2181\n",
    "name2 = \"submission_estandarizados\"\n",
    "train_and_get_predictions(lr2, sf2, nl2, mind2, maxd2, iters2, target_path, path_train2, path_test2, name2)"
   ]
  },
  {
   "cell_type": "code",
   "execution_count": 15,
   "metadata": {},
   "outputs": [
    {
     "data": {
      "text/plain": [
       "0"
      ]
     },
     "execution_count": 15,
     "metadata": {},
     "output_type": "execute_result"
    }
   ],
   "source": [
    "# Getting a prediction for the files with standardization and imputting.\n",
    "path_train3 = \"../csvs/stats_per_file_signal_train_estandarizados2.csv\"\n",
    "path_test3 = \"../csvs/stats_per_file_signal_test_estandarizados2.csv\"\n",
    "lr3 = 0.0028739960379611687\n",
    "sf3 = 0.46403330479004534\n",
    "nl3 = 272\n",
    "mind3 = 13\n",
    "maxd3 = 125\n",
    "iters3 = 4643\n",
    "name3 = \"submission_estandarizados2\"\n",
    "train_and_get_predictions(lr3, sf3, nl3, mind3, maxd3, iters3, target_path, path_train3, path_test3, name3)"
   ]
  },
  {
   "cell_type": "markdown",
   "metadata": {},
   "source": [
    "# ??\n"
   ]
  },
  {
   "cell_type": "code",
   "execution_count": 52,
   "metadata": {},
   "outputs": [
    {
     "data": {
      "text/plain": [
       "array([13060238.81985402, 33135714.26649744, 11377916.46379795, ...,\n",
       "        4444386.05955737,  9120044.76774091,   905222.17489267])"
      ]
     },
     "execution_count": 52,
     "metadata": {},
     "output_type": "execute_result"
    }
   ],
   "source": [
    "model = lgb.Booster(model_file=\"../model.txt\") # Load trained model\n",
    "\n",
    "training_df = pd.read_csv(path_train2)\n",
    "X_train = training_df.drop(columns=\"segment_id\")\n",
    "y_train_pred = model.predict(X_train)\n",
    "\n",
    "y_train_pred"
   ]
  },
  {
   "cell_type": "code",
   "execution_count": 59,
   "metadata": {},
   "outputs": [
    {
     "data": {
      "text/html": [
       "<div>\n",
       "<style scoped>\n",
       "    .dataframe tbody tr th:only-of-type {\n",
       "        vertical-align: middle;\n",
       "    }\n",
       "\n",
       "    .dataframe tbody tr th {\n",
       "        vertical-align: top;\n",
       "    }\n",
       "\n",
       "    .dataframe thead th {\n",
       "        text-align: right;\n",
       "    }\n",
       "</style>\n",
       "<table border=\"1\" class=\"dataframe\">\n",
       "  <thead>\n",
       "    <tr style=\"text-align: right;\">\n",
       "      <th></th>\n",
       "      <th>time_to_eruption_pred</th>\n",
       "    </tr>\n",
       "    <tr>\n",
       "      <th>segment_id</th>\n",
       "      <th></th>\n",
       "    </tr>\n",
       "  </thead>\n",
       "  <tbody>\n",
       "    <tr>\n",
       "      <th>405613802</th>\n",
       "      <td>1.306024e+07</td>\n",
       "    </tr>\n",
       "    <tr>\n",
       "      <th>1343997378</th>\n",
       "      <td>3.313571e+07</td>\n",
       "    </tr>\n",
       "    <tr>\n",
       "      <th>866792357</th>\n",
       "      <td>1.137792e+07</td>\n",
       "    </tr>\n",
       "    <tr>\n",
       "      <th>1979931149</th>\n",
       "      <td>1.856811e+07</td>\n",
       "    </tr>\n",
       "    <tr>\n",
       "      <th>1577280457</th>\n",
       "      <td>1.162838e+06</td>\n",
       "    </tr>\n",
       "    <tr>\n",
       "      <th>...</th>\n",
       "      <td>...</td>\n",
       "    </tr>\n",
       "    <tr>\n",
       "      <th>179291279</th>\n",
       "      <td>1.252881e+07</td>\n",
       "    </tr>\n",
       "    <tr>\n",
       "      <th>712763144</th>\n",
       "      <td>2.022740e+07</td>\n",
       "    </tr>\n",
       "    <tr>\n",
       "      <th>974606400</th>\n",
       "      <td>4.444386e+06</td>\n",
       "    </tr>\n",
       "    <tr>\n",
       "      <th>986204419</th>\n",
       "      <td>9.120045e+06</td>\n",
       "    </tr>\n",
       "    <tr>\n",
       "      <th>1648977848</th>\n",
       "      <td>9.052222e+05</td>\n",
       "    </tr>\n",
       "  </tbody>\n",
       "</table>\n",
       "<p>4431 rows × 1 columns</p>\n",
       "</div>"
      ],
      "text/plain": [
       "            time_to_eruption_pred\n",
       "segment_id                       \n",
       "405613802            1.306024e+07\n",
       "1343997378           3.313571e+07\n",
       "866792357            1.137792e+07\n",
       "1979931149           1.856811e+07\n",
       "1577280457           1.162838e+06\n",
       "...                           ...\n",
       "179291279            1.252881e+07\n",
       "712763144            2.022740e+07\n",
       "974606400            4.444386e+06\n",
       "986204419            9.120045e+06\n",
       "1648977848           9.052222e+05\n",
       "\n",
       "[4431 rows x 1 columns]"
      ]
     },
     "execution_count": 59,
     "metadata": {},
     "output_type": "execute_result"
    }
   ],
   "source": [
    "train_pred_df = pd.DataFrame(y_train_pred, index=training_df.segment_id)\n",
    "train_pred_df.columns = [\"time_to_eruption_pred\"]"
   ]
  },
  {
   "cell_type": "code",
   "execution_count": 70,
   "metadata": {},
   "outputs": [
    {
     "data": {
      "text/html": [
       "<div>\n",
       "<style scoped>\n",
       "    .dataframe tbody tr th:only-of-type {\n",
       "        vertical-align: middle;\n",
       "    }\n",
       "\n",
       "    .dataframe tbody tr th {\n",
       "        vertical-align: top;\n",
       "    }\n",
       "\n",
       "    .dataframe thead th {\n",
       "        text-align: right;\n",
       "    }\n",
       "</style>\n",
       "<table border=\"1\" class=\"dataframe\">\n",
       "  <thead>\n",
       "    <tr style=\"text-align: right;\">\n",
       "      <th></th>\n",
       "      <th>time_to_eruption_pred</th>\n",
       "      <th>time_to_eruption</th>\n",
       "      <th>absolute_error</th>\n",
       "      <th>squared_error</th>\n",
       "    </tr>\n",
       "    <tr>\n",
       "      <th>segment_id</th>\n",
       "      <th></th>\n",
       "      <th></th>\n",
       "      <th></th>\n",
       "      <th></th>\n",
       "    </tr>\n",
       "  </thead>\n",
       "  <tbody>\n",
       "    <tr>\n",
       "      <th>405613802</th>\n",
       "      <td>1.306024e+07</td>\n",
       "      <td>13060214</td>\n",
       "      <td>24.819854</td>\n",
       "      <td>616.025154</td>\n",
       "    </tr>\n",
       "    <tr>\n",
       "      <th>1343997378</th>\n",
       "      <td>3.313571e+07</td>\n",
       "      <td>33135705</td>\n",
       "      <td>9.266497</td>\n",
       "      <td>85.867975</td>\n",
       "    </tr>\n",
       "    <tr>\n",
       "      <th>866792357</th>\n",
       "      <td>1.137792e+07</td>\n",
       "      <td>11377813</td>\n",
       "      <td>103.463798</td>\n",
       "      <td>10704.757486</td>\n",
       "    </tr>\n",
       "    <tr>\n",
       "      <th>1979931149</th>\n",
       "      <td>1.856811e+07</td>\n",
       "      <td>18567908</td>\n",
       "      <td>204.808670</td>\n",
       "      <td>41946.591484</td>\n",
       "    </tr>\n",
       "    <tr>\n",
       "      <th>1577280457</th>\n",
       "      <td>1.162838e+06</td>\n",
       "      <td>1162779</td>\n",
       "      <td>59.295246</td>\n",
       "      <td>3515.926181</td>\n",
       "    </tr>\n",
       "    <tr>\n",
       "      <th>...</th>\n",
       "      <td>...</td>\n",
       "      <td>...</td>\n",
       "      <td>...</td>\n",
       "      <td>...</td>\n",
       "    </tr>\n",
       "    <tr>\n",
       "      <th>179291279</th>\n",
       "      <td>1.252881e+07</td>\n",
       "      <td>12528887</td>\n",
       "      <td>75.757261</td>\n",
       "      <td>5739.162573</td>\n",
       "    </tr>\n",
       "    <tr>\n",
       "      <th>712763144</th>\n",
       "      <td>2.022740e+07</td>\n",
       "      <td>20227525</td>\n",
       "      <td>122.186129</td>\n",
       "      <td>14929.450080</td>\n",
       "    </tr>\n",
       "    <tr>\n",
       "      <th>974606400</th>\n",
       "      <td>4.444386e+06</td>\n",
       "      <td>4444406</td>\n",
       "      <td>19.940443</td>\n",
       "      <td>397.621252</td>\n",
       "    </tr>\n",
       "    <tr>\n",
       "      <th>986204419</th>\n",
       "      <td>9.120045e+06</td>\n",
       "      <td>9119922</td>\n",
       "      <td>122.767741</td>\n",
       "      <td>15071.918207</td>\n",
       "    </tr>\n",
       "    <tr>\n",
       "      <th>1648977848</th>\n",
       "      <td>9.052222e+05</td>\n",
       "      <td>905192</td>\n",
       "      <td>30.174893</td>\n",
       "      <td>910.524148</td>\n",
       "    </tr>\n",
       "  </tbody>\n",
       "</table>\n",
       "<p>4431 rows × 4 columns</p>\n",
       "</div>"
      ],
      "text/plain": [
       "            time_to_eruption_pred  time_to_eruption  absolute_error  \\\n",
       "segment_id                                                            \n",
       "405613802            1.306024e+07          13060214       24.819854   \n",
       "1343997378           3.313571e+07          33135705        9.266497   \n",
       "866792357            1.137792e+07          11377813      103.463798   \n",
       "1979931149           1.856811e+07          18567908      204.808670   \n",
       "1577280457           1.162838e+06           1162779       59.295246   \n",
       "...                           ...               ...             ...   \n",
       "179291279            1.252881e+07          12528887       75.757261   \n",
       "712763144            2.022740e+07          20227525      122.186129   \n",
       "974606400            4.444386e+06           4444406       19.940443   \n",
       "986204419            9.120045e+06           9119922      122.767741   \n",
       "1648977848           9.052222e+05            905192       30.174893   \n",
       "\n",
       "            squared_error  \n",
       "segment_id                 \n",
       "405613802      616.025154  \n",
       "1343997378      85.867975  \n",
       "866792357    10704.757486  \n",
       "1979931149   41946.591484  \n",
       "1577280457    3515.926181  \n",
       "...                   ...  \n",
       "179291279     5739.162573  \n",
       "712763144    14929.450080  \n",
       "974606400      397.621252  \n",
       "986204419    15071.918207  \n",
       "1648977848     910.524148  \n",
       "\n",
       "[4431 rows x 4 columns]"
      ]
     },
     "execution_count": 70,
     "metadata": {},
     "output_type": "execute_result"
    }
   ],
   "source": [
    "error_df = train_pred_df.join(target_csv.set_index(\"segment_id\"))\n",
    "error_df[\"absolute_error\"] = (error_df.time_to_eruption_pred - error_df.time_to_eruption).abs()\n",
    "error_df[\"squared_error\"] = (error_df.time_to_eruption_pred - error_df.time_to_eruption)**2\n",
    "error_df"
   ]
  },
  {
   "cell_type": "code",
   "execution_count": 89,
   "metadata": {},
   "outputs": [
    {
     "data": {
      "text/html": [
       "<div>\n",
       "<style scoped>\n",
       "    .dataframe tbody tr th:only-of-type {\n",
       "        vertical-align: middle;\n",
       "    }\n",
       "\n",
       "    .dataframe tbody tr th {\n",
       "        vertical-align: top;\n",
       "    }\n",
       "\n",
       "    .dataframe thead th {\n",
       "        text-align: right;\n",
       "    }\n",
       "</style>\n",
       "<table border=\"1\" class=\"dataframe\">\n",
       "  <thead>\n",
       "    <tr style=\"text-align: right;\">\n",
       "      <th></th>\n",
       "      <th>time_to_eruption_pred</th>\n",
       "      <th>time_to_eruption</th>\n",
       "      <th>absolute_error</th>\n",
       "      <th>squared_error</th>\n",
       "    </tr>\n",
       "  </thead>\n",
       "  <tbody>\n",
       "    <tr>\n",
       "      <th>count</th>\n",
       "      <td>4.431000e+03</td>\n",
       "      <td>4.431000e+03</td>\n",
       "      <td>4431.000000</td>\n",
       "      <td>4.431000e+03</td>\n",
       "    </tr>\n",
       "    <tr>\n",
       "      <th>mean</th>\n",
       "      <td>2.284891e+07</td>\n",
       "      <td>2.284891e+07</td>\n",
       "      <td>76.407073</td>\n",
       "      <td>1.463057e+04</td>\n",
       "    </tr>\n",
       "    <tr>\n",
       "      <th>std</th>\n",
       "      <td>1.348437e+07</td>\n",
       "      <td>1.348439e+07</td>\n",
       "      <td>93.779064</td>\n",
       "      <td>1.126531e+05</td>\n",
       "    </tr>\n",
       "    <tr>\n",
       "      <th>min</th>\n",
       "      <td>6.289639e+03</td>\n",
       "      <td>6.250000e+03</td>\n",
       "      <td>0.032969</td>\n",
       "      <td>1.086925e-03</td>\n",
       "    </tr>\n",
       "    <tr>\n",
       "      <th>25%</th>\n",
       "      <td>1.127015e+07</td>\n",
       "      <td>1.127016e+07</td>\n",
       "      <td>24.796919</td>\n",
       "      <td>6.148877e+02</td>\n",
       "    </tr>\n",
       "    <tr>\n",
       "      <th>50%</th>\n",
       "      <td>2.246545e+07</td>\n",
       "      <td>2.246559e+07</td>\n",
       "      <td>54.169662</td>\n",
       "      <td>2.934352e+03</td>\n",
       "    </tr>\n",
       "    <tr>\n",
       "      <th>75%</th>\n",
       "      <td>3.434362e+07</td>\n",
       "      <td>3.434356e+07</td>\n",
       "      <td>98.368838</td>\n",
       "      <td>9.676428e+03</td>\n",
       "    </tr>\n",
       "    <tr>\n",
       "      <th>max</th>\n",
       "      <td>4.904604e+07</td>\n",
       "      <td>4.904609e+07</td>\n",
       "      <td>2358.231943</td>\n",
       "      <td>5.561258e+06</td>\n",
       "    </tr>\n",
       "  </tbody>\n",
       "</table>\n",
       "</div>"
      ],
      "text/plain": [
       "       time_to_eruption_pred  time_to_eruption  absolute_error  squared_error\n",
       "count           4.431000e+03      4.431000e+03     4431.000000   4.431000e+03\n",
       "mean            2.284891e+07      2.284891e+07       76.407073   1.463057e+04\n",
       "std             1.348437e+07      1.348439e+07       93.779064   1.126531e+05\n",
       "min             6.289639e+03      6.250000e+03        0.032969   1.086925e-03\n",
       "25%             1.127015e+07      1.127016e+07       24.796919   6.148877e+02\n",
       "50%             2.246545e+07      2.246559e+07       54.169662   2.934352e+03\n",
       "75%             3.434362e+07      3.434356e+07       98.368838   9.676428e+03\n",
       "max             4.904604e+07      4.904609e+07     2358.231943   5.561258e+06"
      ]
     },
     "execution_count": 89,
     "metadata": {},
     "output_type": "execute_result"
    }
   ],
   "source": [
    "error_df.describe()"
   ]
  },
  {
   "cell_type": "code",
   "execution_count": 71,
   "metadata": {},
   "outputs": [
    {
     "data": {
      "text/plain": [
       "<AxesSubplot:xlabel='absolute_error'>"
      ]
     },
     "execution_count": 71,
     "metadata": {},
     "output_type": "execute_result"
    },
    {
     "data": {
      "image/png": "[encoded data removed]",
      "text/plain": [
       "<Figure size 1152x648 with 1 Axes>"
      ]
     },
     "metadata": {
      "needs_background": "light"
     },
     "output_type": "display_data"
    }
   ],
   "source": [
    "plt.figure(figsize=(16,9))\n",
    "sns.violinplot(x=\"absolute_error\", data=error_df)"
   ]
  },
  {
   "cell_type": "code",
   "execution_count": 72,
   "metadata": {},
   "outputs": [
    {
     "data": {
      "text/plain": [
       "<AxesSubplot:xlabel='squared_error'>"
      ]
     },
     "execution_count": 72,
     "metadata": {},
     "output_type": "execute_result"
    },
    {
     "data": {
      "image/png": "[encoded data removed]",
      "text/plain": [
       "<Figure size 1152x648 with 1 Axes>"
      ]
     },
     "metadata": {
      "needs_background": "light"
     },
     "output_type": "display_data"
    }
   ],
   "source": [
    "plt.figure(figsize=(16,9))\n",
    "sns.violinplot(x=\"squared_error\", data=error_df)"
   ]
  },
  {
   "cell_type": "code",
   "execution_count": 87,
   "metadata": {},
   "outputs": [
    {
     "data": {
      "text/plain": [
       "<AxesSubplot:xlabel='time_to_eruption_pred', ylabel='Count'>"
      ]
     },
     "execution_count": 87,
     "metadata": {},
     "output_type": "execute_result"
    },
    {
     "data": {
      "image/png": "[encoded data removed]",
      "text/plain": [
       "<Figure size 1152x648 with 2 Axes>"
      ]
     },
     "metadata": {
      "needs_background": "light"
     },
     "output_type": "display_data"
    }
   ],
   "source": [
    "fig, ax = plt.subplots(ncols=2,figsize=(16,9))\n",
    "sns.histplot(x=\"time_to_eruption\", data=error_df, ax=ax[0], color=\"green\", alpha=0.3)\n",
    "sns.histplot(x=\"time_to_eruption_pred\", data=error_df, ax=ax[1], color=\"blue\", alpha=0.3)"
   ]
  },
  {
   "cell_type": "code",
   "execution_count": null,
   "metadata": {},
   "outputs": [],
   "source": []
  }
 ],
 "metadata": {
  "@webio": {
   "lastCommId": null,
   "lastKernelId": null
  },
  "kernelspec": {
   "display_name": "Python 3",
   "language": "python",
   "name": "python3"
  },
  "language_info": {
   "codemirror_mode": {
    "name": "ipython",
    "version": 3
   },
   "file_extension": ".py",
   "mimetype": "text/x-python",
   "name": "python",
   "nbconvert_exporter": "python",
   "pygments_lexer": "ipython3",
   "version": "3.8.5"
  }
 },
 "nbformat": 4,
 "nbformat_minor": 4
}
