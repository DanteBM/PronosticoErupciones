{
 "cells": [
  {
   "cell_type": "markdown",
   "metadata": {},
   "source": [
    "# Implementando LGBM como regresor\n",
    "- Alvarado Morán Óscar\n",
    "- Bermúdez Marbán Dante"
   ]
  },
  {
   "cell_type": "code",
   "execution_count": 1,
   "metadata": {},
   "outputs": [],
   "source": [
    "import numpy as np\n",
    "\n",
    "import pandas as pd\n",
    "\n",
    "#!conda install -c conda-forge lightgbm -y\n",
    "import lightgbm as lgb\n",
    "\n",
    "from sklearn.model_selection import train_test_split\n",
    "from sklearn.metrics import mean_absolute_error"
   ]
  },
  {
   "cell_type": "markdown",
   "metadata": {},
   "source": [
    "## Usando algo así como random search"
   ]
  },
  {
   "cell_type": "markdown",
   "metadata": {},
   "source": [
    "MAE:  2580211.5837444784\n",
    "\n",
    "{'learning_rate': 0.24842943048773125, 'boosting_type': 'dart', 'objective': 'regression', 'metric': 'mae', 'sub_feature': 0.6330313130909996, 'num_leaves': 48, 'min_data': 21, 'max_depth': 27}\n",
    "\n",
    "---\n",
    "\n",
    "MAE: 2553720.985319375\n",
    "\n",
    "{'learning_rate': 0.1275200906747731,\n",
    " 'boosting_type': 'dart',\n",
    " 'objective': 'regression',\n",
    " 'metric': 'mae',\n",
    " 'sub_feature': 0.4067123592984939,\n",
    " 'num_leaves': 287,\n",
    " 'min_data': 19,\n",
    " 'max_depth': 94}\n",
    " \n",
    "---\n",
    " \n",
    "MAE: 2547251.821188033\n",
    "\n",
    "Parámetros: {'learning_rate': 0.14124527912898743, 'boosting_type': 'dart', 'objective': 'regression', 'metric': 'mae', 'sub_feature': 0.5486980094996131, 'num_leaves': 43, 'min_data': 23, 'max_depth': 68}\n",
    "\n",
    "Iteraciones: 8972\n",
    "\n",
    "---\n",
    "\n",
    "MAE: 2671093.1977523025\n",
    "\n",
    "Parámetros: {'learning_rate': 0.4151061569602352, 'boosting_type': 'dart', 'objective': 'regression', 'metric': 'mae', 'sub_feature': 0.5989341446930334, 'num_leaves': 70, 'min_data': 10, 'max_depth': 97, 'verbose': -1}"
   ]
  },
  {
   "cell_type": "code",
   "execution_count": 7,
   "metadata": {},
   "outputs": [],
   "source": [
    "def random_search(X_train, y_train, X_test, y_test, its = 50, iters = 10000):\n",
    "    #Set the minimum error arbitrarily large\n",
    "    minimo = float(\"inf\") \n",
    "    pp = {}\n",
    "    count = 0 #Used for keeping track of the iteration number\n",
    "    maes = []\n",
    "    pars = []\n",
    "    #How many runs to perform using randomly selected hyperparameters\n",
    "    iterations = its\n",
    "    iteraciones = 0\n",
    "    while count < its:\n",
    "        print('iteration number', count)\n",
    "        params = {} #initialize parameters\n",
    "        try:\n",
    "            d_train = lgb.Dataset(X_train, label = y_train) #Load in data\n",
    "            params['learning_rate'] = np.random.uniform(0.4, 0.8)\n",
    "            params['boosting_type'] = 'dart' # Quitamos 'goss', da malos resultados. Es mejor 'dart' que 'gbdt'.\n",
    "            params['objective'] = 'regression'\n",
    "            params['metric'] = 'mae'\n",
    "            params['sub_feature'] = np.random.uniform(0, 1)\n",
    "            params['num_leaves'] = np.random.randint(20, 300)\n",
    "            params['min_data'] = np.random.randint(1, 50) # 100\n",
    "            params['max_depth'] = np.random.randint(5, 300) # 200\n",
    "            params['verbose'] = -1\n",
    "            print(params) #Train using selected parameters\n",
    "            clf = lgb.train(params, d_train, iters)\n",
    "            y_pred = clf.predict(X_test) #Create predictions on test set\n",
    "            mae = mean_absolute_error(y_pred,y_test)    \n",
    "            print('MAE:', mae)\n",
    "            print(\"----\"*5)\n",
    "            maes.append(mae)\n",
    "            pars.append(params)\n",
    "            if mae < minimo:\n",
    "                minimo = mae\n",
    "                pp = params\n",
    "            count += 1 #increment count\n",
    "        except: #in case something goes wrong\n",
    "            print('failed with---------------------')\n",
    "            print(params)\n",
    "    return maes, pars, minimo, pp"
   ]
  },
  {
   "cell_type": "code",
   "execution_count": 8,
   "metadata": {},
   "outputs": [
    {
     "name": "stdout",
     "output_type": "stream",
     "text": [
      "iteration number 0\n",
      "{'learning_rate': 0.4391034496782301, 'boosting_type': 'dart', 'objective': 'regression', 'metric': 'mae', 'sub_feature': 0.42830399997570645, 'num_leaves': 166, 'min_data': 39, 'max_depth': 34, 'verbose': -1}\n",
      "MAE: 2759979.947004503\n",
      "--------------------\n",
      "iteration number 1\n",
      "{'learning_rate': 0.43572346536894696, 'boosting_type': 'dart', 'objective': 'regression', 'metric': 'mae', 'sub_feature': 0.592262706528372, 'num_leaves': 266, 'min_data': 28, 'max_depth': 180, 'verbose': -1}\n",
      "MAE: 2710302.594225801\n",
      "--------------------\n",
      "iteration number 2\n",
      "{'learning_rate': 0.4845715465489533, 'boosting_type': 'dart', 'objective': 'regression', 'metric': 'mae', 'sub_feature': 0.9874855152563691, 'num_leaves': 131, 'min_data': 39, 'max_depth': 288, 'verbose': -1}\n",
      "MAE: 2835409.843804503\n",
      "--------------------\n",
      "iteration number 3\n",
      "{'learning_rate': 0.4383395014090739, 'boosting_type': 'dart', 'objective': 'regression', 'metric': 'mae', 'sub_feature': 0.2769628734248536, 'num_leaves': 227, 'min_data': 15, 'max_depth': 198, 'verbose': -1}\n",
      "MAE: 2802648.1109767524\n",
      "--------------------\n",
      "iteration number 4\n",
      "{'learning_rate': 0.4262525191265689, 'boosting_type': 'dart', 'objective': 'regression', 'metric': 'mae', 'sub_feature': 0.08100537258395923, 'num_leaves': 201, 'min_data': 23, 'max_depth': 236, 'verbose': -1}\n",
      "MAE: 3785672.2332959534\n",
      "--------------------\n",
      "iteration number 5\n",
      "{'learning_rate': 0.41093598209394333, 'boosting_type': 'dart', 'objective': 'regression', 'metric': 'mae', 'sub_feature': 0.6190644969647471, 'num_leaves': 63, 'min_data': 8, 'max_depth': 241, 'verbose': -1}\n",
      "MAE: 2672499.1649725013\n",
      "--------------------\n",
      "iteration number 6\n",
      "{'learning_rate': 0.7048878300340521, 'boosting_type': 'dart', 'objective': 'regression', 'metric': 'mae', 'sub_feature': 0.4777342779547029, 'num_leaves': 144, 'min_data': 37, 'max_depth': 174, 'verbose': -1}\n",
      "MAE: 2808022.9394017085\n",
      "--------------------\n",
      "iteration number 7\n",
      "{'learning_rate': 0.4171882122689523, 'boosting_type': 'dart', 'objective': 'regression', 'metric': 'mae', 'sub_feature': 0.25820486037937895, 'num_leaves': 75, 'min_data': 3, 'max_depth': 243, 'verbose': -1}\n",
      "MAE: 2829573.9606029317\n",
      "--------------------\n",
      "iteration number 8\n",
      "{'learning_rate': 0.4838974142900625, 'boosting_type': 'dart', 'objective': 'regression', 'metric': 'mae', 'sub_feature': 0.5646288321205797, 'num_leaves': 188, 'min_data': 24, 'max_depth': 211, 'verbose': -1}\n",
      "MAE: 2728717.291923498\n",
      "--------------------\n",
      "iteration number 9\n",
      "{'learning_rate': 0.6485581021734124, 'boosting_type': 'dart', 'objective': 'regression', 'metric': 'mae', 'sub_feature': 0.6933559904081638, 'num_leaves': 87, 'min_data': 14, 'max_depth': 248, 'verbose': -1}\n",
      "MAE: 2714245.512857368\n",
      "--------------------\n",
      "MAE: 2672499.1649725013\n",
      "Parámetros: {'learning_rate': 0.41093598209394333, 'boosting_type': 'dart', 'objective': 'regression', 'metric': 'mae', 'sub_feature': 0.6190644969647471, 'num_leaves': 63, 'min_data': 8, 'max_depth': 241, 'verbose': -1}\n",
      "CPU times: user 1h 4min 56s, sys: 8.52 s, total: 1h 5min 5s\n",
      "Wall time: 8min 14s\n"
     ]
    }
   ],
   "source": [
    "%%time\n",
    "# Con las estadísticas de señales\n",
    "datos = pd.read_csv(\"../csvs/stats_per_file_signal_train2.csv\")\n",
    "train = pd.read_csv(\"/home/oscar/Escritorio/predict-volcanic-eruptions-ingv-oe/train.csv\")\n",
    "datos_time = datos.join(train.set_index(\"segment_id\"), on = \"segment_id\")\n",
    "\n",
    "X = datos_time.iloc[:,1:-1].values\n",
    "y = datos_time.iloc[:,-1].values\n",
    "\n",
    "X_train, X_test, y_train, y_test = train_test_split(X, y, test_size = 0.25, random_state = 0)\n",
    "maes1, pars1, minimo1, pp1 = random_search(X_train, y_train, X_test, y_test, its = 10)\n",
    "print(f\"MAE: {minimo1}\")\n",
    "print(f\"Parámetros: {pp1}\")"
   ]
  },
  {
   "cell_type": "code",
   "execution_count": 9,
   "metadata": {},
   "outputs": [],
   "source": [
    "gbdts = []\n",
    "darts = []\n",
    "for idx, param in enumerate(pars1):\n",
    "    param['mae'] = maes1[idx]\n",
    "    if param['boosting_type'] == 'gbdt':\n",
    "        gbdts.append(param)\n",
    "    else:\n",
    "        darts.append(param)"
   ]
  },
  {
   "cell_type": "code",
   "execution_count": 20,
   "metadata": {},
   "outputs": [
    {
     "data": {
      "text/plain": [
       "dict_keys(['learning_rate', 'sub_feature', 'num_leaves', 'min_data', 'max_depth', 'mae'])"
      ]
     },
     "execution_count": 20,
     "metadata": {},
     "output_type": "execute_result"
    }
   ],
   "source": [
    "dic_gbdts = {par: [dic[par] for dic in gbdts] for par in gbdts[0].keys() if par not in ['boosting_type', 'verbose',\n",
    "                                                                                        'objective', 'metric']}\n",
    "dic_darts = {par: [dic[par] for dic in darts] for par in darts[0].keys() if par not in ['boosting_type', 'verbose',\n",
    "                                                                                        'objective', 'metric']}\n",
    "dic_darts.keys()"
   ]
  },
  {
   "cell_type": "code",
   "execution_count": null,
   "metadata": {},
   "outputs": [],
   "source": [
    "import plotly.graph_objects as go\n",
    "X_gbdt = dic_gbdts['num_leaves']\n",
    "Y_gbdt = dic_gbdts['min_data']\n",
    "Z_gbdt = dic_gbdts['max_depth']\n",
    "col = dic_gbdts['mae']\n",
    "s = dic_gbdts['learning_rate']"
   ]
  },
  {
   "cell_type": "code",
   "execution_count": 54,
   "metadata": {
    "collapsed": true
   },
   "outputs": [
    {
     "data": {
      "application/vnd.plotly.v1+json": {
       "config": {
        "plotlyServerURL": "https://plot.ly"
       },
       "data": [
        {
         "mode": "markers",
         "type": "scatter",
         "x": [
          278,
          120,
          239,
          147,
          298,
          260,
          274,
          161,
          162,
          116,
          267,
          95,
          226,
          279,
          148,
          274,
          225,
          219,
          30,
          129,
          223,
          234,
          126,
          143,
          185,
          266,
          215,
          44,
          27,
          53,
          121,
          206,
          242,
          195,
          230,
          220,
          214,
          224,
          82,
          48,
          40,
          227,
          193,
          56,
          227,
          188,
          148,
          112,
          73,
          189,
          29,
          271,
          146,
          171
         ],
         "y": [
          3279532.8687002966,
          3582860.565954606,
          5486701.048595117,
          4787464.964845304,
          4530857.487241028,
          5120296.587430455,
          5991436.777139471,
          4755053.378605113,
          3720814.70501702,
          4669351.6431714,
          3445835.1458946196,
          5462835.292689152,
          3380092.9699605443,
          3875571.450708518,
          5664866.730840039,
          7783529.888028995,
          3544432.621763034,
          4013860.20142296,
          5314011.544392994,
          3449277.3939459883,
          4011252.3586132457,
          4649708.328883131,
          6165530.340310355,
          8436621.858765114,
          4341617.954463067,
          5282111.900552225,
          3825240.3343780944,
          3630128.8866440863,
          3667523.088991448,
          6486202.826406964,
          5864744.177271917,
          4874634.01153995,
          5884395.074521256,
          5636383.794866825,
          5095026.383480646,
          5708155.464009307,
          6358634.921382401,
          4673386.263708385,
          4703842.839177951,
          6369860.169210909,
          3771295.0424920255,
          5293857.827024025,
          8323453.034966132,
          3927222.502797012,
          3695512.275288363,
          6380250.827701313,
          5466648.412607083,
          5425579.72654791,
          5777621.37389484,
          8051799.933446149,
          5061315.252699409,
          5360806.81461171,
          3642481.8294197386,
          3337462.904262436
         ]
        }
       ],
       "layout": {
        "template": {
         "data": {
          "bar": [
           {
            "error_x": {
             "color": "#2a3f5f"
            },
            "error_y": {
             "color": "#2a3f5f"
            },
            "marker": {
             "line": {
              "color": "#E5ECF6",
              "width": 0.5
             }
            },
            "type": "bar"
           }
          ],
          "barpolar": [
           {
            "marker": {
             "line": {
              "color": "#E5ECF6",
              "width": 0.5
             }
            },
            "type": "barpolar"
           }
          ],
          "carpet": [
           {
            "aaxis": {
             "endlinecolor": "#2a3f5f",
             "gridcolor": "white",
             "linecolor": "white",
             "minorgridcolor": "white",
             "startlinecolor": "#2a3f5f"
            },
            "baxis": {
             "endlinecolor": "#2a3f5f",
             "gridcolor": "white",
             "linecolor": "white",
             "minorgridcolor": "white",
             "startlinecolor": "#2a3f5f"
            },
            "type": "carpet"
           }
          ],
          "choropleth": [
           {
            "colorbar": {
             "outlinewidth": 0,
             "ticks": ""
            },
            "type": "choropleth"
           }
          ],
          "contour": [
           {
            "colorbar": {
             "outlinewidth": 0,
             "ticks": ""
            },
            "colorscale": [
             [
              0,
              "#0d0887"
             ],
             [
              0.1111111111111111,
              "#46039f"
             ],
             [
              0.2222222222222222,
              "#7201a8"
             ],
             [
              0.3333333333333333,
              "#9c179e"
             ],
             [
              0.4444444444444444,
              "#bd3786"
             ],
             [
              0.5555555555555556,
              "#d8576b"
             ],
             [
              0.6666666666666666,
              "#ed7953"
             ],
             [
              0.7777777777777778,
              "#fb9f3a"
             ],
             [
              0.8888888888888888,
              "#fdca26"
             ],
             [
              1,
              "#f0f921"
             ]
            ],
            "type": "contour"
           }
          ],
          "contourcarpet": [
           {
            "colorbar": {
             "outlinewidth": 0,
             "ticks": ""
            },
            "type": "contourcarpet"
           }
          ],
          "heatmap": [
           {
            "colorbar": {
             "outlinewidth": 0,
             "ticks": ""
            },
            "colorscale": [
             [
              0,
              "#0d0887"
             ],
             [
              0.1111111111111111,
              "#46039f"
             ],
             [
              0.2222222222222222,
              "#7201a8"
             ],
             [
              0.3333333333333333,
              "#9c179e"
             ],
             [
              0.4444444444444444,
              "#bd3786"
             ],
             [
              0.5555555555555556,
              "#d8576b"
             ],
             [
              0.6666666666666666,
              "#ed7953"
             ],
             [
              0.7777777777777778,
              "#fb9f3a"
             ],
             [
              0.8888888888888888,
              "#fdca26"
             ],
             [
              1,
              "#f0f921"
             ]
            ],
            "type": "heatmap"
           }
          ],
          "heatmapgl": [
           {
            "colorbar": {
             "outlinewidth": 0,
             "ticks": ""
            },
            "colorscale": [
             [
              0,
              "#0d0887"
             ],
             [
              0.1111111111111111,
              "#46039f"
             ],
             [
              0.2222222222222222,
              "#7201a8"
             ],
             [
              0.3333333333333333,
              "#9c179e"
             ],
             [
              0.4444444444444444,
              "#bd3786"
             ],
             [
              0.5555555555555556,
              "#d8576b"
             ],
             [
              0.6666666666666666,
              "#ed7953"
             ],
             [
              0.7777777777777778,
              "#fb9f3a"
             ],
             [
              0.8888888888888888,
              "#fdca26"
             ],
             [
              1,
              "#f0f921"
             ]
            ],
            "type": "heatmapgl"
           }
          ],
          "histogram": [
           {
            "marker": {
             "colorbar": {
              "outlinewidth": 0,
              "ticks": ""
             }
            },
            "type": "histogram"
           }
          ],
          "histogram2d": [
           {
            "colorbar": {
             "outlinewidth": 0,
             "ticks": ""
            },
            "colorscale": [
             [
              0,
              "#0d0887"
             ],
             [
              0.1111111111111111,
              "#46039f"
             ],
             [
              0.2222222222222222,
              "#7201a8"
             ],
             [
              0.3333333333333333,
              "#9c179e"
             ],
             [
              0.4444444444444444,
              "#bd3786"
             ],
             [
              0.5555555555555556,
              "#d8576b"
             ],
             [
              0.6666666666666666,
              "#ed7953"
             ],
             [
              0.7777777777777778,
              "#fb9f3a"
             ],
             [
              0.8888888888888888,
              "#fdca26"
             ],
             [
              1,
              "#f0f921"
             ]
            ],
            "type": "histogram2d"
           }
          ],
          "histogram2dcontour": [
           {
            "colorbar": {
             "outlinewidth": 0,
             "ticks": ""
            },
            "colorscale": [
             [
              0,
              "#0d0887"
             ],
             [
              0.1111111111111111,
              "#46039f"
             ],
             [
              0.2222222222222222,
              "#7201a8"
             ],
             [
              0.3333333333333333,
              "#9c179e"
             ],
             [
              0.4444444444444444,
              "#bd3786"
             ],
             [
              0.5555555555555556,
              "#d8576b"
             ],
             [
              0.6666666666666666,
              "#ed7953"
             ],
             [
              0.7777777777777778,
              "#fb9f3a"
             ],
             [
              0.8888888888888888,
              "#fdca26"
             ],
             [
              1,
              "#f0f921"
             ]
            ],
            "type": "histogram2dcontour"
           }
          ],
          "mesh3d": [
           {
            "colorbar": {
             "outlinewidth": 0,
             "ticks": ""
            },
            "type": "mesh3d"
           }
          ],
          "parcoords": [
           {
            "line": {
             "colorbar": {
              "outlinewidth": 0,
              "ticks": ""
             }
            },
            "type": "parcoords"
           }
          ],
          "pie": [
           {
            "automargin": true,
            "type": "pie"
           }
          ],
          "scatter": [
           {
            "marker": {
             "colorbar": {
              "outlinewidth": 0,
              "ticks": ""
             }
            },
            "type": "scatter"
           }
          ],
          "scatter3d": [
           {
            "line": {
             "colorbar": {
              "outlinewidth": 0,
              "ticks": ""
             }
            },
            "marker": {
             "colorbar": {
              "outlinewidth": 0,
              "ticks": ""
             }
            },
            "type": "scatter3d"
           }
          ],
          "scattercarpet": [
           {
            "marker": {
             "colorbar": {
              "outlinewidth": 0,
              "ticks": ""
             }
            },
            "type": "scattercarpet"
           }
          ],
          "scattergeo": [
           {
            "marker": {
             "colorbar": {
              "outlinewidth": 0,
              "ticks": ""
             }
            },
            "type": "scattergeo"
           }
          ],
          "scattergl": [
           {
            "marker": {
             "colorbar": {
              "outlinewidth": 0,
              "ticks": ""
             }
            },
            "type": "scattergl"
           }
          ],
          "scattermapbox": [
           {
            "marker": {
             "colorbar": {
              "outlinewidth": 0,
              "ticks": ""
             }
            },
            "type": "scattermapbox"
           }
          ],
          "scatterpolar": [
           {
            "marker": {
             "colorbar": {
              "outlinewidth": 0,
              "ticks": ""
             }
            },
            "type": "scatterpolar"
           }
          ],
          "scatterpolargl": [
           {
            "marker": {
             "colorbar": {
              "outlinewidth": 0,
              "ticks": ""
             }
            },
            "type": "scatterpolargl"
           }
          ],
          "scatterternary": [
           {
            "marker": {
             "colorbar": {
              "outlinewidth": 0,
              "ticks": ""
             }
            },
            "type": "scatterternary"
           }
          ],
          "surface": [
           {
            "colorbar": {
             "outlinewidth": 0,
             "ticks": ""
            },
            "colorscale": [
             [
              0,
              "#0d0887"
             ],
             [
              0.1111111111111111,
              "#46039f"
             ],
             [
              0.2222222222222222,
              "#7201a8"
             ],
             [
              0.3333333333333333,
              "#9c179e"
             ],
             [
              0.4444444444444444,
              "#bd3786"
             ],
             [
              0.5555555555555556,
              "#d8576b"
             ],
             [
              0.6666666666666666,
              "#ed7953"
             ],
             [
              0.7777777777777778,
              "#fb9f3a"
             ],
             [
              0.8888888888888888,
              "#fdca26"
             ],
             [
              1,
              "#f0f921"
             ]
            ],
            "type": "surface"
           }
          ],
          "table": [
           {
            "cells": {
             "fill": {
              "color": "#EBF0F8"
             },
             "line": {
              "color": "white"
             }
            },
            "header": {
             "fill": {
              "color": "#C8D4E3"
             },
             "line": {
              "color": "white"
             }
            },
            "type": "table"
           }
          ]
         },
         "layout": {
          "annotationdefaults": {
           "arrowcolor": "#2a3f5f",
           "arrowhead": 0,
           "arrowwidth": 1
          },
          "coloraxis": {
           "colorbar": {
            "outlinewidth": 0,
            "ticks": ""
           }
          },
          "colorscale": {
           "diverging": [
            [
             0,
             "#8e0152"
            ],
            [
             0.1,
             "#c51b7d"
            ],
            [
             0.2,
             "#de77ae"
            ],
            [
             0.3,
             "#f1b6da"
            ],
            [
             0.4,
             "#fde0ef"
            ],
            [
             0.5,
             "#f7f7f7"
            ],
            [
             0.6,
             "#e6f5d0"
            ],
            [
             0.7,
             "#b8e186"
            ],
            [
             0.8,
             "#7fbc41"
            ],
            [
             0.9,
             "#4d9221"
            ],
            [
             1,
             "#276419"
            ]
           ],
           "sequential": [
            [
             0,
             "#0d0887"
            ],
            [
             0.1111111111111111,
             "#46039f"
            ],
            [
             0.2222222222222222,
             "#7201a8"
            ],
            [
             0.3333333333333333,
             "#9c179e"
            ],
            [
             0.4444444444444444,
             "#bd3786"
            ],
            [
             0.5555555555555556,
             "#d8576b"
            ],
            [
             0.6666666666666666,
             "#ed7953"
            ],
            [
             0.7777777777777778,
             "#fb9f3a"
            ],
            [
             0.8888888888888888,
             "#fdca26"
            ],
            [
             1,
             "#f0f921"
            ]
           ],
           "sequentialminus": [
            [
             0,
             "#0d0887"
            ],
            [
             0.1111111111111111,
             "#46039f"
            ],
            [
             0.2222222222222222,
             "#7201a8"
            ],
            [
             0.3333333333333333,
             "#9c179e"
            ],
            [
             0.4444444444444444,
             "#bd3786"
            ],
            [
             0.5555555555555556,
             "#d8576b"
            ],
            [
             0.6666666666666666,
             "#ed7953"
            ],
            [
             0.7777777777777778,
             "#fb9f3a"
            ],
            [
             0.8888888888888888,
             "#fdca26"
            ],
            [
             1,
             "#f0f921"
            ]
           ]
          },
          "colorway": [
           "#636efa",
           "#EF553B",
           "#00cc96",
           "#ab63fa",
           "#FFA15A",
           "#19d3f3",
           "#FF6692",
           "#B6E880",
           "#FF97FF",
           "#FECB52"
          ],
          "font": {
           "color": "#2a3f5f"
          },
          "geo": {
           "bgcolor": "white",
           "lakecolor": "white",
           "landcolor": "#E5ECF6",
           "showlakes": true,
           "showland": true,
           "subunitcolor": "white"
          },
          "hoverlabel": {
           "align": "left"
          },
          "hovermode": "closest",
          "mapbox": {
           "style": "light"
          },
          "paper_bgcolor": "white",
          "plot_bgcolor": "#E5ECF6",
          "polar": {
           "angularaxis": {
            "gridcolor": "white",
            "linecolor": "white",
            "ticks": ""
           },
           "bgcolor": "#E5ECF6",
           "radialaxis": {
            "gridcolor": "white",
            "linecolor": "white",
            "ticks": ""
           }
          },
          "scene": {
           "xaxis": {
            "backgroundcolor": "#E5ECF6",
            "gridcolor": "white",
            "gridwidth": 2,
            "linecolor": "white",
            "showbackground": true,
            "ticks": "",
            "zerolinecolor": "white"
           },
           "yaxis": {
            "backgroundcolor": "#E5ECF6",
            "gridcolor": "white",
            "gridwidth": 2,
            "linecolor": "white",
            "showbackground": true,
            "ticks": "",
            "zerolinecolor": "white"
           },
           "zaxis": {
            "backgroundcolor": "#E5ECF6",
            "gridcolor": "white",
            "gridwidth": 2,
            "linecolor": "white",
            "showbackground": true,
            "ticks": "",
            "zerolinecolor": "white"
           }
          },
          "shapedefaults": {
           "line": {
            "color": "#2a3f5f"
           }
          },
          "ternary": {
           "aaxis": {
            "gridcolor": "white",
            "linecolor": "white",
            "ticks": ""
           },
           "baxis": {
            "gridcolor": "white",
            "linecolor": "white",
            "ticks": ""
           },
           "bgcolor": "#E5ECF6",
           "caxis": {
            "gridcolor": "white",
            "linecolor": "white",
            "ticks": ""
           }
          },
          "title": {
           "x": 0.05
          },
          "xaxis": {
           "automargin": true,
           "gridcolor": "white",
           "linecolor": "white",
           "ticks": "",
           "title": {
            "standoff": 15
           },
           "zerolinecolor": "white",
           "zerolinewidth": 2
          },
          "yaxis": {
           "automargin": true,
           "gridcolor": "white",
           "linecolor": "white",
           "ticks": "",
           "title": {
            "standoff": 15
           },
           "zerolinecolor": "white",
           "zerolinewidth": 2
          }
         }
        },
        "title": {
         "text": "Número de hojas GBDT"
        },
        "xaxis": {
         "title": {
          "text": "Número de hojas"
         }
        },
        "yaxis": {
         "title": {
          "text": "MAE"
         }
        }
       }
      },
      "text/html": [
       "<div>                            <div id=\"32bee46f-3c78-48d9-a4eb-9d3331193b14\" class=\"plotly-graph-div\" style=\"height:525px; width:100%;\"></div>            <script type=\"text/javascript\">                require([\"plotly\"], function(Plotly) {                    window.PLOTLYENV=window.PLOTLYENV || {};                                    if (document.getElementById(\"32bee46f-3c78-48d9-a4eb-9d3331193b14\")) {                    Plotly.newPlot(                        \"32bee46f-3c78-48d9-a4eb-9d3331193b14\",                        [{\"mode\": \"markers\", \"type\": \"scatter\", \"x\": [278, 120, 239, 147, 298, 260, 274, 161, 162, 116, 267, 95, 226, 279, 148, 274, 225, 219, 30, 129, 223, 234, 126, 143, 185, 266, 215, 44, 27, 53, 121, 206, 242, 195, 230, 220, 214, 224, 82, 48, 40, 227, 193, 56, 227, 188, 148, 112, 73, 189, 29, 271, 146, 171], \"y\": [3279532.8687002966, 3582860.565954606, 5486701.048595117, 4787464.964845304, 4530857.487241028, 5120296.587430455, 5991436.777139471, 4755053.378605113, 3720814.70501702, 4669351.6431714, 3445835.1458946196, 5462835.292689152, 3380092.9699605443, 3875571.450708518, 5664866.730840039, 7783529.888028995, 3544432.621763034, 4013860.20142296, 5314011.544392994, 3449277.3939459883, 4011252.3586132457, 4649708.328883131, 6165530.340310355, 8436621.858765114, 4341617.954463067, 5282111.900552225, 3825240.3343780944, 3630128.8866440863, 3667523.088991448, 6486202.826406964, 5864744.177271917, 4874634.01153995, 5884395.074521256, 5636383.794866825, 5095026.383480646, 5708155.464009307, 6358634.921382401, 4673386.263708385, 4703842.839177951, 6369860.169210909, 3771295.0424920255, 5293857.827024025, 8323453.034966132, 3927222.502797012, 3695512.275288363, 6380250.827701313, 5466648.412607083, 5425579.72654791, 5777621.37389484, 8051799.933446149, 5061315.252699409, 5360806.81461171, 3642481.8294197386, 3337462.904262436]}],                        {\"template\": {\"data\": {\"bar\": [{\"error_x\": {\"color\": \"#2a3f5f\"}, \"error_y\": {\"color\": \"#2a3f5f\"}, \"marker\": {\"line\": {\"color\": \"#E5ECF6\", \"width\": 0.5}}, \"type\": \"bar\"}], \"barpolar\": [{\"marker\": {\"line\": {\"color\": \"#E5ECF6\", \"width\": 0.5}}, \"type\": \"barpolar\"}], \"carpet\": [{\"aaxis\": {\"endlinecolor\": \"#2a3f5f\", \"gridcolor\": \"white\", \"linecolor\": \"white\", \"minorgridcolor\": \"white\", \"startlinecolor\": \"#2a3f5f\"}, \"baxis\": {\"endlinecolor\": \"#2a3f5f\", \"gridcolor\": \"white\", \"linecolor\": \"white\", \"minorgridcolor\": \"white\", \"startlinecolor\": \"#2a3f5f\"}, \"type\": \"carpet\"}], \"choropleth\": [{\"colorbar\": {\"outlinewidth\": 0, \"ticks\": \"\"}, \"type\": \"choropleth\"}], \"contour\": [{\"colorbar\": {\"outlinewidth\": 0, \"ticks\": \"\"}, \"colorscale\": [[0.0, \"#0d0887\"], [0.1111111111111111, \"#46039f\"], [0.2222222222222222, \"#7201a8\"], [0.3333333333333333, \"#9c179e\"], [0.4444444444444444, \"#bd3786\"], [0.5555555555555556, \"#d8576b\"], [0.6666666666666666, \"#ed7953\"], [0.7777777777777778, \"#fb9f3a\"], [0.8888888888888888, \"#fdca26\"], [1.0, \"#f0f921\"]], \"type\": \"contour\"}], \"contourcarpet\": [{\"colorbar\": {\"outlinewidth\": 0, \"ticks\": \"\"}, \"type\": \"contourcarpet\"}], \"heatmap\": [{\"colorbar\": {\"outlinewidth\": 0, \"ticks\": \"\"}, \"colorscale\": [[0.0, \"#0d0887\"], [0.1111111111111111, \"#46039f\"], [0.2222222222222222, \"#7201a8\"], [0.3333333333333333, \"#9c179e\"], [0.4444444444444444, \"#bd3786\"], [0.5555555555555556, \"#d8576b\"], [0.6666666666666666, \"#ed7953\"], [0.7777777777777778, \"#fb9f3a\"], [0.8888888888888888, \"#fdca26\"], [1.0, \"#f0f921\"]], \"type\": \"heatmap\"}], \"heatmapgl\": [{\"colorbar\": {\"outlinewidth\": 0, \"ticks\": \"\"}, \"colorscale\": [[0.0, \"#0d0887\"], [0.1111111111111111, \"#46039f\"], [0.2222222222222222, \"#7201a8\"], [0.3333333333333333, \"#9c179e\"], [0.4444444444444444, \"#bd3786\"], [0.5555555555555556, \"#d8576b\"], [0.6666666666666666, \"#ed7953\"], [0.7777777777777778, \"#fb9f3a\"], [0.8888888888888888, \"#fdca26\"], [1.0, \"#f0f921\"]], \"type\": \"heatmapgl\"}], \"histogram\": [{\"marker\": {\"colorbar\": {\"outlinewidth\": 0, \"ticks\": \"\"}}, \"type\": \"histogram\"}], \"histogram2d\": [{\"colorbar\": {\"outlinewidth\": 0, \"ticks\": \"\"}, \"colorscale\": [[0.0, \"#0d0887\"], [0.1111111111111111, \"#46039f\"], [0.2222222222222222, \"#7201a8\"], [0.3333333333333333, \"#9c179e\"], [0.4444444444444444, \"#bd3786\"], [0.5555555555555556, \"#d8576b\"], [0.6666666666666666, \"#ed7953\"], [0.7777777777777778, \"#fb9f3a\"], [0.8888888888888888, \"#fdca26\"], [1.0, \"#f0f921\"]], \"type\": \"histogram2d\"}], \"histogram2dcontour\": [{\"colorbar\": {\"outlinewidth\": 0, \"ticks\": \"\"}, \"colorscale\": [[0.0, \"#0d0887\"], [0.1111111111111111, \"#46039f\"], [0.2222222222222222, \"#7201a8\"], [0.3333333333333333, \"#9c179e\"], [0.4444444444444444, \"#bd3786\"], [0.5555555555555556, \"#d8576b\"], [0.6666666666666666, \"#ed7953\"], [0.7777777777777778, \"#fb9f3a\"], [0.8888888888888888, \"#fdca26\"], [1.0, \"#f0f921\"]], \"type\": \"histogram2dcontour\"}], \"mesh3d\": [{\"colorbar\": {\"outlinewidth\": 0, \"ticks\": \"\"}, \"type\": \"mesh3d\"}], \"parcoords\": [{\"line\": {\"colorbar\": {\"outlinewidth\": 0, \"ticks\": \"\"}}, \"type\": \"parcoords\"}], \"pie\": [{\"automargin\": true, \"type\": \"pie\"}], \"scatter\": [{\"marker\": {\"colorbar\": {\"outlinewidth\": 0, \"ticks\": \"\"}}, \"type\": \"scatter\"}], \"scatter3d\": [{\"line\": {\"colorbar\": {\"outlinewidth\": 0, \"ticks\": \"\"}}, \"marker\": {\"colorbar\": {\"outlinewidth\": 0, \"ticks\": \"\"}}, \"type\": \"scatter3d\"}], \"scattercarpet\": [{\"marker\": {\"colorbar\": {\"outlinewidth\": 0, \"ticks\": \"\"}}, \"type\": \"scattercarpet\"}], \"scattergeo\": [{\"marker\": {\"colorbar\": {\"outlinewidth\": 0, \"ticks\": \"\"}}, \"type\": \"scattergeo\"}], \"scattergl\": [{\"marker\": {\"colorbar\": {\"outlinewidth\": 0, \"ticks\": \"\"}}, \"type\": \"scattergl\"}], \"scattermapbox\": [{\"marker\": {\"colorbar\": {\"outlinewidth\": 0, \"ticks\": \"\"}}, \"type\": \"scattermapbox\"}], \"scatterpolar\": [{\"marker\": {\"colorbar\": {\"outlinewidth\": 0, \"ticks\": \"\"}}, \"type\": \"scatterpolar\"}], \"scatterpolargl\": [{\"marker\": {\"colorbar\": {\"outlinewidth\": 0, \"ticks\": \"\"}}, \"type\": \"scatterpolargl\"}], \"scatterternary\": [{\"marker\": {\"colorbar\": {\"outlinewidth\": 0, \"ticks\": \"\"}}, \"type\": \"scatterternary\"}], \"surface\": [{\"colorbar\": {\"outlinewidth\": 0, \"ticks\": \"\"}, \"colorscale\": [[0.0, \"#0d0887\"], [0.1111111111111111, \"#46039f\"], [0.2222222222222222, \"#7201a8\"], [0.3333333333333333, \"#9c179e\"], [0.4444444444444444, \"#bd3786\"], [0.5555555555555556, \"#d8576b\"], [0.6666666666666666, \"#ed7953\"], [0.7777777777777778, \"#fb9f3a\"], [0.8888888888888888, \"#fdca26\"], [1.0, \"#f0f921\"]], \"type\": \"surface\"}], \"table\": [{\"cells\": {\"fill\": {\"color\": \"#EBF0F8\"}, \"line\": {\"color\": \"white\"}}, \"header\": {\"fill\": {\"color\": \"#C8D4E3\"}, \"line\": {\"color\": \"white\"}}, \"type\": \"table\"}]}, \"layout\": {\"annotationdefaults\": {\"arrowcolor\": \"#2a3f5f\", \"arrowhead\": 0, \"arrowwidth\": 1}, \"coloraxis\": {\"colorbar\": {\"outlinewidth\": 0, \"ticks\": \"\"}}, \"colorscale\": {\"diverging\": [[0, \"#8e0152\"], [0.1, \"#c51b7d\"], [0.2, \"#de77ae\"], [0.3, \"#f1b6da\"], [0.4, \"#fde0ef\"], [0.5, \"#f7f7f7\"], [0.6, \"#e6f5d0\"], [0.7, \"#b8e186\"], [0.8, \"#7fbc41\"], [0.9, \"#4d9221\"], [1, \"#276419\"]], \"sequential\": [[0.0, \"#0d0887\"], [0.1111111111111111, \"#46039f\"], [0.2222222222222222, \"#7201a8\"], [0.3333333333333333, \"#9c179e\"], [0.4444444444444444, \"#bd3786\"], [0.5555555555555556, \"#d8576b\"], [0.6666666666666666, \"#ed7953\"], [0.7777777777777778, \"#fb9f3a\"], [0.8888888888888888, \"#fdca26\"], [1.0, \"#f0f921\"]], \"sequentialminus\": [[0.0, \"#0d0887\"], [0.1111111111111111, \"#46039f\"], [0.2222222222222222, \"#7201a8\"], [0.3333333333333333, \"#9c179e\"], [0.4444444444444444, \"#bd3786\"], [0.5555555555555556, \"#d8576b\"], [0.6666666666666666, \"#ed7953\"], [0.7777777777777778, \"#fb9f3a\"], [0.8888888888888888, \"#fdca26\"], [1.0, \"#f0f921\"]]}, \"colorway\": [\"#636efa\", \"#EF553B\", \"#00cc96\", \"#ab63fa\", \"#FFA15A\", \"#19d3f3\", \"#FF6692\", \"#B6E880\", \"#FF97FF\", \"#FECB52\"], \"font\": {\"color\": \"#2a3f5f\"}, \"geo\": {\"bgcolor\": \"white\", \"lakecolor\": \"white\", \"landcolor\": \"#E5ECF6\", \"showlakes\": true, \"showland\": true, \"subunitcolor\": \"white\"}, \"hoverlabel\": {\"align\": \"left\"}, \"hovermode\": \"closest\", \"mapbox\": {\"style\": \"light\"}, \"paper_bgcolor\": \"white\", \"plot_bgcolor\": \"#E5ECF6\", \"polar\": {\"angularaxis\": {\"gridcolor\": \"white\", \"linecolor\": \"white\", \"ticks\": \"\"}, \"bgcolor\": \"#E5ECF6\", \"radialaxis\": {\"gridcolor\": \"white\", \"linecolor\": \"white\", \"ticks\": \"\"}}, \"scene\": {\"xaxis\": {\"backgroundcolor\": \"#E5ECF6\", \"gridcolor\": \"white\", \"gridwidth\": 2, \"linecolor\": \"white\", \"showbackground\": true, \"ticks\": \"\", \"zerolinecolor\": \"white\"}, \"yaxis\": {\"backgroundcolor\": \"#E5ECF6\", \"gridcolor\": \"white\", \"gridwidth\": 2, \"linecolor\": \"white\", \"showbackground\": true, \"ticks\": \"\", \"zerolinecolor\": \"white\"}, \"zaxis\": {\"backgroundcolor\": \"#E5ECF6\", \"gridcolor\": \"white\", \"gridwidth\": 2, \"linecolor\": \"white\", \"showbackground\": true, \"ticks\": \"\", \"zerolinecolor\": \"white\"}}, \"shapedefaults\": {\"line\": {\"color\": \"#2a3f5f\"}}, \"ternary\": {\"aaxis\": {\"gridcolor\": \"white\", \"linecolor\": \"white\", \"ticks\": \"\"}, \"baxis\": {\"gridcolor\": \"white\", \"linecolor\": \"white\", \"ticks\": \"\"}, \"bgcolor\": \"#E5ECF6\", \"caxis\": {\"gridcolor\": \"white\", \"linecolor\": \"white\", \"ticks\": \"\"}}, \"title\": {\"x\": 0.05}, \"xaxis\": {\"automargin\": true, \"gridcolor\": \"white\", \"linecolor\": \"white\", \"ticks\": \"\", \"title\": {\"standoff\": 15}, \"zerolinecolor\": \"white\", \"zerolinewidth\": 2}, \"yaxis\": {\"automargin\": true, \"gridcolor\": \"white\", \"linecolor\": \"white\", \"ticks\": \"\", \"title\": {\"standoff\": 15}, \"zerolinecolor\": \"white\", \"zerolinewidth\": 2}}}, \"title\": {\"text\": \"N\\u00famero de hojas GBDT\"}, \"xaxis\": {\"title\": {\"text\": \"N\\u00famero de hojas\"}}, \"yaxis\": {\"title\": {\"text\": \"MAE\"}}},                        {\"responsive\": true}                    ).then(function(){\n",
       "                            \n",
       "var gd = document.getElementById('32bee46f-3c78-48d9-a4eb-9d3331193b14');\n",
       "var x = new MutationObserver(function (mutations, observer) {{\n",
       "        var display = window.getComputedStyle(gd).display;\n",
       "        if (!display || display === 'none') {{\n",
       "            console.log([gd, 'removed!']);\n",
       "            Plotly.purge(gd);\n",
       "            observer.disconnect();\n",
       "        }}\n",
       "}});\n",
       "\n",
       "// Listen for the removal of the full notebook cells\n",
       "var notebookContainer = gd.closest('#notebook-container');\n",
       "if (notebookContainer) {{\n",
       "    x.observe(notebookContainer, {childList: true});\n",
       "}}\n",
       "\n",
       "// Listen for the clearing of the current output cell\n",
       "var outputEl = gd.closest('.output');\n",
       "if (outputEl) {{\n",
       "    x.observe(outputEl, {childList: true});\n",
       "}}\n",
       "\n",
       "                        })                };                });            </script>        </div>"
      ]
     },
     "metadata": {},
     "output_type": "display_data"
    }
   ],
   "source": [
    "fig = go.Figure(data=go.Scatter(x = X_gbdt, y = col, mode='markers'))\n",
    "fig.update_layout(\n",
    "    title = \"Número de hojas GBDT\",\n",
    "    xaxis_title = \"Número de hojas\",\n",
    "    yaxis_title = \"MAE\")\n",
    "fig.show()"
   ]
  },
  {
   "cell_type": "code",
   "execution_count": 55,
   "metadata": {
    "collapsed": true
   },
   "outputs": [
    {
     "data": {
      "application/vnd.plotly.v1+json": {
       "config": {
        "plotlyServerURL": "https://plot.ly"
       },
       "data": [
        {
         "mode": "markers",
         "type": "scatter",
         "x": [
          27,
          295,
          258,
          281,
          293,
          115,
          207,
          119,
          181,
          211,
          40,
          34,
          201,
          184,
          121,
          240,
          264,
          286,
          226,
          179,
          164,
          224,
          66,
          35,
          275,
          129,
          144,
          89,
          61,
          112,
          190,
          268,
          143,
          67,
          26,
          185,
          162,
          50,
          34,
          299,
          90,
          264,
          90,
          289,
          221,
          86,
          172,
          70,
          137,
          10,
          261,
          67,
          19,
          153
         ],
         "y": [
          3279532.8687002966,
          3582860.565954606,
          5486701.048595117,
          4787464.964845304,
          4530857.487241028,
          5120296.587430455,
          5991436.777139471,
          4755053.378605113,
          3720814.70501702,
          4669351.6431714,
          3445835.1458946196,
          5462835.292689152,
          3380092.9699605443,
          3875571.450708518,
          5664866.730840039,
          7783529.888028995,
          3544432.621763034,
          4013860.20142296,
          5314011.544392994,
          3449277.3939459883,
          4011252.3586132457,
          4649708.328883131,
          6165530.340310355,
          8436621.858765114,
          4341617.954463067,
          5282111.900552225,
          3825240.3343780944,
          3630128.8866440863,
          3667523.088991448,
          6486202.826406964,
          5864744.177271917,
          4874634.01153995,
          5884395.074521256,
          5636383.794866825,
          5095026.383480646,
          5708155.464009307,
          6358634.921382401,
          4673386.263708385,
          4703842.839177951,
          6369860.169210909,
          3771295.0424920255,
          5293857.827024025,
          8323453.034966132,
          3927222.502797012,
          3695512.275288363,
          6380250.827701313,
          5466648.412607083,
          5425579.72654791,
          5777621.37389484,
          8051799.933446149,
          5061315.252699409,
          5360806.81461171,
          3642481.8294197386,
          3337462.904262436
         ]
        }
       ],
       "layout": {
        "template": {
         "data": {
          "bar": [
           {
            "error_x": {
             "color": "#2a3f5f"
            },
            "error_y": {
             "color": "#2a3f5f"
            },
            "marker": {
             "line": {
              "color": "#E5ECF6",
              "width": 0.5
             }
            },
            "type": "bar"
           }
          ],
          "barpolar": [
           {
            "marker": {
             "line": {
              "color": "#E5ECF6",
              "width": 0.5
             }
            },
            "type": "barpolar"
           }
          ],
          "carpet": [
           {
            "aaxis": {
             "endlinecolor": "#2a3f5f",
             "gridcolor": "white",
             "linecolor": "white",
             "minorgridcolor": "white",
             "startlinecolor": "#2a3f5f"
            },
            "baxis": {
             "endlinecolor": "#2a3f5f",
             "gridcolor": "white",
             "linecolor": "white",
             "minorgridcolor": "white",
             "startlinecolor": "#2a3f5f"
            },
            "type": "carpet"
           }
          ],
          "choropleth": [
           {
            "colorbar": {
             "outlinewidth": 0,
             "ticks": ""
            },
            "type": "choropleth"
           }
          ],
          "contour": [
           {
            "colorbar": {
             "outlinewidth": 0,
             "ticks": ""
            },
            "colorscale": [
             [
              0,
              "#0d0887"
             ],
             [
              0.1111111111111111,
              "#46039f"
             ],
             [
              0.2222222222222222,
              "#7201a8"
             ],
             [
              0.3333333333333333,
              "#9c179e"
             ],
             [
              0.4444444444444444,
              "#bd3786"
             ],
             [
              0.5555555555555556,
              "#d8576b"
             ],
             [
              0.6666666666666666,
              "#ed7953"
             ],
             [
              0.7777777777777778,
              "#fb9f3a"
             ],
             [
              0.8888888888888888,
              "#fdca26"
             ],
             [
              1,
              "#f0f921"
             ]
            ],
            "type": "contour"
           }
          ],
          "contourcarpet": [
           {
            "colorbar": {
             "outlinewidth": 0,
             "ticks": ""
            },
            "type": "contourcarpet"
           }
          ],
          "heatmap": [
           {
            "colorbar": {
             "outlinewidth": 0,
             "ticks": ""
            },
            "colorscale": [
             [
              0,
              "#0d0887"
             ],
             [
              0.1111111111111111,
              "#46039f"
             ],
             [
              0.2222222222222222,
              "#7201a8"
             ],
             [
              0.3333333333333333,
              "#9c179e"
             ],
             [
              0.4444444444444444,
              "#bd3786"
             ],
             [
              0.5555555555555556,
              "#d8576b"
             ],
             [
              0.6666666666666666,
              "#ed7953"
             ],
             [
              0.7777777777777778,
              "#fb9f3a"
             ],
             [
              0.8888888888888888,
              "#fdca26"
             ],
             [
              1,
              "#f0f921"
             ]
            ],
            "type": "heatmap"
           }
          ],
          "heatmapgl": [
           {
            "colorbar": {
             "outlinewidth": 0,
             "ticks": ""
            },
            "colorscale": [
             [
              0,
              "#0d0887"
             ],
             [
              0.1111111111111111,
              "#46039f"
             ],
             [
              0.2222222222222222,
              "#7201a8"
             ],
             [
              0.3333333333333333,
              "#9c179e"
             ],
             [
              0.4444444444444444,
              "#bd3786"
             ],
             [
              0.5555555555555556,
              "#d8576b"
             ],
             [
              0.6666666666666666,
              "#ed7953"
             ],
             [
              0.7777777777777778,
              "#fb9f3a"
             ],
             [
              0.8888888888888888,
              "#fdca26"
             ],
             [
              1,
              "#f0f921"
             ]
            ],
            "type": "heatmapgl"
           }
          ],
          "histogram": [
           {
            "marker": {
             "colorbar": {
              "outlinewidth": 0,
              "ticks": ""
             }
            },
            "type": "histogram"
           }
          ],
          "histogram2d": [
           {
            "colorbar": {
             "outlinewidth": 0,
             "ticks": ""
            },
            "colorscale": [
             [
              0,
              "#0d0887"
             ],
             [
              0.1111111111111111,
              "#46039f"
             ],
             [
              0.2222222222222222,
              "#7201a8"
             ],
             [
              0.3333333333333333,
              "#9c179e"
             ],
             [
              0.4444444444444444,
              "#bd3786"
             ],
             [
              0.5555555555555556,
              "#d8576b"
             ],
             [
              0.6666666666666666,
              "#ed7953"
             ],
             [
              0.7777777777777778,
              "#fb9f3a"
             ],
             [
              0.8888888888888888,
              "#fdca26"
             ],
             [
              1,
              "#f0f921"
             ]
            ],
            "type": "histogram2d"
           }
          ],
          "histogram2dcontour": [
           {
            "colorbar": {
             "outlinewidth": 0,
             "ticks": ""
            },
            "colorscale": [
             [
              0,
              "#0d0887"
             ],
             [
              0.1111111111111111,
              "#46039f"
             ],
             [
              0.2222222222222222,
              "#7201a8"
             ],
             [
              0.3333333333333333,
              "#9c179e"
             ],
             [
              0.4444444444444444,
              "#bd3786"
             ],
             [
              0.5555555555555556,
              "#d8576b"
             ],
             [
              0.6666666666666666,
              "#ed7953"
             ],
             [
              0.7777777777777778,
              "#fb9f3a"
             ],
             [
              0.8888888888888888,
              "#fdca26"
             ],
             [
              1,
              "#f0f921"
             ]
            ],
            "type": "histogram2dcontour"
           }
          ],
          "mesh3d": [
           {
            "colorbar": {
             "outlinewidth": 0,
             "ticks": ""
            },
            "type": "mesh3d"
           }
          ],
          "parcoords": [
           {
            "line": {
             "colorbar": {
              "outlinewidth": 0,
              "ticks": ""
             }
            },
            "type": "parcoords"
           }
          ],
          "pie": [
           {
            "automargin": true,
            "type": "pie"
           }
          ],
          "scatter": [
           {
            "marker": {
             "colorbar": {
              "outlinewidth": 0,
              "ticks": ""
             }
            },
            "type": "scatter"
           }
          ],
          "scatter3d": [
           {
            "line": {
             "colorbar": {
              "outlinewidth": 0,
              "ticks": ""
             }
            },
            "marker": {
             "colorbar": {
              "outlinewidth": 0,
              "ticks": ""
             }
            },
            "type": "scatter3d"
           }
          ],
          "scattercarpet": [
           {
            "marker": {
             "colorbar": {
              "outlinewidth": 0,
              "ticks": ""
             }
            },
            "type": "scattercarpet"
           }
          ],
          "scattergeo": [
           {
            "marker": {
             "colorbar": {
              "outlinewidth": 0,
              "ticks": ""
             }
            },
            "type": "scattergeo"
           }
          ],
          "scattergl": [
           {
            "marker": {
             "colorbar": {
              "outlinewidth": 0,
              "ticks": ""
             }
            },
            "type": "scattergl"
           }
          ],
          "scattermapbox": [
           {
            "marker": {
             "colorbar": {
              "outlinewidth": 0,
              "ticks": ""
             }
            },
            "type": "scattermapbox"
           }
          ],
          "scatterpolar": [
           {
            "marker": {
             "colorbar": {
              "outlinewidth": 0,
              "ticks": ""
             }
            },
            "type": "scatterpolar"
           }
          ],
          "scatterpolargl": [
           {
            "marker": {
             "colorbar": {
              "outlinewidth": 0,
              "ticks": ""
             }
            },
            "type": "scatterpolargl"
           }
          ],
          "scatterternary": [
           {
            "marker": {
             "colorbar": {
              "outlinewidth": 0,
              "ticks": ""
             }
            },
            "type": "scatterternary"
           }
          ],
          "surface": [
           {
            "colorbar": {
             "outlinewidth": 0,
             "ticks": ""
            },
            "colorscale": [
             [
              0,
              "#0d0887"
             ],
             [
              0.1111111111111111,
              "#46039f"
             ],
             [
              0.2222222222222222,
              "#7201a8"
             ],
             [
              0.3333333333333333,
              "#9c179e"
             ],
             [
              0.4444444444444444,
              "#bd3786"
             ],
             [
              0.5555555555555556,
              "#d8576b"
             ],
             [
              0.6666666666666666,
              "#ed7953"
             ],
             [
              0.7777777777777778,
              "#fb9f3a"
             ],
             [
              0.8888888888888888,
              "#fdca26"
             ],
             [
              1,
              "#f0f921"
             ]
            ],
            "type": "surface"
           }
          ],
          "table": [
           {
            "cells": {
             "fill": {
              "color": "#EBF0F8"
             },
             "line": {
              "color": "white"
             }
            },
            "header": {
             "fill": {
              "color": "#C8D4E3"
             },
             "line": {
              "color": "white"
             }
            },
            "type": "table"
           }
          ]
         },
         "layout": {
          "annotationdefaults": {
           "arrowcolor": "#2a3f5f",
           "arrowhead": 0,
           "arrowwidth": 1
          },
          "coloraxis": {
           "colorbar": {
            "outlinewidth": 0,
            "ticks": ""
           }
          },
          "colorscale": {
           "diverging": [
            [
             0,
             "#8e0152"
            ],
            [
             0.1,
             "#c51b7d"
            ],
            [
             0.2,
             "#de77ae"
            ],
            [
             0.3,
             "#f1b6da"
            ],
            [
             0.4,
             "#fde0ef"
            ],
            [
             0.5,
             "#f7f7f7"
            ],
            [
             0.6,
             "#e6f5d0"
            ],
            [
             0.7,
             "#b8e186"
            ],
            [
             0.8,
             "#7fbc41"
            ],
            [
             0.9,
             "#4d9221"
            ],
            [
             1,
             "#276419"
            ]
           ],
           "sequential": [
            [
             0,
             "#0d0887"
            ],
            [
             0.1111111111111111,
             "#46039f"
            ],
            [
             0.2222222222222222,
             "#7201a8"
            ],
            [
             0.3333333333333333,
             "#9c179e"
            ],
            [
             0.4444444444444444,
             "#bd3786"
            ],
            [
             0.5555555555555556,
             "#d8576b"
            ],
            [
             0.6666666666666666,
             "#ed7953"
            ],
            [
             0.7777777777777778,
             "#fb9f3a"
            ],
            [
             0.8888888888888888,
             "#fdca26"
            ],
            [
             1,
             "#f0f921"
            ]
           ],
           "sequentialminus": [
            [
             0,
             "#0d0887"
            ],
            [
             0.1111111111111111,
             "#46039f"
            ],
            [
             0.2222222222222222,
             "#7201a8"
            ],
            [
             0.3333333333333333,
             "#9c179e"
            ],
            [
             0.4444444444444444,
             "#bd3786"
            ],
            [
             0.5555555555555556,
             "#d8576b"
            ],
            [
             0.6666666666666666,
             "#ed7953"
            ],
            [
             0.7777777777777778,
             "#fb9f3a"
            ],
            [
             0.8888888888888888,
             "#fdca26"
            ],
            [
             1,
             "#f0f921"
            ]
           ]
          },
          "colorway": [
           "#636efa",
           "#EF553B",
           "#00cc96",
           "#ab63fa",
           "#FFA15A",
           "#19d3f3",
           "#FF6692",
           "#B6E880",
           "#FF97FF",
           "#FECB52"
          ],
          "font": {
           "color": "#2a3f5f"
          },
          "geo": {
           "bgcolor": "white",
           "lakecolor": "white",
           "landcolor": "#E5ECF6",
           "showlakes": true,
           "showland": true,
           "subunitcolor": "white"
          },
          "hoverlabel": {
           "align": "left"
          },
          "hovermode": "closest",
          "mapbox": {
           "style": "light"
          },
          "paper_bgcolor": "white",
          "plot_bgcolor": "#E5ECF6",
          "polar": {
           "angularaxis": {
            "gridcolor": "white",
            "linecolor": "white",
            "ticks": ""
           },
           "bgcolor": "#E5ECF6",
           "radialaxis": {
            "gridcolor": "white",
            "linecolor": "white",
            "ticks": ""
           }
          },
          "scene": {
           "xaxis": {
            "backgroundcolor": "#E5ECF6",
            "gridcolor": "white",
            "gridwidth": 2,
            "linecolor": "white",
            "showbackground": true,
            "ticks": "",
            "zerolinecolor": "white"
           },
           "yaxis": {
            "backgroundcolor": "#E5ECF6",
            "gridcolor": "white",
            "gridwidth": 2,
            "linecolor": "white",
            "showbackground": true,
            "ticks": "",
            "zerolinecolor": "white"
           },
           "zaxis": {
            "backgroundcolor": "#E5ECF6",
            "gridcolor": "white",
            "gridwidth": 2,
            "linecolor": "white",
            "showbackground": true,
            "ticks": "",
            "zerolinecolor": "white"
           }
          },
          "shapedefaults": {
           "line": {
            "color": "#2a3f5f"
           }
          },
          "ternary": {
           "aaxis": {
            "gridcolor": "white",
            "linecolor": "white",
            "ticks": ""
           },
           "baxis": {
            "gridcolor": "white",
            "linecolor": "white",
            "ticks": ""
           },
           "bgcolor": "#E5ECF6",
           "caxis": {
            "gridcolor": "white",
            "linecolor": "white",
            "ticks": ""
           }
          },
          "title": {
           "x": 0.05
          },
          "xaxis": {
           "automargin": true,
           "gridcolor": "white",
           "linecolor": "white",
           "ticks": "",
           "title": {
            "standoff": 15
           },
           "zerolinecolor": "white",
           "zerolinewidth": 2
          },
          "yaxis": {
           "automargin": true,
           "gridcolor": "white",
           "linecolor": "white",
           "ticks": "",
           "title": {
            "standoff": 15
           },
           "zerolinecolor": "white",
           "zerolinewidth": 2
          }
         }
        },
        "title": {
         "text": "min_data GBDT"
        },
        "xaxis": {
         "title": {
          "text": "min_data"
         }
        },
        "yaxis": {
         "title": {
          "text": "MAE"
         }
        }
       }
      },
      "text/html": [
       "<div>                            <div id=\"d966bfc7-8cfd-48a7-9b9b-8fc4894077fa\" class=\"plotly-graph-div\" style=\"height:525px; width:100%;\"></div>            <script type=\"text/javascript\">                require([\"plotly\"], function(Plotly) {                    window.PLOTLYENV=window.PLOTLYENV || {};                                    if (document.getElementById(\"d966bfc7-8cfd-48a7-9b9b-8fc4894077fa\")) {                    Plotly.newPlot(                        \"d966bfc7-8cfd-48a7-9b9b-8fc4894077fa\",                        [{\"mode\": \"markers\", \"type\": \"scatter\", \"x\": [27, 295, 258, 281, 293, 115, 207, 119, 181, 211, 40, 34, 201, 184, 121, 240, 264, 286, 226, 179, 164, 224, 66, 35, 275, 129, 144, 89, 61, 112, 190, 268, 143, 67, 26, 185, 162, 50, 34, 299, 90, 264, 90, 289, 221, 86, 172, 70, 137, 10, 261, 67, 19, 153], \"y\": [3279532.8687002966, 3582860.565954606, 5486701.048595117, 4787464.964845304, 4530857.487241028, 5120296.587430455, 5991436.777139471, 4755053.378605113, 3720814.70501702, 4669351.6431714, 3445835.1458946196, 5462835.292689152, 3380092.9699605443, 3875571.450708518, 5664866.730840039, 7783529.888028995, 3544432.621763034, 4013860.20142296, 5314011.544392994, 3449277.3939459883, 4011252.3586132457, 4649708.328883131, 6165530.340310355, 8436621.858765114, 4341617.954463067, 5282111.900552225, 3825240.3343780944, 3630128.8866440863, 3667523.088991448, 6486202.826406964, 5864744.177271917, 4874634.01153995, 5884395.074521256, 5636383.794866825, 5095026.383480646, 5708155.464009307, 6358634.921382401, 4673386.263708385, 4703842.839177951, 6369860.169210909, 3771295.0424920255, 5293857.827024025, 8323453.034966132, 3927222.502797012, 3695512.275288363, 6380250.827701313, 5466648.412607083, 5425579.72654791, 5777621.37389484, 8051799.933446149, 5061315.252699409, 5360806.81461171, 3642481.8294197386, 3337462.904262436]}],                        {\"template\": {\"data\": {\"bar\": [{\"error_x\": {\"color\": \"#2a3f5f\"}, \"error_y\": {\"color\": \"#2a3f5f\"}, \"marker\": {\"line\": {\"color\": \"#E5ECF6\", \"width\": 0.5}}, \"type\": \"bar\"}], \"barpolar\": [{\"marker\": {\"line\": {\"color\": \"#E5ECF6\", \"width\": 0.5}}, \"type\": \"barpolar\"}], \"carpet\": [{\"aaxis\": {\"endlinecolor\": \"#2a3f5f\", \"gridcolor\": \"white\", \"linecolor\": \"white\", \"minorgridcolor\": \"white\", \"startlinecolor\": \"#2a3f5f\"}, \"baxis\": {\"endlinecolor\": \"#2a3f5f\", \"gridcolor\": \"white\", \"linecolor\": \"white\", \"minorgridcolor\": \"white\", \"startlinecolor\": \"#2a3f5f\"}, \"type\": \"carpet\"}], \"choropleth\": [{\"colorbar\": {\"outlinewidth\": 0, \"ticks\": \"\"}, \"type\": \"choropleth\"}], \"contour\": [{\"colorbar\": {\"outlinewidth\": 0, \"ticks\": \"\"}, \"colorscale\": [[0.0, \"#0d0887\"], [0.1111111111111111, \"#46039f\"], [0.2222222222222222, \"#7201a8\"], [0.3333333333333333, \"#9c179e\"], [0.4444444444444444, \"#bd3786\"], [0.5555555555555556, \"#d8576b\"], [0.6666666666666666, \"#ed7953\"], [0.7777777777777778, \"#fb9f3a\"], [0.8888888888888888, \"#fdca26\"], [1.0, \"#f0f921\"]], \"type\": \"contour\"}], \"contourcarpet\": [{\"colorbar\": {\"outlinewidth\": 0, \"ticks\": \"\"}, \"type\": \"contourcarpet\"}], \"heatmap\": [{\"colorbar\": {\"outlinewidth\": 0, \"ticks\": \"\"}, \"colorscale\": [[0.0, \"#0d0887\"], [0.1111111111111111, \"#46039f\"], [0.2222222222222222, \"#7201a8\"], [0.3333333333333333, \"#9c179e\"], [0.4444444444444444, \"#bd3786\"], [0.5555555555555556, \"#d8576b\"], [0.6666666666666666, \"#ed7953\"], [0.7777777777777778, \"#fb9f3a\"], [0.8888888888888888, \"#fdca26\"], [1.0, \"#f0f921\"]], \"type\": \"heatmap\"}], \"heatmapgl\": [{\"colorbar\": {\"outlinewidth\": 0, \"ticks\": \"\"}, \"colorscale\": [[0.0, \"#0d0887\"], [0.1111111111111111, \"#46039f\"], [0.2222222222222222, \"#7201a8\"], [0.3333333333333333, \"#9c179e\"], [0.4444444444444444, \"#bd3786\"], [0.5555555555555556, \"#d8576b\"], [0.6666666666666666, \"#ed7953\"], [0.7777777777777778, \"#fb9f3a\"], [0.8888888888888888, \"#fdca26\"], [1.0, \"#f0f921\"]], \"type\": \"heatmapgl\"}], \"histogram\": [{\"marker\": {\"colorbar\": {\"outlinewidth\": 0, \"ticks\": \"\"}}, \"type\": \"histogram\"}], \"histogram2d\": [{\"colorbar\": {\"outlinewidth\": 0, \"ticks\": \"\"}, \"colorscale\": [[0.0, \"#0d0887\"], [0.1111111111111111, \"#46039f\"], [0.2222222222222222, \"#7201a8\"], [0.3333333333333333, \"#9c179e\"], [0.4444444444444444, \"#bd3786\"], [0.5555555555555556, \"#d8576b\"], [0.6666666666666666, \"#ed7953\"], [0.7777777777777778, \"#fb9f3a\"], [0.8888888888888888, \"#fdca26\"], [1.0, \"#f0f921\"]], \"type\": \"histogram2d\"}], \"histogram2dcontour\": [{\"colorbar\": {\"outlinewidth\": 0, \"ticks\": \"\"}, \"colorscale\": [[0.0, \"#0d0887\"], [0.1111111111111111, \"#46039f\"], [0.2222222222222222, \"#7201a8\"], [0.3333333333333333, \"#9c179e\"], [0.4444444444444444, \"#bd3786\"], [0.5555555555555556, \"#d8576b\"], [0.6666666666666666, \"#ed7953\"], [0.7777777777777778, \"#fb9f3a\"], [0.8888888888888888, \"#fdca26\"], [1.0, \"#f0f921\"]], \"type\": \"histogram2dcontour\"}], \"mesh3d\": [{\"colorbar\": {\"outlinewidth\": 0, \"ticks\": \"\"}, \"type\": \"mesh3d\"}], \"parcoords\": [{\"line\": {\"colorbar\": {\"outlinewidth\": 0, \"ticks\": \"\"}}, \"type\": \"parcoords\"}], \"pie\": [{\"automargin\": true, \"type\": \"pie\"}], \"scatter\": [{\"marker\": {\"colorbar\": {\"outlinewidth\": 0, \"ticks\": \"\"}}, \"type\": \"scatter\"}], \"scatter3d\": [{\"line\": {\"colorbar\": {\"outlinewidth\": 0, \"ticks\": \"\"}}, \"marker\": {\"colorbar\": {\"outlinewidth\": 0, \"ticks\": \"\"}}, \"type\": \"scatter3d\"}], \"scattercarpet\": [{\"marker\": {\"colorbar\": {\"outlinewidth\": 0, \"ticks\": \"\"}}, \"type\": \"scattercarpet\"}], \"scattergeo\": [{\"marker\": {\"colorbar\": {\"outlinewidth\": 0, \"ticks\": \"\"}}, \"type\": \"scattergeo\"}], \"scattergl\": [{\"marker\": {\"colorbar\": {\"outlinewidth\": 0, \"ticks\": \"\"}}, \"type\": \"scattergl\"}], \"scattermapbox\": [{\"marker\": {\"colorbar\": {\"outlinewidth\": 0, \"ticks\": \"\"}}, \"type\": \"scattermapbox\"}], \"scatterpolar\": [{\"marker\": {\"colorbar\": {\"outlinewidth\": 0, \"ticks\": \"\"}}, \"type\": \"scatterpolar\"}], \"scatterpolargl\": [{\"marker\": {\"colorbar\": {\"outlinewidth\": 0, \"ticks\": \"\"}}, \"type\": \"scatterpolargl\"}], \"scatterternary\": [{\"marker\": {\"colorbar\": {\"outlinewidth\": 0, \"ticks\": \"\"}}, \"type\": \"scatterternary\"}], \"surface\": [{\"colorbar\": {\"outlinewidth\": 0, \"ticks\": \"\"}, \"colorscale\": [[0.0, \"#0d0887\"], [0.1111111111111111, \"#46039f\"], [0.2222222222222222, \"#7201a8\"], [0.3333333333333333, \"#9c179e\"], [0.4444444444444444, \"#bd3786\"], [0.5555555555555556, \"#d8576b\"], [0.6666666666666666, \"#ed7953\"], [0.7777777777777778, \"#fb9f3a\"], [0.8888888888888888, \"#fdca26\"], [1.0, \"#f0f921\"]], \"type\": \"surface\"}], \"table\": [{\"cells\": {\"fill\": {\"color\": \"#EBF0F8\"}, \"line\": {\"color\": \"white\"}}, \"header\": {\"fill\": {\"color\": \"#C8D4E3\"}, \"line\": {\"color\": \"white\"}}, \"type\": \"table\"}]}, \"layout\": {\"annotationdefaults\": {\"arrowcolor\": \"#2a3f5f\", \"arrowhead\": 0, \"arrowwidth\": 1}, \"coloraxis\": {\"colorbar\": {\"outlinewidth\": 0, \"ticks\": \"\"}}, \"colorscale\": {\"diverging\": [[0, \"#8e0152\"], [0.1, \"#c51b7d\"], [0.2, \"#de77ae\"], [0.3, \"#f1b6da\"], [0.4, \"#fde0ef\"], [0.5, \"#f7f7f7\"], [0.6, \"#e6f5d0\"], [0.7, \"#b8e186\"], [0.8, \"#7fbc41\"], [0.9, \"#4d9221\"], [1, \"#276419\"]], \"sequential\": [[0.0, \"#0d0887\"], [0.1111111111111111, \"#46039f\"], [0.2222222222222222, \"#7201a8\"], [0.3333333333333333, \"#9c179e\"], [0.4444444444444444, \"#bd3786\"], [0.5555555555555556, \"#d8576b\"], [0.6666666666666666, \"#ed7953\"], [0.7777777777777778, \"#fb9f3a\"], [0.8888888888888888, \"#fdca26\"], [1.0, \"#f0f921\"]], \"sequentialminus\": [[0.0, \"#0d0887\"], [0.1111111111111111, \"#46039f\"], [0.2222222222222222, \"#7201a8\"], [0.3333333333333333, \"#9c179e\"], [0.4444444444444444, \"#bd3786\"], [0.5555555555555556, \"#d8576b\"], [0.6666666666666666, \"#ed7953\"], [0.7777777777777778, \"#fb9f3a\"], [0.8888888888888888, \"#fdca26\"], [1.0, \"#f0f921\"]]}, \"colorway\": [\"#636efa\", \"#EF553B\", \"#00cc96\", \"#ab63fa\", \"#FFA15A\", \"#19d3f3\", \"#FF6692\", \"#B6E880\", \"#FF97FF\", \"#FECB52\"], \"font\": {\"color\": \"#2a3f5f\"}, \"geo\": {\"bgcolor\": \"white\", \"lakecolor\": \"white\", \"landcolor\": \"#E5ECF6\", \"showlakes\": true, \"showland\": true, \"subunitcolor\": \"white\"}, \"hoverlabel\": {\"align\": \"left\"}, \"hovermode\": \"closest\", \"mapbox\": {\"style\": \"light\"}, \"paper_bgcolor\": \"white\", \"plot_bgcolor\": \"#E5ECF6\", \"polar\": {\"angularaxis\": {\"gridcolor\": \"white\", \"linecolor\": \"white\", \"ticks\": \"\"}, \"bgcolor\": \"#E5ECF6\", \"radialaxis\": {\"gridcolor\": \"white\", \"linecolor\": \"white\", \"ticks\": \"\"}}, \"scene\": {\"xaxis\": {\"backgroundcolor\": \"#E5ECF6\", \"gridcolor\": \"white\", \"gridwidth\": 2, \"linecolor\": \"white\", \"showbackground\": true, \"ticks\": \"\", \"zerolinecolor\": \"white\"}, \"yaxis\": {\"backgroundcolor\": \"#E5ECF6\", \"gridcolor\": \"white\", \"gridwidth\": 2, \"linecolor\": \"white\", \"showbackground\": true, \"ticks\": \"\", \"zerolinecolor\": \"white\"}, \"zaxis\": {\"backgroundcolor\": \"#E5ECF6\", \"gridcolor\": \"white\", \"gridwidth\": 2, \"linecolor\": \"white\", \"showbackground\": true, \"ticks\": \"\", \"zerolinecolor\": \"white\"}}, \"shapedefaults\": {\"line\": {\"color\": \"#2a3f5f\"}}, \"ternary\": {\"aaxis\": {\"gridcolor\": \"white\", \"linecolor\": \"white\", \"ticks\": \"\"}, \"baxis\": {\"gridcolor\": \"white\", \"linecolor\": \"white\", \"ticks\": \"\"}, \"bgcolor\": \"#E5ECF6\", \"caxis\": {\"gridcolor\": \"white\", \"linecolor\": \"white\", \"ticks\": \"\"}}, \"title\": {\"x\": 0.05}, \"xaxis\": {\"automargin\": true, \"gridcolor\": \"white\", \"linecolor\": \"white\", \"ticks\": \"\", \"title\": {\"standoff\": 15}, \"zerolinecolor\": \"white\", \"zerolinewidth\": 2}, \"yaxis\": {\"automargin\": true, \"gridcolor\": \"white\", \"linecolor\": \"white\", \"ticks\": \"\", \"title\": {\"standoff\": 15}, \"zerolinecolor\": \"white\", \"zerolinewidth\": 2}}}, \"title\": {\"text\": \"min_data GBDT\"}, \"xaxis\": {\"title\": {\"text\": \"min_data\"}}, \"yaxis\": {\"title\": {\"text\": \"MAE\"}}},                        {\"responsive\": true}                    ).then(function(){\n",
       "                            \n",
       "var gd = document.getElementById('d966bfc7-8cfd-48a7-9b9b-8fc4894077fa');\n",
       "var x = new MutationObserver(function (mutations, observer) {{\n",
       "        var display = window.getComputedStyle(gd).display;\n",
       "        if (!display || display === 'none') {{\n",
       "            console.log([gd, 'removed!']);\n",
       "            Plotly.purge(gd);\n",
       "            observer.disconnect();\n",
       "        }}\n",
       "}});\n",
       "\n",
       "// Listen for the removal of the full notebook cells\n",
       "var notebookContainer = gd.closest('#notebook-container');\n",
       "if (notebookContainer) {{\n",
       "    x.observe(notebookContainer, {childList: true});\n",
       "}}\n",
       "\n",
       "// Listen for the clearing of the current output cell\n",
       "var outputEl = gd.closest('.output');\n",
       "if (outputEl) {{\n",
       "    x.observe(outputEl, {childList: true});\n",
       "}}\n",
       "\n",
       "                        })                };                });            </script>        </div>"
      ]
     },
     "metadata": {},
     "output_type": "display_data"
    }
   ],
   "source": [
    "fig = go.Figure(data=go.Scatter(x = Y_gbdt, y = col, mode='markers'))\n",
    "fig.update_layout(\n",
    "    title = \"min_data GBDT\",\n",
    "    xaxis_title = \"min_data\",\n",
    "    yaxis_title = \"MAE\")\n",
    "fig.show()"
   ]
  },
  {
   "cell_type": "code",
   "execution_count": 56,
   "metadata": {
    "collapsed": true
   },
   "outputs": [
    {
     "data": {
      "application/vnd.plotly.v1+json": {
       "config": {
        "plotlyServerURL": "https://plot.ly"
       },
       "data": [
        {
         "mode": "markers",
         "type": "scatter",
         "x": [
          257,
          62,
          206,
          243,
          157,
          92,
          231,
          85,
          263,
          121,
          55,
          238,
          201,
          7,
          20,
          118,
          16,
          142,
          145,
          217,
          262,
          208,
          283,
          156,
          44,
          38,
          275,
          247,
          53,
          157,
          197,
          186,
          153,
          107,
          221,
          270,
          110,
          40,
          214,
          7,
          42,
          176,
          63,
          280,
          209,
          101,
          137,
          214,
          52,
          245,
          147,
          172,
          30,
          72
         ],
         "y": [
          3279532.8687002966,
          3582860.565954606,
          5486701.048595117,
          4787464.964845304,
          4530857.487241028,
          5120296.587430455,
          5991436.777139471,
          4755053.378605113,
          3720814.70501702,
          4669351.6431714,
          3445835.1458946196,
          5462835.292689152,
          3380092.9699605443,
          3875571.450708518,
          5664866.730840039,
          7783529.888028995,
          3544432.621763034,
          4013860.20142296,
          5314011.544392994,
          3449277.3939459883,
          4011252.3586132457,
          4649708.328883131,
          6165530.340310355,
          8436621.858765114,
          4341617.954463067,
          5282111.900552225,
          3825240.3343780944,
          3630128.8866440863,
          3667523.088991448,
          6486202.826406964,
          5864744.177271917,
          4874634.01153995,
          5884395.074521256,
          5636383.794866825,
          5095026.383480646,
          5708155.464009307,
          6358634.921382401,
          4673386.263708385,
          4703842.839177951,
          6369860.169210909,
          3771295.0424920255,
          5293857.827024025,
          8323453.034966132,
          3927222.502797012,
          3695512.275288363,
          6380250.827701313,
          5466648.412607083,
          5425579.72654791,
          5777621.37389484,
          8051799.933446149,
          5061315.252699409,
          5360806.81461171,
          3642481.8294197386,
          3337462.904262436
         ]
        }
       ],
       "layout": {
        "template": {
         "data": {
          "bar": [
           {
            "error_x": {
             "color": "#2a3f5f"
            },
            "error_y": {
             "color": "#2a3f5f"
            },
            "marker": {
             "line": {
              "color": "#E5ECF6",
              "width": 0.5
             }
            },
            "type": "bar"
           }
          ],
          "barpolar": [
           {
            "marker": {
             "line": {
              "color": "#E5ECF6",
              "width": 0.5
             }
            },
            "type": "barpolar"
           }
          ],
          "carpet": [
           {
            "aaxis": {
             "endlinecolor": "#2a3f5f",
             "gridcolor": "white",
             "linecolor": "white",
             "minorgridcolor": "white",
             "startlinecolor": "#2a3f5f"
            },
            "baxis": {
             "endlinecolor": "#2a3f5f",
             "gridcolor": "white",
             "linecolor": "white",
             "minorgridcolor": "white",
             "startlinecolor": "#2a3f5f"
            },
            "type": "carpet"
           }
          ],
          "choropleth": [
           {
            "colorbar": {
             "outlinewidth": 0,
             "ticks": ""
            },
            "type": "choropleth"
           }
          ],
          "contour": [
           {
            "colorbar": {
             "outlinewidth": 0,
             "ticks": ""
            },
            "colorscale": [
             [
              0,
              "#0d0887"
             ],
             [
              0.1111111111111111,
              "#46039f"
             ],
             [
              0.2222222222222222,
              "#7201a8"
             ],
             [
              0.3333333333333333,
              "#9c179e"
             ],
             [
              0.4444444444444444,
              "#bd3786"
             ],
             [
              0.5555555555555556,
              "#d8576b"
             ],
             [
              0.6666666666666666,
              "#ed7953"
             ],
             [
              0.7777777777777778,
              "#fb9f3a"
             ],
             [
              0.8888888888888888,
              "#fdca26"
             ],
             [
              1,
              "#f0f921"
             ]
            ],
            "type": "contour"
           }
          ],
          "contourcarpet": [
           {
            "colorbar": {
             "outlinewidth": 0,
             "ticks": ""
            },
            "type": "contourcarpet"
           }
          ],
          "heatmap": [
           {
            "colorbar": {
             "outlinewidth": 0,
             "ticks": ""
            },
            "colorscale": [
             [
              0,
              "#0d0887"
             ],
             [
              0.1111111111111111,
              "#46039f"
             ],
             [
              0.2222222222222222,
              "#7201a8"
             ],
             [
              0.3333333333333333,
              "#9c179e"
             ],
             [
              0.4444444444444444,
              "#bd3786"
             ],
             [
              0.5555555555555556,
              "#d8576b"
             ],
             [
              0.6666666666666666,
              "#ed7953"
             ],
             [
              0.7777777777777778,
              "#fb9f3a"
             ],
             [
              0.8888888888888888,
              "#fdca26"
             ],
             [
              1,
              "#f0f921"
             ]
            ],
            "type": "heatmap"
           }
          ],
          "heatmapgl": [
           {
            "colorbar": {
             "outlinewidth": 0,
             "ticks": ""
            },
            "colorscale": [
             [
              0,
              "#0d0887"
             ],
             [
              0.1111111111111111,
              "#46039f"
             ],
             [
              0.2222222222222222,
              "#7201a8"
             ],
             [
              0.3333333333333333,
              "#9c179e"
             ],
             [
              0.4444444444444444,
              "#bd3786"
             ],
             [
              0.5555555555555556,
              "#d8576b"
             ],
             [
              0.6666666666666666,
              "#ed7953"
             ],
             [
              0.7777777777777778,
              "#fb9f3a"
             ],
             [
              0.8888888888888888,
              "#fdca26"
             ],
             [
              1,
              "#f0f921"
             ]
            ],
            "type": "heatmapgl"
           }
          ],
          "histogram": [
           {
            "marker": {
             "colorbar": {
              "outlinewidth": 0,
              "ticks": ""
             }
            },
            "type": "histogram"
           }
          ],
          "histogram2d": [
           {
            "colorbar": {
             "outlinewidth": 0,
             "ticks": ""
            },
            "colorscale": [
             [
              0,
              "#0d0887"
             ],
             [
              0.1111111111111111,
              "#46039f"
             ],
             [
              0.2222222222222222,
              "#7201a8"
             ],
             [
              0.3333333333333333,
              "#9c179e"
             ],
             [
              0.4444444444444444,
              "#bd3786"
             ],
             [
              0.5555555555555556,
              "#d8576b"
             ],
             [
              0.6666666666666666,
              "#ed7953"
             ],
             [
              0.7777777777777778,
              "#fb9f3a"
             ],
             [
              0.8888888888888888,
              "#fdca26"
             ],
             [
              1,
              "#f0f921"
             ]
            ],
            "type": "histogram2d"
           }
          ],
          "histogram2dcontour": [
           {
            "colorbar": {
             "outlinewidth": 0,
             "ticks": ""
            },
            "colorscale": [
             [
              0,
              "#0d0887"
             ],
             [
              0.1111111111111111,
              "#46039f"
             ],
             [
              0.2222222222222222,
              "#7201a8"
             ],
             [
              0.3333333333333333,
              "#9c179e"
             ],
             [
              0.4444444444444444,
              "#bd3786"
             ],
             [
              0.5555555555555556,
              "#d8576b"
             ],
             [
              0.6666666666666666,
              "#ed7953"
             ],
             [
              0.7777777777777778,
              "#fb9f3a"
             ],
             [
              0.8888888888888888,
              "#fdca26"
             ],
             [
              1,
              "#f0f921"
             ]
            ],
            "type": "histogram2dcontour"
           }
          ],
          "mesh3d": [
           {
            "colorbar": {
             "outlinewidth": 0,
             "ticks": ""
            },
            "type": "mesh3d"
           }
          ],
          "parcoords": [
           {
            "line": {
             "colorbar": {
              "outlinewidth": 0,
              "ticks": ""
             }
            },
            "type": "parcoords"
           }
          ],
          "pie": [
           {
            "automargin": true,
            "type": "pie"
           }
          ],
          "scatter": [
           {
            "marker": {
             "colorbar": {
              "outlinewidth": 0,
              "ticks": ""
             }
            },
            "type": "scatter"
           }
          ],
          "scatter3d": [
           {
            "line": {
             "colorbar": {
              "outlinewidth": 0,
              "ticks": ""
             }
            },
            "marker": {
             "colorbar": {
              "outlinewidth": 0,
              "ticks": ""
             }
            },
            "type": "scatter3d"
           }
          ],
          "scattercarpet": [
           {
            "marker": {
             "colorbar": {
              "outlinewidth": 0,
              "ticks": ""
             }
            },
            "type": "scattercarpet"
           }
          ],
          "scattergeo": [
           {
            "marker": {
             "colorbar": {
              "outlinewidth": 0,
              "ticks": ""
             }
            },
            "type": "scattergeo"
           }
          ],
          "scattergl": [
           {
            "marker": {
             "colorbar": {
              "outlinewidth": 0,
              "ticks": ""
             }
            },
            "type": "scattergl"
           }
          ],
          "scattermapbox": [
           {
            "marker": {
             "colorbar": {
              "outlinewidth": 0,
              "ticks": ""
             }
            },
            "type": "scattermapbox"
           }
          ],
          "scatterpolar": [
           {
            "marker": {
             "colorbar": {
              "outlinewidth": 0,
              "ticks": ""
             }
            },
            "type": "scatterpolar"
           }
          ],
          "scatterpolargl": [
           {
            "marker": {
             "colorbar": {
              "outlinewidth": 0,
              "ticks": ""
             }
            },
            "type": "scatterpolargl"
           }
          ],
          "scatterternary": [
           {
            "marker": {
             "colorbar": {
              "outlinewidth": 0,
              "ticks": ""
             }
            },
            "type": "scatterternary"
           }
          ],
          "surface": [
           {
            "colorbar": {
             "outlinewidth": 0,
             "ticks": ""
            },
            "colorscale": [
             [
              0,
              "#0d0887"
             ],
             [
              0.1111111111111111,
              "#46039f"
             ],
             [
              0.2222222222222222,
              "#7201a8"
             ],
             [
              0.3333333333333333,
              "#9c179e"
             ],
             [
              0.4444444444444444,
              "#bd3786"
             ],
             [
              0.5555555555555556,
              "#d8576b"
             ],
             [
              0.6666666666666666,
              "#ed7953"
             ],
             [
              0.7777777777777778,
              "#fb9f3a"
             ],
             [
              0.8888888888888888,
              "#fdca26"
             ],
             [
              1,
              "#f0f921"
             ]
            ],
            "type": "surface"
           }
          ],
          "table": [
           {
            "cells": {
             "fill": {
              "color": "#EBF0F8"
             },
             "line": {
              "color": "white"
             }
            },
            "header": {
             "fill": {
              "color": "#C8D4E3"
             },
             "line": {
              "color": "white"
             }
            },
            "type": "table"
           }
          ]
         },
         "layout": {
          "annotationdefaults": {
           "arrowcolor": "#2a3f5f",
           "arrowhead": 0,
           "arrowwidth": 1
          },
          "coloraxis": {
           "colorbar": {
            "outlinewidth": 0,
            "ticks": ""
           }
          },
          "colorscale": {
           "diverging": [
            [
             0,
             "#8e0152"
            ],
            [
             0.1,
             "#c51b7d"
            ],
            [
             0.2,
             "#de77ae"
            ],
            [
             0.3,
             "#f1b6da"
            ],
            [
             0.4,
             "#fde0ef"
            ],
            [
             0.5,
             "#f7f7f7"
            ],
            [
             0.6,
             "#e6f5d0"
            ],
            [
             0.7,
             "#b8e186"
            ],
            [
             0.8,
             "#7fbc41"
            ],
            [
             0.9,
             "#4d9221"
            ],
            [
             1,
             "#276419"
            ]
           ],
           "sequential": [
            [
             0,
             "#0d0887"
            ],
            [
             0.1111111111111111,
             "#46039f"
            ],
            [
             0.2222222222222222,
             "#7201a8"
            ],
            [
             0.3333333333333333,
             "#9c179e"
            ],
            [
             0.4444444444444444,
             "#bd3786"
            ],
            [
             0.5555555555555556,
             "#d8576b"
            ],
            [
             0.6666666666666666,
             "#ed7953"
            ],
            [
             0.7777777777777778,
             "#fb9f3a"
            ],
            [
             0.8888888888888888,
             "#fdca26"
            ],
            [
             1,
             "#f0f921"
            ]
           ],
           "sequentialminus": [
            [
             0,
             "#0d0887"
            ],
            [
             0.1111111111111111,
             "#46039f"
            ],
            [
             0.2222222222222222,
             "#7201a8"
            ],
            [
             0.3333333333333333,
             "#9c179e"
            ],
            [
             0.4444444444444444,
             "#bd3786"
            ],
            [
             0.5555555555555556,
             "#d8576b"
            ],
            [
             0.6666666666666666,
             "#ed7953"
            ],
            [
             0.7777777777777778,
             "#fb9f3a"
            ],
            [
             0.8888888888888888,
             "#fdca26"
            ],
            [
             1,
             "#f0f921"
            ]
           ]
          },
          "colorway": [
           "#636efa",
           "#EF553B",
           "#00cc96",
           "#ab63fa",
           "#FFA15A",
           "#19d3f3",
           "#FF6692",
           "#B6E880",
           "#FF97FF",
           "#FECB52"
          ],
          "font": {
           "color": "#2a3f5f"
          },
          "geo": {
           "bgcolor": "white",
           "lakecolor": "white",
           "landcolor": "#E5ECF6",
           "showlakes": true,
           "showland": true,
           "subunitcolor": "white"
          },
          "hoverlabel": {
           "align": "left"
          },
          "hovermode": "closest",
          "mapbox": {
           "style": "light"
          },
          "paper_bgcolor": "white",
          "plot_bgcolor": "#E5ECF6",
          "polar": {
           "angularaxis": {
            "gridcolor": "white",
            "linecolor": "white",
            "ticks": ""
           },
           "bgcolor": "#E5ECF6",
           "radialaxis": {
            "gridcolor": "white",
            "linecolor": "white",
            "ticks": ""
           }
          },
          "scene": {
           "xaxis": {
            "backgroundcolor": "#E5ECF6",
            "gridcolor": "white",
            "gridwidth": 2,
            "linecolor": "white",
            "showbackground": true,
            "ticks": "",
            "zerolinecolor": "white"
           },
           "yaxis": {
            "backgroundcolor": "#E5ECF6",
            "gridcolor": "white",
            "gridwidth": 2,
            "linecolor": "white",
            "showbackground": true,
            "ticks": "",
            "zerolinecolor": "white"
           },
           "zaxis": {
            "backgroundcolor": "#E5ECF6",
            "gridcolor": "white",
            "gridwidth": 2,
            "linecolor": "white",
            "showbackground": true,
            "ticks": "",
            "zerolinecolor": "white"
           }
          },
          "shapedefaults": {
           "line": {
            "color": "#2a3f5f"
           }
          },
          "ternary": {
           "aaxis": {
            "gridcolor": "white",
            "linecolor": "white",
            "ticks": ""
           },
           "baxis": {
            "gridcolor": "white",
            "linecolor": "white",
            "ticks": ""
           },
           "bgcolor": "#E5ECF6",
           "caxis": {
            "gridcolor": "white",
            "linecolor": "white",
            "ticks": ""
           }
          },
          "title": {
           "x": 0.05
          },
          "xaxis": {
           "automargin": true,
           "gridcolor": "white",
           "linecolor": "white",
           "ticks": "",
           "title": {
            "standoff": 15
           },
           "zerolinecolor": "white",
           "zerolinewidth": 2
          },
          "yaxis": {
           "automargin": true,
           "gridcolor": "white",
           "linecolor": "white",
           "ticks": "",
           "title": {
            "standoff": 15
           },
           "zerolinecolor": "white",
           "zerolinewidth": 2
          }
         }
        },
        "title": {
         "text": "Máxima profundidad GBDT"
        },
        "xaxis": {
         "title": {
          "text": "Máxima profundidad"
         }
        },
        "yaxis": {
         "title": {
          "text": "MAE"
         }
        }
       }
      },
      "text/html": [
       "<div>                            <div id=\"bdf65d14-7cf7-4386-a727-27f279138d8f\" class=\"plotly-graph-div\" style=\"height:525px; width:100%;\"></div>            <script type=\"text/javascript\">                require([\"plotly\"], function(Plotly) {                    window.PLOTLYENV=window.PLOTLYENV || {};                                    if (document.getElementById(\"bdf65d14-7cf7-4386-a727-27f279138d8f\")) {                    Plotly.newPlot(                        \"bdf65d14-7cf7-4386-a727-27f279138d8f\",                        [{\"mode\": \"markers\", \"type\": \"scatter\", \"x\": [257, 62, 206, 243, 157, 92, 231, 85, 263, 121, 55, 238, 201, 7, 20, 118, 16, 142, 145, 217, 262, 208, 283, 156, 44, 38, 275, 247, 53, 157, 197, 186, 153, 107, 221, 270, 110, 40, 214, 7, 42, 176, 63, 280, 209, 101, 137, 214, 52, 245, 147, 172, 30, 72], \"y\": [3279532.8687002966, 3582860.565954606, 5486701.048595117, 4787464.964845304, 4530857.487241028, 5120296.587430455, 5991436.777139471, 4755053.378605113, 3720814.70501702, 4669351.6431714, 3445835.1458946196, 5462835.292689152, 3380092.9699605443, 3875571.450708518, 5664866.730840039, 7783529.888028995, 3544432.621763034, 4013860.20142296, 5314011.544392994, 3449277.3939459883, 4011252.3586132457, 4649708.328883131, 6165530.340310355, 8436621.858765114, 4341617.954463067, 5282111.900552225, 3825240.3343780944, 3630128.8866440863, 3667523.088991448, 6486202.826406964, 5864744.177271917, 4874634.01153995, 5884395.074521256, 5636383.794866825, 5095026.383480646, 5708155.464009307, 6358634.921382401, 4673386.263708385, 4703842.839177951, 6369860.169210909, 3771295.0424920255, 5293857.827024025, 8323453.034966132, 3927222.502797012, 3695512.275288363, 6380250.827701313, 5466648.412607083, 5425579.72654791, 5777621.37389484, 8051799.933446149, 5061315.252699409, 5360806.81461171, 3642481.8294197386, 3337462.904262436]}],                        {\"template\": {\"data\": {\"bar\": [{\"error_x\": {\"color\": \"#2a3f5f\"}, \"error_y\": {\"color\": \"#2a3f5f\"}, \"marker\": {\"line\": {\"color\": \"#E5ECF6\", \"width\": 0.5}}, \"type\": \"bar\"}], \"barpolar\": [{\"marker\": {\"line\": {\"color\": \"#E5ECF6\", \"width\": 0.5}}, \"type\": \"barpolar\"}], \"carpet\": [{\"aaxis\": {\"endlinecolor\": \"#2a3f5f\", \"gridcolor\": \"white\", \"linecolor\": \"white\", \"minorgridcolor\": \"white\", \"startlinecolor\": \"#2a3f5f\"}, \"baxis\": {\"endlinecolor\": \"#2a3f5f\", \"gridcolor\": \"white\", \"linecolor\": \"white\", \"minorgridcolor\": \"white\", \"startlinecolor\": \"#2a3f5f\"}, \"type\": \"carpet\"}], \"choropleth\": [{\"colorbar\": {\"outlinewidth\": 0, \"ticks\": \"\"}, \"type\": \"choropleth\"}], \"contour\": [{\"colorbar\": {\"outlinewidth\": 0, \"ticks\": \"\"}, \"colorscale\": [[0.0, \"#0d0887\"], [0.1111111111111111, \"#46039f\"], [0.2222222222222222, \"#7201a8\"], [0.3333333333333333, \"#9c179e\"], [0.4444444444444444, \"#bd3786\"], [0.5555555555555556, \"#d8576b\"], [0.6666666666666666, \"#ed7953\"], [0.7777777777777778, \"#fb9f3a\"], [0.8888888888888888, \"#fdca26\"], [1.0, \"#f0f921\"]], \"type\": \"contour\"}], \"contourcarpet\": [{\"colorbar\": {\"outlinewidth\": 0, \"ticks\": \"\"}, \"type\": \"contourcarpet\"}], \"heatmap\": [{\"colorbar\": {\"outlinewidth\": 0, \"ticks\": \"\"}, \"colorscale\": [[0.0, \"#0d0887\"], [0.1111111111111111, \"#46039f\"], [0.2222222222222222, \"#7201a8\"], [0.3333333333333333, \"#9c179e\"], [0.4444444444444444, \"#bd3786\"], [0.5555555555555556, \"#d8576b\"], [0.6666666666666666, \"#ed7953\"], [0.7777777777777778, \"#fb9f3a\"], [0.8888888888888888, \"#fdca26\"], [1.0, \"#f0f921\"]], \"type\": \"heatmap\"}], \"heatmapgl\": [{\"colorbar\": {\"outlinewidth\": 0, \"ticks\": \"\"}, \"colorscale\": [[0.0, \"#0d0887\"], [0.1111111111111111, \"#46039f\"], [0.2222222222222222, \"#7201a8\"], [0.3333333333333333, \"#9c179e\"], [0.4444444444444444, \"#bd3786\"], [0.5555555555555556, \"#d8576b\"], [0.6666666666666666, \"#ed7953\"], [0.7777777777777778, \"#fb9f3a\"], [0.8888888888888888, \"#fdca26\"], [1.0, \"#f0f921\"]], \"type\": \"heatmapgl\"}], \"histogram\": [{\"marker\": {\"colorbar\": {\"outlinewidth\": 0, \"ticks\": \"\"}}, \"type\": \"histogram\"}], \"histogram2d\": [{\"colorbar\": {\"outlinewidth\": 0, \"ticks\": \"\"}, \"colorscale\": [[0.0, \"#0d0887\"], [0.1111111111111111, \"#46039f\"], [0.2222222222222222, \"#7201a8\"], [0.3333333333333333, \"#9c179e\"], [0.4444444444444444, \"#bd3786\"], [0.5555555555555556, \"#d8576b\"], [0.6666666666666666, \"#ed7953\"], [0.7777777777777778, \"#fb9f3a\"], [0.8888888888888888, \"#fdca26\"], [1.0, \"#f0f921\"]], \"type\": \"histogram2d\"}], \"histogram2dcontour\": [{\"colorbar\": {\"outlinewidth\": 0, \"ticks\": \"\"}, \"colorscale\": [[0.0, \"#0d0887\"], [0.1111111111111111, \"#46039f\"], [0.2222222222222222, \"#7201a8\"], [0.3333333333333333, \"#9c179e\"], [0.4444444444444444, \"#bd3786\"], [0.5555555555555556, \"#d8576b\"], [0.6666666666666666, \"#ed7953\"], [0.7777777777777778, \"#fb9f3a\"], [0.8888888888888888, \"#fdca26\"], [1.0, \"#f0f921\"]], \"type\": \"histogram2dcontour\"}], \"mesh3d\": [{\"colorbar\": {\"outlinewidth\": 0, \"ticks\": \"\"}, \"type\": \"mesh3d\"}], \"parcoords\": [{\"line\": {\"colorbar\": {\"outlinewidth\": 0, \"ticks\": \"\"}}, \"type\": \"parcoords\"}], \"pie\": [{\"automargin\": true, \"type\": \"pie\"}], \"scatter\": [{\"marker\": {\"colorbar\": {\"outlinewidth\": 0, \"ticks\": \"\"}}, \"type\": \"scatter\"}], \"scatter3d\": [{\"line\": {\"colorbar\": {\"outlinewidth\": 0, \"ticks\": \"\"}}, \"marker\": {\"colorbar\": {\"outlinewidth\": 0, \"ticks\": \"\"}}, \"type\": \"scatter3d\"}], \"scattercarpet\": [{\"marker\": {\"colorbar\": {\"outlinewidth\": 0, \"ticks\": \"\"}}, \"type\": \"scattercarpet\"}], \"scattergeo\": [{\"marker\": {\"colorbar\": {\"outlinewidth\": 0, \"ticks\": \"\"}}, \"type\": \"scattergeo\"}], \"scattergl\": [{\"marker\": {\"colorbar\": {\"outlinewidth\": 0, \"ticks\": \"\"}}, \"type\": \"scattergl\"}], \"scattermapbox\": [{\"marker\": {\"colorbar\": {\"outlinewidth\": 0, \"ticks\": \"\"}}, \"type\": \"scattermapbox\"}], \"scatterpolar\": [{\"marker\": {\"colorbar\": {\"outlinewidth\": 0, \"ticks\": \"\"}}, \"type\": \"scatterpolar\"}], \"scatterpolargl\": [{\"marker\": {\"colorbar\": {\"outlinewidth\": 0, \"ticks\": \"\"}}, \"type\": \"scatterpolargl\"}], \"scatterternary\": [{\"marker\": {\"colorbar\": {\"outlinewidth\": 0, \"ticks\": \"\"}}, \"type\": \"scatterternary\"}], \"surface\": [{\"colorbar\": {\"outlinewidth\": 0, \"ticks\": \"\"}, \"colorscale\": [[0.0, \"#0d0887\"], [0.1111111111111111, \"#46039f\"], [0.2222222222222222, \"#7201a8\"], [0.3333333333333333, \"#9c179e\"], [0.4444444444444444, \"#bd3786\"], [0.5555555555555556, \"#d8576b\"], [0.6666666666666666, \"#ed7953\"], [0.7777777777777778, \"#fb9f3a\"], [0.8888888888888888, \"#fdca26\"], [1.0, \"#f0f921\"]], \"type\": \"surface\"}], \"table\": [{\"cells\": {\"fill\": {\"color\": \"#EBF0F8\"}, \"line\": {\"color\": \"white\"}}, \"header\": {\"fill\": {\"color\": \"#C8D4E3\"}, \"line\": {\"color\": \"white\"}}, \"type\": \"table\"}]}, \"layout\": {\"annotationdefaults\": {\"arrowcolor\": \"#2a3f5f\", \"arrowhead\": 0, \"arrowwidth\": 1}, \"coloraxis\": {\"colorbar\": {\"outlinewidth\": 0, \"ticks\": \"\"}}, \"colorscale\": {\"diverging\": [[0, \"#8e0152\"], [0.1, \"#c51b7d\"], [0.2, \"#de77ae\"], [0.3, \"#f1b6da\"], [0.4, \"#fde0ef\"], [0.5, \"#f7f7f7\"], [0.6, \"#e6f5d0\"], [0.7, \"#b8e186\"], [0.8, \"#7fbc41\"], [0.9, \"#4d9221\"], [1, \"#276419\"]], \"sequential\": [[0.0, \"#0d0887\"], [0.1111111111111111, \"#46039f\"], [0.2222222222222222, \"#7201a8\"], [0.3333333333333333, \"#9c179e\"], [0.4444444444444444, \"#bd3786\"], [0.5555555555555556, \"#d8576b\"], [0.6666666666666666, \"#ed7953\"], [0.7777777777777778, \"#fb9f3a\"], [0.8888888888888888, \"#fdca26\"], [1.0, \"#f0f921\"]], \"sequentialminus\": [[0.0, \"#0d0887\"], [0.1111111111111111, \"#46039f\"], [0.2222222222222222, \"#7201a8\"], [0.3333333333333333, \"#9c179e\"], [0.4444444444444444, \"#bd3786\"], [0.5555555555555556, \"#d8576b\"], [0.6666666666666666, \"#ed7953\"], [0.7777777777777778, \"#fb9f3a\"], [0.8888888888888888, \"#fdca26\"], [1.0, \"#f0f921\"]]}, \"colorway\": [\"#636efa\", \"#EF553B\", \"#00cc96\", \"#ab63fa\", \"#FFA15A\", \"#19d3f3\", \"#FF6692\", \"#B6E880\", \"#FF97FF\", \"#FECB52\"], \"font\": {\"color\": \"#2a3f5f\"}, \"geo\": {\"bgcolor\": \"white\", \"lakecolor\": \"white\", \"landcolor\": \"#E5ECF6\", \"showlakes\": true, \"showland\": true, \"subunitcolor\": \"white\"}, \"hoverlabel\": {\"align\": \"left\"}, \"hovermode\": \"closest\", \"mapbox\": {\"style\": \"light\"}, \"paper_bgcolor\": \"white\", \"plot_bgcolor\": \"#E5ECF6\", \"polar\": {\"angularaxis\": {\"gridcolor\": \"white\", \"linecolor\": \"white\", \"ticks\": \"\"}, \"bgcolor\": \"#E5ECF6\", \"radialaxis\": {\"gridcolor\": \"white\", \"linecolor\": \"white\", \"ticks\": \"\"}}, \"scene\": {\"xaxis\": {\"backgroundcolor\": \"#E5ECF6\", \"gridcolor\": \"white\", \"gridwidth\": 2, \"linecolor\": \"white\", \"showbackground\": true, \"ticks\": \"\", \"zerolinecolor\": \"white\"}, \"yaxis\": {\"backgroundcolor\": \"#E5ECF6\", \"gridcolor\": \"white\", \"gridwidth\": 2, \"linecolor\": \"white\", \"showbackground\": true, \"ticks\": \"\", \"zerolinecolor\": \"white\"}, \"zaxis\": {\"backgroundcolor\": \"#E5ECF6\", \"gridcolor\": \"white\", \"gridwidth\": 2, \"linecolor\": \"white\", \"showbackground\": true, \"ticks\": \"\", \"zerolinecolor\": \"white\"}}, \"shapedefaults\": {\"line\": {\"color\": \"#2a3f5f\"}}, \"ternary\": {\"aaxis\": {\"gridcolor\": \"white\", \"linecolor\": \"white\", \"ticks\": \"\"}, \"baxis\": {\"gridcolor\": \"white\", \"linecolor\": \"white\", \"ticks\": \"\"}, \"bgcolor\": \"#E5ECF6\", \"caxis\": {\"gridcolor\": \"white\", \"linecolor\": \"white\", \"ticks\": \"\"}}, \"title\": {\"x\": 0.05}, \"xaxis\": {\"automargin\": true, \"gridcolor\": \"white\", \"linecolor\": \"white\", \"ticks\": \"\", \"title\": {\"standoff\": 15}, \"zerolinecolor\": \"white\", \"zerolinewidth\": 2}, \"yaxis\": {\"automargin\": true, \"gridcolor\": \"white\", \"linecolor\": \"white\", \"ticks\": \"\", \"title\": {\"standoff\": 15}, \"zerolinecolor\": \"white\", \"zerolinewidth\": 2}}}, \"title\": {\"text\": \"M\\u00e1xima profundidad GBDT\"}, \"xaxis\": {\"title\": {\"text\": \"M\\u00e1xima profundidad\"}}, \"yaxis\": {\"title\": {\"text\": \"MAE\"}}},                        {\"responsive\": true}                    ).then(function(){\n",
       "                            \n",
       "var gd = document.getElementById('bdf65d14-7cf7-4386-a727-27f279138d8f');\n",
       "var x = new MutationObserver(function (mutations, observer) {{\n",
       "        var display = window.getComputedStyle(gd).display;\n",
       "        if (!display || display === 'none') {{\n",
       "            console.log([gd, 'removed!']);\n",
       "            Plotly.purge(gd);\n",
       "            observer.disconnect();\n",
       "        }}\n",
       "}});\n",
       "\n",
       "// Listen for the removal of the full notebook cells\n",
       "var notebookContainer = gd.closest('#notebook-container');\n",
       "if (notebookContainer) {{\n",
       "    x.observe(notebookContainer, {childList: true});\n",
       "}}\n",
       "\n",
       "// Listen for the clearing of the current output cell\n",
       "var outputEl = gd.closest('.output');\n",
       "if (outputEl) {{\n",
       "    x.observe(outputEl, {childList: true});\n",
       "}}\n",
       "\n",
       "                        })                };                });            </script>        </div>"
      ]
     },
     "metadata": {},
     "output_type": "display_data"
    }
   ],
   "source": [
    "fig = go.Figure(data=go.Scatter(x = Z_gbdt, y = col, mode='markers'))\n",
    "fig.update_layout(\n",
    "    title = \"Máxima profundidad GBDT\",\n",
    "    xaxis_title = \"Máxima profundidad\",\n",
    "    yaxis_title = \"MAE\")\n",
    "fig.show()"
   ]
  },
  {
   "cell_type": "code",
   "execution_count": 57,
   "metadata": {
    "collapsed": true
   },
   "outputs": [
    {
     "data": {
      "application/vnd.plotly.v1+json": {
       "config": {
        "plotlyServerURL": "https://plot.ly"
       },
       "data": [
        {
         "mode": "markers",
         "type": "scatter",
         "x": [
          0.21614869861900599,
          0.05150580543145733,
          0.8001590660882388,
          0.6192179637157347,
          0.5022996651160961,
          0.619298078438955,
          0.8638778106381235,
          0.560495718565475,
          0.18545885118090344,
          0.5137329498326346,
          0.2720089323186975,
          0.6932344696739682,
          0.030472775267801677,
          0.27485270840752474,
          0.5967933222261512,
          0.4524026118477057,
          0.038462625454965926,
          0.28705348297859024,
          0.7993739653123938,
          0.03210527656266615,
          0.3156919625970054,
          0.5178575305171065,
          0.8743698233064437,
          0.397258811296458,
          0.3759227825084498,
          0.6699611139256749,
          0.31921511322235385,
          0.24762959720113054,
          0.3067870110655453,
          0.578597962516951,
          0.8663068159682553,
          0.5787505906073741,
          0.8539795610957736,
          0.7481204629742984,
          0.6289714872055984,
          0.7405606077268918,
          0.9555204440106122,
          0.47688115376847817,
          0.6851320264375451,
          0.8952457243822235,
          0.2656974546696277,
          0.6689259765046957,
          0.6379316676115799,
          0.22119236969759837,
          0.051812360923657264,
          0.8065328654925885,
          0.7977258529913047,
          0.7785492061127024,
          0.8638959255823087,
          0.6869762497330698,
          0.7421051431702578,
          0.7201558370375754,
          0.3614652399400432,
          0.05009638045073084
         ],
         "y": [
          3279532.8687002966,
          3582860.565954606,
          5486701.048595117,
          4787464.964845304,
          4530857.487241028,
          5120296.587430455,
          5991436.777139471,
          4755053.378605113,
          3720814.70501702,
          4669351.6431714,
          3445835.1458946196,
          5462835.292689152,
          3380092.9699605443,
          3875571.450708518,
          5664866.730840039,
          7783529.888028995,
          3544432.621763034,
          4013860.20142296,
          5314011.544392994,
          3449277.3939459883,
          4011252.3586132457,
          4649708.328883131,
          6165530.340310355,
          8436621.858765114,
          4341617.954463067,
          5282111.900552225,
          3825240.3343780944,
          3630128.8866440863,
          3667523.088991448,
          6486202.826406964,
          5864744.177271917,
          4874634.01153995,
          5884395.074521256,
          5636383.794866825,
          5095026.383480646,
          5708155.464009307,
          6358634.921382401,
          4673386.263708385,
          4703842.839177951,
          6369860.169210909,
          3771295.0424920255,
          5293857.827024025,
          8323453.034966132,
          3927222.502797012,
          3695512.275288363,
          6380250.827701313,
          5466648.412607083,
          5425579.72654791,
          5777621.37389484,
          8051799.933446149,
          5061315.252699409,
          5360806.81461171,
          3642481.8294197386,
          3337462.904262436
         ]
        }
       ],
       "layout": {
        "template": {
         "data": {
          "bar": [
           {
            "error_x": {
             "color": "#2a3f5f"
            },
            "error_y": {
             "color": "#2a3f5f"
            },
            "marker": {
             "line": {
              "color": "#E5ECF6",
              "width": 0.5
             }
            },
            "type": "bar"
           }
          ],
          "barpolar": [
           {
            "marker": {
             "line": {
              "color": "#E5ECF6",
              "width": 0.5
             }
            },
            "type": "barpolar"
           }
          ],
          "carpet": [
           {
            "aaxis": {
             "endlinecolor": "#2a3f5f",
             "gridcolor": "white",
             "linecolor": "white",
             "minorgridcolor": "white",
             "startlinecolor": "#2a3f5f"
            },
            "baxis": {
             "endlinecolor": "#2a3f5f",
             "gridcolor": "white",
             "linecolor": "white",
             "minorgridcolor": "white",
             "startlinecolor": "#2a3f5f"
            },
            "type": "carpet"
           }
          ],
          "choropleth": [
           {
            "colorbar": {
             "outlinewidth": 0,
             "ticks": ""
            },
            "type": "choropleth"
           }
          ],
          "contour": [
           {
            "colorbar": {
             "outlinewidth": 0,
             "ticks": ""
            },
            "colorscale": [
             [
              0,
              "#0d0887"
             ],
             [
              0.1111111111111111,
              "#46039f"
             ],
             [
              0.2222222222222222,
              "#7201a8"
             ],
             [
              0.3333333333333333,
              "#9c179e"
             ],
             [
              0.4444444444444444,
              "#bd3786"
             ],
             [
              0.5555555555555556,
              "#d8576b"
             ],
             [
              0.6666666666666666,
              "#ed7953"
             ],
             [
              0.7777777777777778,
              "#fb9f3a"
             ],
             [
              0.8888888888888888,
              "#fdca26"
             ],
             [
              1,
              "#f0f921"
             ]
            ],
            "type": "contour"
           }
          ],
          "contourcarpet": [
           {
            "colorbar": {
             "outlinewidth": 0,
             "ticks": ""
            },
            "type": "contourcarpet"
           }
          ],
          "heatmap": [
           {
            "colorbar": {
             "outlinewidth": 0,
             "ticks": ""
            },
            "colorscale": [
             [
              0,
              "#0d0887"
             ],
             [
              0.1111111111111111,
              "#46039f"
             ],
             [
              0.2222222222222222,
              "#7201a8"
             ],
             [
              0.3333333333333333,
              "#9c179e"
             ],
             [
              0.4444444444444444,
              "#bd3786"
             ],
             [
              0.5555555555555556,
              "#d8576b"
             ],
             [
              0.6666666666666666,
              "#ed7953"
             ],
             [
              0.7777777777777778,
              "#fb9f3a"
             ],
             [
              0.8888888888888888,
              "#fdca26"
             ],
             [
              1,
              "#f0f921"
             ]
            ],
            "type": "heatmap"
           }
          ],
          "heatmapgl": [
           {
            "colorbar": {
             "outlinewidth": 0,
             "ticks": ""
            },
            "colorscale": [
             [
              0,
              "#0d0887"
             ],
             [
              0.1111111111111111,
              "#46039f"
             ],
             [
              0.2222222222222222,
              "#7201a8"
             ],
             [
              0.3333333333333333,
              "#9c179e"
             ],
             [
              0.4444444444444444,
              "#bd3786"
             ],
             [
              0.5555555555555556,
              "#d8576b"
             ],
             [
              0.6666666666666666,
              "#ed7953"
             ],
             [
              0.7777777777777778,
              "#fb9f3a"
             ],
             [
              0.8888888888888888,
              "#fdca26"
             ],
             [
              1,
              "#f0f921"
             ]
            ],
            "type": "heatmapgl"
           }
          ],
          "histogram": [
           {
            "marker": {
             "colorbar": {
              "outlinewidth": 0,
              "ticks": ""
             }
            },
            "type": "histogram"
           }
          ],
          "histogram2d": [
           {
            "colorbar": {
             "outlinewidth": 0,
             "ticks": ""
            },
            "colorscale": [
             [
              0,
              "#0d0887"
             ],
             [
              0.1111111111111111,
              "#46039f"
             ],
             [
              0.2222222222222222,
              "#7201a8"
             ],
             [
              0.3333333333333333,
              "#9c179e"
             ],
             [
              0.4444444444444444,
              "#bd3786"
             ],
             [
              0.5555555555555556,
              "#d8576b"
             ],
             [
              0.6666666666666666,
              "#ed7953"
             ],
             [
              0.7777777777777778,
              "#fb9f3a"
             ],
             [
              0.8888888888888888,
              "#fdca26"
             ],
             [
              1,
              "#f0f921"
             ]
            ],
            "type": "histogram2d"
           }
          ],
          "histogram2dcontour": [
           {
            "colorbar": {
             "outlinewidth": 0,
             "ticks": ""
            },
            "colorscale": [
             [
              0,
              "#0d0887"
             ],
             [
              0.1111111111111111,
              "#46039f"
             ],
             [
              0.2222222222222222,
              "#7201a8"
             ],
             [
              0.3333333333333333,
              "#9c179e"
             ],
             [
              0.4444444444444444,
              "#bd3786"
             ],
             [
              0.5555555555555556,
              "#d8576b"
             ],
             [
              0.6666666666666666,
              "#ed7953"
             ],
             [
              0.7777777777777778,
              "#fb9f3a"
             ],
             [
              0.8888888888888888,
              "#fdca26"
             ],
             [
              1,
              "#f0f921"
             ]
            ],
            "type": "histogram2dcontour"
           }
          ],
          "mesh3d": [
           {
            "colorbar": {
             "outlinewidth": 0,
             "ticks": ""
            },
            "type": "mesh3d"
           }
          ],
          "parcoords": [
           {
            "line": {
             "colorbar": {
              "outlinewidth": 0,
              "ticks": ""
             }
            },
            "type": "parcoords"
           }
          ],
          "pie": [
           {
            "automargin": true,
            "type": "pie"
           }
          ],
          "scatter": [
           {
            "marker": {
             "colorbar": {
              "outlinewidth": 0,
              "ticks": ""
             }
            },
            "type": "scatter"
           }
          ],
          "scatter3d": [
           {
            "line": {
             "colorbar": {
              "outlinewidth": 0,
              "ticks": ""
             }
            },
            "marker": {
             "colorbar": {
              "outlinewidth": 0,
              "ticks": ""
             }
            },
            "type": "scatter3d"
           }
          ],
          "scattercarpet": [
           {
            "marker": {
             "colorbar": {
              "outlinewidth": 0,
              "ticks": ""
             }
            },
            "type": "scattercarpet"
           }
          ],
          "scattergeo": [
           {
            "marker": {
             "colorbar": {
              "outlinewidth": 0,
              "ticks": ""
             }
            },
            "type": "scattergeo"
           }
          ],
          "scattergl": [
           {
            "marker": {
             "colorbar": {
              "outlinewidth": 0,
              "ticks": ""
             }
            },
            "type": "scattergl"
           }
          ],
          "scattermapbox": [
           {
            "marker": {
             "colorbar": {
              "outlinewidth": 0,
              "ticks": ""
             }
            },
            "type": "scattermapbox"
           }
          ],
          "scatterpolar": [
           {
            "marker": {
             "colorbar": {
              "outlinewidth": 0,
              "ticks": ""
             }
            },
            "type": "scatterpolar"
           }
          ],
          "scatterpolargl": [
           {
            "marker": {
             "colorbar": {
              "outlinewidth": 0,
              "ticks": ""
             }
            },
            "type": "scatterpolargl"
           }
          ],
          "scatterternary": [
           {
            "marker": {
             "colorbar": {
              "outlinewidth": 0,
              "ticks": ""
             }
            },
            "type": "scatterternary"
           }
          ],
          "surface": [
           {
            "colorbar": {
             "outlinewidth": 0,
             "ticks": ""
            },
            "colorscale": [
             [
              0,
              "#0d0887"
             ],
             [
              0.1111111111111111,
              "#46039f"
             ],
             [
              0.2222222222222222,
              "#7201a8"
             ],
             [
              0.3333333333333333,
              "#9c179e"
             ],
             [
              0.4444444444444444,
              "#bd3786"
             ],
             [
              0.5555555555555556,
              "#d8576b"
             ],
             [
              0.6666666666666666,
              "#ed7953"
             ],
             [
              0.7777777777777778,
              "#fb9f3a"
             ],
             [
              0.8888888888888888,
              "#fdca26"
             ],
             [
              1,
              "#f0f921"
             ]
            ],
            "type": "surface"
           }
          ],
          "table": [
           {
            "cells": {
             "fill": {
              "color": "#EBF0F8"
             },
             "line": {
              "color": "white"
             }
            },
            "header": {
             "fill": {
              "color": "#C8D4E3"
             },
             "line": {
              "color": "white"
             }
            },
            "type": "table"
           }
          ]
         },
         "layout": {
          "annotationdefaults": {
           "arrowcolor": "#2a3f5f",
           "arrowhead": 0,
           "arrowwidth": 1
          },
          "coloraxis": {
           "colorbar": {
            "outlinewidth": 0,
            "ticks": ""
           }
          },
          "colorscale": {
           "diverging": [
            [
             0,
             "#8e0152"
            ],
            [
             0.1,
             "#c51b7d"
            ],
            [
             0.2,
             "#de77ae"
            ],
            [
             0.3,
             "#f1b6da"
            ],
            [
             0.4,
             "#fde0ef"
            ],
            [
             0.5,
             "#f7f7f7"
            ],
            [
             0.6,
             "#e6f5d0"
            ],
            [
             0.7,
             "#b8e186"
            ],
            [
             0.8,
             "#7fbc41"
            ],
            [
             0.9,
             "#4d9221"
            ],
            [
             1,
             "#276419"
            ]
           ],
           "sequential": [
            [
             0,
             "#0d0887"
            ],
            [
             0.1111111111111111,
             "#46039f"
            ],
            [
             0.2222222222222222,
             "#7201a8"
            ],
            [
             0.3333333333333333,
             "#9c179e"
            ],
            [
             0.4444444444444444,
             "#bd3786"
            ],
            [
             0.5555555555555556,
             "#d8576b"
            ],
            [
             0.6666666666666666,
             "#ed7953"
            ],
            [
             0.7777777777777778,
             "#fb9f3a"
            ],
            [
             0.8888888888888888,
             "#fdca26"
            ],
            [
             1,
             "#f0f921"
            ]
           ],
           "sequentialminus": [
            [
             0,
             "#0d0887"
            ],
            [
             0.1111111111111111,
             "#46039f"
            ],
            [
             0.2222222222222222,
             "#7201a8"
            ],
            [
             0.3333333333333333,
             "#9c179e"
            ],
            [
             0.4444444444444444,
             "#bd3786"
            ],
            [
             0.5555555555555556,
             "#d8576b"
            ],
            [
             0.6666666666666666,
             "#ed7953"
            ],
            [
             0.7777777777777778,
             "#fb9f3a"
            ],
            [
             0.8888888888888888,
             "#fdca26"
            ],
            [
             1,
             "#f0f921"
            ]
           ]
          },
          "colorway": [
           "#636efa",
           "#EF553B",
           "#00cc96",
           "#ab63fa",
           "#FFA15A",
           "#19d3f3",
           "#FF6692",
           "#B6E880",
           "#FF97FF",
           "#FECB52"
          ],
          "font": {
           "color": "#2a3f5f"
          },
          "geo": {
           "bgcolor": "white",
           "lakecolor": "white",
           "landcolor": "#E5ECF6",
           "showlakes": true,
           "showland": true,
           "subunitcolor": "white"
          },
          "hoverlabel": {
           "align": "left"
          },
          "hovermode": "closest",
          "mapbox": {
           "style": "light"
          },
          "paper_bgcolor": "white",
          "plot_bgcolor": "#E5ECF6",
          "polar": {
           "angularaxis": {
            "gridcolor": "white",
            "linecolor": "white",
            "ticks": ""
           },
           "bgcolor": "#E5ECF6",
           "radialaxis": {
            "gridcolor": "white",
            "linecolor": "white",
            "ticks": ""
           }
          },
          "scene": {
           "xaxis": {
            "backgroundcolor": "#E5ECF6",
            "gridcolor": "white",
            "gridwidth": 2,
            "linecolor": "white",
            "showbackground": true,
            "ticks": "",
            "zerolinecolor": "white"
           },
           "yaxis": {
            "backgroundcolor": "#E5ECF6",
            "gridcolor": "white",
            "gridwidth": 2,
            "linecolor": "white",
            "showbackground": true,
            "ticks": "",
            "zerolinecolor": "white"
           },
           "zaxis": {
            "backgroundcolor": "#E5ECF6",
            "gridcolor": "white",
            "gridwidth": 2,
            "linecolor": "white",
            "showbackground": true,
            "ticks": "",
            "zerolinecolor": "white"
           }
          },
          "shapedefaults": {
           "line": {
            "color": "#2a3f5f"
           }
          },
          "ternary": {
           "aaxis": {
            "gridcolor": "white",
            "linecolor": "white",
            "ticks": ""
           },
           "baxis": {
            "gridcolor": "white",
            "linecolor": "white",
            "ticks": ""
           },
           "bgcolor": "#E5ECF6",
           "caxis": {
            "gridcolor": "white",
            "linecolor": "white",
            "ticks": ""
           }
          },
          "title": {
           "x": 0.05
          },
          "xaxis": {
           "automargin": true,
           "gridcolor": "white",
           "linecolor": "white",
           "ticks": "",
           "title": {
            "standoff": 15
           },
           "zerolinecolor": "white",
           "zerolinewidth": 2
          },
          "yaxis": {
           "automargin": true,
           "gridcolor": "white",
           "linecolor": "white",
           "ticks": "",
           "title": {
            "standoff": 15
           },
           "zerolinecolor": "white",
           "zerolinewidth": 2
          }
         }
        },
        "title": {
         "text": "Tasa de aprendizaje GBDT"
        },
        "xaxis": {
         "title": {
          "text": "Tasa de aprendizaje"
         }
        },
        "yaxis": {
         "title": {
          "text": "MAE"
         }
        }
       }
      },
      "text/html": [
       "<div>                            <div id=\"d257b1d3-a92d-49c8-bbfa-657dff051d4c\" class=\"plotly-graph-div\" style=\"height:525px; width:100%;\"></div>            <script type=\"text/javascript\">                require([\"plotly\"], function(Plotly) {                    window.PLOTLYENV=window.PLOTLYENV || {};                                    if (document.getElementById(\"d257b1d3-a92d-49c8-bbfa-657dff051d4c\")) {                    Plotly.newPlot(                        \"d257b1d3-a92d-49c8-bbfa-657dff051d4c\",                        [{\"mode\": \"markers\", \"type\": \"scatter\", \"x\": [0.21614869861900599, 0.05150580543145733, 0.8001590660882388, 0.6192179637157347, 0.5022996651160961, 0.619298078438955, 0.8638778106381235, 0.560495718565475, 0.18545885118090344, 0.5137329498326346, 0.2720089323186975, 0.6932344696739682, 0.030472775267801677, 0.27485270840752474, 0.5967933222261512, 0.4524026118477057, 0.038462625454965926, 0.28705348297859024, 0.7993739653123938, 0.03210527656266615, 0.3156919625970054, 0.5178575305171065, 0.8743698233064437, 0.397258811296458, 0.3759227825084498, 0.6699611139256749, 0.31921511322235385, 0.24762959720113054, 0.3067870110655453, 0.578597962516951, 0.8663068159682553, 0.5787505906073741, 0.8539795610957736, 0.7481204629742984, 0.6289714872055984, 0.7405606077268918, 0.9555204440106122, 0.47688115376847817, 0.6851320264375451, 0.8952457243822235, 0.2656974546696277, 0.6689259765046957, 0.6379316676115799, 0.22119236969759837, 0.051812360923657264, 0.8065328654925885, 0.7977258529913047, 0.7785492061127024, 0.8638959255823087, 0.6869762497330698, 0.7421051431702578, 0.7201558370375754, 0.3614652399400432, 0.05009638045073084], \"y\": [3279532.8687002966, 3582860.565954606, 5486701.048595117, 4787464.964845304, 4530857.487241028, 5120296.587430455, 5991436.777139471, 4755053.378605113, 3720814.70501702, 4669351.6431714, 3445835.1458946196, 5462835.292689152, 3380092.9699605443, 3875571.450708518, 5664866.730840039, 7783529.888028995, 3544432.621763034, 4013860.20142296, 5314011.544392994, 3449277.3939459883, 4011252.3586132457, 4649708.328883131, 6165530.340310355, 8436621.858765114, 4341617.954463067, 5282111.900552225, 3825240.3343780944, 3630128.8866440863, 3667523.088991448, 6486202.826406964, 5864744.177271917, 4874634.01153995, 5884395.074521256, 5636383.794866825, 5095026.383480646, 5708155.464009307, 6358634.921382401, 4673386.263708385, 4703842.839177951, 6369860.169210909, 3771295.0424920255, 5293857.827024025, 8323453.034966132, 3927222.502797012, 3695512.275288363, 6380250.827701313, 5466648.412607083, 5425579.72654791, 5777621.37389484, 8051799.933446149, 5061315.252699409, 5360806.81461171, 3642481.8294197386, 3337462.904262436]}],                        {\"template\": {\"data\": {\"bar\": [{\"error_x\": {\"color\": \"#2a3f5f\"}, \"error_y\": {\"color\": \"#2a3f5f\"}, \"marker\": {\"line\": {\"color\": \"#E5ECF6\", \"width\": 0.5}}, \"type\": \"bar\"}], \"barpolar\": [{\"marker\": {\"line\": {\"color\": \"#E5ECF6\", \"width\": 0.5}}, \"type\": \"barpolar\"}], \"carpet\": [{\"aaxis\": {\"endlinecolor\": \"#2a3f5f\", \"gridcolor\": \"white\", \"linecolor\": \"white\", \"minorgridcolor\": \"white\", \"startlinecolor\": \"#2a3f5f\"}, \"baxis\": {\"endlinecolor\": \"#2a3f5f\", \"gridcolor\": \"white\", \"linecolor\": \"white\", \"minorgridcolor\": \"white\", \"startlinecolor\": \"#2a3f5f\"}, \"type\": \"carpet\"}], \"choropleth\": [{\"colorbar\": {\"outlinewidth\": 0, \"ticks\": \"\"}, \"type\": \"choropleth\"}], \"contour\": [{\"colorbar\": {\"outlinewidth\": 0, \"ticks\": \"\"}, \"colorscale\": [[0.0, \"#0d0887\"], [0.1111111111111111, \"#46039f\"], [0.2222222222222222, \"#7201a8\"], [0.3333333333333333, \"#9c179e\"], [0.4444444444444444, \"#bd3786\"], [0.5555555555555556, \"#d8576b\"], [0.6666666666666666, \"#ed7953\"], [0.7777777777777778, \"#fb9f3a\"], [0.8888888888888888, \"#fdca26\"], [1.0, \"#f0f921\"]], \"type\": \"contour\"}], \"contourcarpet\": [{\"colorbar\": {\"outlinewidth\": 0, \"ticks\": \"\"}, \"type\": \"contourcarpet\"}], \"heatmap\": [{\"colorbar\": {\"outlinewidth\": 0, \"ticks\": \"\"}, \"colorscale\": [[0.0, \"#0d0887\"], [0.1111111111111111, \"#46039f\"], [0.2222222222222222, \"#7201a8\"], [0.3333333333333333, \"#9c179e\"], [0.4444444444444444, \"#bd3786\"], [0.5555555555555556, \"#d8576b\"], [0.6666666666666666, \"#ed7953\"], [0.7777777777777778, \"#fb9f3a\"], [0.8888888888888888, \"#fdca26\"], [1.0, \"#f0f921\"]], \"type\": \"heatmap\"}], \"heatmapgl\": [{\"colorbar\": {\"outlinewidth\": 0, \"ticks\": \"\"}, \"colorscale\": [[0.0, \"#0d0887\"], [0.1111111111111111, \"#46039f\"], [0.2222222222222222, \"#7201a8\"], [0.3333333333333333, \"#9c179e\"], [0.4444444444444444, \"#bd3786\"], [0.5555555555555556, \"#d8576b\"], [0.6666666666666666, \"#ed7953\"], [0.7777777777777778, \"#fb9f3a\"], [0.8888888888888888, \"#fdca26\"], [1.0, \"#f0f921\"]], \"type\": \"heatmapgl\"}], \"histogram\": [{\"marker\": {\"colorbar\": {\"outlinewidth\": 0, \"ticks\": \"\"}}, \"type\": \"histogram\"}], \"histogram2d\": [{\"colorbar\": {\"outlinewidth\": 0, \"ticks\": \"\"}, \"colorscale\": [[0.0, \"#0d0887\"], [0.1111111111111111, \"#46039f\"], [0.2222222222222222, \"#7201a8\"], [0.3333333333333333, \"#9c179e\"], [0.4444444444444444, \"#bd3786\"], [0.5555555555555556, \"#d8576b\"], [0.6666666666666666, \"#ed7953\"], [0.7777777777777778, \"#fb9f3a\"], [0.8888888888888888, \"#fdca26\"], [1.0, \"#f0f921\"]], \"type\": \"histogram2d\"}], \"histogram2dcontour\": [{\"colorbar\": {\"outlinewidth\": 0, \"ticks\": \"\"}, \"colorscale\": [[0.0, \"#0d0887\"], [0.1111111111111111, \"#46039f\"], [0.2222222222222222, \"#7201a8\"], [0.3333333333333333, \"#9c179e\"], [0.4444444444444444, \"#bd3786\"], [0.5555555555555556, \"#d8576b\"], [0.6666666666666666, \"#ed7953\"], [0.7777777777777778, \"#fb9f3a\"], [0.8888888888888888, \"#fdca26\"], [1.0, \"#f0f921\"]], \"type\": \"histogram2dcontour\"}], \"mesh3d\": [{\"colorbar\": {\"outlinewidth\": 0, \"ticks\": \"\"}, \"type\": \"mesh3d\"}], \"parcoords\": [{\"line\": {\"colorbar\": {\"outlinewidth\": 0, \"ticks\": \"\"}}, \"type\": \"parcoords\"}], \"pie\": [{\"automargin\": true, \"type\": \"pie\"}], \"scatter\": [{\"marker\": {\"colorbar\": {\"outlinewidth\": 0, \"ticks\": \"\"}}, \"type\": \"scatter\"}], \"scatter3d\": [{\"line\": {\"colorbar\": {\"outlinewidth\": 0, \"ticks\": \"\"}}, \"marker\": {\"colorbar\": {\"outlinewidth\": 0, \"ticks\": \"\"}}, \"type\": \"scatter3d\"}], \"scattercarpet\": [{\"marker\": {\"colorbar\": {\"outlinewidth\": 0, \"ticks\": \"\"}}, \"type\": \"scattercarpet\"}], \"scattergeo\": [{\"marker\": {\"colorbar\": {\"outlinewidth\": 0, \"ticks\": \"\"}}, \"type\": \"scattergeo\"}], \"scattergl\": [{\"marker\": {\"colorbar\": {\"outlinewidth\": 0, \"ticks\": \"\"}}, \"type\": \"scattergl\"}], \"scattermapbox\": [{\"marker\": {\"colorbar\": {\"outlinewidth\": 0, \"ticks\": \"\"}}, \"type\": \"scattermapbox\"}], \"scatterpolar\": [{\"marker\": {\"colorbar\": {\"outlinewidth\": 0, \"ticks\": \"\"}}, \"type\": \"scatterpolar\"}], \"scatterpolargl\": [{\"marker\": {\"colorbar\": {\"outlinewidth\": 0, \"ticks\": \"\"}}, \"type\": \"scatterpolargl\"}], \"scatterternary\": [{\"marker\": {\"colorbar\": {\"outlinewidth\": 0, \"ticks\": \"\"}}, \"type\": \"scatterternary\"}], \"surface\": [{\"colorbar\": {\"outlinewidth\": 0, \"ticks\": \"\"}, \"colorscale\": [[0.0, \"#0d0887\"], [0.1111111111111111, \"#46039f\"], [0.2222222222222222, \"#7201a8\"], [0.3333333333333333, \"#9c179e\"], [0.4444444444444444, \"#bd3786\"], [0.5555555555555556, \"#d8576b\"], [0.6666666666666666, \"#ed7953\"], [0.7777777777777778, \"#fb9f3a\"], [0.8888888888888888, \"#fdca26\"], [1.0, \"#f0f921\"]], \"type\": \"surface\"}], \"table\": [{\"cells\": {\"fill\": {\"color\": \"#EBF0F8\"}, \"line\": {\"color\": \"white\"}}, \"header\": {\"fill\": {\"color\": \"#C8D4E3\"}, \"line\": {\"color\": \"white\"}}, \"type\": \"table\"}]}, \"layout\": {\"annotationdefaults\": {\"arrowcolor\": \"#2a3f5f\", \"arrowhead\": 0, \"arrowwidth\": 1}, \"coloraxis\": {\"colorbar\": {\"outlinewidth\": 0, \"ticks\": \"\"}}, \"colorscale\": {\"diverging\": [[0, \"#8e0152\"], [0.1, \"#c51b7d\"], [0.2, \"#de77ae\"], [0.3, \"#f1b6da\"], [0.4, \"#fde0ef\"], [0.5, \"#f7f7f7\"], [0.6, \"#e6f5d0\"], [0.7, \"#b8e186\"], [0.8, \"#7fbc41\"], [0.9, \"#4d9221\"], [1, \"#276419\"]], \"sequential\": [[0.0, \"#0d0887\"], [0.1111111111111111, \"#46039f\"], [0.2222222222222222, \"#7201a8\"], [0.3333333333333333, \"#9c179e\"], [0.4444444444444444, \"#bd3786\"], [0.5555555555555556, \"#d8576b\"], [0.6666666666666666, \"#ed7953\"], [0.7777777777777778, \"#fb9f3a\"], [0.8888888888888888, \"#fdca26\"], [1.0, \"#f0f921\"]], \"sequentialminus\": [[0.0, \"#0d0887\"], [0.1111111111111111, \"#46039f\"], [0.2222222222222222, \"#7201a8\"], [0.3333333333333333, \"#9c179e\"], [0.4444444444444444, \"#bd3786\"], [0.5555555555555556, \"#d8576b\"], [0.6666666666666666, \"#ed7953\"], [0.7777777777777778, \"#fb9f3a\"], [0.8888888888888888, \"#fdca26\"], [1.0, \"#f0f921\"]]}, \"colorway\": [\"#636efa\", \"#EF553B\", \"#00cc96\", \"#ab63fa\", \"#FFA15A\", \"#19d3f3\", \"#FF6692\", \"#B6E880\", \"#FF97FF\", \"#FECB52\"], \"font\": {\"color\": \"#2a3f5f\"}, \"geo\": {\"bgcolor\": \"white\", \"lakecolor\": \"white\", \"landcolor\": \"#E5ECF6\", \"showlakes\": true, \"showland\": true, \"subunitcolor\": \"white\"}, \"hoverlabel\": {\"align\": \"left\"}, \"hovermode\": \"closest\", \"mapbox\": {\"style\": \"light\"}, \"paper_bgcolor\": \"white\", \"plot_bgcolor\": \"#E5ECF6\", \"polar\": {\"angularaxis\": {\"gridcolor\": \"white\", \"linecolor\": \"white\", \"ticks\": \"\"}, \"bgcolor\": \"#E5ECF6\", \"radialaxis\": {\"gridcolor\": \"white\", \"linecolor\": \"white\", \"ticks\": \"\"}}, \"scene\": {\"xaxis\": {\"backgroundcolor\": \"#E5ECF6\", \"gridcolor\": \"white\", \"gridwidth\": 2, \"linecolor\": \"white\", \"showbackground\": true, \"ticks\": \"\", \"zerolinecolor\": \"white\"}, \"yaxis\": {\"backgroundcolor\": \"#E5ECF6\", \"gridcolor\": \"white\", \"gridwidth\": 2, \"linecolor\": \"white\", \"showbackground\": true, \"ticks\": \"\", \"zerolinecolor\": \"white\"}, \"zaxis\": {\"backgroundcolor\": \"#E5ECF6\", \"gridcolor\": \"white\", \"gridwidth\": 2, \"linecolor\": \"white\", \"showbackground\": true, \"ticks\": \"\", \"zerolinecolor\": \"white\"}}, \"shapedefaults\": {\"line\": {\"color\": \"#2a3f5f\"}}, \"ternary\": {\"aaxis\": {\"gridcolor\": \"white\", \"linecolor\": \"white\", \"ticks\": \"\"}, \"baxis\": {\"gridcolor\": \"white\", \"linecolor\": \"white\", \"ticks\": \"\"}, \"bgcolor\": \"#E5ECF6\", \"caxis\": {\"gridcolor\": \"white\", \"linecolor\": \"white\", \"ticks\": \"\"}}, \"title\": {\"x\": 0.05}, \"xaxis\": {\"automargin\": true, \"gridcolor\": \"white\", \"linecolor\": \"white\", \"ticks\": \"\", \"title\": {\"standoff\": 15}, \"zerolinecolor\": \"white\", \"zerolinewidth\": 2}, \"yaxis\": {\"automargin\": true, \"gridcolor\": \"white\", \"linecolor\": \"white\", \"ticks\": \"\", \"title\": {\"standoff\": 15}, \"zerolinecolor\": \"white\", \"zerolinewidth\": 2}}}, \"title\": {\"text\": \"Tasa de aprendizaje GBDT\"}, \"xaxis\": {\"title\": {\"text\": \"Tasa de aprendizaje\"}}, \"yaxis\": {\"title\": {\"text\": \"MAE\"}}},                        {\"responsive\": true}                    ).then(function(){\n",
       "                            \n",
       "var gd = document.getElementById('d257b1d3-a92d-49c8-bbfa-657dff051d4c');\n",
       "var x = new MutationObserver(function (mutations, observer) {{\n",
       "        var display = window.getComputedStyle(gd).display;\n",
       "        if (!display || display === 'none') {{\n",
       "            console.log([gd, 'removed!']);\n",
       "            Plotly.purge(gd);\n",
       "            observer.disconnect();\n",
       "        }}\n",
       "}});\n",
       "\n",
       "// Listen for the removal of the full notebook cells\n",
       "var notebookContainer = gd.closest('#notebook-container');\n",
       "if (notebookContainer) {{\n",
       "    x.observe(notebookContainer, {childList: true});\n",
       "}}\n",
       "\n",
       "// Listen for the clearing of the current output cell\n",
       "var outputEl = gd.closest('.output');\n",
       "if (outputEl) {{\n",
       "    x.observe(outputEl, {childList: true});\n",
       "}}\n",
       "\n",
       "                        })                };                });            </script>        </div>"
      ]
     },
     "metadata": {},
     "output_type": "display_data"
    }
   ],
   "source": [
    "fig = go.Figure(data=go.Scatter(x = s, y = col, mode='markers'))\n",
    "fig.update_layout(\n",
    "    title = \"Tasa de aprendizaje GBDT\",\n",
    "    xaxis_title = \"Tasa de aprendizaje\",\n",
    "    yaxis_title = \"MAE\")\n",
    "fig.show()"
   ]
  },
  {
   "cell_type": "code",
   "execution_count": 53,
   "metadata": {
    "collapsed": true
   },
   "outputs": [
    {
     "data": {
      "application/vnd.plotly.v1+json": {
       "config": {
        "plotlyServerURL": "https://plot.ly"
       },
       "data": [
        {
         "marker": {
          "color": [
           3279532.8687002966,
           3582860.565954606,
           5486701.048595117,
           4787464.964845304,
           4530857.487241028,
           5120296.587430455,
           5991436.777139471,
           4755053.378605113,
           3720814.70501702,
           4669351.6431714,
           3445835.1458946196,
           5462835.292689152,
           3380092.9699605443,
           3875571.450708518,
           5664866.730840039,
           7783529.888028995,
           3544432.621763034,
           4013860.20142296,
           5314011.544392994,
           3449277.3939459883,
           4011252.3586132457,
           4649708.328883131,
           6165530.340310355,
           8436621.858765114,
           4341617.954463067,
           5282111.900552225,
           3825240.3343780944,
           3630128.8866440863,
           3667523.088991448,
           6486202.826406964,
           5864744.177271917,
           4874634.01153995,
           5884395.074521256,
           5636383.794866825,
           5095026.383480646,
           5708155.464009307,
           6358634.921382401,
           4673386.263708385,
           4703842.839177951,
           6369860.169210909,
           3771295.0424920255,
           5293857.827024025,
           8323453.034966132,
           3927222.502797012,
           3695512.275288363,
           6380250.827701313,
           5466648.412607083,
           5425579.72654791,
           5777621.37389484,
           8051799.933446149,
           5061315.252699409,
           5360806.81461171,
           3642481.8294197386,
           3337462.904262436
          ],
          "colorbar": {
           "title": {
            "text": "MAE"
           },
           "x": 0.9,
           "y": 0.5
          },
          "colorscale": [
           [
            0,
            "rgb(0,0,0)"
           ],
           [
            0.3333333333333333,
            "rgb(230,0,0)"
           ],
           [
            0.6666666666666666,
            "rgb(255,210,0)"
           ],
           [
            1,
            "rgb(255,255,255)"
           ]
          ],
          "size": 3
         },
         "mode": "markers",
         "type": "scatter3d",
         "x": [
          278,
          120,
          239,
          147,
          298,
          260,
          274,
          161,
          162,
          116,
          267,
          95,
          226,
          279,
          148,
          274,
          225,
          219,
          30,
          129,
          223,
          234,
          126,
          143,
          185,
          266,
          215,
          44,
          27,
          53,
          121,
          206,
          242,
          195,
          230,
          220,
          214,
          224,
          82,
          48,
          40,
          227,
          193,
          56,
          227,
          188,
          148,
          112,
          73,
          189,
          29,
          271,
          146,
          171
         ],
         "y": [
          27,
          295,
          258,
          281,
          293,
          115,
          207,
          119,
          181,
          211,
          40,
          34,
          201,
          184,
          121,
          240,
          264,
          286,
          226,
          179,
          164,
          224,
          66,
          35,
          275,
          129,
          144,
          89,
          61,
          112,
          190,
          268,
          143,
          67,
          26,
          185,
          162,
          50,
          34,
          299,
          90,
          264,
          90,
          289,
          221,
          86,
          172,
          70,
          137,
          10,
          261,
          67,
          19,
          153
         ],
         "z": [
          257,
          62,
          206,
          243,
          157,
          92,
          231,
          85,
          263,
          121,
          55,
          238,
          201,
          7,
          20,
          118,
          16,
          142,
          145,
          217,
          262,
          208,
          283,
          156,
          44,
          38,
          275,
          247,
          53,
          157,
          197,
          186,
          153,
          107,
          221,
          270,
          110,
          40,
          214,
          7,
          42,
          176,
          63,
          280,
          209,
          101,
          137,
          214,
          52,
          245,
          147,
          172,
          30,
          72
         ]
        }
       ],
       "layout": {
        "template": {
         "data": {
          "bar": [
           {
            "error_x": {
             "color": "#2a3f5f"
            },
            "error_y": {
             "color": "#2a3f5f"
            },
            "marker": {
             "line": {
              "color": "#E5ECF6",
              "width": 0.5
             }
            },
            "type": "bar"
           }
          ],
          "barpolar": [
           {
            "marker": {
             "line": {
              "color": "#E5ECF6",
              "width": 0.5
             }
            },
            "type": "barpolar"
           }
          ],
          "carpet": [
           {
            "aaxis": {
             "endlinecolor": "#2a3f5f",
             "gridcolor": "white",
             "linecolor": "white",
             "minorgridcolor": "white",
             "startlinecolor": "#2a3f5f"
            },
            "baxis": {
             "endlinecolor": "#2a3f5f",
             "gridcolor": "white",
             "linecolor": "white",
             "minorgridcolor": "white",
             "startlinecolor": "#2a3f5f"
            },
            "type": "carpet"
           }
          ],
          "choropleth": [
           {
            "colorbar": {
             "outlinewidth": 0,
             "ticks": ""
            },
            "type": "choropleth"
           }
          ],
          "contour": [
           {
            "colorbar": {
             "outlinewidth": 0,
             "ticks": ""
            },
            "colorscale": [
             [
              0,
              "#0d0887"
             ],
             [
              0.1111111111111111,
              "#46039f"
             ],
             [
              0.2222222222222222,
              "#7201a8"
             ],
             [
              0.3333333333333333,
              "#9c179e"
             ],
             [
              0.4444444444444444,
              "#bd3786"
             ],
             [
              0.5555555555555556,
              "#d8576b"
             ],
             [
              0.6666666666666666,
              "#ed7953"
             ],
             [
              0.7777777777777778,
              "#fb9f3a"
             ],
             [
              0.8888888888888888,
              "#fdca26"
             ],
             [
              1,
              "#f0f921"
             ]
            ],
            "type": "contour"
           }
          ],
          "contourcarpet": [
           {
            "colorbar": {
             "outlinewidth": 0,
             "ticks": ""
            },
            "type": "contourcarpet"
           }
          ],
          "heatmap": [
           {
            "colorbar": {
             "outlinewidth": 0,
             "ticks": ""
            },
            "colorscale": [
             [
              0,
              "#0d0887"
             ],
             [
              0.1111111111111111,
              "#46039f"
             ],
             [
              0.2222222222222222,
              "#7201a8"
             ],
             [
              0.3333333333333333,
              "#9c179e"
             ],
             [
              0.4444444444444444,
              "#bd3786"
             ],
             [
              0.5555555555555556,
              "#d8576b"
             ],
             [
              0.6666666666666666,
              "#ed7953"
             ],
             [
              0.7777777777777778,
              "#fb9f3a"
             ],
             [
              0.8888888888888888,
              "#fdca26"
             ],
             [
              1,
              "#f0f921"
             ]
            ],
            "type": "heatmap"
           }
          ],
          "heatmapgl": [
           {
            "colorbar": {
             "outlinewidth": 0,
             "ticks": ""
            },
            "colorscale": [
             [
              0,
              "#0d0887"
             ],
             [
              0.1111111111111111,
              "#46039f"
             ],
             [
              0.2222222222222222,
              "#7201a8"
             ],
             [
              0.3333333333333333,
              "#9c179e"
             ],
             [
              0.4444444444444444,
              "#bd3786"
             ],
             [
              0.5555555555555556,
              "#d8576b"
             ],
             [
              0.6666666666666666,
              "#ed7953"
             ],
             [
              0.7777777777777778,
              "#fb9f3a"
             ],
             [
              0.8888888888888888,
              "#fdca26"
             ],
             [
              1,
              "#f0f921"
             ]
            ],
            "type": "heatmapgl"
           }
          ],
          "histogram": [
           {
            "marker": {
             "colorbar": {
              "outlinewidth": 0,
              "ticks": ""
             }
            },
            "type": "histogram"
           }
          ],
          "histogram2d": [
           {
            "colorbar": {
             "outlinewidth": 0,
             "ticks": ""
            },
            "colorscale": [
             [
              0,
              "#0d0887"
             ],
             [
              0.1111111111111111,
              "#46039f"
             ],
             [
              0.2222222222222222,
              "#7201a8"
             ],
             [
              0.3333333333333333,
              "#9c179e"
             ],
             [
              0.4444444444444444,
              "#bd3786"
             ],
             [
              0.5555555555555556,
              "#d8576b"
             ],
             [
              0.6666666666666666,
              "#ed7953"
             ],
             [
              0.7777777777777778,
              "#fb9f3a"
             ],
             [
              0.8888888888888888,
              "#fdca26"
             ],
             [
              1,
              "#f0f921"
             ]
            ],
            "type": "histogram2d"
           }
          ],
          "histogram2dcontour": [
           {
            "colorbar": {
             "outlinewidth": 0,
             "ticks": ""
            },
            "colorscale": [
             [
              0,
              "#0d0887"
             ],
             [
              0.1111111111111111,
              "#46039f"
             ],
             [
              0.2222222222222222,
              "#7201a8"
             ],
             [
              0.3333333333333333,
              "#9c179e"
             ],
             [
              0.4444444444444444,
              "#bd3786"
             ],
             [
              0.5555555555555556,
              "#d8576b"
             ],
             [
              0.6666666666666666,
              "#ed7953"
             ],
             [
              0.7777777777777778,
              "#fb9f3a"
             ],
             [
              0.8888888888888888,
              "#fdca26"
             ],
             [
              1,
              "#f0f921"
             ]
            ],
            "type": "histogram2dcontour"
           }
          ],
          "mesh3d": [
           {
            "colorbar": {
             "outlinewidth": 0,
             "ticks": ""
            },
            "type": "mesh3d"
           }
          ],
          "parcoords": [
           {
            "line": {
             "colorbar": {
              "outlinewidth": 0,
              "ticks": ""
             }
            },
            "type": "parcoords"
           }
          ],
          "pie": [
           {
            "automargin": true,
            "type": "pie"
           }
          ],
          "scatter": [
           {
            "marker": {
             "colorbar": {
              "outlinewidth": 0,
              "ticks": ""
             }
            },
            "type": "scatter"
           }
          ],
          "scatter3d": [
           {
            "line": {
             "colorbar": {
              "outlinewidth": 0,
              "ticks": ""
             }
            },
            "marker": {
             "colorbar": {
              "outlinewidth": 0,
              "ticks": ""
             }
            },
            "type": "scatter3d"
           }
          ],
          "scattercarpet": [
           {
            "marker": {
             "colorbar": {
              "outlinewidth": 0,
              "ticks": ""
             }
            },
            "type": "scattercarpet"
           }
          ],
          "scattergeo": [
           {
            "marker": {
             "colorbar": {
              "outlinewidth": 0,
              "ticks": ""
             }
            },
            "type": "scattergeo"
           }
          ],
          "scattergl": [
           {
            "marker": {
             "colorbar": {
              "outlinewidth": 0,
              "ticks": ""
             }
            },
            "type": "scattergl"
           }
          ],
          "scattermapbox": [
           {
            "marker": {
             "colorbar": {
              "outlinewidth": 0,
              "ticks": ""
             }
            },
            "type": "scattermapbox"
           }
          ],
          "scatterpolar": [
           {
            "marker": {
             "colorbar": {
              "outlinewidth": 0,
              "ticks": ""
             }
            },
            "type": "scatterpolar"
           }
          ],
          "scatterpolargl": [
           {
            "marker": {
             "colorbar": {
              "outlinewidth": 0,
              "ticks": ""
             }
            },
            "type": "scatterpolargl"
           }
          ],
          "scatterternary": [
           {
            "marker": {
             "colorbar": {
              "outlinewidth": 0,
              "ticks": ""
             }
            },
            "type": "scatterternary"
           }
          ],
          "surface": [
           {
            "colorbar": {
             "outlinewidth": 0,
             "ticks": ""
            },
            "colorscale": [
             [
              0,
              "#0d0887"
             ],
             [
              0.1111111111111111,
              "#46039f"
             ],
             [
              0.2222222222222222,
              "#7201a8"
             ],
             [
              0.3333333333333333,
              "#9c179e"
             ],
             [
              0.4444444444444444,
              "#bd3786"
             ],
             [
              0.5555555555555556,
              "#d8576b"
             ],
             [
              0.6666666666666666,
              "#ed7953"
             ],
             [
              0.7777777777777778,
              "#fb9f3a"
             ],
             [
              0.8888888888888888,
              "#fdca26"
             ],
             [
              1,
              "#f0f921"
             ]
            ],
            "type": "surface"
           }
          ],
          "table": [
           {
            "cells": {
             "fill": {
              "color": "#EBF0F8"
             },
             "line": {
              "color": "white"
             }
            },
            "header": {
             "fill": {
              "color": "#C8D4E3"
             },
             "line": {
              "color": "white"
             }
            },
            "type": "table"
           }
          ]
         },
         "layout": {
          "annotationdefaults": {
           "arrowcolor": "#2a3f5f",
           "arrowhead": 0,
           "arrowwidth": 1
          },
          "coloraxis": {
           "colorbar": {
            "outlinewidth": 0,
            "ticks": ""
           }
          },
          "colorscale": {
           "diverging": [
            [
             0,
             "#8e0152"
            ],
            [
             0.1,
             "#c51b7d"
            ],
            [
             0.2,
             "#de77ae"
            ],
            [
             0.3,
             "#f1b6da"
            ],
            [
             0.4,
             "#fde0ef"
            ],
            [
             0.5,
             "#f7f7f7"
            ],
            [
             0.6,
             "#e6f5d0"
            ],
            [
             0.7,
             "#b8e186"
            ],
            [
             0.8,
             "#7fbc41"
            ],
            [
             0.9,
             "#4d9221"
            ],
            [
             1,
             "#276419"
            ]
           ],
           "sequential": [
            [
             0,
             "#0d0887"
            ],
            [
             0.1111111111111111,
             "#46039f"
            ],
            [
             0.2222222222222222,
             "#7201a8"
            ],
            [
             0.3333333333333333,
             "#9c179e"
            ],
            [
             0.4444444444444444,
             "#bd3786"
            ],
            [
             0.5555555555555556,
             "#d8576b"
            ],
            [
             0.6666666666666666,
             "#ed7953"
            ],
            [
             0.7777777777777778,
             "#fb9f3a"
            ],
            [
             0.8888888888888888,
             "#fdca26"
            ],
            [
             1,
             "#f0f921"
            ]
           ],
           "sequentialminus": [
            [
             0,
             "#0d0887"
            ],
            [
             0.1111111111111111,
             "#46039f"
            ],
            [
             0.2222222222222222,
             "#7201a8"
            ],
            [
             0.3333333333333333,
             "#9c179e"
            ],
            [
             0.4444444444444444,
             "#bd3786"
            ],
            [
             0.5555555555555556,
             "#d8576b"
            ],
            [
             0.6666666666666666,
             "#ed7953"
            ],
            [
             0.7777777777777778,
             "#fb9f3a"
            ],
            [
             0.8888888888888888,
             "#fdca26"
            ],
            [
             1,
             "#f0f921"
            ]
           ]
          },
          "colorway": [
           "#636efa",
           "#EF553B",
           "#00cc96",
           "#ab63fa",
           "#FFA15A",
           "#19d3f3",
           "#FF6692",
           "#B6E880",
           "#FF97FF",
           "#FECB52"
          ],
          "font": {
           "color": "#2a3f5f"
          },
          "geo": {
           "bgcolor": "white",
           "lakecolor": "white",
           "landcolor": "#E5ECF6",
           "showlakes": true,
           "showland": true,
           "subunitcolor": "white"
          },
          "hoverlabel": {
           "align": "left"
          },
          "hovermode": "closest",
          "mapbox": {
           "style": "light"
          },
          "paper_bgcolor": "white",
          "plot_bgcolor": "#E5ECF6",
          "polar": {
           "angularaxis": {
            "gridcolor": "white",
            "linecolor": "white",
            "ticks": ""
           },
           "bgcolor": "#E5ECF6",
           "radialaxis": {
            "gridcolor": "white",
            "linecolor": "white",
            "ticks": ""
           }
          },
          "scene": {
           "xaxis": {
            "backgroundcolor": "#E5ECF6",
            "gridcolor": "white",
            "gridwidth": 2,
            "linecolor": "white",
            "showbackground": true,
            "ticks": "",
            "zerolinecolor": "white"
           },
           "yaxis": {
            "backgroundcolor": "#E5ECF6",
            "gridcolor": "white",
            "gridwidth": 2,
            "linecolor": "white",
            "showbackground": true,
            "ticks": "",
            "zerolinecolor": "white"
           },
           "zaxis": {
            "backgroundcolor": "#E5ECF6",
            "gridcolor": "white",
            "gridwidth": 2,
            "linecolor": "white",
            "showbackground": true,
            "ticks": "",
            "zerolinecolor": "white"
           }
          },
          "shapedefaults": {
           "line": {
            "color": "#2a3f5f"
           }
          },
          "ternary": {
           "aaxis": {
            "gridcolor": "white",
            "linecolor": "white",
            "ticks": ""
           },
           "baxis": {
            "gridcolor": "white",
            "linecolor": "white",
            "ticks": ""
           },
           "bgcolor": "#E5ECF6",
           "caxis": {
            "gridcolor": "white",
            "linecolor": "white",
            "ticks": ""
           }
          },
          "title": {
           "x": 0.05
          },
          "xaxis": {
           "automargin": true,
           "gridcolor": "white",
           "linecolor": "white",
           "ticks": "",
           "title": {
            "standoff": 15
           },
           "zerolinecolor": "white",
           "zerolinewidth": 2
          },
          "yaxis": {
           "automargin": true,
           "gridcolor": "white",
           "linecolor": "white",
           "ticks": "",
           "title": {
            "standoff": 15
           },
           "zerolinecolor": "white",
           "zerolinewidth": 2
          }
         }
        }
       }
      },
      "text/html": [
       "<div>                            <div id=\"4da21e16-42e8-4efb-bda9-726287a23d20\" class=\"plotly-graph-div\" style=\"height:525px; width:100%;\"></div>            <script type=\"text/javascript\">                require([\"plotly\"], function(Plotly) {                    window.PLOTLYENV=window.PLOTLYENV || {};                                    if (document.getElementById(\"4da21e16-42e8-4efb-bda9-726287a23d20\")) {                    Plotly.newPlot(                        \"4da21e16-42e8-4efb-bda9-726287a23d20\",                        [{\"marker\": {\"color\": [3279532.8687002966, 3582860.565954606, 5486701.048595117, 4787464.964845304, 4530857.487241028, 5120296.587430455, 5991436.777139471, 4755053.378605113, 3720814.70501702, 4669351.6431714, 3445835.1458946196, 5462835.292689152, 3380092.9699605443, 3875571.450708518, 5664866.730840039, 7783529.888028995, 3544432.621763034, 4013860.20142296, 5314011.544392994, 3449277.3939459883, 4011252.3586132457, 4649708.328883131, 6165530.340310355, 8436621.858765114, 4341617.954463067, 5282111.900552225, 3825240.3343780944, 3630128.8866440863, 3667523.088991448, 6486202.826406964, 5864744.177271917, 4874634.01153995, 5884395.074521256, 5636383.794866825, 5095026.383480646, 5708155.464009307, 6358634.921382401, 4673386.263708385, 4703842.839177951, 6369860.169210909, 3771295.0424920255, 5293857.827024025, 8323453.034966132, 3927222.502797012, 3695512.275288363, 6380250.827701313, 5466648.412607083, 5425579.72654791, 5777621.37389484, 8051799.933446149, 5061315.252699409, 5360806.81461171, 3642481.8294197386, 3337462.904262436], \"colorbar\": {\"title\": {\"text\": \"MAE\"}, \"x\": 0.9, \"y\": 0.5}, \"colorscale\": [[0.0, \"rgb(0,0,0)\"], [0.3333333333333333, \"rgb(230,0,0)\"], [0.6666666666666666, \"rgb(255,210,0)\"], [1.0, \"rgb(255,255,255)\"]], \"size\": 3}, \"mode\": \"markers\", \"type\": \"scatter3d\", \"x\": [278, 120, 239, 147, 298, 260, 274, 161, 162, 116, 267, 95, 226, 279, 148, 274, 225, 219, 30, 129, 223, 234, 126, 143, 185, 266, 215, 44, 27, 53, 121, 206, 242, 195, 230, 220, 214, 224, 82, 48, 40, 227, 193, 56, 227, 188, 148, 112, 73, 189, 29, 271, 146, 171], \"y\": [27, 295, 258, 281, 293, 115, 207, 119, 181, 211, 40, 34, 201, 184, 121, 240, 264, 286, 226, 179, 164, 224, 66, 35, 275, 129, 144, 89, 61, 112, 190, 268, 143, 67, 26, 185, 162, 50, 34, 299, 90, 264, 90, 289, 221, 86, 172, 70, 137, 10, 261, 67, 19, 153], \"z\": [257, 62, 206, 243, 157, 92, 231, 85, 263, 121, 55, 238, 201, 7, 20, 118, 16, 142, 145, 217, 262, 208, 283, 156, 44, 38, 275, 247, 53, 157, 197, 186, 153, 107, 221, 270, 110, 40, 214, 7, 42, 176, 63, 280, 209, 101, 137, 214, 52, 245, 147, 172, 30, 72]}],                        {\"template\": {\"data\": {\"bar\": [{\"error_x\": {\"color\": \"#2a3f5f\"}, \"error_y\": {\"color\": \"#2a3f5f\"}, \"marker\": {\"line\": {\"color\": \"#E5ECF6\", \"width\": 0.5}}, \"type\": \"bar\"}], \"barpolar\": [{\"marker\": {\"line\": {\"color\": \"#E5ECF6\", \"width\": 0.5}}, \"type\": \"barpolar\"}], \"carpet\": [{\"aaxis\": {\"endlinecolor\": \"#2a3f5f\", \"gridcolor\": \"white\", \"linecolor\": \"white\", \"minorgridcolor\": \"white\", \"startlinecolor\": \"#2a3f5f\"}, \"baxis\": {\"endlinecolor\": \"#2a3f5f\", \"gridcolor\": \"white\", \"linecolor\": \"white\", \"minorgridcolor\": \"white\", \"startlinecolor\": \"#2a3f5f\"}, \"type\": \"carpet\"}], \"choropleth\": [{\"colorbar\": {\"outlinewidth\": 0, \"ticks\": \"\"}, \"type\": \"choropleth\"}], \"contour\": [{\"colorbar\": {\"outlinewidth\": 0, \"ticks\": \"\"}, \"colorscale\": [[0.0, \"#0d0887\"], [0.1111111111111111, \"#46039f\"], [0.2222222222222222, \"#7201a8\"], [0.3333333333333333, \"#9c179e\"], [0.4444444444444444, \"#bd3786\"], [0.5555555555555556, \"#d8576b\"], [0.6666666666666666, \"#ed7953\"], [0.7777777777777778, \"#fb9f3a\"], [0.8888888888888888, \"#fdca26\"], [1.0, \"#f0f921\"]], \"type\": \"contour\"}], \"contourcarpet\": [{\"colorbar\": {\"outlinewidth\": 0, \"ticks\": \"\"}, \"type\": \"contourcarpet\"}], \"heatmap\": [{\"colorbar\": {\"outlinewidth\": 0, \"ticks\": \"\"}, \"colorscale\": [[0.0, \"#0d0887\"], [0.1111111111111111, \"#46039f\"], [0.2222222222222222, \"#7201a8\"], [0.3333333333333333, \"#9c179e\"], [0.4444444444444444, \"#bd3786\"], [0.5555555555555556, \"#d8576b\"], [0.6666666666666666, \"#ed7953\"], [0.7777777777777778, \"#fb9f3a\"], [0.8888888888888888, \"#fdca26\"], [1.0, \"#f0f921\"]], \"type\": \"heatmap\"}], \"heatmapgl\": [{\"colorbar\": {\"outlinewidth\": 0, \"ticks\": \"\"}, \"colorscale\": [[0.0, \"#0d0887\"], [0.1111111111111111, \"#46039f\"], [0.2222222222222222, \"#7201a8\"], [0.3333333333333333, \"#9c179e\"], [0.4444444444444444, \"#bd3786\"], [0.5555555555555556, \"#d8576b\"], [0.6666666666666666, \"#ed7953\"], [0.7777777777777778, \"#fb9f3a\"], [0.8888888888888888, \"#fdca26\"], [1.0, \"#f0f921\"]], \"type\": \"heatmapgl\"}], \"histogram\": [{\"marker\": {\"colorbar\": {\"outlinewidth\": 0, \"ticks\": \"\"}}, \"type\": \"histogram\"}], \"histogram2d\": [{\"colorbar\": {\"outlinewidth\": 0, \"ticks\": \"\"}, \"colorscale\": [[0.0, \"#0d0887\"], [0.1111111111111111, \"#46039f\"], [0.2222222222222222, \"#7201a8\"], [0.3333333333333333, \"#9c179e\"], [0.4444444444444444, \"#bd3786\"], [0.5555555555555556, \"#d8576b\"], [0.6666666666666666, \"#ed7953\"], [0.7777777777777778, \"#fb9f3a\"], [0.8888888888888888, \"#fdca26\"], [1.0, \"#f0f921\"]], \"type\": \"histogram2d\"}], \"histogram2dcontour\": [{\"colorbar\": {\"outlinewidth\": 0, \"ticks\": \"\"}, \"colorscale\": [[0.0, \"#0d0887\"], [0.1111111111111111, \"#46039f\"], [0.2222222222222222, \"#7201a8\"], [0.3333333333333333, \"#9c179e\"], [0.4444444444444444, \"#bd3786\"], [0.5555555555555556, \"#d8576b\"], [0.6666666666666666, \"#ed7953\"], [0.7777777777777778, \"#fb9f3a\"], [0.8888888888888888, \"#fdca26\"], [1.0, \"#f0f921\"]], \"type\": \"histogram2dcontour\"}], \"mesh3d\": [{\"colorbar\": {\"outlinewidth\": 0, \"ticks\": \"\"}, \"type\": \"mesh3d\"}], \"parcoords\": [{\"line\": {\"colorbar\": {\"outlinewidth\": 0, \"ticks\": \"\"}}, \"type\": \"parcoords\"}], \"pie\": [{\"automargin\": true, \"type\": \"pie\"}], \"scatter\": [{\"marker\": {\"colorbar\": {\"outlinewidth\": 0, \"ticks\": \"\"}}, \"type\": \"scatter\"}], \"scatter3d\": [{\"line\": {\"colorbar\": {\"outlinewidth\": 0, \"ticks\": \"\"}}, \"marker\": {\"colorbar\": {\"outlinewidth\": 0, \"ticks\": \"\"}}, \"type\": \"scatter3d\"}], \"scattercarpet\": [{\"marker\": {\"colorbar\": {\"outlinewidth\": 0, \"ticks\": \"\"}}, \"type\": \"scattercarpet\"}], \"scattergeo\": [{\"marker\": {\"colorbar\": {\"outlinewidth\": 0, \"ticks\": \"\"}}, \"type\": \"scattergeo\"}], \"scattergl\": [{\"marker\": {\"colorbar\": {\"outlinewidth\": 0, \"ticks\": \"\"}}, \"type\": \"scattergl\"}], \"scattermapbox\": [{\"marker\": {\"colorbar\": {\"outlinewidth\": 0, \"ticks\": \"\"}}, \"type\": \"scattermapbox\"}], \"scatterpolar\": [{\"marker\": {\"colorbar\": {\"outlinewidth\": 0, \"ticks\": \"\"}}, \"type\": \"scatterpolar\"}], \"scatterpolargl\": [{\"marker\": {\"colorbar\": {\"outlinewidth\": 0, \"ticks\": \"\"}}, \"type\": \"scatterpolargl\"}], \"scatterternary\": [{\"marker\": {\"colorbar\": {\"outlinewidth\": 0, \"ticks\": \"\"}}, \"type\": \"scatterternary\"}], \"surface\": [{\"colorbar\": {\"outlinewidth\": 0, \"ticks\": \"\"}, \"colorscale\": [[0.0, \"#0d0887\"], [0.1111111111111111, \"#46039f\"], [0.2222222222222222, \"#7201a8\"], [0.3333333333333333, \"#9c179e\"], [0.4444444444444444, \"#bd3786\"], [0.5555555555555556, \"#d8576b\"], [0.6666666666666666, \"#ed7953\"], [0.7777777777777778, \"#fb9f3a\"], [0.8888888888888888, \"#fdca26\"], [1.0, \"#f0f921\"]], \"type\": \"surface\"}], \"table\": [{\"cells\": {\"fill\": {\"color\": \"#EBF0F8\"}, \"line\": {\"color\": \"white\"}}, \"header\": {\"fill\": {\"color\": \"#C8D4E3\"}, \"line\": {\"color\": \"white\"}}, \"type\": \"table\"}]}, \"layout\": {\"annotationdefaults\": {\"arrowcolor\": \"#2a3f5f\", \"arrowhead\": 0, \"arrowwidth\": 1}, \"coloraxis\": {\"colorbar\": {\"outlinewidth\": 0, \"ticks\": \"\"}}, \"colorscale\": {\"diverging\": [[0, \"#8e0152\"], [0.1, \"#c51b7d\"], [0.2, \"#de77ae\"], [0.3, \"#f1b6da\"], [0.4, \"#fde0ef\"], [0.5, \"#f7f7f7\"], [0.6, \"#e6f5d0\"], [0.7, \"#b8e186\"], [0.8, \"#7fbc41\"], [0.9, \"#4d9221\"], [1, \"#276419\"]], \"sequential\": [[0.0, \"#0d0887\"], [0.1111111111111111, \"#46039f\"], [0.2222222222222222, \"#7201a8\"], [0.3333333333333333, \"#9c179e\"], [0.4444444444444444, \"#bd3786\"], [0.5555555555555556, \"#d8576b\"], [0.6666666666666666, \"#ed7953\"], [0.7777777777777778, \"#fb9f3a\"], [0.8888888888888888, \"#fdca26\"], [1.0, \"#f0f921\"]], \"sequentialminus\": [[0.0, \"#0d0887\"], [0.1111111111111111, \"#46039f\"], [0.2222222222222222, \"#7201a8\"], [0.3333333333333333, \"#9c179e\"], [0.4444444444444444, \"#bd3786\"], [0.5555555555555556, \"#d8576b\"], [0.6666666666666666, \"#ed7953\"], [0.7777777777777778, \"#fb9f3a\"], [0.8888888888888888, \"#fdca26\"], [1.0, \"#f0f921\"]]}, \"colorway\": [\"#636efa\", \"#EF553B\", \"#00cc96\", \"#ab63fa\", \"#FFA15A\", \"#19d3f3\", \"#FF6692\", \"#B6E880\", \"#FF97FF\", \"#FECB52\"], \"font\": {\"color\": \"#2a3f5f\"}, \"geo\": {\"bgcolor\": \"white\", \"lakecolor\": \"white\", \"landcolor\": \"#E5ECF6\", \"showlakes\": true, \"showland\": true, \"subunitcolor\": \"white\"}, \"hoverlabel\": {\"align\": \"left\"}, \"hovermode\": \"closest\", \"mapbox\": {\"style\": \"light\"}, \"paper_bgcolor\": \"white\", \"plot_bgcolor\": \"#E5ECF6\", \"polar\": {\"angularaxis\": {\"gridcolor\": \"white\", \"linecolor\": \"white\", \"ticks\": \"\"}, \"bgcolor\": \"#E5ECF6\", \"radialaxis\": {\"gridcolor\": \"white\", \"linecolor\": \"white\", \"ticks\": \"\"}}, \"scene\": {\"xaxis\": {\"backgroundcolor\": \"#E5ECF6\", \"gridcolor\": \"white\", \"gridwidth\": 2, \"linecolor\": \"white\", \"showbackground\": true, \"ticks\": \"\", \"zerolinecolor\": \"white\"}, \"yaxis\": {\"backgroundcolor\": \"#E5ECF6\", \"gridcolor\": \"white\", \"gridwidth\": 2, \"linecolor\": \"white\", \"showbackground\": true, \"ticks\": \"\", \"zerolinecolor\": \"white\"}, \"zaxis\": {\"backgroundcolor\": \"#E5ECF6\", \"gridcolor\": \"white\", \"gridwidth\": 2, \"linecolor\": \"white\", \"showbackground\": true, \"ticks\": \"\", \"zerolinecolor\": \"white\"}}, \"shapedefaults\": {\"line\": {\"color\": \"#2a3f5f\"}}, \"ternary\": {\"aaxis\": {\"gridcolor\": \"white\", \"linecolor\": \"white\", \"ticks\": \"\"}, \"baxis\": {\"gridcolor\": \"white\", \"linecolor\": \"white\", \"ticks\": \"\"}, \"bgcolor\": \"#E5ECF6\", \"caxis\": {\"gridcolor\": \"white\", \"linecolor\": \"white\", \"ticks\": \"\"}}, \"title\": {\"x\": 0.05}, \"xaxis\": {\"automargin\": true, \"gridcolor\": \"white\", \"linecolor\": \"white\", \"ticks\": \"\", \"title\": {\"standoff\": 15}, \"zerolinecolor\": \"white\", \"zerolinewidth\": 2}, \"yaxis\": {\"automargin\": true, \"gridcolor\": \"white\", \"linecolor\": \"white\", \"ticks\": \"\", \"title\": {\"standoff\": 15}, \"zerolinecolor\": \"white\", \"zerolinewidth\": 2}}}},                        {\"responsive\": true}                    ).then(function(){\n",
       "                            \n",
       "var gd = document.getElementById('4da21e16-42e8-4efb-bda9-726287a23d20');\n",
       "var x = new MutationObserver(function (mutations, observer) {{\n",
       "        var display = window.getComputedStyle(gd).display;\n",
       "        if (!display || display === 'none') {{\n",
       "            console.log([gd, 'removed!']);\n",
       "            Plotly.purge(gd);\n",
       "            observer.disconnect();\n",
       "        }}\n",
       "}});\n",
       "\n",
       "// Listen for the removal of the full notebook cells\n",
       "var notebookContainer = gd.closest('#notebook-container');\n",
       "if (notebookContainer) {{\n",
       "    x.observe(notebookContainer, {childList: true});\n",
       "}}\n",
       "\n",
       "// Listen for the clearing of the current output cell\n",
       "var outputEl = gd.closest('.output');\n",
       "if (outputEl) {{\n",
       "    x.observe(outputEl, {childList: true});\n",
       "}}\n",
       "\n",
       "                        })                };                });            </script>        </div>"
      ]
     },
     "metadata": {},
     "output_type": "display_data"
    }
   ],
   "source": [
    "fig = go.Figure(data = [go.Scatter3d(x = X_gbdt, y = Y_gbdt, z = Z_gbdt,\n",
    "                                     mode = 'markers', marker = dict(color = col, size = 3, \n",
    "                                                                     colorscale = \"hot\", \n",
    "                                                                     colorbar = {\"x\": 0.9, \n",
    "                                                                                 \"y\": 0.5, \n",
    "                                                                                 \"title\": \"MAE\"}))])\n",
    "fig.show()"
   ]
  },
  {
   "cell_type": "code",
   "execution_count": 58,
   "metadata": {
    "collapsed": true
   },
   "outputs": [
    {
     "data": {
      "application/vnd.plotly.v1+json": {
       "config": {
        "plotlyServerURL": "https://plot.ly"
       },
       "data": [
        {
         "mode": "markers",
         "type": "scatter",
         "x": [
          75,
          138,
          208,
          131,
          163,
          237,
          188,
          91,
          155,
          233,
          226,
          131,
          110,
          107,
          178,
          82,
          254,
          264,
          273,
          89,
          86,
          111,
          56,
          75,
          31,
          283,
          41,
          119,
          221,
          38,
          154,
          292,
          117,
          293,
          247,
          264,
          163,
          278,
          150,
          258,
          46,
          200,
          149,
          273,
          170,
          50
         ],
         "y": [
          3372753.273400127,
          2810743.555741155,
          3017143.0214361786,
          3430376.785984915,
          3052743.544263173,
          3097036.156083528,
          2657168.6237388183,
          2912829.4270349466,
          3684181.3500800733,
          3256373.2980521596,
          3518215.4459922477,
          3040317.6128819035,
          2748717.8102078824,
          3339466.784307597,
          3244104.9325284627,
          2802753.8530179025,
          3209664.375652496,
          3322537.424024,
          5895592.634448352,
          3123112.7582161264,
          3412709.7466265,
          2791707.1397272907,
          2794375.3019249695,
          2890455.964341947,
          3205787.4633493843,
          3165491.02107826,
          2998157.0787479887,
          3424082.436260622,
          3176377.3981219297,
          3043491.291059281,
          3316042.553464348,
          3080165.42863463,
          3071283.022152126,
          3514758.081916045,
          2882415.8848872753,
          3078830.6434280425,
          3160773.597932139,
          3066246.263882493,
          2752956.3024729304,
          3109692.624497564,
          3560887.762006282,
          3248468.5559452837,
          2931314.64813448,
          2817411.2837940454,
          3385136.022797253,
          3543205.575471923
         ]
        }
       ],
       "layout": {
        "template": {
         "data": {
          "bar": [
           {
            "error_x": {
             "color": "#2a3f5f"
            },
            "error_y": {
             "color": "#2a3f5f"
            },
            "marker": {
             "line": {
              "color": "#E5ECF6",
              "width": 0.5
             }
            },
            "type": "bar"
           }
          ],
          "barpolar": [
           {
            "marker": {
             "line": {
              "color": "#E5ECF6",
              "width": 0.5
             }
            },
            "type": "barpolar"
           }
          ],
          "carpet": [
           {
            "aaxis": {
             "endlinecolor": "#2a3f5f",
             "gridcolor": "white",
             "linecolor": "white",
             "minorgridcolor": "white",
             "startlinecolor": "#2a3f5f"
            },
            "baxis": {
             "endlinecolor": "#2a3f5f",
             "gridcolor": "white",
             "linecolor": "white",
             "minorgridcolor": "white",
             "startlinecolor": "#2a3f5f"
            },
            "type": "carpet"
           }
          ],
          "choropleth": [
           {
            "colorbar": {
             "outlinewidth": 0,
             "ticks": ""
            },
            "type": "choropleth"
           }
          ],
          "contour": [
           {
            "colorbar": {
             "outlinewidth": 0,
             "ticks": ""
            },
            "colorscale": [
             [
              0,
              "#0d0887"
             ],
             [
              0.1111111111111111,
              "#46039f"
             ],
             [
              0.2222222222222222,
              "#7201a8"
             ],
             [
              0.3333333333333333,
              "#9c179e"
             ],
             [
              0.4444444444444444,
              "#bd3786"
             ],
             [
              0.5555555555555556,
              "#d8576b"
             ],
             [
              0.6666666666666666,
              "#ed7953"
             ],
             [
              0.7777777777777778,
              "#fb9f3a"
             ],
             [
              0.8888888888888888,
              "#fdca26"
             ],
             [
              1,
              "#f0f921"
             ]
            ],
            "type": "contour"
           }
          ],
          "contourcarpet": [
           {
            "colorbar": {
             "outlinewidth": 0,
             "ticks": ""
            },
            "type": "contourcarpet"
           }
          ],
          "heatmap": [
           {
            "colorbar": {
             "outlinewidth": 0,
             "ticks": ""
            },
            "colorscale": [
             [
              0,
              "#0d0887"
             ],
             [
              0.1111111111111111,
              "#46039f"
             ],
             [
              0.2222222222222222,
              "#7201a8"
             ],
             [
              0.3333333333333333,
              "#9c179e"
             ],
             [
              0.4444444444444444,
              "#bd3786"
             ],
             [
              0.5555555555555556,
              "#d8576b"
             ],
             [
              0.6666666666666666,
              "#ed7953"
             ],
             [
              0.7777777777777778,
              "#fb9f3a"
             ],
             [
              0.8888888888888888,
              "#fdca26"
             ],
             [
              1,
              "#f0f921"
             ]
            ],
            "type": "heatmap"
           }
          ],
          "heatmapgl": [
           {
            "colorbar": {
             "outlinewidth": 0,
             "ticks": ""
            },
            "colorscale": [
             [
              0,
              "#0d0887"
             ],
             [
              0.1111111111111111,
              "#46039f"
             ],
             [
              0.2222222222222222,
              "#7201a8"
             ],
             [
              0.3333333333333333,
              "#9c179e"
             ],
             [
              0.4444444444444444,
              "#bd3786"
             ],
             [
              0.5555555555555556,
              "#d8576b"
             ],
             [
              0.6666666666666666,
              "#ed7953"
             ],
             [
              0.7777777777777778,
              "#fb9f3a"
             ],
             [
              0.8888888888888888,
              "#fdca26"
             ],
             [
              1,
              "#f0f921"
             ]
            ],
            "type": "heatmapgl"
           }
          ],
          "histogram": [
           {
            "marker": {
             "colorbar": {
              "outlinewidth": 0,
              "ticks": ""
             }
            },
            "type": "histogram"
           }
          ],
          "histogram2d": [
           {
            "colorbar": {
             "outlinewidth": 0,
             "ticks": ""
            },
            "colorscale": [
             [
              0,
              "#0d0887"
             ],
             [
              0.1111111111111111,
              "#46039f"
             ],
             [
              0.2222222222222222,
              "#7201a8"
             ],
             [
              0.3333333333333333,
              "#9c179e"
             ],
             [
              0.4444444444444444,
              "#bd3786"
             ],
             [
              0.5555555555555556,
              "#d8576b"
             ],
             [
              0.6666666666666666,
              "#ed7953"
             ],
             [
              0.7777777777777778,
              "#fb9f3a"
             ],
             [
              0.8888888888888888,
              "#fdca26"
             ],
             [
              1,
              "#f0f921"
             ]
            ],
            "type": "histogram2d"
           }
          ],
          "histogram2dcontour": [
           {
            "colorbar": {
             "outlinewidth": 0,
             "ticks": ""
            },
            "colorscale": [
             [
              0,
              "#0d0887"
             ],
             [
              0.1111111111111111,
              "#46039f"
             ],
             [
              0.2222222222222222,
              "#7201a8"
             ],
             [
              0.3333333333333333,
              "#9c179e"
             ],
             [
              0.4444444444444444,
              "#bd3786"
             ],
             [
              0.5555555555555556,
              "#d8576b"
             ],
             [
              0.6666666666666666,
              "#ed7953"
             ],
             [
              0.7777777777777778,
              "#fb9f3a"
             ],
             [
              0.8888888888888888,
              "#fdca26"
             ],
             [
              1,
              "#f0f921"
             ]
            ],
            "type": "histogram2dcontour"
           }
          ],
          "mesh3d": [
           {
            "colorbar": {
             "outlinewidth": 0,
             "ticks": ""
            },
            "type": "mesh3d"
           }
          ],
          "parcoords": [
           {
            "line": {
             "colorbar": {
              "outlinewidth": 0,
              "ticks": ""
             }
            },
            "type": "parcoords"
           }
          ],
          "pie": [
           {
            "automargin": true,
            "type": "pie"
           }
          ],
          "scatter": [
           {
            "marker": {
             "colorbar": {
              "outlinewidth": 0,
              "ticks": ""
             }
            },
            "type": "scatter"
           }
          ],
          "scatter3d": [
           {
            "line": {
             "colorbar": {
              "outlinewidth": 0,
              "ticks": ""
             }
            },
            "marker": {
             "colorbar": {
              "outlinewidth": 0,
              "ticks": ""
             }
            },
            "type": "scatter3d"
           }
          ],
          "scattercarpet": [
           {
            "marker": {
             "colorbar": {
              "outlinewidth": 0,
              "ticks": ""
             }
            },
            "type": "scattercarpet"
           }
          ],
          "scattergeo": [
           {
            "marker": {
             "colorbar": {
              "outlinewidth": 0,
              "ticks": ""
             }
            },
            "type": "scattergeo"
           }
          ],
          "scattergl": [
           {
            "marker": {
             "colorbar": {
              "outlinewidth": 0,
              "ticks": ""
             }
            },
            "type": "scattergl"
           }
          ],
          "scattermapbox": [
           {
            "marker": {
             "colorbar": {
              "outlinewidth": 0,
              "ticks": ""
             }
            },
            "type": "scattermapbox"
           }
          ],
          "scatterpolar": [
           {
            "marker": {
             "colorbar": {
              "outlinewidth": 0,
              "ticks": ""
             }
            },
            "type": "scatterpolar"
           }
          ],
          "scatterpolargl": [
           {
            "marker": {
             "colorbar": {
              "outlinewidth": 0,
              "ticks": ""
             }
            },
            "type": "scatterpolargl"
           }
          ],
          "scatterternary": [
           {
            "marker": {
             "colorbar": {
              "outlinewidth": 0,
              "ticks": ""
             }
            },
            "type": "scatterternary"
           }
          ],
          "surface": [
           {
            "colorbar": {
             "outlinewidth": 0,
             "ticks": ""
            },
            "colorscale": [
             [
              0,
              "#0d0887"
             ],
             [
              0.1111111111111111,
              "#46039f"
             ],
             [
              0.2222222222222222,
              "#7201a8"
             ],
             [
              0.3333333333333333,
              "#9c179e"
             ],
             [
              0.4444444444444444,
              "#bd3786"
             ],
             [
              0.5555555555555556,
              "#d8576b"
             ],
             [
              0.6666666666666666,
              "#ed7953"
             ],
             [
              0.7777777777777778,
              "#fb9f3a"
             ],
             [
              0.8888888888888888,
              "#fdca26"
             ],
             [
              1,
              "#f0f921"
             ]
            ],
            "type": "surface"
           }
          ],
          "table": [
           {
            "cells": {
             "fill": {
              "color": "#EBF0F8"
             },
             "line": {
              "color": "white"
             }
            },
            "header": {
             "fill": {
              "color": "#C8D4E3"
             },
             "line": {
              "color": "white"
             }
            },
            "type": "table"
           }
          ]
         },
         "layout": {
          "annotationdefaults": {
           "arrowcolor": "#2a3f5f",
           "arrowhead": 0,
           "arrowwidth": 1
          },
          "coloraxis": {
           "colorbar": {
            "outlinewidth": 0,
            "ticks": ""
           }
          },
          "colorscale": {
           "diverging": [
            [
             0,
             "#8e0152"
            ],
            [
             0.1,
             "#c51b7d"
            ],
            [
             0.2,
             "#de77ae"
            ],
            [
             0.3,
             "#f1b6da"
            ],
            [
             0.4,
             "#fde0ef"
            ],
            [
             0.5,
             "#f7f7f7"
            ],
            [
             0.6,
             "#e6f5d0"
            ],
            [
             0.7,
             "#b8e186"
            ],
            [
             0.8,
             "#7fbc41"
            ],
            [
             0.9,
             "#4d9221"
            ],
            [
             1,
             "#276419"
            ]
           ],
           "sequential": [
            [
             0,
             "#0d0887"
            ],
            [
             0.1111111111111111,
             "#46039f"
            ],
            [
             0.2222222222222222,
             "#7201a8"
            ],
            [
             0.3333333333333333,
             "#9c179e"
            ],
            [
             0.4444444444444444,
             "#bd3786"
            ],
            [
             0.5555555555555556,
             "#d8576b"
            ],
            [
             0.6666666666666666,
             "#ed7953"
            ],
            [
             0.7777777777777778,
             "#fb9f3a"
            ],
            [
             0.8888888888888888,
             "#fdca26"
            ],
            [
             1,
             "#f0f921"
            ]
           ],
           "sequentialminus": [
            [
             0,
             "#0d0887"
            ],
            [
             0.1111111111111111,
             "#46039f"
            ],
            [
             0.2222222222222222,
             "#7201a8"
            ],
            [
             0.3333333333333333,
             "#9c179e"
            ],
            [
             0.4444444444444444,
             "#bd3786"
            ],
            [
             0.5555555555555556,
             "#d8576b"
            ],
            [
             0.6666666666666666,
             "#ed7953"
            ],
            [
             0.7777777777777778,
             "#fb9f3a"
            ],
            [
             0.8888888888888888,
             "#fdca26"
            ],
            [
             1,
             "#f0f921"
            ]
           ]
          },
          "colorway": [
           "#636efa",
           "#EF553B",
           "#00cc96",
           "#ab63fa",
           "#FFA15A",
           "#19d3f3",
           "#FF6692",
           "#B6E880",
           "#FF97FF",
           "#FECB52"
          ],
          "font": {
           "color": "#2a3f5f"
          },
          "geo": {
           "bgcolor": "white",
           "lakecolor": "white",
           "landcolor": "#E5ECF6",
           "showlakes": true,
           "showland": true,
           "subunitcolor": "white"
          },
          "hoverlabel": {
           "align": "left"
          },
          "hovermode": "closest",
          "mapbox": {
           "style": "light"
          },
          "paper_bgcolor": "white",
          "plot_bgcolor": "#E5ECF6",
          "polar": {
           "angularaxis": {
            "gridcolor": "white",
            "linecolor": "white",
            "ticks": ""
           },
           "bgcolor": "#E5ECF6",
           "radialaxis": {
            "gridcolor": "white",
            "linecolor": "white",
            "ticks": ""
           }
          },
          "scene": {
           "xaxis": {
            "backgroundcolor": "#E5ECF6",
            "gridcolor": "white",
            "gridwidth": 2,
            "linecolor": "white",
            "showbackground": true,
            "ticks": "",
            "zerolinecolor": "white"
           },
           "yaxis": {
            "backgroundcolor": "#E5ECF6",
            "gridcolor": "white",
            "gridwidth": 2,
            "linecolor": "white",
            "showbackground": true,
            "ticks": "",
            "zerolinecolor": "white"
           },
           "zaxis": {
            "backgroundcolor": "#E5ECF6",
            "gridcolor": "white",
            "gridwidth": 2,
            "linecolor": "white",
            "showbackground": true,
            "ticks": "",
            "zerolinecolor": "white"
           }
          },
          "shapedefaults": {
           "line": {
            "color": "#2a3f5f"
           }
          },
          "ternary": {
           "aaxis": {
            "gridcolor": "white",
            "linecolor": "white",
            "ticks": ""
           },
           "baxis": {
            "gridcolor": "white",
            "linecolor": "white",
            "ticks": ""
           },
           "bgcolor": "#E5ECF6",
           "caxis": {
            "gridcolor": "white",
            "linecolor": "white",
            "ticks": ""
           }
          },
          "title": {
           "x": 0.05
          },
          "xaxis": {
           "automargin": true,
           "gridcolor": "white",
           "linecolor": "white",
           "ticks": "",
           "title": {
            "standoff": 15
           },
           "zerolinecolor": "white",
           "zerolinewidth": 2
          },
          "yaxis": {
           "automargin": true,
           "gridcolor": "white",
           "linecolor": "white",
           "ticks": "",
           "title": {
            "standoff": 15
           },
           "zerolinecolor": "white",
           "zerolinewidth": 2
          }
         }
        },
        "title": {
         "text": "Número de hojas DART"
        },
        "xaxis": {
         "title": {
          "text": "Número de hojas"
         }
        },
        "yaxis": {
         "title": {
          "text": "MAE"
         }
        }
       }
      },
      "text/html": [
       "<div>                            <div id=\"e2e5c623-30c4-4905-b27e-9596f98d5597\" class=\"plotly-graph-div\" style=\"height:525px; width:100%;\"></div>            <script type=\"text/javascript\">                require([\"plotly\"], function(Plotly) {                    window.PLOTLYENV=window.PLOTLYENV || {};                                    if (document.getElementById(\"e2e5c623-30c4-4905-b27e-9596f98d5597\")) {                    Plotly.newPlot(                        \"e2e5c623-30c4-4905-b27e-9596f98d5597\",                        [{\"mode\": \"markers\", \"type\": \"scatter\", \"x\": [75, 138, 208, 131, 163, 237, 188, 91, 155, 233, 226, 131, 110, 107, 178, 82, 254, 264, 273, 89, 86, 111, 56, 75, 31, 283, 41, 119, 221, 38, 154, 292, 117, 293, 247, 264, 163, 278, 150, 258, 46, 200, 149, 273, 170, 50], \"y\": [3372753.273400127, 2810743.555741155, 3017143.0214361786, 3430376.785984915, 3052743.544263173, 3097036.156083528, 2657168.6237388183, 2912829.4270349466, 3684181.3500800733, 3256373.2980521596, 3518215.4459922477, 3040317.6128819035, 2748717.8102078824, 3339466.784307597, 3244104.9325284627, 2802753.8530179025, 3209664.375652496, 3322537.424024, 5895592.634448352, 3123112.7582161264, 3412709.7466265, 2791707.1397272907, 2794375.3019249695, 2890455.964341947, 3205787.4633493843, 3165491.02107826, 2998157.0787479887, 3424082.436260622, 3176377.3981219297, 3043491.291059281, 3316042.553464348, 3080165.42863463, 3071283.022152126, 3514758.081916045, 2882415.8848872753, 3078830.6434280425, 3160773.597932139, 3066246.263882493, 2752956.3024729304, 3109692.624497564, 3560887.762006282, 3248468.5559452837, 2931314.64813448, 2817411.2837940454, 3385136.022797253, 3543205.575471923]}],                        {\"template\": {\"data\": {\"bar\": [{\"error_x\": {\"color\": \"#2a3f5f\"}, \"error_y\": {\"color\": \"#2a3f5f\"}, \"marker\": {\"line\": {\"color\": \"#E5ECF6\", \"width\": 0.5}}, \"type\": \"bar\"}], \"barpolar\": [{\"marker\": {\"line\": {\"color\": \"#E5ECF6\", \"width\": 0.5}}, \"type\": \"barpolar\"}], \"carpet\": [{\"aaxis\": {\"endlinecolor\": \"#2a3f5f\", \"gridcolor\": \"white\", \"linecolor\": \"white\", \"minorgridcolor\": \"white\", \"startlinecolor\": \"#2a3f5f\"}, \"baxis\": {\"endlinecolor\": \"#2a3f5f\", \"gridcolor\": \"white\", \"linecolor\": \"white\", \"minorgridcolor\": \"white\", \"startlinecolor\": \"#2a3f5f\"}, \"type\": \"carpet\"}], \"choropleth\": [{\"colorbar\": {\"outlinewidth\": 0, \"ticks\": \"\"}, \"type\": \"choropleth\"}], \"contour\": [{\"colorbar\": {\"outlinewidth\": 0, \"ticks\": \"\"}, \"colorscale\": [[0.0, \"#0d0887\"], [0.1111111111111111, \"#46039f\"], [0.2222222222222222, \"#7201a8\"], [0.3333333333333333, \"#9c179e\"], [0.4444444444444444, \"#bd3786\"], [0.5555555555555556, \"#d8576b\"], [0.6666666666666666, \"#ed7953\"], [0.7777777777777778, \"#fb9f3a\"], [0.8888888888888888, \"#fdca26\"], [1.0, \"#f0f921\"]], \"type\": \"contour\"}], \"contourcarpet\": [{\"colorbar\": {\"outlinewidth\": 0, \"ticks\": \"\"}, \"type\": \"contourcarpet\"}], \"heatmap\": [{\"colorbar\": {\"outlinewidth\": 0, \"ticks\": \"\"}, \"colorscale\": [[0.0, \"#0d0887\"], [0.1111111111111111, \"#46039f\"], [0.2222222222222222, \"#7201a8\"], [0.3333333333333333, \"#9c179e\"], [0.4444444444444444, \"#bd3786\"], [0.5555555555555556, \"#d8576b\"], [0.6666666666666666, \"#ed7953\"], [0.7777777777777778, \"#fb9f3a\"], [0.8888888888888888, \"#fdca26\"], [1.0, \"#f0f921\"]], \"type\": \"heatmap\"}], \"heatmapgl\": [{\"colorbar\": {\"outlinewidth\": 0, \"ticks\": \"\"}, \"colorscale\": [[0.0, \"#0d0887\"], [0.1111111111111111, \"#46039f\"], [0.2222222222222222, \"#7201a8\"], [0.3333333333333333, \"#9c179e\"], [0.4444444444444444, \"#bd3786\"], [0.5555555555555556, \"#d8576b\"], [0.6666666666666666, \"#ed7953\"], [0.7777777777777778, \"#fb9f3a\"], [0.8888888888888888, \"#fdca26\"], [1.0, \"#f0f921\"]], \"type\": \"heatmapgl\"}], \"histogram\": [{\"marker\": {\"colorbar\": {\"outlinewidth\": 0, \"ticks\": \"\"}}, \"type\": \"histogram\"}], \"histogram2d\": [{\"colorbar\": {\"outlinewidth\": 0, \"ticks\": \"\"}, \"colorscale\": [[0.0, \"#0d0887\"], [0.1111111111111111, \"#46039f\"], [0.2222222222222222, \"#7201a8\"], [0.3333333333333333, \"#9c179e\"], [0.4444444444444444, \"#bd3786\"], [0.5555555555555556, \"#d8576b\"], [0.6666666666666666, \"#ed7953\"], [0.7777777777777778, \"#fb9f3a\"], [0.8888888888888888, \"#fdca26\"], [1.0, \"#f0f921\"]], \"type\": \"histogram2d\"}], \"histogram2dcontour\": [{\"colorbar\": {\"outlinewidth\": 0, \"ticks\": \"\"}, \"colorscale\": [[0.0, \"#0d0887\"], [0.1111111111111111, \"#46039f\"], [0.2222222222222222, \"#7201a8\"], [0.3333333333333333, \"#9c179e\"], [0.4444444444444444, \"#bd3786\"], [0.5555555555555556, \"#d8576b\"], [0.6666666666666666, \"#ed7953\"], [0.7777777777777778, \"#fb9f3a\"], [0.8888888888888888, \"#fdca26\"], [1.0, \"#f0f921\"]], \"type\": \"histogram2dcontour\"}], \"mesh3d\": [{\"colorbar\": {\"outlinewidth\": 0, \"ticks\": \"\"}, \"type\": \"mesh3d\"}], \"parcoords\": [{\"line\": {\"colorbar\": {\"outlinewidth\": 0, \"ticks\": \"\"}}, \"type\": \"parcoords\"}], \"pie\": [{\"automargin\": true, \"type\": \"pie\"}], \"scatter\": [{\"marker\": {\"colorbar\": {\"outlinewidth\": 0, \"ticks\": \"\"}}, \"type\": \"scatter\"}], \"scatter3d\": [{\"line\": {\"colorbar\": {\"outlinewidth\": 0, \"ticks\": \"\"}}, \"marker\": {\"colorbar\": {\"outlinewidth\": 0, \"ticks\": \"\"}}, \"type\": \"scatter3d\"}], \"scattercarpet\": [{\"marker\": {\"colorbar\": {\"outlinewidth\": 0, \"ticks\": \"\"}}, \"type\": \"scattercarpet\"}], \"scattergeo\": [{\"marker\": {\"colorbar\": {\"outlinewidth\": 0, \"ticks\": \"\"}}, \"type\": \"scattergeo\"}], \"scattergl\": [{\"marker\": {\"colorbar\": {\"outlinewidth\": 0, \"ticks\": \"\"}}, \"type\": \"scattergl\"}], \"scattermapbox\": [{\"marker\": {\"colorbar\": {\"outlinewidth\": 0, \"ticks\": \"\"}}, \"type\": \"scattermapbox\"}], \"scatterpolar\": [{\"marker\": {\"colorbar\": {\"outlinewidth\": 0, \"ticks\": \"\"}}, \"type\": \"scatterpolar\"}], \"scatterpolargl\": [{\"marker\": {\"colorbar\": {\"outlinewidth\": 0, \"ticks\": \"\"}}, \"type\": \"scatterpolargl\"}], \"scatterternary\": [{\"marker\": {\"colorbar\": {\"outlinewidth\": 0, \"ticks\": \"\"}}, \"type\": \"scatterternary\"}], \"surface\": [{\"colorbar\": {\"outlinewidth\": 0, \"ticks\": \"\"}, \"colorscale\": [[0.0, \"#0d0887\"], [0.1111111111111111, \"#46039f\"], [0.2222222222222222, \"#7201a8\"], [0.3333333333333333, \"#9c179e\"], [0.4444444444444444, \"#bd3786\"], [0.5555555555555556, \"#d8576b\"], [0.6666666666666666, \"#ed7953\"], [0.7777777777777778, \"#fb9f3a\"], [0.8888888888888888, \"#fdca26\"], [1.0, \"#f0f921\"]], \"type\": \"surface\"}], \"table\": [{\"cells\": {\"fill\": {\"color\": \"#EBF0F8\"}, \"line\": {\"color\": \"white\"}}, \"header\": {\"fill\": {\"color\": \"#C8D4E3\"}, \"line\": {\"color\": \"white\"}}, \"type\": \"table\"}]}, \"layout\": {\"annotationdefaults\": {\"arrowcolor\": \"#2a3f5f\", \"arrowhead\": 0, \"arrowwidth\": 1}, \"coloraxis\": {\"colorbar\": {\"outlinewidth\": 0, \"ticks\": \"\"}}, \"colorscale\": {\"diverging\": [[0, \"#8e0152\"], [0.1, \"#c51b7d\"], [0.2, \"#de77ae\"], [0.3, \"#f1b6da\"], [0.4, \"#fde0ef\"], [0.5, \"#f7f7f7\"], [0.6, \"#e6f5d0\"], [0.7, \"#b8e186\"], [0.8, \"#7fbc41\"], [0.9, \"#4d9221\"], [1, \"#276419\"]], \"sequential\": [[0.0, \"#0d0887\"], [0.1111111111111111, \"#46039f\"], [0.2222222222222222, \"#7201a8\"], [0.3333333333333333, \"#9c179e\"], [0.4444444444444444, \"#bd3786\"], [0.5555555555555556, \"#d8576b\"], [0.6666666666666666, \"#ed7953\"], [0.7777777777777778, \"#fb9f3a\"], [0.8888888888888888, \"#fdca26\"], [1.0, \"#f0f921\"]], \"sequentialminus\": [[0.0, \"#0d0887\"], [0.1111111111111111, \"#46039f\"], [0.2222222222222222, \"#7201a8\"], [0.3333333333333333, \"#9c179e\"], [0.4444444444444444, \"#bd3786\"], [0.5555555555555556, \"#d8576b\"], [0.6666666666666666, \"#ed7953\"], [0.7777777777777778, \"#fb9f3a\"], [0.8888888888888888, \"#fdca26\"], [1.0, \"#f0f921\"]]}, \"colorway\": [\"#636efa\", \"#EF553B\", \"#00cc96\", \"#ab63fa\", \"#FFA15A\", \"#19d3f3\", \"#FF6692\", \"#B6E880\", \"#FF97FF\", \"#FECB52\"], \"font\": {\"color\": \"#2a3f5f\"}, \"geo\": {\"bgcolor\": \"white\", \"lakecolor\": \"white\", \"landcolor\": \"#E5ECF6\", \"showlakes\": true, \"showland\": true, \"subunitcolor\": \"white\"}, \"hoverlabel\": {\"align\": \"left\"}, \"hovermode\": \"closest\", \"mapbox\": {\"style\": \"light\"}, \"paper_bgcolor\": \"white\", \"plot_bgcolor\": \"#E5ECF6\", \"polar\": {\"angularaxis\": {\"gridcolor\": \"white\", \"linecolor\": \"white\", \"ticks\": \"\"}, \"bgcolor\": \"#E5ECF6\", \"radialaxis\": {\"gridcolor\": \"white\", \"linecolor\": \"white\", \"ticks\": \"\"}}, \"scene\": {\"xaxis\": {\"backgroundcolor\": \"#E5ECF6\", \"gridcolor\": \"white\", \"gridwidth\": 2, \"linecolor\": \"white\", \"showbackground\": true, \"ticks\": \"\", \"zerolinecolor\": \"white\"}, \"yaxis\": {\"backgroundcolor\": \"#E5ECF6\", \"gridcolor\": \"white\", \"gridwidth\": 2, \"linecolor\": \"white\", \"showbackground\": true, \"ticks\": \"\", \"zerolinecolor\": \"white\"}, \"zaxis\": {\"backgroundcolor\": \"#E5ECF6\", \"gridcolor\": \"white\", \"gridwidth\": 2, \"linecolor\": \"white\", \"showbackground\": true, \"ticks\": \"\", \"zerolinecolor\": \"white\"}}, \"shapedefaults\": {\"line\": {\"color\": \"#2a3f5f\"}}, \"ternary\": {\"aaxis\": {\"gridcolor\": \"white\", \"linecolor\": \"white\", \"ticks\": \"\"}, \"baxis\": {\"gridcolor\": \"white\", \"linecolor\": \"white\", \"ticks\": \"\"}, \"bgcolor\": \"#E5ECF6\", \"caxis\": {\"gridcolor\": \"white\", \"linecolor\": \"white\", \"ticks\": \"\"}}, \"title\": {\"x\": 0.05}, \"xaxis\": {\"automargin\": true, \"gridcolor\": \"white\", \"linecolor\": \"white\", \"ticks\": \"\", \"title\": {\"standoff\": 15}, \"zerolinecolor\": \"white\", \"zerolinewidth\": 2}, \"yaxis\": {\"automargin\": true, \"gridcolor\": \"white\", \"linecolor\": \"white\", \"ticks\": \"\", \"title\": {\"standoff\": 15}, \"zerolinecolor\": \"white\", \"zerolinewidth\": 2}}}, \"title\": {\"text\": \"N\\u00famero de hojas DART\"}, \"xaxis\": {\"title\": {\"text\": \"N\\u00famero de hojas\"}}, \"yaxis\": {\"title\": {\"text\": \"MAE\"}}},                        {\"responsive\": true}                    ).then(function(){\n",
       "                            \n",
       "var gd = document.getElementById('e2e5c623-30c4-4905-b27e-9596f98d5597');\n",
       "var x = new MutationObserver(function (mutations, observer) {{\n",
       "        var display = window.getComputedStyle(gd).display;\n",
       "        if (!display || display === 'none') {{\n",
       "            console.log([gd, 'removed!']);\n",
       "            Plotly.purge(gd);\n",
       "            observer.disconnect();\n",
       "        }}\n",
       "}});\n",
       "\n",
       "// Listen for the removal of the full notebook cells\n",
       "var notebookContainer = gd.closest('#notebook-container');\n",
       "if (notebookContainer) {{\n",
       "    x.observe(notebookContainer, {childList: true});\n",
       "}}\n",
       "\n",
       "// Listen for the clearing of the current output cell\n",
       "var outputEl = gd.closest('.output');\n",
       "if (outputEl) {{\n",
       "    x.observe(outputEl, {childList: true});\n",
       "}}\n",
       "\n",
       "                        })                };                });            </script>        </div>"
      ]
     },
     "metadata": {},
     "output_type": "display_data"
    }
   ],
   "source": [
    "X_dart = dic_darts['num_leaves']\n",
    "Y_dart = dic_darts['min_data']\n",
    "Z_dart = dic_darts['max_depth']\n",
    "mae_dart = dic_darts['mae']\n",
    "lr_dart = dic_darts['learning_rate']\n",
    "\n",
    "fig = go.Figure(data=go.Scatter(x = X_dart, y = mae_dart, mode='markers'))\n",
    "fig.update_layout(\n",
    "    title = \"Número de hojas DART\",\n",
    "    xaxis_title = \"Número de hojas\",\n",
    "    yaxis_title = \"MAE\")\n",
    "fig.show()"
   ]
  },
  {
   "cell_type": "code",
   "execution_count": 59,
   "metadata": {
    "collapsed": true
   },
   "outputs": [
    {
     "data": {
      "application/vnd.plotly.v1+json": {
       "config": {
        "plotlyServerURL": "https://plot.ly"
       },
       "data": [
        {
         "mode": "markers",
         "type": "scatter",
         "x": [
          248,
          84,
          87,
          274,
          161,
          177,
          45,
          43,
          293,
          233,
          95,
          140,
          41,
          255,
          224,
          32,
          172,
          287,
          95,
          103,
          289,
          80,
          78,
          103,
          210,
          131,
          105,
          185,
          28,
          113,
          286,
          159,
          145,
          216,
          52,
          116,
          147,
          140,
          30,
          146,
          253,
          236,
          99,
          38,
          232,
          71
         ],
         "y": [
          3372753.273400127,
          2810743.555741155,
          3017143.0214361786,
          3430376.785984915,
          3052743.544263173,
          3097036.156083528,
          2657168.6237388183,
          2912829.4270349466,
          3684181.3500800733,
          3256373.2980521596,
          3518215.4459922477,
          3040317.6128819035,
          2748717.8102078824,
          3339466.784307597,
          3244104.9325284627,
          2802753.8530179025,
          3209664.375652496,
          3322537.424024,
          5895592.634448352,
          3123112.7582161264,
          3412709.7466265,
          2791707.1397272907,
          2794375.3019249695,
          2890455.964341947,
          3205787.4633493843,
          3165491.02107826,
          2998157.0787479887,
          3424082.436260622,
          3176377.3981219297,
          3043491.291059281,
          3316042.553464348,
          3080165.42863463,
          3071283.022152126,
          3514758.081916045,
          2882415.8848872753,
          3078830.6434280425,
          3160773.597932139,
          3066246.263882493,
          2752956.3024729304,
          3109692.624497564,
          3560887.762006282,
          3248468.5559452837,
          2931314.64813448,
          2817411.2837940454,
          3385136.022797253,
          3543205.575471923
         ]
        }
       ],
       "layout": {
        "template": {
         "data": {
          "bar": [
           {
            "error_x": {
             "color": "#2a3f5f"
            },
            "error_y": {
             "color": "#2a3f5f"
            },
            "marker": {
             "line": {
              "color": "#E5ECF6",
              "width": 0.5
             }
            },
            "type": "bar"
           }
          ],
          "barpolar": [
           {
            "marker": {
             "line": {
              "color": "#E5ECF6",
              "width": 0.5
             }
            },
            "type": "barpolar"
           }
          ],
          "carpet": [
           {
            "aaxis": {
             "endlinecolor": "#2a3f5f",
             "gridcolor": "white",
             "linecolor": "white",
             "minorgridcolor": "white",
             "startlinecolor": "#2a3f5f"
            },
            "baxis": {
             "endlinecolor": "#2a3f5f",
             "gridcolor": "white",
             "linecolor": "white",
             "minorgridcolor": "white",
             "startlinecolor": "#2a3f5f"
            },
            "type": "carpet"
           }
          ],
          "choropleth": [
           {
            "colorbar": {
             "outlinewidth": 0,
             "ticks": ""
            },
            "type": "choropleth"
           }
          ],
          "contour": [
           {
            "colorbar": {
             "outlinewidth": 0,
             "ticks": ""
            },
            "colorscale": [
             [
              0,
              "#0d0887"
             ],
             [
              0.1111111111111111,
              "#46039f"
             ],
             [
              0.2222222222222222,
              "#7201a8"
             ],
             [
              0.3333333333333333,
              "#9c179e"
             ],
             [
              0.4444444444444444,
              "#bd3786"
             ],
             [
              0.5555555555555556,
              "#d8576b"
             ],
             [
              0.6666666666666666,
              "#ed7953"
             ],
             [
              0.7777777777777778,
              "#fb9f3a"
             ],
             [
              0.8888888888888888,
              "#fdca26"
             ],
             [
              1,
              "#f0f921"
             ]
            ],
            "type": "contour"
           }
          ],
          "contourcarpet": [
           {
            "colorbar": {
             "outlinewidth": 0,
             "ticks": ""
            },
            "type": "contourcarpet"
           }
          ],
          "heatmap": [
           {
            "colorbar": {
             "outlinewidth": 0,
             "ticks": ""
            },
            "colorscale": [
             [
              0,
              "#0d0887"
             ],
             [
              0.1111111111111111,
              "#46039f"
             ],
             [
              0.2222222222222222,
              "#7201a8"
             ],
             [
              0.3333333333333333,
              "#9c179e"
             ],
             [
              0.4444444444444444,
              "#bd3786"
             ],
             [
              0.5555555555555556,
              "#d8576b"
             ],
             [
              0.6666666666666666,
              "#ed7953"
             ],
             [
              0.7777777777777778,
              "#fb9f3a"
             ],
             [
              0.8888888888888888,
              "#fdca26"
             ],
             [
              1,
              "#f0f921"
             ]
            ],
            "type": "heatmap"
           }
          ],
          "heatmapgl": [
           {
            "colorbar": {
             "outlinewidth": 0,
             "ticks": ""
            },
            "colorscale": [
             [
              0,
              "#0d0887"
             ],
             [
              0.1111111111111111,
              "#46039f"
             ],
             [
              0.2222222222222222,
              "#7201a8"
             ],
             [
              0.3333333333333333,
              "#9c179e"
             ],
             [
              0.4444444444444444,
              "#bd3786"
             ],
             [
              0.5555555555555556,
              "#d8576b"
             ],
             [
              0.6666666666666666,
              "#ed7953"
             ],
             [
              0.7777777777777778,
              "#fb9f3a"
             ],
             [
              0.8888888888888888,
              "#fdca26"
             ],
             [
              1,
              "#f0f921"
             ]
            ],
            "type": "heatmapgl"
           }
          ],
          "histogram": [
           {
            "marker": {
             "colorbar": {
              "outlinewidth": 0,
              "ticks": ""
             }
            },
            "type": "histogram"
           }
          ],
          "histogram2d": [
           {
            "colorbar": {
             "outlinewidth": 0,
             "ticks": ""
            },
            "colorscale": [
             [
              0,
              "#0d0887"
             ],
             [
              0.1111111111111111,
              "#46039f"
             ],
             [
              0.2222222222222222,
              "#7201a8"
             ],
             [
              0.3333333333333333,
              "#9c179e"
             ],
             [
              0.4444444444444444,
              "#bd3786"
             ],
             [
              0.5555555555555556,
              "#d8576b"
             ],
             [
              0.6666666666666666,
              "#ed7953"
             ],
             [
              0.7777777777777778,
              "#fb9f3a"
             ],
             [
              0.8888888888888888,
              "#fdca26"
             ],
             [
              1,
              "#f0f921"
             ]
            ],
            "type": "histogram2d"
           }
          ],
          "histogram2dcontour": [
           {
            "colorbar": {
             "outlinewidth": 0,
             "ticks": ""
            },
            "colorscale": [
             [
              0,
              "#0d0887"
             ],
             [
              0.1111111111111111,
              "#46039f"
             ],
             [
              0.2222222222222222,
              "#7201a8"
             ],
             [
              0.3333333333333333,
              "#9c179e"
             ],
             [
              0.4444444444444444,
              "#bd3786"
             ],
             [
              0.5555555555555556,
              "#d8576b"
             ],
             [
              0.6666666666666666,
              "#ed7953"
             ],
             [
              0.7777777777777778,
              "#fb9f3a"
             ],
             [
              0.8888888888888888,
              "#fdca26"
             ],
             [
              1,
              "#f0f921"
             ]
            ],
            "type": "histogram2dcontour"
           }
          ],
          "mesh3d": [
           {
            "colorbar": {
             "outlinewidth": 0,
             "ticks": ""
            },
            "type": "mesh3d"
           }
          ],
          "parcoords": [
           {
            "line": {
             "colorbar": {
              "outlinewidth": 0,
              "ticks": ""
             }
            },
            "type": "parcoords"
           }
          ],
          "pie": [
           {
            "automargin": true,
            "type": "pie"
           }
          ],
          "scatter": [
           {
            "marker": {
             "colorbar": {
              "outlinewidth": 0,
              "ticks": ""
             }
            },
            "type": "scatter"
           }
          ],
          "scatter3d": [
           {
            "line": {
             "colorbar": {
              "outlinewidth": 0,
              "ticks": ""
             }
            },
            "marker": {
             "colorbar": {
              "outlinewidth": 0,
              "ticks": ""
             }
            },
            "type": "scatter3d"
           }
          ],
          "scattercarpet": [
           {
            "marker": {
             "colorbar": {
              "outlinewidth": 0,
              "ticks": ""
             }
            },
            "type": "scattercarpet"
           }
          ],
          "scattergeo": [
           {
            "marker": {
             "colorbar": {
              "outlinewidth": 0,
              "ticks": ""
             }
            },
            "type": "scattergeo"
           }
          ],
          "scattergl": [
           {
            "marker": {
             "colorbar": {
              "outlinewidth": 0,
              "ticks": ""
             }
            },
            "type": "scattergl"
           }
          ],
          "scattermapbox": [
           {
            "marker": {
             "colorbar": {
              "outlinewidth": 0,
              "ticks": ""
             }
            },
            "type": "scattermapbox"
           }
          ],
          "scatterpolar": [
           {
            "marker": {
             "colorbar": {
              "outlinewidth": 0,
              "ticks": ""
             }
            },
            "type": "scatterpolar"
           }
          ],
          "scatterpolargl": [
           {
            "marker": {
             "colorbar": {
              "outlinewidth": 0,
              "ticks": ""
             }
            },
            "type": "scatterpolargl"
           }
          ],
          "scatterternary": [
           {
            "marker": {
             "colorbar": {
              "outlinewidth": 0,
              "ticks": ""
             }
            },
            "type": "scatterternary"
           }
          ],
          "surface": [
           {
            "colorbar": {
             "outlinewidth": 0,
             "ticks": ""
            },
            "colorscale": [
             [
              0,
              "#0d0887"
             ],
             [
              0.1111111111111111,
              "#46039f"
             ],
             [
              0.2222222222222222,
              "#7201a8"
             ],
             [
              0.3333333333333333,
              "#9c179e"
             ],
             [
              0.4444444444444444,
              "#bd3786"
             ],
             [
              0.5555555555555556,
              "#d8576b"
             ],
             [
              0.6666666666666666,
              "#ed7953"
             ],
             [
              0.7777777777777778,
              "#fb9f3a"
             ],
             [
              0.8888888888888888,
              "#fdca26"
             ],
             [
              1,
              "#f0f921"
             ]
            ],
            "type": "surface"
           }
          ],
          "table": [
           {
            "cells": {
             "fill": {
              "color": "#EBF0F8"
             },
             "line": {
              "color": "white"
             }
            },
            "header": {
             "fill": {
              "color": "#C8D4E3"
             },
             "line": {
              "color": "white"
             }
            },
            "type": "table"
           }
          ]
         },
         "layout": {
          "annotationdefaults": {
           "arrowcolor": "#2a3f5f",
           "arrowhead": 0,
           "arrowwidth": 1
          },
          "coloraxis": {
           "colorbar": {
            "outlinewidth": 0,
            "ticks": ""
           }
          },
          "colorscale": {
           "diverging": [
            [
             0,
             "#8e0152"
            ],
            [
             0.1,
             "#c51b7d"
            ],
            [
             0.2,
             "#de77ae"
            ],
            [
             0.3,
             "#f1b6da"
            ],
            [
             0.4,
             "#fde0ef"
            ],
            [
             0.5,
             "#f7f7f7"
            ],
            [
             0.6,
             "#e6f5d0"
            ],
            [
             0.7,
             "#b8e186"
            ],
            [
             0.8,
             "#7fbc41"
            ],
            [
             0.9,
             "#4d9221"
            ],
            [
             1,
             "#276419"
            ]
           ],
           "sequential": [
            [
             0,
             "#0d0887"
            ],
            [
             0.1111111111111111,
             "#46039f"
            ],
            [
             0.2222222222222222,
             "#7201a8"
            ],
            [
             0.3333333333333333,
             "#9c179e"
            ],
            [
             0.4444444444444444,
             "#bd3786"
            ],
            [
             0.5555555555555556,
             "#d8576b"
            ],
            [
             0.6666666666666666,
             "#ed7953"
            ],
            [
             0.7777777777777778,
             "#fb9f3a"
            ],
            [
             0.8888888888888888,
             "#fdca26"
            ],
            [
             1,
             "#f0f921"
            ]
           ],
           "sequentialminus": [
            [
             0,
             "#0d0887"
            ],
            [
             0.1111111111111111,
             "#46039f"
            ],
            [
             0.2222222222222222,
             "#7201a8"
            ],
            [
             0.3333333333333333,
             "#9c179e"
            ],
            [
             0.4444444444444444,
             "#bd3786"
            ],
            [
             0.5555555555555556,
             "#d8576b"
            ],
            [
             0.6666666666666666,
             "#ed7953"
            ],
            [
             0.7777777777777778,
             "#fb9f3a"
            ],
            [
             0.8888888888888888,
             "#fdca26"
            ],
            [
             1,
             "#f0f921"
            ]
           ]
          },
          "colorway": [
           "#636efa",
           "#EF553B",
           "#00cc96",
           "#ab63fa",
           "#FFA15A",
           "#19d3f3",
           "#FF6692",
           "#B6E880",
           "#FF97FF",
           "#FECB52"
          ],
          "font": {
           "color": "#2a3f5f"
          },
          "geo": {
           "bgcolor": "white",
           "lakecolor": "white",
           "landcolor": "#E5ECF6",
           "showlakes": true,
           "showland": true,
           "subunitcolor": "white"
          },
          "hoverlabel": {
           "align": "left"
          },
          "hovermode": "closest",
          "mapbox": {
           "style": "light"
          },
          "paper_bgcolor": "white",
          "plot_bgcolor": "#E5ECF6",
          "polar": {
           "angularaxis": {
            "gridcolor": "white",
            "linecolor": "white",
            "ticks": ""
           },
           "bgcolor": "#E5ECF6",
           "radialaxis": {
            "gridcolor": "white",
            "linecolor": "white",
            "ticks": ""
           }
          },
          "scene": {
           "xaxis": {
            "backgroundcolor": "#E5ECF6",
            "gridcolor": "white",
            "gridwidth": 2,
            "linecolor": "white",
            "showbackground": true,
            "ticks": "",
            "zerolinecolor": "white"
           },
           "yaxis": {
            "backgroundcolor": "#E5ECF6",
            "gridcolor": "white",
            "gridwidth": 2,
            "linecolor": "white",
            "showbackground": true,
            "ticks": "",
            "zerolinecolor": "white"
           },
           "zaxis": {
            "backgroundcolor": "#E5ECF6",
            "gridcolor": "white",
            "gridwidth": 2,
            "linecolor": "white",
            "showbackground": true,
            "ticks": "",
            "zerolinecolor": "white"
           }
          },
          "shapedefaults": {
           "line": {
            "color": "#2a3f5f"
           }
          },
          "ternary": {
           "aaxis": {
            "gridcolor": "white",
            "linecolor": "white",
            "ticks": ""
           },
           "baxis": {
            "gridcolor": "white",
            "linecolor": "white",
            "ticks": ""
           },
           "bgcolor": "#E5ECF6",
           "caxis": {
            "gridcolor": "white",
            "linecolor": "white",
            "ticks": ""
           }
          },
          "title": {
           "x": 0.05
          },
          "xaxis": {
           "automargin": true,
           "gridcolor": "white",
           "linecolor": "white",
           "ticks": "",
           "title": {
            "standoff": 15
           },
           "zerolinecolor": "white",
           "zerolinewidth": 2
          },
          "yaxis": {
           "automargin": true,
           "gridcolor": "white",
           "linecolor": "white",
           "ticks": "",
           "title": {
            "standoff": 15
           },
           "zerolinecolor": "white",
           "zerolinewidth": 2
          }
         }
        },
        "title": {
         "text": "min_data DART"
        },
        "xaxis": {
         "title": {
          "text": "min_data"
         }
        },
        "yaxis": {
         "title": {
          "text": "MAE"
         }
        }
       }
      },
      "text/html": [
       "<div>                            <div id=\"d6bb7f21-8c3a-452d-9bcf-72068486d373\" class=\"plotly-graph-div\" style=\"height:525px; width:100%;\"></div>            <script type=\"text/javascript\">                require([\"plotly\"], function(Plotly) {                    window.PLOTLYENV=window.PLOTLYENV || {};                                    if (document.getElementById(\"d6bb7f21-8c3a-452d-9bcf-72068486d373\")) {                    Plotly.newPlot(                        \"d6bb7f21-8c3a-452d-9bcf-72068486d373\",                        [{\"mode\": \"markers\", \"type\": \"scatter\", \"x\": [248, 84, 87, 274, 161, 177, 45, 43, 293, 233, 95, 140, 41, 255, 224, 32, 172, 287, 95, 103, 289, 80, 78, 103, 210, 131, 105, 185, 28, 113, 286, 159, 145, 216, 52, 116, 147, 140, 30, 146, 253, 236, 99, 38, 232, 71], \"y\": [3372753.273400127, 2810743.555741155, 3017143.0214361786, 3430376.785984915, 3052743.544263173, 3097036.156083528, 2657168.6237388183, 2912829.4270349466, 3684181.3500800733, 3256373.2980521596, 3518215.4459922477, 3040317.6128819035, 2748717.8102078824, 3339466.784307597, 3244104.9325284627, 2802753.8530179025, 3209664.375652496, 3322537.424024, 5895592.634448352, 3123112.7582161264, 3412709.7466265, 2791707.1397272907, 2794375.3019249695, 2890455.964341947, 3205787.4633493843, 3165491.02107826, 2998157.0787479887, 3424082.436260622, 3176377.3981219297, 3043491.291059281, 3316042.553464348, 3080165.42863463, 3071283.022152126, 3514758.081916045, 2882415.8848872753, 3078830.6434280425, 3160773.597932139, 3066246.263882493, 2752956.3024729304, 3109692.624497564, 3560887.762006282, 3248468.5559452837, 2931314.64813448, 2817411.2837940454, 3385136.022797253, 3543205.575471923]}],                        {\"template\": {\"data\": {\"bar\": [{\"error_x\": {\"color\": \"#2a3f5f\"}, \"error_y\": {\"color\": \"#2a3f5f\"}, \"marker\": {\"line\": {\"color\": \"#E5ECF6\", \"width\": 0.5}}, \"type\": \"bar\"}], \"barpolar\": [{\"marker\": {\"line\": {\"color\": \"#E5ECF6\", \"width\": 0.5}}, \"type\": \"barpolar\"}], \"carpet\": [{\"aaxis\": {\"endlinecolor\": \"#2a3f5f\", \"gridcolor\": \"white\", \"linecolor\": \"white\", \"minorgridcolor\": \"white\", \"startlinecolor\": \"#2a3f5f\"}, \"baxis\": {\"endlinecolor\": \"#2a3f5f\", \"gridcolor\": \"white\", \"linecolor\": \"white\", \"minorgridcolor\": \"white\", \"startlinecolor\": \"#2a3f5f\"}, \"type\": \"carpet\"}], \"choropleth\": [{\"colorbar\": {\"outlinewidth\": 0, \"ticks\": \"\"}, \"type\": \"choropleth\"}], \"contour\": [{\"colorbar\": {\"outlinewidth\": 0, \"ticks\": \"\"}, \"colorscale\": [[0.0, \"#0d0887\"], [0.1111111111111111, \"#46039f\"], [0.2222222222222222, \"#7201a8\"], [0.3333333333333333, \"#9c179e\"], [0.4444444444444444, \"#bd3786\"], [0.5555555555555556, \"#d8576b\"], [0.6666666666666666, \"#ed7953\"], [0.7777777777777778, \"#fb9f3a\"], [0.8888888888888888, \"#fdca26\"], [1.0, \"#f0f921\"]], \"type\": \"contour\"}], \"contourcarpet\": [{\"colorbar\": {\"outlinewidth\": 0, \"ticks\": \"\"}, \"type\": \"contourcarpet\"}], \"heatmap\": [{\"colorbar\": {\"outlinewidth\": 0, \"ticks\": \"\"}, \"colorscale\": [[0.0, \"#0d0887\"], [0.1111111111111111, \"#46039f\"], [0.2222222222222222, \"#7201a8\"], [0.3333333333333333, \"#9c179e\"], [0.4444444444444444, \"#bd3786\"], [0.5555555555555556, \"#d8576b\"], [0.6666666666666666, \"#ed7953\"], [0.7777777777777778, \"#fb9f3a\"], [0.8888888888888888, \"#fdca26\"], [1.0, \"#f0f921\"]], \"type\": \"heatmap\"}], \"heatmapgl\": [{\"colorbar\": {\"outlinewidth\": 0, \"ticks\": \"\"}, \"colorscale\": [[0.0, \"#0d0887\"], [0.1111111111111111, \"#46039f\"], [0.2222222222222222, \"#7201a8\"], [0.3333333333333333, \"#9c179e\"], [0.4444444444444444, \"#bd3786\"], [0.5555555555555556, \"#d8576b\"], [0.6666666666666666, \"#ed7953\"], [0.7777777777777778, \"#fb9f3a\"], [0.8888888888888888, \"#fdca26\"], [1.0, \"#f0f921\"]], \"type\": \"heatmapgl\"}], \"histogram\": [{\"marker\": {\"colorbar\": {\"outlinewidth\": 0, \"ticks\": \"\"}}, \"type\": \"histogram\"}], \"histogram2d\": [{\"colorbar\": {\"outlinewidth\": 0, \"ticks\": \"\"}, \"colorscale\": [[0.0, \"#0d0887\"], [0.1111111111111111, \"#46039f\"], [0.2222222222222222, \"#7201a8\"], [0.3333333333333333, \"#9c179e\"], [0.4444444444444444, \"#bd3786\"], [0.5555555555555556, \"#d8576b\"], [0.6666666666666666, \"#ed7953\"], [0.7777777777777778, \"#fb9f3a\"], [0.8888888888888888, \"#fdca26\"], [1.0, \"#f0f921\"]], \"type\": \"histogram2d\"}], \"histogram2dcontour\": [{\"colorbar\": {\"outlinewidth\": 0, \"ticks\": \"\"}, \"colorscale\": [[0.0, \"#0d0887\"], [0.1111111111111111, \"#46039f\"], [0.2222222222222222, \"#7201a8\"], [0.3333333333333333, \"#9c179e\"], [0.4444444444444444, \"#bd3786\"], [0.5555555555555556, \"#d8576b\"], [0.6666666666666666, \"#ed7953\"], [0.7777777777777778, \"#fb9f3a\"], [0.8888888888888888, \"#fdca26\"], [1.0, \"#f0f921\"]], \"type\": \"histogram2dcontour\"}], \"mesh3d\": [{\"colorbar\": {\"outlinewidth\": 0, \"ticks\": \"\"}, \"type\": \"mesh3d\"}], \"parcoords\": [{\"line\": {\"colorbar\": {\"outlinewidth\": 0, \"ticks\": \"\"}}, \"type\": \"parcoords\"}], \"pie\": [{\"automargin\": true, \"type\": \"pie\"}], \"scatter\": [{\"marker\": {\"colorbar\": {\"outlinewidth\": 0, \"ticks\": \"\"}}, \"type\": \"scatter\"}], \"scatter3d\": [{\"line\": {\"colorbar\": {\"outlinewidth\": 0, \"ticks\": \"\"}}, \"marker\": {\"colorbar\": {\"outlinewidth\": 0, \"ticks\": \"\"}}, \"type\": \"scatter3d\"}], \"scattercarpet\": [{\"marker\": {\"colorbar\": {\"outlinewidth\": 0, \"ticks\": \"\"}}, \"type\": \"scattercarpet\"}], \"scattergeo\": [{\"marker\": {\"colorbar\": {\"outlinewidth\": 0, \"ticks\": \"\"}}, \"type\": \"scattergeo\"}], \"scattergl\": [{\"marker\": {\"colorbar\": {\"outlinewidth\": 0, \"ticks\": \"\"}}, \"type\": \"scattergl\"}], \"scattermapbox\": [{\"marker\": {\"colorbar\": {\"outlinewidth\": 0, \"ticks\": \"\"}}, \"type\": \"scattermapbox\"}], \"scatterpolar\": [{\"marker\": {\"colorbar\": {\"outlinewidth\": 0, \"ticks\": \"\"}}, \"type\": \"scatterpolar\"}], \"scatterpolargl\": [{\"marker\": {\"colorbar\": {\"outlinewidth\": 0, \"ticks\": \"\"}}, \"type\": \"scatterpolargl\"}], \"scatterternary\": [{\"marker\": {\"colorbar\": {\"outlinewidth\": 0, \"ticks\": \"\"}}, \"type\": \"scatterternary\"}], \"surface\": [{\"colorbar\": {\"outlinewidth\": 0, \"ticks\": \"\"}, \"colorscale\": [[0.0, \"#0d0887\"], [0.1111111111111111, \"#46039f\"], [0.2222222222222222, \"#7201a8\"], [0.3333333333333333, \"#9c179e\"], [0.4444444444444444, \"#bd3786\"], [0.5555555555555556, \"#d8576b\"], [0.6666666666666666, \"#ed7953\"], [0.7777777777777778, \"#fb9f3a\"], [0.8888888888888888, \"#fdca26\"], [1.0, \"#f0f921\"]], \"type\": \"surface\"}], \"table\": [{\"cells\": {\"fill\": {\"color\": \"#EBF0F8\"}, \"line\": {\"color\": \"white\"}}, \"header\": {\"fill\": {\"color\": \"#C8D4E3\"}, \"line\": {\"color\": \"white\"}}, \"type\": \"table\"}]}, \"layout\": {\"annotationdefaults\": {\"arrowcolor\": \"#2a3f5f\", \"arrowhead\": 0, \"arrowwidth\": 1}, \"coloraxis\": {\"colorbar\": {\"outlinewidth\": 0, \"ticks\": \"\"}}, \"colorscale\": {\"diverging\": [[0, \"#8e0152\"], [0.1, \"#c51b7d\"], [0.2, \"#de77ae\"], [0.3, \"#f1b6da\"], [0.4, \"#fde0ef\"], [0.5, \"#f7f7f7\"], [0.6, \"#e6f5d0\"], [0.7, \"#b8e186\"], [0.8, \"#7fbc41\"], [0.9, \"#4d9221\"], [1, \"#276419\"]], \"sequential\": [[0.0, \"#0d0887\"], [0.1111111111111111, \"#46039f\"], [0.2222222222222222, \"#7201a8\"], [0.3333333333333333, \"#9c179e\"], [0.4444444444444444, \"#bd3786\"], [0.5555555555555556, \"#d8576b\"], [0.6666666666666666, \"#ed7953\"], [0.7777777777777778, \"#fb9f3a\"], [0.8888888888888888, \"#fdca26\"], [1.0, \"#f0f921\"]], \"sequentialminus\": [[0.0, \"#0d0887\"], [0.1111111111111111, \"#46039f\"], [0.2222222222222222, \"#7201a8\"], [0.3333333333333333, \"#9c179e\"], [0.4444444444444444, \"#bd3786\"], [0.5555555555555556, \"#d8576b\"], [0.6666666666666666, \"#ed7953\"], [0.7777777777777778, \"#fb9f3a\"], [0.8888888888888888, \"#fdca26\"], [1.0, \"#f0f921\"]]}, \"colorway\": [\"#636efa\", \"#EF553B\", \"#00cc96\", \"#ab63fa\", \"#FFA15A\", \"#19d3f3\", \"#FF6692\", \"#B6E880\", \"#FF97FF\", \"#FECB52\"], \"font\": {\"color\": \"#2a3f5f\"}, \"geo\": {\"bgcolor\": \"white\", \"lakecolor\": \"white\", \"landcolor\": \"#E5ECF6\", \"showlakes\": true, \"showland\": true, \"subunitcolor\": \"white\"}, \"hoverlabel\": {\"align\": \"left\"}, \"hovermode\": \"closest\", \"mapbox\": {\"style\": \"light\"}, \"paper_bgcolor\": \"white\", \"plot_bgcolor\": \"#E5ECF6\", \"polar\": {\"angularaxis\": {\"gridcolor\": \"white\", \"linecolor\": \"white\", \"ticks\": \"\"}, \"bgcolor\": \"#E5ECF6\", \"radialaxis\": {\"gridcolor\": \"white\", \"linecolor\": \"white\", \"ticks\": \"\"}}, \"scene\": {\"xaxis\": {\"backgroundcolor\": \"#E5ECF6\", \"gridcolor\": \"white\", \"gridwidth\": 2, \"linecolor\": \"white\", \"showbackground\": true, \"ticks\": \"\", \"zerolinecolor\": \"white\"}, \"yaxis\": {\"backgroundcolor\": \"#E5ECF6\", \"gridcolor\": \"white\", \"gridwidth\": 2, \"linecolor\": \"white\", \"showbackground\": true, \"ticks\": \"\", \"zerolinecolor\": \"white\"}, \"zaxis\": {\"backgroundcolor\": \"#E5ECF6\", \"gridcolor\": \"white\", \"gridwidth\": 2, \"linecolor\": \"white\", \"showbackground\": true, \"ticks\": \"\", \"zerolinecolor\": \"white\"}}, \"shapedefaults\": {\"line\": {\"color\": \"#2a3f5f\"}}, \"ternary\": {\"aaxis\": {\"gridcolor\": \"white\", \"linecolor\": \"white\", \"ticks\": \"\"}, \"baxis\": {\"gridcolor\": \"white\", \"linecolor\": \"white\", \"ticks\": \"\"}, \"bgcolor\": \"#E5ECF6\", \"caxis\": {\"gridcolor\": \"white\", \"linecolor\": \"white\", \"ticks\": \"\"}}, \"title\": {\"x\": 0.05}, \"xaxis\": {\"automargin\": true, \"gridcolor\": \"white\", \"linecolor\": \"white\", \"ticks\": \"\", \"title\": {\"standoff\": 15}, \"zerolinecolor\": \"white\", \"zerolinewidth\": 2}, \"yaxis\": {\"automargin\": true, \"gridcolor\": \"white\", \"linecolor\": \"white\", \"ticks\": \"\", \"title\": {\"standoff\": 15}, \"zerolinecolor\": \"white\", \"zerolinewidth\": 2}}}, \"title\": {\"text\": \"min_data DART\"}, \"xaxis\": {\"title\": {\"text\": \"min_data\"}}, \"yaxis\": {\"title\": {\"text\": \"MAE\"}}},                        {\"responsive\": true}                    ).then(function(){\n",
       "                            \n",
       "var gd = document.getElementById('d6bb7f21-8c3a-452d-9bcf-72068486d373');\n",
       "var x = new MutationObserver(function (mutations, observer) {{\n",
       "        var display = window.getComputedStyle(gd).display;\n",
       "        if (!display || display === 'none') {{\n",
       "            console.log([gd, 'removed!']);\n",
       "            Plotly.purge(gd);\n",
       "            observer.disconnect();\n",
       "        }}\n",
       "}});\n",
       "\n",
       "// Listen for the removal of the full notebook cells\n",
       "var notebookContainer = gd.closest('#notebook-container');\n",
       "if (notebookContainer) {{\n",
       "    x.observe(notebookContainer, {childList: true});\n",
       "}}\n",
       "\n",
       "// Listen for the clearing of the current output cell\n",
       "var outputEl = gd.closest('.output');\n",
       "if (outputEl) {{\n",
       "    x.observe(outputEl, {childList: true});\n",
       "}}\n",
       "\n",
       "                        })                };                });            </script>        </div>"
      ]
     },
     "metadata": {},
     "output_type": "display_data"
    }
   ],
   "source": [
    "fig = go.Figure(data = go.Scatter(x = Y_dart, y = mae_dart, mode='markers'))\n",
    "fig.update_layout(\n",
    "    title = \"min_data DART\",\n",
    "    xaxis_title = \"min_data\",\n",
    "    yaxis_title = \"MAE\")\n",
    "fig.show()"
   ]
  },
  {
   "cell_type": "code",
   "execution_count": 60,
   "metadata": {
    "collapsed": true
   },
   "outputs": [
    {
     "data": {
      "application/vnd.plotly.v1+json": {
       "config": {
        "plotlyServerURL": "https://plot.ly"
       },
       "data": [
        {
         "mode": "markers",
         "type": "scatter",
         "x": [
          114,
          197,
          95,
          88,
          235,
          60,
          96,
          205,
          24,
          169,
          200,
          220,
          95,
          5,
          237,
          234,
          43,
          135,
          243,
          120,
          283,
          191,
          91,
          39,
          158,
          54,
          232,
          214,
          184,
          177,
          238,
          172,
          194,
          181,
          184,
          73,
          245,
          195,
          92,
          129,
          42,
          31,
          189,
          167,
          180,
          118
         ],
         "y": [
          3372753.273400127,
          2810743.555741155,
          3017143.0214361786,
          3430376.785984915,
          3052743.544263173,
          3097036.156083528,
          2657168.6237388183,
          2912829.4270349466,
          3684181.3500800733,
          3256373.2980521596,
          3518215.4459922477,
          3040317.6128819035,
          2748717.8102078824,
          3339466.784307597,
          3244104.9325284627,
          2802753.8530179025,
          3209664.375652496,
          3322537.424024,
          5895592.634448352,
          3123112.7582161264,
          3412709.7466265,
          2791707.1397272907,
          2794375.3019249695,
          2890455.964341947,
          3205787.4633493843,
          3165491.02107826,
          2998157.0787479887,
          3424082.436260622,
          3176377.3981219297,
          3043491.291059281,
          3316042.553464348,
          3080165.42863463,
          3071283.022152126,
          3514758.081916045,
          2882415.8848872753,
          3078830.6434280425,
          3160773.597932139,
          3066246.263882493,
          2752956.3024729304,
          3109692.624497564,
          3560887.762006282,
          3248468.5559452837,
          2931314.64813448,
          2817411.2837940454,
          3385136.022797253,
          3543205.575471923
         ]
        }
       ],
       "layout": {
        "template": {
         "data": {
          "bar": [
           {
            "error_x": {
             "color": "#2a3f5f"
            },
            "error_y": {
             "color": "#2a3f5f"
            },
            "marker": {
             "line": {
              "color": "#E5ECF6",
              "width": 0.5
             }
            },
            "type": "bar"
           }
          ],
          "barpolar": [
           {
            "marker": {
             "line": {
              "color": "#E5ECF6",
              "width": 0.5
             }
            },
            "type": "barpolar"
           }
          ],
          "carpet": [
           {
            "aaxis": {
             "endlinecolor": "#2a3f5f",
             "gridcolor": "white",
             "linecolor": "white",
             "minorgridcolor": "white",
             "startlinecolor": "#2a3f5f"
            },
            "baxis": {
             "endlinecolor": "#2a3f5f",
             "gridcolor": "white",
             "linecolor": "white",
             "minorgridcolor": "white",
             "startlinecolor": "#2a3f5f"
            },
            "type": "carpet"
           }
          ],
          "choropleth": [
           {
            "colorbar": {
             "outlinewidth": 0,
             "ticks": ""
            },
            "type": "choropleth"
           }
          ],
          "contour": [
           {
            "colorbar": {
             "outlinewidth": 0,
             "ticks": ""
            },
            "colorscale": [
             [
              0,
              "#0d0887"
             ],
             [
              0.1111111111111111,
              "#46039f"
             ],
             [
              0.2222222222222222,
              "#7201a8"
             ],
             [
              0.3333333333333333,
              "#9c179e"
             ],
             [
              0.4444444444444444,
              "#bd3786"
             ],
             [
              0.5555555555555556,
              "#d8576b"
             ],
             [
              0.6666666666666666,
              "#ed7953"
             ],
             [
              0.7777777777777778,
              "#fb9f3a"
             ],
             [
              0.8888888888888888,
              "#fdca26"
             ],
             [
              1,
              "#f0f921"
             ]
            ],
            "type": "contour"
           }
          ],
          "contourcarpet": [
           {
            "colorbar": {
             "outlinewidth": 0,
             "ticks": ""
            },
            "type": "contourcarpet"
           }
          ],
          "heatmap": [
           {
            "colorbar": {
             "outlinewidth": 0,
             "ticks": ""
            },
            "colorscale": [
             [
              0,
              "#0d0887"
             ],
             [
              0.1111111111111111,
              "#46039f"
             ],
             [
              0.2222222222222222,
              "#7201a8"
             ],
             [
              0.3333333333333333,
              "#9c179e"
             ],
             [
              0.4444444444444444,
              "#bd3786"
             ],
             [
              0.5555555555555556,
              "#d8576b"
             ],
             [
              0.6666666666666666,
              "#ed7953"
             ],
             [
              0.7777777777777778,
              "#fb9f3a"
             ],
             [
              0.8888888888888888,
              "#fdca26"
             ],
             [
              1,
              "#f0f921"
             ]
            ],
            "type": "heatmap"
           }
          ],
          "heatmapgl": [
           {
            "colorbar": {
             "outlinewidth": 0,
             "ticks": ""
            },
            "colorscale": [
             [
              0,
              "#0d0887"
             ],
             [
              0.1111111111111111,
              "#46039f"
             ],
             [
              0.2222222222222222,
              "#7201a8"
             ],
             [
              0.3333333333333333,
              "#9c179e"
             ],
             [
              0.4444444444444444,
              "#bd3786"
             ],
             [
              0.5555555555555556,
              "#d8576b"
             ],
             [
              0.6666666666666666,
              "#ed7953"
             ],
             [
              0.7777777777777778,
              "#fb9f3a"
             ],
             [
              0.8888888888888888,
              "#fdca26"
             ],
             [
              1,
              "#f0f921"
             ]
            ],
            "type": "heatmapgl"
           }
          ],
          "histogram": [
           {
            "marker": {
             "colorbar": {
              "outlinewidth": 0,
              "ticks": ""
             }
            },
            "type": "histogram"
           }
          ],
          "histogram2d": [
           {
            "colorbar": {
             "outlinewidth": 0,
             "ticks": ""
            },
            "colorscale": [
             [
              0,
              "#0d0887"
             ],
             [
              0.1111111111111111,
              "#46039f"
             ],
             [
              0.2222222222222222,
              "#7201a8"
             ],
             [
              0.3333333333333333,
              "#9c179e"
             ],
             [
              0.4444444444444444,
              "#bd3786"
             ],
             [
              0.5555555555555556,
              "#d8576b"
             ],
             [
              0.6666666666666666,
              "#ed7953"
             ],
             [
              0.7777777777777778,
              "#fb9f3a"
             ],
             [
              0.8888888888888888,
              "#fdca26"
             ],
             [
              1,
              "#f0f921"
             ]
            ],
            "type": "histogram2d"
           }
          ],
          "histogram2dcontour": [
           {
            "colorbar": {
             "outlinewidth": 0,
             "ticks": ""
            },
            "colorscale": [
             [
              0,
              "#0d0887"
             ],
             [
              0.1111111111111111,
              "#46039f"
             ],
             [
              0.2222222222222222,
              "#7201a8"
             ],
             [
              0.3333333333333333,
              "#9c179e"
             ],
             [
              0.4444444444444444,
              "#bd3786"
             ],
             [
              0.5555555555555556,
              "#d8576b"
             ],
             [
              0.6666666666666666,
              "#ed7953"
             ],
             [
              0.7777777777777778,
              "#fb9f3a"
             ],
             [
              0.8888888888888888,
              "#fdca26"
             ],
             [
              1,
              "#f0f921"
             ]
            ],
            "type": "histogram2dcontour"
           }
          ],
          "mesh3d": [
           {
            "colorbar": {
             "outlinewidth": 0,
             "ticks": ""
            },
            "type": "mesh3d"
           }
          ],
          "parcoords": [
           {
            "line": {
             "colorbar": {
              "outlinewidth": 0,
              "ticks": ""
             }
            },
            "type": "parcoords"
           }
          ],
          "pie": [
           {
            "automargin": true,
            "type": "pie"
           }
          ],
          "scatter": [
           {
            "marker": {
             "colorbar": {
              "outlinewidth": 0,
              "ticks": ""
             }
            },
            "type": "scatter"
           }
          ],
          "scatter3d": [
           {
            "line": {
             "colorbar": {
              "outlinewidth": 0,
              "ticks": ""
             }
            },
            "marker": {
             "colorbar": {
              "outlinewidth": 0,
              "ticks": ""
             }
            },
            "type": "scatter3d"
           }
          ],
          "scattercarpet": [
           {
            "marker": {
             "colorbar": {
              "outlinewidth": 0,
              "ticks": ""
             }
            },
            "type": "scattercarpet"
           }
          ],
          "scattergeo": [
           {
            "marker": {
             "colorbar": {
              "outlinewidth": 0,
              "ticks": ""
             }
            },
            "type": "scattergeo"
           }
          ],
          "scattergl": [
           {
            "marker": {
             "colorbar": {
              "outlinewidth": 0,
              "ticks": ""
             }
            },
            "type": "scattergl"
           }
          ],
          "scattermapbox": [
           {
            "marker": {
             "colorbar": {
              "outlinewidth": 0,
              "ticks": ""
             }
            },
            "type": "scattermapbox"
           }
          ],
          "scatterpolar": [
           {
            "marker": {
             "colorbar": {
              "outlinewidth": 0,
              "ticks": ""
             }
            },
            "type": "scatterpolar"
           }
          ],
          "scatterpolargl": [
           {
            "marker": {
             "colorbar": {
              "outlinewidth": 0,
              "ticks": ""
             }
            },
            "type": "scatterpolargl"
           }
          ],
          "scatterternary": [
           {
            "marker": {
             "colorbar": {
              "outlinewidth": 0,
              "ticks": ""
             }
            },
            "type": "scatterternary"
           }
          ],
          "surface": [
           {
            "colorbar": {
             "outlinewidth": 0,
             "ticks": ""
            },
            "colorscale": [
             [
              0,
              "#0d0887"
             ],
             [
              0.1111111111111111,
              "#46039f"
             ],
             [
              0.2222222222222222,
              "#7201a8"
             ],
             [
              0.3333333333333333,
              "#9c179e"
             ],
             [
              0.4444444444444444,
              "#bd3786"
             ],
             [
              0.5555555555555556,
              "#d8576b"
             ],
             [
              0.6666666666666666,
              "#ed7953"
             ],
             [
              0.7777777777777778,
              "#fb9f3a"
             ],
             [
              0.8888888888888888,
              "#fdca26"
             ],
             [
              1,
              "#f0f921"
             ]
            ],
            "type": "surface"
           }
          ],
          "table": [
           {
            "cells": {
             "fill": {
              "color": "#EBF0F8"
             },
             "line": {
              "color": "white"
             }
            },
            "header": {
             "fill": {
              "color": "#C8D4E3"
             },
             "line": {
              "color": "white"
             }
            },
            "type": "table"
           }
          ]
         },
         "layout": {
          "annotationdefaults": {
           "arrowcolor": "#2a3f5f",
           "arrowhead": 0,
           "arrowwidth": 1
          },
          "coloraxis": {
           "colorbar": {
            "outlinewidth": 0,
            "ticks": ""
           }
          },
          "colorscale": {
           "diverging": [
            [
             0,
             "#8e0152"
            ],
            [
             0.1,
             "#c51b7d"
            ],
            [
             0.2,
             "#de77ae"
            ],
            [
             0.3,
             "#f1b6da"
            ],
            [
             0.4,
             "#fde0ef"
            ],
            [
             0.5,
             "#f7f7f7"
            ],
            [
             0.6,
             "#e6f5d0"
            ],
            [
             0.7,
             "#b8e186"
            ],
            [
             0.8,
             "#7fbc41"
            ],
            [
             0.9,
             "#4d9221"
            ],
            [
             1,
             "#276419"
            ]
           ],
           "sequential": [
            [
             0,
             "#0d0887"
            ],
            [
             0.1111111111111111,
             "#46039f"
            ],
            [
             0.2222222222222222,
             "#7201a8"
            ],
            [
             0.3333333333333333,
             "#9c179e"
            ],
            [
             0.4444444444444444,
             "#bd3786"
            ],
            [
             0.5555555555555556,
             "#d8576b"
            ],
            [
             0.6666666666666666,
             "#ed7953"
            ],
            [
             0.7777777777777778,
             "#fb9f3a"
            ],
            [
             0.8888888888888888,
             "#fdca26"
            ],
            [
             1,
             "#f0f921"
            ]
           ],
           "sequentialminus": [
            [
             0,
             "#0d0887"
            ],
            [
             0.1111111111111111,
             "#46039f"
            ],
            [
             0.2222222222222222,
             "#7201a8"
            ],
            [
             0.3333333333333333,
             "#9c179e"
            ],
            [
             0.4444444444444444,
             "#bd3786"
            ],
            [
             0.5555555555555556,
             "#d8576b"
            ],
            [
             0.6666666666666666,
             "#ed7953"
            ],
            [
             0.7777777777777778,
             "#fb9f3a"
            ],
            [
             0.8888888888888888,
             "#fdca26"
            ],
            [
             1,
             "#f0f921"
            ]
           ]
          },
          "colorway": [
           "#636efa",
           "#EF553B",
           "#00cc96",
           "#ab63fa",
           "#FFA15A",
           "#19d3f3",
           "#FF6692",
           "#B6E880",
           "#FF97FF",
           "#FECB52"
          ],
          "font": {
           "color": "#2a3f5f"
          },
          "geo": {
           "bgcolor": "white",
           "lakecolor": "white",
           "landcolor": "#E5ECF6",
           "showlakes": true,
           "showland": true,
           "subunitcolor": "white"
          },
          "hoverlabel": {
           "align": "left"
          },
          "hovermode": "closest",
          "mapbox": {
           "style": "light"
          },
          "paper_bgcolor": "white",
          "plot_bgcolor": "#E5ECF6",
          "polar": {
           "angularaxis": {
            "gridcolor": "white",
            "linecolor": "white",
            "ticks": ""
           },
           "bgcolor": "#E5ECF6",
           "radialaxis": {
            "gridcolor": "white",
            "linecolor": "white",
            "ticks": ""
           }
          },
          "scene": {
           "xaxis": {
            "backgroundcolor": "#E5ECF6",
            "gridcolor": "white",
            "gridwidth": 2,
            "linecolor": "white",
            "showbackground": true,
            "ticks": "",
            "zerolinecolor": "white"
           },
           "yaxis": {
            "backgroundcolor": "#E5ECF6",
            "gridcolor": "white",
            "gridwidth": 2,
            "linecolor": "white",
            "showbackground": true,
            "ticks": "",
            "zerolinecolor": "white"
           },
           "zaxis": {
            "backgroundcolor": "#E5ECF6",
            "gridcolor": "white",
            "gridwidth": 2,
            "linecolor": "white",
            "showbackground": true,
            "ticks": "",
            "zerolinecolor": "white"
           }
          },
          "shapedefaults": {
           "line": {
            "color": "#2a3f5f"
           }
          },
          "ternary": {
           "aaxis": {
            "gridcolor": "white",
            "linecolor": "white",
            "ticks": ""
           },
           "baxis": {
            "gridcolor": "white",
            "linecolor": "white",
            "ticks": ""
           },
           "bgcolor": "#E5ECF6",
           "caxis": {
            "gridcolor": "white",
            "linecolor": "white",
            "ticks": ""
           }
          },
          "title": {
           "x": 0.05
          },
          "xaxis": {
           "automargin": true,
           "gridcolor": "white",
           "linecolor": "white",
           "ticks": "",
           "title": {
            "standoff": 15
           },
           "zerolinecolor": "white",
           "zerolinewidth": 2
          },
          "yaxis": {
           "automargin": true,
           "gridcolor": "white",
           "linecolor": "white",
           "ticks": "",
           "title": {
            "standoff": 15
           },
           "zerolinecolor": "white",
           "zerolinewidth": 2
          }
         }
        },
        "title": {
         "text": "Máxima profundidad DART"
        },
        "xaxis": {
         "title": {
          "text": "Máxima profundidad"
         }
        },
        "yaxis": {
         "title": {
          "text": "MAE"
         }
        }
       }
      },
      "text/html": [
       "<div>                            <div id=\"f17e7f7b-0428-4e39-b89c-16fd648f7401\" class=\"plotly-graph-div\" style=\"height:525px; width:100%;\"></div>            <script type=\"text/javascript\">                require([\"plotly\"], function(Plotly) {                    window.PLOTLYENV=window.PLOTLYENV || {};                                    if (document.getElementById(\"f17e7f7b-0428-4e39-b89c-16fd648f7401\")) {                    Plotly.newPlot(                        \"f17e7f7b-0428-4e39-b89c-16fd648f7401\",                        [{\"mode\": \"markers\", \"type\": \"scatter\", \"x\": [114, 197, 95, 88, 235, 60, 96, 205, 24, 169, 200, 220, 95, 5, 237, 234, 43, 135, 243, 120, 283, 191, 91, 39, 158, 54, 232, 214, 184, 177, 238, 172, 194, 181, 184, 73, 245, 195, 92, 129, 42, 31, 189, 167, 180, 118], \"y\": [3372753.273400127, 2810743.555741155, 3017143.0214361786, 3430376.785984915, 3052743.544263173, 3097036.156083528, 2657168.6237388183, 2912829.4270349466, 3684181.3500800733, 3256373.2980521596, 3518215.4459922477, 3040317.6128819035, 2748717.8102078824, 3339466.784307597, 3244104.9325284627, 2802753.8530179025, 3209664.375652496, 3322537.424024, 5895592.634448352, 3123112.7582161264, 3412709.7466265, 2791707.1397272907, 2794375.3019249695, 2890455.964341947, 3205787.4633493843, 3165491.02107826, 2998157.0787479887, 3424082.436260622, 3176377.3981219297, 3043491.291059281, 3316042.553464348, 3080165.42863463, 3071283.022152126, 3514758.081916045, 2882415.8848872753, 3078830.6434280425, 3160773.597932139, 3066246.263882493, 2752956.3024729304, 3109692.624497564, 3560887.762006282, 3248468.5559452837, 2931314.64813448, 2817411.2837940454, 3385136.022797253, 3543205.575471923]}],                        {\"template\": {\"data\": {\"bar\": [{\"error_x\": {\"color\": \"#2a3f5f\"}, \"error_y\": {\"color\": \"#2a3f5f\"}, \"marker\": {\"line\": {\"color\": \"#E5ECF6\", \"width\": 0.5}}, \"type\": \"bar\"}], \"barpolar\": [{\"marker\": {\"line\": {\"color\": \"#E5ECF6\", \"width\": 0.5}}, \"type\": \"barpolar\"}], \"carpet\": [{\"aaxis\": {\"endlinecolor\": \"#2a3f5f\", \"gridcolor\": \"white\", \"linecolor\": \"white\", \"minorgridcolor\": \"white\", \"startlinecolor\": \"#2a3f5f\"}, \"baxis\": {\"endlinecolor\": \"#2a3f5f\", \"gridcolor\": \"white\", \"linecolor\": \"white\", \"minorgridcolor\": \"white\", \"startlinecolor\": \"#2a3f5f\"}, \"type\": \"carpet\"}], \"choropleth\": [{\"colorbar\": {\"outlinewidth\": 0, \"ticks\": \"\"}, \"type\": \"choropleth\"}], \"contour\": [{\"colorbar\": {\"outlinewidth\": 0, \"ticks\": \"\"}, \"colorscale\": [[0.0, \"#0d0887\"], [0.1111111111111111, \"#46039f\"], [0.2222222222222222, \"#7201a8\"], [0.3333333333333333, \"#9c179e\"], [0.4444444444444444, \"#bd3786\"], [0.5555555555555556, \"#d8576b\"], [0.6666666666666666, \"#ed7953\"], [0.7777777777777778, \"#fb9f3a\"], [0.8888888888888888, \"#fdca26\"], [1.0, \"#f0f921\"]], \"type\": \"contour\"}], \"contourcarpet\": [{\"colorbar\": {\"outlinewidth\": 0, \"ticks\": \"\"}, \"type\": \"contourcarpet\"}], \"heatmap\": [{\"colorbar\": {\"outlinewidth\": 0, \"ticks\": \"\"}, \"colorscale\": [[0.0, \"#0d0887\"], [0.1111111111111111, \"#46039f\"], [0.2222222222222222, \"#7201a8\"], [0.3333333333333333, \"#9c179e\"], [0.4444444444444444, \"#bd3786\"], [0.5555555555555556, \"#d8576b\"], [0.6666666666666666, \"#ed7953\"], [0.7777777777777778, \"#fb9f3a\"], [0.8888888888888888, \"#fdca26\"], [1.0, \"#f0f921\"]], \"type\": \"heatmap\"}], \"heatmapgl\": [{\"colorbar\": {\"outlinewidth\": 0, \"ticks\": \"\"}, \"colorscale\": [[0.0, \"#0d0887\"], [0.1111111111111111, \"#46039f\"], [0.2222222222222222, \"#7201a8\"], [0.3333333333333333, \"#9c179e\"], [0.4444444444444444, \"#bd3786\"], [0.5555555555555556, \"#d8576b\"], [0.6666666666666666, \"#ed7953\"], [0.7777777777777778, \"#fb9f3a\"], [0.8888888888888888, \"#fdca26\"], [1.0, \"#f0f921\"]], \"type\": \"heatmapgl\"}], \"histogram\": [{\"marker\": {\"colorbar\": {\"outlinewidth\": 0, \"ticks\": \"\"}}, \"type\": \"histogram\"}], \"histogram2d\": [{\"colorbar\": {\"outlinewidth\": 0, \"ticks\": \"\"}, \"colorscale\": [[0.0, \"#0d0887\"], [0.1111111111111111, \"#46039f\"], [0.2222222222222222, \"#7201a8\"], [0.3333333333333333, \"#9c179e\"], [0.4444444444444444, \"#bd3786\"], [0.5555555555555556, \"#d8576b\"], [0.6666666666666666, \"#ed7953\"], [0.7777777777777778, \"#fb9f3a\"], [0.8888888888888888, \"#fdca26\"], [1.0, \"#f0f921\"]], \"type\": \"histogram2d\"}], \"histogram2dcontour\": [{\"colorbar\": {\"outlinewidth\": 0, \"ticks\": \"\"}, \"colorscale\": [[0.0, \"#0d0887\"], [0.1111111111111111, \"#46039f\"], [0.2222222222222222, \"#7201a8\"], [0.3333333333333333, \"#9c179e\"], [0.4444444444444444, \"#bd3786\"], [0.5555555555555556, \"#d8576b\"], [0.6666666666666666, \"#ed7953\"], [0.7777777777777778, \"#fb9f3a\"], [0.8888888888888888, \"#fdca26\"], [1.0, \"#f0f921\"]], \"type\": \"histogram2dcontour\"}], \"mesh3d\": [{\"colorbar\": {\"outlinewidth\": 0, \"ticks\": \"\"}, \"type\": \"mesh3d\"}], \"parcoords\": [{\"line\": {\"colorbar\": {\"outlinewidth\": 0, \"ticks\": \"\"}}, \"type\": \"parcoords\"}], \"pie\": [{\"automargin\": true, \"type\": \"pie\"}], \"scatter\": [{\"marker\": {\"colorbar\": {\"outlinewidth\": 0, \"ticks\": \"\"}}, \"type\": \"scatter\"}], \"scatter3d\": [{\"line\": {\"colorbar\": {\"outlinewidth\": 0, \"ticks\": \"\"}}, \"marker\": {\"colorbar\": {\"outlinewidth\": 0, \"ticks\": \"\"}}, \"type\": \"scatter3d\"}], \"scattercarpet\": [{\"marker\": {\"colorbar\": {\"outlinewidth\": 0, \"ticks\": \"\"}}, \"type\": \"scattercarpet\"}], \"scattergeo\": [{\"marker\": {\"colorbar\": {\"outlinewidth\": 0, \"ticks\": \"\"}}, \"type\": \"scattergeo\"}], \"scattergl\": [{\"marker\": {\"colorbar\": {\"outlinewidth\": 0, \"ticks\": \"\"}}, \"type\": \"scattergl\"}], \"scattermapbox\": [{\"marker\": {\"colorbar\": {\"outlinewidth\": 0, \"ticks\": \"\"}}, \"type\": \"scattermapbox\"}], \"scatterpolar\": [{\"marker\": {\"colorbar\": {\"outlinewidth\": 0, \"ticks\": \"\"}}, \"type\": \"scatterpolar\"}], \"scatterpolargl\": [{\"marker\": {\"colorbar\": {\"outlinewidth\": 0, \"ticks\": \"\"}}, \"type\": \"scatterpolargl\"}], \"scatterternary\": [{\"marker\": {\"colorbar\": {\"outlinewidth\": 0, \"ticks\": \"\"}}, \"type\": \"scatterternary\"}], \"surface\": [{\"colorbar\": {\"outlinewidth\": 0, \"ticks\": \"\"}, \"colorscale\": [[0.0, \"#0d0887\"], [0.1111111111111111, \"#46039f\"], [0.2222222222222222, \"#7201a8\"], [0.3333333333333333, \"#9c179e\"], [0.4444444444444444, \"#bd3786\"], [0.5555555555555556, \"#d8576b\"], [0.6666666666666666, \"#ed7953\"], [0.7777777777777778, \"#fb9f3a\"], [0.8888888888888888, \"#fdca26\"], [1.0, \"#f0f921\"]], \"type\": \"surface\"}], \"table\": [{\"cells\": {\"fill\": {\"color\": \"#EBF0F8\"}, \"line\": {\"color\": \"white\"}}, \"header\": {\"fill\": {\"color\": \"#C8D4E3\"}, \"line\": {\"color\": \"white\"}}, \"type\": \"table\"}]}, \"layout\": {\"annotationdefaults\": {\"arrowcolor\": \"#2a3f5f\", \"arrowhead\": 0, \"arrowwidth\": 1}, \"coloraxis\": {\"colorbar\": {\"outlinewidth\": 0, \"ticks\": \"\"}}, \"colorscale\": {\"diverging\": [[0, \"#8e0152\"], [0.1, \"#c51b7d\"], [0.2, \"#de77ae\"], [0.3, \"#f1b6da\"], [0.4, \"#fde0ef\"], [0.5, \"#f7f7f7\"], [0.6, \"#e6f5d0\"], [0.7, \"#b8e186\"], [0.8, \"#7fbc41\"], [0.9, \"#4d9221\"], [1, \"#276419\"]], \"sequential\": [[0.0, \"#0d0887\"], [0.1111111111111111, \"#46039f\"], [0.2222222222222222, \"#7201a8\"], [0.3333333333333333, \"#9c179e\"], [0.4444444444444444, \"#bd3786\"], [0.5555555555555556, \"#d8576b\"], [0.6666666666666666, \"#ed7953\"], [0.7777777777777778, \"#fb9f3a\"], [0.8888888888888888, \"#fdca26\"], [1.0, \"#f0f921\"]], \"sequentialminus\": [[0.0, \"#0d0887\"], [0.1111111111111111, \"#46039f\"], [0.2222222222222222, \"#7201a8\"], [0.3333333333333333, \"#9c179e\"], [0.4444444444444444, \"#bd3786\"], [0.5555555555555556, \"#d8576b\"], [0.6666666666666666, \"#ed7953\"], [0.7777777777777778, \"#fb9f3a\"], [0.8888888888888888, \"#fdca26\"], [1.0, \"#f0f921\"]]}, \"colorway\": [\"#636efa\", \"#EF553B\", \"#00cc96\", \"#ab63fa\", \"#FFA15A\", \"#19d3f3\", \"#FF6692\", \"#B6E880\", \"#FF97FF\", \"#FECB52\"], \"font\": {\"color\": \"#2a3f5f\"}, \"geo\": {\"bgcolor\": \"white\", \"lakecolor\": \"white\", \"landcolor\": \"#E5ECF6\", \"showlakes\": true, \"showland\": true, \"subunitcolor\": \"white\"}, \"hoverlabel\": {\"align\": \"left\"}, \"hovermode\": \"closest\", \"mapbox\": {\"style\": \"light\"}, \"paper_bgcolor\": \"white\", \"plot_bgcolor\": \"#E5ECF6\", \"polar\": {\"angularaxis\": {\"gridcolor\": \"white\", \"linecolor\": \"white\", \"ticks\": \"\"}, \"bgcolor\": \"#E5ECF6\", \"radialaxis\": {\"gridcolor\": \"white\", \"linecolor\": \"white\", \"ticks\": \"\"}}, \"scene\": {\"xaxis\": {\"backgroundcolor\": \"#E5ECF6\", \"gridcolor\": \"white\", \"gridwidth\": 2, \"linecolor\": \"white\", \"showbackground\": true, \"ticks\": \"\", \"zerolinecolor\": \"white\"}, \"yaxis\": {\"backgroundcolor\": \"#E5ECF6\", \"gridcolor\": \"white\", \"gridwidth\": 2, \"linecolor\": \"white\", \"showbackground\": true, \"ticks\": \"\", \"zerolinecolor\": \"white\"}, \"zaxis\": {\"backgroundcolor\": \"#E5ECF6\", \"gridcolor\": \"white\", \"gridwidth\": 2, \"linecolor\": \"white\", \"showbackground\": true, \"ticks\": \"\", \"zerolinecolor\": \"white\"}}, \"shapedefaults\": {\"line\": {\"color\": \"#2a3f5f\"}}, \"ternary\": {\"aaxis\": {\"gridcolor\": \"white\", \"linecolor\": \"white\", \"ticks\": \"\"}, \"baxis\": {\"gridcolor\": \"white\", \"linecolor\": \"white\", \"ticks\": \"\"}, \"bgcolor\": \"#E5ECF6\", \"caxis\": {\"gridcolor\": \"white\", \"linecolor\": \"white\", \"ticks\": \"\"}}, \"title\": {\"x\": 0.05}, \"xaxis\": {\"automargin\": true, \"gridcolor\": \"white\", \"linecolor\": \"white\", \"ticks\": \"\", \"title\": {\"standoff\": 15}, \"zerolinecolor\": \"white\", \"zerolinewidth\": 2}, \"yaxis\": {\"automargin\": true, \"gridcolor\": \"white\", \"linecolor\": \"white\", \"ticks\": \"\", \"title\": {\"standoff\": 15}, \"zerolinecolor\": \"white\", \"zerolinewidth\": 2}}}, \"title\": {\"text\": \"M\\u00e1xima profundidad DART\"}, \"xaxis\": {\"title\": {\"text\": \"M\\u00e1xima profundidad\"}}, \"yaxis\": {\"title\": {\"text\": \"MAE\"}}},                        {\"responsive\": true}                    ).then(function(){\n",
       "                            \n",
       "var gd = document.getElementById('f17e7f7b-0428-4e39-b89c-16fd648f7401');\n",
       "var x = new MutationObserver(function (mutations, observer) {{\n",
       "        var display = window.getComputedStyle(gd).display;\n",
       "        if (!display || display === 'none') {{\n",
       "            console.log([gd, 'removed!']);\n",
       "            Plotly.purge(gd);\n",
       "            observer.disconnect();\n",
       "        }}\n",
       "}});\n",
       "\n",
       "// Listen for the removal of the full notebook cells\n",
       "var notebookContainer = gd.closest('#notebook-container');\n",
       "if (notebookContainer) {{\n",
       "    x.observe(notebookContainer, {childList: true});\n",
       "}}\n",
       "\n",
       "// Listen for the clearing of the current output cell\n",
       "var outputEl = gd.closest('.output');\n",
       "if (outputEl) {{\n",
       "    x.observe(outputEl, {childList: true});\n",
       "}}\n",
       "\n",
       "                        })                };                });            </script>        </div>"
      ]
     },
     "metadata": {},
     "output_type": "display_data"
    }
   ],
   "source": [
    "fig = go.Figure(data=go.Scatter(x = Z_dart, y = mae_dart, mode='markers'))\n",
    "fig.update_layout(\n",
    "    title = \"Máxima profundidad DART\",\n",
    "    xaxis_title = \"Máxima profundidad\",\n",
    "    yaxis_title = \"MAE\")\n",
    "fig.show()"
   ]
  },
  {
   "cell_type": "code",
   "execution_count": 61,
   "metadata": {
    "collapsed": true
   },
   "outputs": [
    {
     "data": {
      "application/vnd.plotly.v1+json": {
       "config": {
        "plotlyServerURL": "https://plot.ly"
       },
       "data": [
        {
         "mode": "markers",
         "type": "scatter",
         "x": [
          0.8080924169781315,
          0.07090629561673956,
          0.9657206401482522,
          0.9020377027205321,
          0.25619728312693124,
          0.28745613842422346,
          0.09910953433651992,
          0.8665009250501947,
          0.14666066433868385,
          0.44069027667114324,
          0.853454668690713,
          0.3946018601754545,
          0.4644230962507151,
          0.3096354377892415,
          0.34354315282436887,
          0.2383597180603163,
          0.7916367463142598,
          0.40022939966826165,
          0.0008639311626680302,
          0.8604625527459016,
          0.05741681549757971,
          0.11299494569015611,
          0.18061800744239465,
          0.06515769711827613,
          0.4238325480896189,
          0.36848544400452254,
          0.7037406772767594,
          0.28763177557860975,
          0.05531004431515396,
          0.17642875277210757,
          0.3762894383870541,
          0.5386263747551524,
          0.39848911572233425,
          0.014893360018926383,
          0.5796568560135972,
          0.842073907381548,
          0.6608220247867617,
          0.1521784123690948,
          0.43377761857137287,
          0.5228235053411747,
          0.20479103192823356,
          0.4146744652327856,
          0.26823962477354213,
          0.7684827667478171,
          0.030642718083350173,
          0.7928294720021803
         ],
         "y": [
          3372753.273400127,
          2810743.555741155,
          3017143.0214361786,
          3430376.785984915,
          3052743.544263173,
          3097036.156083528,
          2657168.6237388183,
          2912829.4270349466,
          3684181.3500800733,
          3256373.2980521596,
          3518215.4459922477,
          3040317.6128819035,
          2748717.8102078824,
          3339466.784307597,
          3244104.9325284627,
          2802753.8530179025,
          3209664.375652496,
          3322537.424024,
          5895592.634448352,
          3123112.7582161264,
          3412709.7466265,
          2791707.1397272907,
          2794375.3019249695,
          2890455.964341947,
          3205787.4633493843,
          3165491.02107826,
          2998157.0787479887,
          3424082.436260622,
          3176377.3981219297,
          3043491.291059281,
          3316042.553464348,
          3080165.42863463,
          3071283.022152126,
          3514758.081916045,
          2882415.8848872753,
          3078830.6434280425,
          3160773.597932139,
          3066246.263882493,
          2752956.3024729304,
          3109692.624497564,
          3560887.762006282,
          3248468.5559452837,
          2931314.64813448,
          2817411.2837940454,
          3385136.022797253,
          3543205.575471923
         ]
        }
       ],
       "layout": {
        "template": {
         "data": {
          "bar": [
           {
            "error_x": {
             "color": "#2a3f5f"
            },
            "error_y": {
             "color": "#2a3f5f"
            },
            "marker": {
             "line": {
              "color": "#E5ECF6",
              "width": 0.5
             }
            },
            "type": "bar"
           }
          ],
          "barpolar": [
           {
            "marker": {
             "line": {
              "color": "#E5ECF6",
              "width": 0.5
             }
            },
            "type": "barpolar"
           }
          ],
          "carpet": [
           {
            "aaxis": {
             "endlinecolor": "#2a3f5f",
             "gridcolor": "white",
             "linecolor": "white",
             "minorgridcolor": "white",
             "startlinecolor": "#2a3f5f"
            },
            "baxis": {
             "endlinecolor": "#2a3f5f",
             "gridcolor": "white",
             "linecolor": "white",
             "minorgridcolor": "white",
             "startlinecolor": "#2a3f5f"
            },
            "type": "carpet"
           }
          ],
          "choropleth": [
           {
            "colorbar": {
             "outlinewidth": 0,
             "ticks": ""
            },
            "type": "choropleth"
           }
          ],
          "contour": [
           {
            "colorbar": {
             "outlinewidth": 0,
             "ticks": ""
            },
            "colorscale": [
             [
              0,
              "#0d0887"
             ],
             [
              0.1111111111111111,
              "#46039f"
             ],
             [
              0.2222222222222222,
              "#7201a8"
             ],
             [
              0.3333333333333333,
              "#9c179e"
             ],
             [
              0.4444444444444444,
              "#bd3786"
             ],
             [
              0.5555555555555556,
              "#d8576b"
             ],
             [
              0.6666666666666666,
              "#ed7953"
             ],
             [
              0.7777777777777778,
              "#fb9f3a"
             ],
             [
              0.8888888888888888,
              "#fdca26"
             ],
             [
              1,
              "#f0f921"
             ]
            ],
            "type": "contour"
           }
          ],
          "contourcarpet": [
           {
            "colorbar": {
             "outlinewidth": 0,
             "ticks": ""
            },
            "type": "contourcarpet"
           }
          ],
          "heatmap": [
           {
            "colorbar": {
             "outlinewidth": 0,
             "ticks": ""
            },
            "colorscale": [
             [
              0,
              "#0d0887"
             ],
             [
              0.1111111111111111,
              "#46039f"
             ],
             [
              0.2222222222222222,
              "#7201a8"
             ],
             [
              0.3333333333333333,
              "#9c179e"
             ],
             [
              0.4444444444444444,
              "#bd3786"
             ],
             [
              0.5555555555555556,
              "#d8576b"
             ],
             [
              0.6666666666666666,
              "#ed7953"
             ],
             [
              0.7777777777777778,
              "#fb9f3a"
             ],
             [
              0.8888888888888888,
              "#fdca26"
             ],
             [
              1,
              "#f0f921"
             ]
            ],
            "type": "heatmap"
           }
          ],
          "heatmapgl": [
           {
            "colorbar": {
             "outlinewidth": 0,
             "ticks": ""
            },
            "colorscale": [
             [
              0,
              "#0d0887"
             ],
             [
              0.1111111111111111,
              "#46039f"
             ],
             [
              0.2222222222222222,
              "#7201a8"
             ],
             [
              0.3333333333333333,
              "#9c179e"
             ],
             [
              0.4444444444444444,
              "#bd3786"
             ],
             [
              0.5555555555555556,
              "#d8576b"
             ],
             [
              0.6666666666666666,
              "#ed7953"
             ],
             [
              0.7777777777777778,
              "#fb9f3a"
             ],
             [
              0.8888888888888888,
              "#fdca26"
             ],
             [
              1,
              "#f0f921"
             ]
            ],
            "type": "heatmapgl"
           }
          ],
          "histogram": [
           {
            "marker": {
             "colorbar": {
              "outlinewidth": 0,
              "ticks": ""
             }
            },
            "type": "histogram"
           }
          ],
          "histogram2d": [
           {
            "colorbar": {
             "outlinewidth": 0,
             "ticks": ""
            },
            "colorscale": [
             [
              0,
              "#0d0887"
             ],
             [
              0.1111111111111111,
              "#46039f"
             ],
             [
              0.2222222222222222,
              "#7201a8"
             ],
             [
              0.3333333333333333,
              "#9c179e"
             ],
             [
              0.4444444444444444,
              "#bd3786"
             ],
             [
              0.5555555555555556,
              "#d8576b"
             ],
             [
              0.6666666666666666,
              "#ed7953"
             ],
             [
              0.7777777777777778,
              "#fb9f3a"
             ],
             [
              0.8888888888888888,
              "#fdca26"
             ],
             [
              1,
              "#f0f921"
             ]
            ],
            "type": "histogram2d"
           }
          ],
          "histogram2dcontour": [
           {
            "colorbar": {
             "outlinewidth": 0,
             "ticks": ""
            },
            "colorscale": [
             [
              0,
              "#0d0887"
             ],
             [
              0.1111111111111111,
              "#46039f"
             ],
             [
              0.2222222222222222,
              "#7201a8"
             ],
             [
              0.3333333333333333,
              "#9c179e"
             ],
             [
              0.4444444444444444,
              "#bd3786"
             ],
             [
              0.5555555555555556,
              "#d8576b"
             ],
             [
              0.6666666666666666,
              "#ed7953"
             ],
             [
              0.7777777777777778,
              "#fb9f3a"
             ],
             [
              0.8888888888888888,
              "#fdca26"
             ],
             [
              1,
              "#f0f921"
             ]
            ],
            "type": "histogram2dcontour"
           }
          ],
          "mesh3d": [
           {
            "colorbar": {
             "outlinewidth": 0,
             "ticks": ""
            },
            "type": "mesh3d"
           }
          ],
          "parcoords": [
           {
            "line": {
             "colorbar": {
              "outlinewidth": 0,
              "ticks": ""
             }
            },
            "type": "parcoords"
           }
          ],
          "pie": [
           {
            "automargin": true,
            "type": "pie"
           }
          ],
          "scatter": [
           {
            "marker": {
             "colorbar": {
              "outlinewidth": 0,
              "ticks": ""
             }
            },
            "type": "scatter"
           }
          ],
          "scatter3d": [
           {
            "line": {
             "colorbar": {
              "outlinewidth": 0,
              "ticks": ""
             }
            },
            "marker": {
             "colorbar": {
              "outlinewidth": 0,
              "ticks": ""
             }
            },
            "type": "scatter3d"
           }
          ],
          "scattercarpet": [
           {
            "marker": {
             "colorbar": {
              "outlinewidth": 0,
              "ticks": ""
             }
            },
            "type": "scattercarpet"
           }
          ],
          "scattergeo": [
           {
            "marker": {
             "colorbar": {
              "outlinewidth": 0,
              "ticks": ""
             }
            },
            "type": "scattergeo"
           }
          ],
          "scattergl": [
           {
            "marker": {
             "colorbar": {
              "outlinewidth": 0,
              "ticks": ""
             }
            },
            "type": "scattergl"
           }
          ],
          "scattermapbox": [
           {
            "marker": {
             "colorbar": {
              "outlinewidth": 0,
              "ticks": ""
             }
            },
            "type": "scattermapbox"
           }
          ],
          "scatterpolar": [
           {
            "marker": {
             "colorbar": {
              "outlinewidth": 0,
              "ticks": ""
             }
            },
            "type": "scatterpolar"
           }
          ],
          "scatterpolargl": [
           {
            "marker": {
             "colorbar": {
              "outlinewidth": 0,
              "ticks": ""
             }
            },
            "type": "scatterpolargl"
           }
          ],
          "scatterternary": [
           {
            "marker": {
             "colorbar": {
              "outlinewidth": 0,
              "ticks": ""
             }
            },
            "type": "scatterternary"
           }
          ],
          "surface": [
           {
            "colorbar": {
             "outlinewidth": 0,
             "ticks": ""
            },
            "colorscale": [
             [
              0,
              "#0d0887"
             ],
             [
              0.1111111111111111,
              "#46039f"
             ],
             [
              0.2222222222222222,
              "#7201a8"
             ],
             [
              0.3333333333333333,
              "#9c179e"
             ],
             [
              0.4444444444444444,
              "#bd3786"
             ],
             [
              0.5555555555555556,
              "#d8576b"
             ],
             [
              0.6666666666666666,
              "#ed7953"
             ],
             [
              0.7777777777777778,
              "#fb9f3a"
             ],
             [
              0.8888888888888888,
              "#fdca26"
             ],
             [
              1,
              "#f0f921"
             ]
            ],
            "type": "surface"
           }
          ],
          "table": [
           {
            "cells": {
             "fill": {
              "color": "#EBF0F8"
             },
             "line": {
              "color": "white"
             }
            },
            "header": {
             "fill": {
              "color": "#C8D4E3"
             },
             "line": {
              "color": "white"
             }
            },
            "type": "table"
           }
          ]
         },
         "layout": {
          "annotationdefaults": {
           "arrowcolor": "#2a3f5f",
           "arrowhead": 0,
           "arrowwidth": 1
          },
          "coloraxis": {
           "colorbar": {
            "outlinewidth": 0,
            "ticks": ""
           }
          },
          "colorscale": {
           "diverging": [
            [
             0,
             "#8e0152"
            ],
            [
             0.1,
             "#c51b7d"
            ],
            [
             0.2,
             "#de77ae"
            ],
            [
             0.3,
             "#f1b6da"
            ],
            [
             0.4,
             "#fde0ef"
            ],
            [
             0.5,
             "#f7f7f7"
            ],
            [
             0.6,
             "#e6f5d0"
            ],
            [
             0.7,
             "#b8e186"
            ],
            [
             0.8,
             "#7fbc41"
            ],
            [
             0.9,
             "#4d9221"
            ],
            [
             1,
             "#276419"
            ]
           ],
           "sequential": [
            [
             0,
             "#0d0887"
            ],
            [
             0.1111111111111111,
             "#46039f"
            ],
            [
             0.2222222222222222,
             "#7201a8"
            ],
            [
             0.3333333333333333,
             "#9c179e"
            ],
            [
             0.4444444444444444,
             "#bd3786"
            ],
            [
             0.5555555555555556,
             "#d8576b"
            ],
            [
             0.6666666666666666,
             "#ed7953"
            ],
            [
             0.7777777777777778,
             "#fb9f3a"
            ],
            [
             0.8888888888888888,
             "#fdca26"
            ],
            [
             1,
             "#f0f921"
            ]
           ],
           "sequentialminus": [
            [
             0,
             "#0d0887"
            ],
            [
             0.1111111111111111,
             "#46039f"
            ],
            [
             0.2222222222222222,
             "#7201a8"
            ],
            [
             0.3333333333333333,
             "#9c179e"
            ],
            [
             0.4444444444444444,
             "#bd3786"
            ],
            [
             0.5555555555555556,
             "#d8576b"
            ],
            [
             0.6666666666666666,
             "#ed7953"
            ],
            [
             0.7777777777777778,
             "#fb9f3a"
            ],
            [
             0.8888888888888888,
             "#fdca26"
            ],
            [
             1,
             "#f0f921"
            ]
           ]
          },
          "colorway": [
           "#636efa",
           "#EF553B",
           "#00cc96",
           "#ab63fa",
           "#FFA15A",
           "#19d3f3",
           "#FF6692",
           "#B6E880",
           "#FF97FF",
           "#FECB52"
          ],
          "font": {
           "color": "#2a3f5f"
          },
          "geo": {
           "bgcolor": "white",
           "lakecolor": "white",
           "landcolor": "#E5ECF6",
           "showlakes": true,
           "showland": true,
           "subunitcolor": "white"
          },
          "hoverlabel": {
           "align": "left"
          },
          "hovermode": "closest",
          "mapbox": {
           "style": "light"
          },
          "paper_bgcolor": "white",
          "plot_bgcolor": "#E5ECF6",
          "polar": {
           "angularaxis": {
            "gridcolor": "white",
            "linecolor": "white",
            "ticks": ""
           },
           "bgcolor": "#E5ECF6",
           "radialaxis": {
            "gridcolor": "white",
            "linecolor": "white",
            "ticks": ""
           }
          },
          "scene": {
           "xaxis": {
            "backgroundcolor": "#E5ECF6",
            "gridcolor": "white",
            "gridwidth": 2,
            "linecolor": "white",
            "showbackground": true,
            "ticks": "",
            "zerolinecolor": "white"
           },
           "yaxis": {
            "backgroundcolor": "#E5ECF6",
            "gridcolor": "white",
            "gridwidth": 2,
            "linecolor": "white",
            "showbackground": true,
            "ticks": "",
            "zerolinecolor": "white"
           },
           "zaxis": {
            "backgroundcolor": "#E5ECF6",
            "gridcolor": "white",
            "gridwidth": 2,
            "linecolor": "white",
            "showbackground": true,
            "ticks": "",
            "zerolinecolor": "white"
           }
          },
          "shapedefaults": {
           "line": {
            "color": "#2a3f5f"
           }
          },
          "ternary": {
           "aaxis": {
            "gridcolor": "white",
            "linecolor": "white",
            "ticks": ""
           },
           "baxis": {
            "gridcolor": "white",
            "linecolor": "white",
            "ticks": ""
           },
           "bgcolor": "#E5ECF6",
           "caxis": {
            "gridcolor": "white",
            "linecolor": "white",
            "ticks": ""
           }
          },
          "title": {
           "x": 0.05
          },
          "xaxis": {
           "automargin": true,
           "gridcolor": "white",
           "linecolor": "white",
           "ticks": "",
           "title": {
            "standoff": 15
           },
           "zerolinecolor": "white",
           "zerolinewidth": 2
          },
          "yaxis": {
           "automargin": true,
           "gridcolor": "white",
           "linecolor": "white",
           "ticks": "",
           "title": {
            "standoff": 15
           },
           "zerolinecolor": "white",
           "zerolinewidth": 2
          }
         }
        },
        "title": {
         "text": "Tasa de aprendizaje DART"
        },
        "xaxis": {
         "title": {
          "text": "Tasa de aprendizaje"
         }
        },
        "yaxis": {
         "title": {
          "text": "MAE"
         }
        }
       }
      },
      "text/html": [
       "<div>                            <div id=\"343fb402-7cee-4635-bfba-7b6a50a3a119\" class=\"plotly-graph-div\" style=\"height:525px; width:100%;\"></div>            <script type=\"text/javascript\">                require([\"plotly\"], function(Plotly) {                    window.PLOTLYENV=window.PLOTLYENV || {};                                    if (document.getElementById(\"343fb402-7cee-4635-bfba-7b6a50a3a119\")) {                    Plotly.newPlot(                        \"343fb402-7cee-4635-bfba-7b6a50a3a119\",                        [{\"mode\": \"markers\", \"type\": \"scatter\", \"x\": [0.8080924169781315, 0.07090629561673956, 0.9657206401482522, 0.9020377027205321, 0.25619728312693124, 0.28745613842422346, 0.09910953433651992, 0.8665009250501947, 0.14666066433868385, 0.44069027667114324, 0.853454668690713, 0.3946018601754545, 0.4644230962507151, 0.3096354377892415, 0.34354315282436887, 0.2383597180603163, 0.7916367463142598, 0.40022939966826165, 0.0008639311626680302, 0.8604625527459016, 0.05741681549757971, 0.11299494569015611, 0.18061800744239465, 0.06515769711827613, 0.4238325480896189, 0.36848544400452254, 0.7037406772767594, 0.28763177557860975, 0.05531004431515396, 0.17642875277210757, 0.3762894383870541, 0.5386263747551524, 0.39848911572233425, 0.014893360018926383, 0.5796568560135972, 0.842073907381548, 0.6608220247867617, 0.1521784123690948, 0.43377761857137287, 0.5228235053411747, 0.20479103192823356, 0.4146744652327856, 0.26823962477354213, 0.7684827667478171, 0.030642718083350173, 0.7928294720021803], \"y\": [3372753.273400127, 2810743.555741155, 3017143.0214361786, 3430376.785984915, 3052743.544263173, 3097036.156083528, 2657168.6237388183, 2912829.4270349466, 3684181.3500800733, 3256373.2980521596, 3518215.4459922477, 3040317.6128819035, 2748717.8102078824, 3339466.784307597, 3244104.9325284627, 2802753.8530179025, 3209664.375652496, 3322537.424024, 5895592.634448352, 3123112.7582161264, 3412709.7466265, 2791707.1397272907, 2794375.3019249695, 2890455.964341947, 3205787.4633493843, 3165491.02107826, 2998157.0787479887, 3424082.436260622, 3176377.3981219297, 3043491.291059281, 3316042.553464348, 3080165.42863463, 3071283.022152126, 3514758.081916045, 2882415.8848872753, 3078830.6434280425, 3160773.597932139, 3066246.263882493, 2752956.3024729304, 3109692.624497564, 3560887.762006282, 3248468.5559452837, 2931314.64813448, 2817411.2837940454, 3385136.022797253, 3543205.575471923]}],                        {\"template\": {\"data\": {\"bar\": [{\"error_x\": {\"color\": \"#2a3f5f\"}, \"error_y\": {\"color\": \"#2a3f5f\"}, \"marker\": {\"line\": {\"color\": \"#E5ECF6\", \"width\": 0.5}}, \"type\": \"bar\"}], \"barpolar\": [{\"marker\": {\"line\": {\"color\": \"#E5ECF6\", \"width\": 0.5}}, \"type\": \"barpolar\"}], \"carpet\": [{\"aaxis\": {\"endlinecolor\": \"#2a3f5f\", \"gridcolor\": \"white\", \"linecolor\": \"white\", \"minorgridcolor\": \"white\", \"startlinecolor\": \"#2a3f5f\"}, \"baxis\": {\"endlinecolor\": \"#2a3f5f\", \"gridcolor\": \"white\", \"linecolor\": \"white\", \"minorgridcolor\": \"white\", \"startlinecolor\": \"#2a3f5f\"}, \"type\": \"carpet\"}], \"choropleth\": [{\"colorbar\": {\"outlinewidth\": 0, \"ticks\": \"\"}, \"type\": \"choropleth\"}], \"contour\": [{\"colorbar\": {\"outlinewidth\": 0, \"ticks\": \"\"}, \"colorscale\": [[0.0, \"#0d0887\"], [0.1111111111111111, \"#46039f\"], [0.2222222222222222, \"#7201a8\"], [0.3333333333333333, \"#9c179e\"], [0.4444444444444444, \"#bd3786\"], [0.5555555555555556, \"#d8576b\"], [0.6666666666666666, \"#ed7953\"], [0.7777777777777778, \"#fb9f3a\"], [0.8888888888888888, \"#fdca26\"], [1.0, \"#f0f921\"]], \"type\": \"contour\"}], \"contourcarpet\": [{\"colorbar\": {\"outlinewidth\": 0, \"ticks\": \"\"}, \"type\": \"contourcarpet\"}], \"heatmap\": [{\"colorbar\": {\"outlinewidth\": 0, \"ticks\": \"\"}, \"colorscale\": [[0.0, \"#0d0887\"], [0.1111111111111111, \"#46039f\"], [0.2222222222222222, \"#7201a8\"], [0.3333333333333333, \"#9c179e\"], [0.4444444444444444, \"#bd3786\"], [0.5555555555555556, \"#d8576b\"], [0.6666666666666666, \"#ed7953\"], [0.7777777777777778, \"#fb9f3a\"], [0.8888888888888888, \"#fdca26\"], [1.0, \"#f0f921\"]], \"type\": \"heatmap\"}], \"heatmapgl\": [{\"colorbar\": {\"outlinewidth\": 0, \"ticks\": \"\"}, \"colorscale\": [[0.0, \"#0d0887\"], [0.1111111111111111, \"#46039f\"], [0.2222222222222222, \"#7201a8\"], [0.3333333333333333, \"#9c179e\"], [0.4444444444444444, \"#bd3786\"], [0.5555555555555556, \"#d8576b\"], [0.6666666666666666, \"#ed7953\"], [0.7777777777777778, \"#fb9f3a\"], [0.8888888888888888, \"#fdca26\"], [1.0, \"#f0f921\"]], \"type\": \"heatmapgl\"}], \"histogram\": [{\"marker\": {\"colorbar\": {\"outlinewidth\": 0, \"ticks\": \"\"}}, \"type\": \"histogram\"}], \"histogram2d\": [{\"colorbar\": {\"outlinewidth\": 0, \"ticks\": \"\"}, \"colorscale\": [[0.0, \"#0d0887\"], [0.1111111111111111, \"#46039f\"], [0.2222222222222222, \"#7201a8\"], [0.3333333333333333, \"#9c179e\"], [0.4444444444444444, \"#bd3786\"], [0.5555555555555556, \"#d8576b\"], [0.6666666666666666, \"#ed7953\"], [0.7777777777777778, \"#fb9f3a\"], [0.8888888888888888, \"#fdca26\"], [1.0, \"#f0f921\"]], \"type\": \"histogram2d\"}], \"histogram2dcontour\": [{\"colorbar\": {\"outlinewidth\": 0, \"ticks\": \"\"}, \"colorscale\": [[0.0, \"#0d0887\"], [0.1111111111111111, \"#46039f\"], [0.2222222222222222, \"#7201a8\"], [0.3333333333333333, \"#9c179e\"], [0.4444444444444444, \"#bd3786\"], [0.5555555555555556, \"#d8576b\"], [0.6666666666666666, \"#ed7953\"], [0.7777777777777778, \"#fb9f3a\"], [0.8888888888888888, \"#fdca26\"], [1.0, \"#f0f921\"]], \"type\": \"histogram2dcontour\"}], \"mesh3d\": [{\"colorbar\": {\"outlinewidth\": 0, \"ticks\": \"\"}, \"type\": \"mesh3d\"}], \"parcoords\": [{\"line\": {\"colorbar\": {\"outlinewidth\": 0, \"ticks\": \"\"}}, \"type\": \"parcoords\"}], \"pie\": [{\"automargin\": true, \"type\": \"pie\"}], \"scatter\": [{\"marker\": {\"colorbar\": {\"outlinewidth\": 0, \"ticks\": \"\"}}, \"type\": \"scatter\"}], \"scatter3d\": [{\"line\": {\"colorbar\": {\"outlinewidth\": 0, \"ticks\": \"\"}}, \"marker\": {\"colorbar\": {\"outlinewidth\": 0, \"ticks\": \"\"}}, \"type\": \"scatter3d\"}], \"scattercarpet\": [{\"marker\": {\"colorbar\": {\"outlinewidth\": 0, \"ticks\": \"\"}}, \"type\": \"scattercarpet\"}], \"scattergeo\": [{\"marker\": {\"colorbar\": {\"outlinewidth\": 0, \"ticks\": \"\"}}, \"type\": \"scattergeo\"}], \"scattergl\": [{\"marker\": {\"colorbar\": {\"outlinewidth\": 0, \"ticks\": \"\"}}, \"type\": \"scattergl\"}], \"scattermapbox\": [{\"marker\": {\"colorbar\": {\"outlinewidth\": 0, \"ticks\": \"\"}}, \"type\": \"scattermapbox\"}], \"scatterpolar\": [{\"marker\": {\"colorbar\": {\"outlinewidth\": 0, \"ticks\": \"\"}}, \"type\": \"scatterpolar\"}], \"scatterpolargl\": [{\"marker\": {\"colorbar\": {\"outlinewidth\": 0, \"ticks\": \"\"}}, \"type\": \"scatterpolargl\"}], \"scatterternary\": [{\"marker\": {\"colorbar\": {\"outlinewidth\": 0, \"ticks\": \"\"}}, \"type\": \"scatterternary\"}], \"surface\": [{\"colorbar\": {\"outlinewidth\": 0, \"ticks\": \"\"}, \"colorscale\": [[0.0, \"#0d0887\"], [0.1111111111111111, \"#46039f\"], [0.2222222222222222, \"#7201a8\"], [0.3333333333333333, \"#9c179e\"], [0.4444444444444444, \"#bd3786\"], [0.5555555555555556, \"#d8576b\"], [0.6666666666666666, \"#ed7953\"], [0.7777777777777778, \"#fb9f3a\"], [0.8888888888888888, \"#fdca26\"], [1.0, \"#f0f921\"]], \"type\": \"surface\"}], \"table\": [{\"cells\": {\"fill\": {\"color\": \"#EBF0F8\"}, \"line\": {\"color\": \"white\"}}, \"header\": {\"fill\": {\"color\": \"#C8D4E3\"}, \"line\": {\"color\": \"white\"}}, \"type\": \"table\"}]}, \"layout\": {\"annotationdefaults\": {\"arrowcolor\": \"#2a3f5f\", \"arrowhead\": 0, \"arrowwidth\": 1}, \"coloraxis\": {\"colorbar\": {\"outlinewidth\": 0, \"ticks\": \"\"}}, \"colorscale\": {\"diverging\": [[0, \"#8e0152\"], [0.1, \"#c51b7d\"], [0.2, \"#de77ae\"], [0.3, \"#f1b6da\"], [0.4, \"#fde0ef\"], [0.5, \"#f7f7f7\"], [0.6, \"#e6f5d0\"], [0.7, \"#b8e186\"], [0.8, \"#7fbc41\"], [0.9, \"#4d9221\"], [1, \"#276419\"]], \"sequential\": [[0.0, \"#0d0887\"], [0.1111111111111111, \"#46039f\"], [0.2222222222222222, \"#7201a8\"], [0.3333333333333333, \"#9c179e\"], [0.4444444444444444, \"#bd3786\"], [0.5555555555555556, \"#d8576b\"], [0.6666666666666666, \"#ed7953\"], [0.7777777777777778, \"#fb9f3a\"], [0.8888888888888888, \"#fdca26\"], [1.0, \"#f0f921\"]], \"sequentialminus\": [[0.0, \"#0d0887\"], [0.1111111111111111, \"#46039f\"], [0.2222222222222222, \"#7201a8\"], [0.3333333333333333, \"#9c179e\"], [0.4444444444444444, \"#bd3786\"], [0.5555555555555556, \"#d8576b\"], [0.6666666666666666, \"#ed7953\"], [0.7777777777777778, \"#fb9f3a\"], [0.8888888888888888, \"#fdca26\"], [1.0, \"#f0f921\"]]}, \"colorway\": [\"#636efa\", \"#EF553B\", \"#00cc96\", \"#ab63fa\", \"#FFA15A\", \"#19d3f3\", \"#FF6692\", \"#B6E880\", \"#FF97FF\", \"#FECB52\"], \"font\": {\"color\": \"#2a3f5f\"}, \"geo\": {\"bgcolor\": \"white\", \"lakecolor\": \"white\", \"landcolor\": \"#E5ECF6\", \"showlakes\": true, \"showland\": true, \"subunitcolor\": \"white\"}, \"hoverlabel\": {\"align\": \"left\"}, \"hovermode\": \"closest\", \"mapbox\": {\"style\": \"light\"}, \"paper_bgcolor\": \"white\", \"plot_bgcolor\": \"#E5ECF6\", \"polar\": {\"angularaxis\": {\"gridcolor\": \"white\", \"linecolor\": \"white\", \"ticks\": \"\"}, \"bgcolor\": \"#E5ECF6\", \"radialaxis\": {\"gridcolor\": \"white\", \"linecolor\": \"white\", \"ticks\": \"\"}}, \"scene\": {\"xaxis\": {\"backgroundcolor\": \"#E5ECF6\", \"gridcolor\": \"white\", \"gridwidth\": 2, \"linecolor\": \"white\", \"showbackground\": true, \"ticks\": \"\", \"zerolinecolor\": \"white\"}, \"yaxis\": {\"backgroundcolor\": \"#E5ECF6\", \"gridcolor\": \"white\", \"gridwidth\": 2, \"linecolor\": \"white\", \"showbackground\": true, \"ticks\": \"\", \"zerolinecolor\": \"white\"}, \"zaxis\": {\"backgroundcolor\": \"#E5ECF6\", \"gridcolor\": \"white\", \"gridwidth\": 2, \"linecolor\": \"white\", \"showbackground\": true, \"ticks\": \"\", \"zerolinecolor\": \"white\"}}, \"shapedefaults\": {\"line\": {\"color\": \"#2a3f5f\"}}, \"ternary\": {\"aaxis\": {\"gridcolor\": \"white\", \"linecolor\": \"white\", \"ticks\": \"\"}, \"baxis\": {\"gridcolor\": \"white\", \"linecolor\": \"white\", \"ticks\": \"\"}, \"bgcolor\": \"#E5ECF6\", \"caxis\": {\"gridcolor\": \"white\", \"linecolor\": \"white\", \"ticks\": \"\"}}, \"title\": {\"x\": 0.05}, \"xaxis\": {\"automargin\": true, \"gridcolor\": \"white\", \"linecolor\": \"white\", \"ticks\": \"\", \"title\": {\"standoff\": 15}, \"zerolinecolor\": \"white\", \"zerolinewidth\": 2}, \"yaxis\": {\"automargin\": true, \"gridcolor\": \"white\", \"linecolor\": \"white\", \"ticks\": \"\", \"title\": {\"standoff\": 15}, \"zerolinecolor\": \"white\", \"zerolinewidth\": 2}}}, \"title\": {\"text\": \"Tasa de aprendizaje DART\"}, \"xaxis\": {\"title\": {\"text\": \"Tasa de aprendizaje\"}}, \"yaxis\": {\"title\": {\"text\": \"MAE\"}}},                        {\"responsive\": true}                    ).then(function(){\n",
       "                            \n",
       "var gd = document.getElementById('343fb402-7cee-4635-bfba-7b6a50a3a119');\n",
       "var x = new MutationObserver(function (mutations, observer) {{\n",
       "        var display = window.getComputedStyle(gd).display;\n",
       "        if (!display || display === 'none') {{\n",
       "            console.log([gd, 'removed!']);\n",
       "            Plotly.purge(gd);\n",
       "            observer.disconnect();\n",
       "        }}\n",
       "}});\n",
       "\n",
       "// Listen for the removal of the full notebook cells\n",
       "var notebookContainer = gd.closest('#notebook-container');\n",
       "if (notebookContainer) {{\n",
       "    x.observe(notebookContainer, {childList: true});\n",
       "}}\n",
       "\n",
       "// Listen for the clearing of the current output cell\n",
       "var outputEl = gd.closest('.output');\n",
       "if (outputEl) {{\n",
       "    x.observe(outputEl, {childList: true});\n",
       "}}\n",
       "\n",
       "                        })                };                });            </script>        </div>"
      ]
     },
     "metadata": {},
     "output_type": "display_data"
    }
   ],
   "source": [
    "fig = go.Figure(data=go.Scatter(x = lr_dart, y = mae_dart, mode='markers'))\n",
    "fig.update_layout(\n",
    "    title = \"Tasa de aprendizaje DART\",\n",
    "    xaxis_title = \"Tasa de aprendizaje\",\n",
    "    yaxis_title = \"MAE\")\n",
    "fig.show()"
   ]
  },
  {
   "cell_type": "code",
   "execution_count": 72,
   "metadata": {
    "collapsed": true
   },
   "outputs": [
    {
     "data": {
      "application/vnd.plotly.v1+json": {
       "config": {
        "plotlyServerURL": "https://plot.ly"
       },
       "data": [
        {
         "marker": {
          "color": [
           3372753.273400127,
           2810743.555741155,
           3017143.0214361786,
           3430376.785984915,
           3052743.544263173,
           3097036.156083528,
           2657168.6237388183,
           2912829.4270349466,
           3684181.3500800733,
           3256373.2980521596,
           3518215.4459922477,
           3040317.6128819035,
           2748717.8102078824,
           3339466.784307597,
           3244104.9325284627,
           2802753.8530179025,
           3209664.375652496,
           3322537.424024,
           5895592.634448352,
           3123112.7582161264,
           3412709.7466265,
           2791707.1397272907,
           2794375.3019249695,
           2890455.964341947,
           3205787.4633493843,
           3165491.02107826,
           2998157.0787479887,
           3424082.436260622,
           3176377.3981219297,
           3043491.291059281,
           3316042.553464348,
           3080165.42863463,
           3071283.022152126,
           3514758.081916045,
           2882415.8848872753,
           3078830.6434280425,
           3160773.597932139,
           3066246.263882493,
           2752956.3024729304,
           3109692.624497564,
           3560887.762006282,
           3248468.5559452837,
           2931314.64813448,
           2817411.2837940454,
           3385136.022797253,
           3543205.575471923
          ],
          "colorbar": {
           "title": {
            "text": "MAE"
           },
           "x": 0.9,
           "y": 0.5
          },
          "colorscale": [
           [
            0,
            "rgb(0,0,0)"
           ],
           [
            0.3333333333333333,
            "rgb(230,0,0)"
           ],
           [
            0.6666666666666666,
            "rgb(255,210,0)"
           ],
           [
            1,
            "rgb(255,255,255)"
           ]
          ],
          "size": 3
         },
         "mode": "markers",
         "type": "scatter3d",
         "x": [
          75,
          138,
          208,
          131,
          163,
          237,
          188,
          91,
          155,
          233,
          226,
          131,
          110,
          107,
          178,
          82,
          254,
          264,
          273,
          89,
          86,
          111,
          56,
          75,
          31,
          283,
          41,
          119,
          221,
          38,
          154,
          292,
          117,
          293,
          247,
          264,
          163,
          278,
          150,
          258,
          46,
          200,
          149,
          273,
          170,
          50
         ],
         "y": [
          248,
          84,
          87,
          274,
          161,
          177,
          45,
          43,
          293,
          233,
          95,
          140,
          41,
          255,
          224,
          32,
          172,
          287,
          95,
          103,
          289,
          80,
          78,
          103,
          210,
          131,
          105,
          185,
          28,
          113,
          286,
          159,
          145,
          216,
          52,
          116,
          147,
          140,
          30,
          146,
          253,
          236,
          99,
          38,
          232,
          71
         ],
         "z": [
          114,
          197,
          95,
          88,
          235,
          60,
          96,
          205,
          24,
          169,
          200,
          220,
          95,
          5,
          237,
          234,
          43,
          135,
          243,
          120,
          283,
          191,
          91,
          39,
          158,
          54,
          232,
          214,
          184,
          177,
          238,
          172,
          194,
          181,
          184,
          73,
          245,
          195,
          92,
          129,
          42,
          31,
          189,
          167,
          180,
          118
         ]
        }
       ],
       "layout": {
        "template": {
         "data": {
          "bar": [
           {
            "error_x": {
             "color": "#2a3f5f"
            },
            "error_y": {
             "color": "#2a3f5f"
            },
            "marker": {
             "line": {
              "color": "#E5ECF6",
              "width": 0.5
             }
            },
            "type": "bar"
           }
          ],
          "barpolar": [
           {
            "marker": {
             "line": {
              "color": "#E5ECF6",
              "width": 0.5
             }
            },
            "type": "barpolar"
           }
          ],
          "carpet": [
           {
            "aaxis": {
             "endlinecolor": "#2a3f5f",
             "gridcolor": "white",
             "linecolor": "white",
             "minorgridcolor": "white",
             "startlinecolor": "#2a3f5f"
            },
            "baxis": {
             "endlinecolor": "#2a3f5f",
             "gridcolor": "white",
             "linecolor": "white",
             "minorgridcolor": "white",
             "startlinecolor": "#2a3f5f"
            },
            "type": "carpet"
           }
          ],
          "choropleth": [
           {
            "colorbar": {
             "outlinewidth": 0,
             "ticks": ""
            },
            "type": "choropleth"
           }
          ],
          "contour": [
           {
            "colorbar": {
             "outlinewidth": 0,
             "ticks": ""
            },
            "colorscale": [
             [
              0,
              "#0d0887"
             ],
             [
              0.1111111111111111,
              "#46039f"
             ],
             [
              0.2222222222222222,
              "#7201a8"
             ],
             [
              0.3333333333333333,
              "#9c179e"
             ],
             [
              0.4444444444444444,
              "#bd3786"
             ],
             [
              0.5555555555555556,
              "#d8576b"
             ],
             [
              0.6666666666666666,
              "#ed7953"
             ],
             [
              0.7777777777777778,
              "#fb9f3a"
             ],
             [
              0.8888888888888888,
              "#fdca26"
             ],
             [
              1,
              "#f0f921"
             ]
            ],
            "type": "contour"
           }
          ],
          "contourcarpet": [
           {
            "colorbar": {
             "outlinewidth": 0,
             "ticks": ""
            },
            "type": "contourcarpet"
           }
          ],
          "heatmap": [
           {
            "colorbar": {
             "outlinewidth": 0,
             "ticks": ""
            },
            "colorscale": [
             [
              0,
              "#0d0887"
             ],
             [
              0.1111111111111111,
              "#46039f"
             ],
             [
              0.2222222222222222,
              "#7201a8"
             ],
             [
              0.3333333333333333,
              "#9c179e"
             ],
             [
              0.4444444444444444,
              "#bd3786"
             ],
             [
              0.5555555555555556,
              "#d8576b"
             ],
             [
              0.6666666666666666,
              "#ed7953"
             ],
             [
              0.7777777777777778,
              "#fb9f3a"
             ],
             [
              0.8888888888888888,
              "#fdca26"
             ],
             [
              1,
              "#f0f921"
             ]
            ],
            "type": "heatmap"
           }
          ],
          "heatmapgl": [
           {
            "colorbar": {
             "outlinewidth": 0,
             "ticks": ""
            },
            "colorscale": [
             [
              0,
              "#0d0887"
             ],
             [
              0.1111111111111111,
              "#46039f"
             ],
             [
              0.2222222222222222,
              "#7201a8"
             ],
             [
              0.3333333333333333,
              "#9c179e"
             ],
             [
              0.4444444444444444,
              "#bd3786"
             ],
             [
              0.5555555555555556,
              "#d8576b"
             ],
             [
              0.6666666666666666,
              "#ed7953"
             ],
             [
              0.7777777777777778,
              "#fb9f3a"
             ],
             [
              0.8888888888888888,
              "#fdca26"
             ],
             [
              1,
              "#f0f921"
             ]
            ],
            "type": "heatmapgl"
           }
          ],
          "histogram": [
           {
            "marker": {
             "colorbar": {
              "outlinewidth": 0,
              "ticks": ""
             }
            },
            "type": "histogram"
           }
          ],
          "histogram2d": [
           {
            "colorbar": {
             "outlinewidth": 0,
             "ticks": ""
            },
            "colorscale": [
             [
              0,
              "#0d0887"
             ],
             [
              0.1111111111111111,
              "#46039f"
             ],
             [
              0.2222222222222222,
              "#7201a8"
             ],
             [
              0.3333333333333333,
              "#9c179e"
             ],
             [
              0.4444444444444444,
              "#bd3786"
             ],
             [
              0.5555555555555556,
              "#d8576b"
             ],
             [
              0.6666666666666666,
              "#ed7953"
             ],
             [
              0.7777777777777778,
              "#fb9f3a"
             ],
             [
              0.8888888888888888,
              "#fdca26"
             ],
             [
              1,
              "#f0f921"
             ]
            ],
            "type": "histogram2d"
           }
          ],
          "histogram2dcontour": [
           {
            "colorbar": {
             "outlinewidth": 0,
             "ticks": ""
            },
            "colorscale": [
             [
              0,
              "#0d0887"
             ],
             [
              0.1111111111111111,
              "#46039f"
             ],
             [
              0.2222222222222222,
              "#7201a8"
             ],
             [
              0.3333333333333333,
              "#9c179e"
             ],
             [
              0.4444444444444444,
              "#bd3786"
             ],
             [
              0.5555555555555556,
              "#d8576b"
             ],
             [
              0.6666666666666666,
              "#ed7953"
             ],
             [
              0.7777777777777778,
              "#fb9f3a"
             ],
             [
              0.8888888888888888,
              "#fdca26"
             ],
             [
              1,
              "#f0f921"
             ]
            ],
            "type": "histogram2dcontour"
           }
          ],
          "mesh3d": [
           {
            "colorbar": {
             "outlinewidth": 0,
             "ticks": ""
            },
            "type": "mesh3d"
           }
          ],
          "parcoords": [
           {
            "line": {
             "colorbar": {
              "outlinewidth": 0,
              "ticks": ""
             }
            },
            "type": "parcoords"
           }
          ],
          "pie": [
           {
            "automargin": true,
            "type": "pie"
           }
          ],
          "scatter": [
           {
            "marker": {
             "colorbar": {
              "outlinewidth": 0,
              "ticks": ""
             }
            },
            "type": "scatter"
           }
          ],
          "scatter3d": [
           {
            "line": {
             "colorbar": {
              "outlinewidth": 0,
              "ticks": ""
             }
            },
            "marker": {
             "colorbar": {
              "outlinewidth": 0,
              "ticks": ""
             }
            },
            "type": "scatter3d"
           }
          ],
          "scattercarpet": [
           {
            "marker": {
             "colorbar": {
              "outlinewidth": 0,
              "ticks": ""
             }
            },
            "type": "scattercarpet"
           }
          ],
          "scattergeo": [
           {
            "marker": {
             "colorbar": {
              "outlinewidth": 0,
              "ticks": ""
             }
            },
            "type": "scattergeo"
           }
          ],
          "scattergl": [
           {
            "marker": {
             "colorbar": {
              "outlinewidth": 0,
              "ticks": ""
             }
            },
            "type": "scattergl"
           }
          ],
          "scattermapbox": [
           {
            "marker": {
             "colorbar": {
              "outlinewidth": 0,
              "ticks": ""
             }
            },
            "type": "scattermapbox"
           }
          ],
          "scatterpolar": [
           {
            "marker": {
             "colorbar": {
              "outlinewidth": 0,
              "ticks": ""
             }
            },
            "type": "scatterpolar"
           }
          ],
          "scatterpolargl": [
           {
            "marker": {
             "colorbar": {
              "outlinewidth": 0,
              "ticks": ""
             }
            },
            "type": "scatterpolargl"
           }
          ],
          "scatterternary": [
           {
            "marker": {
             "colorbar": {
              "outlinewidth": 0,
              "ticks": ""
             }
            },
            "type": "scatterternary"
           }
          ],
          "surface": [
           {
            "colorbar": {
             "outlinewidth": 0,
             "ticks": ""
            },
            "colorscale": [
             [
              0,
              "#0d0887"
             ],
             [
              0.1111111111111111,
              "#46039f"
             ],
             [
              0.2222222222222222,
              "#7201a8"
             ],
             [
              0.3333333333333333,
              "#9c179e"
             ],
             [
              0.4444444444444444,
              "#bd3786"
             ],
             [
              0.5555555555555556,
              "#d8576b"
             ],
             [
              0.6666666666666666,
              "#ed7953"
             ],
             [
              0.7777777777777778,
              "#fb9f3a"
             ],
             [
              0.8888888888888888,
              "#fdca26"
             ],
             [
              1,
              "#f0f921"
             ]
            ],
            "type": "surface"
           }
          ],
          "table": [
           {
            "cells": {
             "fill": {
              "color": "#EBF0F8"
             },
             "line": {
              "color": "white"
             }
            },
            "header": {
             "fill": {
              "color": "#C8D4E3"
             },
             "line": {
              "color": "white"
             }
            },
            "type": "table"
           }
          ]
         },
         "layout": {
          "annotationdefaults": {
           "arrowcolor": "#2a3f5f",
           "arrowhead": 0,
           "arrowwidth": 1
          },
          "coloraxis": {
           "colorbar": {
            "outlinewidth": 0,
            "ticks": ""
           }
          },
          "colorscale": {
           "diverging": [
            [
             0,
             "#8e0152"
            ],
            [
             0.1,
             "#c51b7d"
            ],
            [
             0.2,
             "#de77ae"
            ],
            [
             0.3,
             "#f1b6da"
            ],
            [
             0.4,
             "#fde0ef"
            ],
            [
             0.5,
             "#f7f7f7"
            ],
            [
             0.6,
             "#e6f5d0"
            ],
            [
             0.7,
             "#b8e186"
            ],
            [
             0.8,
             "#7fbc41"
            ],
            [
             0.9,
             "#4d9221"
            ],
            [
             1,
             "#276419"
            ]
           ],
           "sequential": [
            [
             0,
             "#0d0887"
            ],
            [
             0.1111111111111111,
             "#46039f"
            ],
            [
             0.2222222222222222,
             "#7201a8"
            ],
            [
             0.3333333333333333,
             "#9c179e"
            ],
            [
             0.4444444444444444,
             "#bd3786"
            ],
            [
             0.5555555555555556,
             "#d8576b"
            ],
            [
             0.6666666666666666,
             "#ed7953"
            ],
            [
             0.7777777777777778,
             "#fb9f3a"
            ],
            [
             0.8888888888888888,
             "#fdca26"
            ],
            [
             1,
             "#f0f921"
            ]
           ],
           "sequentialminus": [
            [
             0,
             "#0d0887"
            ],
            [
             0.1111111111111111,
             "#46039f"
            ],
            [
             0.2222222222222222,
             "#7201a8"
            ],
            [
             0.3333333333333333,
             "#9c179e"
            ],
            [
             0.4444444444444444,
             "#bd3786"
            ],
            [
             0.5555555555555556,
             "#d8576b"
            ],
            [
             0.6666666666666666,
             "#ed7953"
            ],
            [
             0.7777777777777778,
             "#fb9f3a"
            ],
            [
             0.8888888888888888,
             "#fdca26"
            ],
            [
             1,
             "#f0f921"
            ]
           ]
          },
          "colorway": [
           "#636efa",
           "#EF553B",
           "#00cc96",
           "#ab63fa",
           "#FFA15A",
           "#19d3f3",
           "#FF6692",
           "#B6E880",
           "#FF97FF",
           "#FECB52"
          ],
          "font": {
           "color": "#2a3f5f"
          },
          "geo": {
           "bgcolor": "white",
           "lakecolor": "white",
           "landcolor": "#E5ECF6",
           "showlakes": true,
           "showland": true,
           "subunitcolor": "white"
          },
          "hoverlabel": {
           "align": "left"
          },
          "hovermode": "closest",
          "mapbox": {
           "style": "light"
          },
          "paper_bgcolor": "white",
          "plot_bgcolor": "#E5ECF6",
          "polar": {
           "angularaxis": {
            "gridcolor": "white",
            "linecolor": "white",
            "ticks": ""
           },
           "bgcolor": "#E5ECF6",
           "radialaxis": {
            "gridcolor": "white",
            "linecolor": "white",
            "ticks": ""
           }
          },
          "scene": {
           "xaxis": {
            "backgroundcolor": "#E5ECF6",
            "gridcolor": "white",
            "gridwidth": 2,
            "linecolor": "white",
            "showbackground": true,
            "ticks": "",
            "zerolinecolor": "white"
           },
           "yaxis": {
            "backgroundcolor": "#E5ECF6",
            "gridcolor": "white",
            "gridwidth": 2,
            "linecolor": "white",
            "showbackground": true,
            "ticks": "",
            "zerolinecolor": "white"
           },
           "zaxis": {
            "backgroundcolor": "#E5ECF6",
            "gridcolor": "white",
            "gridwidth": 2,
            "linecolor": "white",
            "showbackground": true,
            "ticks": "",
            "zerolinecolor": "white"
           }
          },
          "shapedefaults": {
           "line": {
            "color": "#2a3f5f"
           }
          },
          "ternary": {
           "aaxis": {
            "gridcolor": "white",
            "linecolor": "white",
            "ticks": ""
           },
           "baxis": {
            "gridcolor": "white",
            "linecolor": "white",
            "ticks": ""
           },
           "bgcolor": "#E5ECF6",
           "caxis": {
            "gridcolor": "white",
            "linecolor": "white",
            "ticks": ""
           }
          },
          "title": {
           "x": 0.05
          },
          "xaxis": {
           "automargin": true,
           "gridcolor": "white",
           "linecolor": "white",
           "ticks": "",
           "title": {
            "standoff": 15
           },
           "zerolinecolor": "white",
           "zerolinewidth": 2
          },
          "yaxis": {
           "automargin": true,
           "gridcolor": "white",
           "linecolor": "white",
           "ticks": "",
           "title": {
            "standoff": 15
           },
           "zerolinecolor": "white",
           "zerolinewidth": 2
          }
         }
        }
       }
      },
      "text/html": [
       "<div>                            <div id=\"1bc3b994-4898-4930-a5e4-ef19a4dcf7f5\" class=\"plotly-graph-div\" style=\"height:525px; width:100%;\"></div>            <script type=\"text/javascript\">                require([\"plotly\"], function(Plotly) {                    window.PLOTLYENV=window.PLOTLYENV || {};                                    if (document.getElementById(\"1bc3b994-4898-4930-a5e4-ef19a4dcf7f5\")) {                    Plotly.newPlot(                        \"1bc3b994-4898-4930-a5e4-ef19a4dcf7f5\",                        [{\"marker\": {\"color\": [3372753.273400127, 2810743.555741155, 3017143.0214361786, 3430376.785984915, 3052743.544263173, 3097036.156083528, 2657168.6237388183, 2912829.4270349466, 3684181.3500800733, 3256373.2980521596, 3518215.4459922477, 3040317.6128819035, 2748717.8102078824, 3339466.784307597, 3244104.9325284627, 2802753.8530179025, 3209664.375652496, 3322537.424024, 5895592.634448352, 3123112.7582161264, 3412709.7466265, 2791707.1397272907, 2794375.3019249695, 2890455.964341947, 3205787.4633493843, 3165491.02107826, 2998157.0787479887, 3424082.436260622, 3176377.3981219297, 3043491.291059281, 3316042.553464348, 3080165.42863463, 3071283.022152126, 3514758.081916045, 2882415.8848872753, 3078830.6434280425, 3160773.597932139, 3066246.263882493, 2752956.3024729304, 3109692.624497564, 3560887.762006282, 3248468.5559452837, 2931314.64813448, 2817411.2837940454, 3385136.022797253, 3543205.575471923], \"colorbar\": {\"title\": {\"text\": \"MAE\"}, \"x\": 0.9, \"y\": 0.5}, \"colorscale\": [[0.0, \"rgb(0,0,0)\"], [0.3333333333333333, \"rgb(230,0,0)\"], [0.6666666666666666, \"rgb(255,210,0)\"], [1.0, \"rgb(255,255,255)\"]], \"size\": 3}, \"mode\": \"markers\", \"type\": \"scatter3d\", \"x\": [75, 138, 208, 131, 163, 237, 188, 91, 155, 233, 226, 131, 110, 107, 178, 82, 254, 264, 273, 89, 86, 111, 56, 75, 31, 283, 41, 119, 221, 38, 154, 292, 117, 293, 247, 264, 163, 278, 150, 258, 46, 200, 149, 273, 170, 50], \"y\": [248, 84, 87, 274, 161, 177, 45, 43, 293, 233, 95, 140, 41, 255, 224, 32, 172, 287, 95, 103, 289, 80, 78, 103, 210, 131, 105, 185, 28, 113, 286, 159, 145, 216, 52, 116, 147, 140, 30, 146, 253, 236, 99, 38, 232, 71], \"z\": [114, 197, 95, 88, 235, 60, 96, 205, 24, 169, 200, 220, 95, 5, 237, 234, 43, 135, 243, 120, 283, 191, 91, 39, 158, 54, 232, 214, 184, 177, 238, 172, 194, 181, 184, 73, 245, 195, 92, 129, 42, 31, 189, 167, 180, 118]}],                        {\"template\": {\"data\": {\"bar\": [{\"error_x\": {\"color\": \"#2a3f5f\"}, \"error_y\": {\"color\": \"#2a3f5f\"}, \"marker\": {\"line\": {\"color\": \"#E5ECF6\", \"width\": 0.5}}, \"type\": \"bar\"}], \"barpolar\": [{\"marker\": {\"line\": {\"color\": \"#E5ECF6\", \"width\": 0.5}}, \"type\": \"barpolar\"}], \"carpet\": [{\"aaxis\": {\"endlinecolor\": \"#2a3f5f\", \"gridcolor\": \"white\", \"linecolor\": \"white\", \"minorgridcolor\": \"white\", \"startlinecolor\": \"#2a3f5f\"}, \"baxis\": {\"endlinecolor\": \"#2a3f5f\", \"gridcolor\": \"white\", \"linecolor\": \"white\", \"minorgridcolor\": \"white\", \"startlinecolor\": \"#2a3f5f\"}, \"type\": \"carpet\"}], \"choropleth\": [{\"colorbar\": {\"outlinewidth\": 0, \"ticks\": \"\"}, \"type\": \"choropleth\"}], \"contour\": [{\"colorbar\": {\"outlinewidth\": 0, \"ticks\": \"\"}, \"colorscale\": [[0.0, \"#0d0887\"], [0.1111111111111111, \"#46039f\"], [0.2222222222222222, \"#7201a8\"], [0.3333333333333333, \"#9c179e\"], [0.4444444444444444, \"#bd3786\"], [0.5555555555555556, \"#d8576b\"], [0.6666666666666666, \"#ed7953\"], [0.7777777777777778, \"#fb9f3a\"], [0.8888888888888888, \"#fdca26\"], [1.0, \"#f0f921\"]], \"type\": \"contour\"}], \"contourcarpet\": [{\"colorbar\": {\"outlinewidth\": 0, \"ticks\": \"\"}, \"type\": \"contourcarpet\"}], \"heatmap\": [{\"colorbar\": {\"outlinewidth\": 0, \"ticks\": \"\"}, \"colorscale\": [[0.0, \"#0d0887\"], [0.1111111111111111, \"#46039f\"], [0.2222222222222222, \"#7201a8\"], [0.3333333333333333, \"#9c179e\"], [0.4444444444444444, \"#bd3786\"], [0.5555555555555556, \"#d8576b\"], [0.6666666666666666, \"#ed7953\"], [0.7777777777777778, \"#fb9f3a\"], [0.8888888888888888, \"#fdca26\"], [1.0, \"#f0f921\"]], \"type\": \"heatmap\"}], \"heatmapgl\": [{\"colorbar\": {\"outlinewidth\": 0, \"ticks\": \"\"}, \"colorscale\": [[0.0, \"#0d0887\"], [0.1111111111111111, \"#46039f\"], [0.2222222222222222, \"#7201a8\"], [0.3333333333333333, \"#9c179e\"], [0.4444444444444444, \"#bd3786\"], [0.5555555555555556, \"#d8576b\"], [0.6666666666666666, \"#ed7953\"], [0.7777777777777778, \"#fb9f3a\"], [0.8888888888888888, \"#fdca26\"], [1.0, \"#f0f921\"]], \"type\": \"heatmapgl\"}], \"histogram\": [{\"marker\": {\"colorbar\": {\"outlinewidth\": 0, \"ticks\": \"\"}}, \"type\": \"histogram\"}], \"histogram2d\": [{\"colorbar\": {\"outlinewidth\": 0, \"ticks\": \"\"}, \"colorscale\": [[0.0, \"#0d0887\"], [0.1111111111111111, \"#46039f\"], [0.2222222222222222, \"#7201a8\"], [0.3333333333333333, \"#9c179e\"], [0.4444444444444444, \"#bd3786\"], [0.5555555555555556, \"#d8576b\"], [0.6666666666666666, \"#ed7953\"], [0.7777777777777778, \"#fb9f3a\"], [0.8888888888888888, \"#fdca26\"], [1.0, \"#f0f921\"]], \"type\": \"histogram2d\"}], \"histogram2dcontour\": [{\"colorbar\": {\"outlinewidth\": 0, \"ticks\": \"\"}, \"colorscale\": [[0.0, \"#0d0887\"], [0.1111111111111111, \"#46039f\"], [0.2222222222222222, \"#7201a8\"], [0.3333333333333333, \"#9c179e\"], [0.4444444444444444, \"#bd3786\"], [0.5555555555555556, \"#d8576b\"], [0.6666666666666666, \"#ed7953\"], [0.7777777777777778, \"#fb9f3a\"], [0.8888888888888888, \"#fdca26\"], [1.0, \"#f0f921\"]], \"type\": \"histogram2dcontour\"}], \"mesh3d\": [{\"colorbar\": {\"outlinewidth\": 0, \"ticks\": \"\"}, \"type\": \"mesh3d\"}], \"parcoords\": [{\"line\": {\"colorbar\": {\"outlinewidth\": 0, \"ticks\": \"\"}}, \"type\": \"parcoords\"}], \"pie\": [{\"automargin\": true, \"type\": \"pie\"}], \"scatter\": [{\"marker\": {\"colorbar\": {\"outlinewidth\": 0, \"ticks\": \"\"}}, \"type\": \"scatter\"}], \"scatter3d\": [{\"line\": {\"colorbar\": {\"outlinewidth\": 0, \"ticks\": \"\"}}, \"marker\": {\"colorbar\": {\"outlinewidth\": 0, \"ticks\": \"\"}}, \"type\": \"scatter3d\"}], \"scattercarpet\": [{\"marker\": {\"colorbar\": {\"outlinewidth\": 0, \"ticks\": \"\"}}, \"type\": \"scattercarpet\"}], \"scattergeo\": [{\"marker\": {\"colorbar\": {\"outlinewidth\": 0, \"ticks\": \"\"}}, \"type\": \"scattergeo\"}], \"scattergl\": [{\"marker\": {\"colorbar\": {\"outlinewidth\": 0, \"ticks\": \"\"}}, \"type\": \"scattergl\"}], \"scattermapbox\": [{\"marker\": {\"colorbar\": {\"outlinewidth\": 0, \"ticks\": \"\"}}, \"type\": \"scattermapbox\"}], \"scatterpolar\": [{\"marker\": {\"colorbar\": {\"outlinewidth\": 0, \"ticks\": \"\"}}, \"type\": \"scatterpolar\"}], \"scatterpolargl\": [{\"marker\": {\"colorbar\": {\"outlinewidth\": 0, \"ticks\": \"\"}}, \"type\": \"scatterpolargl\"}], \"scatterternary\": [{\"marker\": {\"colorbar\": {\"outlinewidth\": 0, \"ticks\": \"\"}}, \"type\": \"scatterternary\"}], \"surface\": [{\"colorbar\": {\"outlinewidth\": 0, \"ticks\": \"\"}, \"colorscale\": [[0.0, \"#0d0887\"], [0.1111111111111111, \"#46039f\"], [0.2222222222222222, \"#7201a8\"], [0.3333333333333333, \"#9c179e\"], [0.4444444444444444, \"#bd3786\"], [0.5555555555555556, \"#d8576b\"], [0.6666666666666666, \"#ed7953\"], [0.7777777777777778, \"#fb9f3a\"], [0.8888888888888888, \"#fdca26\"], [1.0, \"#f0f921\"]], \"type\": \"surface\"}], \"table\": [{\"cells\": {\"fill\": {\"color\": \"#EBF0F8\"}, \"line\": {\"color\": \"white\"}}, \"header\": {\"fill\": {\"color\": \"#C8D4E3\"}, \"line\": {\"color\": \"white\"}}, \"type\": \"table\"}]}, \"layout\": {\"annotationdefaults\": {\"arrowcolor\": \"#2a3f5f\", \"arrowhead\": 0, \"arrowwidth\": 1}, \"coloraxis\": {\"colorbar\": {\"outlinewidth\": 0, \"ticks\": \"\"}}, \"colorscale\": {\"diverging\": [[0, \"#8e0152\"], [0.1, \"#c51b7d\"], [0.2, \"#de77ae\"], [0.3, \"#f1b6da\"], [0.4, \"#fde0ef\"], [0.5, \"#f7f7f7\"], [0.6, \"#e6f5d0\"], [0.7, \"#b8e186\"], [0.8, \"#7fbc41\"], [0.9, \"#4d9221\"], [1, \"#276419\"]], \"sequential\": [[0.0, \"#0d0887\"], [0.1111111111111111, \"#46039f\"], [0.2222222222222222, \"#7201a8\"], [0.3333333333333333, \"#9c179e\"], [0.4444444444444444, \"#bd3786\"], [0.5555555555555556, \"#d8576b\"], [0.6666666666666666, \"#ed7953\"], [0.7777777777777778, \"#fb9f3a\"], [0.8888888888888888, \"#fdca26\"], [1.0, \"#f0f921\"]], \"sequentialminus\": [[0.0, \"#0d0887\"], [0.1111111111111111, \"#46039f\"], [0.2222222222222222, \"#7201a8\"], [0.3333333333333333, \"#9c179e\"], [0.4444444444444444, \"#bd3786\"], [0.5555555555555556, \"#d8576b\"], [0.6666666666666666, \"#ed7953\"], [0.7777777777777778, \"#fb9f3a\"], [0.8888888888888888, \"#fdca26\"], [1.0, \"#f0f921\"]]}, \"colorway\": [\"#636efa\", \"#EF553B\", \"#00cc96\", \"#ab63fa\", \"#FFA15A\", \"#19d3f3\", \"#FF6692\", \"#B6E880\", \"#FF97FF\", \"#FECB52\"], \"font\": {\"color\": \"#2a3f5f\"}, \"geo\": {\"bgcolor\": \"white\", \"lakecolor\": \"white\", \"landcolor\": \"#E5ECF6\", \"showlakes\": true, \"showland\": true, \"subunitcolor\": \"white\"}, \"hoverlabel\": {\"align\": \"left\"}, \"hovermode\": \"closest\", \"mapbox\": {\"style\": \"light\"}, \"paper_bgcolor\": \"white\", \"plot_bgcolor\": \"#E5ECF6\", \"polar\": {\"angularaxis\": {\"gridcolor\": \"white\", \"linecolor\": \"white\", \"ticks\": \"\"}, \"bgcolor\": \"#E5ECF6\", \"radialaxis\": {\"gridcolor\": \"white\", \"linecolor\": \"white\", \"ticks\": \"\"}}, \"scene\": {\"xaxis\": {\"backgroundcolor\": \"#E5ECF6\", \"gridcolor\": \"white\", \"gridwidth\": 2, \"linecolor\": \"white\", \"showbackground\": true, \"ticks\": \"\", \"zerolinecolor\": \"white\"}, \"yaxis\": {\"backgroundcolor\": \"#E5ECF6\", \"gridcolor\": \"white\", \"gridwidth\": 2, \"linecolor\": \"white\", \"showbackground\": true, \"ticks\": \"\", \"zerolinecolor\": \"white\"}, \"zaxis\": {\"backgroundcolor\": \"#E5ECF6\", \"gridcolor\": \"white\", \"gridwidth\": 2, \"linecolor\": \"white\", \"showbackground\": true, \"ticks\": \"\", \"zerolinecolor\": \"white\"}}, \"shapedefaults\": {\"line\": {\"color\": \"#2a3f5f\"}}, \"ternary\": {\"aaxis\": {\"gridcolor\": \"white\", \"linecolor\": \"white\", \"ticks\": \"\"}, \"baxis\": {\"gridcolor\": \"white\", \"linecolor\": \"white\", \"ticks\": \"\"}, \"bgcolor\": \"#E5ECF6\", \"caxis\": {\"gridcolor\": \"white\", \"linecolor\": \"white\", \"ticks\": \"\"}}, \"title\": {\"x\": 0.05}, \"xaxis\": {\"automargin\": true, \"gridcolor\": \"white\", \"linecolor\": \"white\", \"ticks\": \"\", \"title\": {\"standoff\": 15}, \"zerolinecolor\": \"white\", \"zerolinewidth\": 2}, \"yaxis\": {\"automargin\": true, \"gridcolor\": \"white\", \"linecolor\": \"white\", \"ticks\": \"\", \"title\": {\"standoff\": 15}, \"zerolinecolor\": \"white\", \"zerolinewidth\": 2}}}},                        {\"responsive\": true}                    ).then(function(){\n",
       "                            \n",
       "var gd = document.getElementById('1bc3b994-4898-4930-a5e4-ef19a4dcf7f5');\n",
       "var x = new MutationObserver(function (mutations, observer) {{\n",
       "        var display = window.getComputedStyle(gd).display;\n",
       "        if (!display || display === 'none') {{\n",
       "            console.log([gd, 'removed!']);\n",
       "            Plotly.purge(gd);\n",
       "            observer.disconnect();\n",
       "        }}\n",
       "}});\n",
       "\n",
       "// Listen for the removal of the full notebook cells\n",
       "var notebookContainer = gd.closest('#notebook-container');\n",
       "if (notebookContainer) {{\n",
       "    x.observe(notebookContainer, {childList: true});\n",
       "}}\n",
       "\n",
       "// Listen for the clearing of the current output cell\n",
       "var outputEl = gd.closest('.output');\n",
       "if (outputEl) {{\n",
       "    x.observe(outputEl, {childList: true});\n",
       "}}\n",
       "\n",
       "                        })                };                });            </script>        </div>"
      ]
     },
     "metadata": {},
     "output_type": "display_data"
    }
   ],
   "source": [
    "fig = go.Figure(data = [go.Scatter3d(x = X_dart, y = Y_dart, z = Z_dart,\n",
    "                                     mode = 'markers', marker = dict(color = mae_dart, size = 3, \n",
    "                                                                     colorscale = \"hot\", \n",
    "                                                                     colorbar = {\"x\": 0.9, \n",
    "                                                                                 \"y\": 0.5, \n",
    "                                                                                 \"title\": \"MAE\"}))])\n",
    "fig.show()"
   ]
  },
  {
   "cell_type": "code",
   "execution_count": 63,
   "metadata": {
    "collapsed": true
   },
   "outputs": [
    {
     "name": "stdout",
     "output_type": "stream",
     "text": [
      "iteration number 0\n",
      "{'learning_rate': 0.6309631502723161, 'boosting_type': 'dart', 'objective': 'regression', 'metric': 'mae', 'sub_feature': 0.4256217417079544, 'num_leaves': 108, 'min_data': 4, 'max_depth': 158, 'verbose': -1} 10000\n",
      "MAE: 2771389.54705639\n",
      "--------------------\n",
      "iteration number 1\n",
      "{'learning_rate': 0.6261437921518064, 'boosting_type': 'dart', 'objective': 'regression', 'metric': 'mae', 'sub_feature': 0.6191405256674336, 'num_leaves': 40, 'min_data': 32, 'max_depth': 140, 'verbose': -1} 10000\n",
      "MAE: 2828850.6803586474\n",
      "--------------------\n",
      "iteration number 2\n",
      "{'learning_rate': 0.6605095896353974, 'boosting_type': 'dart', 'objective': 'regression', 'metric': 'mae', 'sub_feature': 0.5736588695432903, 'num_leaves': 127, 'min_data': 38, 'max_depth': 114, 'verbose': -1} 10000\n",
      "MAE: 2800323.0750027476\n",
      "--------------------\n",
      "iteration number 3\n",
      "{'learning_rate': 0.7790515634134325, 'boosting_type': 'dart', 'objective': 'regression', 'metric': 'mae', 'sub_feature': 0.06519942347506835, 'num_leaves': 238, 'min_data': 20, 'max_depth': 51, 'verbose': -1} 10000\n",
      "MAE: 4084627.4613731606\n",
      "--------------------\n",
      "iteration number 4\n",
      "{'learning_rate': 0.5576900077221616, 'boosting_type': 'dart', 'objective': 'regression', 'metric': 'mae', 'sub_feature': 0.004644118550694909, 'num_leaves': 123, 'min_data': 27, 'max_depth': 36, 'verbose': -1} 10000\n",
      "MAE: 7820053.19126467\n",
      "--------------------\n",
      "iteration number 5\n",
      "{'learning_rate': 0.746248754970331, 'boosting_type': 'dart', 'objective': 'regression', 'metric': 'mae', 'sub_feature': 0.8218414343021972, 'num_leaves': 254, 'min_data': 32, 'max_depth': 234, 'verbose': -1} 10000\n",
      "MAE: 2879863.5151817626\n",
      "--------------------\n",
      "iteration number 6\n",
      "{'learning_rate': 0.6108762199668393, 'boosting_type': 'dart', 'objective': 'regression', 'metric': 'mae', 'sub_feature': 0.0017305480436401455, 'num_leaves': 299, 'min_data': 28, 'max_depth': 44, 'verbose': -1} 10000\n",
      "MAE: 7793287.9866343625\n",
      "--------------------\n",
      "iteration number 7\n",
      "{'learning_rate': 0.6689547193167924, 'boosting_type': 'dart', 'objective': 'regression', 'metric': 'mae', 'sub_feature': 0.7343040386274404, 'num_leaves': 136, 'min_data': 19, 'max_depth': 54, 'verbose': -1} 10000\n",
      "MAE: 2738941.7040702933\n",
      "--------------------\n",
      "iteration number 8\n",
      "{'learning_rate': 0.42427869026440584, 'boosting_type': 'dart', 'objective': 'regression', 'metric': 'mae', 'sub_feature': 0.24656444371926112, 'num_leaves': 195, 'min_data': 46, 'max_depth': 91, 'verbose': -1} 10000\n",
      "MAE: 2864556.602243455\n",
      "--------------------\n",
      "iteration number 9\n",
      "{'learning_rate': 0.7521237487195027, 'boosting_type': 'dart', 'objective': 'regression', 'metric': 'mae', 'sub_feature': 0.7717165314811705, 'num_leaves': 163, 'min_data': 49, 'max_depth': 111, 'verbose': -1} 10000\n",
      "MAE: 2835535.4917247454\n",
      "--------------------\n",
      "iteration number 10\n",
      "{'learning_rate': 0.538862815649421, 'boosting_type': 'dart', 'objective': 'regression', 'metric': 'mae', 'sub_feature': 0.9738379384089744, 'num_leaves': 153, 'min_data': 23, 'max_depth': 242, 'verbose': -1} 10000\n",
      "MAE: 2823562.2818913553\n",
      "--------------------\n",
      "iteration number 11\n",
      "{'learning_rate': 0.5072885600441149, 'boosting_type': 'dart', 'objective': 'regression', 'metric': 'mae', 'sub_feature': 0.15467694301310186, 'num_leaves': 162, 'min_data': 27, 'max_depth': 235, 'verbose': -1} 10000\n",
      "MAE: 3209114.7126781275\n",
      "--------------------\n",
      "iteration number 12\n",
      "{'learning_rate': 0.5189053992864171, 'boosting_type': 'dart', 'objective': 'regression', 'metric': 'mae', 'sub_feature': 0.7179328498358709, 'num_leaves': 65, 'min_data': 33, 'max_depth': 287, 'verbose': -1} 10000\n",
      "MAE: 2760313.136495469\n",
      "--------------------\n",
      "iteration number 13\n",
      "{'learning_rate': 0.7706571174056578, 'boosting_type': 'dart', 'objective': 'regression', 'metric': 'mae', 'sub_feature': 0.19812502005512356, 'num_leaves': 97, 'min_data': 13, 'max_depth': 45, 'verbose': -1} 10000\n",
      "MAE: 3216760.9163525305\n",
      "--------------------\n",
      "iteration number 14\n",
      "{'learning_rate': 0.4030516628609142, 'boosting_type': 'dart', 'objective': 'regression', 'metric': 'mae', 'sub_feature': 0.27368482064121247, 'num_leaves': 254, 'min_data': 15, 'max_depth': 257, 'verbose': -1} 10000\n",
      "MAE: 2808171.008735726\n",
      "--------------------\n",
      "iteration number 15\n",
      "{'learning_rate': 0.5917480662704182, 'boosting_type': 'dart', 'objective': 'regression', 'metric': 'mae', 'sub_feature': 0.011519782540960533, 'num_leaves': 288, 'min_data': 9, 'max_depth': 277, 'verbose': -1} 10000\n",
      "MAE: 8591318.233126765\n",
      "--------------------\n",
      "iteration number 16\n",
      "{'learning_rate': 0.7949227325898522, 'boosting_type': 'dart', 'objective': 'regression', 'metric': 'mae', 'sub_feature': 0.8042792416107368, 'num_leaves': 111, 'min_data': 40, 'max_depth': 282, 'verbose': -1} 10000\n",
      "MAE: 2893227.907486797\n",
      "--------------------\n",
      "iteration number 17\n",
      "{'learning_rate': 0.7690007626073337, 'boosting_type': 'dart', 'objective': 'regression', 'metric': 'mae', 'sub_feature': 0.43523716374329824, 'num_leaves': 126, 'min_data': 4, 'max_depth': 255, 'verbose': -1} 10000\n",
      "MAE: 2820177.7559501575\n",
      "--------------------\n",
      "iteration number 18\n",
      "{'learning_rate': 0.4073729320675923, 'boosting_type': 'dart', 'objective': 'regression', 'metric': 'mae', 'sub_feature': 0.3729380236316625, 'num_leaves': 112, 'min_data': 17, 'max_depth': 95, 'verbose': -1} 10000\n",
      "MAE: 2705340.71505905\n",
      "--------------------\n",
      "iteration number 19\n",
      "{'learning_rate': 0.5866370350252932, 'boosting_type': 'dart', 'objective': 'regression', 'metric': 'mae', 'sub_feature': 0.6449311191785636, 'num_leaves': 78, 'min_data': 21, 'max_depth': 88, 'verbose': -1} 10000\n",
      "MAE: 2749909.5322649744\n",
      "--------------------\n",
      "iteration number 20\n",
      "{'learning_rate': 0.5308453440095936, 'boosting_type': 'dart', 'objective': 'regression', 'metric': 'mae', 'sub_feature': 0.6846392710509221, 'num_leaves': 116, 'min_data': 46, 'max_depth': 232, 'verbose': -1} 10000\n",
      "MAE: 2764598.5239632707\n",
      "--------------------\n",
      "iteration number 21\n",
      "{'learning_rate': 0.5010203729028659, 'boosting_type': 'dart', 'objective': 'regression', 'metric': 'mae', 'sub_feature': 0.816972791890087, 'num_leaves': 190, 'min_data': 34, 'max_depth': 242, 'verbose': -1} 10000\n",
      "MAE: 2799076.437200103\n",
      "--------------------\n",
      "iteration number 22\n",
      "{'learning_rate': 0.6371277939343969, 'boosting_type': 'dart', 'objective': 'regression', 'metric': 'mae', 'sub_feature': 0.5446925057964467, 'num_leaves': 121, 'min_data': 43, 'max_depth': 97, 'verbose': -1} 10000\n",
      "MAE: 2793532.161604263\n",
      "--------------------\n",
      "iteration number 23\n",
      "{'learning_rate': 0.7095019636853954, 'boosting_type': 'dart', 'objective': 'regression', 'metric': 'mae', 'sub_feature': 0.055241040053433, 'num_leaves': 156, 'min_data': 29, 'max_depth': 55, 'verbose': -1} 10000\n",
      "MAE: 4321084.282233993\n",
      "--------------------\n",
      "iteration number 24\n",
      "{'learning_rate': 0.7670258340269179, 'boosting_type': 'dart', 'objective': 'regression', 'metric': 'mae', 'sub_feature': 0.8660333775251075, 'num_leaves': 283, 'min_data': 35, 'max_depth': 96, 'verbose': -1} 10000\n",
      "MAE: 2941908.170111563\n",
      "--------------------\n",
      "iteration number 25\n",
      "{'learning_rate': 0.4724528519828355, 'boosting_type': 'dart', 'objective': 'regression', 'metric': 'mae', 'sub_feature': 0.1822995810085395, 'num_leaves': 33, 'min_data': 5, 'max_depth': 264, 'verbose': -1} 10000\n",
      "MAE: 2878031.6309995134\n",
      "--------------------\n",
      "iteration number 26\n",
      "{'learning_rate': 0.6397418691977084, 'boosting_type': 'dart', 'objective': 'regression', 'metric': 'mae', 'sub_feature': 0.8621924268825264, 'num_leaves': 80, 'min_data': 28, 'max_depth': 208, 'verbose': -1} 10000\n",
      "MAE: 2830901.4730503717\n",
      "--------------------\n",
      "iteration number 27\n",
      "{'learning_rate': 0.7418616423009734, 'boosting_type': 'dart', 'objective': 'regression', 'metric': 'mae', 'sub_feature': 0.6718430713036565, 'num_leaves': 201, 'min_data': 3, 'max_depth': 252, 'verbose': -1} 10000\n",
      "MAE: 2801249.561990264\n",
      "--------------------\n",
      "iteration number 28\n",
      "{'learning_rate': 0.6989262638643985, 'boosting_type': 'dart', 'objective': 'regression', 'metric': 'mae', 'sub_feature': 0.5990957151505188, 'num_leaves': 155, 'min_data': 17, 'max_depth': 110, 'verbose': -1} 10000\n",
      "MAE: 2743484.760675463\n",
      "--------------------\n",
      "iteration number 29\n",
      "{'learning_rate': 0.52712608855881, 'boosting_type': 'dart', 'objective': 'regression', 'metric': 'mae', 'sub_feature': 0.5280332060355798, 'num_leaves': 113, 'min_data': 43, 'max_depth': 230, 'verbose': -1} 10000\n"
     ]
    },
    {
     "name": "stdout",
     "output_type": "stream",
     "text": [
      "MAE: 2769802.919111955\n",
      "--------------------\n",
      "iteration number 30\n",
      "{'learning_rate': 0.7883295138827046, 'boosting_type': 'dart', 'objective': 'regression', 'metric': 'mae', 'sub_feature': 0.9555522293827101, 'num_leaves': 66, 'min_data': 10, 'max_depth': 18, 'verbose': -1} 10000\n",
      "MAE: 3048901.8587022466\n",
      "--------------------\n",
      "iteration number 31\n",
      "{'learning_rate': 0.572561242850036, 'boosting_type': 'dart', 'objective': 'regression', 'metric': 'mae', 'sub_feature': 0.9651607952870261, 'num_leaves': 248, 'min_data': 46, 'max_depth': 71, 'verbose': -1} 10000\n",
      "MAE: 2893881.131546728\n",
      "--------------------\n",
      "iteration number 32\n",
      "{'learning_rate': 0.5487978995060951, 'boosting_type': 'dart', 'objective': 'regression', 'metric': 'mae', 'sub_feature': 0.7133985782458023, 'num_leaves': 167, 'min_data': 32, 'max_depth': 208, 'verbose': -1} 10000\n",
      "MAE: 2763913.820492765\n",
      "--------------------\n",
      "iteration number 33\n",
      "{'learning_rate': 0.5514362844148065, 'boosting_type': 'dart', 'objective': 'regression', 'metric': 'mae', 'sub_feature': 0.22649893077446592, 'num_leaves': 23, 'min_data': 49, 'max_depth': 88, 'verbose': -1} 10000\n",
      "MAE: 3022799.437915811\n",
      "--------------------\n",
      "iteration number 34\n",
      "{'learning_rate': 0.4151061569602352, 'boosting_type': 'dart', 'objective': 'regression', 'metric': 'mae', 'sub_feature': 0.5989341446930334, 'num_leaves': 70, 'min_data': 10, 'max_depth': 97, 'verbose': -1} 10000\n",
      "MAE: 2671093.1977523025\n",
      "--------------------\n",
      "iteration number 35\n",
      "{'learning_rate': 0.5311797248696096, 'boosting_type': 'dart', 'objective': 'regression', 'metric': 'mae', 'sub_feature': 0.936544205410195, 'num_leaves': 46, 'min_data': 2, 'max_depth': 164, 'verbose': -1} 10000\n",
      "MAE: 2809721.4163215333\n",
      "--------------------\n",
      "iteration number 36\n",
      "{'learning_rate': 0.7308128401751304, 'boosting_type': 'dart', 'objective': 'regression', 'metric': 'mae', 'sub_feature': 0.5542390933882705, 'num_leaves': 273, 'min_data': 4, 'max_depth': 171, 'verbose': -1} 10000\n",
      "MAE: 2808630.1733322856\n",
      "--------------------\n",
      "iteration number 37\n",
      "{'learning_rate': 0.45617785903986247, 'boosting_type': 'dart', 'objective': 'regression', 'metric': 'mae', 'sub_feature': 0.7912293922907834, 'num_leaves': 222, 'min_data': 21, 'max_depth': 187, 'verbose': -1} 10000\n",
      "MAE: 2711699.6989013217\n",
      "--------------------\n",
      "iteration number 38\n",
      "{'learning_rate': 0.5453491015777179, 'boosting_type': 'dart', 'objective': 'regression', 'metric': 'mae', 'sub_feature': 0.10875229649546947, 'num_leaves': 167, 'min_data': 36, 'max_depth': 26, 'verbose': -1} 10000\n",
      "MAE: 3163593.7535052155\n",
      "--------------------\n",
      "iteration number 39\n",
      "{'learning_rate': 0.7784630595840183, 'boosting_type': 'dart', 'objective': 'regression', 'metric': 'mae', 'sub_feature': 0.23735284475909268, 'num_leaves': 239, 'min_data': 6, 'max_depth': 9, 'verbose': -1} 10000\n",
      "MAE: 2968229.344408481\n",
      "--------------------\n",
      "iteration number 40\n",
      "{'learning_rate': 0.6517795799003818, 'boosting_type': 'dart', 'objective': 'regression', 'metric': 'mae', 'sub_feature': 0.7593898034935722, 'num_leaves': 227, 'min_data': 1, 'max_depth': 77, 'verbose': -1} 10000\n",
      "MAE: 2847852.667846081\n",
      "--------------------\n",
      "iteration number 41\n",
      "{'learning_rate': 0.7202782529279665, 'boosting_type': 'dart', 'objective': 'regression', 'metric': 'mae', 'sub_feature': 0.8920418359007097, 'num_leaves': 273, 'min_data': 40, 'max_depth': 115, 'verbose': -1} 10000\n",
      "MAE: 2896374.8491524607\n",
      "--------------------\n",
      "iteration number 42\n",
      "{'learning_rate': 0.4608860181567309, 'boosting_type': 'dart', 'objective': 'regression', 'metric': 'mae', 'sub_feature': 0.702393708062647, 'num_leaves': 44, 'min_data': 1, 'max_depth': 219, 'verbose': -1} 10000\n",
      "MAE: 2721775.2635602327\n",
      "--------------------\n",
      "iteration number 43\n",
      "{'learning_rate': 0.541344190238497, 'boosting_type': 'dart', 'objective': 'regression', 'metric': 'mae', 'sub_feature': 0.02246980295241008, 'num_leaves': 155, 'min_data': 24, 'max_depth': 292, 'verbose': -1} 10000\n",
      "MAE: 6040586.541232653\n",
      "--------------------\n",
      "iteration number 44\n",
      "{'learning_rate': 0.6393091270118555, 'boosting_type': 'dart', 'objective': 'regression', 'metric': 'mae', 'sub_feature': 0.35404571627280446, 'num_leaves': 95, 'min_data': 30, 'max_depth': 112, 'verbose': -1} 10000\n",
      "MAE: 2809733.624081936\n",
      "--------------------\n",
      "iteration number 45\n",
      "{'learning_rate': 0.46026714250216594, 'boosting_type': 'dart', 'objective': 'regression', 'metric': 'mae', 'sub_feature': 0.4367736997332282, 'num_leaves': 228, 'min_data': 20, 'max_depth': 209, 'verbose': -1} 10000\n",
      "MAE: 2707656.823732388\n",
      "--------------------\n",
      "iteration number 46\n",
      "{'learning_rate': 0.466442705875327, 'boosting_type': 'dart', 'objective': 'regression', 'metric': 'mae', 'sub_feature': 0.1138406105022477, 'num_leaves': 273, 'min_data': 46, 'max_depth': 256, 'verbose': -1} 10000\n",
      "MAE: 3139463.5776301324\n",
      "--------------------\n",
      "iteration number 47\n",
      "{'learning_rate': 0.5262834395852327, 'boosting_type': 'dart', 'objective': 'regression', 'metric': 'mae', 'sub_feature': 0.6950461516643958, 'num_leaves': 156, 'min_data': 43, 'max_depth': 65, 'verbose': -1} 10000\n",
      "MAE: 2759402.663647933\n",
      "--------------------\n",
      "iteration number 48\n",
      "{'learning_rate': 0.5457979974815585, 'boosting_type': 'dart', 'objective': 'regression', 'metric': 'mae', 'sub_feature': 0.8594911059801483, 'num_leaves': 55, 'min_data': 23, 'max_depth': 200, 'verbose': -1} 10000\n",
      "MAE: 2771573.5810283944\n",
      "--------------------\n",
      "iteration number 49\n",
      "{'learning_rate': 0.6422216609284661, 'boosting_type': 'dart', 'objective': 'regression', 'metric': 'mae', 'sub_feature': 0.24497829590795028, 'num_leaves': 192, 'min_data': 26, 'max_depth': 226, 'verbose': -1} 10000\n",
      "MAE: 2883755.340310045\n",
      "--------------------\n",
      "iteration number 50\n",
      "{'learning_rate': 0.514140500459418, 'boosting_type': 'dart', 'objective': 'regression', 'metric': 'mae', 'sub_feature': 0.7374815149891767, 'num_leaves': 229, 'min_data': 40, 'max_depth': 33, 'verbose': -1} 10000\n",
      "MAE: 2769040.418153854\n",
      "--------------------\n",
      "iteration number 51\n",
      "{'learning_rate': 0.4397834892373141, 'boosting_type': 'dart', 'objective': 'regression', 'metric': 'mae', 'sub_feature': 0.6582523237068791, 'num_leaves': 108, 'min_data': 41, 'max_depth': 112, 'verbose': -1} 10000\n",
      "MAE: 2755474.666903227\n",
      "--------------------\n",
      "iteration number 52\n",
      "{'learning_rate': 0.43429255317535204, 'boosting_type': 'dart', 'objective': 'regression', 'metric': 'mae', 'sub_feature': 0.4721815339033557, 'num_leaves': 215, 'min_data': 44, 'max_depth': 79, 'verbose': -1} 10000\n",
      "MAE: 2758617.776233199\n",
      "--------------------\n",
      "iteration number 53\n",
      "{'learning_rate': 0.6726847454234349, 'boosting_type': 'dart', 'objective': 'regression', 'metric': 'mae', 'sub_feature': 0.8739184386603849, 'num_leaves': 90, 'min_data': 13, 'max_depth': 176, 'verbose': -1} 10000\n",
      "MAE: 2818622.8711271756\n",
      "--------------------\n",
      "iteration number 54\n",
      "{'learning_rate': 0.696673033767582, 'boosting_type': 'dart', 'objective': 'regression', 'metric': 'mae', 'sub_feature': 0.3428162771947234, 'num_leaves': 88, 'min_data': 22, 'max_depth': 132, 'verbose': -1} 10000\n",
      "MAE: 2820261.0088249627\n",
      "--------------------\n",
      "iteration number 55\n",
      "{'learning_rate': 0.7428504392130664, 'boosting_type': 'dart', 'objective': 'regression', 'metric': 'mae', 'sub_feature': 0.11107842822507352, 'num_leaves': 180, 'min_data': 24, 'max_depth': 32, 'verbose': -1} 10000\n",
      "MAE: 3291528.7042844156\n",
      "--------------------\n",
      "iteration number 56\n",
      "{'learning_rate': 0.6743757051454609, 'boosting_type': 'dart', 'objective': 'regression', 'metric': 'mae', 'sub_feature': 0.47960178867561565, 'num_leaves': 22, 'min_data': 45, 'max_depth': 38, 'verbose': -1} 10000\n",
      "MAE: 2877319.0182801997\n",
      "--------------------\n",
      "iteration number 57\n",
      "{'learning_rate': 0.7459613210817209, 'boosting_type': 'dart', 'objective': 'regression', 'metric': 'mae', 'sub_feature': 0.6472573049512903, 'num_leaves': 221, 'min_data': 21, 'max_depth': 66, 'verbose': -1} 10000\n",
      "MAE: 2805600.5576999155\n",
      "--------------------\n",
      "iteration number 58\n",
      "{'learning_rate': 0.6215540936199309, 'boosting_type': 'dart', 'objective': 'regression', 'metric': 'mae', 'sub_feature': 0.7690612715198983, 'num_leaves': 89, 'min_data': 41, 'max_depth': 53, 'verbose': -1} 10000\n",
      "MAE: 2815376.0036684186\n",
      "--------------------\n",
      "iteration number 59\n",
      "{'learning_rate': 0.7114026813302944, 'boosting_type': 'dart', 'objective': 'regression', 'metric': 'mae', 'sub_feature': 0.45715723549239007, 'num_leaves': 29, 'min_data': 23, 'max_depth': 103, 'verbose': -1} 10000\n"
     ]
    },
    {
     "name": "stdout",
     "output_type": "stream",
     "text": [
      "MAE: 2820689.140487201\n",
      "--------------------\n",
      "iteration number 60\n",
      "{'learning_rate': 0.6641370394681447, 'boosting_type': 'dart', 'objective': 'regression', 'metric': 'mae', 'sub_feature': 0.9276595840861527, 'num_leaves': 181, 'min_data': 20, 'max_depth': 137, 'verbose': -1} 10000\n",
      "MAE: 2851483.695504159\n",
      "--------------------\n",
      "iteration number 61\n",
      "{'learning_rate': 0.47026775872327903, 'boosting_type': 'dart', 'objective': 'regression', 'metric': 'mae', 'sub_feature': 0.20978576993018383, 'num_leaves': 297, 'min_data': 38, 'max_depth': 216, 'verbose': -1} 10000\n",
      "MAE: 2939618.1383451405\n",
      "--------------------\n",
      "iteration number 62\n",
      "{'learning_rate': 0.6295654563188018, 'boosting_type': 'dart', 'objective': 'regression', 'metric': 'mae', 'sub_feature': 0.09407837446313871, 'num_leaves': 227, 'min_data': 31, 'max_depth': 83, 'verbose': -1} 10000\n",
      "MAE: 3519958.564386223\n",
      "--------------------\n",
      "iteration number 63\n",
      "{'learning_rate': 0.45153919136801157, 'boosting_type': 'dart', 'objective': 'regression', 'metric': 'mae', 'sub_feature': 0.9040296128339904, 'num_leaves': 272, 'min_data': 47, 'max_depth': 118, 'verbose': -1} 10000\n",
      "MAE: 2787572.9071071683\n",
      "--------------------\n",
      "iteration number 64\n",
      "{'learning_rate': 0.6191845295927486, 'boosting_type': 'dart', 'objective': 'regression', 'metric': 'mae', 'sub_feature': 0.17825268123497517, 'num_leaves': 96, 'min_data': 48, 'max_depth': 178, 'verbose': -1} 10000\n",
      "MAE: 3103954.9847588507\n",
      "--------------------\n",
      "iteration number 65\n",
      "{'learning_rate': 0.6331727628691382, 'boosting_type': 'dart', 'objective': 'regression', 'metric': 'mae', 'sub_feature': 0.6328396566085261, 'num_leaves': 23, 'min_data': 1, 'max_depth': 149, 'verbose': -1} 10000\n",
      "MAE: 2846320.572108657\n",
      "--------------------\n",
      "iteration number 66\n",
      "{'learning_rate': 0.5775073758709071, 'boosting_type': 'dart', 'objective': 'regression', 'metric': 'mae', 'sub_feature': 0.6720362145406312, 'num_leaves': 163, 'min_data': 41, 'max_depth': 235, 'verbose': -1} 10000\n",
      "MAE: 2775441.8503381205\n",
      "--------------------\n",
      "iteration number 67\n",
      "{'learning_rate': 0.7396829967925875, 'boosting_type': 'dart', 'objective': 'regression', 'metric': 'mae', 'sub_feature': 0.5477805877001005, 'num_leaves': 178, 'min_data': 3, 'max_depth': 90, 'verbose': -1} 10000\n",
      "MAE: 2808085.014275838\n",
      "--------------------\n",
      "iteration number 68\n",
      "{'learning_rate': 0.6815039030366172, 'boosting_type': 'dart', 'objective': 'regression', 'metric': 'mae', 'sub_feature': 0.5641194374700822, 'num_leaves': 133, 'min_data': 47, 'max_depth': 7, 'verbose': -1} 10000\n",
      "MAE: 2875213.269490926\n",
      "--------------------\n",
      "iteration number 69\n",
      "{'learning_rate': 0.5041032203794268, 'boosting_type': 'dart', 'objective': 'regression', 'metric': 'mae', 'sub_feature': 0.7615124199998414, 'num_leaves': 153, 'min_data': 46, 'max_depth': 199, 'verbose': -1} 10000\n",
      "MAE: 2763755.3530457336\n",
      "--------------------\n",
      "iteration number 70\n",
      "{'learning_rate': 0.7477820635154874, 'boosting_type': 'dart', 'objective': 'regression', 'metric': 'mae', 'sub_feature': 0.4357038358700239, 'num_leaves': 246, 'min_data': 32, 'max_depth': 143, 'verbose': -1} 10000\n",
      "MAE: 2817712.8965935153\n",
      "--------------------\n",
      "iteration number 71\n",
      "{'learning_rate': 0.6433749160044486, 'boosting_type': 'dart', 'objective': 'regression', 'metric': 'mae', 'sub_feature': 0.07227251598242157, 'num_leaves': 200, 'min_data': 8, 'max_depth': 84, 'verbose': -1} 10000\n",
      "MAE: 4526837.825112425\n",
      "--------------------\n",
      "iteration number 72\n",
      "{'learning_rate': 0.6220547548587538, 'boosting_type': 'dart', 'objective': 'regression', 'metric': 'mae', 'sub_feature': 0.2309696028374929, 'num_leaves': 92, 'min_data': 44, 'max_depth': 13, 'verbose': -1} 10000\n",
      "MAE: 3006069.4559125914\n",
      "--------------------\n",
      "iteration number 73\n",
      "{'learning_rate': 0.43807964175750747, 'boosting_type': 'dart', 'objective': 'regression', 'metric': 'mae', 'sub_feature': 0.9898902128421218, 'num_leaves': 225, 'min_data': 9, 'max_depth': 132, 'verbose': -1} 10000\n",
      "MAE: 2849817.1254265867\n",
      "--------------------\n",
      "iteration number 74\n",
      "{'learning_rate': 0.7116601327134492, 'boosting_type': 'dart', 'objective': 'regression', 'metric': 'mae', 'sub_feature': 0.07097688444040107, 'num_leaves': 297, 'min_data': 19, 'max_depth': 288, 'verbose': -1} 10000\n",
      "MAE: 3985456.4487696574\n",
      "--------------------\n",
      "iteration number 75\n",
      "{'learning_rate': 0.6741684817109126, 'boosting_type': 'dart', 'objective': 'regression', 'metric': 'mae', 'sub_feature': 0.8494666859053727, 'num_leaves': 158, 'min_data': 29, 'max_depth': 44, 'verbose': -1} 10000\n",
      "MAE: 2825846.9454660225\n",
      "--------------------\n",
      "iteration number 76\n",
      "{'learning_rate': 0.586152272057772, 'boosting_type': 'dart', 'objective': 'regression', 'metric': 'mae', 'sub_feature': 0.01876697030451835, 'num_leaves': 147, 'min_data': 35, 'max_depth': 137, 'verbose': -1} 10000\n",
      "MAE: 5565334.56272841\n",
      "--------------------\n",
      "iteration number 77\n",
      "{'learning_rate': 0.5793635952428122, 'boosting_type': 'dart', 'objective': 'regression', 'metric': 'mae', 'sub_feature': 0.8190240978727832, 'num_leaves': 69, 'min_data': 47, 'max_depth': 133, 'verbose': -1} 10000\n",
      "MAE: 2809112.579005754\n",
      "--------------------\n",
      "iteration number 78\n",
      "{'learning_rate': 0.47975964673058363, 'boosting_type': 'dart', 'objective': 'regression', 'metric': 'mae', 'sub_feature': 0.11094644881844473, 'num_leaves': 207, 'min_data': 25, 'max_depth': 178, 'verbose': -1} 10000\n",
      "MAE: 3249772.9965049988\n",
      "--------------------\n",
      "iteration number 79\n",
      "{'learning_rate': 0.477114762407774, 'boosting_type': 'dart', 'objective': 'regression', 'metric': 'mae', 'sub_feature': 0.2232109676783447, 'num_leaves': 38, 'min_data': 13, 'max_depth': 9, 'verbose': -1} 10000\n",
      "MAE: 2904838.275264105\n",
      "--------------------\n",
      "iteration number 80\n",
      "{'learning_rate': 0.585258922237295, 'boosting_type': 'dart', 'objective': 'regression', 'metric': 'mae', 'sub_feature': 0.07701070460626902, 'num_leaves': 181, 'min_data': 22, 'max_depth': 65, 'verbose': -1} 10000\n",
      "MAE: 3859122.4796618638\n",
      "--------------------\n",
      "iteration number 81\n",
      "{'learning_rate': 0.5163881203688262, 'boosting_type': 'dart', 'objective': 'regression', 'metric': 'mae', 'sub_feature': 0.5707870893569953, 'num_leaves': 155, 'min_data': 16, 'max_depth': 268, 'verbose': -1} 10000\n",
      "MAE: 2688163.18373561\n",
      "--------------------\n",
      "iteration number 82\n",
      "{'learning_rate': 0.6078738005710907, 'boosting_type': 'dart', 'objective': 'regression', 'metric': 'mae', 'sub_feature': 0.6651201150020775, 'num_leaves': 211, 'min_data': 21, 'max_depth': 206, 'verbose': -1} 10000\n",
      "MAE: 2735471.530820504\n",
      "--------------------\n",
      "iteration number 83\n",
      "{'learning_rate': 0.7852188604563308, 'boosting_type': 'dart', 'objective': 'regression', 'metric': 'mae', 'sub_feature': 0.6927581718858271, 'num_leaves': 185, 'min_data': 35, 'max_depth': 199, 'verbose': -1} 10000\n",
      "MAE: 2854415.3287837175\n",
      "--------------------\n",
      "iteration number 84\n",
      "{'learning_rate': 0.7042454665150669, 'boosting_type': 'dart', 'objective': 'regression', 'metric': 'mae', 'sub_feature': 0.06494148230994257, 'num_leaves': 258, 'min_data': 27, 'max_depth': 296, 'verbose': -1} 10000\n",
      "MAE: 3865521.9359590644\n",
      "--------------------\n",
      "iteration number 85\n",
      "{'learning_rate': 0.6558891941515829, 'boosting_type': 'dart', 'objective': 'regression', 'metric': 'mae', 'sub_feature': 0.3212624332831946, 'num_leaves': 150, 'min_data': 12, 'max_depth': 156, 'verbose': -1} 10000\n",
      "MAE: 2814719.038293603\n",
      "--------------------\n",
      "iteration number 86\n",
      "{'learning_rate': 0.6216281579032806, 'boosting_type': 'dart', 'objective': 'regression', 'metric': 'mae', 'sub_feature': 0.6596961305034238, 'num_leaves': 34, 'min_data': 12, 'max_depth': 157, 'verbose': -1} 10000\n",
      "MAE: 2749480.571641716\n",
      "--------------------\n",
      "iteration number 87\n",
      "{'learning_rate': 0.7256243977409113, 'boosting_type': 'dart', 'objective': 'regression', 'metric': 'mae', 'sub_feature': 0.8841710427133371, 'num_leaves': 89, 'min_data': 22, 'max_depth': 82, 'verbose': -1} 10000\n",
      "MAE: 2884802.5310928454\n",
      "--------------------\n",
      "iteration number 88\n",
      "{'learning_rate': 0.4961947854379827, 'boosting_type': 'dart', 'objective': 'regression', 'metric': 'mae', 'sub_feature': 0.9892178859792561, 'num_leaves': 248, 'min_data': 38, 'max_depth': 6, 'verbose': -1} 10000\n",
      "MAE: 2916114.8854962047\n",
      "--------------------\n",
      "iteration number 89\n",
      "{'learning_rate': 0.4729067509773721, 'boosting_type': 'dart', 'objective': 'regression', 'metric': 'mae', 'sub_feature': 0.7862008550962872, 'num_leaves': 32, 'min_data': 24, 'max_depth': 16, 'verbose': -1} 10000\n"
     ]
    },
    {
     "name": "stdout",
     "output_type": "stream",
     "text": [
      "MAE: 2792312.8179389043\n",
      "--------------------\n",
      "iteration number 90\n",
      "{'learning_rate': 0.47201374814191716, 'boosting_type': 'dart', 'objective': 'regression', 'metric': 'mae', 'sub_feature': 0.25469109804565493, 'num_leaves': 151, 'min_data': 42, 'max_depth': 23, 'verbose': -1} 10000\n",
      "MAE: 2857211.7891020337\n",
      "--------------------\n",
      "iteration number 91\n",
      "{'learning_rate': 0.4401803637120284, 'boosting_type': 'dart', 'objective': 'regression', 'metric': 'mae', 'sub_feature': 0.16455277187137207, 'num_leaves': 173, 'min_data': 24, 'max_depth': 266, 'verbose': -1} 10000\n",
      "MAE: 3025570.7501859646\n",
      "--------------------\n",
      "iteration number 92\n",
      "{'learning_rate': 0.7280505619653539, 'boosting_type': 'dart', 'objective': 'regression', 'metric': 'mae', 'sub_feature': 0.2781747202002971, 'num_leaves': 247, 'min_data': 27, 'max_depth': 188, 'verbose': -1} 10000\n",
      "MAE: 2867193.9663759596\n",
      "--------------------\n",
      "iteration number 93\n",
      "{'learning_rate': 0.6621552740453158, 'boosting_type': 'dart', 'objective': 'regression', 'metric': 'mae', 'sub_feature': 0.8062127713455313, 'num_leaves': 47, 'min_data': 27, 'max_depth': 184, 'verbose': -1} 10000\n",
      "MAE: 2836882.8673816095\n",
      "--------------------\n",
      "iteration number 94\n",
      "{'learning_rate': 0.7867141884899373, 'boosting_type': 'dart', 'objective': 'regression', 'metric': 'mae', 'sub_feature': 0.4408636097232046, 'num_leaves': 157, 'min_data': 45, 'max_depth': 211, 'verbose': -1} 10000\n",
      "MAE: 2845110.3331946163\n",
      "--------------------\n",
      "iteration number 95\n",
      "{'learning_rate': 0.6930221641705995, 'boosting_type': 'dart', 'objective': 'regression', 'metric': 'mae', 'sub_feature': 0.8289283079800593, 'num_leaves': 159, 'min_data': 23, 'max_depth': 192, 'verbose': -1} 10000\n",
      "MAE: 2804151.655830702\n",
      "--------------------\n",
      "iteration number 96\n",
      "{'learning_rate': 0.7799322175596534, 'boosting_type': 'dart', 'objective': 'regression', 'metric': 'mae', 'sub_feature': 0.9815305836541705, 'num_leaves': 97, 'min_data': 45, 'max_depth': 275, 'verbose': -1} 10000\n",
      "MAE: 3139065.3929603673\n",
      "--------------------\n",
      "iteration number 97\n",
      "{'learning_rate': 0.7630223703482413, 'boosting_type': 'dart', 'objective': 'regression', 'metric': 'mae', 'sub_feature': 0.1624298000221961, 'num_leaves': 238, 'min_data': 33, 'max_depth': 25, 'verbose': -1} 10000\n",
      "MAE: 3062309.6722403606\n",
      "--------------------\n",
      "iteration number 98\n",
      "{'learning_rate': 0.7181211646653939, 'boosting_type': 'dart', 'objective': 'regression', 'metric': 'mae', 'sub_feature': 0.8452444718437171, 'num_leaves': 228, 'min_data': 6, 'max_depth': 274, 'verbose': -1} 10000\n",
      "MAE: 2853989.993758583\n",
      "--------------------\n",
      "iteration number 99\n",
      "{'learning_rate': 0.5384414155232977, 'boosting_type': 'dart', 'objective': 'regression', 'metric': 'mae', 'sub_feature': 0.03550536666789128, 'num_leaves': 98, 'min_data': 24, 'max_depth': 88, 'verbose': -1} 10000\n",
      "MAE: 4809822.403584868\n",
      "--------------------\n",
      "iteration number 100\n",
      "{'learning_rate': 0.4022206027530335, 'boosting_type': 'dart', 'objective': 'regression', 'metric': 'mae', 'sub_feature': 0.19451122815082322, 'num_leaves': 202, 'min_data': 24, 'max_depth': 70, 'verbose': -1} 10000\n",
      "MAE: 3074509.5167377116\n",
      "--------------------\n",
      "iteration number 101\n",
      "{'learning_rate': 0.5973722153822657, 'boosting_type': 'dart', 'objective': 'regression', 'metric': 'mae', 'sub_feature': 0.7548511291102543, 'num_leaves': 140, 'min_data': 23, 'max_depth': 29, 'verbose': -1} 10000\n",
      "MAE: 2765152.3636606564\n",
      "--------------------\n",
      "iteration number 102\n",
      "{'learning_rate': 0.7474412237003805, 'boosting_type': 'dart', 'objective': 'regression', 'metric': 'mae', 'sub_feature': 0.39943819809182546, 'num_leaves': 225, 'min_data': 30, 'max_depth': 213, 'verbose': -1} 10000\n",
      "MAE: 2806657.154910067\n",
      "--------------------\n",
      "iteration number 103\n",
      "{'learning_rate': 0.7376113411516473, 'boosting_type': 'dart', 'objective': 'regression', 'metric': 'mae', 'sub_feature': 0.6487946901035678, 'num_leaves': 249, 'min_data': 2, 'max_depth': 32, 'verbose': -1} 10000\n",
      "MAE: 2841490.28060421\n",
      "--------------------\n",
      "iteration number 104\n",
      "{'learning_rate': 0.6209188779411139, 'boosting_type': 'dart', 'objective': 'regression', 'metric': 'mae', 'sub_feature': 0.2744128449213721, 'num_leaves': 227, 'min_data': 27, 'max_depth': 266, 'verbose': -1} 10000\n",
      "MAE: 2840653.137117336\n",
      "--------------------\n",
      "iteration number 105\n",
      "{'learning_rate': 0.5200309678642797, 'boosting_type': 'dart', 'objective': 'regression', 'metric': 'mae', 'sub_feature': 0.9988449876362457, 'num_leaves': 53, 'min_data': 41, 'max_depth': 55, 'verbose': -1} 10000\n",
      "MAE: 2889723.392260752\n",
      "--------------------\n",
      "iteration number 106\n",
      "{'learning_rate': 0.5030051867497876, 'boosting_type': 'dart', 'objective': 'regression', 'metric': 'mae', 'sub_feature': 0.021338625838598246, 'num_leaves': 63, 'min_data': 8, 'max_depth': 178, 'verbose': -1} 10000\n",
      "MAE: 5907210.482391849\n",
      "--------------------\n",
      "iteration number 107\n",
      "{'learning_rate': 0.5184297050803653, 'boosting_type': 'dart', 'objective': 'regression', 'metric': 'mae', 'sub_feature': 0.43758695330520236, 'num_leaves': 169, 'min_data': 39, 'max_depth': 16, 'verbose': -1} 10000\n",
      "MAE: 2777989.4112648936\n",
      "--------------------\n",
      "iteration number 108\n",
      "{'learning_rate': 0.7539705431640984, 'boosting_type': 'dart', 'objective': 'regression', 'metric': 'mae', 'sub_feature': 0.39285156520002396, 'num_leaves': 72, 'min_data': 28, 'max_depth': 9, 'verbose': -1} 10000\n",
      "MAE: 2839347.540409744\n",
      "--------------------\n",
      "iteration number 109\n",
      "{'learning_rate': 0.6912567201471547, 'boosting_type': 'dart', 'objective': 'regression', 'metric': 'mae', 'sub_feature': 0.5405116174309906, 'num_leaves': 61, 'min_data': 21, 'max_depth': 266, 'verbose': -1} 10000\n",
      "MAE: 2761785.894352693\n",
      "--------------------\n",
      "iteration number 110\n",
      "{'learning_rate': 0.7941256277750544, 'boosting_type': 'dart', 'objective': 'regression', 'metric': 'mae', 'sub_feature': 0.28473233680584054, 'num_leaves': 241, 'min_data': 19, 'max_depth': 46, 'verbose': -1} 10000\n",
      "MAE: 2889291.1051703286\n",
      "--------------------\n",
      "iteration number 111\n",
      "{'learning_rate': 0.6457349012832982, 'boosting_type': 'dart', 'objective': 'regression', 'metric': 'mae', 'sub_feature': 0.45377166696735016, 'num_leaves': 163, 'min_data': 6, 'max_depth': 192, 'verbose': -1} 10000\n",
      "MAE: 2764128.8659543735\n",
      "--------------------\n",
      "iteration number 112\n",
      "{'learning_rate': 0.607347808384465, 'boosting_type': 'dart', 'objective': 'regression', 'metric': 'mae', 'sub_feature': 0.48290735171622223, 'num_leaves': 36, 'min_data': 45, 'max_depth': 124, 'verbose': -1} 10000\n",
      "MAE: 2827493.6599137653\n",
      "--------------------\n",
      "iteration number 113\n",
      "{'learning_rate': 0.641682348935569, 'boosting_type': 'dart', 'objective': 'regression', 'metric': 'mae', 'sub_feature': 0.5224416408039463, 'num_leaves': 110, 'min_data': 48, 'max_depth': 152, 'verbose': -1} 10000\n",
      "MAE: 2793226.4620776204\n",
      "--------------------\n",
      "iteration number 114\n",
      "{'learning_rate': 0.4741375196752563, 'boosting_type': 'dart', 'objective': 'regression', 'metric': 'mae', 'sub_feature': 0.15252815774880946, 'num_leaves': 102, 'min_data': 25, 'max_depth': 53, 'verbose': -1} 10000\n",
      "MAE: 3214928.783628036\n",
      "--------------------\n",
      "iteration number 115\n",
      "{'learning_rate': 0.42687175748450223, 'boosting_type': 'dart', 'objective': 'regression', 'metric': 'mae', 'sub_feature': 0.5973174304061815, 'num_leaves': 63, 'min_data': 6, 'max_depth': 229, 'verbose': -1} 10000\n",
      "MAE: 2700416.8484825776\n",
      "--------------------\n",
      "iteration number 116\n",
      "{'learning_rate': 0.7665009665417137, 'boosting_type': 'dart', 'objective': 'regression', 'metric': 'mae', 'sub_feature': 0.6323099015918408, 'num_leaves': 244, 'min_data': 1, 'max_depth': 124, 'verbose': -1} 10000\n",
      "MAE: 2865489.6528433748\n",
      "--------------------\n",
      "iteration number 117\n",
      "{'learning_rate': 0.5079407260280053, 'boosting_type': 'dart', 'objective': 'regression', 'metric': 'mae', 'sub_feature': 0.29667824114430597, 'num_leaves': 33, 'min_data': 8, 'max_depth': 118, 'verbose': -1} 10000\n",
      "MAE: 2782074.097209132\n",
      "--------------------\n",
      "iteration number 118\n",
      "{'learning_rate': 0.5356059938723389, 'boosting_type': 'dart', 'objective': 'regression', 'metric': 'mae', 'sub_feature': 0.08151731172010501, 'num_leaves': 162, 'min_data': 16, 'max_depth': 146, 'verbose': -1} 10000\n",
      "MAE: 3729462.3574071378\n",
      "--------------------\n",
      "iteration number 119\n",
      "{'learning_rate': 0.6421690038383191, 'boosting_type': 'dart', 'objective': 'regression', 'metric': 'mae', 'sub_feature': 0.4754548449073057, 'num_leaves': 227, 'min_data': 45, 'max_depth': 5, 'verbose': -1} 10000\n"
     ]
    },
    {
     "name": "stdout",
     "output_type": "stream",
     "text": [
      "MAE: 2974238.4382917467\n",
      "--------------------\n",
      "iteration number 120\n",
      "{'learning_rate': 0.5942153451672982, 'boosting_type': 'dart', 'objective': 'regression', 'metric': 'mae', 'sub_feature': 0.6736391818036725, 'num_leaves': 263, 'min_data': 33, 'max_depth': 252, 'verbose': -1} 10000\n",
      "MAE: 2776623.4797042697\n",
      "--------------------\n",
      "iteration number 121\n",
      "{'learning_rate': 0.5065358882939008, 'boosting_type': 'dart', 'objective': 'regression', 'metric': 'mae', 'sub_feature': 0.5066748552927522, 'num_leaves': 92, 'min_data': 21, 'max_depth': 190, 'verbose': -1} 10000\n",
      "MAE: 2695271.8518346413\n",
      "--------------------\n",
      "iteration number 122\n",
      "{'learning_rate': 0.47392811455731776, 'boosting_type': 'dart', 'objective': 'regression', 'metric': 'mae', 'sub_feature': 0.8696287653813851, 'num_leaves': 126, 'min_data': 25, 'max_depth': 77, 'verbose': -1} 10000\n",
      "MAE: 2752448.8216591873\n",
      "--------------------\n",
      "iteration number 123\n",
      "{'learning_rate': 0.57470649567359, 'boosting_type': 'dart', 'objective': 'regression', 'metric': 'mae', 'sub_feature': 0.6938991696109702, 'num_leaves': 216, 'min_data': 33, 'max_depth': 162, 'verbose': -1} 10000\n",
      "MAE: 2777938.9426869107\n",
      "--------------------\n",
      "iteration number 124\n",
      "{'learning_rate': 0.4027782901756997, 'boosting_type': 'dart', 'objective': 'regression', 'metric': 'mae', 'sub_feature': 0.5919007786867454, 'num_leaves': 158, 'min_data': 40, 'max_depth': 16, 'verbose': -1} 10000\n",
      "MAE: 2717238.2098412137\n",
      "--------------------\n",
      "iteration number 125\n",
      "{'learning_rate': 0.7245368505992781, 'boosting_type': 'dart', 'objective': 'regression', 'metric': 'mae', 'sub_feature': 0.8720380155669124, 'num_leaves': 57, 'min_data': 16, 'max_depth': 182, 'verbose': -1} 10000\n",
      "MAE: 2883353.8331968025\n",
      "--------------------\n",
      "iteration number 126\n",
      "{'learning_rate': 0.5668732861534779, 'boosting_type': 'dart', 'objective': 'regression', 'metric': 'mae', 'sub_feature': 0.49230376068560355, 'num_leaves': 63, 'min_data': 25, 'max_depth': 21, 'verbose': -1} 10000\n",
      "MAE: 2754599.205069744\n",
      "--------------------\n",
      "iteration number 127\n",
      "{'learning_rate': 0.5757614833473238, 'boosting_type': 'dart', 'objective': 'regression', 'metric': 'mae', 'sub_feature': 0.1258028162218009, 'num_leaves': 113, 'min_data': 39, 'max_depth': 257, 'verbose': -1} 10000\n",
      "MAE: 3213340.367180948\n",
      "--------------------\n",
      "iteration number 128\n",
      "{'learning_rate': 0.7446783469544085, 'boosting_type': 'dart', 'objective': 'regression', 'metric': 'mae', 'sub_feature': 0.06716055248979658, 'num_leaves': 170, 'min_data': 21, 'max_depth': 299, 'verbose': -1} 10000\n",
      "MAE: 4036822.7601331305\n",
      "--------------------\n",
      "iteration number 129\n",
      "{'learning_rate': 0.7424980108129249, 'boosting_type': 'dart', 'objective': 'regression', 'metric': 'mae', 'sub_feature': 0.8047795546031941, 'num_leaves': 142, 'min_data': 7, 'max_depth': 117, 'verbose': -1} 10000\n",
      "MAE: 2833908.46333214\n",
      "--------------------\n",
      "iteration number 130\n",
      "{'learning_rate': 0.7030757716211158, 'boosting_type': 'dart', 'objective': 'regression', 'metric': 'mae', 'sub_feature': 0.6830551308939096, 'num_leaves': 177, 'min_data': 6, 'max_depth': 108, 'verbose': -1} 10000\n",
      "MAE: 2786326.938351134\n",
      "--------------------\n",
      "iteration number 131\n",
      "{'learning_rate': 0.7060397264701246, 'boosting_type': 'dart', 'objective': 'regression', 'metric': 'mae', 'sub_feature': 0.35311605026075943, 'num_leaves': 154, 'min_data': 15, 'max_depth': 191, 'verbose': -1} 10000\n",
      "MAE: 2781242.9803740047\n",
      "--------------------\n",
      "iteration number 132\n",
      "{'learning_rate': 0.7980425484576548, 'boosting_type': 'dart', 'objective': 'regression', 'metric': 'mae', 'sub_feature': 0.9128806623677013, 'num_leaves': 42, 'min_data': 2, 'max_depth': 298, 'verbose': -1} 10000\n",
      "MAE: 2987814.6375141894\n",
      "--------------------\n",
      "iteration number 133\n",
      "{'learning_rate': 0.6580851093751421, 'boosting_type': 'dart', 'objective': 'regression', 'metric': 'mae', 'sub_feature': 0.491719941887492, 'num_leaves': 145, 'min_data': 6, 'max_depth': 295, 'verbose': -1} 10000\n",
      "MAE: 2778067.254732973\n",
      "--------------------\n",
      "iteration number 134\n",
      "{'learning_rate': 0.7512024466695426, 'boosting_type': 'dart', 'objective': 'regression', 'metric': 'mae', 'sub_feature': 0.2614130329523867, 'num_leaves': 205, 'min_data': 30, 'max_depth': 31, 'verbose': -1} 10000\n",
      "MAE: 2911129.690294802\n",
      "--------------------\n",
      "iteration number 135\n",
      "{'learning_rate': 0.6684241635452327, 'boosting_type': 'dart', 'objective': 'regression', 'metric': 'mae', 'sub_feature': 0.32383529886178264, 'num_leaves': 177, 'min_data': 18, 'max_depth': 187, 'verbose': -1} 10000\n",
      "MAE: 2813000.703936466\n",
      "--------------------\n",
      "iteration number 136\n",
      "{'learning_rate': 0.6438960979504372, 'boosting_type': 'dart', 'objective': 'regression', 'metric': 'mae', 'sub_feature': 0.7477657094445681, 'num_leaves': 47, 'min_data': 5, 'max_depth': 285, 'verbose': -1} 10000\n",
      "MAE: 2805834.876680111\n",
      "--------------------\n",
      "iteration number 137\n",
      "{'learning_rate': 0.5980777701534146, 'boosting_type': 'dart', 'objective': 'regression', 'metric': 'mae', 'sub_feature': 0.42074077190943415, 'num_leaves': 238, 'min_data': 42, 'max_depth': 57, 'verbose': -1} 10000\n",
      "MAE: 2779079.319527162\n",
      "--------------------\n",
      "iteration number 138\n",
      "{'learning_rate': 0.5098625856932346, 'boosting_type': 'dart', 'objective': 'regression', 'metric': 'mae', 'sub_feature': 0.5862519463985267, 'num_leaves': 169, 'min_data': 5, 'max_depth': 112, 'verbose': -1} 10000\n",
      "MAE: 2740068.553569728\n",
      "--------------------\n",
      "iteration number 139\n",
      "{'learning_rate': 0.567571965945153, 'boosting_type': 'dart', 'objective': 'regression', 'metric': 'mae', 'sub_feature': 0.7155080810828399, 'num_leaves': 23, 'min_data': 26, 'max_depth': 206, 'verbose': -1} 10000\n",
      "MAE: 2841461.3452108228\n",
      "--------------------\n",
      "iteration number 140\n",
      "{'learning_rate': 0.7720073711822546, 'boosting_type': 'dart', 'objective': 'regression', 'metric': 'mae', 'sub_feature': 0.5522843419944143, 'num_leaves': 118, 'min_data': 34, 'max_depth': 14, 'verbose': -1} 10000\n",
      "MAE: 2839183.9979515276\n",
      "--------------------\n",
      "iteration number 141\n",
      "{'learning_rate': 0.7487864588749185, 'boosting_type': 'dart', 'objective': 'regression', 'metric': 'mae', 'sub_feature': 0.8733628616486228, 'num_leaves': 275, 'min_data': 48, 'max_depth': 143, 'verbose': -1} 10000\n",
      "MAE: 2877869.8917551194\n",
      "--------------------\n",
      "iteration number 142\n",
      "{'learning_rate': 0.510090154495753, 'boosting_type': 'dart', 'objective': 'regression', 'metric': 'mae', 'sub_feature': 0.3402835520525507, 'num_leaves': 236, 'min_data': 35, 'max_depth': 40, 'verbose': -1} 10000\n",
      "MAE: 2813021.825644294\n",
      "--------------------\n",
      "iteration number 143\n",
      "{'learning_rate': 0.5101015733856977, 'boosting_type': 'dart', 'objective': 'regression', 'metric': 'mae', 'sub_feature': 0.5720803656933361, 'num_leaves': 139, 'min_data': 33, 'max_depth': 35, 'verbose': -1} 10000\n",
      "MAE: 2745614.5452203364\n",
      "--------------------\n",
      "iteration number 144\n",
      "{'learning_rate': 0.7311707838010227, 'boosting_type': 'dart', 'objective': 'regression', 'metric': 'mae', 'sub_feature': 0.34434237889615615, 'num_leaves': 209, 'min_data': 3, 'max_depth': 33, 'verbose': -1} 10000\n",
      "MAE: 2940228.1319692675\n",
      "--------------------\n",
      "iteration number 145\n",
      "{'learning_rate': 0.597444892879448, 'boosting_type': 'dart', 'objective': 'regression', 'metric': 'mae', 'sub_feature': 0.21197041576993148, 'num_leaves': 99, 'min_data': 37, 'max_depth': 156, 'verbose': -1} 10000\n",
      "MAE: 2981689.9138275906\n",
      "--------------------\n",
      "iteration number 146\n",
      "{'learning_rate': 0.604883696047772, 'boosting_type': 'dart', 'objective': 'regression', 'metric': 'mae', 'sub_feature': 0.9521768387145444, 'num_leaves': 48, 'min_data': 29, 'max_depth': 61, 'verbose': -1} 10000\n",
      "MAE: 2884613.592010951\n",
      "--------------------\n",
      "iteration number 147\n",
      "{'learning_rate': 0.47684605625474047, 'boosting_type': 'dart', 'objective': 'regression', 'metric': 'mae', 'sub_feature': 0.9238080053251452, 'num_leaves': 54, 'min_data': 18, 'max_depth': 24, 'verbose': -1} 10000\n",
      "MAE: 2753920.2968334556\n",
      "--------------------\n",
      "iteration number 148\n",
      "{'learning_rate': 0.7899887116290132, 'boosting_type': 'dart', 'objective': 'regression', 'metric': 'mae', 'sub_feature': 0.4428112164973671, 'num_leaves': 29, 'min_data': 19, 'max_depth': 129, 'verbose': -1} 10000\n",
      "MAE: 2882701.4570359834\n",
      "--------------------\n",
      "iteration number 149\n",
      "{'learning_rate': 0.4434885133446326, 'boosting_type': 'dart', 'objective': 'regression', 'metric': 'mae', 'sub_feature': 0.378079000792765, 'num_leaves': 288, 'min_data': 36, 'max_depth': 154, 'verbose': -1} 10000\n"
     ]
    },
    {
     "name": "stdout",
     "output_type": "stream",
     "text": [
      "MAE: 2765707.211079689\n",
      "--------------------\n",
      "iteration number 150\n",
      "{'learning_rate': 0.4459766953303849, 'boosting_type': 'dart', 'objective': 'regression', 'metric': 'mae', 'sub_feature': 0.7780620982216506, 'num_leaves': 144, 'min_data': 5, 'max_depth': 85, 'verbose': -1} 10000\n",
      "MAE: 2773078.1159782545\n",
      "--------------------\n",
      "iteration number 151\n",
      "{'learning_rate': 0.7612191217451544, 'boosting_type': 'dart', 'objective': 'regression', 'metric': 'mae', 'sub_feature': 0.8489684654643875, 'num_leaves': 206, 'min_data': 9, 'max_depth': 211, 'verbose': -1} 10000\n",
      "MAE: 2847015.433273644\n",
      "--------------------\n",
      "iteration number 152\n",
      "{'learning_rate': 0.46040089770527637, 'boosting_type': 'dart', 'objective': 'regression', 'metric': 'mae', 'sub_feature': 0.6915281043029702, 'num_leaves': 23, 'min_data': 42, 'max_depth': 6, 'verbose': -1} 10000\n",
      "MAE: 2865000.1697127223\n",
      "--------------------\n",
      "iteration number 153\n",
      "{'learning_rate': 0.48658601399705537, 'boosting_type': 'dart', 'objective': 'regression', 'metric': 'mae', 'sub_feature': 0.21080332921760514, 'num_leaves': 186, 'min_data': 33, 'max_depth': 51, 'verbose': -1} 10000\n",
      "MAE: 2947464.7251566364\n",
      "--------------------\n",
      "iteration number 154\n",
      "{'learning_rate': 0.7551349717819165, 'boosting_type': 'dart', 'objective': 'regression', 'metric': 'mae', 'sub_feature': 0.03667127200605724, 'num_leaves': 273, 'min_data': 20, 'max_depth': 171, 'verbose': -1} 10000\n",
      "MAE: 5060641.555747438\n",
      "--------------------\n",
      "iteration number 155\n",
      "{'learning_rate': 0.7537394488515243, 'boosting_type': 'dart', 'objective': 'regression', 'metric': 'mae', 'sub_feature': 0.12826996611647634, 'num_leaves': 20, 'min_data': 25, 'max_depth': 86, 'verbose': -1} 10000\n",
      "MAE: 3147410.5802597776\n",
      "--------------------\n",
      "iteration number 156\n",
      "{'learning_rate': 0.48456186783230104, 'boosting_type': 'dart', 'objective': 'regression', 'metric': 'mae', 'sub_feature': 0.9694897771920828, 'num_leaves': 233, 'min_data': 39, 'max_depth': 58, 'verbose': -1} 10000\n",
      "MAE: 2822294.49933927\n",
      "--------------------\n",
      "iteration number 157\n",
      "{'learning_rate': 0.6401851857074446, 'boosting_type': 'dart', 'objective': 'regression', 'metric': 'mae', 'sub_feature': 0.31139481210755293, 'num_leaves': 115, 'min_data': 7, 'max_depth': 160, 'verbose': -1} 10000\n",
      "MAE: 2845476.553677149\n",
      "--------------------\n",
      "iteration number 158\n",
      "{'learning_rate': 0.4953311321519416, 'boosting_type': 'dart', 'objective': 'regression', 'metric': 'mae', 'sub_feature': 0.7521592937374244, 'num_leaves': 156, 'min_data': 35, 'max_depth': 207, 'verbose': -1} 10000\n",
      "MAE: 2749686.195868835\n",
      "--------------------\n",
      "iteration number 159\n",
      "{'learning_rate': 0.718313024619945, 'boosting_type': 'dart', 'objective': 'regression', 'metric': 'mae', 'sub_feature': 0.6647076045049829, 'num_leaves': 22, 'min_data': 49, 'max_depth': 161, 'verbose': -1} 10000\n",
      "MAE: 2900946.9340806785\n",
      "--------------------\n",
      "iteration number 160\n",
      "{'learning_rate': 0.5449551709080523, 'boosting_type': 'dart', 'objective': 'regression', 'metric': 'mae', 'sub_feature': 0.29619135197856417, 'num_leaves': 208, 'min_data': 31, 'max_depth': 34, 'verbose': -1} 10000\n",
      "MAE: 2808067.4514669604\n",
      "--------------------\n",
      "iteration number 161\n",
      "{'learning_rate': 0.5384864616097453, 'boosting_type': 'dart', 'objective': 'regression', 'metric': 'mae', 'sub_feature': 0.2563899407911294, 'num_leaves': 270, 'min_data': 49, 'max_depth': 137, 'verbose': -1} 10000\n",
      "MAE: 2867434.157373766\n",
      "--------------------\n",
      "iteration number 162\n",
      "{'learning_rate': 0.6909241279037681, 'boosting_type': 'dart', 'objective': 'regression', 'metric': 'mae', 'sub_feature': 0.5677469038442058, 'num_leaves': 83, 'min_data': 1, 'max_depth': 95, 'verbose': -1} 10000\n",
      "MAE: 2785868.207503063\n",
      "--------------------\n",
      "iteration number 163\n",
      "{'learning_rate': 0.40174793286325994, 'boosting_type': 'dart', 'objective': 'regression', 'metric': 'mae', 'sub_feature': 0.2564555011349232, 'num_leaves': 299, 'min_data': 5, 'max_depth': 59, 'verbose': -1} 10000\n",
      "MAE: 3003297.4617143236\n",
      "--------------------\n",
      "iteration number 164\n",
      "{'learning_rate': 0.6767139699560301, 'boosting_type': 'dart', 'objective': 'regression', 'metric': 'mae', 'sub_feature': 0.4959248149318226, 'num_leaves': 157, 'min_data': 23, 'max_depth': 134, 'verbose': -1} 10000\n",
      "MAE: 2781943.8769106553\n",
      "--------------------\n",
      "iteration number 165\n",
      "{'learning_rate': 0.5496952219097354, 'boosting_type': 'dart', 'objective': 'regression', 'metric': 'mae', 'sub_feature': 0.9647661277375285, 'num_leaves': 149, 'min_data': 49, 'max_depth': 182, 'verbose': -1} 10000\n",
      "MAE: 2852637.227037775\n",
      "--------------------\n",
      "iteration number 166\n",
      "{'learning_rate': 0.40989724078713025, 'boosting_type': 'dart', 'objective': 'regression', 'metric': 'mae', 'sub_feature': 0.881577332362271, 'num_leaves': 112, 'min_data': 15, 'max_depth': 293, 'verbose': -1} 10000\n",
      "MAE: 2706815.7183362637\n",
      "--------------------\n",
      "iteration number 167\n",
      "{'learning_rate': 0.7080225711851678, 'boosting_type': 'dart', 'objective': 'regression', 'metric': 'mae', 'sub_feature': 0.03185927240558151, 'num_leaves': 155, 'min_data': 12, 'max_depth': 248, 'verbose': -1} 10000\n",
      "MAE: 5541212.108945831\n",
      "--------------------\n",
      "iteration number 168\n",
      "{'learning_rate': 0.4319533712378058, 'boosting_type': 'dart', 'objective': 'regression', 'metric': 'mae', 'sub_feature': 0.08545669550701984, 'num_leaves': 271, 'min_data': 2, 'max_depth': 192, 'verbose': -1} 10000\n",
      "MAE: 4694117.314107893\n",
      "--------------------\n",
      "iteration number 169\n",
      "{'learning_rate': 0.4892104380777602, 'boosting_type': 'dart', 'objective': 'regression', 'metric': 'mae', 'sub_feature': 0.8024570461579581, 'num_leaves': 276, 'min_data': 28, 'max_depth': 231, 'verbose': -1} 10000\n",
      "MAE: 2746745.486757629\n",
      "--------------------\n",
      "iteration number 170\n",
      "{'learning_rate': 0.5754033469750222, 'boosting_type': 'dart', 'objective': 'regression', 'metric': 'mae', 'sub_feature': 0.7081237790071434, 'num_leaves': 35, 'min_data': 45, 'max_depth': 81, 'verbose': -1} 10000\n",
      "MAE: 2794086.1381858983\n",
      "--------------------\n",
      "iteration number 171\n",
      "{'learning_rate': 0.7198012351300154, 'boosting_type': 'dart', 'objective': 'regression', 'metric': 'mae', 'sub_feature': 0.7465066869723412, 'num_leaves': 120, 'min_data': 1, 'max_depth': 177, 'verbose': -1} 10000\n",
      "MAE: 2836368.5602969704\n",
      "--------------------\n",
      "iteration number 172\n",
      "{'learning_rate': 0.7152566525404749, 'boosting_type': 'dart', 'objective': 'regression', 'metric': 'mae', 'sub_feature': 0.5535008609968803, 'num_leaves': 174, 'min_data': 7, 'max_depth': 107, 'verbose': -1} 10000\n",
      "MAE: 2768576.7218923722\n",
      "--------------------\n",
      "iteration number 173\n",
      "{'learning_rate': 0.43530407216588657, 'boosting_type': 'dart', 'objective': 'regression', 'metric': 'mae', 'sub_feature': 0.018560951509296153, 'num_leaves': 93, 'min_data': 6, 'max_depth': 70, 'verbose': -1} 10000\n",
      "MAE: 8250833.133953602\n",
      "--------------------\n",
      "iteration number 174\n",
      "{'learning_rate': 0.7298691140536334, 'boosting_type': 'dart', 'objective': 'regression', 'metric': 'mae', 'sub_feature': 0.1011397103809607, 'num_leaves': 206, 'min_data': 20, 'max_depth': 295, 'verbose': -1} 10000\n",
      "MAE: 3766288.8113796976\n",
      "--------------------\n",
      "iteration number 175\n",
      "{'learning_rate': 0.6858066993334564, 'boosting_type': 'dart', 'objective': 'regression', 'metric': 'mae', 'sub_feature': 0.36144087463460917, 'num_leaves': 238, 'min_data': 9, 'max_depth': 279, 'verbose': -1} 10000\n",
      "MAE: 2823526.024635255\n",
      "--------------------\n",
      "iteration number 176\n",
      "{'learning_rate': 0.5621026279869238, 'boosting_type': 'dart', 'objective': 'regression', 'metric': 'mae', 'sub_feature': 0.1969757923892279, 'num_leaves': 294, 'min_data': 35, 'max_depth': 248, 'verbose': -1} 10000\n",
      "MAE: 3103531.8920735503\n",
      "--------------------\n",
      "iteration number 177\n",
      "{'learning_rate': 0.5140003460168094, 'boosting_type': 'dart', 'objective': 'regression', 'metric': 'mae', 'sub_feature': 0.0943385767361179, 'num_leaves': 172, 'min_data': 33, 'max_depth': 61, 'verbose': -1} 10000\n",
      "MAE: 3512599.8243266605\n",
      "--------------------\n",
      "iteration number 178\n",
      "{'learning_rate': 0.7834957038578519, 'boosting_type': 'dart', 'objective': 'regression', 'metric': 'mae', 'sub_feature': 0.44874930020583237, 'num_leaves': 69, 'min_data': 35, 'max_depth': 163, 'verbose': -1} 10000\n",
      "MAE: 2838720.01519255\n",
      "--------------------\n",
      "iteration number 179\n",
      "{'learning_rate': 0.5008177733724356, 'boosting_type': 'dart', 'objective': 'regression', 'metric': 'mae', 'sub_feature': 0.9573051395457489, 'num_leaves': 63, 'min_data': 6, 'max_depth': 99, 'verbose': -1} 10000\n"
     ]
    },
    {
     "name": "stdout",
     "output_type": "stream",
     "text": [
      "MAE: 2827085.1330220066\n",
      "--------------------\n",
      "iteration number 180\n",
      "{'learning_rate': 0.6376334949720427, 'boosting_type': 'dart', 'objective': 'regression', 'metric': 'mae', 'sub_feature': 0.31998570495405054, 'num_leaves': 54, 'min_data': 25, 'max_depth': 188, 'verbose': -1} 10000\n",
      "MAE: 2812207.045495328\n",
      "--------------------\n",
      "iteration number 181\n",
      "{'learning_rate': 0.4118623132187498, 'boosting_type': 'dart', 'objective': 'regression', 'metric': 'mae', 'sub_feature': 0.843911649014062, 'num_leaves': 265, 'min_data': 29, 'max_depth': 199, 'verbose': -1} 10000\n",
      "MAE: 2734991.343973242\n",
      "--------------------\n",
      "iteration number 182\n",
      "{'learning_rate': 0.40654463949520997, 'boosting_type': 'dart', 'objective': 'regression', 'metric': 'mae', 'sub_feature': 0.9188857062741523, 'num_leaves': 261, 'min_data': 44, 'max_depth': 195, 'verbose': -1} 10000\n",
      "MAE: 2759560.65017926\n",
      "--------------------\n",
      "iteration number 183\n",
      "{'learning_rate': 0.7464821839655171, 'boosting_type': 'dart', 'objective': 'regression', 'metric': 'mae', 'sub_feature': 0.06945273732008028, 'num_leaves': 295, 'min_data': 39, 'max_depth': 266, 'verbose': -1} 10000\n",
      "MAE: 3597908.444786157\n",
      "--------------------\n",
      "iteration number 184\n",
      "{'learning_rate': 0.5081678177234373, 'boosting_type': 'dart', 'objective': 'regression', 'metric': 'mae', 'sub_feature': 0.3900376832375104, 'num_leaves': 88, 'min_data': 4, 'max_depth': 136, 'verbose': -1} 10000\n",
      "MAE: 2754946.6239484274\n",
      "--------------------\n",
      "iteration number 185\n",
      "{'learning_rate': 0.5332484144107006, 'boosting_type': 'dart', 'objective': 'regression', 'metric': 'mae', 'sub_feature': 0.7155499200718414, 'num_leaves': 243, 'min_data': 30, 'max_depth': 181, 'verbose': -1} 10000\n",
      "MAE: 2778563.207683751\n",
      "--------------------\n",
      "iteration number 186\n",
      "{'learning_rate': 0.42761642821222395, 'boosting_type': 'dart', 'objective': 'regression', 'metric': 'mae', 'sub_feature': 0.8214468330984174, 'num_leaves': 171, 'min_data': 9, 'max_depth': 22, 'verbose': -1} 10000\n",
      "MAE: 2740979.580643445\n",
      "--------------------\n",
      "iteration number 187\n",
      "{'learning_rate': 0.5803222200915847, 'boosting_type': 'dart', 'objective': 'regression', 'metric': 'mae', 'sub_feature': 0.9351567516776877, 'num_leaves': 162, 'min_data': 48, 'max_depth': 95, 'verbose': -1} 10000\n",
      "MAE: 2854117.855949875\n",
      "--------------------\n",
      "iteration number 188\n",
      "{'learning_rate': 0.47885161231352136, 'boosting_type': 'dart', 'objective': 'regression', 'metric': 'mae', 'sub_feature': 0.9581151688081108, 'num_leaves': 79, 'min_data': 22, 'max_depth': 120, 'verbose': -1} 10000\n",
      "MAE: 2793629.7878095456\n",
      "--------------------\n",
      "iteration number 189\n",
      "{'learning_rate': 0.6802660840414139, 'boosting_type': 'dart', 'objective': 'regression', 'metric': 'mae', 'sub_feature': 0.31910643160818886, 'num_leaves': 73, 'min_data': 24, 'max_depth': 252, 'verbose': -1} 10000\n",
      "MAE: 2831947.1831981917\n",
      "--------------------\n",
      "iteration number 190\n",
      "{'learning_rate': 0.4097930544734896, 'boosting_type': 'dart', 'objective': 'regression', 'metric': 'mae', 'sub_feature': 0.031433833684141876, 'num_leaves': 155, 'min_data': 26, 'max_depth': 163, 'verbose': -1} 10000\n",
      "MAE: 4762168.783907465\n",
      "--------------------\n",
      "iteration number 191\n",
      "{'learning_rate': 0.6185994941653314, 'boosting_type': 'dart', 'objective': 'regression', 'metric': 'mae', 'sub_feature': 0.13142435591913482, 'num_leaves': 201, 'min_data': 45, 'max_depth': 138, 'verbose': -1} 10000\n",
      "MAE: 3109138.035932281\n",
      "--------------------\n",
      "iteration number 192\n",
      "{'learning_rate': 0.7014212626136577, 'boosting_type': 'dart', 'objective': 'regression', 'metric': 'mae', 'sub_feature': 0.024650992079373713, 'num_leaves': 263, 'min_data': 23, 'max_depth': 225, 'verbose': -1} 10000\n",
      "MAE: 6058364.970562108\n",
      "--------------------\n",
      "iteration number 193\n",
      "{'learning_rate': 0.556495387599427, 'boosting_type': 'dart', 'objective': 'regression', 'metric': 'mae', 'sub_feature': 0.5478669521830601, 'num_leaves': 195, 'min_data': 10, 'max_depth': 153, 'verbose': -1} 10000\n",
      "MAE: 2682894.199457496\n",
      "--------------------\n",
      "iteration number 194\n",
      "{'learning_rate': 0.5055747451925976, 'boosting_type': 'dart', 'objective': 'regression', 'metric': 'mae', 'sub_feature': 0.29006452372076386, 'num_leaves': 126, 'min_data': 38, 'max_depth': 166, 'verbose': -1} 10000\n",
      "MAE: 2831941.1986371265\n",
      "--------------------\n",
      "iteration number 195\n",
      "{'learning_rate': 0.676720607487135, 'boosting_type': 'dart', 'objective': 'regression', 'metric': 'mae', 'sub_feature': 0.6542958144964646, 'num_leaves': 224, 'min_data': 31, 'max_depth': 48, 'verbose': -1} 10000\n",
      "MAE: 2797155.974567706\n",
      "--------------------\n",
      "iteration number 196\n",
      "{'learning_rate': 0.79918390545644, 'boosting_type': 'dart', 'objective': 'regression', 'metric': 'mae', 'sub_feature': 0.864206816528114, 'num_leaves': 224, 'min_data': 13, 'max_depth': 72, 'verbose': -1} 10000\n",
      "MAE: 2866350.9084206102\n",
      "--------------------\n",
      "iteration number 197\n",
      "{'learning_rate': 0.7342700476615003, 'boosting_type': 'dart', 'objective': 'regression', 'metric': 'mae', 'sub_feature': 0.6048736758789918, 'num_leaves': 184, 'min_data': 16, 'max_depth': 110, 'verbose': -1} 10000\n",
      "MAE: 2760621.172054942\n",
      "--------------------\n",
      "iteration number 198\n",
      "{'learning_rate': 0.4525403608090224, 'boosting_type': 'dart', 'objective': 'regression', 'metric': 'mae', 'sub_feature': 0.6725457794326745, 'num_leaves': 76, 'min_data': 27, 'max_depth': 51, 'verbose': -1} 10000\n",
      "MAE: 2720041.992477412\n",
      "--------------------\n",
      "iteration number 199\n",
      "{'learning_rate': 0.504893808760817, 'boosting_type': 'dart', 'objective': 'regression', 'metric': 'mae', 'sub_feature': 0.2098313242846186, 'num_leaves': 156, 'min_data': 20, 'max_depth': 277, 'verbose': -1} 10000\n",
      "MAE: 2975261.610713579\n",
      "--------------------\n",
      "MAE: 2671093.1977523025\n",
      "Parámetros: {'learning_rate': 0.4151061569602352, 'boosting_type': 'dart', 'objective': 'regression', 'metric': 'mae', 'sub_feature': 0.5989341446930334, 'num_leaves': 70, 'min_data': 10, 'max_depth': 97, 'verbose': -1}\n",
      "CPU times: user 22h 58min 9s, sys: 3min 55s, total: 23h 2min 4s\n",
      "Wall time: 2h 55min 36s\n"
     ]
    }
   ],
   "source": [
    "%%time\n",
    "maes2, pars2, minimo2, pp2 = random_search(X_train, y_train, X_test, y_test, its = 200)\n",
    "print(f\"MAE: {minimo2}\")\n",
    "print(f\"Parámetros: {pp2}\")"
   ]
  },
  {
   "cell_type": "code",
   "execution_count": 66,
   "metadata": {},
   "outputs": [
    {
     "data": {
      "text/plain": [
       "200"
      ]
     },
     "execution_count": 66,
     "metadata": {},
     "output_type": "execute_result"
    }
   ],
   "source": [
    "len(maes2)"
   ]
  },
  {
   "cell_type": "code",
   "execution_count": 67,
   "metadata": {},
   "outputs": [],
   "source": [
    "darts2 = []\n",
    "for idx, param in enumerate(pars2):\n",
    "    param['mae'] = maes2[idx]\n",
    "    darts2.append(param)\n",
    "dic_darts2 = {par: [dic[par] for dic in darts2] for par in darts2[0].keys() if par not in ['boosting_type', 'verbose',\n",
    "                                                                                        'objective', 'metric']}"
   ]
  },
  {
   "cell_type": "code",
   "execution_count": 68,
   "metadata": {
    "collapsed": true
   },
   "outputs": [
    {
     "data": {
      "application/vnd.plotly.v1+json": {
       "config": {
        "plotlyServerURL": "https://plot.ly"
       },
       "data": [
        {
         "mode": "markers",
         "type": "scatter",
         "x": [
          108,
          40,
          127,
          238,
          123,
          254,
          299,
          136,
          195,
          163,
          153,
          162,
          65,
          97,
          254,
          288,
          111,
          126,
          112,
          78,
          116,
          190,
          121,
          156,
          283,
          33,
          80,
          201,
          155,
          113,
          66,
          248,
          167,
          23,
          70,
          46,
          273,
          222,
          167,
          239,
          227,
          273,
          44,
          155,
          95,
          228,
          273,
          156,
          55,
          192,
          229,
          108,
          215,
          90,
          88,
          180,
          22,
          221,
          89,
          29,
          181,
          297,
          227,
          272,
          96,
          23,
          163,
          178,
          133,
          153,
          246,
          200,
          92,
          225,
          297,
          158,
          147,
          69,
          207,
          38,
          181,
          155,
          211,
          185,
          258,
          150,
          34,
          89,
          248,
          32,
          151,
          173,
          247,
          47,
          157,
          159,
          97,
          238,
          228,
          98,
          202,
          140,
          225,
          249,
          227,
          53,
          63,
          169,
          72,
          61,
          241,
          163,
          36,
          110,
          102,
          63,
          244,
          33,
          162,
          227,
          263,
          92,
          126,
          216,
          158,
          57,
          63,
          113,
          170,
          142,
          177,
          154,
          42,
          145,
          205,
          177,
          47,
          238,
          169,
          23,
          118,
          275,
          236,
          139,
          209,
          99,
          48,
          54,
          29,
          288,
          144,
          206,
          23,
          186,
          273,
          20,
          233,
          115,
          156,
          22,
          208,
          270,
          83,
          299,
          157,
          149,
          112,
          155,
          271,
          276,
          35,
          120,
          174,
          93,
          206,
          238,
          294,
          172,
          69,
          63,
          54,
          265,
          261,
          295,
          88,
          243,
          171,
          162,
          79,
          73,
          155,
          201,
          263,
          195,
          126,
          224,
          224,
          184,
          76,
          156
         ],
         "y": [
          2771389.54705639,
          2828850.6803586474,
          2800323.0750027476,
          4084627.4613731606,
          7820053.19126467,
          2879863.5151817626,
          7793287.9866343625,
          2738941.7040702933,
          2864556.602243455,
          2835535.4917247454,
          2823562.2818913553,
          3209114.7126781275,
          2760313.136495469,
          3216760.9163525305,
          2808171.008735726,
          8591318.233126765,
          2893227.907486797,
          2820177.7559501575,
          2705340.71505905,
          2749909.5322649744,
          2764598.5239632707,
          2799076.437200103,
          2793532.161604263,
          4321084.282233993,
          2941908.170111563,
          2878031.6309995134,
          2830901.4730503717,
          2801249.561990264,
          2743484.760675463,
          2769802.919111955,
          3048901.8587022466,
          2893881.131546728,
          2763913.820492765,
          3022799.437915811,
          2671093.1977523025,
          2809721.4163215333,
          2808630.1733322856,
          2711699.6989013217,
          3163593.7535052155,
          2968229.344408481,
          2847852.667846081,
          2896374.8491524607,
          2721775.2635602327,
          6040586.541232653,
          2809733.624081936,
          2707656.823732388,
          3139463.5776301324,
          2759402.663647933,
          2771573.5810283944,
          2883755.340310045,
          2769040.418153854,
          2755474.666903227,
          2758617.776233199,
          2818622.8711271756,
          2820261.0088249627,
          3291528.7042844156,
          2877319.0182801997,
          2805600.5576999155,
          2815376.0036684186,
          2820689.140487201,
          2851483.695504159,
          2939618.1383451405,
          3519958.564386223,
          2787572.9071071683,
          3103954.9847588507,
          2846320.572108657,
          2775441.8503381205,
          2808085.014275838,
          2875213.269490926,
          2763755.3530457336,
          2817712.8965935153,
          4526837.825112425,
          3006069.4559125914,
          2849817.1254265867,
          3985456.4487696574,
          2825846.9454660225,
          5565334.56272841,
          2809112.579005754,
          3249772.9965049988,
          2904838.275264105,
          3859122.4796618638,
          2688163.18373561,
          2735471.530820504,
          2854415.3287837175,
          3865521.9359590644,
          2814719.038293603,
          2749480.571641716,
          2884802.5310928454,
          2916114.8854962047,
          2792312.8179389043,
          2857211.7891020337,
          3025570.7501859646,
          2867193.9663759596,
          2836882.8673816095,
          2845110.3331946163,
          2804151.655830702,
          3139065.3929603673,
          3062309.6722403606,
          2853989.993758583,
          4809822.403584868,
          3074509.5167377116,
          2765152.3636606564,
          2806657.154910067,
          2841490.28060421,
          2840653.137117336,
          2889723.392260752,
          5907210.482391849,
          2777989.4112648936,
          2839347.540409744,
          2761785.894352693,
          2889291.1051703286,
          2764128.8659543735,
          2827493.6599137653,
          2793226.4620776204,
          3214928.783628036,
          2700416.8484825776,
          2865489.6528433748,
          2782074.097209132,
          3729462.3574071378,
          2974238.4382917467,
          2776623.4797042697,
          2695271.8518346413,
          2752448.8216591873,
          2777938.9426869107,
          2717238.2098412137,
          2883353.8331968025,
          2754599.205069744,
          3213340.367180948,
          4036822.7601331305,
          2833908.46333214,
          2786326.938351134,
          2781242.9803740047,
          2987814.6375141894,
          2778067.254732973,
          2911129.690294802,
          2813000.703936466,
          2805834.876680111,
          2779079.319527162,
          2740068.553569728,
          2841461.3452108228,
          2839183.9979515276,
          2877869.8917551194,
          2813021.825644294,
          2745614.5452203364,
          2940228.1319692675,
          2981689.9138275906,
          2884613.592010951,
          2753920.2968334556,
          2882701.4570359834,
          2765707.211079689,
          2773078.1159782545,
          2847015.433273644,
          2865000.1697127223,
          2947464.7251566364,
          5060641.555747438,
          3147410.5802597776,
          2822294.49933927,
          2845476.553677149,
          2749686.195868835,
          2900946.9340806785,
          2808067.4514669604,
          2867434.157373766,
          2785868.207503063,
          3003297.4617143236,
          2781943.8769106553,
          2852637.227037775,
          2706815.7183362637,
          5541212.108945831,
          4694117.314107893,
          2746745.486757629,
          2794086.1381858983,
          2836368.5602969704,
          2768576.7218923722,
          8250833.133953602,
          3766288.8113796976,
          2823526.024635255,
          3103531.8920735503,
          3512599.8243266605,
          2838720.01519255,
          2827085.1330220066,
          2812207.045495328,
          2734991.343973242,
          2759560.65017926,
          3597908.444786157,
          2754946.6239484274,
          2778563.207683751,
          2740979.580643445,
          2854117.855949875,
          2793629.7878095456,
          2831947.1831981917,
          4762168.783907465,
          3109138.035932281,
          6058364.970562108,
          2682894.199457496,
          2831941.1986371265,
          2797155.974567706,
          2866350.9084206102,
          2760621.172054942,
          2720041.992477412,
          2975261.610713579
         ]
        }
       ],
       "layout": {
        "template": {
         "data": {
          "bar": [
           {
            "error_x": {
             "color": "#2a3f5f"
            },
            "error_y": {
             "color": "#2a3f5f"
            },
            "marker": {
             "line": {
              "color": "#E5ECF6",
              "width": 0.5
             }
            },
            "type": "bar"
           }
          ],
          "barpolar": [
           {
            "marker": {
             "line": {
              "color": "#E5ECF6",
              "width": 0.5
             }
            },
            "type": "barpolar"
           }
          ],
          "carpet": [
           {
            "aaxis": {
             "endlinecolor": "#2a3f5f",
             "gridcolor": "white",
             "linecolor": "white",
             "minorgridcolor": "white",
             "startlinecolor": "#2a3f5f"
            },
            "baxis": {
             "endlinecolor": "#2a3f5f",
             "gridcolor": "white",
             "linecolor": "white",
             "minorgridcolor": "white",
             "startlinecolor": "#2a3f5f"
            },
            "type": "carpet"
           }
          ],
          "choropleth": [
           {
            "colorbar": {
             "outlinewidth": 0,
             "ticks": ""
            },
            "type": "choropleth"
           }
          ],
          "contour": [
           {
            "colorbar": {
             "outlinewidth": 0,
             "ticks": ""
            },
            "colorscale": [
             [
              0,
              "#0d0887"
             ],
             [
              0.1111111111111111,
              "#46039f"
             ],
             [
              0.2222222222222222,
              "#7201a8"
             ],
             [
              0.3333333333333333,
              "#9c179e"
             ],
             [
              0.4444444444444444,
              "#bd3786"
             ],
             [
              0.5555555555555556,
              "#d8576b"
             ],
             [
              0.6666666666666666,
              "#ed7953"
             ],
             [
              0.7777777777777778,
              "#fb9f3a"
             ],
             [
              0.8888888888888888,
              "#fdca26"
             ],
             [
              1,
              "#f0f921"
             ]
            ],
            "type": "contour"
           }
          ],
          "contourcarpet": [
           {
            "colorbar": {
             "outlinewidth": 0,
             "ticks": ""
            },
            "type": "contourcarpet"
           }
          ],
          "heatmap": [
           {
            "colorbar": {
             "outlinewidth": 0,
             "ticks": ""
            },
            "colorscale": [
             [
              0,
              "#0d0887"
             ],
             [
              0.1111111111111111,
              "#46039f"
             ],
             [
              0.2222222222222222,
              "#7201a8"
             ],
             [
              0.3333333333333333,
              "#9c179e"
             ],
             [
              0.4444444444444444,
              "#bd3786"
             ],
             [
              0.5555555555555556,
              "#d8576b"
             ],
             [
              0.6666666666666666,
              "#ed7953"
             ],
             [
              0.7777777777777778,
              "#fb9f3a"
             ],
             [
              0.8888888888888888,
              "#fdca26"
             ],
             [
              1,
              "#f0f921"
             ]
            ],
            "type": "heatmap"
           }
          ],
          "heatmapgl": [
           {
            "colorbar": {
             "outlinewidth": 0,
             "ticks": ""
            },
            "colorscale": [
             [
              0,
              "#0d0887"
             ],
             [
              0.1111111111111111,
              "#46039f"
             ],
             [
              0.2222222222222222,
              "#7201a8"
             ],
             [
              0.3333333333333333,
              "#9c179e"
             ],
             [
              0.4444444444444444,
              "#bd3786"
             ],
             [
              0.5555555555555556,
              "#d8576b"
             ],
             [
              0.6666666666666666,
              "#ed7953"
             ],
             [
              0.7777777777777778,
              "#fb9f3a"
             ],
             [
              0.8888888888888888,
              "#fdca26"
             ],
             [
              1,
              "#f0f921"
             ]
            ],
            "type": "heatmapgl"
           }
          ],
          "histogram": [
           {
            "marker": {
             "colorbar": {
              "outlinewidth": 0,
              "ticks": ""
             }
            },
            "type": "histogram"
           }
          ],
          "histogram2d": [
           {
            "colorbar": {
             "outlinewidth": 0,
             "ticks": ""
            },
            "colorscale": [
             [
              0,
              "#0d0887"
             ],
             [
              0.1111111111111111,
              "#46039f"
             ],
             [
              0.2222222222222222,
              "#7201a8"
             ],
             [
              0.3333333333333333,
              "#9c179e"
             ],
             [
              0.4444444444444444,
              "#bd3786"
             ],
             [
              0.5555555555555556,
              "#d8576b"
             ],
             [
              0.6666666666666666,
              "#ed7953"
             ],
             [
              0.7777777777777778,
              "#fb9f3a"
             ],
             [
              0.8888888888888888,
              "#fdca26"
             ],
             [
              1,
              "#f0f921"
             ]
            ],
            "type": "histogram2d"
           }
          ],
          "histogram2dcontour": [
           {
            "colorbar": {
             "outlinewidth": 0,
             "ticks": ""
            },
            "colorscale": [
             [
              0,
              "#0d0887"
             ],
             [
              0.1111111111111111,
              "#46039f"
             ],
             [
              0.2222222222222222,
              "#7201a8"
             ],
             [
              0.3333333333333333,
              "#9c179e"
             ],
             [
              0.4444444444444444,
              "#bd3786"
             ],
             [
              0.5555555555555556,
              "#d8576b"
             ],
             [
              0.6666666666666666,
              "#ed7953"
             ],
             [
              0.7777777777777778,
              "#fb9f3a"
             ],
             [
              0.8888888888888888,
              "#fdca26"
             ],
             [
              1,
              "#f0f921"
             ]
            ],
            "type": "histogram2dcontour"
           }
          ],
          "mesh3d": [
           {
            "colorbar": {
             "outlinewidth": 0,
             "ticks": ""
            },
            "type": "mesh3d"
           }
          ],
          "parcoords": [
           {
            "line": {
             "colorbar": {
              "outlinewidth": 0,
              "ticks": ""
             }
            },
            "type": "parcoords"
           }
          ],
          "pie": [
           {
            "automargin": true,
            "type": "pie"
           }
          ],
          "scatter": [
           {
            "marker": {
             "colorbar": {
              "outlinewidth": 0,
              "ticks": ""
             }
            },
            "type": "scatter"
           }
          ],
          "scatter3d": [
           {
            "line": {
             "colorbar": {
              "outlinewidth": 0,
              "ticks": ""
             }
            },
            "marker": {
             "colorbar": {
              "outlinewidth": 0,
              "ticks": ""
             }
            },
            "type": "scatter3d"
           }
          ],
          "scattercarpet": [
           {
            "marker": {
             "colorbar": {
              "outlinewidth": 0,
              "ticks": ""
             }
            },
            "type": "scattercarpet"
           }
          ],
          "scattergeo": [
           {
            "marker": {
             "colorbar": {
              "outlinewidth": 0,
              "ticks": ""
             }
            },
            "type": "scattergeo"
           }
          ],
          "scattergl": [
           {
            "marker": {
             "colorbar": {
              "outlinewidth": 0,
              "ticks": ""
             }
            },
            "type": "scattergl"
           }
          ],
          "scattermapbox": [
           {
            "marker": {
             "colorbar": {
              "outlinewidth": 0,
              "ticks": ""
             }
            },
            "type": "scattermapbox"
           }
          ],
          "scatterpolar": [
           {
            "marker": {
             "colorbar": {
              "outlinewidth": 0,
              "ticks": ""
             }
            },
            "type": "scatterpolar"
           }
          ],
          "scatterpolargl": [
           {
            "marker": {
             "colorbar": {
              "outlinewidth": 0,
              "ticks": ""
             }
            },
            "type": "scatterpolargl"
           }
          ],
          "scatterternary": [
           {
            "marker": {
             "colorbar": {
              "outlinewidth": 0,
              "ticks": ""
             }
            },
            "type": "scatterternary"
           }
          ],
          "surface": [
           {
            "colorbar": {
             "outlinewidth": 0,
             "ticks": ""
            },
            "colorscale": [
             [
              0,
              "#0d0887"
             ],
             [
              0.1111111111111111,
              "#46039f"
             ],
             [
              0.2222222222222222,
              "#7201a8"
             ],
             [
              0.3333333333333333,
              "#9c179e"
             ],
             [
              0.4444444444444444,
              "#bd3786"
             ],
             [
              0.5555555555555556,
              "#d8576b"
             ],
             [
              0.6666666666666666,
              "#ed7953"
             ],
             [
              0.7777777777777778,
              "#fb9f3a"
             ],
             [
              0.8888888888888888,
              "#fdca26"
             ],
             [
              1,
              "#f0f921"
             ]
            ],
            "type": "surface"
           }
          ],
          "table": [
           {
            "cells": {
             "fill": {
              "color": "#EBF0F8"
             },
             "line": {
              "color": "white"
             }
            },
            "header": {
             "fill": {
              "color": "#C8D4E3"
             },
             "line": {
              "color": "white"
             }
            },
            "type": "table"
           }
          ]
         },
         "layout": {
          "annotationdefaults": {
           "arrowcolor": "#2a3f5f",
           "arrowhead": 0,
           "arrowwidth": 1
          },
          "coloraxis": {
           "colorbar": {
            "outlinewidth": 0,
            "ticks": ""
           }
          },
          "colorscale": {
           "diverging": [
            [
             0,
             "#8e0152"
            ],
            [
             0.1,
             "#c51b7d"
            ],
            [
             0.2,
             "#de77ae"
            ],
            [
             0.3,
             "#f1b6da"
            ],
            [
             0.4,
             "#fde0ef"
            ],
            [
             0.5,
             "#f7f7f7"
            ],
            [
             0.6,
             "#e6f5d0"
            ],
            [
             0.7,
             "#b8e186"
            ],
            [
             0.8,
             "#7fbc41"
            ],
            [
             0.9,
             "#4d9221"
            ],
            [
             1,
             "#276419"
            ]
           ],
           "sequential": [
            [
             0,
             "#0d0887"
            ],
            [
             0.1111111111111111,
             "#46039f"
            ],
            [
             0.2222222222222222,
             "#7201a8"
            ],
            [
             0.3333333333333333,
             "#9c179e"
            ],
            [
             0.4444444444444444,
             "#bd3786"
            ],
            [
             0.5555555555555556,
             "#d8576b"
            ],
            [
             0.6666666666666666,
             "#ed7953"
            ],
            [
             0.7777777777777778,
             "#fb9f3a"
            ],
            [
             0.8888888888888888,
             "#fdca26"
            ],
            [
             1,
             "#f0f921"
            ]
           ],
           "sequentialminus": [
            [
             0,
             "#0d0887"
            ],
            [
             0.1111111111111111,
             "#46039f"
            ],
            [
             0.2222222222222222,
             "#7201a8"
            ],
            [
             0.3333333333333333,
             "#9c179e"
            ],
            [
             0.4444444444444444,
             "#bd3786"
            ],
            [
             0.5555555555555556,
             "#d8576b"
            ],
            [
             0.6666666666666666,
             "#ed7953"
            ],
            [
             0.7777777777777778,
             "#fb9f3a"
            ],
            [
             0.8888888888888888,
             "#fdca26"
            ],
            [
             1,
             "#f0f921"
            ]
           ]
          },
          "colorway": [
           "#636efa",
           "#EF553B",
           "#00cc96",
           "#ab63fa",
           "#FFA15A",
           "#19d3f3",
           "#FF6692",
           "#B6E880",
           "#FF97FF",
           "#FECB52"
          ],
          "font": {
           "color": "#2a3f5f"
          },
          "geo": {
           "bgcolor": "white",
           "lakecolor": "white",
           "landcolor": "#E5ECF6",
           "showlakes": true,
           "showland": true,
           "subunitcolor": "white"
          },
          "hoverlabel": {
           "align": "left"
          },
          "hovermode": "closest",
          "mapbox": {
           "style": "light"
          },
          "paper_bgcolor": "white",
          "plot_bgcolor": "#E5ECF6",
          "polar": {
           "angularaxis": {
            "gridcolor": "white",
            "linecolor": "white",
            "ticks": ""
           },
           "bgcolor": "#E5ECF6",
           "radialaxis": {
            "gridcolor": "white",
            "linecolor": "white",
            "ticks": ""
           }
          },
          "scene": {
           "xaxis": {
            "backgroundcolor": "#E5ECF6",
            "gridcolor": "white",
            "gridwidth": 2,
            "linecolor": "white",
            "showbackground": true,
            "ticks": "",
            "zerolinecolor": "white"
           },
           "yaxis": {
            "backgroundcolor": "#E5ECF6",
            "gridcolor": "white",
            "gridwidth": 2,
            "linecolor": "white",
            "showbackground": true,
            "ticks": "",
            "zerolinecolor": "white"
           },
           "zaxis": {
            "backgroundcolor": "#E5ECF6",
            "gridcolor": "white",
            "gridwidth": 2,
            "linecolor": "white",
            "showbackground": true,
            "ticks": "",
            "zerolinecolor": "white"
           }
          },
          "shapedefaults": {
           "line": {
            "color": "#2a3f5f"
           }
          },
          "ternary": {
           "aaxis": {
            "gridcolor": "white",
            "linecolor": "white",
            "ticks": ""
           },
           "baxis": {
            "gridcolor": "white",
            "linecolor": "white",
            "ticks": ""
           },
           "bgcolor": "#E5ECF6",
           "caxis": {
            "gridcolor": "white",
            "linecolor": "white",
            "ticks": ""
           }
          },
          "title": {
           "x": 0.05
          },
          "xaxis": {
           "automargin": true,
           "gridcolor": "white",
           "linecolor": "white",
           "ticks": "",
           "title": {
            "standoff": 15
           },
           "zerolinecolor": "white",
           "zerolinewidth": 2
          },
          "yaxis": {
           "automargin": true,
           "gridcolor": "white",
           "linecolor": "white",
           "ticks": "",
           "title": {
            "standoff": 15
           },
           "zerolinecolor": "white",
           "zerolinewidth": 2
          }
         }
        },
        "title": {
         "text": "Número de hojas DART"
        },
        "xaxis": {
         "title": {
          "text": "Número de hojas"
         }
        },
        "yaxis": {
         "title": {
          "text": "MAE"
         }
        }
       }
      },
      "text/html": [
       "<div>                            <div id=\"6f615efe-1259-438b-ae09-7ed2050bab6b\" class=\"plotly-graph-div\" style=\"height:525px; width:100%;\"></div>            <script type=\"text/javascript\">                require([\"plotly\"], function(Plotly) {                    window.PLOTLYENV=window.PLOTLYENV || {};                                    if (document.getElementById(\"6f615efe-1259-438b-ae09-7ed2050bab6b\")) {                    Plotly.newPlot(                        \"6f615efe-1259-438b-ae09-7ed2050bab6b\",                        [{\"mode\": \"markers\", \"type\": \"scatter\", \"x\": [108, 40, 127, 238, 123, 254, 299, 136, 195, 163, 153, 162, 65, 97, 254, 288, 111, 126, 112, 78, 116, 190, 121, 156, 283, 33, 80, 201, 155, 113, 66, 248, 167, 23, 70, 46, 273, 222, 167, 239, 227, 273, 44, 155, 95, 228, 273, 156, 55, 192, 229, 108, 215, 90, 88, 180, 22, 221, 89, 29, 181, 297, 227, 272, 96, 23, 163, 178, 133, 153, 246, 200, 92, 225, 297, 158, 147, 69, 207, 38, 181, 155, 211, 185, 258, 150, 34, 89, 248, 32, 151, 173, 247, 47, 157, 159, 97, 238, 228, 98, 202, 140, 225, 249, 227, 53, 63, 169, 72, 61, 241, 163, 36, 110, 102, 63, 244, 33, 162, 227, 263, 92, 126, 216, 158, 57, 63, 113, 170, 142, 177, 154, 42, 145, 205, 177, 47, 238, 169, 23, 118, 275, 236, 139, 209, 99, 48, 54, 29, 288, 144, 206, 23, 186, 273, 20, 233, 115, 156, 22, 208, 270, 83, 299, 157, 149, 112, 155, 271, 276, 35, 120, 174, 93, 206, 238, 294, 172, 69, 63, 54, 265, 261, 295, 88, 243, 171, 162, 79, 73, 155, 201, 263, 195, 126, 224, 224, 184, 76, 156], \"y\": [2771389.54705639, 2828850.6803586474, 2800323.0750027476, 4084627.4613731606, 7820053.19126467, 2879863.5151817626, 7793287.9866343625, 2738941.7040702933, 2864556.602243455, 2835535.4917247454, 2823562.2818913553, 3209114.7126781275, 2760313.136495469, 3216760.9163525305, 2808171.008735726, 8591318.233126765, 2893227.907486797, 2820177.7559501575, 2705340.71505905, 2749909.5322649744, 2764598.5239632707, 2799076.437200103, 2793532.161604263, 4321084.282233993, 2941908.170111563, 2878031.6309995134, 2830901.4730503717, 2801249.561990264, 2743484.760675463, 2769802.919111955, 3048901.8587022466, 2893881.131546728, 2763913.820492765, 3022799.437915811, 2671093.1977523025, 2809721.4163215333, 2808630.1733322856, 2711699.6989013217, 3163593.7535052155, 2968229.344408481, 2847852.667846081, 2896374.8491524607, 2721775.2635602327, 6040586.541232653, 2809733.624081936, 2707656.823732388, 3139463.5776301324, 2759402.663647933, 2771573.5810283944, 2883755.340310045, 2769040.418153854, 2755474.666903227, 2758617.776233199, 2818622.8711271756, 2820261.0088249627, 3291528.7042844156, 2877319.0182801997, 2805600.5576999155, 2815376.0036684186, 2820689.140487201, 2851483.695504159, 2939618.1383451405, 3519958.564386223, 2787572.9071071683, 3103954.9847588507, 2846320.572108657, 2775441.8503381205, 2808085.014275838, 2875213.269490926, 2763755.3530457336, 2817712.8965935153, 4526837.825112425, 3006069.4559125914, 2849817.1254265867, 3985456.4487696574, 2825846.9454660225, 5565334.56272841, 2809112.579005754, 3249772.9965049988, 2904838.275264105, 3859122.4796618638, 2688163.18373561, 2735471.530820504, 2854415.3287837175, 3865521.9359590644, 2814719.038293603, 2749480.571641716, 2884802.5310928454, 2916114.8854962047, 2792312.8179389043, 2857211.7891020337, 3025570.7501859646, 2867193.9663759596, 2836882.8673816095, 2845110.3331946163, 2804151.655830702, 3139065.3929603673, 3062309.6722403606, 2853989.993758583, 4809822.403584868, 3074509.5167377116, 2765152.3636606564, 2806657.154910067, 2841490.28060421, 2840653.137117336, 2889723.392260752, 5907210.482391849, 2777989.4112648936, 2839347.540409744, 2761785.894352693, 2889291.1051703286, 2764128.8659543735, 2827493.6599137653, 2793226.4620776204, 3214928.783628036, 2700416.8484825776, 2865489.6528433748, 2782074.097209132, 3729462.3574071378, 2974238.4382917467, 2776623.4797042697, 2695271.8518346413, 2752448.8216591873, 2777938.9426869107, 2717238.2098412137, 2883353.8331968025, 2754599.205069744, 3213340.367180948, 4036822.7601331305, 2833908.46333214, 2786326.938351134, 2781242.9803740047, 2987814.6375141894, 2778067.254732973, 2911129.690294802, 2813000.703936466, 2805834.876680111, 2779079.319527162, 2740068.553569728, 2841461.3452108228, 2839183.9979515276, 2877869.8917551194, 2813021.825644294, 2745614.5452203364, 2940228.1319692675, 2981689.9138275906, 2884613.592010951, 2753920.2968334556, 2882701.4570359834, 2765707.211079689, 2773078.1159782545, 2847015.433273644, 2865000.1697127223, 2947464.7251566364, 5060641.555747438, 3147410.5802597776, 2822294.49933927, 2845476.553677149, 2749686.195868835, 2900946.9340806785, 2808067.4514669604, 2867434.157373766, 2785868.207503063, 3003297.4617143236, 2781943.8769106553, 2852637.227037775, 2706815.7183362637, 5541212.108945831, 4694117.314107893, 2746745.486757629, 2794086.1381858983, 2836368.5602969704, 2768576.7218923722, 8250833.133953602, 3766288.8113796976, 2823526.024635255, 3103531.8920735503, 3512599.8243266605, 2838720.01519255, 2827085.1330220066, 2812207.045495328, 2734991.343973242, 2759560.65017926, 3597908.444786157, 2754946.6239484274, 2778563.207683751, 2740979.580643445, 2854117.855949875, 2793629.7878095456, 2831947.1831981917, 4762168.783907465, 3109138.035932281, 6058364.970562108, 2682894.199457496, 2831941.1986371265, 2797155.974567706, 2866350.9084206102, 2760621.172054942, 2720041.992477412, 2975261.610713579]}],                        {\"template\": {\"data\": {\"bar\": [{\"error_x\": {\"color\": \"#2a3f5f\"}, \"error_y\": {\"color\": \"#2a3f5f\"}, \"marker\": {\"line\": {\"color\": \"#E5ECF6\", \"width\": 0.5}}, \"type\": \"bar\"}], \"barpolar\": [{\"marker\": {\"line\": {\"color\": \"#E5ECF6\", \"width\": 0.5}}, \"type\": \"barpolar\"}], \"carpet\": [{\"aaxis\": {\"endlinecolor\": \"#2a3f5f\", \"gridcolor\": \"white\", \"linecolor\": \"white\", \"minorgridcolor\": \"white\", \"startlinecolor\": \"#2a3f5f\"}, \"baxis\": {\"endlinecolor\": \"#2a3f5f\", \"gridcolor\": \"white\", \"linecolor\": \"white\", \"minorgridcolor\": \"white\", \"startlinecolor\": \"#2a3f5f\"}, \"type\": \"carpet\"}], \"choropleth\": [{\"colorbar\": {\"outlinewidth\": 0, \"ticks\": \"\"}, \"type\": \"choropleth\"}], \"contour\": [{\"colorbar\": {\"outlinewidth\": 0, \"ticks\": \"\"}, \"colorscale\": [[0.0, \"#0d0887\"], [0.1111111111111111, \"#46039f\"], [0.2222222222222222, \"#7201a8\"], [0.3333333333333333, \"#9c179e\"], [0.4444444444444444, \"#bd3786\"], [0.5555555555555556, \"#d8576b\"], [0.6666666666666666, \"#ed7953\"], [0.7777777777777778, \"#fb9f3a\"], [0.8888888888888888, \"#fdca26\"], [1.0, \"#f0f921\"]], \"type\": \"contour\"}], \"contourcarpet\": [{\"colorbar\": {\"outlinewidth\": 0, \"ticks\": \"\"}, \"type\": \"contourcarpet\"}], \"heatmap\": [{\"colorbar\": {\"outlinewidth\": 0, \"ticks\": \"\"}, \"colorscale\": [[0.0, \"#0d0887\"], [0.1111111111111111, \"#46039f\"], [0.2222222222222222, \"#7201a8\"], [0.3333333333333333, \"#9c179e\"], [0.4444444444444444, \"#bd3786\"], [0.5555555555555556, \"#d8576b\"], [0.6666666666666666, \"#ed7953\"], [0.7777777777777778, \"#fb9f3a\"], [0.8888888888888888, \"#fdca26\"], [1.0, \"#f0f921\"]], \"type\": \"heatmap\"}], \"heatmapgl\": [{\"colorbar\": {\"outlinewidth\": 0, \"ticks\": \"\"}, \"colorscale\": [[0.0, \"#0d0887\"], [0.1111111111111111, \"#46039f\"], [0.2222222222222222, \"#7201a8\"], [0.3333333333333333, \"#9c179e\"], [0.4444444444444444, \"#bd3786\"], [0.5555555555555556, \"#d8576b\"], [0.6666666666666666, \"#ed7953\"], [0.7777777777777778, \"#fb9f3a\"], [0.8888888888888888, \"#fdca26\"], [1.0, \"#f0f921\"]], \"type\": \"heatmapgl\"}], \"histogram\": [{\"marker\": {\"colorbar\": {\"outlinewidth\": 0, \"ticks\": \"\"}}, \"type\": \"histogram\"}], \"histogram2d\": [{\"colorbar\": {\"outlinewidth\": 0, \"ticks\": \"\"}, \"colorscale\": [[0.0, \"#0d0887\"], [0.1111111111111111, \"#46039f\"], [0.2222222222222222, \"#7201a8\"], [0.3333333333333333, \"#9c179e\"], [0.4444444444444444, \"#bd3786\"], [0.5555555555555556, \"#d8576b\"], [0.6666666666666666, \"#ed7953\"], [0.7777777777777778, \"#fb9f3a\"], [0.8888888888888888, \"#fdca26\"], [1.0, \"#f0f921\"]], \"type\": \"histogram2d\"}], \"histogram2dcontour\": [{\"colorbar\": {\"outlinewidth\": 0, \"ticks\": \"\"}, \"colorscale\": [[0.0, \"#0d0887\"], [0.1111111111111111, \"#46039f\"], [0.2222222222222222, \"#7201a8\"], [0.3333333333333333, \"#9c179e\"], [0.4444444444444444, \"#bd3786\"], [0.5555555555555556, \"#d8576b\"], [0.6666666666666666, \"#ed7953\"], [0.7777777777777778, \"#fb9f3a\"], [0.8888888888888888, \"#fdca26\"], [1.0, \"#f0f921\"]], \"type\": \"histogram2dcontour\"}], \"mesh3d\": [{\"colorbar\": {\"outlinewidth\": 0, \"ticks\": \"\"}, \"type\": \"mesh3d\"}], \"parcoords\": [{\"line\": {\"colorbar\": {\"outlinewidth\": 0, \"ticks\": \"\"}}, \"type\": \"parcoords\"}], \"pie\": [{\"automargin\": true, \"type\": \"pie\"}], \"scatter\": [{\"marker\": {\"colorbar\": {\"outlinewidth\": 0, \"ticks\": \"\"}}, \"type\": \"scatter\"}], \"scatter3d\": [{\"line\": {\"colorbar\": {\"outlinewidth\": 0, \"ticks\": \"\"}}, \"marker\": {\"colorbar\": {\"outlinewidth\": 0, \"ticks\": \"\"}}, \"type\": \"scatter3d\"}], \"scattercarpet\": [{\"marker\": {\"colorbar\": {\"outlinewidth\": 0, \"ticks\": \"\"}}, \"type\": \"scattercarpet\"}], \"scattergeo\": [{\"marker\": {\"colorbar\": {\"outlinewidth\": 0, \"ticks\": \"\"}}, \"type\": \"scattergeo\"}], \"scattergl\": [{\"marker\": {\"colorbar\": {\"outlinewidth\": 0, \"ticks\": \"\"}}, \"type\": \"scattergl\"}], \"scattermapbox\": [{\"marker\": {\"colorbar\": {\"outlinewidth\": 0, \"ticks\": \"\"}}, \"type\": \"scattermapbox\"}], \"scatterpolar\": [{\"marker\": {\"colorbar\": {\"outlinewidth\": 0, \"ticks\": \"\"}}, \"type\": \"scatterpolar\"}], \"scatterpolargl\": [{\"marker\": {\"colorbar\": {\"outlinewidth\": 0, \"ticks\": \"\"}}, \"type\": \"scatterpolargl\"}], \"scatterternary\": [{\"marker\": {\"colorbar\": {\"outlinewidth\": 0, \"ticks\": \"\"}}, \"type\": \"scatterternary\"}], \"surface\": [{\"colorbar\": {\"outlinewidth\": 0, \"ticks\": \"\"}, \"colorscale\": [[0.0, \"#0d0887\"], [0.1111111111111111, \"#46039f\"], [0.2222222222222222, \"#7201a8\"], [0.3333333333333333, \"#9c179e\"], [0.4444444444444444, \"#bd3786\"], [0.5555555555555556, \"#d8576b\"], [0.6666666666666666, \"#ed7953\"], [0.7777777777777778, \"#fb9f3a\"], [0.8888888888888888, \"#fdca26\"], [1.0, \"#f0f921\"]], \"type\": \"surface\"}], \"table\": [{\"cells\": {\"fill\": {\"color\": \"#EBF0F8\"}, \"line\": {\"color\": \"white\"}}, \"header\": {\"fill\": {\"color\": \"#C8D4E3\"}, \"line\": {\"color\": \"white\"}}, \"type\": \"table\"}]}, \"layout\": {\"annotationdefaults\": {\"arrowcolor\": \"#2a3f5f\", \"arrowhead\": 0, \"arrowwidth\": 1}, \"coloraxis\": {\"colorbar\": {\"outlinewidth\": 0, \"ticks\": \"\"}}, \"colorscale\": {\"diverging\": [[0, \"#8e0152\"], [0.1, \"#c51b7d\"], [0.2, \"#de77ae\"], [0.3, \"#f1b6da\"], [0.4, \"#fde0ef\"], [0.5, \"#f7f7f7\"], [0.6, \"#e6f5d0\"], [0.7, \"#b8e186\"], [0.8, \"#7fbc41\"], [0.9, \"#4d9221\"], [1, \"#276419\"]], \"sequential\": [[0.0, \"#0d0887\"], [0.1111111111111111, \"#46039f\"], [0.2222222222222222, \"#7201a8\"], [0.3333333333333333, \"#9c179e\"], [0.4444444444444444, \"#bd3786\"], [0.5555555555555556, \"#d8576b\"], [0.6666666666666666, \"#ed7953\"], [0.7777777777777778, \"#fb9f3a\"], [0.8888888888888888, \"#fdca26\"], [1.0, \"#f0f921\"]], \"sequentialminus\": [[0.0, \"#0d0887\"], [0.1111111111111111, \"#46039f\"], [0.2222222222222222, \"#7201a8\"], [0.3333333333333333, \"#9c179e\"], [0.4444444444444444, \"#bd3786\"], [0.5555555555555556, \"#d8576b\"], [0.6666666666666666, \"#ed7953\"], [0.7777777777777778, \"#fb9f3a\"], [0.8888888888888888, \"#fdca26\"], [1.0, \"#f0f921\"]]}, \"colorway\": [\"#636efa\", \"#EF553B\", \"#00cc96\", \"#ab63fa\", \"#FFA15A\", \"#19d3f3\", \"#FF6692\", \"#B6E880\", \"#FF97FF\", \"#FECB52\"], \"font\": {\"color\": \"#2a3f5f\"}, \"geo\": {\"bgcolor\": \"white\", \"lakecolor\": \"white\", \"landcolor\": \"#E5ECF6\", \"showlakes\": true, \"showland\": true, \"subunitcolor\": \"white\"}, \"hoverlabel\": {\"align\": \"left\"}, \"hovermode\": \"closest\", \"mapbox\": {\"style\": \"light\"}, \"paper_bgcolor\": \"white\", \"plot_bgcolor\": \"#E5ECF6\", \"polar\": {\"angularaxis\": {\"gridcolor\": \"white\", \"linecolor\": \"white\", \"ticks\": \"\"}, \"bgcolor\": \"#E5ECF6\", \"radialaxis\": {\"gridcolor\": \"white\", \"linecolor\": \"white\", \"ticks\": \"\"}}, \"scene\": {\"xaxis\": {\"backgroundcolor\": \"#E5ECF6\", \"gridcolor\": \"white\", \"gridwidth\": 2, \"linecolor\": \"white\", \"showbackground\": true, \"ticks\": \"\", \"zerolinecolor\": \"white\"}, \"yaxis\": {\"backgroundcolor\": \"#E5ECF6\", \"gridcolor\": \"white\", \"gridwidth\": 2, \"linecolor\": \"white\", \"showbackground\": true, \"ticks\": \"\", \"zerolinecolor\": \"white\"}, \"zaxis\": {\"backgroundcolor\": \"#E5ECF6\", \"gridcolor\": \"white\", \"gridwidth\": 2, \"linecolor\": \"white\", \"showbackground\": true, \"ticks\": \"\", \"zerolinecolor\": \"white\"}}, \"shapedefaults\": {\"line\": {\"color\": \"#2a3f5f\"}}, \"ternary\": {\"aaxis\": {\"gridcolor\": \"white\", \"linecolor\": \"white\", \"ticks\": \"\"}, \"baxis\": {\"gridcolor\": \"white\", \"linecolor\": \"white\", \"ticks\": \"\"}, \"bgcolor\": \"#E5ECF6\", \"caxis\": {\"gridcolor\": \"white\", \"linecolor\": \"white\", \"ticks\": \"\"}}, \"title\": {\"x\": 0.05}, \"xaxis\": {\"automargin\": true, \"gridcolor\": \"white\", \"linecolor\": \"white\", \"ticks\": \"\", \"title\": {\"standoff\": 15}, \"zerolinecolor\": \"white\", \"zerolinewidth\": 2}, \"yaxis\": {\"automargin\": true, \"gridcolor\": \"white\", \"linecolor\": \"white\", \"ticks\": \"\", \"title\": {\"standoff\": 15}, \"zerolinecolor\": \"white\", \"zerolinewidth\": 2}}}, \"title\": {\"text\": \"N\\u00famero de hojas DART\"}, \"xaxis\": {\"title\": {\"text\": \"N\\u00famero de hojas\"}}, \"yaxis\": {\"title\": {\"text\": \"MAE\"}}},                        {\"responsive\": true}                    ).then(function(){\n",
       "                            \n",
       "var gd = document.getElementById('6f615efe-1259-438b-ae09-7ed2050bab6b');\n",
       "var x = new MutationObserver(function (mutations, observer) {{\n",
       "        var display = window.getComputedStyle(gd).display;\n",
       "        if (!display || display === 'none') {{\n",
       "            console.log([gd, 'removed!']);\n",
       "            Plotly.purge(gd);\n",
       "            observer.disconnect();\n",
       "        }}\n",
       "}});\n",
       "\n",
       "// Listen for the removal of the full notebook cells\n",
       "var notebookContainer = gd.closest('#notebook-container');\n",
       "if (notebookContainer) {{\n",
       "    x.observe(notebookContainer, {childList: true});\n",
       "}}\n",
       "\n",
       "// Listen for the clearing of the current output cell\n",
       "var outputEl = gd.closest('.output');\n",
       "if (outputEl) {{\n",
       "    x.observe(outputEl, {childList: true});\n",
       "}}\n",
       "\n",
       "                        })                };                });            </script>        </div>"
      ]
     },
     "metadata": {},
     "output_type": "display_data"
    }
   ],
   "source": [
    "X_dart2 = dic_darts2['num_leaves']\n",
    "Y_dart2 = dic_darts2['min_data']\n",
    "Z_dart2 = dic_darts2['max_depth']\n",
    "mae_dart2 = dic_darts2['mae']\n",
    "lr_dart2 = dic_darts2['learning_rate']\n",
    "\n",
    "fig = go.Figure(data = go.Scatter(x = X_dart2, y = mae_dart2, mode='markers'))\n",
    "fig.update_layout(\n",
    "    title = \"Número de hojas DART\",\n",
    "    xaxis_title = \"Número de hojas\",\n",
    "    yaxis_title = \"MAE\")\n",
    "fig.show()\n"
   ]
  },
  {
   "cell_type": "code",
   "execution_count": 69,
   "metadata": {
    "collapsed": true
   },
   "outputs": [
    {
     "data": {
      "application/vnd.plotly.v1+json": {
       "config": {
        "plotlyServerURL": "https://plot.ly"
       },
       "data": [
        {
         "mode": "markers",
         "type": "scatter",
         "x": [
          4,
          32,
          38,
          20,
          27,
          32,
          28,
          19,
          46,
          49,
          23,
          27,
          33,
          13,
          15,
          9,
          40,
          4,
          17,
          21,
          46,
          34,
          43,
          29,
          35,
          5,
          28,
          3,
          17,
          43,
          10,
          46,
          32,
          49,
          10,
          2,
          4,
          21,
          36,
          6,
          1,
          40,
          1,
          24,
          30,
          20,
          46,
          43,
          23,
          26,
          40,
          41,
          44,
          13,
          22,
          24,
          45,
          21,
          41,
          23,
          20,
          38,
          31,
          47,
          48,
          1,
          41,
          3,
          47,
          46,
          32,
          8,
          44,
          9,
          19,
          29,
          35,
          47,
          25,
          13,
          22,
          16,
          21,
          35,
          27,
          12,
          12,
          22,
          38,
          24,
          42,
          24,
          27,
          27,
          45,
          23,
          45,
          33,
          6,
          24,
          24,
          23,
          30,
          2,
          27,
          41,
          8,
          39,
          28,
          21,
          19,
          6,
          45,
          48,
          25,
          6,
          1,
          8,
          16,
          45,
          33,
          21,
          25,
          33,
          40,
          16,
          25,
          39,
          21,
          7,
          6,
          15,
          2,
          6,
          30,
          18,
          5,
          42,
          5,
          26,
          34,
          48,
          35,
          33,
          3,
          37,
          29,
          18,
          19,
          36,
          5,
          9,
          42,
          33,
          20,
          25,
          39,
          7,
          35,
          49,
          31,
          49,
          1,
          5,
          23,
          49,
          15,
          12,
          2,
          28,
          45,
          1,
          7,
          6,
          20,
          9,
          35,
          33,
          35,
          6,
          25,
          29,
          44,
          39,
          4,
          30,
          9,
          48,
          22,
          24,
          26,
          45,
          23,
          10,
          38,
          31,
          13,
          16,
          27,
          20
         ],
         "y": [
          2771389.54705639,
          2828850.6803586474,
          2800323.0750027476,
          4084627.4613731606,
          7820053.19126467,
          2879863.5151817626,
          7793287.9866343625,
          2738941.7040702933,
          2864556.602243455,
          2835535.4917247454,
          2823562.2818913553,
          3209114.7126781275,
          2760313.136495469,
          3216760.9163525305,
          2808171.008735726,
          8591318.233126765,
          2893227.907486797,
          2820177.7559501575,
          2705340.71505905,
          2749909.5322649744,
          2764598.5239632707,
          2799076.437200103,
          2793532.161604263,
          4321084.282233993,
          2941908.170111563,
          2878031.6309995134,
          2830901.4730503717,
          2801249.561990264,
          2743484.760675463,
          2769802.919111955,
          3048901.8587022466,
          2893881.131546728,
          2763913.820492765,
          3022799.437915811,
          2671093.1977523025,
          2809721.4163215333,
          2808630.1733322856,
          2711699.6989013217,
          3163593.7535052155,
          2968229.344408481,
          2847852.667846081,
          2896374.8491524607,
          2721775.2635602327,
          6040586.541232653,
          2809733.624081936,
          2707656.823732388,
          3139463.5776301324,
          2759402.663647933,
          2771573.5810283944,
          2883755.340310045,
          2769040.418153854,
          2755474.666903227,
          2758617.776233199,
          2818622.8711271756,
          2820261.0088249627,
          3291528.7042844156,
          2877319.0182801997,
          2805600.5576999155,
          2815376.0036684186,
          2820689.140487201,
          2851483.695504159,
          2939618.1383451405,
          3519958.564386223,
          2787572.9071071683,
          3103954.9847588507,
          2846320.572108657,
          2775441.8503381205,
          2808085.014275838,
          2875213.269490926,
          2763755.3530457336,
          2817712.8965935153,
          4526837.825112425,
          3006069.4559125914,
          2849817.1254265867,
          3985456.4487696574,
          2825846.9454660225,
          5565334.56272841,
          2809112.579005754,
          3249772.9965049988,
          2904838.275264105,
          3859122.4796618638,
          2688163.18373561,
          2735471.530820504,
          2854415.3287837175,
          3865521.9359590644,
          2814719.038293603,
          2749480.571641716,
          2884802.5310928454,
          2916114.8854962047,
          2792312.8179389043,
          2857211.7891020337,
          3025570.7501859646,
          2867193.9663759596,
          2836882.8673816095,
          2845110.3331946163,
          2804151.655830702,
          3139065.3929603673,
          3062309.6722403606,
          2853989.993758583,
          4809822.403584868,
          3074509.5167377116,
          2765152.3636606564,
          2806657.154910067,
          2841490.28060421,
          2840653.137117336,
          2889723.392260752,
          5907210.482391849,
          2777989.4112648936,
          2839347.540409744,
          2761785.894352693,
          2889291.1051703286,
          2764128.8659543735,
          2827493.6599137653,
          2793226.4620776204,
          3214928.783628036,
          2700416.8484825776,
          2865489.6528433748,
          2782074.097209132,
          3729462.3574071378,
          2974238.4382917467,
          2776623.4797042697,
          2695271.8518346413,
          2752448.8216591873,
          2777938.9426869107,
          2717238.2098412137,
          2883353.8331968025,
          2754599.205069744,
          3213340.367180948,
          4036822.7601331305,
          2833908.46333214,
          2786326.938351134,
          2781242.9803740047,
          2987814.6375141894,
          2778067.254732973,
          2911129.690294802,
          2813000.703936466,
          2805834.876680111,
          2779079.319527162,
          2740068.553569728,
          2841461.3452108228,
          2839183.9979515276,
          2877869.8917551194,
          2813021.825644294,
          2745614.5452203364,
          2940228.1319692675,
          2981689.9138275906,
          2884613.592010951,
          2753920.2968334556,
          2882701.4570359834,
          2765707.211079689,
          2773078.1159782545,
          2847015.433273644,
          2865000.1697127223,
          2947464.7251566364,
          5060641.555747438,
          3147410.5802597776,
          2822294.49933927,
          2845476.553677149,
          2749686.195868835,
          2900946.9340806785,
          2808067.4514669604,
          2867434.157373766,
          2785868.207503063,
          3003297.4617143236,
          2781943.8769106553,
          2852637.227037775,
          2706815.7183362637,
          5541212.108945831,
          4694117.314107893,
          2746745.486757629,
          2794086.1381858983,
          2836368.5602969704,
          2768576.7218923722,
          8250833.133953602,
          3766288.8113796976,
          2823526.024635255,
          3103531.8920735503,
          3512599.8243266605,
          2838720.01519255,
          2827085.1330220066,
          2812207.045495328,
          2734991.343973242,
          2759560.65017926,
          3597908.444786157,
          2754946.6239484274,
          2778563.207683751,
          2740979.580643445,
          2854117.855949875,
          2793629.7878095456,
          2831947.1831981917,
          4762168.783907465,
          3109138.035932281,
          6058364.970562108,
          2682894.199457496,
          2831941.1986371265,
          2797155.974567706,
          2866350.9084206102,
          2760621.172054942,
          2720041.992477412,
          2975261.610713579
         ]
        }
       ],
       "layout": {
        "template": {
         "data": {
          "bar": [
           {
            "error_x": {
             "color": "#2a3f5f"
            },
            "error_y": {
             "color": "#2a3f5f"
            },
            "marker": {
             "line": {
              "color": "#E5ECF6",
              "width": 0.5
             }
            },
            "type": "bar"
           }
          ],
          "barpolar": [
           {
            "marker": {
             "line": {
              "color": "#E5ECF6",
              "width": 0.5
             }
            },
            "type": "barpolar"
           }
          ],
          "carpet": [
           {
            "aaxis": {
             "endlinecolor": "#2a3f5f",
             "gridcolor": "white",
             "linecolor": "white",
             "minorgridcolor": "white",
             "startlinecolor": "#2a3f5f"
            },
            "baxis": {
             "endlinecolor": "#2a3f5f",
             "gridcolor": "white",
             "linecolor": "white",
             "minorgridcolor": "white",
             "startlinecolor": "#2a3f5f"
            },
            "type": "carpet"
           }
          ],
          "choropleth": [
           {
            "colorbar": {
             "outlinewidth": 0,
             "ticks": ""
            },
            "type": "choropleth"
           }
          ],
          "contour": [
           {
            "colorbar": {
             "outlinewidth": 0,
             "ticks": ""
            },
            "colorscale": [
             [
              0,
              "#0d0887"
             ],
             [
              0.1111111111111111,
              "#46039f"
             ],
             [
              0.2222222222222222,
              "#7201a8"
             ],
             [
              0.3333333333333333,
              "#9c179e"
             ],
             [
              0.4444444444444444,
              "#bd3786"
             ],
             [
              0.5555555555555556,
              "#d8576b"
             ],
             [
              0.6666666666666666,
              "#ed7953"
             ],
             [
              0.7777777777777778,
              "#fb9f3a"
             ],
             [
              0.8888888888888888,
              "#fdca26"
             ],
             [
              1,
              "#f0f921"
             ]
            ],
            "type": "contour"
           }
          ],
          "contourcarpet": [
           {
            "colorbar": {
             "outlinewidth": 0,
             "ticks": ""
            },
            "type": "contourcarpet"
           }
          ],
          "heatmap": [
           {
            "colorbar": {
             "outlinewidth": 0,
             "ticks": ""
            },
            "colorscale": [
             [
              0,
              "#0d0887"
             ],
             [
              0.1111111111111111,
              "#46039f"
             ],
             [
              0.2222222222222222,
              "#7201a8"
             ],
             [
              0.3333333333333333,
              "#9c179e"
             ],
             [
              0.4444444444444444,
              "#bd3786"
             ],
             [
              0.5555555555555556,
              "#d8576b"
             ],
             [
              0.6666666666666666,
              "#ed7953"
             ],
             [
              0.7777777777777778,
              "#fb9f3a"
             ],
             [
              0.8888888888888888,
              "#fdca26"
             ],
             [
              1,
              "#f0f921"
             ]
            ],
            "type": "heatmap"
           }
          ],
          "heatmapgl": [
           {
            "colorbar": {
             "outlinewidth": 0,
             "ticks": ""
            },
            "colorscale": [
             [
              0,
              "#0d0887"
             ],
             [
              0.1111111111111111,
              "#46039f"
             ],
             [
              0.2222222222222222,
              "#7201a8"
             ],
             [
              0.3333333333333333,
              "#9c179e"
             ],
             [
              0.4444444444444444,
              "#bd3786"
             ],
             [
              0.5555555555555556,
              "#d8576b"
             ],
             [
              0.6666666666666666,
              "#ed7953"
             ],
             [
              0.7777777777777778,
              "#fb9f3a"
             ],
             [
              0.8888888888888888,
              "#fdca26"
             ],
             [
              1,
              "#f0f921"
             ]
            ],
            "type": "heatmapgl"
           }
          ],
          "histogram": [
           {
            "marker": {
             "colorbar": {
              "outlinewidth": 0,
              "ticks": ""
             }
            },
            "type": "histogram"
           }
          ],
          "histogram2d": [
           {
            "colorbar": {
             "outlinewidth": 0,
             "ticks": ""
            },
            "colorscale": [
             [
              0,
              "#0d0887"
             ],
             [
              0.1111111111111111,
              "#46039f"
             ],
             [
              0.2222222222222222,
              "#7201a8"
             ],
             [
              0.3333333333333333,
              "#9c179e"
             ],
             [
              0.4444444444444444,
              "#bd3786"
             ],
             [
              0.5555555555555556,
              "#d8576b"
             ],
             [
              0.6666666666666666,
              "#ed7953"
             ],
             [
              0.7777777777777778,
              "#fb9f3a"
             ],
             [
              0.8888888888888888,
              "#fdca26"
             ],
             [
              1,
              "#f0f921"
             ]
            ],
            "type": "histogram2d"
           }
          ],
          "histogram2dcontour": [
           {
            "colorbar": {
             "outlinewidth": 0,
             "ticks": ""
            },
            "colorscale": [
             [
              0,
              "#0d0887"
             ],
             [
              0.1111111111111111,
              "#46039f"
             ],
             [
              0.2222222222222222,
              "#7201a8"
             ],
             [
              0.3333333333333333,
              "#9c179e"
             ],
             [
              0.4444444444444444,
              "#bd3786"
             ],
             [
              0.5555555555555556,
              "#d8576b"
             ],
             [
              0.6666666666666666,
              "#ed7953"
             ],
             [
              0.7777777777777778,
              "#fb9f3a"
             ],
             [
              0.8888888888888888,
              "#fdca26"
             ],
             [
              1,
              "#f0f921"
             ]
            ],
            "type": "histogram2dcontour"
           }
          ],
          "mesh3d": [
           {
            "colorbar": {
             "outlinewidth": 0,
             "ticks": ""
            },
            "type": "mesh3d"
           }
          ],
          "parcoords": [
           {
            "line": {
             "colorbar": {
              "outlinewidth": 0,
              "ticks": ""
             }
            },
            "type": "parcoords"
           }
          ],
          "pie": [
           {
            "automargin": true,
            "type": "pie"
           }
          ],
          "scatter": [
           {
            "marker": {
             "colorbar": {
              "outlinewidth": 0,
              "ticks": ""
             }
            },
            "type": "scatter"
           }
          ],
          "scatter3d": [
           {
            "line": {
             "colorbar": {
              "outlinewidth": 0,
              "ticks": ""
             }
            },
            "marker": {
             "colorbar": {
              "outlinewidth": 0,
              "ticks": ""
             }
            },
            "type": "scatter3d"
           }
          ],
          "scattercarpet": [
           {
            "marker": {
             "colorbar": {
              "outlinewidth": 0,
              "ticks": ""
             }
            },
            "type": "scattercarpet"
           }
          ],
          "scattergeo": [
           {
            "marker": {
             "colorbar": {
              "outlinewidth": 0,
              "ticks": ""
             }
            },
            "type": "scattergeo"
           }
          ],
          "scattergl": [
           {
            "marker": {
             "colorbar": {
              "outlinewidth": 0,
              "ticks": ""
             }
            },
            "type": "scattergl"
           }
          ],
          "scattermapbox": [
           {
            "marker": {
             "colorbar": {
              "outlinewidth": 0,
              "ticks": ""
             }
            },
            "type": "scattermapbox"
           }
          ],
          "scatterpolar": [
           {
            "marker": {
             "colorbar": {
              "outlinewidth": 0,
              "ticks": ""
             }
            },
            "type": "scatterpolar"
           }
          ],
          "scatterpolargl": [
           {
            "marker": {
             "colorbar": {
              "outlinewidth": 0,
              "ticks": ""
             }
            },
            "type": "scatterpolargl"
           }
          ],
          "scatterternary": [
           {
            "marker": {
             "colorbar": {
              "outlinewidth": 0,
              "ticks": ""
             }
            },
            "type": "scatterternary"
           }
          ],
          "surface": [
           {
            "colorbar": {
             "outlinewidth": 0,
             "ticks": ""
            },
            "colorscale": [
             [
              0,
              "#0d0887"
             ],
             [
              0.1111111111111111,
              "#46039f"
             ],
             [
              0.2222222222222222,
              "#7201a8"
             ],
             [
              0.3333333333333333,
              "#9c179e"
             ],
             [
              0.4444444444444444,
              "#bd3786"
             ],
             [
              0.5555555555555556,
              "#d8576b"
             ],
             [
              0.6666666666666666,
              "#ed7953"
             ],
             [
              0.7777777777777778,
              "#fb9f3a"
             ],
             [
              0.8888888888888888,
              "#fdca26"
             ],
             [
              1,
              "#f0f921"
             ]
            ],
            "type": "surface"
           }
          ],
          "table": [
           {
            "cells": {
             "fill": {
              "color": "#EBF0F8"
             },
             "line": {
              "color": "white"
             }
            },
            "header": {
             "fill": {
              "color": "#C8D4E3"
             },
             "line": {
              "color": "white"
             }
            },
            "type": "table"
           }
          ]
         },
         "layout": {
          "annotationdefaults": {
           "arrowcolor": "#2a3f5f",
           "arrowhead": 0,
           "arrowwidth": 1
          },
          "coloraxis": {
           "colorbar": {
            "outlinewidth": 0,
            "ticks": ""
           }
          },
          "colorscale": {
           "diverging": [
            [
             0,
             "#8e0152"
            ],
            [
             0.1,
             "#c51b7d"
            ],
            [
             0.2,
             "#de77ae"
            ],
            [
             0.3,
             "#f1b6da"
            ],
            [
             0.4,
             "#fde0ef"
            ],
            [
             0.5,
             "#f7f7f7"
            ],
            [
             0.6,
             "#e6f5d0"
            ],
            [
             0.7,
             "#b8e186"
            ],
            [
             0.8,
             "#7fbc41"
            ],
            [
             0.9,
             "#4d9221"
            ],
            [
             1,
             "#276419"
            ]
           ],
           "sequential": [
            [
             0,
             "#0d0887"
            ],
            [
             0.1111111111111111,
             "#46039f"
            ],
            [
             0.2222222222222222,
             "#7201a8"
            ],
            [
             0.3333333333333333,
             "#9c179e"
            ],
            [
             0.4444444444444444,
             "#bd3786"
            ],
            [
             0.5555555555555556,
             "#d8576b"
            ],
            [
             0.6666666666666666,
             "#ed7953"
            ],
            [
             0.7777777777777778,
             "#fb9f3a"
            ],
            [
             0.8888888888888888,
             "#fdca26"
            ],
            [
             1,
             "#f0f921"
            ]
           ],
           "sequentialminus": [
            [
             0,
             "#0d0887"
            ],
            [
             0.1111111111111111,
             "#46039f"
            ],
            [
             0.2222222222222222,
             "#7201a8"
            ],
            [
             0.3333333333333333,
             "#9c179e"
            ],
            [
             0.4444444444444444,
             "#bd3786"
            ],
            [
             0.5555555555555556,
             "#d8576b"
            ],
            [
             0.6666666666666666,
             "#ed7953"
            ],
            [
             0.7777777777777778,
             "#fb9f3a"
            ],
            [
             0.8888888888888888,
             "#fdca26"
            ],
            [
             1,
             "#f0f921"
            ]
           ]
          },
          "colorway": [
           "#636efa",
           "#EF553B",
           "#00cc96",
           "#ab63fa",
           "#FFA15A",
           "#19d3f3",
           "#FF6692",
           "#B6E880",
           "#FF97FF",
           "#FECB52"
          ],
          "font": {
           "color": "#2a3f5f"
          },
          "geo": {
           "bgcolor": "white",
           "lakecolor": "white",
           "landcolor": "#E5ECF6",
           "showlakes": true,
           "showland": true,
           "subunitcolor": "white"
          },
          "hoverlabel": {
           "align": "left"
          },
          "hovermode": "closest",
          "mapbox": {
           "style": "light"
          },
          "paper_bgcolor": "white",
          "plot_bgcolor": "#E5ECF6",
          "polar": {
           "angularaxis": {
            "gridcolor": "white",
            "linecolor": "white",
            "ticks": ""
           },
           "bgcolor": "#E5ECF6",
           "radialaxis": {
            "gridcolor": "white",
            "linecolor": "white",
            "ticks": ""
           }
          },
          "scene": {
           "xaxis": {
            "backgroundcolor": "#E5ECF6",
            "gridcolor": "white",
            "gridwidth": 2,
            "linecolor": "white",
            "showbackground": true,
            "ticks": "",
            "zerolinecolor": "white"
           },
           "yaxis": {
            "backgroundcolor": "#E5ECF6",
            "gridcolor": "white",
            "gridwidth": 2,
            "linecolor": "white",
            "showbackground": true,
            "ticks": "",
            "zerolinecolor": "white"
           },
           "zaxis": {
            "backgroundcolor": "#E5ECF6",
            "gridcolor": "white",
            "gridwidth": 2,
            "linecolor": "white",
            "showbackground": true,
            "ticks": "",
            "zerolinecolor": "white"
           }
          },
          "shapedefaults": {
           "line": {
            "color": "#2a3f5f"
           }
          },
          "ternary": {
           "aaxis": {
            "gridcolor": "white",
            "linecolor": "white",
            "ticks": ""
           },
           "baxis": {
            "gridcolor": "white",
            "linecolor": "white",
            "ticks": ""
           },
           "bgcolor": "#E5ECF6",
           "caxis": {
            "gridcolor": "white",
            "linecolor": "white",
            "ticks": ""
           }
          },
          "title": {
           "x": 0.05
          },
          "xaxis": {
           "automargin": true,
           "gridcolor": "white",
           "linecolor": "white",
           "ticks": "",
           "title": {
            "standoff": 15
           },
           "zerolinecolor": "white",
           "zerolinewidth": 2
          },
          "yaxis": {
           "automargin": true,
           "gridcolor": "white",
           "linecolor": "white",
           "ticks": "",
           "title": {
            "standoff": 15
           },
           "zerolinecolor": "white",
           "zerolinewidth": 2
          }
         }
        },
        "title": {
         "text": "min_data DART"
        },
        "xaxis": {
         "title": {
          "text": "min_data"
         }
        },
        "yaxis": {
         "title": {
          "text": "MAE"
         }
        }
       }
      },
      "text/html": [
       "<div>                            <div id=\"42a5ab25-dc6f-46e3-bd58-9bb12e94898c\" class=\"plotly-graph-div\" style=\"height:525px; width:100%;\"></div>            <script type=\"text/javascript\">                require([\"plotly\"], function(Plotly) {                    window.PLOTLYENV=window.PLOTLYENV || {};                                    if (document.getElementById(\"42a5ab25-dc6f-46e3-bd58-9bb12e94898c\")) {                    Plotly.newPlot(                        \"42a5ab25-dc6f-46e3-bd58-9bb12e94898c\",                        [{\"mode\": \"markers\", \"type\": \"scatter\", \"x\": [4, 32, 38, 20, 27, 32, 28, 19, 46, 49, 23, 27, 33, 13, 15, 9, 40, 4, 17, 21, 46, 34, 43, 29, 35, 5, 28, 3, 17, 43, 10, 46, 32, 49, 10, 2, 4, 21, 36, 6, 1, 40, 1, 24, 30, 20, 46, 43, 23, 26, 40, 41, 44, 13, 22, 24, 45, 21, 41, 23, 20, 38, 31, 47, 48, 1, 41, 3, 47, 46, 32, 8, 44, 9, 19, 29, 35, 47, 25, 13, 22, 16, 21, 35, 27, 12, 12, 22, 38, 24, 42, 24, 27, 27, 45, 23, 45, 33, 6, 24, 24, 23, 30, 2, 27, 41, 8, 39, 28, 21, 19, 6, 45, 48, 25, 6, 1, 8, 16, 45, 33, 21, 25, 33, 40, 16, 25, 39, 21, 7, 6, 15, 2, 6, 30, 18, 5, 42, 5, 26, 34, 48, 35, 33, 3, 37, 29, 18, 19, 36, 5, 9, 42, 33, 20, 25, 39, 7, 35, 49, 31, 49, 1, 5, 23, 49, 15, 12, 2, 28, 45, 1, 7, 6, 20, 9, 35, 33, 35, 6, 25, 29, 44, 39, 4, 30, 9, 48, 22, 24, 26, 45, 23, 10, 38, 31, 13, 16, 27, 20], \"y\": [2771389.54705639, 2828850.6803586474, 2800323.0750027476, 4084627.4613731606, 7820053.19126467, 2879863.5151817626, 7793287.9866343625, 2738941.7040702933, 2864556.602243455, 2835535.4917247454, 2823562.2818913553, 3209114.7126781275, 2760313.136495469, 3216760.9163525305, 2808171.008735726, 8591318.233126765, 2893227.907486797, 2820177.7559501575, 2705340.71505905, 2749909.5322649744, 2764598.5239632707, 2799076.437200103, 2793532.161604263, 4321084.282233993, 2941908.170111563, 2878031.6309995134, 2830901.4730503717, 2801249.561990264, 2743484.760675463, 2769802.919111955, 3048901.8587022466, 2893881.131546728, 2763913.820492765, 3022799.437915811, 2671093.1977523025, 2809721.4163215333, 2808630.1733322856, 2711699.6989013217, 3163593.7535052155, 2968229.344408481, 2847852.667846081, 2896374.8491524607, 2721775.2635602327, 6040586.541232653, 2809733.624081936, 2707656.823732388, 3139463.5776301324, 2759402.663647933, 2771573.5810283944, 2883755.340310045, 2769040.418153854, 2755474.666903227, 2758617.776233199, 2818622.8711271756, 2820261.0088249627, 3291528.7042844156, 2877319.0182801997, 2805600.5576999155, 2815376.0036684186, 2820689.140487201, 2851483.695504159, 2939618.1383451405, 3519958.564386223, 2787572.9071071683, 3103954.9847588507, 2846320.572108657, 2775441.8503381205, 2808085.014275838, 2875213.269490926, 2763755.3530457336, 2817712.8965935153, 4526837.825112425, 3006069.4559125914, 2849817.1254265867, 3985456.4487696574, 2825846.9454660225, 5565334.56272841, 2809112.579005754, 3249772.9965049988, 2904838.275264105, 3859122.4796618638, 2688163.18373561, 2735471.530820504, 2854415.3287837175, 3865521.9359590644, 2814719.038293603, 2749480.571641716, 2884802.5310928454, 2916114.8854962047, 2792312.8179389043, 2857211.7891020337, 3025570.7501859646, 2867193.9663759596, 2836882.8673816095, 2845110.3331946163, 2804151.655830702, 3139065.3929603673, 3062309.6722403606, 2853989.993758583, 4809822.403584868, 3074509.5167377116, 2765152.3636606564, 2806657.154910067, 2841490.28060421, 2840653.137117336, 2889723.392260752, 5907210.482391849, 2777989.4112648936, 2839347.540409744, 2761785.894352693, 2889291.1051703286, 2764128.8659543735, 2827493.6599137653, 2793226.4620776204, 3214928.783628036, 2700416.8484825776, 2865489.6528433748, 2782074.097209132, 3729462.3574071378, 2974238.4382917467, 2776623.4797042697, 2695271.8518346413, 2752448.8216591873, 2777938.9426869107, 2717238.2098412137, 2883353.8331968025, 2754599.205069744, 3213340.367180948, 4036822.7601331305, 2833908.46333214, 2786326.938351134, 2781242.9803740047, 2987814.6375141894, 2778067.254732973, 2911129.690294802, 2813000.703936466, 2805834.876680111, 2779079.319527162, 2740068.553569728, 2841461.3452108228, 2839183.9979515276, 2877869.8917551194, 2813021.825644294, 2745614.5452203364, 2940228.1319692675, 2981689.9138275906, 2884613.592010951, 2753920.2968334556, 2882701.4570359834, 2765707.211079689, 2773078.1159782545, 2847015.433273644, 2865000.1697127223, 2947464.7251566364, 5060641.555747438, 3147410.5802597776, 2822294.49933927, 2845476.553677149, 2749686.195868835, 2900946.9340806785, 2808067.4514669604, 2867434.157373766, 2785868.207503063, 3003297.4617143236, 2781943.8769106553, 2852637.227037775, 2706815.7183362637, 5541212.108945831, 4694117.314107893, 2746745.486757629, 2794086.1381858983, 2836368.5602969704, 2768576.7218923722, 8250833.133953602, 3766288.8113796976, 2823526.024635255, 3103531.8920735503, 3512599.8243266605, 2838720.01519255, 2827085.1330220066, 2812207.045495328, 2734991.343973242, 2759560.65017926, 3597908.444786157, 2754946.6239484274, 2778563.207683751, 2740979.580643445, 2854117.855949875, 2793629.7878095456, 2831947.1831981917, 4762168.783907465, 3109138.035932281, 6058364.970562108, 2682894.199457496, 2831941.1986371265, 2797155.974567706, 2866350.9084206102, 2760621.172054942, 2720041.992477412, 2975261.610713579]}],                        {\"template\": {\"data\": {\"bar\": [{\"error_x\": {\"color\": \"#2a3f5f\"}, \"error_y\": {\"color\": \"#2a3f5f\"}, \"marker\": {\"line\": {\"color\": \"#E5ECF6\", \"width\": 0.5}}, \"type\": \"bar\"}], \"barpolar\": [{\"marker\": {\"line\": {\"color\": \"#E5ECF6\", \"width\": 0.5}}, \"type\": \"barpolar\"}], \"carpet\": [{\"aaxis\": {\"endlinecolor\": \"#2a3f5f\", \"gridcolor\": \"white\", \"linecolor\": \"white\", \"minorgridcolor\": \"white\", \"startlinecolor\": \"#2a3f5f\"}, \"baxis\": {\"endlinecolor\": \"#2a3f5f\", \"gridcolor\": \"white\", \"linecolor\": \"white\", \"minorgridcolor\": \"white\", \"startlinecolor\": \"#2a3f5f\"}, \"type\": \"carpet\"}], \"choropleth\": [{\"colorbar\": {\"outlinewidth\": 0, \"ticks\": \"\"}, \"type\": \"choropleth\"}], \"contour\": [{\"colorbar\": {\"outlinewidth\": 0, \"ticks\": \"\"}, \"colorscale\": [[0.0, \"#0d0887\"], [0.1111111111111111, \"#46039f\"], [0.2222222222222222, \"#7201a8\"], [0.3333333333333333, \"#9c179e\"], [0.4444444444444444, \"#bd3786\"], [0.5555555555555556, \"#d8576b\"], [0.6666666666666666, \"#ed7953\"], [0.7777777777777778, \"#fb9f3a\"], [0.8888888888888888, \"#fdca26\"], [1.0, \"#f0f921\"]], \"type\": \"contour\"}], \"contourcarpet\": [{\"colorbar\": {\"outlinewidth\": 0, \"ticks\": \"\"}, \"type\": \"contourcarpet\"}], \"heatmap\": [{\"colorbar\": {\"outlinewidth\": 0, \"ticks\": \"\"}, \"colorscale\": [[0.0, \"#0d0887\"], [0.1111111111111111, \"#46039f\"], [0.2222222222222222, \"#7201a8\"], [0.3333333333333333, \"#9c179e\"], [0.4444444444444444, \"#bd3786\"], [0.5555555555555556, \"#d8576b\"], [0.6666666666666666, \"#ed7953\"], [0.7777777777777778, \"#fb9f3a\"], [0.8888888888888888, \"#fdca26\"], [1.0, \"#f0f921\"]], \"type\": \"heatmap\"}], \"heatmapgl\": [{\"colorbar\": {\"outlinewidth\": 0, \"ticks\": \"\"}, \"colorscale\": [[0.0, \"#0d0887\"], [0.1111111111111111, \"#46039f\"], [0.2222222222222222, \"#7201a8\"], [0.3333333333333333, \"#9c179e\"], [0.4444444444444444, \"#bd3786\"], [0.5555555555555556, \"#d8576b\"], [0.6666666666666666, \"#ed7953\"], [0.7777777777777778, \"#fb9f3a\"], [0.8888888888888888, \"#fdca26\"], [1.0, \"#f0f921\"]], \"type\": \"heatmapgl\"}], \"histogram\": [{\"marker\": {\"colorbar\": {\"outlinewidth\": 0, \"ticks\": \"\"}}, \"type\": \"histogram\"}], \"histogram2d\": [{\"colorbar\": {\"outlinewidth\": 0, \"ticks\": \"\"}, \"colorscale\": [[0.0, \"#0d0887\"], [0.1111111111111111, \"#46039f\"], [0.2222222222222222, \"#7201a8\"], [0.3333333333333333, \"#9c179e\"], [0.4444444444444444, \"#bd3786\"], [0.5555555555555556, \"#d8576b\"], [0.6666666666666666, \"#ed7953\"], [0.7777777777777778, \"#fb9f3a\"], [0.8888888888888888, \"#fdca26\"], [1.0, \"#f0f921\"]], \"type\": \"histogram2d\"}], \"histogram2dcontour\": [{\"colorbar\": {\"outlinewidth\": 0, \"ticks\": \"\"}, \"colorscale\": [[0.0, \"#0d0887\"], [0.1111111111111111, \"#46039f\"], [0.2222222222222222, \"#7201a8\"], [0.3333333333333333, \"#9c179e\"], [0.4444444444444444, \"#bd3786\"], [0.5555555555555556, \"#d8576b\"], [0.6666666666666666, \"#ed7953\"], [0.7777777777777778, \"#fb9f3a\"], [0.8888888888888888, \"#fdca26\"], [1.0, \"#f0f921\"]], \"type\": \"histogram2dcontour\"}], \"mesh3d\": [{\"colorbar\": {\"outlinewidth\": 0, \"ticks\": \"\"}, \"type\": \"mesh3d\"}], \"parcoords\": [{\"line\": {\"colorbar\": {\"outlinewidth\": 0, \"ticks\": \"\"}}, \"type\": \"parcoords\"}], \"pie\": [{\"automargin\": true, \"type\": \"pie\"}], \"scatter\": [{\"marker\": {\"colorbar\": {\"outlinewidth\": 0, \"ticks\": \"\"}}, \"type\": \"scatter\"}], \"scatter3d\": [{\"line\": {\"colorbar\": {\"outlinewidth\": 0, \"ticks\": \"\"}}, \"marker\": {\"colorbar\": {\"outlinewidth\": 0, \"ticks\": \"\"}}, \"type\": \"scatter3d\"}], \"scattercarpet\": [{\"marker\": {\"colorbar\": {\"outlinewidth\": 0, \"ticks\": \"\"}}, \"type\": \"scattercarpet\"}], \"scattergeo\": [{\"marker\": {\"colorbar\": {\"outlinewidth\": 0, \"ticks\": \"\"}}, \"type\": \"scattergeo\"}], \"scattergl\": [{\"marker\": {\"colorbar\": {\"outlinewidth\": 0, \"ticks\": \"\"}}, \"type\": \"scattergl\"}], \"scattermapbox\": [{\"marker\": {\"colorbar\": {\"outlinewidth\": 0, \"ticks\": \"\"}}, \"type\": \"scattermapbox\"}], \"scatterpolar\": [{\"marker\": {\"colorbar\": {\"outlinewidth\": 0, \"ticks\": \"\"}}, \"type\": \"scatterpolar\"}], \"scatterpolargl\": [{\"marker\": {\"colorbar\": {\"outlinewidth\": 0, \"ticks\": \"\"}}, \"type\": \"scatterpolargl\"}], \"scatterternary\": [{\"marker\": {\"colorbar\": {\"outlinewidth\": 0, \"ticks\": \"\"}}, \"type\": \"scatterternary\"}], \"surface\": [{\"colorbar\": {\"outlinewidth\": 0, \"ticks\": \"\"}, \"colorscale\": [[0.0, \"#0d0887\"], [0.1111111111111111, \"#46039f\"], [0.2222222222222222, \"#7201a8\"], [0.3333333333333333, \"#9c179e\"], [0.4444444444444444, \"#bd3786\"], [0.5555555555555556, \"#d8576b\"], [0.6666666666666666, \"#ed7953\"], [0.7777777777777778, \"#fb9f3a\"], [0.8888888888888888, \"#fdca26\"], [1.0, \"#f0f921\"]], \"type\": \"surface\"}], \"table\": [{\"cells\": {\"fill\": {\"color\": \"#EBF0F8\"}, \"line\": {\"color\": \"white\"}}, \"header\": {\"fill\": {\"color\": \"#C8D4E3\"}, \"line\": {\"color\": \"white\"}}, \"type\": \"table\"}]}, \"layout\": {\"annotationdefaults\": {\"arrowcolor\": \"#2a3f5f\", \"arrowhead\": 0, \"arrowwidth\": 1}, \"coloraxis\": {\"colorbar\": {\"outlinewidth\": 0, \"ticks\": \"\"}}, \"colorscale\": {\"diverging\": [[0, \"#8e0152\"], [0.1, \"#c51b7d\"], [0.2, \"#de77ae\"], [0.3, \"#f1b6da\"], [0.4, \"#fde0ef\"], [0.5, \"#f7f7f7\"], [0.6, \"#e6f5d0\"], [0.7, \"#b8e186\"], [0.8, \"#7fbc41\"], [0.9, \"#4d9221\"], [1, \"#276419\"]], \"sequential\": [[0.0, \"#0d0887\"], [0.1111111111111111, \"#46039f\"], [0.2222222222222222, \"#7201a8\"], [0.3333333333333333, \"#9c179e\"], [0.4444444444444444, \"#bd3786\"], [0.5555555555555556, \"#d8576b\"], [0.6666666666666666, \"#ed7953\"], [0.7777777777777778, \"#fb9f3a\"], [0.8888888888888888, \"#fdca26\"], [1.0, \"#f0f921\"]], \"sequentialminus\": [[0.0, \"#0d0887\"], [0.1111111111111111, \"#46039f\"], [0.2222222222222222, \"#7201a8\"], [0.3333333333333333, \"#9c179e\"], [0.4444444444444444, \"#bd3786\"], [0.5555555555555556, \"#d8576b\"], [0.6666666666666666, \"#ed7953\"], [0.7777777777777778, \"#fb9f3a\"], [0.8888888888888888, \"#fdca26\"], [1.0, \"#f0f921\"]]}, \"colorway\": [\"#636efa\", \"#EF553B\", \"#00cc96\", \"#ab63fa\", \"#FFA15A\", \"#19d3f3\", \"#FF6692\", \"#B6E880\", \"#FF97FF\", \"#FECB52\"], \"font\": {\"color\": \"#2a3f5f\"}, \"geo\": {\"bgcolor\": \"white\", \"lakecolor\": \"white\", \"landcolor\": \"#E5ECF6\", \"showlakes\": true, \"showland\": true, \"subunitcolor\": \"white\"}, \"hoverlabel\": {\"align\": \"left\"}, \"hovermode\": \"closest\", \"mapbox\": {\"style\": \"light\"}, \"paper_bgcolor\": \"white\", \"plot_bgcolor\": \"#E5ECF6\", \"polar\": {\"angularaxis\": {\"gridcolor\": \"white\", \"linecolor\": \"white\", \"ticks\": \"\"}, \"bgcolor\": \"#E5ECF6\", \"radialaxis\": {\"gridcolor\": \"white\", \"linecolor\": \"white\", \"ticks\": \"\"}}, \"scene\": {\"xaxis\": {\"backgroundcolor\": \"#E5ECF6\", \"gridcolor\": \"white\", \"gridwidth\": 2, \"linecolor\": \"white\", \"showbackground\": true, \"ticks\": \"\", \"zerolinecolor\": \"white\"}, \"yaxis\": {\"backgroundcolor\": \"#E5ECF6\", \"gridcolor\": \"white\", \"gridwidth\": 2, \"linecolor\": \"white\", \"showbackground\": true, \"ticks\": \"\", \"zerolinecolor\": \"white\"}, \"zaxis\": {\"backgroundcolor\": \"#E5ECF6\", \"gridcolor\": \"white\", \"gridwidth\": 2, \"linecolor\": \"white\", \"showbackground\": true, \"ticks\": \"\", \"zerolinecolor\": \"white\"}}, \"shapedefaults\": {\"line\": {\"color\": \"#2a3f5f\"}}, \"ternary\": {\"aaxis\": {\"gridcolor\": \"white\", \"linecolor\": \"white\", \"ticks\": \"\"}, \"baxis\": {\"gridcolor\": \"white\", \"linecolor\": \"white\", \"ticks\": \"\"}, \"bgcolor\": \"#E5ECF6\", \"caxis\": {\"gridcolor\": \"white\", \"linecolor\": \"white\", \"ticks\": \"\"}}, \"title\": {\"x\": 0.05}, \"xaxis\": {\"automargin\": true, \"gridcolor\": \"white\", \"linecolor\": \"white\", \"ticks\": \"\", \"title\": {\"standoff\": 15}, \"zerolinecolor\": \"white\", \"zerolinewidth\": 2}, \"yaxis\": {\"automargin\": true, \"gridcolor\": \"white\", \"linecolor\": \"white\", \"ticks\": \"\", \"title\": {\"standoff\": 15}, \"zerolinecolor\": \"white\", \"zerolinewidth\": 2}}}, \"title\": {\"text\": \"min_data DART\"}, \"xaxis\": {\"title\": {\"text\": \"min_data\"}}, \"yaxis\": {\"title\": {\"text\": \"MAE\"}}},                        {\"responsive\": true}                    ).then(function(){\n",
       "                            \n",
       "var gd = document.getElementById('42a5ab25-dc6f-46e3-bd58-9bb12e94898c');\n",
       "var x = new MutationObserver(function (mutations, observer) {{\n",
       "        var display = window.getComputedStyle(gd).display;\n",
       "        if (!display || display === 'none') {{\n",
       "            console.log([gd, 'removed!']);\n",
       "            Plotly.purge(gd);\n",
       "            observer.disconnect();\n",
       "        }}\n",
       "}});\n",
       "\n",
       "// Listen for the removal of the full notebook cells\n",
       "var notebookContainer = gd.closest('#notebook-container');\n",
       "if (notebookContainer) {{\n",
       "    x.observe(notebookContainer, {childList: true});\n",
       "}}\n",
       "\n",
       "// Listen for the clearing of the current output cell\n",
       "var outputEl = gd.closest('.output');\n",
       "if (outputEl) {{\n",
       "    x.observe(outputEl, {childList: true});\n",
       "}}\n",
       "\n",
       "                        })                };                });            </script>        </div>"
      ]
     },
     "metadata": {},
     "output_type": "display_data"
    }
   ],
   "source": [
    "fig = go.Figure(data = go.Scatter(x = Y_dart2, y = mae_dart2, mode='markers'))\n",
    "fig.update_layout(\n",
    "    title = \"min_data DART\",\n",
    "    xaxis_title = \"min_data\",\n",
    "    yaxis_title = \"MAE\")\n",
    "fig.show()"
   ]
  },
  {
   "cell_type": "code",
   "execution_count": 70,
   "metadata": {
    "collapsed": true
   },
   "outputs": [
    {
     "data": {
      "application/vnd.plotly.v1+json": {
       "config": {
        "plotlyServerURL": "https://plot.ly"
       },
       "data": [
        {
         "mode": "markers",
         "type": "scatter",
         "x": [
          158,
          140,
          114,
          51,
          36,
          234,
          44,
          54,
          91,
          111,
          242,
          235,
          287,
          45,
          257,
          277,
          282,
          255,
          95,
          88,
          232,
          242,
          97,
          55,
          96,
          264,
          208,
          252,
          110,
          230,
          18,
          71,
          208,
          88,
          97,
          164,
          171,
          187,
          26,
          9,
          77,
          115,
          219,
          292,
          112,
          209,
          256,
          65,
          200,
          226,
          33,
          112,
          79,
          176,
          132,
          32,
          38,
          66,
          53,
          103,
          137,
          216,
          83,
          118,
          178,
          149,
          235,
          90,
          7,
          199,
          143,
          84,
          13,
          132,
          288,
          44,
          137,
          133,
          178,
          9,
          65,
          268,
          206,
          199,
          296,
          156,
          157,
          82,
          6,
          16,
          23,
          266,
          188,
          184,
          211,
          192,
          275,
          25,
          274,
          88,
          70,
          29,
          213,
          32,
          266,
          55,
          178,
          16,
          9,
          266,
          46,
          192,
          124,
          152,
          53,
          229,
          124,
          118,
          146,
          5,
          252,
          190,
          77,
          162,
          16,
          182,
          21,
          257,
          299,
          117,
          108,
          191,
          298,
          295,
          31,
          187,
          285,
          57,
          112,
          206,
          14,
          143,
          40,
          35,
          33,
          156,
          61,
          24,
          129,
          154,
          85,
          211,
          6,
          51,
          171,
          86,
          58,
          160,
          207,
          161,
          34,
          137,
          95,
          59,
          134,
          182,
          293,
          248,
          192,
          231,
          81,
          177,
          107,
          70,
          295,
          279,
          248,
          61,
          163,
          99,
          188,
          199,
          195,
          266,
          136,
          181,
          22,
          95,
          120,
          252,
          163,
          138,
          225,
          153,
          166,
          48,
          72,
          110,
          51,
          277
         ],
         "y": [
          2771389.54705639,
          2828850.6803586474,
          2800323.0750027476,
          4084627.4613731606,
          7820053.19126467,
          2879863.5151817626,
          7793287.9866343625,
          2738941.7040702933,
          2864556.602243455,
          2835535.4917247454,
          2823562.2818913553,
          3209114.7126781275,
          2760313.136495469,
          3216760.9163525305,
          2808171.008735726,
          8591318.233126765,
          2893227.907486797,
          2820177.7559501575,
          2705340.71505905,
          2749909.5322649744,
          2764598.5239632707,
          2799076.437200103,
          2793532.161604263,
          4321084.282233993,
          2941908.170111563,
          2878031.6309995134,
          2830901.4730503717,
          2801249.561990264,
          2743484.760675463,
          2769802.919111955,
          3048901.8587022466,
          2893881.131546728,
          2763913.820492765,
          3022799.437915811,
          2671093.1977523025,
          2809721.4163215333,
          2808630.1733322856,
          2711699.6989013217,
          3163593.7535052155,
          2968229.344408481,
          2847852.667846081,
          2896374.8491524607,
          2721775.2635602327,
          6040586.541232653,
          2809733.624081936,
          2707656.823732388,
          3139463.5776301324,
          2759402.663647933,
          2771573.5810283944,
          2883755.340310045,
          2769040.418153854,
          2755474.666903227,
          2758617.776233199,
          2818622.8711271756,
          2820261.0088249627,
          3291528.7042844156,
          2877319.0182801997,
          2805600.5576999155,
          2815376.0036684186,
          2820689.140487201,
          2851483.695504159,
          2939618.1383451405,
          3519958.564386223,
          2787572.9071071683,
          3103954.9847588507,
          2846320.572108657,
          2775441.8503381205,
          2808085.014275838,
          2875213.269490926,
          2763755.3530457336,
          2817712.8965935153,
          4526837.825112425,
          3006069.4559125914,
          2849817.1254265867,
          3985456.4487696574,
          2825846.9454660225,
          5565334.56272841,
          2809112.579005754,
          3249772.9965049988,
          2904838.275264105,
          3859122.4796618638,
          2688163.18373561,
          2735471.530820504,
          2854415.3287837175,
          3865521.9359590644,
          2814719.038293603,
          2749480.571641716,
          2884802.5310928454,
          2916114.8854962047,
          2792312.8179389043,
          2857211.7891020337,
          3025570.7501859646,
          2867193.9663759596,
          2836882.8673816095,
          2845110.3331946163,
          2804151.655830702,
          3139065.3929603673,
          3062309.6722403606,
          2853989.993758583,
          4809822.403584868,
          3074509.5167377116,
          2765152.3636606564,
          2806657.154910067,
          2841490.28060421,
          2840653.137117336,
          2889723.392260752,
          5907210.482391849,
          2777989.4112648936,
          2839347.540409744,
          2761785.894352693,
          2889291.1051703286,
          2764128.8659543735,
          2827493.6599137653,
          2793226.4620776204,
          3214928.783628036,
          2700416.8484825776,
          2865489.6528433748,
          2782074.097209132,
          3729462.3574071378,
          2974238.4382917467,
          2776623.4797042697,
          2695271.8518346413,
          2752448.8216591873,
          2777938.9426869107,
          2717238.2098412137,
          2883353.8331968025,
          2754599.205069744,
          3213340.367180948,
          4036822.7601331305,
          2833908.46333214,
          2786326.938351134,
          2781242.9803740047,
          2987814.6375141894,
          2778067.254732973,
          2911129.690294802,
          2813000.703936466,
          2805834.876680111,
          2779079.319527162,
          2740068.553569728,
          2841461.3452108228,
          2839183.9979515276,
          2877869.8917551194,
          2813021.825644294,
          2745614.5452203364,
          2940228.1319692675,
          2981689.9138275906,
          2884613.592010951,
          2753920.2968334556,
          2882701.4570359834,
          2765707.211079689,
          2773078.1159782545,
          2847015.433273644,
          2865000.1697127223,
          2947464.7251566364,
          5060641.555747438,
          3147410.5802597776,
          2822294.49933927,
          2845476.553677149,
          2749686.195868835,
          2900946.9340806785,
          2808067.4514669604,
          2867434.157373766,
          2785868.207503063,
          3003297.4617143236,
          2781943.8769106553,
          2852637.227037775,
          2706815.7183362637,
          5541212.108945831,
          4694117.314107893,
          2746745.486757629,
          2794086.1381858983,
          2836368.5602969704,
          2768576.7218923722,
          8250833.133953602,
          3766288.8113796976,
          2823526.024635255,
          3103531.8920735503,
          3512599.8243266605,
          2838720.01519255,
          2827085.1330220066,
          2812207.045495328,
          2734991.343973242,
          2759560.65017926,
          3597908.444786157,
          2754946.6239484274,
          2778563.207683751,
          2740979.580643445,
          2854117.855949875,
          2793629.7878095456,
          2831947.1831981917,
          4762168.783907465,
          3109138.035932281,
          6058364.970562108,
          2682894.199457496,
          2831941.1986371265,
          2797155.974567706,
          2866350.9084206102,
          2760621.172054942,
          2720041.992477412,
          2975261.610713579
         ]
        }
       ],
       "layout": {
        "template": {
         "data": {
          "bar": [
           {
            "error_x": {
             "color": "#2a3f5f"
            },
            "error_y": {
             "color": "#2a3f5f"
            },
            "marker": {
             "line": {
              "color": "#E5ECF6",
              "width": 0.5
             }
            },
            "type": "bar"
           }
          ],
          "barpolar": [
           {
            "marker": {
             "line": {
              "color": "#E5ECF6",
              "width": 0.5
             }
            },
            "type": "barpolar"
           }
          ],
          "carpet": [
           {
            "aaxis": {
             "endlinecolor": "#2a3f5f",
             "gridcolor": "white",
             "linecolor": "white",
             "minorgridcolor": "white",
             "startlinecolor": "#2a3f5f"
            },
            "baxis": {
             "endlinecolor": "#2a3f5f",
             "gridcolor": "white",
             "linecolor": "white",
             "minorgridcolor": "white",
             "startlinecolor": "#2a3f5f"
            },
            "type": "carpet"
           }
          ],
          "choropleth": [
           {
            "colorbar": {
             "outlinewidth": 0,
             "ticks": ""
            },
            "type": "choropleth"
           }
          ],
          "contour": [
           {
            "colorbar": {
             "outlinewidth": 0,
             "ticks": ""
            },
            "colorscale": [
             [
              0,
              "#0d0887"
             ],
             [
              0.1111111111111111,
              "#46039f"
             ],
             [
              0.2222222222222222,
              "#7201a8"
             ],
             [
              0.3333333333333333,
              "#9c179e"
             ],
             [
              0.4444444444444444,
              "#bd3786"
             ],
             [
              0.5555555555555556,
              "#d8576b"
             ],
             [
              0.6666666666666666,
              "#ed7953"
             ],
             [
              0.7777777777777778,
              "#fb9f3a"
             ],
             [
              0.8888888888888888,
              "#fdca26"
             ],
             [
              1,
              "#f0f921"
             ]
            ],
            "type": "contour"
           }
          ],
          "contourcarpet": [
           {
            "colorbar": {
             "outlinewidth": 0,
             "ticks": ""
            },
            "type": "contourcarpet"
           }
          ],
          "heatmap": [
           {
            "colorbar": {
             "outlinewidth": 0,
             "ticks": ""
            },
            "colorscale": [
             [
              0,
              "#0d0887"
             ],
             [
              0.1111111111111111,
              "#46039f"
             ],
             [
              0.2222222222222222,
              "#7201a8"
             ],
             [
              0.3333333333333333,
              "#9c179e"
             ],
             [
              0.4444444444444444,
              "#bd3786"
             ],
             [
              0.5555555555555556,
              "#d8576b"
             ],
             [
              0.6666666666666666,
              "#ed7953"
             ],
             [
              0.7777777777777778,
              "#fb9f3a"
             ],
             [
              0.8888888888888888,
              "#fdca26"
             ],
             [
              1,
              "#f0f921"
             ]
            ],
            "type": "heatmap"
           }
          ],
          "heatmapgl": [
           {
            "colorbar": {
             "outlinewidth": 0,
             "ticks": ""
            },
            "colorscale": [
             [
              0,
              "#0d0887"
             ],
             [
              0.1111111111111111,
              "#46039f"
             ],
             [
              0.2222222222222222,
              "#7201a8"
             ],
             [
              0.3333333333333333,
              "#9c179e"
             ],
             [
              0.4444444444444444,
              "#bd3786"
             ],
             [
              0.5555555555555556,
              "#d8576b"
             ],
             [
              0.6666666666666666,
              "#ed7953"
             ],
             [
              0.7777777777777778,
              "#fb9f3a"
             ],
             [
              0.8888888888888888,
              "#fdca26"
             ],
             [
              1,
              "#f0f921"
             ]
            ],
            "type": "heatmapgl"
           }
          ],
          "histogram": [
           {
            "marker": {
             "colorbar": {
              "outlinewidth": 0,
              "ticks": ""
             }
            },
            "type": "histogram"
           }
          ],
          "histogram2d": [
           {
            "colorbar": {
             "outlinewidth": 0,
             "ticks": ""
            },
            "colorscale": [
             [
              0,
              "#0d0887"
             ],
             [
              0.1111111111111111,
              "#46039f"
             ],
             [
              0.2222222222222222,
              "#7201a8"
             ],
             [
              0.3333333333333333,
              "#9c179e"
             ],
             [
              0.4444444444444444,
              "#bd3786"
             ],
             [
              0.5555555555555556,
              "#d8576b"
             ],
             [
              0.6666666666666666,
              "#ed7953"
             ],
             [
              0.7777777777777778,
              "#fb9f3a"
             ],
             [
              0.8888888888888888,
              "#fdca26"
             ],
             [
              1,
              "#f0f921"
             ]
            ],
            "type": "histogram2d"
           }
          ],
          "histogram2dcontour": [
           {
            "colorbar": {
             "outlinewidth": 0,
             "ticks": ""
            },
            "colorscale": [
             [
              0,
              "#0d0887"
             ],
             [
              0.1111111111111111,
              "#46039f"
             ],
             [
              0.2222222222222222,
              "#7201a8"
             ],
             [
              0.3333333333333333,
              "#9c179e"
             ],
             [
              0.4444444444444444,
              "#bd3786"
             ],
             [
              0.5555555555555556,
              "#d8576b"
             ],
             [
              0.6666666666666666,
              "#ed7953"
             ],
             [
              0.7777777777777778,
              "#fb9f3a"
             ],
             [
              0.8888888888888888,
              "#fdca26"
             ],
             [
              1,
              "#f0f921"
             ]
            ],
            "type": "histogram2dcontour"
           }
          ],
          "mesh3d": [
           {
            "colorbar": {
             "outlinewidth": 0,
             "ticks": ""
            },
            "type": "mesh3d"
           }
          ],
          "parcoords": [
           {
            "line": {
             "colorbar": {
              "outlinewidth": 0,
              "ticks": ""
             }
            },
            "type": "parcoords"
           }
          ],
          "pie": [
           {
            "automargin": true,
            "type": "pie"
           }
          ],
          "scatter": [
           {
            "marker": {
             "colorbar": {
              "outlinewidth": 0,
              "ticks": ""
             }
            },
            "type": "scatter"
           }
          ],
          "scatter3d": [
           {
            "line": {
             "colorbar": {
              "outlinewidth": 0,
              "ticks": ""
             }
            },
            "marker": {
             "colorbar": {
              "outlinewidth": 0,
              "ticks": ""
             }
            },
            "type": "scatter3d"
           }
          ],
          "scattercarpet": [
           {
            "marker": {
             "colorbar": {
              "outlinewidth": 0,
              "ticks": ""
             }
            },
            "type": "scattercarpet"
           }
          ],
          "scattergeo": [
           {
            "marker": {
             "colorbar": {
              "outlinewidth": 0,
              "ticks": ""
             }
            },
            "type": "scattergeo"
           }
          ],
          "scattergl": [
           {
            "marker": {
             "colorbar": {
              "outlinewidth": 0,
              "ticks": ""
             }
            },
            "type": "scattergl"
           }
          ],
          "scattermapbox": [
           {
            "marker": {
             "colorbar": {
              "outlinewidth": 0,
              "ticks": ""
             }
            },
            "type": "scattermapbox"
           }
          ],
          "scatterpolar": [
           {
            "marker": {
             "colorbar": {
              "outlinewidth": 0,
              "ticks": ""
             }
            },
            "type": "scatterpolar"
           }
          ],
          "scatterpolargl": [
           {
            "marker": {
             "colorbar": {
              "outlinewidth": 0,
              "ticks": ""
             }
            },
            "type": "scatterpolargl"
           }
          ],
          "scatterternary": [
           {
            "marker": {
             "colorbar": {
              "outlinewidth": 0,
              "ticks": ""
             }
            },
            "type": "scatterternary"
           }
          ],
          "surface": [
           {
            "colorbar": {
             "outlinewidth": 0,
             "ticks": ""
            },
            "colorscale": [
             [
              0,
              "#0d0887"
             ],
             [
              0.1111111111111111,
              "#46039f"
             ],
             [
              0.2222222222222222,
              "#7201a8"
             ],
             [
              0.3333333333333333,
              "#9c179e"
             ],
             [
              0.4444444444444444,
              "#bd3786"
             ],
             [
              0.5555555555555556,
              "#d8576b"
             ],
             [
              0.6666666666666666,
              "#ed7953"
             ],
             [
              0.7777777777777778,
              "#fb9f3a"
             ],
             [
              0.8888888888888888,
              "#fdca26"
             ],
             [
              1,
              "#f0f921"
             ]
            ],
            "type": "surface"
           }
          ],
          "table": [
           {
            "cells": {
             "fill": {
              "color": "#EBF0F8"
             },
             "line": {
              "color": "white"
             }
            },
            "header": {
             "fill": {
              "color": "#C8D4E3"
             },
             "line": {
              "color": "white"
             }
            },
            "type": "table"
           }
          ]
         },
         "layout": {
          "annotationdefaults": {
           "arrowcolor": "#2a3f5f",
           "arrowhead": 0,
           "arrowwidth": 1
          },
          "coloraxis": {
           "colorbar": {
            "outlinewidth": 0,
            "ticks": ""
           }
          },
          "colorscale": {
           "diverging": [
            [
             0,
             "#8e0152"
            ],
            [
             0.1,
             "#c51b7d"
            ],
            [
             0.2,
             "#de77ae"
            ],
            [
             0.3,
             "#f1b6da"
            ],
            [
             0.4,
             "#fde0ef"
            ],
            [
             0.5,
             "#f7f7f7"
            ],
            [
             0.6,
             "#e6f5d0"
            ],
            [
             0.7,
             "#b8e186"
            ],
            [
             0.8,
             "#7fbc41"
            ],
            [
             0.9,
             "#4d9221"
            ],
            [
             1,
             "#276419"
            ]
           ],
           "sequential": [
            [
             0,
             "#0d0887"
            ],
            [
             0.1111111111111111,
             "#46039f"
            ],
            [
             0.2222222222222222,
             "#7201a8"
            ],
            [
             0.3333333333333333,
             "#9c179e"
            ],
            [
             0.4444444444444444,
             "#bd3786"
            ],
            [
             0.5555555555555556,
             "#d8576b"
            ],
            [
             0.6666666666666666,
             "#ed7953"
            ],
            [
             0.7777777777777778,
             "#fb9f3a"
            ],
            [
             0.8888888888888888,
             "#fdca26"
            ],
            [
             1,
             "#f0f921"
            ]
           ],
           "sequentialminus": [
            [
             0,
             "#0d0887"
            ],
            [
             0.1111111111111111,
             "#46039f"
            ],
            [
             0.2222222222222222,
             "#7201a8"
            ],
            [
             0.3333333333333333,
             "#9c179e"
            ],
            [
             0.4444444444444444,
             "#bd3786"
            ],
            [
             0.5555555555555556,
             "#d8576b"
            ],
            [
             0.6666666666666666,
             "#ed7953"
            ],
            [
             0.7777777777777778,
             "#fb9f3a"
            ],
            [
             0.8888888888888888,
             "#fdca26"
            ],
            [
             1,
             "#f0f921"
            ]
           ]
          },
          "colorway": [
           "#636efa",
           "#EF553B",
           "#00cc96",
           "#ab63fa",
           "#FFA15A",
           "#19d3f3",
           "#FF6692",
           "#B6E880",
           "#FF97FF",
           "#FECB52"
          ],
          "font": {
           "color": "#2a3f5f"
          },
          "geo": {
           "bgcolor": "white",
           "lakecolor": "white",
           "landcolor": "#E5ECF6",
           "showlakes": true,
           "showland": true,
           "subunitcolor": "white"
          },
          "hoverlabel": {
           "align": "left"
          },
          "hovermode": "closest",
          "mapbox": {
           "style": "light"
          },
          "paper_bgcolor": "white",
          "plot_bgcolor": "#E5ECF6",
          "polar": {
           "angularaxis": {
            "gridcolor": "white",
            "linecolor": "white",
            "ticks": ""
           },
           "bgcolor": "#E5ECF6",
           "radialaxis": {
            "gridcolor": "white",
            "linecolor": "white",
            "ticks": ""
           }
          },
          "scene": {
           "xaxis": {
            "backgroundcolor": "#E5ECF6",
            "gridcolor": "white",
            "gridwidth": 2,
            "linecolor": "white",
            "showbackground": true,
            "ticks": "",
            "zerolinecolor": "white"
           },
           "yaxis": {
            "backgroundcolor": "#E5ECF6",
            "gridcolor": "white",
            "gridwidth": 2,
            "linecolor": "white",
            "showbackground": true,
            "ticks": "",
            "zerolinecolor": "white"
           },
           "zaxis": {
            "backgroundcolor": "#E5ECF6",
            "gridcolor": "white",
            "gridwidth": 2,
            "linecolor": "white",
            "showbackground": true,
            "ticks": "",
            "zerolinecolor": "white"
           }
          },
          "shapedefaults": {
           "line": {
            "color": "#2a3f5f"
           }
          },
          "ternary": {
           "aaxis": {
            "gridcolor": "white",
            "linecolor": "white",
            "ticks": ""
           },
           "baxis": {
            "gridcolor": "white",
            "linecolor": "white",
            "ticks": ""
           },
           "bgcolor": "#E5ECF6",
           "caxis": {
            "gridcolor": "white",
            "linecolor": "white",
            "ticks": ""
           }
          },
          "title": {
           "x": 0.05
          },
          "xaxis": {
           "automargin": true,
           "gridcolor": "white",
           "linecolor": "white",
           "ticks": "",
           "title": {
            "standoff": 15
           },
           "zerolinecolor": "white",
           "zerolinewidth": 2
          },
          "yaxis": {
           "automargin": true,
           "gridcolor": "white",
           "linecolor": "white",
           "ticks": "",
           "title": {
            "standoff": 15
           },
           "zerolinecolor": "white",
           "zerolinewidth": 2
          }
         }
        },
        "title": {
         "text": "Máxima profundidad DART"
        },
        "xaxis": {
         "title": {
          "text": "Máxima profundidad"
         }
        },
        "yaxis": {
         "title": {
          "text": "MAE"
         }
        }
       }
      },
      "text/html": [
       "<div>                            <div id=\"61229f23-d2b9-4992-9532-ad592358a6ff\" class=\"plotly-graph-div\" style=\"height:525px; width:100%;\"></div>            <script type=\"text/javascript\">                require([\"plotly\"], function(Plotly) {                    window.PLOTLYENV=window.PLOTLYENV || {};                                    if (document.getElementById(\"61229f23-d2b9-4992-9532-ad592358a6ff\")) {                    Plotly.newPlot(                        \"61229f23-d2b9-4992-9532-ad592358a6ff\",                        [{\"mode\": \"markers\", \"type\": \"scatter\", \"x\": [158, 140, 114, 51, 36, 234, 44, 54, 91, 111, 242, 235, 287, 45, 257, 277, 282, 255, 95, 88, 232, 242, 97, 55, 96, 264, 208, 252, 110, 230, 18, 71, 208, 88, 97, 164, 171, 187, 26, 9, 77, 115, 219, 292, 112, 209, 256, 65, 200, 226, 33, 112, 79, 176, 132, 32, 38, 66, 53, 103, 137, 216, 83, 118, 178, 149, 235, 90, 7, 199, 143, 84, 13, 132, 288, 44, 137, 133, 178, 9, 65, 268, 206, 199, 296, 156, 157, 82, 6, 16, 23, 266, 188, 184, 211, 192, 275, 25, 274, 88, 70, 29, 213, 32, 266, 55, 178, 16, 9, 266, 46, 192, 124, 152, 53, 229, 124, 118, 146, 5, 252, 190, 77, 162, 16, 182, 21, 257, 299, 117, 108, 191, 298, 295, 31, 187, 285, 57, 112, 206, 14, 143, 40, 35, 33, 156, 61, 24, 129, 154, 85, 211, 6, 51, 171, 86, 58, 160, 207, 161, 34, 137, 95, 59, 134, 182, 293, 248, 192, 231, 81, 177, 107, 70, 295, 279, 248, 61, 163, 99, 188, 199, 195, 266, 136, 181, 22, 95, 120, 252, 163, 138, 225, 153, 166, 48, 72, 110, 51, 277], \"y\": [2771389.54705639, 2828850.6803586474, 2800323.0750027476, 4084627.4613731606, 7820053.19126467, 2879863.5151817626, 7793287.9866343625, 2738941.7040702933, 2864556.602243455, 2835535.4917247454, 2823562.2818913553, 3209114.7126781275, 2760313.136495469, 3216760.9163525305, 2808171.008735726, 8591318.233126765, 2893227.907486797, 2820177.7559501575, 2705340.71505905, 2749909.5322649744, 2764598.5239632707, 2799076.437200103, 2793532.161604263, 4321084.282233993, 2941908.170111563, 2878031.6309995134, 2830901.4730503717, 2801249.561990264, 2743484.760675463, 2769802.919111955, 3048901.8587022466, 2893881.131546728, 2763913.820492765, 3022799.437915811, 2671093.1977523025, 2809721.4163215333, 2808630.1733322856, 2711699.6989013217, 3163593.7535052155, 2968229.344408481, 2847852.667846081, 2896374.8491524607, 2721775.2635602327, 6040586.541232653, 2809733.624081936, 2707656.823732388, 3139463.5776301324, 2759402.663647933, 2771573.5810283944, 2883755.340310045, 2769040.418153854, 2755474.666903227, 2758617.776233199, 2818622.8711271756, 2820261.0088249627, 3291528.7042844156, 2877319.0182801997, 2805600.5576999155, 2815376.0036684186, 2820689.140487201, 2851483.695504159, 2939618.1383451405, 3519958.564386223, 2787572.9071071683, 3103954.9847588507, 2846320.572108657, 2775441.8503381205, 2808085.014275838, 2875213.269490926, 2763755.3530457336, 2817712.8965935153, 4526837.825112425, 3006069.4559125914, 2849817.1254265867, 3985456.4487696574, 2825846.9454660225, 5565334.56272841, 2809112.579005754, 3249772.9965049988, 2904838.275264105, 3859122.4796618638, 2688163.18373561, 2735471.530820504, 2854415.3287837175, 3865521.9359590644, 2814719.038293603, 2749480.571641716, 2884802.5310928454, 2916114.8854962047, 2792312.8179389043, 2857211.7891020337, 3025570.7501859646, 2867193.9663759596, 2836882.8673816095, 2845110.3331946163, 2804151.655830702, 3139065.3929603673, 3062309.6722403606, 2853989.993758583, 4809822.403584868, 3074509.5167377116, 2765152.3636606564, 2806657.154910067, 2841490.28060421, 2840653.137117336, 2889723.392260752, 5907210.482391849, 2777989.4112648936, 2839347.540409744, 2761785.894352693, 2889291.1051703286, 2764128.8659543735, 2827493.6599137653, 2793226.4620776204, 3214928.783628036, 2700416.8484825776, 2865489.6528433748, 2782074.097209132, 3729462.3574071378, 2974238.4382917467, 2776623.4797042697, 2695271.8518346413, 2752448.8216591873, 2777938.9426869107, 2717238.2098412137, 2883353.8331968025, 2754599.205069744, 3213340.367180948, 4036822.7601331305, 2833908.46333214, 2786326.938351134, 2781242.9803740047, 2987814.6375141894, 2778067.254732973, 2911129.690294802, 2813000.703936466, 2805834.876680111, 2779079.319527162, 2740068.553569728, 2841461.3452108228, 2839183.9979515276, 2877869.8917551194, 2813021.825644294, 2745614.5452203364, 2940228.1319692675, 2981689.9138275906, 2884613.592010951, 2753920.2968334556, 2882701.4570359834, 2765707.211079689, 2773078.1159782545, 2847015.433273644, 2865000.1697127223, 2947464.7251566364, 5060641.555747438, 3147410.5802597776, 2822294.49933927, 2845476.553677149, 2749686.195868835, 2900946.9340806785, 2808067.4514669604, 2867434.157373766, 2785868.207503063, 3003297.4617143236, 2781943.8769106553, 2852637.227037775, 2706815.7183362637, 5541212.108945831, 4694117.314107893, 2746745.486757629, 2794086.1381858983, 2836368.5602969704, 2768576.7218923722, 8250833.133953602, 3766288.8113796976, 2823526.024635255, 3103531.8920735503, 3512599.8243266605, 2838720.01519255, 2827085.1330220066, 2812207.045495328, 2734991.343973242, 2759560.65017926, 3597908.444786157, 2754946.6239484274, 2778563.207683751, 2740979.580643445, 2854117.855949875, 2793629.7878095456, 2831947.1831981917, 4762168.783907465, 3109138.035932281, 6058364.970562108, 2682894.199457496, 2831941.1986371265, 2797155.974567706, 2866350.9084206102, 2760621.172054942, 2720041.992477412, 2975261.610713579]}],                        {\"template\": {\"data\": {\"bar\": [{\"error_x\": {\"color\": \"#2a3f5f\"}, \"error_y\": {\"color\": \"#2a3f5f\"}, \"marker\": {\"line\": {\"color\": \"#E5ECF6\", \"width\": 0.5}}, \"type\": \"bar\"}], \"barpolar\": [{\"marker\": {\"line\": {\"color\": \"#E5ECF6\", \"width\": 0.5}}, \"type\": \"barpolar\"}], \"carpet\": [{\"aaxis\": {\"endlinecolor\": \"#2a3f5f\", \"gridcolor\": \"white\", \"linecolor\": \"white\", \"minorgridcolor\": \"white\", \"startlinecolor\": \"#2a3f5f\"}, \"baxis\": {\"endlinecolor\": \"#2a3f5f\", \"gridcolor\": \"white\", \"linecolor\": \"white\", \"minorgridcolor\": \"white\", \"startlinecolor\": \"#2a3f5f\"}, \"type\": \"carpet\"}], \"choropleth\": [{\"colorbar\": {\"outlinewidth\": 0, \"ticks\": \"\"}, \"type\": \"choropleth\"}], \"contour\": [{\"colorbar\": {\"outlinewidth\": 0, \"ticks\": \"\"}, \"colorscale\": [[0.0, \"#0d0887\"], [0.1111111111111111, \"#46039f\"], [0.2222222222222222, \"#7201a8\"], [0.3333333333333333, \"#9c179e\"], [0.4444444444444444, \"#bd3786\"], [0.5555555555555556, \"#d8576b\"], [0.6666666666666666, \"#ed7953\"], [0.7777777777777778, \"#fb9f3a\"], [0.8888888888888888, \"#fdca26\"], [1.0, \"#f0f921\"]], \"type\": \"contour\"}], \"contourcarpet\": [{\"colorbar\": {\"outlinewidth\": 0, \"ticks\": \"\"}, \"type\": \"contourcarpet\"}], \"heatmap\": [{\"colorbar\": {\"outlinewidth\": 0, \"ticks\": \"\"}, \"colorscale\": [[0.0, \"#0d0887\"], [0.1111111111111111, \"#46039f\"], [0.2222222222222222, \"#7201a8\"], [0.3333333333333333, \"#9c179e\"], [0.4444444444444444, \"#bd3786\"], [0.5555555555555556, \"#d8576b\"], [0.6666666666666666, \"#ed7953\"], [0.7777777777777778, \"#fb9f3a\"], [0.8888888888888888, \"#fdca26\"], [1.0, \"#f0f921\"]], \"type\": \"heatmap\"}], \"heatmapgl\": [{\"colorbar\": {\"outlinewidth\": 0, \"ticks\": \"\"}, \"colorscale\": [[0.0, \"#0d0887\"], [0.1111111111111111, \"#46039f\"], [0.2222222222222222, \"#7201a8\"], [0.3333333333333333, \"#9c179e\"], [0.4444444444444444, \"#bd3786\"], [0.5555555555555556, \"#d8576b\"], [0.6666666666666666, \"#ed7953\"], [0.7777777777777778, \"#fb9f3a\"], [0.8888888888888888, \"#fdca26\"], [1.0, \"#f0f921\"]], \"type\": \"heatmapgl\"}], \"histogram\": [{\"marker\": {\"colorbar\": {\"outlinewidth\": 0, \"ticks\": \"\"}}, \"type\": \"histogram\"}], \"histogram2d\": [{\"colorbar\": {\"outlinewidth\": 0, \"ticks\": \"\"}, \"colorscale\": [[0.0, \"#0d0887\"], [0.1111111111111111, \"#46039f\"], [0.2222222222222222, \"#7201a8\"], [0.3333333333333333, \"#9c179e\"], [0.4444444444444444, \"#bd3786\"], [0.5555555555555556, \"#d8576b\"], [0.6666666666666666, \"#ed7953\"], [0.7777777777777778, \"#fb9f3a\"], [0.8888888888888888, \"#fdca26\"], [1.0, \"#f0f921\"]], \"type\": \"histogram2d\"}], \"histogram2dcontour\": [{\"colorbar\": {\"outlinewidth\": 0, \"ticks\": \"\"}, \"colorscale\": [[0.0, \"#0d0887\"], [0.1111111111111111, \"#46039f\"], [0.2222222222222222, \"#7201a8\"], [0.3333333333333333, \"#9c179e\"], [0.4444444444444444, \"#bd3786\"], [0.5555555555555556, \"#d8576b\"], [0.6666666666666666, \"#ed7953\"], [0.7777777777777778, \"#fb9f3a\"], [0.8888888888888888, \"#fdca26\"], [1.0, \"#f0f921\"]], \"type\": \"histogram2dcontour\"}], \"mesh3d\": [{\"colorbar\": {\"outlinewidth\": 0, \"ticks\": \"\"}, \"type\": \"mesh3d\"}], \"parcoords\": [{\"line\": {\"colorbar\": {\"outlinewidth\": 0, \"ticks\": \"\"}}, \"type\": \"parcoords\"}], \"pie\": [{\"automargin\": true, \"type\": \"pie\"}], \"scatter\": [{\"marker\": {\"colorbar\": {\"outlinewidth\": 0, \"ticks\": \"\"}}, \"type\": \"scatter\"}], \"scatter3d\": [{\"line\": {\"colorbar\": {\"outlinewidth\": 0, \"ticks\": \"\"}}, \"marker\": {\"colorbar\": {\"outlinewidth\": 0, \"ticks\": \"\"}}, \"type\": \"scatter3d\"}], \"scattercarpet\": [{\"marker\": {\"colorbar\": {\"outlinewidth\": 0, \"ticks\": \"\"}}, \"type\": \"scattercarpet\"}], \"scattergeo\": [{\"marker\": {\"colorbar\": {\"outlinewidth\": 0, \"ticks\": \"\"}}, \"type\": \"scattergeo\"}], \"scattergl\": [{\"marker\": {\"colorbar\": {\"outlinewidth\": 0, \"ticks\": \"\"}}, \"type\": \"scattergl\"}], \"scattermapbox\": [{\"marker\": {\"colorbar\": {\"outlinewidth\": 0, \"ticks\": \"\"}}, \"type\": \"scattermapbox\"}], \"scatterpolar\": [{\"marker\": {\"colorbar\": {\"outlinewidth\": 0, \"ticks\": \"\"}}, \"type\": \"scatterpolar\"}], \"scatterpolargl\": [{\"marker\": {\"colorbar\": {\"outlinewidth\": 0, \"ticks\": \"\"}}, \"type\": \"scatterpolargl\"}], \"scatterternary\": [{\"marker\": {\"colorbar\": {\"outlinewidth\": 0, \"ticks\": \"\"}}, \"type\": \"scatterternary\"}], \"surface\": [{\"colorbar\": {\"outlinewidth\": 0, \"ticks\": \"\"}, \"colorscale\": [[0.0, \"#0d0887\"], [0.1111111111111111, \"#46039f\"], [0.2222222222222222, \"#7201a8\"], [0.3333333333333333, \"#9c179e\"], [0.4444444444444444, \"#bd3786\"], [0.5555555555555556, \"#d8576b\"], [0.6666666666666666, \"#ed7953\"], [0.7777777777777778, \"#fb9f3a\"], [0.8888888888888888, \"#fdca26\"], [1.0, \"#f0f921\"]], \"type\": \"surface\"}], \"table\": [{\"cells\": {\"fill\": {\"color\": \"#EBF0F8\"}, \"line\": {\"color\": \"white\"}}, \"header\": {\"fill\": {\"color\": \"#C8D4E3\"}, \"line\": {\"color\": \"white\"}}, \"type\": \"table\"}]}, \"layout\": {\"annotationdefaults\": {\"arrowcolor\": \"#2a3f5f\", \"arrowhead\": 0, \"arrowwidth\": 1}, \"coloraxis\": {\"colorbar\": {\"outlinewidth\": 0, \"ticks\": \"\"}}, \"colorscale\": {\"diverging\": [[0, \"#8e0152\"], [0.1, \"#c51b7d\"], [0.2, \"#de77ae\"], [0.3, \"#f1b6da\"], [0.4, \"#fde0ef\"], [0.5, \"#f7f7f7\"], [0.6, \"#e6f5d0\"], [0.7, \"#b8e186\"], [0.8, \"#7fbc41\"], [0.9, \"#4d9221\"], [1, \"#276419\"]], \"sequential\": [[0.0, \"#0d0887\"], [0.1111111111111111, \"#46039f\"], [0.2222222222222222, \"#7201a8\"], [0.3333333333333333, \"#9c179e\"], [0.4444444444444444, \"#bd3786\"], [0.5555555555555556, \"#d8576b\"], [0.6666666666666666, \"#ed7953\"], [0.7777777777777778, \"#fb9f3a\"], [0.8888888888888888, \"#fdca26\"], [1.0, \"#f0f921\"]], \"sequentialminus\": [[0.0, \"#0d0887\"], [0.1111111111111111, \"#46039f\"], [0.2222222222222222, \"#7201a8\"], [0.3333333333333333, \"#9c179e\"], [0.4444444444444444, \"#bd3786\"], [0.5555555555555556, \"#d8576b\"], [0.6666666666666666, \"#ed7953\"], [0.7777777777777778, \"#fb9f3a\"], [0.8888888888888888, \"#fdca26\"], [1.0, \"#f0f921\"]]}, \"colorway\": [\"#636efa\", \"#EF553B\", \"#00cc96\", \"#ab63fa\", \"#FFA15A\", \"#19d3f3\", \"#FF6692\", \"#B6E880\", \"#FF97FF\", \"#FECB52\"], \"font\": {\"color\": \"#2a3f5f\"}, \"geo\": {\"bgcolor\": \"white\", \"lakecolor\": \"white\", \"landcolor\": \"#E5ECF6\", \"showlakes\": true, \"showland\": true, \"subunitcolor\": \"white\"}, \"hoverlabel\": {\"align\": \"left\"}, \"hovermode\": \"closest\", \"mapbox\": {\"style\": \"light\"}, \"paper_bgcolor\": \"white\", \"plot_bgcolor\": \"#E5ECF6\", \"polar\": {\"angularaxis\": {\"gridcolor\": \"white\", \"linecolor\": \"white\", \"ticks\": \"\"}, \"bgcolor\": \"#E5ECF6\", \"radialaxis\": {\"gridcolor\": \"white\", \"linecolor\": \"white\", \"ticks\": \"\"}}, \"scene\": {\"xaxis\": {\"backgroundcolor\": \"#E5ECF6\", \"gridcolor\": \"white\", \"gridwidth\": 2, \"linecolor\": \"white\", \"showbackground\": true, \"ticks\": \"\", \"zerolinecolor\": \"white\"}, \"yaxis\": {\"backgroundcolor\": \"#E5ECF6\", \"gridcolor\": \"white\", \"gridwidth\": 2, \"linecolor\": \"white\", \"showbackground\": true, \"ticks\": \"\", \"zerolinecolor\": \"white\"}, \"zaxis\": {\"backgroundcolor\": \"#E5ECF6\", \"gridcolor\": \"white\", \"gridwidth\": 2, \"linecolor\": \"white\", \"showbackground\": true, \"ticks\": \"\", \"zerolinecolor\": \"white\"}}, \"shapedefaults\": {\"line\": {\"color\": \"#2a3f5f\"}}, \"ternary\": {\"aaxis\": {\"gridcolor\": \"white\", \"linecolor\": \"white\", \"ticks\": \"\"}, \"baxis\": {\"gridcolor\": \"white\", \"linecolor\": \"white\", \"ticks\": \"\"}, \"bgcolor\": \"#E5ECF6\", \"caxis\": {\"gridcolor\": \"white\", \"linecolor\": \"white\", \"ticks\": \"\"}}, \"title\": {\"x\": 0.05}, \"xaxis\": {\"automargin\": true, \"gridcolor\": \"white\", \"linecolor\": \"white\", \"ticks\": \"\", \"title\": {\"standoff\": 15}, \"zerolinecolor\": \"white\", \"zerolinewidth\": 2}, \"yaxis\": {\"automargin\": true, \"gridcolor\": \"white\", \"linecolor\": \"white\", \"ticks\": \"\", \"title\": {\"standoff\": 15}, \"zerolinecolor\": \"white\", \"zerolinewidth\": 2}}}, \"title\": {\"text\": \"M\\u00e1xima profundidad DART\"}, \"xaxis\": {\"title\": {\"text\": \"M\\u00e1xima profundidad\"}}, \"yaxis\": {\"title\": {\"text\": \"MAE\"}}},                        {\"responsive\": true}                    ).then(function(){\n",
       "                            \n",
       "var gd = document.getElementById('61229f23-d2b9-4992-9532-ad592358a6ff');\n",
       "var x = new MutationObserver(function (mutations, observer) {{\n",
       "        var display = window.getComputedStyle(gd).display;\n",
       "        if (!display || display === 'none') {{\n",
       "            console.log([gd, 'removed!']);\n",
       "            Plotly.purge(gd);\n",
       "            observer.disconnect();\n",
       "        }}\n",
       "}});\n",
       "\n",
       "// Listen for the removal of the full notebook cells\n",
       "var notebookContainer = gd.closest('#notebook-container');\n",
       "if (notebookContainer) {{\n",
       "    x.observe(notebookContainer, {childList: true});\n",
       "}}\n",
       "\n",
       "// Listen for the clearing of the current output cell\n",
       "var outputEl = gd.closest('.output');\n",
       "if (outputEl) {{\n",
       "    x.observe(outputEl, {childList: true});\n",
       "}}\n",
       "\n",
       "                        })                };                });            </script>        </div>"
      ]
     },
     "metadata": {},
     "output_type": "display_data"
    }
   ],
   "source": [
    "fig = go.Figure(data=go.Scatter(x = Z_dart2, y = mae_dart2, mode='markers'))\n",
    "fig.update_layout(\n",
    "    title = \"Máxima profundidad DART\",\n",
    "    xaxis_title = \"Máxima profundidad\",\n",
    "    yaxis_title = \"MAE\")\n",
    "fig.show()"
   ]
  },
  {
   "cell_type": "code",
   "execution_count": 71,
   "metadata": {
    "collapsed": true
   },
   "outputs": [
    {
     "data": {
      "application/vnd.plotly.v1+json": {
       "config": {
        "plotlyServerURL": "https://plot.ly"
       },
       "data": [
        {
         "mode": "markers",
         "type": "scatter",
         "x": [
          0.6309631502723161,
          0.6261437921518064,
          0.6605095896353974,
          0.7790515634134325,
          0.5576900077221616,
          0.746248754970331,
          0.6108762199668393,
          0.6689547193167924,
          0.42427869026440584,
          0.7521237487195027,
          0.538862815649421,
          0.5072885600441149,
          0.5189053992864171,
          0.7706571174056578,
          0.4030516628609142,
          0.5917480662704182,
          0.7949227325898522,
          0.7690007626073337,
          0.4073729320675923,
          0.5866370350252932,
          0.5308453440095936,
          0.5010203729028659,
          0.6371277939343969,
          0.7095019636853954,
          0.7670258340269179,
          0.4724528519828355,
          0.6397418691977084,
          0.7418616423009734,
          0.6989262638643985,
          0.52712608855881,
          0.7883295138827046,
          0.572561242850036,
          0.5487978995060951,
          0.5514362844148065,
          0.4151061569602352,
          0.5311797248696096,
          0.7308128401751304,
          0.45617785903986247,
          0.5453491015777179,
          0.7784630595840183,
          0.6517795799003818,
          0.7202782529279665,
          0.4608860181567309,
          0.541344190238497,
          0.6393091270118555,
          0.46026714250216594,
          0.466442705875327,
          0.5262834395852327,
          0.5457979974815585,
          0.6422216609284661,
          0.514140500459418,
          0.4397834892373141,
          0.43429255317535204,
          0.6726847454234349,
          0.696673033767582,
          0.7428504392130664,
          0.6743757051454609,
          0.7459613210817209,
          0.6215540936199309,
          0.7114026813302944,
          0.6641370394681447,
          0.47026775872327903,
          0.6295654563188018,
          0.45153919136801157,
          0.6191845295927486,
          0.6331727628691382,
          0.5775073758709071,
          0.7396829967925875,
          0.6815039030366172,
          0.5041032203794268,
          0.7477820635154874,
          0.6433749160044486,
          0.6220547548587538,
          0.43807964175750747,
          0.7116601327134492,
          0.6741684817109126,
          0.586152272057772,
          0.5793635952428122,
          0.47975964673058363,
          0.477114762407774,
          0.585258922237295,
          0.5163881203688262,
          0.6078738005710907,
          0.7852188604563308,
          0.7042454665150669,
          0.6558891941515829,
          0.6216281579032806,
          0.7256243977409113,
          0.4961947854379827,
          0.4729067509773721,
          0.47201374814191716,
          0.4401803637120284,
          0.7280505619653539,
          0.6621552740453158,
          0.7867141884899373,
          0.6930221641705995,
          0.7799322175596534,
          0.7630223703482413,
          0.7181211646653939,
          0.5384414155232977,
          0.4022206027530335,
          0.5973722153822657,
          0.7474412237003805,
          0.7376113411516473,
          0.6209188779411139,
          0.5200309678642797,
          0.5030051867497876,
          0.5184297050803653,
          0.7539705431640984,
          0.6912567201471547,
          0.7941256277750544,
          0.6457349012832982,
          0.607347808384465,
          0.641682348935569,
          0.4741375196752563,
          0.42687175748450223,
          0.7665009665417137,
          0.5079407260280053,
          0.5356059938723389,
          0.6421690038383191,
          0.5942153451672982,
          0.5065358882939008,
          0.47392811455731776,
          0.57470649567359,
          0.4027782901756997,
          0.7245368505992781,
          0.5668732861534779,
          0.5757614833473238,
          0.7446783469544085,
          0.7424980108129249,
          0.7030757716211158,
          0.7060397264701246,
          0.7980425484576548,
          0.6580851093751421,
          0.7512024466695426,
          0.6684241635452327,
          0.6438960979504372,
          0.5980777701534146,
          0.5098625856932346,
          0.567571965945153,
          0.7720073711822546,
          0.7487864588749185,
          0.510090154495753,
          0.5101015733856977,
          0.7311707838010227,
          0.597444892879448,
          0.604883696047772,
          0.47684605625474047,
          0.7899887116290132,
          0.4434885133446326,
          0.4459766953303849,
          0.7612191217451544,
          0.46040089770527637,
          0.48658601399705537,
          0.7551349717819165,
          0.7537394488515243,
          0.48456186783230104,
          0.6401851857074446,
          0.4953311321519416,
          0.718313024619945,
          0.5449551709080523,
          0.5384864616097453,
          0.6909241279037681,
          0.40174793286325994,
          0.6767139699560301,
          0.5496952219097354,
          0.40989724078713025,
          0.7080225711851678,
          0.4319533712378058,
          0.4892104380777602,
          0.5754033469750222,
          0.7198012351300154,
          0.7152566525404749,
          0.43530407216588657,
          0.7298691140536334,
          0.6858066993334564,
          0.5621026279869238,
          0.5140003460168094,
          0.7834957038578519,
          0.5008177733724356,
          0.6376334949720427,
          0.4118623132187498,
          0.40654463949520997,
          0.7464821839655171,
          0.5081678177234373,
          0.5332484144107006,
          0.42761642821222395,
          0.5803222200915847,
          0.47885161231352136,
          0.6802660840414139,
          0.4097930544734896,
          0.6185994941653314,
          0.7014212626136577,
          0.556495387599427,
          0.5055747451925976,
          0.676720607487135,
          0.79918390545644,
          0.7342700476615003,
          0.4525403608090224,
          0.504893808760817
         ],
         "y": [
          2771389.54705639,
          2828850.6803586474,
          2800323.0750027476,
          4084627.4613731606,
          7820053.19126467,
          2879863.5151817626,
          7793287.9866343625,
          2738941.7040702933,
          2864556.602243455,
          2835535.4917247454,
          2823562.2818913553,
          3209114.7126781275,
          2760313.136495469,
          3216760.9163525305,
          2808171.008735726,
          8591318.233126765,
          2893227.907486797,
          2820177.7559501575,
          2705340.71505905,
          2749909.5322649744,
          2764598.5239632707,
          2799076.437200103,
          2793532.161604263,
          4321084.282233993,
          2941908.170111563,
          2878031.6309995134,
          2830901.4730503717,
          2801249.561990264,
          2743484.760675463,
          2769802.919111955,
          3048901.8587022466,
          2893881.131546728,
          2763913.820492765,
          3022799.437915811,
          2671093.1977523025,
          2809721.4163215333,
          2808630.1733322856,
          2711699.6989013217,
          3163593.7535052155,
          2968229.344408481,
          2847852.667846081,
          2896374.8491524607,
          2721775.2635602327,
          6040586.541232653,
          2809733.624081936,
          2707656.823732388,
          3139463.5776301324,
          2759402.663647933,
          2771573.5810283944,
          2883755.340310045,
          2769040.418153854,
          2755474.666903227,
          2758617.776233199,
          2818622.8711271756,
          2820261.0088249627,
          3291528.7042844156,
          2877319.0182801997,
          2805600.5576999155,
          2815376.0036684186,
          2820689.140487201,
          2851483.695504159,
          2939618.1383451405,
          3519958.564386223,
          2787572.9071071683,
          3103954.9847588507,
          2846320.572108657,
          2775441.8503381205,
          2808085.014275838,
          2875213.269490926,
          2763755.3530457336,
          2817712.8965935153,
          4526837.825112425,
          3006069.4559125914,
          2849817.1254265867,
          3985456.4487696574,
          2825846.9454660225,
          5565334.56272841,
          2809112.579005754,
          3249772.9965049988,
          2904838.275264105,
          3859122.4796618638,
          2688163.18373561,
          2735471.530820504,
          2854415.3287837175,
          3865521.9359590644,
          2814719.038293603,
          2749480.571641716,
          2884802.5310928454,
          2916114.8854962047,
          2792312.8179389043,
          2857211.7891020337,
          3025570.7501859646,
          2867193.9663759596,
          2836882.8673816095,
          2845110.3331946163,
          2804151.655830702,
          3139065.3929603673,
          3062309.6722403606,
          2853989.993758583,
          4809822.403584868,
          3074509.5167377116,
          2765152.3636606564,
          2806657.154910067,
          2841490.28060421,
          2840653.137117336,
          2889723.392260752,
          5907210.482391849,
          2777989.4112648936,
          2839347.540409744,
          2761785.894352693,
          2889291.1051703286,
          2764128.8659543735,
          2827493.6599137653,
          2793226.4620776204,
          3214928.783628036,
          2700416.8484825776,
          2865489.6528433748,
          2782074.097209132,
          3729462.3574071378,
          2974238.4382917467,
          2776623.4797042697,
          2695271.8518346413,
          2752448.8216591873,
          2777938.9426869107,
          2717238.2098412137,
          2883353.8331968025,
          2754599.205069744,
          3213340.367180948,
          4036822.7601331305,
          2833908.46333214,
          2786326.938351134,
          2781242.9803740047,
          2987814.6375141894,
          2778067.254732973,
          2911129.690294802,
          2813000.703936466,
          2805834.876680111,
          2779079.319527162,
          2740068.553569728,
          2841461.3452108228,
          2839183.9979515276,
          2877869.8917551194,
          2813021.825644294,
          2745614.5452203364,
          2940228.1319692675,
          2981689.9138275906,
          2884613.592010951,
          2753920.2968334556,
          2882701.4570359834,
          2765707.211079689,
          2773078.1159782545,
          2847015.433273644,
          2865000.1697127223,
          2947464.7251566364,
          5060641.555747438,
          3147410.5802597776,
          2822294.49933927,
          2845476.553677149,
          2749686.195868835,
          2900946.9340806785,
          2808067.4514669604,
          2867434.157373766,
          2785868.207503063,
          3003297.4617143236,
          2781943.8769106553,
          2852637.227037775,
          2706815.7183362637,
          5541212.108945831,
          4694117.314107893,
          2746745.486757629,
          2794086.1381858983,
          2836368.5602969704,
          2768576.7218923722,
          8250833.133953602,
          3766288.8113796976,
          2823526.024635255,
          3103531.8920735503,
          3512599.8243266605,
          2838720.01519255,
          2827085.1330220066,
          2812207.045495328,
          2734991.343973242,
          2759560.65017926,
          3597908.444786157,
          2754946.6239484274,
          2778563.207683751,
          2740979.580643445,
          2854117.855949875,
          2793629.7878095456,
          2831947.1831981917,
          4762168.783907465,
          3109138.035932281,
          6058364.970562108,
          2682894.199457496,
          2831941.1986371265,
          2797155.974567706,
          2866350.9084206102,
          2760621.172054942,
          2720041.992477412,
          2975261.610713579
         ]
        }
       ],
       "layout": {
        "template": {
         "data": {
          "bar": [
           {
            "error_x": {
             "color": "#2a3f5f"
            },
            "error_y": {
             "color": "#2a3f5f"
            },
            "marker": {
             "line": {
              "color": "#E5ECF6",
              "width": 0.5
             }
            },
            "type": "bar"
           }
          ],
          "barpolar": [
           {
            "marker": {
             "line": {
              "color": "#E5ECF6",
              "width": 0.5
             }
            },
            "type": "barpolar"
           }
          ],
          "carpet": [
           {
            "aaxis": {
             "endlinecolor": "#2a3f5f",
             "gridcolor": "white",
             "linecolor": "white",
             "minorgridcolor": "white",
             "startlinecolor": "#2a3f5f"
            },
            "baxis": {
             "endlinecolor": "#2a3f5f",
             "gridcolor": "white",
             "linecolor": "white",
             "minorgridcolor": "white",
             "startlinecolor": "#2a3f5f"
            },
            "type": "carpet"
           }
          ],
          "choropleth": [
           {
            "colorbar": {
             "outlinewidth": 0,
             "ticks": ""
            },
            "type": "choropleth"
           }
          ],
          "contour": [
           {
            "colorbar": {
             "outlinewidth": 0,
             "ticks": ""
            },
            "colorscale": [
             [
              0,
              "#0d0887"
             ],
             [
              0.1111111111111111,
              "#46039f"
             ],
             [
              0.2222222222222222,
              "#7201a8"
             ],
             [
              0.3333333333333333,
              "#9c179e"
             ],
             [
              0.4444444444444444,
              "#bd3786"
             ],
             [
              0.5555555555555556,
              "#d8576b"
             ],
             [
              0.6666666666666666,
              "#ed7953"
             ],
             [
              0.7777777777777778,
              "#fb9f3a"
             ],
             [
              0.8888888888888888,
              "#fdca26"
             ],
             [
              1,
              "#f0f921"
             ]
            ],
            "type": "contour"
           }
          ],
          "contourcarpet": [
           {
            "colorbar": {
             "outlinewidth": 0,
             "ticks": ""
            },
            "type": "contourcarpet"
           }
          ],
          "heatmap": [
           {
            "colorbar": {
             "outlinewidth": 0,
             "ticks": ""
            },
            "colorscale": [
             [
              0,
              "#0d0887"
             ],
             [
              0.1111111111111111,
              "#46039f"
             ],
             [
              0.2222222222222222,
              "#7201a8"
             ],
             [
              0.3333333333333333,
              "#9c179e"
             ],
             [
              0.4444444444444444,
              "#bd3786"
             ],
             [
              0.5555555555555556,
              "#d8576b"
             ],
             [
              0.6666666666666666,
              "#ed7953"
             ],
             [
              0.7777777777777778,
              "#fb9f3a"
             ],
             [
              0.8888888888888888,
              "#fdca26"
             ],
             [
              1,
              "#f0f921"
             ]
            ],
            "type": "heatmap"
           }
          ],
          "heatmapgl": [
           {
            "colorbar": {
             "outlinewidth": 0,
             "ticks": ""
            },
            "colorscale": [
             [
              0,
              "#0d0887"
             ],
             [
              0.1111111111111111,
              "#46039f"
             ],
             [
              0.2222222222222222,
              "#7201a8"
             ],
             [
              0.3333333333333333,
              "#9c179e"
             ],
             [
              0.4444444444444444,
              "#bd3786"
             ],
             [
              0.5555555555555556,
              "#d8576b"
             ],
             [
              0.6666666666666666,
              "#ed7953"
             ],
             [
              0.7777777777777778,
              "#fb9f3a"
             ],
             [
              0.8888888888888888,
              "#fdca26"
             ],
             [
              1,
              "#f0f921"
             ]
            ],
            "type": "heatmapgl"
           }
          ],
          "histogram": [
           {
            "marker": {
             "colorbar": {
              "outlinewidth": 0,
              "ticks": ""
             }
            },
            "type": "histogram"
           }
          ],
          "histogram2d": [
           {
            "colorbar": {
             "outlinewidth": 0,
             "ticks": ""
            },
            "colorscale": [
             [
              0,
              "#0d0887"
             ],
             [
              0.1111111111111111,
              "#46039f"
             ],
             [
              0.2222222222222222,
              "#7201a8"
             ],
             [
              0.3333333333333333,
              "#9c179e"
             ],
             [
              0.4444444444444444,
              "#bd3786"
             ],
             [
              0.5555555555555556,
              "#d8576b"
             ],
             [
              0.6666666666666666,
              "#ed7953"
             ],
             [
              0.7777777777777778,
              "#fb9f3a"
             ],
             [
              0.8888888888888888,
              "#fdca26"
             ],
             [
              1,
              "#f0f921"
             ]
            ],
            "type": "histogram2d"
           }
          ],
          "histogram2dcontour": [
           {
            "colorbar": {
             "outlinewidth": 0,
             "ticks": ""
            },
            "colorscale": [
             [
              0,
              "#0d0887"
             ],
             [
              0.1111111111111111,
              "#46039f"
             ],
             [
              0.2222222222222222,
              "#7201a8"
             ],
             [
              0.3333333333333333,
              "#9c179e"
             ],
             [
              0.4444444444444444,
              "#bd3786"
             ],
             [
              0.5555555555555556,
              "#d8576b"
             ],
             [
              0.6666666666666666,
              "#ed7953"
             ],
             [
              0.7777777777777778,
              "#fb9f3a"
             ],
             [
              0.8888888888888888,
              "#fdca26"
             ],
             [
              1,
              "#f0f921"
             ]
            ],
            "type": "histogram2dcontour"
           }
          ],
          "mesh3d": [
           {
            "colorbar": {
             "outlinewidth": 0,
             "ticks": ""
            },
            "type": "mesh3d"
           }
          ],
          "parcoords": [
           {
            "line": {
             "colorbar": {
              "outlinewidth": 0,
              "ticks": ""
             }
            },
            "type": "parcoords"
           }
          ],
          "pie": [
           {
            "automargin": true,
            "type": "pie"
           }
          ],
          "scatter": [
           {
            "marker": {
             "colorbar": {
              "outlinewidth": 0,
              "ticks": ""
             }
            },
            "type": "scatter"
           }
          ],
          "scatter3d": [
           {
            "line": {
             "colorbar": {
              "outlinewidth": 0,
              "ticks": ""
             }
            },
            "marker": {
             "colorbar": {
              "outlinewidth": 0,
              "ticks": ""
             }
            },
            "type": "scatter3d"
           }
          ],
          "scattercarpet": [
           {
            "marker": {
             "colorbar": {
              "outlinewidth": 0,
              "ticks": ""
             }
            },
            "type": "scattercarpet"
           }
          ],
          "scattergeo": [
           {
            "marker": {
             "colorbar": {
              "outlinewidth": 0,
              "ticks": ""
             }
            },
            "type": "scattergeo"
           }
          ],
          "scattergl": [
           {
            "marker": {
             "colorbar": {
              "outlinewidth": 0,
              "ticks": ""
             }
            },
            "type": "scattergl"
           }
          ],
          "scattermapbox": [
           {
            "marker": {
             "colorbar": {
              "outlinewidth": 0,
              "ticks": ""
             }
            },
            "type": "scattermapbox"
           }
          ],
          "scatterpolar": [
           {
            "marker": {
             "colorbar": {
              "outlinewidth": 0,
              "ticks": ""
             }
            },
            "type": "scatterpolar"
           }
          ],
          "scatterpolargl": [
           {
            "marker": {
             "colorbar": {
              "outlinewidth": 0,
              "ticks": ""
             }
            },
            "type": "scatterpolargl"
           }
          ],
          "scatterternary": [
           {
            "marker": {
             "colorbar": {
              "outlinewidth": 0,
              "ticks": ""
             }
            },
            "type": "scatterternary"
           }
          ],
          "surface": [
           {
            "colorbar": {
             "outlinewidth": 0,
             "ticks": ""
            },
            "colorscale": [
             [
              0,
              "#0d0887"
             ],
             [
              0.1111111111111111,
              "#46039f"
             ],
             [
              0.2222222222222222,
              "#7201a8"
             ],
             [
              0.3333333333333333,
              "#9c179e"
             ],
             [
              0.4444444444444444,
              "#bd3786"
             ],
             [
              0.5555555555555556,
              "#d8576b"
             ],
             [
              0.6666666666666666,
              "#ed7953"
             ],
             [
              0.7777777777777778,
              "#fb9f3a"
             ],
             [
              0.8888888888888888,
              "#fdca26"
             ],
             [
              1,
              "#f0f921"
             ]
            ],
            "type": "surface"
           }
          ],
          "table": [
           {
            "cells": {
             "fill": {
              "color": "#EBF0F8"
             },
             "line": {
              "color": "white"
             }
            },
            "header": {
             "fill": {
              "color": "#C8D4E3"
             },
             "line": {
              "color": "white"
             }
            },
            "type": "table"
           }
          ]
         },
         "layout": {
          "annotationdefaults": {
           "arrowcolor": "#2a3f5f",
           "arrowhead": 0,
           "arrowwidth": 1
          },
          "coloraxis": {
           "colorbar": {
            "outlinewidth": 0,
            "ticks": ""
           }
          },
          "colorscale": {
           "diverging": [
            [
             0,
             "#8e0152"
            ],
            [
             0.1,
             "#c51b7d"
            ],
            [
             0.2,
             "#de77ae"
            ],
            [
             0.3,
             "#f1b6da"
            ],
            [
             0.4,
             "#fde0ef"
            ],
            [
             0.5,
             "#f7f7f7"
            ],
            [
             0.6,
             "#e6f5d0"
            ],
            [
             0.7,
             "#b8e186"
            ],
            [
             0.8,
             "#7fbc41"
            ],
            [
             0.9,
             "#4d9221"
            ],
            [
             1,
             "#276419"
            ]
           ],
           "sequential": [
            [
             0,
             "#0d0887"
            ],
            [
             0.1111111111111111,
             "#46039f"
            ],
            [
             0.2222222222222222,
             "#7201a8"
            ],
            [
             0.3333333333333333,
             "#9c179e"
            ],
            [
             0.4444444444444444,
             "#bd3786"
            ],
            [
             0.5555555555555556,
             "#d8576b"
            ],
            [
             0.6666666666666666,
             "#ed7953"
            ],
            [
             0.7777777777777778,
             "#fb9f3a"
            ],
            [
             0.8888888888888888,
             "#fdca26"
            ],
            [
             1,
             "#f0f921"
            ]
           ],
           "sequentialminus": [
            [
             0,
             "#0d0887"
            ],
            [
             0.1111111111111111,
             "#46039f"
            ],
            [
             0.2222222222222222,
             "#7201a8"
            ],
            [
             0.3333333333333333,
             "#9c179e"
            ],
            [
             0.4444444444444444,
             "#bd3786"
            ],
            [
             0.5555555555555556,
             "#d8576b"
            ],
            [
             0.6666666666666666,
             "#ed7953"
            ],
            [
             0.7777777777777778,
             "#fb9f3a"
            ],
            [
             0.8888888888888888,
             "#fdca26"
            ],
            [
             1,
             "#f0f921"
            ]
           ]
          },
          "colorway": [
           "#636efa",
           "#EF553B",
           "#00cc96",
           "#ab63fa",
           "#FFA15A",
           "#19d3f3",
           "#FF6692",
           "#B6E880",
           "#FF97FF",
           "#FECB52"
          ],
          "font": {
           "color": "#2a3f5f"
          },
          "geo": {
           "bgcolor": "white",
           "lakecolor": "white",
           "landcolor": "#E5ECF6",
           "showlakes": true,
           "showland": true,
           "subunitcolor": "white"
          },
          "hoverlabel": {
           "align": "left"
          },
          "hovermode": "closest",
          "mapbox": {
           "style": "light"
          },
          "paper_bgcolor": "white",
          "plot_bgcolor": "#E5ECF6",
          "polar": {
           "angularaxis": {
            "gridcolor": "white",
            "linecolor": "white",
            "ticks": ""
           },
           "bgcolor": "#E5ECF6",
           "radialaxis": {
            "gridcolor": "white",
            "linecolor": "white",
            "ticks": ""
           }
          },
          "scene": {
           "xaxis": {
            "backgroundcolor": "#E5ECF6",
            "gridcolor": "white",
            "gridwidth": 2,
            "linecolor": "white",
            "showbackground": true,
            "ticks": "",
            "zerolinecolor": "white"
           },
           "yaxis": {
            "backgroundcolor": "#E5ECF6",
            "gridcolor": "white",
            "gridwidth": 2,
            "linecolor": "white",
            "showbackground": true,
            "ticks": "",
            "zerolinecolor": "white"
           },
           "zaxis": {
            "backgroundcolor": "#E5ECF6",
            "gridcolor": "white",
            "gridwidth": 2,
            "linecolor": "white",
            "showbackground": true,
            "ticks": "",
            "zerolinecolor": "white"
           }
          },
          "shapedefaults": {
           "line": {
            "color": "#2a3f5f"
           }
          },
          "ternary": {
           "aaxis": {
            "gridcolor": "white",
            "linecolor": "white",
            "ticks": ""
           },
           "baxis": {
            "gridcolor": "white",
            "linecolor": "white",
            "ticks": ""
           },
           "bgcolor": "#E5ECF6",
           "caxis": {
            "gridcolor": "white",
            "linecolor": "white",
            "ticks": ""
           }
          },
          "title": {
           "x": 0.05
          },
          "xaxis": {
           "automargin": true,
           "gridcolor": "white",
           "linecolor": "white",
           "ticks": "",
           "title": {
            "standoff": 15
           },
           "zerolinecolor": "white",
           "zerolinewidth": 2
          },
          "yaxis": {
           "automargin": true,
           "gridcolor": "white",
           "linecolor": "white",
           "ticks": "",
           "title": {
            "standoff": 15
           },
           "zerolinecolor": "white",
           "zerolinewidth": 2
          }
         }
        },
        "title": {
         "text": "Tasa de aprendizaje DART"
        },
        "xaxis": {
         "title": {
          "text": "Tasa de aprendizaje"
         }
        },
        "yaxis": {
         "title": {
          "text": "MAE"
         }
        }
       }
      },
      "text/html": [
       "<div>                            <div id=\"85716b57-3728-4623-af51-d47011e48def\" class=\"plotly-graph-div\" style=\"height:525px; width:100%;\"></div>            <script type=\"text/javascript\">                require([\"plotly\"], function(Plotly) {                    window.PLOTLYENV=window.PLOTLYENV || {};                                    if (document.getElementById(\"85716b57-3728-4623-af51-d47011e48def\")) {                    Plotly.newPlot(                        \"85716b57-3728-4623-af51-d47011e48def\",                        [{\"mode\": \"markers\", \"type\": \"scatter\", \"x\": [0.6309631502723161, 0.6261437921518064, 0.6605095896353974, 0.7790515634134325, 0.5576900077221616, 0.746248754970331, 0.6108762199668393, 0.6689547193167924, 0.42427869026440584, 0.7521237487195027, 0.538862815649421, 0.5072885600441149, 0.5189053992864171, 0.7706571174056578, 0.4030516628609142, 0.5917480662704182, 0.7949227325898522, 0.7690007626073337, 0.4073729320675923, 0.5866370350252932, 0.5308453440095936, 0.5010203729028659, 0.6371277939343969, 0.7095019636853954, 0.7670258340269179, 0.4724528519828355, 0.6397418691977084, 0.7418616423009734, 0.6989262638643985, 0.52712608855881, 0.7883295138827046, 0.572561242850036, 0.5487978995060951, 0.5514362844148065, 0.4151061569602352, 0.5311797248696096, 0.7308128401751304, 0.45617785903986247, 0.5453491015777179, 0.7784630595840183, 0.6517795799003818, 0.7202782529279665, 0.4608860181567309, 0.541344190238497, 0.6393091270118555, 0.46026714250216594, 0.466442705875327, 0.5262834395852327, 0.5457979974815585, 0.6422216609284661, 0.514140500459418, 0.4397834892373141, 0.43429255317535204, 0.6726847454234349, 0.696673033767582, 0.7428504392130664, 0.6743757051454609, 0.7459613210817209, 0.6215540936199309, 0.7114026813302944, 0.6641370394681447, 0.47026775872327903, 0.6295654563188018, 0.45153919136801157, 0.6191845295927486, 0.6331727628691382, 0.5775073758709071, 0.7396829967925875, 0.6815039030366172, 0.5041032203794268, 0.7477820635154874, 0.6433749160044486, 0.6220547548587538, 0.43807964175750747, 0.7116601327134492, 0.6741684817109126, 0.586152272057772, 0.5793635952428122, 0.47975964673058363, 0.477114762407774, 0.585258922237295, 0.5163881203688262, 0.6078738005710907, 0.7852188604563308, 0.7042454665150669, 0.6558891941515829, 0.6216281579032806, 0.7256243977409113, 0.4961947854379827, 0.4729067509773721, 0.47201374814191716, 0.4401803637120284, 0.7280505619653539, 0.6621552740453158, 0.7867141884899373, 0.6930221641705995, 0.7799322175596534, 0.7630223703482413, 0.7181211646653939, 0.5384414155232977, 0.4022206027530335, 0.5973722153822657, 0.7474412237003805, 0.7376113411516473, 0.6209188779411139, 0.5200309678642797, 0.5030051867497876, 0.5184297050803653, 0.7539705431640984, 0.6912567201471547, 0.7941256277750544, 0.6457349012832982, 0.607347808384465, 0.641682348935569, 0.4741375196752563, 0.42687175748450223, 0.7665009665417137, 0.5079407260280053, 0.5356059938723389, 0.6421690038383191, 0.5942153451672982, 0.5065358882939008, 0.47392811455731776, 0.57470649567359, 0.4027782901756997, 0.7245368505992781, 0.5668732861534779, 0.5757614833473238, 0.7446783469544085, 0.7424980108129249, 0.7030757716211158, 0.7060397264701246, 0.7980425484576548, 0.6580851093751421, 0.7512024466695426, 0.6684241635452327, 0.6438960979504372, 0.5980777701534146, 0.5098625856932346, 0.567571965945153, 0.7720073711822546, 0.7487864588749185, 0.510090154495753, 0.5101015733856977, 0.7311707838010227, 0.597444892879448, 0.604883696047772, 0.47684605625474047, 0.7899887116290132, 0.4434885133446326, 0.4459766953303849, 0.7612191217451544, 0.46040089770527637, 0.48658601399705537, 0.7551349717819165, 0.7537394488515243, 0.48456186783230104, 0.6401851857074446, 0.4953311321519416, 0.718313024619945, 0.5449551709080523, 0.5384864616097453, 0.6909241279037681, 0.40174793286325994, 0.6767139699560301, 0.5496952219097354, 0.40989724078713025, 0.7080225711851678, 0.4319533712378058, 0.4892104380777602, 0.5754033469750222, 0.7198012351300154, 0.7152566525404749, 0.43530407216588657, 0.7298691140536334, 0.6858066993334564, 0.5621026279869238, 0.5140003460168094, 0.7834957038578519, 0.5008177733724356, 0.6376334949720427, 0.4118623132187498, 0.40654463949520997, 0.7464821839655171, 0.5081678177234373, 0.5332484144107006, 0.42761642821222395, 0.5803222200915847, 0.47885161231352136, 0.6802660840414139, 0.4097930544734896, 0.6185994941653314, 0.7014212626136577, 0.556495387599427, 0.5055747451925976, 0.676720607487135, 0.79918390545644, 0.7342700476615003, 0.4525403608090224, 0.504893808760817], \"y\": [2771389.54705639, 2828850.6803586474, 2800323.0750027476, 4084627.4613731606, 7820053.19126467, 2879863.5151817626, 7793287.9866343625, 2738941.7040702933, 2864556.602243455, 2835535.4917247454, 2823562.2818913553, 3209114.7126781275, 2760313.136495469, 3216760.9163525305, 2808171.008735726, 8591318.233126765, 2893227.907486797, 2820177.7559501575, 2705340.71505905, 2749909.5322649744, 2764598.5239632707, 2799076.437200103, 2793532.161604263, 4321084.282233993, 2941908.170111563, 2878031.6309995134, 2830901.4730503717, 2801249.561990264, 2743484.760675463, 2769802.919111955, 3048901.8587022466, 2893881.131546728, 2763913.820492765, 3022799.437915811, 2671093.1977523025, 2809721.4163215333, 2808630.1733322856, 2711699.6989013217, 3163593.7535052155, 2968229.344408481, 2847852.667846081, 2896374.8491524607, 2721775.2635602327, 6040586.541232653, 2809733.624081936, 2707656.823732388, 3139463.5776301324, 2759402.663647933, 2771573.5810283944, 2883755.340310045, 2769040.418153854, 2755474.666903227, 2758617.776233199, 2818622.8711271756, 2820261.0088249627, 3291528.7042844156, 2877319.0182801997, 2805600.5576999155, 2815376.0036684186, 2820689.140487201, 2851483.695504159, 2939618.1383451405, 3519958.564386223, 2787572.9071071683, 3103954.9847588507, 2846320.572108657, 2775441.8503381205, 2808085.014275838, 2875213.269490926, 2763755.3530457336, 2817712.8965935153, 4526837.825112425, 3006069.4559125914, 2849817.1254265867, 3985456.4487696574, 2825846.9454660225, 5565334.56272841, 2809112.579005754, 3249772.9965049988, 2904838.275264105, 3859122.4796618638, 2688163.18373561, 2735471.530820504, 2854415.3287837175, 3865521.9359590644, 2814719.038293603, 2749480.571641716, 2884802.5310928454, 2916114.8854962047, 2792312.8179389043, 2857211.7891020337, 3025570.7501859646, 2867193.9663759596, 2836882.8673816095, 2845110.3331946163, 2804151.655830702, 3139065.3929603673, 3062309.6722403606, 2853989.993758583, 4809822.403584868, 3074509.5167377116, 2765152.3636606564, 2806657.154910067, 2841490.28060421, 2840653.137117336, 2889723.392260752, 5907210.482391849, 2777989.4112648936, 2839347.540409744, 2761785.894352693, 2889291.1051703286, 2764128.8659543735, 2827493.6599137653, 2793226.4620776204, 3214928.783628036, 2700416.8484825776, 2865489.6528433748, 2782074.097209132, 3729462.3574071378, 2974238.4382917467, 2776623.4797042697, 2695271.8518346413, 2752448.8216591873, 2777938.9426869107, 2717238.2098412137, 2883353.8331968025, 2754599.205069744, 3213340.367180948, 4036822.7601331305, 2833908.46333214, 2786326.938351134, 2781242.9803740047, 2987814.6375141894, 2778067.254732973, 2911129.690294802, 2813000.703936466, 2805834.876680111, 2779079.319527162, 2740068.553569728, 2841461.3452108228, 2839183.9979515276, 2877869.8917551194, 2813021.825644294, 2745614.5452203364, 2940228.1319692675, 2981689.9138275906, 2884613.592010951, 2753920.2968334556, 2882701.4570359834, 2765707.211079689, 2773078.1159782545, 2847015.433273644, 2865000.1697127223, 2947464.7251566364, 5060641.555747438, 3147410.5802597776, 2822294.49933927, 2845476.553677149, 2749686.195868835, 2900946.9340806785, 2808067.4514669604, 2867434.157373766, 2785868.207503063, 3003297.4617143236, 2781943.8769106553, 2852637.227037775, 2706815.7183362637, 5541212.108945831, 4694117.314107893, 2746745.486757629, 2794086.1381858983, 2836368.5602969704, 2768576.7218923722, 8250833.133953602, 3766288.8113796976, 2823526.024635255, 3103531.8920735503, 3512599.8243266605, 2838720.01519255, 2827085.1330220066, 2812207.045495328, 2734991.343973242, 2759560.65017926, 3597908.444786157, 2754946.6239484274, 2778563.207683751, 2740979.580643445, 2854117.855949875, 2793629.7878095456, 2831947.1831981917, 4762168.783907465, 3109138.035932281, 6058364.970562108, 2682894.199457496, 2831941.1986371265, 2797155.974567706, 2866350.9084206102, 2760621.172054942, 2720041.992477412, 2975261.610713579]}],                        {\"template\": {\"data\": {\"bar\": [{\"error_x\": {\"color\": \"#2a3f5f\"}, \"error_y\": {\"color\": \"#2a3f5f\"}, \"marker\": {\"line\": {\"color\": \"#E5ECF6\", \"width\": 0.5}}, \"type\": \"bar\"}], \"barpolar\": [{\"marker\": {\"line\": {\"color\": \"#E5ECF6\", \"width\": 0.5}}, \"type\": \"barpolar\"}], \"carpet\": [{\"aaxis\": {\"endlinecolor\": \"#2a3f5f\", \"gridcolor\": \"white\", \"linecolor\": \"white\", \"minorgridcolor\": \"white\", \"startlinecolor\": \"#2a3f5f\"}, \"baxis\": {\"endlinecolor\": \"#2a3f5f\", \"gridcolor\": \"white\", \"linecolor\": \"white\", \"minorgridcolor\": \"white\", \"startlinecolor\": \"#2a3f5f\"}, \"type\": \"carpet\"}], \"choropleth\": [{\"colorbar\": {\"outlinewidth\": 0, \"ticks\": \"\"}, \"type\": \"choropleth\"}], \"contour\": [{\"colorbar\": {\"outlinewidth\": 0, \"ticks\": \"\"}, \"colorscale\": [[0.0, \"#0d0887\"], [0.1111111111111111, \"#46039f\"], [0.2222222222222222, \"#7201a8\"], [0.3333333333333333, \"#9c179e\"], [0.4444444444444444, \"#bd3786\"], [0.5555555555555556, \"#d8576b\"], [0.6666666666666666, \"#ed7953\"], [0.7777777777777778, \"#fb9f3a\"], [0.8888888888888888, \"#fdca26\"], [1.0, \"#f0f921\"]], \"type\": \"contour\"}], \"contourcarpet\": [{\"colorbar\": {\"outlinewidth\": 0, \"ticks\": \"\"}, \"type\": \"contourcarpet\"}], \"heatmap\": [{\"colorbar\": {\"outlinewidth\": 0, \"ticks\": \"\"}, \"colorscale\": [[0.0, \"#0d0887\"], [0.1111111111111111, \"#46039f\"], [0.2222222222222222, \"#7201a8\"], [0.3333333333333333, \"#9c179e\"], [0.4444444444444444, \"#bd3786\"], [0.5555555555555556, \"#d8576b\"], [0.6666666666666666, \"#ed7953\"], [0.7777777777777778, \"#fb9f3a\"], [0.8888888888888888, \"#fdca26\"], [1.0, \"#f0f921\"]], \"type\": \"heatmap\"}], \"heatmapgl\": [{\"colorbar\": {\"outlinewidth\": 0, \"ticks\": \"\"}, \"colorscale\": [[0.0, \"#0d0887\"], [0.1111111111111111, \"#46039f\"], [0.2222222222222222, \"#7201a8\"], [0.3333333333333333, \"#9c179e\"], [0.4444444444444444, \"#bd3786\"], [0.5555555555555556, \"#d8576b\"], [0.6666666666666666, \"#ed7953\"], [0.7777777777777778, \"#fb9f3a\"], [0.8888888888888888, \"#fdca26\"], [1.0, \"#f0f921\"]], \"type\": \"heatmapgl\"}], \"histogram\": [{\"marker\": {\"colorbar\": {\"outlinewidth\": 0, \"ticks\": \"\"}}, \"type\": \"histogram\"}], \"histogram2d\": [{\"colorbar\": {\"outlinewidth\": 0, \"ticks\": \"\"}, \"colorscale\": [[0.0, \"#0d0887\"], [0.1111111111111111, \"#46039f\"], [0.2222222222222222, \"#7201a8\"], [0.3333333333333333, \"#9c179e\"], [0.4444444444444444, \"#bd3786\"], [0.5555555555555556, \"#d8576b\"], [0.6666666666666666, \"#ed7953\"], [0.7777777777777778, \"#fb9f3a\"], [0.8888888888888888, \"#fdca26\"], [1.0, \"#f0f921\"]], \"type\": \"histogram2d\"}], \"histogram2dcontour\": [{\"colorbar\": {\"outlinewidth\": 0, \"ticks\": \"\"}, \"colorscale\": [[0.0, \"#0d0887\"], [0.1111111111111111, \"#46039f\"], [0.2222222222222222, \"#7201a8\"], [0.3333333333333333, \"#9c179e\"], [0.4444444444444444, \"#bd3786\"], [0.5555555555555556, \"#d8576b\"], [0.6666666666666666, \"#ed7953\"], [0.7777777777777778, \"#fb9f3a\"], [0.8888888888888888, \"#fdca26\"], [1.0, \"#f0f921\"]], \"type\": \"histogram2dcontour\"}], \"mesh3d\": [{\"colorbar\": {\"outlinewidth\": 0, \"ticks\": \"\"}, \"type\": \"mesh3d\"}], \"parcoords\": [{\"line\": {\"colorbar\": {\"outlinewidth\": 0, \"ticks\": \"\"}}, \"type\": \"parcoords\"}], \"pie\": [{\"automargin\": true, \"type\": \"pie\"}], \"scatter\": [{\"marker\": {\"colorbar\": {\"outlinewidth\": 0, \"ticks\": \"\"}}, \"type\": \"scatter\"}], \"scatter3d\": [{\"line\": {\"colorbar\": {\"outlinewidth\": 0, \"ticks\": \"\"}}, \"marker\": {\"colorbar\": {\"outlinewidth\": 0, \"ticks\": \"\"}}, \"type\": \"scatter3d\"}], \"scattercarpet\": [{\"marker\": {\"colorbar\": {\"outlinewidth\": 0, \"ticks\": \"\"}}, \"type\": \"scattercarpet\"}], \"scattergeo\": [{\"marker\": {\"colorbar\": {\"outlinewidth\": 0, \"ticks\": \"\"}}, \"type\": \"scattergeo\"}], \"scattergl\": [{\"marker\": {\"colorbar\": {\"outlinewidth\": 0, \"ticks\": \"\"}}, \"type\": \"scattergl\"}], \"scattermapbox\": [{\"marker\": {\"colorbar\": {\"outlinewidth\": 0, \"ticks\": \"\"}}, \"type\": \"scattermapbox\"}], \"scatterpolar\": [{\"marker\": {\"colorbar\": {\"outlinewidth\": 0, \"ticks\": \"\"}}, \"type\": \"scatterpolar\"}], \"scatterpolargl\": [{\"marker\": {\"colorbar\": {\"outlinewidth\": 0, \"ticks\": \"\"}}, \"type\": \"scatterpolargl\"}], \"scatterternary\": [{\"marker\": {\"colorbar\": {\"outlinewidth\": 0, \"ticks\": \"\"}}, \"type\": \"scatterternary\"}], \"surface\": [{\"colorbar\": {\"outlinewidth\": 0, \"ticks\": \"\"}, \"colorscale\": [[0.0, \"#0d0887\"], [0.1111111111111111, \"#46039f\"], [0.2222222222222222, \"#7201a8\"], [0.3333333333333333, \"#9c179e\"], [0.4444444444444444, \"#bd3786\"], [0.5555555555555556, \"#d8576b\"], [0.6666666666666666, \"#ed7953\"], [0.7777777777777778, \"#fb9f3a\"], [0.8888888888888888, \"#fdca26\"], [1.0, \"#f0f921\"]], \"type\": \"surface\"}], \"table\": [{\"cells\": {\"fill\": {\"color\": \"#EBF0F8\"}, \"line\": {\"color\": \"white\"}}, \"header\": {\"fill\": {\"color\": \"#C8D4E3\"}, \"line\": {\"color\": \"white\"}}, \"type\": \"table\"}]}, \"layout\": {\"annotationdefaults\": {\"arrowcolor\": \"#2a3f5f\", \"arrowhead\": 0, \"arrowwidth\": 1}, \"coloraxis\": {\"colorbar\": {\"outlinewidth\": 0, \"ticks\": \"\"}}, \"colorscale\": {\"diverging\": [[0, \"#8e0152\"], [0.1, \"#c51b7d\"], [0.2, \"#de77ae\"], [0.3, \"#f1b6da\"], [0.4, \"#fde0ef\"], [0.5, \"#f7f7f7\"], [0.6, \"#e6f5d0\"], [0.7, \"#b8e186\"], [0.8, \"#7fbc41\"], [0.9, \"#4d9221\"], [1, \"#276419\"]], \"sequential\": [[0.0, \"#0d0887\"], [0.1111111111111111, \"#46039f\"], [0.2222222222222222, \"#7201a8\"], [0.3333333333333333, \"#9c179e\"], [0.4444444444444444, \"#bd3786\"], [0.5555555555555556, \"#d8576b\"], [0.6666666666666666, \"#ed7953\"], [0.7777777777777778, \"#fb9f3a\"], [0.8888888888888888, \"#fdca26\"], [1.0, \"#f0f921\"]], \"sequentialminus\": [[0.0, \"#0d0887\"], [0.1111111111111111, \"#46039f\"], [0.2222222222222222, \"#7201a8\"], [0.3333333333333333, \"#9c179e\"], [0.4444444444444444, \"#bd3786\"], [0.5555555555555556, \"#d8576b\"], [0.6666666666666666, \"#ed7953\"], [0.7777777777777778, \"#fb9f3a\"], [0.8888888888888888, \"#fdca26\"], [1.0, \"#f0f921\"]]}, \"colorway\": [\"#636efa\", \"#EF553B\", \"#00cc96\", \"#ab63fa\", \"#FFA15A\", \"#19d3f3\", \"#FF6692\", \"#B6E880\", \"#FF97FF\", \"#FECB52\"], \"font\": {\"color\": \"#2a3f5f\"}, \"geo\": {\"bgcolor\": \"white\", \"lakecolor\": \"white\", \"landcolor\": \"#E5ECF6\", \"showlakes\": true, \"showland\": true, \"subunitcolor\": \"white\"}, \"hoverlabel\": {\"align\": \"left\"}, \"hovermode\": \"closest\", \"mapbox\": {\"style\": \"light\"}, \"paper_bgcolor\": \"white\", \"plot_bgcolor\": \"#E5ECF6\", \"polar\": {\"angularaxis\": {\"gridcolor\": \"white\", \"linecolor\": \"white\", \"ticks\": \"\"}, \"bgcolor\": \"#E5ECF6\", \"radialaxis\": {\"gridcolor\": \"white\", \"linecolor\": \"white\", \"ticks\": \"\"}}, \"scene\": {\"xaxis\": {\"backgroundcolor\": \"#E5ECF6\", \"gridcolor\": \"white\", \"gridwidth\": 2, \"linecolor\": \"white\", \"showbackground\": true, \"ticks\": \"\", \"zerolinecolor\": \"white\"}, \"yaxis\": {\"backgroundcolor\": \"#E5ECF6\", \"gridcolor\": \"white\", \"gridwidth\": 2, \"linecolor\": \"white\", \"showbackground\": true, \"ticks\": \"\", \"zerolinecolor\": \"white\"}, \"zaxis\": {\"backgroundcolor\": \"#E5ECF6\", \"gridcolor\": \"white\", \"gridwidth\": 2, \"linecolor\": \"white\", \"showbackground\": true, \"ticks\": \"\", \"zerolinecolor\": \"white\"}}, \"shapedefaults\": {\"line\": {\"color\": \"#2a3f5f\"}}, \"ternary\": {\"aaxis\": {\"gridcolor\": \"white\", \"linecolor\": \"white\", \"ticks\": \"\"}, \"baxis\": {\"gridcolor\": \"white\", \"linecolor\": \"white\", \"ticks\": \"\"}, \"bgcolor\": \"#E5ECF6\", \"caxis\": {\"gridcolor\": \"white\", \"linecolor\": \"white\", \"ticks\": \"\"}}, \"title\": {\"x\": 0.05}, \"xaxis\": {\"automargin\": true, \"gridcolor\": \"white\", \"linecolor\": \"white\", \"ticks\": \"\", \"title\": {\"standoff\": 15}, \"zerolinecolor\": \"white\", \"zerolinewidth\": 2}, \"yaxis\": {\"automargin\": true, \"gridcolor\": \"white\", \"linecolor\": \"white\", \"ticks\": \"\", \"title\": {\"standoff\": 15}, \"zerolinecolor\": \"white\", \"zerolinewidth\": 2}}}, \"title\": {\"text\": \"Tasa de aprendizaje DART\"}, \"xaxis\": {\"title\": {\"text\": \"Tasa de aprendizaje\"}}, \"yaxis\": {\"title\": {\"text\": \"MAE\"}}},                        {\"responsive\": true}                    ).then(function(){\n",
       "                            \n",
       "var gd = document.getElementById('85716b57-3728-4623-af51-d47011e48def');\n",
       "var x = new MutationObserver(function (mutations, observer) {{\n",
       "        var display = window.getComputedStyle(gd).display;\n",
       "        if (!display || display === 'none') {{\n",
       "            console.log([gd, 'removed!']);\n",
       "            Plotly.purge(gd);\n",
       "            observer.disconnect();\n",
       "        }}\n",
       "}});\n",
       "\n",
       "// Listen for the removal of the full notebook cells\n",
       "var notebookContainer = gd.closest('#notebook-container');\n",
       "if (notebookContainer) {{\n",
       "    x.observe(notebookContainer, {childList: true});\n",
       "}}\n",
       "\n",
       "// Listen for the clearing of the current output cell\n",
       "var outputEl = gd.closest('.output');\n",
       "if (outputEl) {{\n",
       "    x.observe(outputEl, {childList: true});\n",
       "}}\n",
       "\n",
       "                        })                };                });            </script>        </div>"
      ]
     },
     "metadata": {},
     "output_type": "display_data"
    }
   ],
   "source": [
    "fig = go.Figure(data=go.Scatter(x = lr_dart2, y = mae_dart2, mode='markers'))\n",
    "fig.update_layout(\n",
    "    title = \"Tasa de aprendizaje DART\",\n",
    "    xaxis_title = \"Tasa de aprendizaje\",\n",
    "    yaxis_title = \"MAE\")\n",
    "fig.show()"
   ]
  },
  {
   "cell_type": "markdown",
   "metadata": {},
   "source": [
    "## Intentando hacer esto de unir vectores de características"
   ]
  },
  {
   "cell_type": "code",
   "execution_count": 3,
   "metadata": {},
   "outputs": [
    {
     "data": {
      "text/html": [
       "<div>\n",
       "<style scoped>\n",
       "    .dataframe tbody tr th:only-of-type {\n",
       "        vertical-align: middle;\n",
       "    }\n",
       "\n",
       "    .dataframe tbody tr th {\n",
       "        vertical-align: top;\n",
       "    }\n",
       "\n",
       "    .dataframe thead th {\n",
       "        text-align: right;\n",
       "    }\n",
       "</style>\n",
       "<table border=\"1\" class=\"dataframe\">\n",
       "  <thead>\n",
       "    <tr style=\"text-align: right;\">\n",
       "      <th></th>\n",
       "      <th>segment_id</th>\n",
       "      <th>sensor_1_zcr</th>\n",
       "      <th>sensor_2_zcr</th>\n",
       "      <th>sensor_3_zcr</th>\n",
       "      <th>sensor_4_zcr</th>\n",
       "      <th>sensor_5_zcr</th>\n",
       "      <th>sensor_6_zcr</th>\n",
       "      <th>sensor_7_zcr</th>\n",
       "      <th>sensor_8_zcr</th>\n",
       "      <th>sensor_9_zcr</th>\n",
       "      <th>...</th>\n",
       "      <th>sensor_4_nanmax</th>\n",
       "      <th>sensor_5_nanmax</th>\n",
       "      <th>sensor_6_nanmax</th>\n",
       "      <th>sensor_7_nanmax</th>\n",
       "      <th>sensor_8_nanmax</th>\n",
       "      <th>sensor_9_nanmax</th>\n",
       "      <th>sensor_10_nanmax</th>\n",
       "      <th>sensor_3_nanstd</th>\n",
       "      <th>sensor_9_nanstd</th>\n",
       "      <th>time_to_eruption</th>\n",
       "    </tr>\n",
       "  </thead>\n",
       "  <tbody>\n",
       "    <tr>\n",
       "      <th>0</th>\n",
       "      <td>405613802</td>\n",
       "      <td>1860</td>\n",
       "      <td>7504</td>\n",
       "      <td>1</td>\n",
       "      <td>2743</td>\n",
       "      <td>7464</td>\n",
       "      <td>2289</td>\n",
       "      <td>1090</td>\n",
       "      <td>4336</td>\n",
       "      <td>1</td>\n",
       "      <td>...</td>\n",
       "      <td>4.547</td>\n",
       "      <td>0.000</td>\n",
       "      <td>3.508</td>\n",
       "      <td>5.664</td>\n",
       "      <td>4.190</td>\n",
       "      <td>4.656</td>\n",
       "      <td>5.168</td>\n",
       "      <td>1.000092</td>\n",
       "      <td>1.000023</td>\n",
       "      <td>13060214</td>\n",
       "    </tr>\n",
       "    <tr>\n",
       "      <th>1</th>\n",
       "      <td>1343997378</td>\n",
       "      <td>2789</td>\n",
       "      <td>6060</td>\n",
       "      <td>7927</td>\n",
       "      <td>3858</td>\n",
       "      <td>6396</td>\n",
       "      <td>5135</td>\n",
       "      <td>7378</td>\n",
       "      <td>4192</td>\n",
       "      <td>4644</td>\n",
       "      <td>...</td>\n",
       "      <td>10.660</td>\n",
       "      <td>7.203</td>\n",
       "      <td>5.438</td>\n",
       "      <td>5.984</td>\n",
       "      <td>9.240</td>\n",
       "      <td>6.734</td>\n",
       "      <td>6.805</td>\n",
       "      <td>0.999839</td>\n",
       "      <td>1.000197</td>\n",
       "      <td>33135705</td>\n",
       "    </tr>\n",
       "    <tr>\n",
       "      <th>2</th>\n",
       "      <td>866792357</td>\n",
       "      <td>5669</td>\n",
       "      <td>6563</td>\n",
       "      <td>2855</td>\n",
       "      <td>3745</td>\n",
       "      <td>4907</td>\n",
       "      <td>13508</td>\n",
       "      <td>2344</td>\n",
       "      <td>9929</td>\n",
       "      <td>3020</td>\n",
       "      <td>...</td>\n",
       "      <td>8.110</td>\n",
       "      <td>17.730</td>\n",
       "      <td>4.490</td>\n",
       "      <td>15.160</td>\n",
       "      <td>14.920</td>\n",
       "      <td>7.570</td>\n",
       "      <td>8.164</td>\n",
       "      <td>1.000040</td>\n",
       "      <td>1.000089</td>\n",
       "      <td>11377813</td>\n",
       "    </tr>\n",
       "    <tr>\n",
       "      <th>3</th>\n",
       "      <td>1979931149</td>\n",
       "      <td>3249</td>\n",
       "      <td>1</td>\n",
       "      <td>3523</td>\n",
       "      <td>5089</td>\n",
       "      <td>7417</td>\n",
       "      <td>14501</td>\n",
       "      <td>8011</td>\n",
       "      <td>10864</td>\n",
       "      <td>3985</td>\n",
       "      <td>...</td>\n",
       "      <td>4.580</td>\n",
       "      <td>4.960</td>\n",
       "      <td>4.863</td>\n",
       "      <td>5.027</td>\n",
       "      <td>5.970</td>\n",
       "      <td>4.438</td>\n",
       "      <td>4.375</td>\n",
       "      <td>1.000236</td>\n",
       "      <td>0.999990</td>\n",
       "      <td>18567908</td>\n",
       "    </tr>\n",
       "    <tr>\n",
       "      <th>4</th>\n",
       "      <td>1577280457</td>\n",
       "      <td>2561</td>\n",
       "      <td>7583</td>\n",
       "      <td>2031</td>\n",
       "      <td>3764</td>\n",
       "      <td>304</td>\n",
       "      <td>3685</td>\n",
       "      <td>3140</td>\n",
       "      <td>3433</td>\n",
       "      <td>8944</td>\n",
       "      <td>...</td>\n",
       "      <td>5.770</td>\n",
       "      <td>7.390</td>\n",
       "      <td>11.410</td>\n",
       "      <td>4.715</td>\n",
       "      <td>6.703</td>\n",
       "      <td>7.414</td>\n",
       "      <td>5.490</td>\n",
       "      <td>0.999960</td>\n",
       "      <td>1.000242</td>\n",
       "      <td>1162779</td>\n",
       "    </tr>\n",
       "  </tbody>\n",
       "</table>\n",
       "<p>5 rows × 132 columns</p>\n",
       "</div>"
      ],
      "text/plain": [
       "   segment_id  sensor_1_zcr  sensor_2_zcr  sensor_3_zcr  sensor_4_zcr  \\\n",
       "0   405613802          1860          7504             1          2743   \n",
       "1  1343997378          2789          6060          7927          3858   \n",
       "2   866792357          5669          6563          2855          3745   \n",
       "3  1979931149          3249             1          3523          5089   \n",
       "4  1577280457          2561          7583          2031          3764   \n",
       "\n",
       "   sensor_5_zcr  sensor_6_zcr  sensor_7_zcr  sensor_8_zcr  sensor_9_zcr  ...  \\\n",
       "0          7464          2289          1090          4336             1  ...   \n",
       "1          6396          5135          7378          4192          4644  ...   \n",
       "2          4907         13508          2344          9929          3020  ...   \n",
       "3          7417         14501          8011         10864          3985  ...   \n",
       "4           304          3685          3140          3433          8944  ...   \n",
       "\n",
       "   sensor_4_nanmax  sensor_5_nanmax  sensor_6_nanmax  sensor_7_nanmax  \\\n",
       "0            4.547            0.000            3.508            5.664   \n",
       "1           10.660            7.203            5.438            5.984   \n",
       "2            8.110           17.730            4.490           15.160   \n",
       "3            4.580            4.960            4.863            5.027   \n",
       "4            5.770            7.390           11.410            4.715   \n",
       "\n",
       "   sensor_8_nanmax  sensor_9_nanmax  sensor_10_nanmax  sensor_3_nanstd  \\\n",
       "0            4.190            4.656             5.168         1.000092   \n",
       "1            9.240            6.734             6.805         0.999839   \n",
       "2           14.920            7.570             8.164         1.000040   \n",
       "3            5.970            4.438             4.375         1.000236   \n",
       "4            6.703            7.414             5.490         0.999960   \n",
       "\n",
       "   sensor_9_nanstd  time_to_eruption  \n",
       "0         1.000023          13060214  \n",
       "1         1.000197          33135705  \n",
       "2         1.000089          11377813  \n",
       "3         0.999990          18567908  \n",
       "4         1.000242           1162779  \n",
       "\n",
       "[5 rows x 132 columns]"
      ]
     },
     "execution_count": 3,
     "metadata": {},
     "output_type": "execute_result"
    }
   ],
   "source": [
    "# Con las estadísticas de señales\n",
    "char_señales = pd.read_csv(\"../csvs/stats_per_file_signal_train2.csv\")\n",
    "char_estadisticas = pd.read_csv(\"../csvs/stats_per_file3.csv\")\n",
    "char = char_señales.join(char_estadisticas.set_index(\"segment_id\"), on = \"segment_id\")\n",
    "train = pd.read_csv(\"/home/oscar/Escritorio/predict-volcanic-eruptions-ingv-oe/train.csv\")\n",
    "datos_time2 = char.join(train.set_index(\"segment_id\"), on = \"segment_id\")\n",
    "datos_time2.fillna(0, inplace = True)\n",
    "datos_time2.replace(np.inf, 0, inplace = True)\n",
    "datos_time2.replace(-np.inf, 0, inplace = True)\n",
    "datos_time2.head()"
   ]
  },
  {
   "cell_type": "code",
   "execution_count": 4,
   "metadata": {},
   "outputs": [],
   "source": [
    "from sklearn.decomposition import PCA\n",
    "\n",
    "X3 = datos_time2.iloc[:, 1:-1].values\n",
    "y3 = datos_time2.iloc[:, -1].values\n",
    "pca = PCA(n_components = 10)\n",
    "principalComponents = pca.fit_transform(X3)\n",
    "#X_train3, X_test3, y_train3, y_test3 = train_test_split(principalComponents, y3, test_size = 0.25, random_state = 0)\n",
    "X_train3, X_test3, y_train3, y_test3 = train_test_split(X3, y3, test_size = 0.25, random_state = 0)"
   ]
  },
  {
   "cell_type": "code",
   "execution_count": 5,
   "metadata": {},
   "outputs": [
    {
     "name": "stdout",
     "output_type": "stream",
     "text": [
      "iteration number 0\n",
      "{'learning_rate': 0.6638528320223085, 'boosting_type': 'dart', 'objective': 'regression', 'metric': 'mae', 'sub_feature': 0.04512156150557034, 'num_leaves': 134, 'min_data': 20, 'max_depth': 161, 'verbose': -1}\n",
      "MAE: 5399820.111465914\n",
      "--------------------\n",
      "iteration number 1\n",
      "{'learning_rate': 0.6709065725586647, 'boosting_type': 'dart', 'objective': 'regression', 'metric': 'mae', 'sub_feature': 0.5606567952248405, 'num_leaves': 197, 'min_data': 28, 'max_depth': 105, 'verbose': -1}\n",
      "MAE: 2994083.3477419997\n",
      "--------------------\n",
      "iteration number 2\n",
      "{'learning_rate': 0.5894467990783017, 'boosting_type': 'dart', 'objective': 'regression', 'metric': 'mae', 'sub_feature': 0.17029515262628903, 'num_leaves': 68, 'min_data': 8, 'max_depth': 224, 'verbose': -1}\n",
      "MAE: 3432424.1641732715\n",
      "--------------------\n",
      "iteration number 3\n",
      "{'learning_rate': 0.5039679549019, 'boosting_type': 'dart', 'objective': 'regression', 'metric': 'mae', 'sub_feature': 0.8482696995898675, 'num_leaves': 233, 'min_data': 29, 'max_depth': 269, 'verbose': -1}\n",
      "MAE: 2965252.43193516\n",
      "--------------------\n",
      "iteration number 4\n",
      "{'learning_rate': 0.7236994116109938, 'boosting_type': 'dart', 'objective': 'regression', 'metric': 'mae', 'sub_feature': 0.3322242176442941, 'num_leaves': 132, 'min_data': 44, 'max_depth': 285, 'verbose': -1}\n",
      "MAE: 3132804.71914225\n",
      "--------------------\n",
      "iteration number 5\n",
      "{'learning_rate': 0.5006952902754535, 'boosting_type': 'dart', 'objective': 'regression', 'metric': 'mae', 'sub_feature': 0.7431963405039189, 'num_leaves': 144, 'min_data': 34, 'max_depth': 221, 'verbose': -1}\n",
      "MAE: 2948940.093836611\n",
      "--------------------\n",
      "iteration number 6\n",
      "{'learning_rate': 0.717377185780895, 'boosting_type': 'dart', 'objective': 'regression', 'metric': 'mae', 'sub_feature': 0.7775514889878378, 'num_leaves': 210, 'min_data': 31, 'max_depth': 33, 'verbose': -1}\n",
      "MAE: 3158247.8767223856\n",
      "--------------------\n",
      "iteration number 7\n",
      "{'learning_rate': 0.4490576882100999, 'boosting_type': 'dart', 'objective': 'regression', 'metric': 'mae', 'sub_feature': 0.18246782972982134, 'num_leaves': 297, 'min_data': 16, 'max_depth': 30, 'verbose': -1}\n",
      "MAE: 3396556.521493255\n",
      "--------------------\n",
      "iteration number 8\n",
      "{'learning_rate': 0.5500097576754692, 'boosting_type': 'dart', 'objective': 'regression', 'metric': 'mae', 'sub_feature': 0.7671565567351543, 'num_leaves': 50, 'min_data': 33, 'max_depth': 183, 'verbose': -1}\n",
      "MAE: 3013066.196621356\n",
      "--------------------\n",
      "iteration number 9\n",
      "{'learning_rate': 0.7816564232166224, 'boosting_type': 'dart', 'objective': 'regression', 'metric': 'mae', 'sub_feature': 0.038851704774136464, 'num_leaves': 106, 'min_data': 9, 'max_depth': 287, 'verbose': -1}\n",
      "MAE: 5613165.938806333\n",
      "--------------------\n",
      "MAE: 2948940.093836611\n",
      "Parámetros: {'learning_rate': 0.5006952902754535, 'boosting_type': 'dart', 'objective': 'regression', 'metric': 'mae', 'sub_feature': 0.7431963405039189, 'num_leaves': 144, 'min_data': 34, 'max_depth': 221, 'verbose': -1}\n",
      "CPU times: user 33min 22s, sys: 5.12 s, total: 33min 27s\n",
      "Wall time: 4min 14s\n"
     ]
    }
   ],
   "source": [
    "%%time\n",
    "maes3, pars3, minimo3, pp3 = random_search(X_train3, y_train3, X_test3, y_test3, its = 10, iters = 5000)\n",
    "print(f\"MAE: {minimo3}\")\n",
    "print(f\"Parámetros: {pp3}\")"
   ]
  },
  {
   "cell_type": "code",
   "execution_count": 105,
   "metadata": {},
   "outputs": [],
   "source": [
    "pca = PCA(n_components = 10)\n",
    "principalComponents = pca.fit_transform(X3)\n",
    "X_train4, X_test4, y_train4, y_test4 = train_test_split(principalComponents, y, test_size = 0.25, random_state = 0)\n"
   ]
  },
  {
   "cell_type": "code",
   "execution_count": 106,
   "metadata": {},
   "outputs": [
    {
     "name": "stdout",
     "output_type": "stream",
     "text": [
      "iteration number 0\n",
      "{'learning_rate': 0.640131488460717, 'boosting_type': 'dart', 'objective': 'regression', 'metric': 'mae', 'sub_feature': 0.19931923775962967, 'num_leaves': 220, 'min_data': 25, 'max_depth': 226, 'verbose': -1} 10000\n",
      "MAE: 5970567.638243632\n",
      "--------------------\n",
      "iteration number 1\n",
      "{'learning_rate': 0.6390634854423681, 'boosting_type': 'dart', 'objective': 'regression', 'metric': 'mae', 'sub_feature': 0.9911455201420419, 'num_leaves': 175, 'min_data': 5, 'max_depth': 40, 'verbose': -1} 10000\n",
      "MAE: 3624676.455161284\n",
      "--------------------\n",
      "iteration number 2\n",
      "{'learning_rate': 0.6609067898552232, 'boosting_type': 'dart', 'objective': 'regression', 'metric': 'mae', 'sub_feature': 0.8972459531054943, 'num_leaves': 161, 'min_data': 40, 'max_depth': 210, 'verbose': -1} 10000\n",
      "MAE: 3700628.488743663\n",
      "--------------------\n",
      "iteration number 3\n",
      "{'learning_rate': 0.616934775765042, 'boosting_type': 'dart', 'objective': 'regression', 'metric': 'mae', 'sub_feature': 0.7872557460811838, 'num_leaves': 238, 'min_data': 10, 'max_depth': 52, 'verbose': -1} 10000\n",
      "MAE: 3601658.393258538\n",
      "--------------------\n",
      "iteration number 4\n",
      "{'learning_rate': 0.6772726388665239, 'boosting_type': 'dart', 'objective': 'regression', 'metric': 'mae', 'sub_feature': 0.6937742219570285, 'num_leaves': 178, 'min_data': 17, 'max_depth': 71, 'verbose': -1} 10000\n",
      "MAE: 3670296.7045509354\n",
      "--------------------\n",
      "iteration number 5\n",
      "{'learning_rate': 0.6693565447228562, 'boosting_type': 'dart', 'objective': 'regression', 'metric': 'mae', 'sub_feature': 0.5281826032486464, 'num_leaves': 38, 'min_data': 20, 'max_depth': 215, 'verbose': -1} 10000\n",
      "MAE: 3955632.031383394\n",
      "--------------------\n",
      "iteration number 6\n",
      "{'learning_rate': 0.7891860627078666, 'boosting_type': 'dart', 'objective': 'regression', 'metric': 'mae', 'sub_feature': 0.8405270448990103, 'num_leaves': 61, 'min_data': 45, 'max_depth': 83, 'verbose': -1} 10000\n",
      "MAE: 3728370.3107818984\n",
      "--------------------\n",
      "iteration number 7\n",
      "{'learning_rate': 0.6558618517246865, 'boosting_type': 'dart', 'objective': 'regression', 'metric': 'mae', 'sub_feature': 0.5943653986645389, 'num_leaves': 246, 'min_data': 37, 'max_depth': 135, 'verbose': -1} 10000\n",
      "MAE: 3817977.3265275997\n",
      "--------------------\n",
      "iteration number 8\n",
      "{'learning_rate': 0.5114542418987622, 'boosting_type': 'dart', 'objective': 'regression', 'metric': 'mae', 'sub_feature': 0.8329360571613231, 'num_leaves': 65, 'min_data': 45, 'max_depth': 15, 'verbose': -1} 10000\n",
      "MAE: 3748528.2087885328\n",
      "--------------------\n",
      "iteration number 9\n",
      "{'learning_rate': 0.41809386416945293, 'boosting_type': 'dart', 'objective': 'regression', 'metric': 'mae', 'sub_feature': 0.15875749582595744, 'num_leaves': 126, 'min_data': 11, 'max_depth': 73, 'verbose': -1} 10000\n",
      "MAE: 6250133.450535541\n",
      "--------------------\n",
      "MAE: 2908589.459145968\n",
      "Parámetros: {'learning_rate': 0.427996016804614, 'boosting_type': 'dart', 'objective': 'regression', 'metric': 'mae', 'sub_feature': 0.9486477094898723, 'num_leaves': 135, 'min_data': 49, 'max_depth': 49, 'verbose': -1}\n",
      "CPU times: user 45min 58s, sys: 6.28 s, total: 46min 4s\n",
      "Wall time: 5min 50s\n"
     ]
    }
   ],
   "source": [
    "%%time\n",
    "maes4, pars4, minimo4, pp4 = random_search(X_train4, y_train4, X_test4, y_test4, its = 10)\n",
    "print(f\"MAE: {minimo3}\")\n",
    "print(f\"Parámetros: {pp3}\")"
   ]
  },
  {
   "cell_type": "code",
   "execution_count": null,
   "metadata": {},
   "outputs": [],
   "source": []
  }
 ],
 "metadata": {
  "@webio": {
   "lastCommId": null,
   "lastKernelId": null
  },
  "kernelspec": {
   "display_name": "Python 3",
   "language": "python",
   "name": "python3"
  },
  "language_info": {
   "codemirror_mode": {
    "name": "ipython",
    "version": 3
   },
   "file_extension": ".py",
   "mimetype": "text/x-python",
   "name": "python",
   "nbconvert_exporter": "python",
   "pygments_lexer": "ipython3",
   "version": "3.8.5"
  }
 },
 "nbformat": 4,
 "nbformat_minor": 4
}
