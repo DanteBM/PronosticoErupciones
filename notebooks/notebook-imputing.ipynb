{
 "cells": [
  {
   "cell_type": "code",
   "execution_count": 1,
   "metadata": {},
   "outputs": [],
   "source": [
    "import os\n",
    "\n",
    "import pandas as pd\n",
    "import numpy as np\n",
    "\n",
    "from scipy.interpolate import UnivariateSpline\n",
    "\n",
    "import statsmodels as sm\n",
    "from statsmodels.tsa.ar_model import AutoReg, ar_select_order\n",
    "from statsmodels.tsa.holtwinters import ExponentialSmoothing, SimpleExpSmoothing\n",
    "from statsmodels.tsa import stattools\n",
    "\n",
    "import matplotlib.pyplot as plt"
   ]
  },
  {
   "cell_type": "code",
   "execution_count": 2,
   "metadata": {},
   "outputs": [
    {
     "data": {
      "text/html": [
       "<div>\n",
       "<style scoped>\n",
       "    .dataframe tbody tr th:only-of-type {\n",
       "        vertical-align: middle;\n",
       "    }\n",
       "\n",
       "    .dataframe tbody tr th {\n",
       "        vertical-align: top;\n",
       "    }\n",
       "\n",
       "    .dataframe thead th {\n",
       "        text-align: right;\n",
       "    }\n",
       "</style>\n",
       "<table border=\"1\" class=\"dataframe\">\n",
       "  <thead>\n",
       "    <tr style=\"text-align: right;\">\n",
       "      <th></th>\n",
       "      <th>count</th>\n",
       "      <th>mean</th>\n",
       "      <th>std</th>\n",
       "      <th>min</th>\n",
       "      <th>max</th>\n",
       "    </tr>\n",
       "  </thead>\n",
       "  <tbody>\n",
       "    <tr>\n",
       "      <th>sensor_1</th>\n",
       "      <td>265864431.0</td>\n",
       "      <td>0.025250</td>\n",
       "      <td>203.303099</td>\n",
       "      <td>-1171.0</td>\n",
       "      <td>1278.0</td>\n",
       "    </tr>\n",
       "    <tr>\n",
       "      <th>sensor_2</th>\n",
       "      <td>265864431.0</td>\n",
       "      <td>-0.431776</td>\n",
       "      <td>418.222197</td>\n",
       "      <td>-4759.0</td>\n",
       "      <td>4118.0</td>\n",
       "    </tr>\n",
       "    <tr>\n",
       "      <th>sensor_3</th>\n",
       "      <td>265864431.0</td>\n",
       "      <td>0.233829</td>\n",
       "      <td>178.179004</td>\n",
       "      <td>-1288.0</td>\n",
       "      <td>1212.0</td>\n",
       "    </tr>\n",
       "    <tr>\n",
       "      <th>sensor_4</th>\n",
       "      <td>265864431.0</td>\n",
       "      <td>0.281562</td>\n",
       "      <td>200.602547</td>\n",
       "      <td>-1280.0</td>\n",
       "      <td>1532.0</td>\n",
       "    </tr>\n",
       "    <tr>\n",
       "      <th>sensor_5</th>\n",
       "      <td>265864431.0</td>\n",
       "      <td>-0.000650</td>\n",
       "      <td>161.583577</td>\n",
       "      <td>-1225.0</td>\n",
       "      <td>1370.0</td>\n",
       "    </tr>\n",
       "    <tr>\n",
       "      <th>sensor_6</th>\n",
       "      <td>265864431.0</td>\n",
       "      <td>0.044916</td>\n",
       "      <td>299.005016</td>\n",
       "      <td>-3226.0</td>\n",
       "      <td>2575.0</td>\n",
       "    </tr>\n",
       "    <tr>\n",
       "      <th>sensor_7</th>\n",
       "      <td>265864431.0</td>\n",
       "      <td>4.590190</td>\n",
       "      <td>204.956910</td>\n",
       "      <td>-986.0</td>\n",
       "      <td>983.0</td>\n",
       "    </tr>\n",
       "    <tr>\n",
       "      <th>sensor_8</th>\n",
       "      <td>265864431.0</td>\n",
       "      <td>-2.975500</td>\n",
       "      <td>247.542130</td>\n",
       "      <td>-934.0</td>\n",
       "      <td>1060.0</td>\n",
       "    </tr>\n",
       "    <tr>\n",
       "      <th>sensor_9</th>\n",
       "      <td>265864431.0</td>\n",
       "      <td>2.170547</td>\n",
       "      <td>196.562165</td>\n",
       "      <td>-1210.0</td>\n",
       "      <td>1316.0</td>\n",
       "    </tr>\n",
       "    <tr>\n",
       "      <th>sensor_10</th>\n",
       "      <td>265864431.0</td>\n",
       "      <td>-120.953801</td>\n",
       "      <td>937.478541</td>\n",
       "      <td>-3743.0</td>\n",
       "      <td>3229.0</td>\n",
       "    </tr>\n",
       "  </tbody>\n",
       "</table>\n",
       "</div>"
      ],
      "text/plain": [
       "                 count        mean         std     min     max\n",
       "sensor_1   265864431.0    0.025250  203.303099 -1171.0  1278.0\n",
       "sensor_2   265864431.0   -0.431776  418.222197 -4759.0  4118.0\n",
       "sensor_3   265864431.0    0.233829  178.179004 -1288.0  1212.0\n",
       "sensor_4   265864431.0    0.281562  200.602547 -1280.0  1532.0\n",
       "sensor_5   265864431.0   -0.000650  161.583577 -1225.0  1370.0\n",
       "sensor_6   265864431.0    0.044916  299.005016 -3226.0  2575.0\n",
       "sensor_7   265864431.0    4.590190  204.956910  -986.0   983.0\n",
       "sensor_8   265864431.0   -2.975500  247.542130  -934.0  1060.0\n",
       "sensor_9   265864431.0    2.170547  196.562165 -1210.0  1316.0\n",
       "sensor_10  265864431.0 -120.953801  937.478541 -3743.0  3229.0"
      ]
     },
     "execution_count": 2,
     "metadata": {},
     "output_type": "execute_result"
    }
   ],
   "source": [
    "whole_stats = pd.read_csv(\"csvs/whole_stats.csv\")\n",
    "whole_stats.rename(lambda n:f\"sensor_{n+1}\", inplace=True)\n",
    "whole_stats"
   ]
  },
  {
   "cell_type": "markdown",
   "metadata": {},
   "source": [
    "# Análisis de series de tiempo\n",
    "\n",
    "![](imgs/amps-1.png)\n",
    "\n",
    "## Tendencia\n",
    "\n",
    "En este caso es cero, porque la media no cambia con el tiempo (o sea no va subiendo y/o bajando)\n",
    "\n",
    "\n",
    "## Periodicidad\n",
    "\n",
    "Se puede encontrar con una gráfica de autocorrelación. Consiste en calcular la correlación respecto los datos y estos mismo pero desplazados una cierta cantidad de unidades en el tiempo. Correlaciones altas indican posibles periodos"
   ]
  },
  {
   "cell_type": "code",
   "execution_count": 16,
   "metadata": {},
   "outputs": [
    {
     "data": {
      "text/plain": [
       "<matplotlib.collections.PathCollection at 0x7f2168fbc100>"
      ]
     },
     "execution_count": 16,
     "metadata": {},
     "output_type": "execute_result"
    },
    {
     "data": {
      "image/png": "[encoded data removed]",
      "text/plain": [
       "<Figure size 432x288 with 1 Axes>"
      ]
     },
     "metadata": {
      "needs_background": "light"
     },
     "output_type": "display_data"
    }
   ],
   "source": [
    "autocorrelation = stattools.acf(df.sensor_1, nlags=40, fft=False)\n",
    "\n",
    "plt.plot(autocorrelation)\n",
    "plt.scatter(np.arange(0,41), autocorrelation)"
   ]
  },
  {
   "cell_type": "code",
   "execution_count": 17,
   "metadata": {},
   "outputs": [
    {
     "data": {
      "text/plain": [
       "array(1)"
      ]
     },
     "execution_count": 17,
     "metadata": {},
     "output_type": "execute_result"
    }
   ],
   "source": [
    "higher_correlation = np.sort(autocorrelation)[-2]\n",
    "np.argwhere(autocorrelation == higher_correlation).squeeze()"
   ]
  },
  {
   "cell_type": "code",
   "execution_count": 18,
   "metadata": {},
   "outputs": [],
   "source": [
    "serie1 = df.sensor_1\n",
    "train, test = serie1.iloc[:40000], serie1.iloc[40000:]"
   ]
  },
  {
   "cell_type": "code",
   "execution_count": 19,
   "metadata": {},
   "outputs": [],
   "source": [
    "holtwinters = ExponentialSmoothing(train, trend=None, seasonal=\"add\", seasonal_periods=2, \n",
    "                                   initialization_method=\"estimated\").fit(optimized=True)"
   ]
  },
  {
   "cell_type": "code",
   "execution_count": 20,
   "metadata": {},
   "outputs": [],
   "source": [
    "pred = holtwinters.predict(start=test.index[0], end=test.index[-1])"
   ]
  },
  {
   "cell_type": "code",
   "execution_count": 21,
   "metadata": {},
   "outputs": [
    {
     "data": {
      "text/plain": [
       "<matplotlib.legend.Legend at 0x7f2168f05d00>"
      ]
     },
     "execution_count": 21,
     "metadata": {},
     "output_type": "execute_result"
    },
    {
     "data": {
      "image/png": "[encoded data removed]",
      "text/plain": [
       "<Figure size 432x288 with 1 Axes>"
      ]
     },
     "metadata": {
      "needs_background": "light"
     },
     "output_type": "display_data"
    }
   ],
   "source": [
    "plt.plot(train.index,train, label=\"train\")\n",
    "plt.plot(test.index,test,label=\"test\")\n",
    "plt.plot( pred, label=\"pred\")\n",
    "#plt.xlim((3000,3500))\n",
    "#plt.ylim((-10,10))\n",
    "plt.legend()"
   ]
  },
  {
   "cell_type": "code",
   "execution_count": 9,
   "metadata": {},
   "outputs": [],
   "source": [
    "from time import time"
   ]
  },
  {
   "cell_type": "code",
   "execution_count": 10,
   "metadata": {},
   "outputs": [
    {
     "data": {
      "text/plain": [
       "sensor_1        0\n",
       "sensor_2        0\n",
       "sensor_3        0\n",
       "sensor_4        0\n",
       "sensor_5     2880\n",
       "sensor_6        0\n",
       "sensor_7        0\n",
       "sensor_8        0\n",
       "sensor_9        0\n",
       "sensor_10       0\n",
       "dtype: int64"
      ]
     },
     "execution_count": 10,
     "metadata": {},
     "output_type": "execute_result"
    }
   ],
   "source": [
    "train_filenames = os.listdir(\"train\")\n",
    "train_filenames = [filename for filename in train_filenames if \".csv\" in filename]\n",
    "\n",
    "df = pd.read_csv(\"train/\"+train_filenames[11])\n",
    "#df.head()\n",
    "\n",
    "df.isna().sum(axis=0)"
   ]
  },
  {
   "cell_type": "markdown",
   "metadata": {},
   "source": [
    "# Imputación de los valores faltantes\n",
    "\n",
    "La estrategia original, pero posiblemente la que no se usará\n",
    "\n",
    "* Si el sensor carece de **todos** los valores, rellenar con la media\n",
    "* De lo contrario\n",
    "    * Si hay valores nulos en los primeras observaciones, rellenar con la media\n",
    "    * Identificar índice del primer dato que no es nulo en la serie. Lo mismo para el último. Si hay nulos de por medio, rellenar con una **interpolación** por splines\n",
    "    * Para el resto de nulos, rellenarlos por media de un modelo de Holt - Winters"
   ]
  },
  {
   "cell_type": "code",
   "execution_count": 11,
   "metadata": {},
   "outputs": [],
   "source": [
    "def impute_df(df, whole_stats):\n",
    "    \"\"\"Impute missing values from dataframe with time-series data\n",
    "    If the whole column is missing, the mean is used\n",
    "    If the first values of the series are missing, the mean is used as well\n",
    "    if there are nans between non-nans data, a spline is used to interpolate\n",
    "    If the last values of the series are missing, a holt-winters model is fit and used to impute\n",
    "    \n",
    "    Parameters:\n",
    "        df: pd.DataFrame\n",
    "        The dataframe whose misising values will be imputed\n",
    "        \n",
    "        whole_stats: pd.DataFrame\n",
    "        Dataframe with stadistics of sensors with the name of the stadistics as the index\n",
    "        \n",
    "    returns:\n",
    "        df: pd.DataFrame\n",
    "        The dataframe with missing values imputed\n",
    "    \"\"\"\n",
    "    nrows, ncols = df.shape\n",
    "    nans_per_sensor = df.isna().sum(axis=0)\n",
    "    for sensor in df.columns:\n",
    "        n_nans = nans_per_sensor[sensor]\n",
    "        data = df[sensor].values\n",
    "        if n_nans == nrows or n_nans/n_rows < 0.5: \n",
    "            sensor_mean = whole_stats.loc[sensor,\"mean\"]\n",
    "            df[sensor].fillna(sensor_mean, inplace=True)\n",
    "        elif 0 < n_nans: # some values are missing\n",
    "            t0 = time()\n",
    "            not_nan_indexes = np.argwhere(~np.isnan(data)).squeeze()\n",
    "            first_not_nan_index = not_nan_indexes[0]\n",
    "            last_not_nan_index = not_nan_indexes[-1]\n",
    "            if first_not_nan_index != 0:  # imputing first values with mean\n",
    "                data[:first_not_nan_index] = whole_stats.loc[sensor,\"mean\"]\n",
    "            print(\"Imputed first part\", time() - t0)\n",
    "                \n",
    "            if not_nan_indexes[1:-1].size > 2:  # Imputing with interpolation\n",
    "                t0 = time()\n",
    "                nan_mask = np.isnan(data)\n",
    "                not_nan_indexes = np.argwhere(~nan_mask).squeeze()\n",
    "                #print(not_nan_indexes.shape)\n",
    "                #print(data[~nan_mask].shape)\n",
    "                xp = not_nan_indexes\n",
    "                yp = data[~nan_mask]\n",
    "                spline = UnivariateSpline(xp,yp, k=2)\n",
    "                x_interp = np.argwhere(nan_mask).squeeze()\n",
    "                y_interp = spline(x_interp)\n",
    "                data[nan_mask] = y_interp\n",
    "                print(\"interpolated\", time() - t0)\n",
    "            \n",
    "            if last_not_nan_index != nrows: # Imputing with holt-winters model\n",
    "                t0 = time()\n",
    "                nan_mask = np.isnan(data)\n",
    "                autocorrelation = stattools.acf(data[~nan_mask], nlags=40, fft=False)\n",
    "                higher_correlation = np.sort(autocorrelation)[-2]\n",
    "                period = np.argwhere(autocorrelation == higher_correlation).squeeze() + 1\n",
    "                holtwinters = ExponentialSmoothing(data[~nan_mask], trend=None, seasonal=\"add\", \n",
    "                                                   seasonal_periods=period, \n",
    "                                                   initialization_method=\"estimated\").fit(optimized=True)\n",
    "                #print(last_not_nan_index)\n",
    "                forecasting = holtwinters.predict(start=last_not_nan_index+1, end=nrows-1)\n",
    "                #print(forecasting.shape)\n",
    "                #print(nan_mask.sum())\n",
    "                data[last_not_nan_index+1:] = forecasting\n",
    "                print(\"forecasted\", time() - t0)\n",
    "\n",
    "        else: # There are no nans\n",
    "            pass\n",
    "        df[sensor] = data\n",
    "        \n",
    "    return df"
   ]
  },
  {
   "cell_type": "markdown",
   "metadata": {},
   "source": [
    "El problema estriba principalmente en que si la serie tiene pocos datos faltantes y estos se encuentren de por medio, se imputarán por interpolación, y encontrar los splines para la gran cantidad de puntos toma hasta 3 minutos por sensor. "
   ]
  },
  {
   "cell_type": "markdown",
   "metadata": {},
   "source": [
    "-----------\n",
    "# Imputando datos (más rápido)\n",
    "\n",
    "La implementación pasada es mejor, pero hay algunos casos donde se tardaba bastante, haciendolo posiblemente no viable\n",
    "\n",
    "La implementación que se presenta es más sencilla, la estrategia para rellenar nulos es la siguiente:\n",
    "\n",
    "Primeramente se imputa con la media de `whole_stats.csv`.\n",
    "* Si el sensor carece de **todos** los valores, pues se rellena todo\n",
    "* De lo contrario, se llena algunos nulos de tal manera que se pueda dividir la serie en dos partes contiguas: no nulos y nulos (en ese orden). Los nulos restantes se estiman con un modelo de Holt - Winters."
   ]
  },
  {
   "cell_type": "code",
   "execution_count": 12,
   "metadata": {},
   "outputs": [],
   "source": [
    "def impute_df(df, whole_stats):\n",
    "    \"\"\"Impute missing values from dataframe with time-series data\n",
    "    The mean will be used as value to impute the df from the beginning\n",
    "    until it reaches the last non-nan data value, then, a holt-winters model\n",
    "    is fitted to impute the remaining values.\n",
    "    \n",
    "    Parameters:\n",
    "        df: pd.DataFrame\n",
    "        The dataframe whose misising values will be imputed\n",
    "        \n",
    "        whole_stats: pd.DataFrame\n",
    "        Dataframe with stadistics of sensors with the name of the stadistics as the index\n",
    "        \n",
    "    returns:\n",
    "        df: pd.DataFrame\n",
    "        The dataframe with missing values imputed\n",
    "    \"\"\"\n",
    "    nrows, ncols = df.shape\n",
    "    nans_per_sensor = df.isna().sum(axis=0)\n",
    "    for sensor in df.columns:\n",
    "        n_nans = nans_per_sensor[sensor]\n",
    "        if n_nans:\n",
    "            mean = whole_stats.loc[sensor,\"mean\"]\n",
    "            if n_nans == nrows:\n",
    "                df[sensor].fillna(mean, inplace=True)\n",
    "    \n",
    "            else:\n",
    "                data = df[sensor].values\n",
    "                nan_mask = np.isnan(data)\n",
    "                not_nan_indexes = np.argwhere(~nan_mask).squeeze()\n",
    "                first_not_nan_index = not_nan_indexes[0]\n",
    "                last_not_nan_index = not_nan_indexes[-1]\n",
    "                nans_batch1 = nan_mask.copy()\n",
    "                nans_batch1[last_not_nan_index+1:] = False\n",
    "                data[nans_batch1] = mean\n",
    "                \n",
    "                # holt winters\n",
    "                if last_not_nan_index != nrows-1:\n",
    "                    #print(first_not_nan_index,last_not_nan_index)\n",
    "                    autocorrelation = stattools.acf(data[:last_not_nan_index], nlags=40, fft=False)\n",
    "                    higher_correlation = np.sort(autocorrelation)[-2]\n",
    "                    period = np.argwhere(autocorrelation == higher_correlation).squeeze() + 1\n",
    "                    holtwinters = ExponentialSmoothing(data[:last_not_nan_index], trend=None, seasonal=\"add\", \n",
    "                                                       seasonal_periods=period, \n",
    "                                                       initialization_method=\"estimated\").fit(optimized=True)\n",
    "                    #print(last_not_nan_index)\n",
    "                    forecasting = holtwinters.predict(start=last_not_nan_index+1, end=nrows-1)\n",
    "                    #print(forecasting.shape)\n",
    "                    #print(nan_mask.sum())\n",
    "                    data[last_not_nan_index+1:] = forecasting\n",
    "    \n",
    "                df[sensor] = data\n",
    "        \n",
    "    return df"
   ]
  },
  {
   "cell_type": "code",
   "execution_count": 19,
   "metadata": {},
   "outputs": [
    {
     "name": "stdout",
     "output_type": "stream",
     "text": [
      "CPU times: user 5.9 ms, sys: 0 ns, total: 5.9 ms\n",
      "Wall time: 5.43 ms\n"
     ]
    }
   ],
   "source": [
    "%%time\n",
    "df2 = impute_df(df, whole_stats)"
   ]
  },
  {
   "cell_type": "code",
   "execution_count": 15,
   "metadata": {},
   "outputs": [
    {
     "name": "stderr",
     "output_type": "stream",
     "text": [
      "/home/dante/miniconda3/envs/erupciones/lib/python3.8/site-packages/statsmodels/tsa/holtwinters/model.py:920: ConvergenceWarning: Optimization failed to converge. Check mle_retvals.\n",
      "  warnings.warn(\n",
      "/home/dante/miniconda3/envs/erupciones/lib/python3.8/site-packages/statsmodels/tsa/holtwinters/model.py:920: ConvergenceWarning: Optimization failed to converge. Check mle_retvals.\n",
      "  warnings.warn(\n"
     ]
    },
    {
     "name": "stdout",
     "output_type": "stream",
     "text": [
      "file 100\n"
     ]
    },
    {
     "name": "stderr",
     "output_type": "stream",
     "text": [
      "/home/dante/miniconda3/envs/erupciones/lib/python3.8/site-packages/statsmodels/tsa/holtwinters/model.py:920: ConvergenceWarning: Optimization failed to converge. Check mle_retvals.\n",
      "  warnings.warn(\n"
     ]
    },
    {
     "name": "stdout",
     "output_type": "stream",
     "text": [
      "file 200\n"
     ]
    },
    {
     "name": "stderr",
     "output_type": "stream",
     "text": [
      "/home/dante/miniconda3/envs/erupciones/lib/python3.8/site-packages/statsmodels/tsa/holtwinters/model.py:920: ConvergenceWarning: Optimization failed to converge. Check mle_retvals.\n",
      "  warnings.warn(\n",
      "/home/dante/miniconda3/envs/erupciones/lib/python3.8/site-packages/statsmodels/tsa/holtwinters/model.py:920: ConvergenceWarning: Optimization failed to converge. Check mle_retvals.\n",
      "  warnings.warn(\n"
     ]
    },
    {
     "name": "stdout",
     "output_type": "stream",
     "text": [
      "file 300\n"
     ]
    },
    {
     "name": "stderr",
     "output_type": "stream",
     "text": [
      "/home/dante/miniconda3/envs/erupciones/lib/python3.8/site-packages/statsmodels/tsa/holtwinters/model.py:920: ConvergenceWarning: Optimization failed to converge. Check mle_retvals.\n",
      "  warnings.warn(\n",
      "/home/dante/miniconda3/envs/erupciones/lib/python3.8/site-packages/statsmodels/tsa/holtwinters/model.py:920: ConvergenceWarning: Optimization failed to converge. Check mle_retvals.\n",
      "  warnings.warn(\n",
      "/home/dante/miniconda3/envs/erupciones/lib/python3.8/site-packages/statsmodels/tsa/holtwinters/model.py:920: ConvergenceWarning: Optimization failed to converge. Check mle_retvals.\n",
      "  warnings.warn(\n"
     ]
    },
    {
     "name": "stdout",
     "output_type": "stream",
     "text": [
      "file 400\n"
     ]
    },
    {
     "name": "stderr",
     "output_type": "stream",
     "text": [
      "/home/dante/miniconda3/envs/erupciones/lib/python3.8/site-packages/statsmodels/tsa/holtwinters/model.py:920: ConvergenceWarning: Optimization failed to converge. Check mle_retvals.\n",
      "  warnings.warn(\n",
      "/home/dante/miniconda3/envs/erupciones/lib/python3.8/site-packages/statsmodels/tsa/holtwinters/model.py:920: ConvergenceWarning: Optimization failed to converge. Check mle_retvals.\n",
      "  warnings.warn(\n",
      "/home/dante/miniconda3/envs/erupciones/lib/python3.8/site-packages/statsmodels/tsa/holtwinters/model.py:920: ConvergenceWarning: Optimization failed to converge. Check mle_retvals.\n",
      "  warnings.warn(\n",
      "/home/dante/miniconda3/envs/erupciones/lib/python3.8/site-packages/statsmodels/tsa/holtwinters/model.py:920: ConvergenceWarning: Optimization failed to converge. Check mle_retvals.\n",
      "  warnings.warn(\n",
      "/home/dante/miniconda3/envs/erupciones/lib/python3.8/site-packages/statsmodels/tsa/holtwinters/model.py:920: ConvergenceWarning: Optimization failed to converge. Check mle_retvals.\n",
      "  warnings.warn(\n"
     ]
    },
    {
     "name": "stdout",
     "output_type": "stream",
     "text": [
      "file 500\n"
     ]
    },
    {
     "name": "stderr",
     "output_type": "stream",
     "text": [
      "/home/dante/miniconda3/envs/erupciones/lib/python3.8/site-packages/statsmodels/tsa/holtwinters/model.py:920: ConvergenceWarning: Optimization failed to converge. Check mle_retvals.\n",
      "  warnings.warn(\n"
     ]
    },
    {
     "name": "stdout",
     "output_type": "stream",
     "text": [
      "file 600\n"
     ]
    },
    {
     "name": "stderr",
     "output_type": "stream",
     "text": [
      "/home/dante/miniconda3/envs/erupciones/lib/python3.8/site-packages/statsmodels/tsa/holtwinters/model.py:920: ConvergenceWarning: Optimization failed to converge. Check mle_retvals.\n",
      "  warnings.warn(\n",
      "/home/dante/miniconda3/envs/erupciones/lib/python3.8/site-packages/statsmodels/tsa/holtwinters/model.py:920: ConvergenceWarning: Optimization failed to converge. Check mle_retvals.\n",
      "  warnings.warn(\n",
      "/home/dante/miniconda3/envs/erupciones/lib/python3.8/site-packages/statsmodels/tsa/holtwinters/model.py:920: ConvergenceWarning: Optimization failed to converge. Check mle_retvals.\n",
      "  warnings.warn(\n",
      "/home/dante/miniconda3/envs/erupciones/lib/python3.8/site-packages/statsmodels/tsa/holtwinters/model.py:920: ConvergenceWarning: Optimization failed to converge. Check mle_retvals.\n",
      "  warnings.warn(\n",
      "/home/dante/miniconda3/envs/erupciones/lib/python3.8/site-packages/statsmodels/tsa/holtwinters/model.py:920: ConvergenceWarning: Optimization failed to converge. Check mle_retvals.\n",
      "  warnings.warn(\n",
      "/home/dante/miniconda3/envs/erupciones/lib/python3.8/site-packages/statsmodels/tsa/holtwinters/model.py:920: ConvergenceWarning: Optimization failed to converge. Check mle_retvals.\n",
      "  warnings.warn(\n"
     ]
    },
    {
     "name": "stdout",
     "output_type": "stream",
     "text": [
      "file 700\n"
     ]
    },
    {
     "name": "stderr",
     "output_type": "stream",
     "text": [
      "/home/dante/miniconda3/envs/erupciones/lib/python3.8/site-packages/statsmodels/tsa/holtwinters/model.py:920: ConvergenceWarning: Optimization failed to converge. Check mle_retvals.\n",
      "  warnings.warn(\n",
      "/home/dante/miniconda3/envs/erupciones/lib/python3.8/site-packages/statsmodels/tsa/holtwinters/model.py:920: ConvergenceWarning: Optimization failed to converge. Check mle_retvals.\n",
      "  warnings.warn(\n",
      "/home/dante/miniconda3/envs/erupciones/lib/python3.8/site-packages/statsmodels/tsa/holtwinters/model.py:920: ConvergenceWarning: Optimization failed to converge. Check mle_retvals.\n",
      "  warnings.warn(\n",
      "/home/dante/miniconda3/envs/erupciones/lib/python3.8/site-packages/statsmodels/tsa/holtwinters/model.py:920: ConvergenceWarning: Optimization failed to converge. Check mle_retvals.\n",
      "  warnings.warn(\n"
     ]
    },
    {
     "name": "stdout",
     "output_type": "stream",
     "text": [
      "file 800\n"
     ]
    },
    {
     "name": "stderr",
     "output_type": "stream",
     "text": [
      "/home/dante/miniconda3/envs/erupciones/lib/python3.8/site-packages/statsmodels/tsa/holtwinters/model.py:920: ConvergenceWarning: Optimization failed to converge. Check mle_retvals.\n",
      "  warnings.warn(\n"
     ]
    },
    {
     "name": "stdout",
     "output_type": "stream",
     "text": [
      "file 900\n"
     ]
    },
    {
     "name": "stderr",
     "output_type": "stream",
     "text": [
      "/home/dante/miniconda3/envs/erupciones/lib/python3.8/site-packages/statsmodels/tsa/holtwinters/model.py:920: ConvergenceWarning: Optimization failed to converge. Check mle_retvals.\n",
      "  warnings.warn(\n"
     ]
    },
    {
     "name": "stdout",
     "output_type": "stream",
     "text": [
      "file 1000\n"
     ]
    },
    {
     "name": "stderr",
     "output_type": "stream",
     "text": [
      "/home/dante/miniconda3/envs/erupciones/lib/python3.8/site-packages/statsmodels/tsa/holtwinters/model.py:920: ConvergenceWarning: Optimization failed to converge. Check mle_retvals.\n",
      "  warnings.warn(\n",
      "/home/dante/miniconda3/envs/erupciones/lib/python3.8/site-packages/statsmodels/tsa/holtwinters/model.py:920: ConvergenceWarning: Optimization failed to converge. Check mle_retvals.\n",
      "  warnings.warn(\n"
     ]
    },
    {
     "name": "stdout",
     "output_type": "stream",
     "text": [
      "file 1100\n"
     ]
    },
    {
     "name": "stderr",
     "output_type": "stream",
     "text": [
      "/home/dante/miniconda3/envs/erupciones/lib/python3.8/site-packages/statsmodels/tsa/holtwinters/model.py:920: ConvergenceWarning: Optimization failed to converge. Check mle_retvals.\n",
      "  warnings.warn(\n",
      "/home/dante/miniconda3/envs/erupciones/lib/python3.8/site-packages/statsmodels/tsa/holtwinters/model.py:920: ConvergenceWarning: Optimization failed to converge. Check mle_retvals.\n",
      "  warnings.warn(\n",
      "/home/dante/miniconda3/envs/erupciones/lib/python3.8/site-packages/statsmodels/tsa/holtwinters/model.py:920: ConvergenceWarning: Optimization failed to converge. Check mle_retvals.\n",
      "  warnings.warn(\n"
     ]
    },
    {
     "name": "stdout",
     "output_type": "stream",
     "text": [
      "file 1200\n"
     ]
    },
    {
     "name": "stderr",
     "output_type": "stream",
     "text": [
      "/home/dante/miniconda3/envs/erupciones/lib/python3.8/site-packages/statsmodels/tsa/holtwinters/model.py:920: ConvergenceWarning: Optimization failed to converge. Check mle_retvals.\n",
      "  warnings.warn(\n",
      "/home/dante/miniconda3/envs/erupciones/lib/python3.8/site-packages/statsmodels/tsa/holtwinters/model.py:920: ConvergenceWarning: Optimization failed to converge. Check mle_retvals.\n",
      "  warnings.warn(\n",
      "/home/dante/miniconda3/envs/erupciones/lib/python3.8/site-packages/statsmodels/tsa/holtwinters/model.py:920: ConvergenceWarning: Optimization failed to converge. Check mle_retvals.\n",
      "  warnings.warn(\n"
     ]
    },
    {
     "name": "stdout",
     "output_type": "stream",
     "text": [
      "file 1300\n",
      "file 1400\n"
     ]
    },
    {
     "name": "stderr",
     "output_type": "stream",
     "text": [
      "/home/dante/miniconda3/envs/erupciones/lib/python3.8/site-packages/statsmodels/tsa/holtwinters/model.py:920: ConvergenceWarning: Optimization failed to converge. Check mle_retvals.\n",
      "  warnings.warn(\n",
      "/home/dante/miniconda3/envs/erupciones/lib/python3.8/site-packages/statsmodels/tsa/holtwinters/model.py:920: ConvergenceWarning: Optimization failed to converge. Check mle_retvals.\n",
      "  warnings.warn(\n",
      "/home/dante/miniconda3/envs/erupciones/lib/python3.8/site-packages/statsmodels/tsa/holtwinters/model.py:920: ConvergenceWarning: Optimization failed to converge. Check mle_retvals.\n",
      "  warnings.warn(\n",
      "/home/dante/miniconda3/envs/erupciones/lib/python3.8/site-packages/statsmodels/tsa/holtwinters/model.py:920: ConvergenceWarning: Optimization failed to converge. Check mle_retvals.\n",
      "  warnings.warn(\n"
     ]
    },
    {
     "name": "stdout",
     "output_type": "stream",
     "text": [
      "file 1500\n"
     ]
    },
    {
     "name": "stderr",
     "output_type": "stream",
     "text": [
      "/home/dante/miniconda3/envs/erupciones/lib/python3.8/site-packages/statsmodels/tsa/holtwinters/model.py:920: ConvergenceWarning: Optimization failed to converge. Check mle_retvals.\n",
      "  warnings.warn(\n",
      "/home/dante/miniconda3/envs/erupciones/lib/python3.8/site-packages/statsmodels/tsa/holtwinters/model.py:920: ConvergenceWarning: Optimization failed to converge. Check mle_retvals.\n",
      "  warnings.warn(\n"
     ]
    },
    {
     "name": "stdout",
     "output_type": "stream",
     "text": [
      "file 1600\n",
      "file 1700\n"
     ]
    },
    {
     "name": "stderr",
     "output_type": "stream",
     "text": [
      "/home/dante/miniconda3/envs/erupciones/lib/python3.8/site-packages/statsmodels/tsa/holtwinters/model.py:920: ConvergenceWarning: Optimization failed to converge. Check mle_retvals.\n",
      "  warnings.warn(\n",
      "/home/dante/miniconda3/envs/erupciones/lib/python3.8/site-packages/statsmodels/tsa/holtwinters/model.py:920: ConvergenceWarning: Optimization failed to converge. Check mle_retvals.\n",
      "  warnings.warn(\n",
      "/home/dante/miniconda3/envs/erupciones/lib/python3.8/site-packages/statsmodels/tsa/holtwinters/model.py:920: ConvergenceWarning: Optimization failed to converge. Check mle_retvals.\n",
      "  warnings.warn(\n"
     ]
    },
    {
     "name": "stdout",
     "output_type": "stream",
     "text": [
      "file 1800\n"
     ]
    },
    {
     "name": "stderr",
     "output_type": "stream",
     "text": [
      "/home/dante/miniconda3/envs/erupciones/lib/python3.8/site-packages/statsmodels/tsa/holtwinters/model.py:920: ConvergenceWarning: Optimization failed to converge. Check mle_retvals.\n",
      "  warnings.warn(\n",
      "/home/dante/miniconda3/envs/erupciones/lib/python3.8/site-packages/statsmodels/tsa/holtwinters/model.py:920: ConvergenceWarning: Optimization failed to converge. Check mle_retvals.\n",
      "  warnings.warn(\n"
     ]
    },
    {
     "name": "stdout",
     "output_type": "stream",
     "text": [
      "file 1900\n"
     ]
    },
    {
     "name": "stderr",
     "output_type": "stream",
     "text": [
      "/home/dante/miniconda3/envs/erupciones/lib/python3.8/site-packages/statsmodels/tsa/holtwinters/model.py:920: ConvergenceWarning: Optimization failed to converge. Check mle_retvals.\n",
      "  warnings.warn(\n"
     ]
    },
    {
     "name": "stdout",
     "output_type": "stream",
     "text": [
      "file 2000\n"
     ]
    },
    {
     "name": "stderr",
     "output_type": "stream",
     "text": [
      "/home/dante/miniconda3/envs/erupciones/lib/python3.8/site-packages/statsmodels/tsa/holtwinters/model.py:920: ConvergenceWarning: Optimization failed to converge. Check mle_retvals.\n",
      "  warnings.warn(\n"
     ]
    },
    {
     "name": "stdout",
     "output_type": "stream",
     "text": [
      "file 2100\n",
      "file 2200\n"
     ]
    },
    {
     "name": "stderr",
     "output_type": "stream",
     "text": [
      "/home/dante/miniconda3/envs/erupciones/lib/python3.8/site-packages/statsmodels/tsa/holtwinters/model.py:920: ConvergenceWarning: Optimization failed to converge. Check mle_retvals.\n",
      "  warnings.warn(\n",
      "/home/dante/miniconda3/envs/erupciones/lib/python3.8/site-packages/statsmodels/tsa/holtwinters/model.py:920: ConvergenceWarning: Optimization failed to converge. Check mle_retvals.\n",
      "  warnings.warn(\n",
      "/home/dante/miniconda3/envs/erupciones/lib/python3.8/site-packages/statsmodels/tsa/holtwinters/model.py:920: ConvergenceWarning: Optimization failed to converge. Check mle_retvals.\n",
      "  warnings.warn(\n",
      "/home/dante/miniconda3/envs/erupciones/lib/python3.8/site-packages/statsmodels/tsa/holtwinters/model.py:920: ConvergenceWarning: Optimization failed to converge. Check mle_retvals.\n",
      "  warnings.warn(\n",
      "/home/dante/miniconda3/envs/erupciones/lib/python3.8/site-packages/statsmodels/tsa/holtwinters/model.py:920: ConvergenceWarning: Optimization failed to converge. Check mle_retvals.\n",
      "  warnings.warn(\n"
     ]
    },
    {
     "name": "stdout",
     "output_type": "stream",
     "text": [
      "file 2300\n"
     ]
    },
    {
     "name": "stderr",
     "output_type": "stream",
     "text": [
      "/home/dante/miniconda3/envs/erupciones/lib/python3.8/site-packages/statsmodels/tsa/holtwinters/model.py:920: ConvergenceWarning: Optimization failed to converge. Check mle_retvals.\n",
      "  warnings.warn(\n",
      "/home/dante/miniconda3/envs/erupciones/lib/python3.8/site-packages/statsmodels/tsa/holtwinters/model.py:920: ConvergenceWarning: Optimization failed to converge. Check mle_retvals.\n",
      "  warnings.warn(\n",
      "/home/dante/miniconda3/envs/erupciones/lib/python3.8/site-packages/statsmodels/tsa/holtwinters/model.py:920: ConvergenceWarning: Optimization failed to converge. Check mle_retvals.\n",
      "  warnings.warn(\n"
     ]
    },
    {
     "name": "stdout",
     "output_type": "stream",
     "text": [
      "file 2400\n"
     ]
    },
    {
     "name": "stderr",
     "output_type": "stream",
     "text": [
      "/home/dante/miniconda3/envs/erupciones/lib/python3.8/site-packages/statsmodels/tsa/holtwinters/model.py:920: ConvergenceWarning: Optimization failed to converge. Check mle_retvals.\n",
      "  warnings.warn(\n"
     ]
    },
    {
     "name": "stdout",
     "output_type": "stream",
     "text": [
      "file 2500\n"
     ]
    },
    {
     "name": "stderr",
     "output_type": "stream",
     "text": [
      "/home/dante/miniconda3/envs/erupciones/lib/python3.8/site-packages/statsmodels/tsa/holtwinters/model.py:920: ConvergenceWarning: Optimization failed to converge. Check mle_retvals.\n",
      "  warnings.warn(\n",
      "/home/dante/miniconda3/envs/erupciones/lib/python3.8/site-packages/statsmodels/tsa/holtwinters/model.py:920: ConvergenceWarning: Optimization failed to converge. Check mle_retvals.\n",
      "  warnings.warn(\n",
      "/home/dante/miniconda3/envs/erupciones/lib/python3.8/site-packages/statsmodels/tsa/holtwinters/model.py:920: ConvergenceWarning: Optimization failed to converge. Check mle_retvals.\n",
      "  warnings.warn(\n",
      "/home/dante/miniconda3/envs/erupciones/lib/python3.8/site-packages/statsmodels/tsa/holtwinters/model.py:920: ConvergenceWarning: Optimization failed to converge. Check mle_retvals.\n",
      "  warnings.warn(\n"
     ]
    },
    {
     "name": "stdout",
     "output_type": "stream",
     "text": [
      "file 2600\n"
     ]
    },
    {
     "name": "stderr",
     "output_type": "stream",
     "text": [
      "/home/dante/miniconda3/envs/erupciones/lib/python3.8/site-packages/statsmodels/tsa/holtwinters/model.py:920: ConvergenceWarning: Optimization failed to converge. Check mle_retvals.\n",
      "  warnings.warn(\n",
      "/home/dante/miniconda3/envs/erupciones/lib/python3.8/site-packages/statsmodels/tsa/holtwinters/model.py:920: ConvergenceWarning: Optimization failed to converge. Check mle_retvals.\n",
      "  warnings.warn(\n",
      "/home/dante/miniconda3/envs/erupciones/lib/python3.8/site-packages/statsmodels/tsa/holtwinters/model.py:920: ConvergenceWarning: Optimization failed to converge. Check mle_retvals.\n",
      "  warnings.warn(\n",
      "/home/dante/miniconda3/envs/erupciones/lib/python3.8/site-packages/statsmodels/tsa/holtwinters/model.py:920: ConvergenceWarning: Optimization failed to converge. Check mle_retvals.\n",
      "  warnings.warn(\n",
      "/home/dante/miniconda3/envs/erupciones/lib/python3.8/site-packages/statsmodels/tsa/holtwinters/model.py:920: ConvergenceWarning: Optimization failed to converge. Check mle_retvals.\n",
      "  warnings.warn(\n"
     ]
    },
    {
     "name": "stdout",
     "output_type": "stream",
     "text": [
      "file 2700\n"
     ]
    },
    {
     "name": "stderr",
     "output_type": "stream",
     "text": [
      "/home/dante/miniconda3/envs/erupciones/lib/python3.8/site-packages/statsmodels/tsa/holtwinters/model.py:920: ConvergenceWarning: Optimization failed to converge. Check mle_retvals.\n",
      "  warnings.warn(\n",
      "/home/dante/miniconda3/envs/erupciones/lib/python3.8/site-packages/statsmodels/tsa/holtwinters/model.py:920: ConvergenceWarning: Optimization failed to converge. Check mle_retvals.\n",
      "  warnings.warn(\n",
      "/home/dante/miniconda3/envs/erupciones/lib/python3.8/site-packages/statsmodels/tsa/holtwinters/model.py:920: ConvergenceWarning: Optimization failed to converge. Check mle_retvals.\n",
      "  warnings.warn(\n",
      "/home/dante/miniconda3/envs/erupciones/lib/python3.8/site-packages/statsmodels/tsa/holtwinters/model.py:920: ConvergenceWarning: Optimization failed to converge. Check mle_retvals.\n",
      "  warnings.warn(\n",
      "/home/dante/miniconda3/envs/erupciones/lib/python3.8/site-packages/statsmodels/tsa/holtwinters/model.py:920: ConvergenceWarning: Optimization failed to converge. Check mle_retvals.\n",
      "  warnings.warn(\n",
      "/home/dante/miniconda3/envs/erupciones/lib/python3.8/site-packages/statsmodels/tsa/holtwinters/model.py:920: ConvergenceWarning: Optimization failed to converge. Check mle_retvals.\n",
      "  warnings.warn(\n"
     ]
    },
    {
     "name": "stdout",
     "output_type": "stream",
     "text": [
      "file 2800\n"
     ]
    },
    {
     "name": "stderr",
     "output_type": "stream",
     "text": [
      "/home/dante/miniconda3/envs/erupciones/lib/python3.8/site-packages/statsmodels/tsa/holtwinters/model.py:920: ConvergenceWarning: Optimization failed to converge. Check mle_retvals.\n",
      "  warnings.warn(\n",
      "/home/dante/miniconda3/envs/erupciones/lib/python3.8/site-packages/statsmodels/tsa/holtwinters/model.py:920: ConvergenceWarning: Optimization failed to converge. Check mle_retvals.\n",
      "  warnings.warn(\n",
      "/home/dante/miniconda3/envs/erupciones/lib/python3.8/site-packages/statsmodels/tsa/holtwinters/model.py:920: ConvergenceWarning: Optimization failed to converge. Check mle_retvals.\n",
      "  warnings.warn(\n"
     ]
    },
    {
     "name": "stdout",
     "output_type": "stream",
     "text": [
      "file 2900\n"
     ]
    },
    {
     "name": "stderr",
     "output_type": "stream",
     "text": [
      "/home/dante/miniconda3/envs/erupciones/lib/python3.8/site-packages/statsmodels/tsa/holtwinters/model.py:920: ConvergenceWarning: Optimization failed to converge. Check mle_retvals.\n",
      "  warnings.warn(\n",
      "/home/dante/miniconda3/envs/erupciones/lib/python3.8/site-packages/statsmodels/tsa/holtwinters/model.py:920: ConvergenceWarning: Optimization failed to converge. Check mle_retvals.\n",
      "  warnings.warn(\n",
      "/home/dante/miniconda3/envs/erupciones/lib/python3.8/site-packages/statsmodels/tsa/holtwinters/model.py:920: ConvergenceWarning: Optimization failed to converge. Check mle_retvals.\n",
      "  warnings.warn(\n",
      "/home/dante/miniconda3/envs/erupciones/lib/python3.8/site-packages/statsmodels/tsa/holtwinters/model.py:920: ConvergenceWarning: Optimization failed to converge. Check mle_retvals.\n",
      "  warnings.warn(\n",
      "/home/dante/miniconda3/envs/erupciones/lib/python3.8/site-packages/statsmodels/tsa/holtwinters/model.py:920: ConvergenceWarning: Optimization failed to converge. Check mle_retvals.\n",
      "  warnings.warn(\n",
      "/home/dante/miniconda3/envs/erupciones/lib/python3.8/site-packages/statsmodels/tsa/holtwinters/model.py:920: ConvergenceWarning: Optimization failed to converge. Check mle_retvals.\n",
      "  warnings.warn(\n",
      "/home/dante/miniconda3/envs/erupciones/lib/python3.8/site-packages/statsmodels/tsa/holtwinters/model.py:920: ConvergenceWarning: Optimization failed to converge. Check mle_retvals.\n",
      "  warnings.warn(\n",
      "/home/dante/miniconda3/envs/erupciones/lib/python3.8/site-packages/statsmodels/tsa/holtwinters/model.py:920: ConvergenceWarning: Optimization failed to converge. Check mle_retvals.\n",
      "  warnings.warn(\n",
      "/home/dante/miniconda3/envs/erupciones/lib/python3.8/site-packages/statsmodels/tsa/holtwinters/model.py:920: ConvergenceWarning: Optimization failed to converge. Check mle_retvals.\n",
      "  warnings.warn(\n"
     ]
    },
    {
     "name": "stdout",
     "output_type": "stream",
     "text": [
      "file 3000\n"
     ]
    },
    {
     "name": "stderr",
     "output_type": "stream",
     "text": [
      "/home/dante/miniconda3/envs/erupciones/lib/python3.8/site-packages/statsmodels/tsa/holtwinters/model.py:920: ConvergenceWarning: Optimization failed to converge. Check mle_retvals.\n",
      "  warnings.warn(\n",
      "/home/dante/miniconda3/envs/erupciones/lib/python3.8/site-packages/statsmodels/tsa/holtwinters/model.py:920: ConvergenceWarning: Optimization failed to converge. Check mle_retvals.\n",
      "  warnings.warn(\n",
      "/home/dante/miniconda3/envs/erupciones/lib/python3.8/site-packages/statsmodels/tsa/holtwinters/model.py:920: ConvergenceWarning: Optimization failed to converge. Check mle_retvals.\n",
      "  warnings.warn(\n"
     ]
    },
    {
     "name": "stdout",
     "output_type": "stream",
     "text": [
      "file 3100\n"
     ]
    },
    {
     "name": "stderr",
     "output_type": "stream",
     "text": [
      "/home/dante/miniconda3/envs/erupciones/lib/python3.8/site-packages/statsmodels/tsa/holtwinters/model.py:920: ConvergenceWarning: Optimization failed to converge. Check mle_retvals.\n",
      "  warnings.warn(\n"
     ]
    },
    {
     "name": "stdout",
     "output_type": "stream",
     "text": [
      "file 3200\n"
     ]
    },
    {
     "name": "stderr",
     "output_type": "stream",
     "text": [
      "/home/dante/miniconda3/envs/erupciones/lib/python3.8/site-packages/statsmodels/tsa/holtwinters/model.py:920: ConvergenceWarning: Optimization failed to converge. Check mle_retvals.\n",
      "  warnings.warn(\n",
      "/home/dante/miniconda3/envs/erupciones/lib/python3.8/site-packages/statsmodels/tsa/holtwinters/model.py:920: ConvergenceWarning: Optimization failed to converge. Check mle_retvals.\n",
      "  warnings.warn(\n"
     ]
    },
    {
     "name": "stdout",
     "output_type": "stream",
     "text": [
      "file 3300\n"
     ]
    },
    {
     "name": "stderr",
     "output_type": "stream",
     "text": [
      "/home/dante/miniconda3/envs/erupciones/lib/python3.8/site-packages/statsmodels/tsa/holtwinters/model.py:920: ConvergenceWarning: Optimization failed to converge. Check mle_retvals.\n",
      "  warnings.warn(\n",
      "/home/dante/miniconda3/envs/erupciones/lib/python3.8/site-packages/statsmodels/tsa/holtwinters/model.py:920: ConvergenceWarning: Optimization failed to converge. Check mle_retvals.\n",
      "  warnings.warn(\n"
     ]
    },
    {
     "name": "stdout",
     "output_type": "stream",
     "text": [
      "file 3400\n"
     ]
    },
    {
     "name": "stderr",
     "output_type": "stream",
     "text": [
      "/home/dante/miniconda3/envs/erupciones/lib/python3.8/site-packages/statsmodels/tsa/holtwinters/model.py:920: ConvergenceWarning: Optimization failed to converge. Check mle_retvals.\n",
      "  warnings.warn(\n",
      "/home/dante/miniconda3/envs/erupciones/lib/python3.8/site-packages/statsmodels/tsa/holtwinters/model.py:920: ConvergenceWarning: Optimization failed to converge. Check mle_retvals.\n",
      "  warnings.warn(\n",
      "/home/dante/miniconda3/envs/erupciones/lib/python3.8/site-packages/statsmodels/tsa/holtwinters/model.py:920: ConvergenceWarning: Optimization failed to converge. Check mle_retvals.\n",
      "  warnings.warn(\n"
     ]
    },
    {
     "name": "stdout",
     "output_type": "stream",
     "text": [
      "file 3500\n"
     ]
    },
    {
     "name": "stderr",
     "output_type": "stream",
     "text": [
      "/home/dante/miniconda3/envs/erupciones/lib/python3.8/site-packages/statsmodels/tsa/holtwinters/model.py:920: ConvergenceWarning: Optimization failed to converge. Check mle_retvals.\n",
      "  warnings.warn(\n",
      "/home/dante/miniconda3/envs/erupciones/lib/python3.8/site-packages/statsmodels/tsa/holtwinters/model.py:920: ConvergenceWarning: Optimization failed to converge. Check mle_retvals.\n",
      "  warnings.warn(\n",
      "/home/dante/miniconda3/envs/erupciones/lib/python3.8/site-packages/statsmodels/tsa/holtwinters/model.py:920: ConvergenceWarning: Optimization failed to converge. Check mle_retvals.\n",
      "  warnings.warn(\n",
      "/home/dante/miniconda3/envs/erupciones/lib/python3.8/site-packages/statsmodels/tsa/holtwinters/model.py:920: ConvergenceWarning: Optimization failed to converge. Check mle_retvals.\n",
      "  warnings.warn(\n",
      "/home/dante/miniconda3/envs/erupciones/lib/python3.8/site-packages/statsmodels/tsa/holtwinters/model.py:920: ConvergenceWarning: Optimization failed to converge. Check mle_retvals.\n",
      "  warnings.warn(\n",
      "/home/dante/miniconda3/envs/erupciones/lib/python3.8/site-packages/statsmodels/tsa/holtwinters/model.py:920: ConvergenceWarning: Optimization failed to converge. Check mle_retvals.\n",
      "  warnings.warn(\n",
      "/home/dante/miniconda3/envs/erupciones/lib/python3.8/site-packages/statsmodels/tsa/holtwinters/model.py:920: ConvergenceWarning: Optimization failed to converge. Check mle_retvals.\n",
      "  warnings.warn(\n",
      "/home/dante/miniconda3/envs/erupciones/lib/python3.8/site-packages/statsmodels/tsa/holtwinters/model.py:920: ConvergenceWarning: Optimization failed to converge. Check mle_retvals.\n",
      "  warnings.warn(\n"
     ]
    },
    {
     "name": "stdout",
     "output_type": "stream",
     "text": [
      "file 3600\n"
     ]
    },
    {
     "name": "stderr",
     "output_type": "stream",
     "text": [
      "/home/dante/miniconda3/envs/erupciones/lib/python3.8/site-packages/statsmodels/tsa/holtwinters/model.py:920: ConvergenceWarning: Optimization failed to converge. Check mle_retvals.\n",
      "  warnings.warn(\n",
      "/home/dante/miniconda3/envs/erupciones/lib/python3.8/site-packages/statsmodels/tsa/holtwinters/model.py:920: ConvergenceWarning: Optimization failed to converge. Check mle_retvals.\n",
      "  warnings.warn(\n",
      "/home/dante/miniconda3/envs/erupciones/lib/python3.8/site-packages/statsmodels/tsa/holtwinters/model.py:920: ConvergenceWarning: Optimization failed to converge. Check mle_retvals.\n",
      "  warnings.warn(\n"
     ]
    },
    {
     "name": "stdout",
     "output_type": "stream",
     "text": [
      "file 3700\n"
     ]
    },
    {
     "name": "stderr",
     "output_type": "stream",
     "text": [
      "/home/dante/miniconda3/envs/erupciones/lib/python3.8/site-packages/statsmodels/tsa/holtwinters/model.py:920: ConvergenceWarning: Optimization failed to converge. Check mle_retvals.\n",
      "  warnings.warn(\n",
      "/home/dante/miniconda3/envs/erupciones/lib/python3.8/site-packages/statsmodels/tsa/holtwinters/model.py:920: ConvergenceWarning: Optimization failed to converge. Check mle_retvals.\n",
      "  warnings.warn(\n"
     ]
    },
    {
     "name": "stdout",
     "output_type": "stream",
     "text": [
      "file 3800\n"
     ]
    },
    {
     "name": "stderr",
     "output_type": "stream",
     "text": [
      "/home/dante/miniconda3/envs/erupciones/lib/python3.8/site-packages/statsmodels/tsa/holtwinters/model.py:920: ConvergenceWarning: Optimization failed to converge. Check mle_retvals.\n",
      "  warnings.warn(\n",
      "/home/dante/miniconda3/envs/erupciones/lib/python3.8/site-packages/statsmodels/tsa/holtwinters/model.py:920: ConvergenceWarning: Optimization failed to converge. Check mle_retvals.\n",
      "  warnings.warn(\n",
      "/home/dante/miniconda3/envs/erupciones/lib/python3.8/site-packages/statsmodels/tsa/holtwinters/model.py:920: ConvergenceWarning: Optimization failed to converge. Check mle_retvals.\n",
      "  warnings.warn(\n",
      "/home/dante/miniconda3/envs/erupciones/lib/python3.8/site-packages/statsmodels/tsa/holtwinters/model.py:920: ConvergenceWarning: Optimization failed to converge. Check mle_retvals.\n",
      "  warnings.warn(\n",
      "/home/dante/miniconda3/envs/erupciones/lib/python3.8/site-packages/statsmodels/tsa/holtwinters/model.py:920: ConvergenceWarning: Optimization failed to converge. Check mle_retvals.\n",
      "  warnings.warn(\n",
      "/home/dante/miniconda3/envs/erupciones/lib/python3.8/site-packages/statsmodels/tsa/holtwinters/model.py:920: ConvergenceWarning: Optimization failed to converge. Check mle_retvals.\n",
      "  warnings.warn(\n",
      "/home/dante/miniconda3/envs/erupciones/lib/python3.8/site-packages/statsmodels/tsa/holtwinters/model.py:920: ConvergenceWarning: Optimization failed to converge. Check mle_retvals.\n",
      "  warnings.warn(\n",
      "/home/dante/miniconda3/envs/erupciones/lib/python3.8/site-packages/statsmodels/tsa/holtwinters/model.py:920: ConvergenceWarning: Optimization failed to converge. Check mle_retvals.\n",
      "  warnings.warn(\n",
      "/home/dante/miniconda3/envs/erupciones/lib/python3.8/site-packages/statsmodels/tsa/holtwinters/model.py:920: ConvergenceWarning: Optimization failed to converge. Check mle_retvals.\n",
      "  warnings.warn(\n",
      "/home/dante/miniconda3/envs/erupciones/lib/python3.8/site-packages/statsmodels/tsa/holtwinters/model.py:920: ConvergenceWarning: Optimization failed to converge. Check mle_retvals.\n",
      "  warnings.warn(\n"
     ]
    },
    {
     "name": "stdout",
     "output_type": "stream",
     "text": [
      "file 3900\n"
     ]
    },
    {
     "name": "stderr",
     "output_type": "stream",
     "text": [
      "/home/dante/miniconda3/envs/erupciones/lib/python3.8/site-packages/statsmodels/tsa/holtwinters/model.py:920: ConvergenceWarning: Optimization failed to converge. Check mle_retvals.\n",
      "  warnings.warn(\n",
      "/home/dante/miniconda3/envs/erupciones/lib/python3.8/site-packages/statsmodels/tsa/holtwinters/model.py:920: ConvergenceWarning: Optimization failed to converge. Check mle_retvals.\n",
      "  warnings.warn(\n",
      "/home/dante/miniconda3/envs/erupciones/lib/python3.8/site-packages/statsmodels/tsa/holtwinters/model.py:920: ConvergenceWarning: Optimization failed to converge. Check mle_retvals.\n",
      "  warnings.warn(\n"
     ]
    },
    {
     "name": "stdout",
     "output_type": "stream",
     "text": [
      "file 4000\n"
     ]
    },
    {
     "name": "stderr",
     "output_type": "stream",
     "text": [
      "/home/dante/miniconda3/envs/erupciones/lib/python3.8/site-packages/statsmodels/tsa/holtwinters/model.py:920: ConvergenceWarning: Optimization failed to converge. Check mle_retvals.\n",
      "  warnings.warn(\n",
      "/home/dante/miniconda3/envs/erupciones/lib/python3.8/site-packages/statsmodels/tsa/holtwinters/model.py:920: ConvergenceWarning: Optimization failed to converge. Check mle_retvals.\n",
      "  warnings.warn(\n"
     ]
    },
    {
     "name": "stdout",
     "output_type": "stream",
     "text": [
      "file 4100\n"
     ]
    },
    {
     "name": "stderr",
     "output_type": "stream",
     "text": [
      "/home/dante/miniconda3/envs/erupciones/lib/python3.8/site-packages/statsmodels/tsa/holtwinters/model.py:920: ConvergenceWarning: Optimization failed to converge. Check mle_retvals.\n",
      "  warnings.warn(\n",
      "/home/dante/miniconda3/envs/erupciones/lib/python3.8/site-packages/statsmodels/tsa/holtwinters/model.py:920: ConvergenceWarning: Optimization failed to converge. Check mle_retvals.\n",
      "  warnings.warn(\n",
      "/home/dante/miniconda3/envs/erupciones/lib/python3.8/site-packages/statsmodels/tsa/holtwinters/model.py:920: ConvergenceWarning: Optimization failed to converge. Check mle_retvals.\n",
      "  warnings.warn(\n",
      "/home/dante/miniconda3/envs/erupciones/lib/python3.8/site-packages/statsmodels/tsa/holtwinters/model.py:920: ConvergenceWarning: Optimization failed to converge. Check mle_retvals.\n",
      "  warnings.warn(\n"
     ]
    },
    {
     "name": "stdout",
     "output_type": "stream",
     "text": [
      "file 4200\n"
     ]
    },
    {
     "name": "stderr",
     "output_type": "stream",
     "text": [
      "/home/dante/miniconda3/envs/erupciones/lib/python3.8/site-packages/statsmodels/tsa/holtwinters/model.py:920: ConvergenceWarning: Optimization failed to converge. Check mle_retvals.\n",
      "  warnings.warn(\n",
      "/home/dante/miniconda3/envs/erupciones/lib/python3.8/site-packages/statsmodels/tsa/holtwinters/model.py:920: ConvergenceWarning: Optimization failed to converge. Check mle_retvals.\n",
      "  warnings.warn(\n",
      "/home/dante/miniconda3/envs/erupciones/lib/python3.8/site-packages/statsmodels/tsa/holtwinters/model.py:920: ConvergenceWarning: Optimization failed to converge. Check mle_retvals.\n",
      "  warnings.warn(\n"
     ]
    },
    {
     "name": "stdout",
     "output_type": "stream",
     "text": [
      "file 4300\n"
     ]
    },
    {
     "name": "stderr",
     "output_type": "stream",
     "text": [
      "/home/dante/miniconda3/envs/erupciones/lib/python3.8/site-packages/statsmodels/tsa/holtwinters/model.py:920: ConvergenceWarning: Optimization failed to converge. Check mle_retvals.\n",
      "  warnings.warn(\n",
      "/home/dante/miniconda3/envs/erupciones/lib/python3.8/site-packages/statsmodels/tsa/holtwinters/model.py:920: ConvergenceWarning: Optimization failed to converge. Check mle_retvals.\n",
      "  warnings.warn(\n"
     ]
    },
    {
     "name": "stdout",
     "output_type": "stream",
     "text": [
      "file 4400\n",
      "CPU times: user 45min 2s, sys: 59.7 s, total: 46min 2s\n",
      "Wall time: 15min 20s\n"
     ]
    }
   ],
   "source": [
    "%%time\n",
    "for i,filename in enumerate(train_filenames,1):\n",
    "    if i%100 == 0:\n",
    "        print(\"file\",i)\n",
    "    df = pd.read_csv(\"train/\"+filename)\n",
    "    df2 = impute_df(df,whole_stats)\n",
    "    assert not df2.isna().any().any()"
   ]
  }
 ],
 "metadata": {
  "kernelspec": {
   "display_name": "Python 3",
   "language": "python",
   "name": "python3"
  },
  "language_info": {
   "codemirror_mode": {
    "name": "ipython",
    "version": 3
   },
   "file_extension": ".py",
   "mimetype": "text/x-python",
   "name": "python",
   "nbconvert_exporter": "python",
   "pygments_lexer": "ipython3",
   "version": "3.7.9"
  }
 },
 "nbformat": 4,
 "nbformat_minor": 4
}
