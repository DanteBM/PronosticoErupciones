{
 "cells": [
  {
   "cell_type": "markdown",
   "metadata": {},
   "source": [
    "# Visualización pronóstico de volcanes\n",
    "- Alvarado Morán Óscar\n",
    "- Bermúdez Marbán Dante"
   ]
  },
  {
   "cell_type": "code",
   "execution_count": null,
   "metadata": {},
   "outputs": [],
   "source": [
    "import numpy as np # linear algebra\n",
    "import pandas as pd # data processing, CSV file I/O (e.g. pd.read_csv)\n",
    "from plotly.subplots import make_subplots\n",
    "import plotly.graph_objects as go\n",
    "\n",
    "from os import listdir, path"
   ]
  },
  {
   "cell_type": "code",
   "execution_count": null,
   "metadata": {},
   "outputs": [],
   "source": [
    "path_archivos = path.join(\"/home\",\"dante\",\"Documentos\",\"7mo semestre\",\n",
    "                          \"Minería de datos\",\"proyecto\",\"Kaggle\")\n",
    "train_dir = path.join(path_archivos,\"train\")\n",
    "train_filenames = listdir(train_dir)"
   ]
  },
  {
   "cell_type": "code",
   "execution_count": null,
   "metadata": {},
   "outputs": [],
   "source": [
    "muestra = pd.read_csv(path.join(train_dir, train_filenames[2]), dtype = \"Int16\")\n",
    "muestra.head()"
   ]
  },
  {
   "cell_type": "code",
   "execution_count": null,
   "metadata": {},
   "outputs": [],
   "source": [
    "def graficar_amp_ply(df):\n",
    "    validos = ~df.isna().all()\n",
    "    validos = list(validos[validos].index)\n",
    "    fig = make_subplots(rows = len(validos), cols=1, y_title = \"Amplitudes\", x_title = \"Tiempo [cs]\")\n",
    "    for idx, sensor in enumerate(validos):\n",
    "        datos = df.loc[:, sensor]\n",
    "        fig.append_trace(go.Scatter(x = list(range(df.shape[0])), y = datos, \n",
    "                                    mode = \"lines\", name = f\"{sensor}\"), \n",
    "                                     row = idx+1, col = 1)\n",
    "\n",
    "    fig.update_layout(height = 1000, width = 950, title_text = \"Diagramas de amplitudes\", title_font_size = 30)\n",
    "    fig.show()"
   ]
  },
  {
   "cell_type": "code",
   "execution_count": null,
   "metadata": {},
   "outputs": [],
   "source": [
    "graficar_amp_ply(muestra)"
   ]
  },
  {
   "cell_type": "code",
   "execution_count": null,
   "metadata": {},
   "outputs": [],
   "source": [
    "muestra.head()"
   ]
  },
  {
   "cell_type": "code",
   "execution_count": null,
   "metadata": {},
   "outputs": [],
   "source": [
    "train_path = path.join(path_archivos, \"train.csv\")\n",
    "datos_train = pd.read_csv(train_path)\n",
    "datos_train"
   ]
  },
  {
   "cell_type": "code",
   "execution_count": null,
   "metadata": {},
   "outputs": [],
   "source": [
    "datos_train[datos_train.time_to_eruption.duplicated()]"
   ]
  },
  {
   "cell_type": "code",
   "execution_count": null,
   "metadata": {},
   "outputs": [],
   "source": [
    "datos_train[datos_train.time_to_eruption == datos_train.time_to_eruption[1777]]"
   ]
  },
  {
   "cell_type": "code",
   "execution_count": null,
   "metadata": {},
   "outputs": [],
   "source": [
    "igual1 = pd.read_csv(path.join(train_dir, \"549832738.csv\"))\n",
    "graficar_amp_ply(igual1)"
   ]
  },
  {
   "cell_type": "code",
   "execution_count": null,
   "metadata": {},
   "outputs": [],
   "source": [
    "igual2 = pd.read_csv(path.join(train_dir, \"1049892705.csv\"))\n",
    "graficar_amp_ply(igual2)"
   ]
  },
  {
   "cell_type": "code",
   "execution_count": null,
   "metadata": {},
   "outputs": [],
   "source": [
    "datos_ordenados = datos_train.iloc[datos_train.time_to_eruption.sort_values().index]\n",
    "datos_ordenados.index = range(len(datos_ordenados))\n",
    "datos_ordenados"
   ]
  },
  {
   "cell_type": "code",
   "execution_count": null,
   "metadata": {},
   "outputs": [],
   "source": [
    "def graf(n):\n",
    "    graficar_amp_ply(pd.read_csv(path.join(path_archivos, f\"train/{datos_ordenados.iloc[n,0]}.csv\")))"
   ]
  },
  {
   "cell_type": "code",
   "execution_count": null,
   "metadata": {},
   "outputs": [],
   "source": [
    "graf(1)"
   ]
  },
  {
   "cell_type": "code",
   "execution_count": null,
   "metadata": {},
   "outputs": [],
   "source": [
    "graf(2)"
   ]
  },
  {
   "cell_type": "code",
   "execution_count": null,
   "metadata": {},
   "outputs": [],
   "source": [
    "graf(-1)"
   ]
  },
  {
   "cell_type": "code",
   "execution_count": null,
   "metadata": {},
   "outputs": [],
   "source": [
    "graf(-2)"
   ]
  },
  {
   "cell_type": "code",
   "execution_count": null,
   "metadata": {},
   "outputs": [],
   "source": [
    "graf(-3)"
   ]
  },
  {
   "cell_type": "code",
   "execution_count": null,
   "metadata": {},
   "outputs": [],
   "source": [
    "graf(-4)"
   ]
  }
 ],
 "metadata": {
  "@webio": {
   "lastCommId": null,
   "lastKernelId": null
  },
  "kernelspec": {
   "display_name": "Python 3",
   "language": "python",
   "name": "python3"
  },
  "language_info": {
   "codemirror_mode": {
    "name": "ipython",
    "version": 3
   },
   "file_extension": ".py",
   "mimetype": "text/x-python",
   "name": "python",
   "nbconvert_exporter": "python",
   "pygments_lexer": "ipython3",
   "version": "3.7.9"
  }
 },
 "nbformat": 4,
 "nbformat_minor": 4
}
